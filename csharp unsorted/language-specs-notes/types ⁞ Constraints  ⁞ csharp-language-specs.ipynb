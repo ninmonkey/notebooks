{
 "cells": [
  {
   "cell_type": "code",
   "execution_count": null,
   "metadata": {
    "dotnet_interactive": {
     "language": "pwsh"
    },
    "vscode": {
     "languageId": "dotnet-interactive.pwsh"
    }
   },
   "outputs": [
    {
     "name": "stdout",
     "output_type": "stream",
     "text": [
      "Last Ran: 2022-07-04 14:41:11Z\r\n"
     ]
    }
   ],
   "source": [
    "Get-Date | Join-String -format 'Last Ran: {0:u}'\n"
   ]
  },
  {
   "cell_type": "markdown",
   "metadata": {},
   "source": [
    "<h2 name='nb-top'>Types, Constraints, etc</h2>\n",
    "\n",
    "- new `not nullable` constraint [csharp/Nullable-References](https://docs.microsoft.com/en-us/dotnet/csharp/nullable-references)\n",
    "\n",
    "- [csharp/Where-Generic-Type-Constraint](https://docs.microsoft.com/en-us/dotnet/csharp/language-reference/keywords/where-generic-type-constraint)\n",
    "- [\\[IComparable<T>\\] Interface](https://docs.microsoft.com/en-us/dotnet/api/system.icomparable-1?view=net-6.0)\n",
    "  - [example](https://docs.microsoft.com/en-us/dotnet/api/system.icomparable-1?view=net-6.0#examples)\n",
    "- \n",
    "\n",
    "- https://docs.microsoft.com/en-us/dotnet/csharp/language-reference/builtin-types/struct\n",
    "\n",
    "```cs\n",
    "public class AGenericClass<T> where T : IComparable<T> { }\n",
    "```"
   ]
  }
 ],
 "metadata": {
  "kernelspec": {
   "display_name": ".NET (C#)",
   "language": "C#",
   "name": ".net-csharp"
  },
  "language_info": {
   "file_extension": ".cs",
   "mimetype": "text/x-csharp",
   "name": "C#",
   "pygments_lexer": "csharp",
   "version": "9.0"
  },
  "vscode": {
   "interpreter": {
    "hash": "74c392d937995c80c000e965374d78af3f189f264a4219fb3bb9b9db8f0c4454"
   }
  }
 },
 "nbformat": 4,
 "nbformat_minor": 2
}
