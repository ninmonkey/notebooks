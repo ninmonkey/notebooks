{
 "cells": [
  {
   "attachments": {},
   "cell_type": "markdown",
   "metadata": {},
   "source": [
    "My raw `$Profile` was:\n",
    "\n",
    "| a | a |\n",
    "| - | - |\n",
    "| nteract in VS Code  | 'C:\\Users\\cppmo_000\\SkyDrive\\Documents\\PowerShell\\Microsoft.dotnet-interactive_profile.ps1' |\n"
   ]
  },
  {
   "cell_type": "code",
   "execution_count": 15,
   "metadata": {
    "dotnet_interactive": {
     "language": "pwsh"
    },
    "vscode": {
     "languageId": "dotnet-interactive.pwsh"
    }
   },
   "outputs": [
    {
     "name": "stdout",
     "output_type": "stream",
     "text": [
      "\u001b[91m_to_envVarPathcat: \r\n",
      "\u001b[96mLine |\r\n",
      "\u001b[96m  28 | \u001b[0m $str | \u001b[96m_to_envVarPath'cat'\u001b[0m\r\n",
      "\u001b[96m     | \u001b[91m        ~~~~~~~~~~~~~~~~~~~\r\n",
      "\u001b[91m\u001b[96m     | \u001b[91mThe term '_to_envVarPathcat' is not recognized as a name of a cmdlet, function, script file, or executable program.\r\n",
      "Check the spelling of the name, or if a path was included, verify that the path is correct and try again.\u001b[0m\r\n",
      "\r\n",
      "\u001b[32;1mGuid\u001b[0m\r\n",
      "\u001b[32;1m----\u001b[0m\r\n",
      "56e277f5-d4ec-4992-b09d-71b62bfd55a8\r\n",
      "\r\n",
      "\u001b[32;1mProfile          : \u001b[0mC:\\Users\\cppmo_000\\SkyDrive\\Documents\\PowerShell\\Microsoft.dotnet-interactive_pr\r\n",
      "                   \u001b[32;1m\u001b[0mofile.ps1\r\n",
      "\u001b[32;1mHost.Name        : \u001b[0m.NET Interactive Host\r\n",
      "\u001b[32;1mHost.Version     : \u001b[0m1.0.0\r\n",
      "\u001b[32;1mHost.InstanceId  : \u001b[0m56e277f5-d4ec-4992-b09d-71b62bfd55a8\r\n",
      "\u001b[32;1mHost.PrivateData : \u001b[0mMicrosoft.DotNet.Interactive.PowerShell.Host.ConsoleColorProxy\r\n",
      "\r\n",
      "\r\n"
     ]
    }
   ],
   "source": [
    "function _envLit2 {    \n",
    "    param(\n",
    "        [Parameter(Mandatory)]\n",
    "        [string]$EnvVarName,\n",
    "        [ValidateSet('pwsh', 'win')]\n",
    "        [string]$FormatAs = 'pwsh'\n",
    "    )\n",
    "    write-warning 'finish me later. wasn''t working'\n",
    "    if($FormatAs -eq 'pwsh') { \n",
    "         $EnvVarName| Join-String -op '$Env:' -os ''\n",
    "        Join-String -op '$Env:' -os ''\n",
    "    } else { \n",
    "        $EnvVarName | Join-String -op '%' -os '%' \n",
    "        Join-String -op '%' -os '%' $EnvVarName            \n",
    "\n",
    "    }\n",
    "}\n",
    "function _to_envVarPath { process { \n",
    "    # cleans up, mostly usernames and skydrive\n",
    "    $varFormat = 'pwsh'\n",
    "    # $accum = $_ -replace ([regex]::Escape('C:\\\\Users\\\\cppmo_000\\\\SkyDrive')), '$Env:UserProfile\\'\n",
    "    $accum = $_ -replace ([regex]::Escape('C:\\\\Users\\\\cppmo_000\\\\SkyDrive')), (_envLit 'UserProfile')\n",
    "    $accum = $accum -replace ([regex]::Escape((Gi \"$Env:AppData\"))), (_envLit 'AppData')\n",
    "    $accum = $accum -replace ([regex]::Escape((Gi \"$Env:LocalAppData\"))), '$Env:LocalAppData'\n",
    "    return $Accum\n",
    "} }\n",
    "\n",
    "$str | _to_envVarPath'cat'\n",
    "\n",
    "function _collectEnvInfo { \n",
    "    $meta = [ordered]@{}\n",
    "    $ps_self = Get-Process -pid $PID\n",
    "    [pscustomobject]@{\n",
    "        Profile = $PROFILE\n",
    "        'Host.Name' = $Host.Name\n",
    "        'Host.Version' = $Host.Version\n",
    "        'Host.InstanceId' = $Host.InstanceId\n",
    "        'Host.PrivateData' = $Host.PrivateData.ToString()\n",
    "        'PS.ProcessName' = $ps_self.ProcessName\n",
    "        'PS.ProcessNadme' = $ps_self.\n",
    "        PID = $PID\n",
    "        Self = $ps_self\n",
    "        \n",
    "        # $ps_self.ProcessName\n",
    "    }\n",
    "}\n",
    "\n",
    "    # $host.ui.RawUI | io | ft Name, Reported, Value, Type -AutoSize\n",
    "\n",
    "    # $Host | select name, version\n",
    "\n",
    "\n",
    "# Pwsh> $host.PrivateData.ToString()\n",
    "\n",
    "    # Microsoft.PowerShell.ConsoleHost+ConsoleColorProxy\n",
    "\n",
    "\n",
    "\n",
    "$host.InstanceId\n",
    "_collectEnvInfo -label 'VS Code using nteract powershell'"
   ]
  },
  {
   "cell_type": "code",
   "execution_count": 39,
   "metadata": {
    "dotnet_interactive": {
     "language": "pwsh"
    },
    "vscode": {
     "languageId": "dotnet-interactive.pwsh"
    }
   },
   "outputs": [
    {
     "name": "stdout",
     "output_type": "stream",
     "text": [
      "\u001b[93mWARNING: Resulting JSON is truncated as serialization has exceeded the set depth of 1.\u001b[0m\r\n",
      "[\r\n",
      "  {\r\n",
      "    \"FromWho\": \"self\",\r\n",
      "    \"FromWhere\": \"VsCode.Nteract\",\r\n",
      "    \"ChildDepth\": 0,\r\n",
      "    \"CommandLine\": \"\\\"C:\\\\Program Files\\\\dotnet\\\\dotnet.exe\\\" C:\\\\Users\\\\cppmo_000\\\\.nuget\\\\packages\\\\microsoft.dotnet-interactive\\\\1.0.350406\\\\tools/net6.0/any/Microsoft.DotNet.Interactive.App.dll [vscode] stdio --working-dir c:\\\\Users\\\\cppmo_000\\\\SkyDrive\\\\Documents\\\\2022\\\\My_Github\\\\notebooks\\\\nteract\",\r\n",
      "    \"Company\": \"Microsoft Corporation\",\r\n",
      "    \"Description\": \".NET Host\",\r\n",
      "    \"StartInfo\": null,\r\n",
      "    \"Path\": \"C:\\\\Program Files\\\\dotnet\\\\dotnet.exe\",\r\n",
      "    \"Parent\": \"System.Diagnostics.Process (dotnet)\"\r\n",
      "  },\r\n",
      "  {\r\n",
      "    \"FromWho\": \"self.parent\",\r\n",
      "    \"FromWhere\": \"VsCode.Nteract\",\r\n",
      "    \"ChildDepth\": 1,\r\n",
      "    \"CommandLine\": \"dotnet tool run dotnet-interactive -- [vscode] stdio --working-dir c:\\\\Users\\\\cppmo_000\\\\SkyDrive\\\\Documents\\\\2022\\\\My_Github\\\\notebooks\\\\nteract\",\r\n",
      "    \"Company\": \"Microsoft Corporation\",\r\n",
      "    \"Description\": \".NET Host\",\r\n",
      "    \"StartInfo\": null,\r\n",
      "    \"Path\": \"C:\\\\Program Files\\\\dotnet\\\\dotnet.exe\",\r\n",
      "    \"Parent\": \"System.Diagnostics.Process (Code)\"\r\n",
      "  },\r\n",
      "  {\r\n",
      "    \"FromWho\": \"self.parent.parent\",\r\n",
      "    \"FromWhere\": \"VsCode.Nteract\",\r\n",
      "    \"ChildDepth\": 2,\r\n",
      "    \"CommandLine\": \"\\\"C:\\\\Program Files\\\\Microsoft VS Code\\\\Code.exe\\\" --ms-enable-electron-run-as-node --inspect-port=0 \\\"c:\\\\Program Files\\\\Microsoft VS Code\\\\resources\\\\app\\\\out\\\\bootstrap-fork\\\" --type=extensionHost --skipWorkspaceStorageLock\",\r\n",
      "    \"Company\": \"Microsoft Corporation\",\r\n",
      "    \"Description\": \"Visual Studio Code\",\r\n",
      "    \"StartInfo\": null,\r\n",
      "    \"Path\": \"C:\\\\Program Files\\\\Microsoft VS Code\\\\Code.exe\",\r\n",
      "    \"Parent\": \"System.Diagnostics.Process (Code)\"\r\n",
      "  }\r\n",
      "]\r\n"
     ]
    }
   ],
   "source": [
    "function _dbg.collectPsInfo {\n",
    "    param(\n",
    "        [Parameter(Mandatory)]\n",
    "        [ArgumentCompletions('WindowsTerminal', 'VsCode.Native', 'VsCode.Extension', 'VsCode.Nteract', 'VsCode.Jupyter')]\n",
    "        [string]$WhereLabel\n",
    "    )\n",
    "    $ps_self = Get-Process -Id $Pid\n",
    "    @(\n",
    "        $splatPs = @{  Force = $true; PassThru = $true ; EA = 'ignore' }\n",
    "\n",
    "        # $WhereName = 'Code.PwshExtension'\n",
    "        # $WhereName = 'Code.Native'\n",
    "        # $WhereName = 'WindowsTerminal'\n",
    "        $ps_self\n",
    "        | Add-Member @splatPS -NotePropertyMembers @{\n",
    "            FromWhere = $WhereLabel\n",
    "            FromWho = 'self'\n",
    "            ChildDepth = 0\n",
    "        }\n",
    "\n",
    "        $ps_self.Parent\n",
    "        | Add-Member @splatPS -NotePropertyMembers @{\n",
    "            FromWhere = $WhereLabel\n",
    "            FromWho = 'self.parent'\n",
    "            ChildDepth = 1\n",
    "        }\n",
    "        $ps_self.Parent.Parent\n",
    "        | Add-Member @splatPS -NotePropertyMembers @{\n",
    "            FromWhere = $WhereLabel\n",
    "            FromWho = 'self.parent.parent'\n",
    "            ChildDepth = 2\n",
    "        }\n",
    "\n",
    "    ) | Select-Object -ea ignore FromWho, FromWhere, ChildDepth, *commandLine*, *company*, *desc*, *info*, *path*, *parent*, *child*\n",
    "    | ConvertTo-Json -Depth 1\n",
    "}\n",
    "_dbg.collectPsInfo 'VsCode.Nteract'"
   ]
  },
  {
   "attachments": {},
   "cell_type": "markdown",
   "metadata": {},
   "source": [
    "### `WindowsTerminal`\n",
    "\n",
    "```ps1\n",
    "Pwsh> _dbg.collectPsInfo 'WindowsTerminal'\n",
    "```\n",
    "```json\n",
    "[\n",
    "  {\n",
    "    \"FromWho\": \"self\",\n",
    "    \"FromWhere\": \"WindowsTerminal\",\n",
    "    \"ChildDepth\": 0,\n",
    "    \"CommandLine\": \"pwsh.exe -nol\",\n",
    "    \"Company\": \"Microsoft Corporation\",\n",
    "    \"Description\": \"pwsh\",\n",
    "    \"StartInfo\": null,\n",
    "    \"Path\": \"C:\\\\Program Files\\\\PowerShell\\\\7\\\\pwsh.exe\",\n",
    "    \"Parent\": \"System.Diagnostics.Process (WindowsTerminal)\"\n",
    "  },\n",
    "  {\n",
    "    \"FromWho\": \"self.parent\",\n",
    "    \"FromWhere\": \"WindowsTerminal\",\n",
    "    \"ChildDepth\": 1,\n",
    "    \"CommandLine\": \"\\\"C:\\\\Program Files\\\\WindowsApps\\\\Microsoft.WindowsTerminalPreview_1.16.2641.0_x64__8wekyb3d8bbwe\\\\WindowsTerminal.exe\\\" \",\n",
    "    \"Company\": \"Microsoft Corporation\",\n",
    "    \"Description\": \"WindowsTerminal.exe\",\n",
    "    \"StartInfo\": null,\n",
    "    \"Path\": \"C:\\\\Program Files\\\\WindowsApps\\\\Microsoft.WindowsTerminalPreview_1.16.2641.0_x64__8wekyb3d8bbwe\\\\WindowsTerminal.exe\",\n",
    "    \"Parent\": \"System.Diagnostics.Process (explorer)\"\n",
    "  },\n",
    "  {\n",
    "    \"FromWho\": \"self.parent.parent\",\n",
    "    \"FromWhere\": \"WindowsTerminal\",\n",
    "    \"ChildDepth\": 2,\n",
    "    \"CommandLine\": \"C:\\\\WINDOWS\\\\Explorer.EXE\",\n",
    "    \"Company\": \"Microsoft Corporation\",\n",
    "    \"Description\": \"Windows Explorer\",\n",
    "    \"StartInfo\": null,\n",
    "    \"Path\": \"C:\\\\WINDOWS\\\\Explorer.EXE\",\n",
    "    \"Parent\": \"System.Diagnostics.Process\"\n",
    "  }\n",
    "]\n",
    "```\n",
    "\n",
    "### `VsCode.Nteract`\n",
    "\n",
    "```ps1\n",
    "Pwsh> _dbg.collectPsInfo 'VsCode.Nteract'\n",
    "```\n",
    "\n",
    "```json\n",
    "[\n",
    "  {\n",
    "    \"FromWho\": \"self\",\n",
    "    \"FromWhere\": \"VsCode.Nteract\",\n",
    "    \"ChildDepth\": 0,\n",
    "    \"CommandLine\": \"\\\"C:\\\\Program Files\\\\dotnet\\\\dotnet.exe\\\" C:\\\\Users\\\\cppmo_000\\\\.nuget\\\\packages\\\\microsoft.dotnet-interactive\\\\1.0.350406\\\\tools/net6.0/any/Microsoft.DotNet.Interactive.App.dll [vscode] stdio --working-dir c:\\\\Users\\\\cppmo_000\\\\SkyDrive\\\\Documents\\\\2022\\\\My_Github\\\\notebooks\\\\nteract\",\n",
    "    \"Company\": \"Microsoft Corporation\",\n",
    "    \"Description\": \".NET Host\",\n",
    "    \"StartInfo\": null,\n",
    "    \"Path\": \"C:\\\\Program Files\\\\dotnet\\\\dotnet.exe\",\n",
    "    \"Parent\": \"System.Diagnostics.Process (dotnet)\"\n",
    "  },\n",
    "  {\n",
    "    \"FromWho\": \"self.parent\",\n",
    "    \"FromWhere\": \"VsCode.Nteract\",\n",
    "    \"ChildDepth\": 1,\n",
    "    \"CommandLine\": \"dotnet tool run dotnet-interactive -- [vscode] stdio --working-dir c:\\\\Users\\\\cppmo_000\\\\SkyDrive\\\\Documents\\\\2022\\\\My_Github\\\\notebooks\\\\nteract\",\n",
    "    \"Company\": \"Microsoft Corporation\",\n",
    "    \"Description\": \".NET Host\",\n",
    "    \"StartInfo\": null,\n",
    "    \"Path\": \"C:\\\\Program Files\\\\dotnet\\\\dotnet.exe\",\n",
    "    \"Parent\": \"System.Diagnostics.Process (Code)\"\n",
    "  },\n",
    "  {\n",
    "    \"FromWho\": \"self.parent.parent\",\n",
    "    \"FromWhere\": \"VsCode.Nteract\",\n",
    "    \"ChildDepth\": 2,\n",
    "    \"CommandLine\": \"\\\"C:\\\\Program Files\\\\Microsoft VS Code\\\\Code.exe\\\" --ms-enable-electron-run-as-node --inspect-port=0 \\\"c:\\\\Program Files\\\\Microsoft VS Code\\\\resources\\\\app\\\\out\\\\bootstrap-fork\\\" --type=extensionHost --skipWorkspaceStorageLock\",\n",
    "    \"Company\": \"Microsoft Corporation\",\n",
    "    \"Description\": \"Visual Studio Code\",\n",
    "    \"StartInfo\": null,\n",
    "    \"Path\": \"C:\\\\Program Files\\\\Microsoft VS Code\\\\Code.exe\",\n",
    "    \"Parent\": \"System.Diagnostics.Process (Code)\"\n",
    "  }\n",
    "]\n",
    "```"
   ]
  },
  {
   "attachments": {},
   "cell_type": "markdown",
   "metadata": {},
   "source": []
  },
  {
   "attachments": {},
   "cell_type": "markdown",
   "metadata": {},
   "source": [
    "## Part1 From windows terminal \n",
    "```json\n",
    "[\n",
    "  {\n",
    "    \"Name\": \"AllUsersAllHosts\",\n",
    "    \"Value\": \"C:\\\\Program Files\\\\PowerShell\\\\7\\\\profile.ps1\"\n",
    "  },\n",
    "  {\n",
    "    \"Name\": \"AllUsersCurrentHost\",\n",
    "    \"Value\": \"C:\\\\Program Files\\\\PowerShell\\\\7\\\\Microsoft.PowerShell_profile.ps1\"\n",
    "  },\n",
    "  {\n",
    "    \"Name\": \"CurrentUserAllHosts\",\n",
    "    \"Value\": \"$Env:UserProfile\\\\\\Documents\\\\PowerShell\\\\profile.ps1\"\n",
    "  },\n",
    "  {\n",
    "    \"Name\": \"CurrentUserCurrentHost\",\n",
    "    \"Value\": \"$Env:UserProfile\\\\\\Documents\\\\PowerShell\\\\Microsoft.PowerShell_profile.ps1\"\n",
    "  }\n",
    "]\n",
    "```\n",
    "```ps1\n",
    "Pwsh> $Host | select name, version\n",
    "\n",
    "Name        Version\n",
    "----        -------\n",
    "ConsoleHost 7.2.6\n",
    "\n",
    "Pwsh> $host.PrivateData.ToString()\n",
    "\n",
    "    Microsoft.PowerShell.ConsoleHost+ConsoleColorProxy\n",
    "\n",
    "Pwsh> $ps_self | select *commandLine*, *company*, *desc*, *info*, *path*, *parent*, *child*\n",
    "\n",
    "CommandLine : pwsh.exe -nol\n",
    "Company     : Microsoft Corporation\n",
    "Description : pwsh\n",
    "StartInfo   :\n",
    "Path        : C:\\Program Files\\PowerShell\\7\\pwsh.exe\n",
    "Parent      : System.Diagnostics.Process (WindowsTerminal)\n",
    "```\n",
    "```\n",
    "Pwsh> $ps_self.parent | select *commandLine*, *company*, *desc*, *info*, *path*, *parent*, *child*\n",
    "\n",
    "CommandLine : \"C:\\Program\n",
    "              Files\\WindowsApps\\Microsoft.WindowsTerminalPreview_1.16.2641.0_x64__8wekyb3d8bbwe\\WindowsTerminal.exe\"\n",
    "Company     : Microsoft Corporation\n",
    "Description : WindowsTerminal.exe\n",
    "StartInfo   :\n",
    "Path        : C:\\Program\n",
    "              Files\\WindowsApps\\Microsoft.WindowsTerminalPreview_1.16.2641.0_x64__8wekyb3d8bbwe\\WindowsTerminal.exe\n",
    "Parent      : System.Diagnostics.Process (explorer)\n",
    "```\n"
   ]
  },
  {
   "attachments": {},
   "cell_type": "markdown",
   "metadata": {},
   "source": [
    "## Part 2 From dotnet interactive .ipynb cell\n",
    "```json\n",
    "[\n",
    "  {\n",
    "    \"Name\": \"AllUsersCurrentHost\",\n",
    "    \"Value\": \"C:\\\\Users\\\\cppmo_000\\\\.nuget\\\\packages\\\\microsoft.dotnet-interactive\\\\1.0.350406\\\\tools\\\\net6.0\\\\any\\\\runtimes\\\\win\\\\lib\\\\net6.0\\\\Microsoft.dotnet-interactive_profile.ps1\"\n",
    "  },\n",
    "  {\n",
    "    \"Name\": \"CurrentUserCurrentHost\",\n",
    "    \"Value\": \"$Env:UserProfile\\\\\\Documents\\\\PowerShell\\\\Microsoft.dotnet-interactive_profile.ps1\"\n",
    "  }\n",
    "]\n",
    "```\n",
    "```ps1\n",
    "# nteract .ipynb cell\n",
    "Pwsh> $Host | select name, version\n",
    "\n",
    "    Name                  Version\n",
    "    ----                  -------\n",
    "    .NET Interactive Host 1.0.0\n",
    "\n",
    "$Host.PrivateData.ToString()\n",
    "\n",
    "    Microsoft.DotNet.Interactive.PowerShell.Host.ConsoleColorProxy\n",
    "```\n",
    "```yml\n",
    "CommandLine : \"C:\\Program Files\\dotnet\\dotnet.exe\" C:\\Users\\cppmo_000\\.nuget\\packages\\microsoft.dot\n",
    "              net-interactive\\1.0.350406\\tools/net6.0/any/Microsoft.DotNet.Interactive.App.dll \n",
    "              [vscode] stdio --working-dir \n",
    "              c:\\Users\\cppmo_000\\SkyDrive\\Documents\\2022\\My_Github\\notebooks\\nteract\n",
    "Company     : Microsoft Corporation\n",
    "Description : .NET Host\n",
    "StartInfo   : \n",
    "Path        : C:\\Program Files\\dotnet\\dotnet.exe\n",
    "Parent      : System.Diagnostics.Process (dotnet)\n",
    "````\n"
   ]
  },
  {
   "cell_type": "code",
   "execution_count": 14,
   "metadata": {
    "dotnet_interactive": {
     "language": "pwsh"
    },
    "vscode": {
     "languageId": "dotnet-interactive.pwsh"
    }
   },
   "outputs": [
    {
     "name": "stdout",
     "output_type": "stream",
     "text": [
      "[\r\n",
      "  {\r\n",
      "    \"Name\": \"AllUsersCurrentHost\",\r\n",
      "    \"Value\": \"C:\\\\Users\\\\cppmo_000\\\\.nuget\\\\packages\\\\microsoft.dotnet-interactive\\\\1.0.350406\\\\tools\\\\net6.0\\\\any\\\\runtimes\\\\win\\\\lib\\\\net6.0\\\\Microsoft.dotnet-interactive_profile.ps1\"\r\n",
      "  },\r\n",
      "  {\r\n",
      "    \"Name\": \"CurrentUserCurrentHost\",\r\n",
      "    \"Value\": \"$Env:UserProfile\\\\\\Documents\\\\PowerShell\\\\Microsoft.dotnet-interactive_profile.ps1\"\r\n",
      "  }\r\n",
      "]\r\n"
     ]
    }
   ],
   "source": [
    "($PROFILE.psobject.properties\n",
    "| ? Name -match 'All|curr'\n",
    "| select Name, Value | ConvertTo-Json) -replace ([regex]::Escape('C:\\\\Users\\\\cppmo_000\\\\SkyDrive')), '$Env:UserProfile\\'"
   ]
  },
  {
   "attachments": {},
   "cell_type": "markdown",
   "metadata": {},
   "source": [
    "ls . "
   ]
  },
  {
   "cell_type": "code",
   "execution_count": 19,
   "metadata": {
    "dotnet_interactive": {
     "language": "pwsh"
    },
    "vscode": {
     "languageId": "dotnet-interactive.pwsh"
    }
   },
   "outputs": [
    {
     "name": "stdout",
     "output_type": "stream",
     "text": [
      "\r\n",
      "\u001b[32;1mName             : \u001b[0m.NET Interactive Host\r\n",
      "\u001b[32;1mVersion          : \u001b[0m1.0.0\r\n",
      "\u001b[32;1mInstanceId       : \u001b[0m56e277f5-d4ec-4992-b09d-71b62bfd55a8\r\n",
      "\u001b[32;1mUI               : \u001b[0mSystem.Management.Automation.Internal.Host.InternalHostUserInterface\r\n",
      "\u001b[32;1mCurrentCulture   : \u001b[0men-US\r\n",
      "\u001b[32;1mCurrentUICulture : \u001b[0men-US\r\n",
      "\u001b[32;1mPrivateData      : \u001b[0mMicrosoft.DotNet.Interactive.PowerShell.Host.ConsoleColorProxy\r\n",
      "\u001b[32;1mDebuggerEnabled  : \u001b[0mTrue\r\n",
      "\u001b[32;1mIsRunspacePushed : \u001b[0mFalse\r\n",
      "\u001b[32;1mRunspace         : \u001b[0m\r\n",
      "\r\n",
      "Microsoft.DotNet.Interactive.PowerShell.Host.ConsoleColorProxy\r\n",
      "\r\n",
      "\r\n",
      "\u001b[32;1mName                  Reported Value Type\u001b[0m\r\n",
      "\u001b[32;1m----                  -------- ----- ----\u001b[0m\r\n",
      "ReadKey                              \r\n",
      "FlushInputBuffer                     \r\n",
      "SetBufferContents                    \r\n",
      "SetBufferContents                    \r\n",
      "GetBufferContents                    \r\n",
      "ScrollBufferContents                 \r\n",
      "LengthInBufferCells                  \r\n",
      "LengthInBufferCells                  \r\n",
      "LengthInBufferCells                  \r\n",
      "ReadKey                              \r\n",
      "NewBufferCellArray                   \r\n",
      "NewBufferCellArray                   \r\n",
      "NewBufferCellArray                   \r\n",
      "ForegroundColor                      \r\n",
      "BackgroundColor                      \r\n",
      "CursorPosition                       \r\n",
      "WindowPosition                       \r\n",
      "CursorSize                           \r\n",
      "BufferSize                           \r\n",
      "WindowSize                           \r\n",
      "MaxWindowSize                        \r\n",
      "MaxPhysicalWindowSize                \r\n",
      "KeyAvailable                         \r\n",
      "WindowTitle                          \r\n",
      "\r\n"
     ]
    }
   ],
   "source": [
    "$host.ui.RawUI.WindowTitle\n",
    "$HOST\n",
    "$host.PrivateData.ToString()\n",
    "$host.ui.RawUI | ClassExplorer\\Find-member | ft Name, Reported, Value, Type -AutoSize"
   ]
  },
  {
   "cell_type": "code",
   "execution_count": 29,
   "metadata": {
    "dotnet_interactive": {
     "language": "pwsh"
    },
    "vscode": {
     "languageId": "dotnet-interactive.pwsh"
    }
   },
   "outputs": [
    {
     "name": "stdout",
     "output_type": "stream",
     "text": [
      "\r\n",
      "\u001b[32;1mForegroundColor       : \u001b[0m-1\r\n",
      "\u001b[32;1mBackgroundColor       : \u001b[0m-1\r\n",
      "\u001b[32;1mCursorPosition        : \u001b[0m\r\n",
      "\u001b[32;1mWindowPosition        : \u001b[0m\r\n",
      "\u001b[32;1mCursorSize            : \u001b[0m\r\n",
      "\u001b[32;1mBufferSize            : \u001b[0m100,50\r\n",
      "\u001b[32;1mWindowSize            : \u001b[0m100,50\r\n",
      "\u001b[32;1mMaxWindowSize         : \u001b[0m100,50\r\n",
      "\u001b[32;1mMaxPhysicalWindowSize : \u001b[0m100,50\r\n",
      "\u001b[32;1mKeyAvailable          : \u001b[0m\r\n",
      "\u001b[32;1mWindowTitle           : \u001b[0m\r\n",
      "\r\n",
      "\u001b[32;1mRawUI                   : \u001b[0mSystem.Management.Automation.Internal.Host.InternalHostRawUserInterface\r\n",
      "\u001b[32;1mSupportsVirtualTerminal : \u001b[0mTrue\r\n",
      "\r\n",
      "\u001b[32;1mWindowPosition        : \u001b[0m\r\n",
      "\u001b[32;1mWindowSize            : \u001b[0m100,50\r\n",
      "\u001b[32;1mMaxWindowSize         : \u001b[0m100,50\r\n",
      "\u001b[32;1mMaxPhysicalWindowSize : \u001b[0m100,50\r\n",
      "\u001b[32;1mWindowTitle           : \u001b[0m\r\n",
      "\r\n",
      "\r\n"
     ]
    }
   ],
   "source": [
    "$host.ui.RawUI\n",
    "$host.ui\n",
    "\n",
    "$host.ui.RawUI | select *window*\n",
    "$host.ui.RawUI.WindowTitle # blank in nteract"
   ]
  },
  {
   "cell_type": "code",
   "execution_count": 34,
   "metadata": {
    "dotnet_interactive": {
     "language": "pwsh"
    },
    "vscode": {
     "languageId": "dotnet-interactive.pwsh"
    }
   },
   "outputs": [
    {
     "name": "stdout",
     "output_type": "stream",
     "text": [
      "dotnet\r\n",
      "\r\n",
      "\u001b[32;1mCommandLine : \u001b[0m\"C:\\Program Files\\dotnet\\dotnet.exe\" C:\\Users\\cppmo_000\\.nuget\\packages\\microsoft.dot\r\n",
      "              \u001b[32;1m\u001b[0mnet-interactive\\1.0.350406\\tools/net6.0/any/Microsoft.DotNet.Interactive.App.dll \r\n",
      "              \u001b[32;1m\u001b[0m[vscode] stdio --working-dir \r\n",
      "              \u001b[32;1m\u001b[0mc:\\Users\\cppmo_000\\SkyDrive\\Documents\\2022\\My_Github\\notebooks\\nteract\r\n",
      "\u001b[32;1mCompany     : \u001b[0mMicrosoft Corporation\r\n",
      "\u001b[32;1mDescription : \u001b[0m.NET Host\r\n",
      "\u001b[32;1mStartInfo   : \u001b[0m\r\n",
      "\u001b[32;1mPath        : \u001b[0mC:\\Program Files\\dotnet\\dotnet.exe\r\n",
      "\u001b[32;1mParent      : \u001b[0mSystem.Diagnostics.Process (dotnet)\r\n",
      "\r\n",
      "\u001b[32;1mCommandLine : \u001b[0mdotnet tool run dotnet-interactive -- [vscode] stdio --working-dir \r\n",
      "              \u001b[32;1m\u001b[0mc:\\Users\\cppmo_000\\SkyDrive\\Documents\\2022\\My_Github\\notebooks\\nteract\r\n",
      "\u001b[32;1mCompany     : \u001b[0mMicrosoft Corporation\r\n",
      "\u001b[32;1mDescription : \u001b[0m.NET Host\r\n",
      "\u001b[32;1mStartInfo   : \u001b[0m\r\n",
      "\u001b[32;1mPath        : \u001b[0mC:\\Program Files\\dotnet\\dotnet.exe\r\n",
      "\u001b[32;1mParent      : \u001b[0mSystem.Diagnostics.Process (Code)\r\n",
      "\r\n",
      "\r\n"
     ]
    }
   ],
   "source": [
    "$ps_self = Get-Process -id $Pid\n",
    "$ps_self.ProcessName\n",
    "$ps_self | select *commandLine*, *company*, *desc*, *info*, *path*, *parent*, *child*\n",
    "\n",
    "$ps_self.parent | select *commandLine*, *company*, *desc*, *info*, *path*, *parent*, *child*\n",
    "\n",
    "$ps_self = get-process -id $Pid\n",
    "@(\n",
    "   $ps_self\n",
    "   | Add-Member -NotePropertyName 'From' -NotePropertyValue 'WindowsTerminal' -ea ignore -PassThru -Force\n",
    "   $ps_self.parent\n",
    "   | Add-Member -NotePropertyName 'From' -NotePropertyValue 'WindowsTerminal' -ea ignore -PassThru -Force\n",
    ") | select *commandLine*, *company*, *desc*, *info*, *path*, *parent*, *child*\n",
    "| COnverto-Json -depth 5"
   ]
  }
 ],
 "metadata": {
  "kernelspec": {
   "display_name": ".NET (PowerShell)",
   "language": "PowerShell",
   "name": ".net-pwsh"
  },
  "language_info": {
   "name": "PowerShell"
  }
 },
 "nbformat": 4,
 "nbformat_minor": 2
}
