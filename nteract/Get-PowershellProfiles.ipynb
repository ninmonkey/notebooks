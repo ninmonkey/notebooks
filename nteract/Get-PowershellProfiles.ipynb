{
 "cells": [
  {
   "attachments": {},
   "cell_type": "markdown",
   "metadata": {},
   "source": [
    "My raw `$Profile` was:\n",
    "\n",
    "| a | a |\n",
    "| - | - |\n",
    "| nteract in VS Code  | 'C:\\Users\\cppmo_000\\SkyDrive\\Documents\\PowerShell\\Microsoft.dotnet-interactive_profile.ps1' |\n"
   ]
  },
  {
   "cell_type": "code",
   "execution_count": null,
   "metadata": {
    "dotnet_interactive": {
     "language": "pwsh"
    },
    "vscode": {
     "languageId": "polyglot-notebook"
    }
   },
   "outputs": [],
   "source": [
    "function _envLit2 {    \n",
    "    param(\n",
    "        [Parameter(Mandatory)]\n",
    "        [string]$EnvVarName,\n",
    "        [ValidateSet('pwsh', 'win')]\n",
    "        [string]$FormatAs = 'pwsh'\n",
    "    )\n",
    "    write-warning 'finish me later. wasn''t working'\n",
    "    if($FormatAs -eq 'pwsh') { \n",
    "         $EnvVarName| Join-String -op '$Env:' -os ''\n",
    "        Join-String -op '$Env:' -os ''\n",
    "    } else { \n",
    "        $EnvVarName | Join-String -op '%' -os '%' \n",
    "        Join-String -op '%' -os '%' $EnvVarName            \n",
    "\n",
    "    }\n",
    "}\n",
    "function _to_envVarPath { process { \n",
    "    # cleans up, mostly usernames and skydrive\n",
    "    $varFormat = 'pwsh'\n",
    "    # $accum = $_ -replace ([regex]::Escape('C:\\\\Users\\\\cppmo_000\\\\SkyDrive')), '$Env:UserProfile\\'\n",
    "    $accum = $_ -replace ([regex]::Escape('C:\\\\Users\\\\cppmo_000\\\\SkyDrive')), (_envLit 'UserProfile')\n",
    "    $accum = $accum -replace ([regex]::Escape((Gi \"$Env:AppData\"))), (_envLit 'AppData')\n",
    "    $accum = $accum -replace ([regex]::Escape((Gi \"$Env:LocalAppData\"))), '$Env:LocalAppData'\n",
    "    return $Accum\n",
    "} }\n",
    "\n",
    "$str | _to_envVarPath'cat'\n",
    "\n",
    "function _collectEnvInfo { \n",
    "    $meta = [ordered]@{}\n",
    "    $ps_self = Get-Process -pid $PID\n",
    "    [pscustomobject]@{\n",
    "        Profile = $PROFILE\n",
    "        'Host.Name' = $Host.Name\n",
    "        'Host.Version' = $Host.Version\n",
    "        'Host.InstanceId' = $Host.InstanceId\n",
    "        'Host.PrivateData' = $Host.PrivateData.ToString()\n",
    "        'PS.ProcessName' = $ps_self.ProcessName\n",
    "        'PS.ProcessNadme' = $ps_self.\n",
    "        PID = $PID\n",
    "        Self = $ps_self\n",
    "        \n",
    "        # $ps_self.ProcessName\n",
    "    }\n",
    "}\n",
    "\n",
    "    # $host.ui.RawUI | io | ft Name, Reported, Value, Type -AutoSize\n",
    "\n",
    "    # $Host | select name, version\n",
    "\n",
    "\n",
    "# Pwsh> $host.PrivateData.ToString()\n",
    "\n",
    "    # Microsoft.PowerShell.ConsoleHost+ConsoleColorProxy\n",
    "\n",
    "\n",
    "\n",
    "$host.InstanceId\n",
    "_collectEnvInfo -label 'VS Code using nteract powershell'"
   ]
  },
  {
   "cell_type": "code",
   "execution_count": null,
   "metadata": {
    "dotnet_interactive": {
     "language": "pwsh"
    },
    "vscode": {
     "languageId": "polyglot-notebook"
    }
   },
   "outputs": [],
   "source": [
    "function _dbg.collectPsInfo {\n",
    "    param(\n",
    "        [Parameter(Mandatory)]\n",
    "        [ArgumentCompletions('WindowsTerminal', 'VsCode.Native', 'VsCode.Extension', 'VsCode.Nteract', 'VsCode.Jupyter')]\n",
    "        [string]$WhereLabel\n",
    "    )\n",
    "    $ps_self = Get-Process -Id $Pid\n",
    "    @(\n",
    "        $splatPs = @{  Force = $true; PassThru = $true ; EA = 'ignore' }\n",
    "\n",
    "        # $WhereName = 'Code.PwshExtension'\n",
    "        # $WhereName = 'Code.Native'\n",
    "        # $WhereName = 'WindowsTerminal'\n",
    "        $ps_self\n",
    "        | Add-Member @splatPS -NotePropertyMembers @{\n",
    "            FromWhere = $WhereLabel\n",
    "            FromWho = 'self'\n",
    "            ChildDepth = 0\n",
    "        }\n",
    "\n",
    "        $ps_self.Parent\n",
    "        | Add-Member @splatPS -NotePropertyMembers @{\n",
    "            FromWhere = $WhereLabel\n",
    "            FromWho = 'self.parent'\n",
    "            ChildDepth = 1\n",
    "        }\n",
    "        $ps_self.Parent.Parent\n",
    "        | Add-Member @splatPS -NotePropertyMembers @{\n",
    "            FromWhere = $WhereLabel\n",
    "            FromWho = 'self.parent.parent'\n",
    "            ChildDepth = 2\n",
    "        }\n",
    "\n",
    "    ) | Select-Object -ea ignore FromWho, FromWhere, ChildDepth, *commandLine*, *company*, *desc*, *info*, *path*, *parent*, *child*\n",
    "    | ConvertTo-Json -Depth 1\n",
    "}\n",
    "_dbg.collectPsInfo 'VsCode.Nteract'"
   ]
  },
  {
   "attachments": {},
   "cell_type": "markdown",
   "metadata": {},
   "source": [
    "### `WindowsTerminal`\n",
    "\n",
    "```ps1\n",
    "Pwsh> _dbg.collectPsInfo 'WindowsTerminal'\n",
    "```\n",
    "```json\n",
    "[\n",
    "  {\n",
    "    \"FromWho\": \"self\",\n",
    "    \"FromWhere\": \"WindowsTerminal\",\n",
    "    \"ChildDepth\": 0,\n",
    "    \"CommandLine\": \"pwsh.exe -nol\",\n",
    "    \"Company\": \"Microsoft Corporation\",\n",
    "    \"Description\": \"pwsh\",\n",
    "    \"StartInfo\": null,\n",
    "    \"Path\": \"C:\\\\Program Files\\\\PowerShell\\\\7\\\\pwsh.exe\",\n",
    "    \"Parent\": \"System.Diagnostics.Process (WindowsTerminal)\"\n",
    "  },\n",
    "  {\n",
    "    \"FromWho\": \"self.parent\",\n",
    "    \"FromWhere\": \"WindowsTerminal\",\n",
    "    \"ChildDepth\": 1,\n",
    "    \"CommandLine\": \"\\\"C:\\\\Program Files\\\\WindowsApps\\\\Microsoft.WindowsTerminalPreview_1.16.2641.0_x64__8wekyb3d8bbwe\\\\WindowsTerminal.exe\\\" \",\n",
    "    \"Company\": \"Microsoft Corporation\",\n",
    "    \"Description\": \"WindowsTerminal.exe\",\n",
    "    \"StartInfo\": null,\n",
    "    \"Path\": \"C:\\\\Program Files\\\\WindowsApps\\\\Microsoft.WindowsTerminalPreview_1.16.2641.0_x64__8wekyb3d8bbwe\\\\WindowsTerminal.exe\",\n",
    "    \"Parent\": \"System.Diagnostics.Process (explorer)\"\n",
    "  },\n",
    "  {\n",
    "    \"FromWho\": \"self.parent.parent\",\n",
    "    \"FromWhere\": \"WindowsTerminal\",\n",
    "    \"ChildDepth\": 2,\n",
    "    \"CommandLine\": \"C:\\\\WINDOWS\\\\Explorer.EXE\",\n",
    "    \"Company\": \"Microsoft Corporation\",\n",
    "    \"Description\": \"Windows Explorer\",\n",
    "    \"StartInfo\": null,\n",
    "    \"Path\": \"C:\\\\WINDOWS\\\\Explorer.EXE\",\n",
    "    \"Parent\": \"System.Diagnostics.Process\"\n",
    "  }\n",
    "]\n",
    "```\n",
    "\n",
    "### `VsCode.Nteract`\n",
    "\n",
    "```ps1\n",
    "Pwsh> _dbg.collectPsInfo 'VsCode.Nteract'\n",
    "```\n",
    "\n",
    "```json\n",
    "[\n",
    "  {\n",
    "    \"FromWho\": \"self\",\n",
    "    \"FromWhere\": \"VsCode.Nteract\",\n",
    "    \"ChildDepth\": 0,\n",
    "    \"CommandLine\": \"\\\"C:\\\\Program Files\\\\dotnet\\\\dotnet.exe\\\" C:\\\\Users\\\\cppmo_000\\\\.nuget\\\\packages\\\\microsoft.dotnet-interactive\\\\1.0.350406\\\\tools/net6.0/any/Microsoft.DotNet.Interactive.App.dll [vscode] stdio --working-dir c:\\\\Users\\\\cppmo_000\\\\SkyDrive\\\\Documents\\\\2022\\\\My_Github\\\\notebooks\\\\nteract\",\n",
    "    \"Company\": \"Microsoft Corporation\",\n",
    "    \"Description\": \".NET Host\",\n",
    "    \"StartInfo\": null,\n",
    "    \"Path\": \"C:\\\\Program Files\\\\dotnet\\\\dotnet.exe\",\n",
    "    \"Parent\": \"System.Diagnostics.Process (dotnet)\"\n",
    "  },\n",
    "  {\n",
    "    \"FromWho\": \"self.parent\",\n",
    "    \"FromWhere\": \"VsCode.Nteract\",\n",
    "    \"ChildDepth\": 1,\n",
    "    \"CommandLine\": \"dotnet tool run dotnet-interactive -- [vscode] stdio --working-dir c:\\\\Users\\\\cppmo_000\\\\SkyDrive\\\\Documents\\\\2022\\\\My_Github\\\\notebooks\\\\nteract\",\n",
    "    \"Company\": \"Microsoft Corporation\",\n",
    "    \"Description\": \".NET Host\",\n",
    "    \"StartInfo\": null,\n",
    "    \"Path\": \"C:\\\\Program Files\\\\dotnet\\\\dotnet.exe\",\n",
    "    \"Parent\": \"System.Diagnostics.Process (Code)\"\n",
    "  },\n",
    "  {\n",
    "    \"FromWho\": \"self.parent.parent\",\n",
    "    \"FromWhere\": \"VsCode.Nteract\",\n",
    "    \"ChildDepth\": 2,\n",
    "    \"CommandLine\": \"\\\"C:\\\\Program Files\\\\Microsoft VS Code\\\\Code.exe\\\" --ms-enable-electron-run-as-node --inspect-port=0 \\\"c:\\\\Program Files\\\\Microsoft VS Code\\\\resources\\\\app\\\\out\\\\bootstrap-fork\\\" --type=extensionHost --skipWorkspaceStorageLock\",\n",
    "    \"Company\": \"Microsoft Corporation\",\n",
    "    \"Description\": \"Visual Studio Code\",\n",
    "    \"StartInfo\": null,\n",
    "    \"Path\": \"C:\\\\Program Files\\\\Microsoft VS Code\\\\Code.exe\",\n",
    "    \"Parent\": \"System.Diagnostics.Process (Code)\"\n",
    "  }\n",
    "]\n",
    "```"
   ]
  },
  {
   "attachments": {},
   "cell_type": "markdown",
   "metadata": {},
   "source": []
  },
  {
   "attachments": {},
   "cell_type": "markdown",
   "metadata": {},
   "source": [
    "## Part1 From windows terminal \n",
    "```json\n",
    "[\n",
    "  {\n",
    "    \"Name\": \"AllUsersAllHosts\",\n",
    "    \"Value\": \"C:\\\\Program Files\\\\PowerShell\\\\7\\\\profile.ps1\"\n",
    "  },\n",
    "  {\n",
    "    \"Name\": \"AllUsersCurrentHost\",\n",
    "    \"Value\": \"C:\\\\Program Files\\\\PowerShell\\\\7\\\\Microsoft.PowerShell_profile.ps1\"\n",
    "  },\n",
    "  {\n",
    "    \"Name\": \"CurrentUserAllHosts\",\n",
    "    \"Value\": \"$Env:UserProfile\\\\\\Documents\\\\PowerShell\\\\profile.ps1\"\n",
    "  },\n",
    "  {\n",
    "    \"Name\": \"CurrentUserCurrentHost\",\n",
    "    \"Value\": \"$Env:UserProfile\\\\\\Documents\\\\PowerShell\\\\Microsoft.PowerShell_profile.ps1\"\n",
    "  }\n",
    "]\n",
    "```\n",
    "```ps1\n",
    "Pwsh> $Host | select name, version\n",
    "\n",
    "Name        Version\n",
    "----        -------\n",
    "ConsoleHost 7.2.6\n",
    "\n",
    "Pwsh> $host.PrivateData.ToString()\n",
    "\n",
    "    Microsoft.PowerShell.ConsoleHost+ConsoleColorProxy\n",
    "\n",
    "Pwsh> $ps_self | select *commandLine*, *company*, *desc*, *info*, *path*, *parent*, *child*\n",
    "\n",
    "CommandLine : pwsh.exe -nol\n",
    "Company     : Microsoft Corporation\n",
    "Description : pwsh\n",
    "StartInfo   :\n",
    "Path        : C:\\Program Files\\PowerShell\\7\\pwsh.exe\n",
    "Parent      : System.Diagnostics.Process (WindowsTerminal)\n",
    "```\n",
    "```\n",
    "Pwsh> $ps_self.parent | select *commandLine*, *company*, *desc*, *info*, *path*, *parent*, *child*\n",
    "\n",
    "CommandLine : \"C:\\Program\n",
    "              Files\\WindowsApps\\Microsoft.WindowsTerminalPreview_1.16.2641.0_x64__8wekyb3d8bbwe\\WindowsTerminal.exe\"\n",
    "Company     : Microsoft Corporation\n",
    "Description : WindowsTerminal.exe\n",
    "StartInfo   :\n",
    "Path        : C:\\Program\n",
    "              Files\\WindowsApps\\Microsoft.WindowsTerminalPreview_1.16.2641.0_x64__8wekyb3d8bbwe\\WindowsTerminal.exe\n",
    "Parent      : System.Diagnostics.Process (explorer)\n",
    "```\n"
   ]
  },
  {
   "attachments": {},
   "cell_type": "markdown",
   "metadata": {},
   "source": [
    "## Part 2 From dotnet interactive .ipynb cell\n",
    "```json\n",
    "[\n",
    "  {\n",
    "    \"Name\": \"AllUsersCurrentHost\",\n",
    "    \"Value\": \"C:\\\\Users\\\\cppmo_000\\\\.nuget\\\\packages\\\\microsoft.dotnet-interactive\\\\1.0.350406\\\\tools\\\\net6.0\\\\any\\\\runtimes\\\\win\\\\lib\\\\net6.0\\\\Microsoft.dotnet-interactive_profile.ps1\"\n",
    "  },\n",
    "  {\n",
    "    \"Name\": \"CurrentUserCurrentHost\",\n",
    "    \"Value\": \"$Env:UserProfile\\\\\\Documents\\\\PowerShell\\\\Microsoft.dotnet-interactive_profile.ps1\"\n",
    "  }\n",
    "]\n",
    "```\n",
    "```ps1\n",
    "# nteract .ipynb cell\n",
    "Pwsh> $Host | select name, version\n",
    "\n",
    "    Name                  Version\n",
    "    ----                  -------\n",
    "    .NET Interactive Host 1.0.0\n",
    "\n",
    "$Host.PrivateData.ToString()\n",
    "\n",
    "    Microsoft.DotNet.Interactive.PowerShell.Host.ConsoleColorProxy\n",
    "```\n",
    "```yml\n",
    "CommandLine : \"C:\\Program Files\\dotnet\\dotnet.exe\" C:\\Users\\cppmo_000\\.nuget\\packages\\microsoft.dot\n",
    "              net-interactive\\1.0.350406\\tools/net6.0/any/Microsoft.DotNet.Interactive.App.dll \n",
    "              [vscode] stdio --working-dir \n",
    "              c:\\Users\\cppmo_000\\SkyDrive\\Documents\\2022\\My_Github\\notebooks\\nteract\n",
    "Company     : Microsoft Corporation\n",
    "Description : .NET Host\n",
    "StartInfo   : \n",
    "Path        : C:\\Program Files\\dotnet\\dotnet.exe\n",
    "Parent      : System.Diagnostics.Process (dotnet)\n",
    "````\n"
   ]
  },
  {
   "cell_type": "code",
   "execution_count": null,
   "metadata": {
    "dotnet_interactive": {
     "language": "pwsh"
    },
    "vscode": {
     "languageId": "polyglot-notebook"
    }
   },
   "outputs": [],
   "source": [
    "($PROFILE.psobject.properties\n",
    "| ? Name -match 'All|curr'\n",
    "| select Name, Value | ConvertTo-Json) -replace ([regex]::Escape('C:\\\\Users\\\\cppmo_000\\\\SkyDrive')), '$Env:UserProfile\\'"
   ]
  },
  {
   "attachments": {},
   "cell_type": "markdown",
   "metadata": {},
   "source": [
    "ls . "
   ]
  },
  {
   "cell_type": "code",
   "execution_count": null,
   "metadata": {
    "dotnet_interactive": {
     "language": "pwsh"
    },
    "vscode": {
     "languageId": "polyglot-notebook"
    }
   },
   "outputs": [],
   "source": [
    "$host.ui.RawUI.WindowTitle\n",
    "$HOST\n",
    "$host.PrivateData.ToString()\n",
    "$host.ui.RawUI | ClassExplorer\\Find-member | ft Name, Reported, Value, Type -AutoSize"
   ]
  },
  {
   "cell_type": "code",
   "execution_count": null,
   "metadata": {
    "dotnet_interactive": {
     "language": "pwsh"
    },
    "vscode": {
     "languageId": "polyglot-notebook"
    }
   },
   "outputs": [],
   "source": [
    "$host.ui.RawUI\n",
    "$host.ui\n",
    "\n",
    "$host.ui.RawUI | select *window*\n",
    "$host.ui.RawUI.WindowTitle # blank in nteract"
   ]
  },
  {
   "cell_type": "code",
   "execution_count": null,
   "metadata": {
    "dotnet_interactive": {
     "language": "pwsh"
    },
    "vscode": {
     "languageId": "polyglot-notebook"
    }
   },
   "outputs": [],
   "source": [
    "$ps_self = Get-Process -id $Pid\n",
    "$ps_self.ProcessName\n",
    "$ps_self | select *commandLine*, *company*, *desc*, *info*, *path*, *parent*, *child*\n",
    "\n",
    "$ps_self.parent | select *commandLine*, *company*, *desc*, *info*, *path*, *parent*, *child*\n",
    "\n",
    "$ps_self = get-process -id $Pid\n",
    "@(\n",
    "   $ps_self\n",
    "   | Add-Member -NotePropertyName 'From' -NotePropertyValue 'WindowsTerminal' -ea ignore -PassThru -Force\n",
    "   $ps_self.parent\n",
    "   | Add-Member -NotePropertyName 'From' -NotePropertyValue 'WindowsTerminal' -ea ignore -PassThru -Force\n",
    ") | select *commandLine*, *company*, *desc*, *info*, *path*, *parent*, *child*\n",
    "| COnverto-Json -depth 5"
   ]
  }
 ],
 "metadata": {
  "kernelspec": {
   "display_name": ".NET (PowerShell)",
   "language": "PowerShell",
   "name": ".net-pwsh"
  },
  "language_info": {
   "name": "PowerShell"
  }
 },
 "nbformat": 4,
 "nbformat_minor": 2
}
