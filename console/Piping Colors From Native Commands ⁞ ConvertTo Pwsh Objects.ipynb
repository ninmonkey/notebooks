{
 "cells": [
  {
   "cell_type": "markdown",
   "metadata": {},
   "source": [
    "First I pipe `fd` find, to get real filepaths but colors cause filepaths to break"
   ]
  },
  {
   "cell_type": "code",
   "execution_count": null,
   "metadata": {
    "dotnet_interactive": {
     "language": "pwsh"
    },
    "vscode": {
     "languageId": "dotnet-interactive.pwsh"
    }
   },
   "outputs": [
    {
     "name": "stdout",
     "output_type": "stream",
     "text": [
      "\u001b[38;5;81m.\\\u001b[0m\u001b[38;5;186mAdventureWorks Sales.xlsx\u001b[0m\r\n",
      "\u001b[38;5;81m.\\\u001b[0mWide World Importers - Sample database for SQL - SQL Server Microsoft Docs.URL\r\n",
      "\u001b[38;5;81m.\\powerbi-desktop-samples\\\u001b[0m\u001b[38;5;249mLICENSE\u001b[0m\r\n",
      "\u001b[38;5;81m.\\powerbi-desktop-samples\\\u001b[0m\u001b[48;5;186;38;5;16mREADME.md\u001b[0m\r\n",
      "\u001b[38;5;81m.\\powerbi-desktop-samples\\\u001b[0m\u001b[38;5;185mSECURITY.md\u001b[0m\r\n",
      "\u001b[38;5;81m.\\\u001b[0m\u001b[38;5;185mreadme.AdventureWorks sample databases - SQL Server Microsoft Docs.htm\u001b[0m\r\n"
     ]
    }
   ],
   "source": [
    "$Config = @{ \n",
    "    BasePath = 'H:\\datasource\\microsoft🧑git' \n",
    "}\n",
    "push-location $BasePath\n",
    "\n",
    "fd -tf -d2 --color=always\n",
    "| select -First 6"
   ]
  },
  {
   "cell_type": "markdown",
   "metadata": {},
   "source": [
    "Normally `Get-Item` can't parse paths that have control chars. "
   ]
  },
  {
   "cell_type": "code",
   "execution_count": null,
   "metadata": {
    "dotnet_interactive": {
     "language": "pwsh"
    },
    "vscode": {
     "languageId": "dotnet-interactive.pwsh"
    }
   },
   "outputs": [
    {
     "name": "stdout",
     "output_type": "stream",
     "text": [
      "\u001b[91mGet-Item: \r\n",
      "\u001b[96mLine |\r\n",
      "\u001b[96m   6 | \u001b[0m | \u001b[96mGet-Item\u001b[0m\r\n",
      "\u001b[96m     | \u001b[91m   ~~~~~~~~\r\n",
      "\u001b[91m\u001b[96m     | \u001b[91mThe specified wildcard character pattern is not valid: \u001b[38;5;81m.\u001b[0m\r\n"
     ]
    }
   ],
   "source": [
    "push-location $Config.BasePath\n",
    "\n",
    "fd -tf -d2 --color=always\n",
    "| select -First 6\n",
    "| Get-Item"
   ]
  },
  {
   "cell_type": "markdown",
   "metadata": {},
   "source": [
    "The to fix this, pipe to `Format-RemoveAnsiEscape` before `Get-Item`.\n",
    "\n",
    "```ps1\n",
    "push-location $Config.BasePath\n",
    "\n",
    "fd -tf -d2 --color=always\n",
    "| Format-RemoveAnsiEscape\n",
    "| Get-Item\n",
    "```\n",
    "```ps1\n",
    "    Directory: H:\\datasource\\microsoft🧑git\n",
    "\n",
    "Mode                 LastWriteTime         Length Name\n",
    "----                 -------------         ------ ----\n",
    "-a---           7/17/2022  9:41 AM       14322931 AdventureWorks Sales.xlsx\n",
    "-a---           5/26/2022  8:39 AM            295 Wide World Importers - Sample database for SQL -\n",
    "                                                  SQL Server Microsoft Docs.URL\n",
    "```"
   ]
  },
  {
   "cell_type": "markdown",
   "metadata": {},
   "source": [
    "You can get the longer version in [EveryoneShouldImportThese.ps1](https://github.com/ninmonkey/dotfiles_git/blob/efd8bbccc2e308e53e341808b657ade0e04420ff/powershell/EveryoneShouldImportThese.ps1#L99-L158)"
   ]
  },
  {
   "cell_type": "code",
   "execution_count": null,
   "metadata": {
    "dotnet_interactive": {
     "language": "pwsh"
    },
    "vscode": {
     "languageId": "dotnet-interactive.pwsh"
    }
   },
   "outputs": [],
   "source": [
    "function Format-RemoveAnsiEscape {\n",
    "    <#\n",
    "    This is the abbreviated version for notebooks\n",
    "    The full function is at <https://github.com/ninmonkey/dotfiles_git/blob/efd8bbccc2e308e53e341808b657ade0e04420ff/powershell/EveryoneShouldImportThese.ps1#L99-L158>\n",
    "    #>\n",
    "    [Alias('StripAnsi')]\n",
    "    [cmdletbinding()]\n",
    "    param(\n",
    "        # pipe any text\n",
    "        [Alias('Text')]\n",
    "        [AllowNull()]\n",
    "        [AllowEmptyString()]\n",
    "        [parameter(Mandatory, Position = 0, ValueFromPipeline)]\n",
    "        [string]$InputObject,\n",
    "\n",
    "        # misc label\n",
    "        [alias('All')]\n",
    "        [switch]$StripEverything\n",
    "    )\n",
    "    begin {\n",
    "        $Regex = @{\n",
    "            StripColor = '\\u001B.*?m'\n",
    "            StripAll   = '\\u001B.*?\\p{L}'\n",
    "        }\n",
    "    }\n",
    "    process {\n",
    "        if ($null -eq $InputObject) {\n",
    "            return\n",
    "        }\n",
    "        if ($StripEverything) {\n",
    "            $InputObject -replace $Regex.StripAll, ''\n",
    "        } else {\n",
    "            $InputObject -replace $Regex.StripColor, ''\n",
    "        }\n",
    "\n",
    "    }\n",
    "}"
   ]
  },
  {
   "cell_type": "markdown",
   "metadata": {},
   "source": [
    "Now native commands using `--color=always` are able to pipe to `Get-Item` automatically!"
   ]
  },
  {
   "cell_type": "code",
   "execution_count": null,
   "metadata": {
    "dotnet_interactive": {
     "language": "pwsh"
    },
    "vscode": {
     "languageId": "dotnet-interactive.pwsh"
    }
   },
   "outputs": [
    {
     "name": "stdout",
     "output_type": "stream",
     "text": [
      "\r\n",
      "   Directory: H:\\datasource\\microsoft🧑git\r\n",
      "\r\n",
      "\u001b[32;1mName                                                                           LastWriteTime\u001b[0m\r\n",
      "\u001b[32;1m----                                                                           -------------       \u001b[0m\r\n",
      "AdventureWorks Sales.xlsx                                                      7/17/2022 9:41:54 AM\r\n",
      "Wide World Importers - Sample database for SQL - SQL Server Microsoft Docs.URL 5/26/2022 8:39:09 AM\r\n",
      "\r\n",
      "   Directory: H:\\datasource\\microsoft🧑git\\powerbi-desktop-samples\r\n",
      "\r\n",
      "\u001b[32;1mName        LastWriteTime         Length\u001b[0m\r\n",
      "\u001b[32;1m----        -------------         ------\u001b[0m\r\n",
      "LICENSE     7/17/2022 10:03:55 AM   1183\r\n",
      "README.md   7/17/2022 10:03:55 AM   1815\r\n",
      "SECURITY.md 7/17/2022 10:03:55 AM   2798\r\n",
      "\r\n",
      "   Directory: H:\\datasource\\microsoft🧑git\r\n",
      "\r\n",
      "\u001b[32;1mName                                                                   LastWriteTime         Length\u001b[0m\r\n",
      "\u001b[32;1m----                                                                   -------------         ------\u001b[0m\r\n",
      "readme.AdventureWorks sample databases - SQL Server Microsoft Docs.htm 7/17/2022 10:02:35 AM 196045\r\n",
      "\r\n"
     ]
    }
   ],
   "source": [
    "push-location $Config.BasePath\n",
    "\n",
    "fd -tf -d2 --color=always\n",
    "| Format-RemoveAnsiEscape\n",
    "| Get-Item\n",
    "| select -First 6\n",
    "| Ft -groupBy Directory Name, LastWriteTime, Length\n"
   ]
  }
 ],
 "metadata": {
  "kernelspec": {
   "display_name": ".NET (PowerShell)",
   "language": "PowerShell",
   "name": ".net-pwsh"
  },
  "language_info": {
   "name": "PowerShell"
  }
 },
 "nbformat": 4,
 "nbformat_minor": 2
}
