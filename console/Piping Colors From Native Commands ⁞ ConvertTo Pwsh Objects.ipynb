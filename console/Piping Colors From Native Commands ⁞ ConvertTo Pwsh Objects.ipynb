{
 "cells": [
  {
   "cell_type": "markdown",
   "metadata": {
    "dotnet_interactive": {
     "language": "csharp"
    },
    "polyglot_notebook": {
     "kernelName": "csharp"
    }
   },
   "source": [
    "First I pipe `fd` find, to get real filepaths but colors cause filepaths to break"
   ]
  },
  {
   "cell_type": "code",
   "execution_count": null,
   "metadata": {
    "dotnet_interactive": {
     "language": "pwsh"
    },
    "vscode": {
     "languageId": "polyglot-notebook"
    }
   },
   "outputs": [],
   "source": [
    "$Config = @{ \n",
    "    BasePath = 'H:\\datasource\\microsoft🧑git' \n",
    "}\n",
    "push-location $BasePath\n",
    "\n",
    "fd -tf -d2 --color=always\n",
    "| select -First 6"
   ]
  },
  {
   "cell_type": "markdown",
   "metadata": {
    "dotnet_interactive": {
     "language": "csharp"
    },
    "polyglot_notebook": {
     "kernelName": "csharp"
    }
   },
   "source": [
    "Normally `Get-Item` can't parse paths that have control chars. "
   ]
  },
  {
   "cell_type": "code",
   "execution_count": null,
   "metadata": {
    "dotnet_interactive": {
     "language": "pwsh"
    },
    "vscode": {
     "languageId": "polyglot-notebook"
    }
   },
   "outputs": [],
   "source": [
    "push-location $Config.BasePath\n",
    "\n",
    "fd -tf -d2 --color=always\n",
    "| select -First 6\n",
    "| Get-Item"
   ]
  },
  {
   "cell_type": "markdown",
   "metadata": {
    "dotnet_interactive": {
     "language": "csharp"
    },
    "polyglot_notebook": {
     "kernelName": "csharp"
    }
   },
   "source": [
    "The to fix this, pipe to `Format-RemoveAnsiEscape` before `Get-Item`.\n",
    "\n",
    "```ps1\n",
    "push-location $Config.BasePath\n",
    "\n",
    "fd -tf -d2 --color=always\n",
    "| Format-RemoveAnsiEscape\n",
    "| Get-Item\n",
    "```\n",
    "```ps1\n",
    "    Directory: H:\\datasource\\microsoft🧑git\n",
    "\n",
    "Mode                 LastWriteTime         Length Name\n",
    "----                 -------------         ------ ----\n",
    "-a---           7/17/2022  9:41 AM       14322931 AdventureWorks Sales.xlsx\n",
    "-a---           5/26/2022  8:39 AM            295 Wide World Importers - Sample database for SQL -\n",
    "                                                  SQL Server Microsoft Docs.URL\n",
    "```"
   ]
  },
  {
   "cell_type": "markdown",
   "metadata": {
    "dotnet_interactive": {
     "language": "csharp"
    },
    "polyglot_notebook": {
     "kernelName": "csharp"
    }
   },
   "source": [
    "You can get the longer version in [EveryoneShouldImportThese.ps1](https://github.com/ninmonkey/dotfiles_git/blob/efd8bbccc2e308e53e341808b657ade0e04420ff/powershell/EveryoneShouldImportThese.ps1#L99-L158)"
   ]
  },
  {
   "cell_type": "code",
   "execution_count": null,
   "metadata": {
    "dotnet_interactive": {
     "language": "pwsh"
    },
    "vscode": {
     "languageId": "polyglot-notebook"
    }
   },
   "outputs": [],
   "source": [
    "function Format-RemoveAnsiEscape {\n",
    "    <#\n",
    "    This is the abbreviated version for notebooks\n",
    "    The full function is at <https://github.com/ninmonkey/dotfiles_git/blob/efd8bbccc2e308e53e341808b657ade0e04420ff/powershell/EveryoneShouldImportThese.ps1#L99-L158>\n",
    "    #>\n",
    "    [Alias('StripAnsi')]\n",
    "    [cmdletbinding()]\n",
    "    param(\n",
    "        # pipe any text\n",
    "        [Alias('Text')]\n",
    "        [AllowNull()]\n",
    "        [AllowEmptyString()]\n",
    "        [parameter(Mandatory, Position = 0, ValueFromPipeline)]\n",
    "        [string]$InputObject,\n",
    "\n",
    "        # misc label\n",
    "        [alias('All')]\n",
    "        [switch]$StripEverything\n",
    "    )\n",
    "    begin {\n",
    "        $Regex = @{\n",
    "            StripColor = '\\u001B.*?m'\n",
    "            StripAll   = '\\u001B.*?\\p{L}'\n",
    "        }\n",
    "    }\n",
    "    process {\n",
    "        if ($null -eq $InputObject) {\n",
    "            return\n",
    "        }\n",
    "        if ($StripEverything) {\n",
    "            $InputObject -replace $Regex.StripAll, ''\n",
    "        } else {\n",
    "            $InputObject -replace $Regex.StripColor, ''\n",
    "        }\n",
    "\n",
    "    }\n",
    "}"
   ]
  },
  {
   "cell_type": "markdown",
   "metadata": {
    "dotnet_interactive": {
     "language": "csharp"
    },
    "polyglot_notebook": {
     "kernelName": "csharp"
    }
   },
   "source": [
    "Now native commands using `--color=always` are able to pipe to `Get-Item` automatically!"
   ]
  },
  {
   "cell_type": "code",
   "execution_count": null,
   "metadata": {
    "dotnet_interactive": {
     "language": "pwsh"
    },
    "vscode": {
     "languageId": "polyglot-notebook"
    }
   },
   "outputs": [],
   "source": [
    "push-location $Config.BasePath\n",
    "\n",
    "fd -tf -d2 --color=always\n",
    "| Format-RemoveAnsiEscape\n",
    "| Get-Item\n",
    "| select -First 6\n",
    "| Ft -groupBy Directory Name, LastWriteTime, Length\n"
   ]
  }
 ],
 "metadata": {
  "kernelspec": {
   "display_name": ".NET (C#)",
   "language": "C#",
   "name": ".net-csharp"
  },
  "polyglot_notebook": {
   "kernelInfo": {
    "defaultKernelName": "csharp",
    "items": [
     {
      "aliases": [
       "c#",
       "C#"
      ],
      "languageName": "C#",
      "name": "csharp"
     },
     {
      "aliases": [
       "frontend"
      ],
      "languageName": null,
      "name": "vscode"
     }
    ]
   }
  }
 },
 "nbformat": 4,
 "nbformat_minor": 2
}
