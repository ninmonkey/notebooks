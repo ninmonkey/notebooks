{
 "cells": [
  {
   "cell_type": "code",
   "execution_count": null,
   "metadata": {
    "dotnet_interactive": {
     "language": "pwsh"
    }
   },
   "outputs": [],
   "source": [
    "$Config = @{ \n",
    "    RepoRoot = 'G:\\2022-github\\Pwsh\\PowerShell📁\\PowerShell'\n",
    "    # RepoRoot = 'C:\\Users\\cppmo_000\\SkyDrive\\Documents\\2022\\My_Github\\notebooks\\sketches'\n",
    "}\n",
    "if( Test-path $Config.RepoRoot ) { push-location $Config.RepoRoot }\n",
    "else { write-error \"missing path\" } \n",
    "\n",
    "Gi . | Join-string -op 'Starting Path ' FullName\n",
    "\n",
    "    \n",
    "\n",
    "\n",
    "# variations\n",
    "# push-location 'C:\\Users\\cppmo_000\\SkyDrive\\Documents\\2022\\My_Github\\notebooks\\sketches'\n",
    "\n",
    "# git log 021bdebec7411afaab93b81a4cb6bafe04e78c38\n",
    "# git show 021bdebec7411afaab93b81a4cb6bafe04e78c38\n",
    "# git show --no-commit-id  021bdebec7411afaab93b81a4cb6bafe04e78c38\n",
    "# git show --no-commit-id --pretty=\"\"  021bdebec7411afaab93b81a4cb6bafe04e78c38\n",
    "# git show --no-commit-id --name-only --pretty=\"\"  021bdebec7411afaab93b81a4cb6bafe04e78c38\n",
    "# git show --no-commit-id --name-status --pretty=\"\"  021bdebec7411afaab93b81a4cb6bafe04e78c38"
   ]
  },
  {
   "cell_type": "code",
   "execution_count": null,
   "metadata": {
    "dotnet_interactive": {
     "language": "pwsh"
    }
   },
   "outputs": [],
   "source": [
    "<#\n",
    "notes: I don't know what recurse does, it says::  \n",
    "    -r | recurse into sub-trees\" means\n",
    "\n",
    "see: git --help git-diff-tree\n",
    "   --pretty[=<format>]\n",
    "   --format=<format>\n",
    "\n",
    "#>\n",
    "# enumerate all filepaths that were changed in a commit range\n",
    "git diff-tree --no-commit-id --name-only -r HEAD~12..HEAD~4\n",
    "\n"
   ]
  },
  {
   "cell_type": "markdown",
   "metadata": {
    "dotnet_interactive": {
     "language": "csharp"
    },
    "polyglot_notebook": {
     "kernelName": "csharp"
    }
   },
   "source": [
    "from [SO](https://stackoverflow.com/a/424142/341744)\n",
    "\n",
    "\n",
    "| Name | Description | \n",
    "| - | - |\n",
    "| `--no-commit-id` | suppresses the commit ID output. |\n",
    "| The `--pretty` | argument specifies an empty format string to avoid the cruft at the beginning. |\n",
    "| The `--name-only` | argument shows only the file names that were affected |\n",
    "| `--name-status instead`, | if you want to see what happened to each file (Deleted, Modified, Added) |\n",
    "| The `-r` | argument is to recurse into sub-trees |\n",
    "\n",
    "\n",
    "`HEAD~1..HEAD` is implicit.\n",
    "\n",
    "then describes the \"prerred way\" non-porclain\n",
    "\n",
    "```sh\n",
    "$ git diff-tree --no-commit-id --name-only -r bd61ad98\n",
    "index.html\n",
    "javascript/application.js\n",
    "javascript/ie6.js\n",
    "```\n",
    "\n",
    "\n"
   ]
  },
  {
   "cell_type": "markdown",
   "metadata": {
    "dotnet_interactive": {
     "language": "csharp"
    },
    "polyglot_notebook": {
     "kernelName": "csharp"
    }
   },
   "source": [
    "```ps1\n",
    "git diff-tree --no-commit-id --name-only -r HEAD~2..HEAD\n",
    "```"
   ]
  },
  {
   "cell_type": "markdown",
   "metadata": {
    "dotnet_interactive": {
     "language": "csharp"
    },
    "polyglot_notebook": {
     "kernelName": "csharp"
    }
   },
   "source": [
    "```json\n",
    "git show --no-commit-id --name-only --pretty=\"\"  021bdebec7411afaab93b81a4cb6bafe04e78c38\n",
    "git show --no-commit-id --name-status --pretty=\"\"  021bdebec7411afaab93b81a4cb6bafe04e78c38\n",
    "```"
   ]
  }
 ],
 "metadata": {
  "kernelspec": {
   "display_name": ".NET (C#)",
   "language": "C#",
   "name": ".net-csharp"
  },
  "polyglot_notebook": {
   "kernelInfo": {
    "defaultKernelName": "csharp",
    "items": [
     {
      "aliases": [
       "c#",
       "C#"
      ],
      "languageName": "C#",
      "name": "csharp"
     },
     {
      "aliases": [],
      "name": ".NET"
     },
     {
      "aliases": [
       "f#",
       "F#"
      ],
      "languageName": "F#",
      "name": "fsharp"
     },
     {
      "aliases": [],
      "languageName": "HTML",
      "name": "html"
     },
     {
      "aliases": [
       "js"
      ],
      "languageName": "JavaScript",
      "name": "javascript"
     },
     {
      "aliases": [],
      "languageName": "KQL",
      "name": "kql"
     },
     {
      "aliases": [],
      "languageName": "Mermaid",
      "name": "mermaid"
     },
     {
      "aliases": [
       "powershell"
      ],
      "languageName": "PowerShell",
      "name": "pwsh"
     },
     {
      "aliases": [],
      "languageName": "SQL",
      "name": "sql"
     },
     {
      "aliases": [],
      "name": "value"
     },
     {
      "aliases": [
       "frontend"
      ],
      "name": "vscode"
     },
     {
      "aliases": [],
      "name": "webview"
     }
    ]
   }
  }
 },
 "nbformat": 4,
 "nbformat_minor": 2
}
