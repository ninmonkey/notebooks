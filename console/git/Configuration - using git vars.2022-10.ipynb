{
 "cells": [
  {
   "cell_type": "code",
   "execution_count": 2,
   "metadata": {
    "dotnet_interactive": {
     "language": "pwsh"
    },
    "polyglot_notebook": {
     "language": "pwsh"
    },
    "vscode": {
     "languageId": "dotnet-interactive.pwsh"
    }
   },
   "outputs": [
    {
     "name": "stdout",
     "output_type": "stream",
     "text": [
      "diff.astextplain.textconv=astextplain\r\n",
      "filter.lfs.clean=git-lfs clean -- %f\r\n",
      "filter.lfs.smudge=git-lfs smudge -- %f\r\n",
      "filter.lfs.process=git-lfs filter-process\r\n",
      "filter.lfs.required=true\r\n",
      "http.sslbackend=openssl\r\n",
      "http.sslcainfo=C:/Program Files/Git/mingw64/ssl/certs/ca-bundle.crt\r\n",
      "core.autocrlf=true\r\n",
      "core.fscache=true\r\n",
      "core.symlinks=false\r\n",
      "core.editor=\"C:\\\\Program Files\\\\Microsoft VS Code\\\\bin\\\\code\" --wait\r\n",
      "pull.rebase=false\r\n",
      "credential.helper=manager-core\r\n",
      "credential.https://dev.azure.com.usehttppath=true\r\n",
      "init.defaultbranch=master\r\n",
      "user.email=ninmonkeys@gmail.com\r\n",
      "user.name=Jake Bolton\r\n",
      "gui.fontdiff=-family Consolas -size 10 -weight normal -slant roman -underline 0 -overstrike 0\r\n",
      "alias.st=status\r\n",
      "alias.slog=log --pretty=oneline --abbrev-commit --color=always\r\n",
      "alias.logb=log --graph --abbrev-commit --date=relative --right-only\r\n",
      "push.default=simple\r\n",
      "filter.lfs.clean=git-lfs clean -- %f\r\n",
      "filter.lfs.smudge=git-lfs smudge -- %f\r\n",
      "filter.lfs.process=git-lfs filter-process\r\n"
     ]
    }
   ],
   "source": [
    "git var -l\n",
    "| select -first 25"
   ]
  },
  {
   "cell_type": "code",
   "execution_count": 7,
   "metadata": {
    "dotnet_interactive": {
     "language": "pwsh"
    },
    "vscode": {
     "languageId": "dotnet-interactive.pwsh"
    }
   },
   "outputs": [
    {
     "name": "stdout",
     "output_type": "stream",
     "text": [
      "\r\n",
      "\u001b[7malias\u001b[0m.st=status\r\n",
      "\u001b[7malias\u001b[0m.slog=log --pretty=oneline --abbrev-commit --color=always\r\n",
      "\u001b[7malias\u001b[0m.logb=log --graph --abbrev-commit --date=relative --right-only\r\n",
      "\r\n"
     ]
    }
   ],
   "source": [
    "git var -l \n",
    "| sls 'alias'\n"
   ]
  },
  {
   "cell_type": "code",
   "execution_count": 8,
   "metadata": {
    "dotnet_interactive": {
     "language": "pwsh"
    },
    "vscode": {
     "languageId": "dotnet-interactive.pwsh"
    }
   },
   "outputs": [
    {
     "name": "stdout",
     "output_type": "stream",
     "text": [
      "\r\n",
      "\u001b[7mcore\u001b[0m.exludesfile=C:/Users/cppmo_000/Documents/2021/dotfiles_git/git/global_ignore.gitignore\r\n",
      "\u001b[7mGIT_COMMITTER_IDENT=Jake\u001b[0m Bolton <ninmonkeys@gmail.com> 1668392445 -0600\r\n",
      "\u001b[7mGIT_AUTHOR_IDENT=Jake\u001b[0m Bolton <ninmonkeys@gmail.com> 1668392445 -0600\r\n",
      "\u001b[7mGIT_EDITOR=code\u001b[0m --wait\r\n",
      "\u001b[7mGIT_PAGER=delta\u001b[0m\r\n",
      "\u001b[7mGIT_DEFAULT_BRANCH=master\u001b[0m\r\n",
      "\r\n"
     ]
    }
   ],
   "source": [
    "# maybe env?\n",
    "git var -l | ?{ $_ -match '_' } | sls ^[\\w_=]+ "
   ]
  },
  {
   "cell_type": "code",
   "execution_count": 17,
   "metadata": {
    "dotnet_interactive": {
     "language": "pwsh"
    },
    "vscode": {
     "languageId": "dotnet-interactive.pwsh"
    }
   },
   "outputs": [
    {
     "name": "stdout",
     "output_type": "stream",
     "text": [
      "\u001b[38;2;150;175;132malias\u001b[39m: logb=log --graph --abbrev-commit --date=relative --right-only\r\n",
      "\u001b[38;2;150;175;132mcore\u001b[39m: bare=false\r\n",
      "\u001b[38;2;150;175;132mcore\u001b[39m: editor=code --wait\r\n",
      "\u001b[38;2;150;175;132mcore\u001b[39m: fscache=true\r\n",
      "\u001b[38;2;150;175;132mcore\u001b[39m: logallrefupdates=true\r\n",
      "\u001b[38;2;150;175;132mcore\u001b[39m: longpaths=true\r\n",
      "\u001b[38;2;150;175;132mcredential\u001b[39m: https://dev.azure.com.usehttppath=true\r\n",
      "\u001b[38;2;150;175;132mcredential\u001b[39m: https://github.com.helper=\r\n",
      "\u001b[38;2;150;175;132mdelta\u001b[39m: darkly.commit-decoration-style=box ul #34fd50\r\n",
      "\u001b[38;2;150;175;132mdelta\u001b[39m: darkly.file-decoration-style=none\r\n",
      "\u001b[38;2;150;175;132mdelta\u001b[39m: darkly.file-style=omit\r\n",
      "\u001b[38;2;150;175;132mdelta\u001b[39m: darkly.hunk-header-decoration-style=#00b494 ul\r\n",
      "\u001b[38;2;150;175;132mdelta\u001b[39m: darkly.hunk-header-line-number-style=#03a4ff\r\n",
      "\u001b[38;2;150;175;132mdelta\u001b[39m: darkly.plus-emph-style=syntax #066a57\r\n",
      "\u001b[38;2;150;175;132mdelta\u001b[39m: unobtrusive-line-numbers.line-numbers-right-format={np:>4}  \r\n",
      "\u001b[38;2;150;175;132mdelta\u001b[39m: unobtrusive-line-numbers.line-numbers-zero-style=#cccccc\r\n",
      "\u001b[38;2;150;175;132mdiff\u001b[39m: astextplain.textconv=astextplain\r\n",
      "\u001b[38;2;150;175;132mdiff\u001b[39m: tool=default-difftool\r\n",
      "\u001b[38;2;150;175;132mdifftool\u001b[39m: default-difftool.cmd=code --wait --diff $LOCAL $REMOTE\r\n",
      "\u001b[38;2;150;175;132mfetch\u001b[39m: prune=false\r\n",
      "\u001b[38;2;150;175;132mfilter\u001b[39m: lfs.process=git-lfs filter-process\r\n",
      "\u001b[38;2;150;175;132mGIT_PAGER=delta\u001b[39m: [␀]\r\n",
      "\u001b[38;2;150;175;132mi18n\u001b[39m: filesencoding=utf-8\r\n",
      "\u001b[38;2;150;175;132mmergetool\u001b[39m: vscode.cmd=\"C:/Program Files/Microsoft VS Code/code.exe\" --wait \"$MERGED\"\r\n",
      "\u001b[38;2;150;175;132mpull\u001b[39m: rebase=false\r\n"
     ]
    }
   ],
   "source": [
    "if( get-command -m Ninmonkey.Console -ea ignore -wa ignore) {\n",
    "\n",
    "    git var -l \n",
    "    | Get-Random -Count 25\n",
    "    | sort -Unique\n",
    "    | %{ \n",
    "        $head, $rest = $_ -split '\\.', 2\n",
    "        $rest | label $head\n",
    "    }\n",
    "}"
   ]
  },
  {
   "cell_type": "code",
   "execution_count": 28,
   "metadata": {
    "dotnet_interactive": {
     "language": "pwsh"
    },
    "vscode": {
     "languageId": "dotnet-interactive.pwsh"
    }
   },
   "outputs": [
    {
     "name": "stdout",
     "output_type": "stream",
     "text": [
      "\r\n",
      "\u001b[32;1mCount Name\u001b[0m\r\n",
      "\u001b[32;1m----- ----\u001b[0m\r\n",
      "   27 delta\r\n",
      "   15 core\r\n",
      "    5 credential\r\n",
      "    4 filter\r\n",
      "    3 alias\r\n",
      "    3 diff\r\n",
      "    3 difftool\r\n",
      "    3 remote\r\n",
      "    2 mergetool\r\n",
      "    2 http\r\n",
      "    2 user\r\n",
      "    2 branch\r\n",
      "...\r\n",
      "singles = 'fetch', 'GIT_AUTHOR_IDENT=Jake Bolton <ninmonkeys@gmail', 'GIT_COMMITTER_IDENT=Jake Bolton <ninmonkeys@gmail', 'GIT_DEFAULT_BRANCH=master', 'GIT_EDITOR=code --wait', 'GIT_PAGER=delta', 'gui', 'i18n', 'init', 'interactive', 'lfs', 'merge', 'pull', 'push', 'rebase'\r\n",
      "\r\n"
     ]
    }
   ],
   "source": [
    "$query = & { \n",
    "    git var -l \n",
    "    | sort -Unique\n",
    "    |%{ \n",
    "        $head, $rest = $_ -split '\\.', 2\n",
    "        #$rest | label $head\n",
    "        [pscustomobject]@{ Group = $head; Rest = $rest }\n",
    "    } | group Group -noe | sort count -des\n",
    "}\n",
    "$query | ? Count -gt 1\n",
    "'...'\n",
    "$query | ? Count -le 1 | % Name | sort -Unique | Join-String -op 'singles = ' -SingleQuote -sep ', '\n"
   ]
  }
 ],
 "metadata": {
  "kernelspec": {
   "display_name": ".NET (PowerShell)",
   "language": "PowerShell",
   "name": ".net-pwsh"
  },
  "language_info": {
   "name": "PowerShell"
  }
 },
 "nbformat": 4,
 "nbformat_minor": 2
}
