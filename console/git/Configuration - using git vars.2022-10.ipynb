{
 "cells": [
  {
   "cell_type": "code",
   "execution_count": null,
   "metadata": {
    "dotnet_interactive": {
     "language": "pwsh"
    },
    "polyglot_notebook": {
     "language": "pwsh"
    }
   },
   "outputs": [],
   "source": [
    "git var -l\n",
    "| select -first 25"
   ]
  },
  {
   "cell_type": "code",
   "execution_count": null,
   "metadata": {
    "dotnet_interactive": {
     "language": "pwsh"
    }
   },
   "outputs": [],
   "source": [
    "git var -l \n",
    "| sls 'alias'\n"
   ]
  },
  {
   "cell_type": "code",
   "execution_count": null,
   "metadata": {
    "dotnet_interactive": {
     "language": "pwsh"
    }
   },
   "outputs": [],
   "source": [
    "# maybe env?\n",
    "git var -l | ?{ $_ -match '_' } | sls ^[\\w_=]+ "
   ]
  },
  {
   "cell_type": "code",
   "execution_count": null,
   "metadata": {
    "dotnet_interactive": {
     "language": "pwsh"
    }
   },
   "outputs": [],
   "source": [
    "if( get-command -m Ninmonkey.Console -ea ignore -wa ignore) {\n",
    "\n",
    "    git var -l \n",
    "    | Get-Random -Count 25\n",
    "    | sort -Unique\n",
    "    | %{ \n",
    "        $head, $rest = $_ -split '\\.', 2\n",
    "        $rest | label $head\n",
    "    }\n",
    "}"
   ]
  },
  {
   "cell_type": "code",
   "execution_count": null,
   "metadata": {
    "dotnet_interactive": {
     "language": "pwsh"
    }
   },
   "outputs": [],
   "source": [
    "$query = & { \n",
    "    git var -l \n",
    "    | sort -Unique\n",
    "    |%{ \n",
    "        $head, $rest = $_ -split '\\.', 2\n",
    "        #$rest | label $head\n",
    "        [pscustomobject]@{ Group = $head; Rest = $rest }\n",
    "    } | group Group -noe | sort count -des\n",
    "}\n",
    "$query | ? Count -gt 1\n",
    "'...'\n",
    "$query | ? Count -le 1 | % Name | sort -Unique | Join-String -op 'singles = ' -SingleQuote -sep ', '\n"
   ]
  }
 ],
 "metadata": {
  "kernelspec": {
   "display_name": ".NET (C#)",
   "language": "C#",
   "name": ".net-csharp"
  },
  "polyglot_notebook": {
   "kernelInfo": {
    "defaultKernelName": "csharp",
    "items": [
     {
      "aliases": [
       "c#",
       "C#"
      ],
      "languageName": "C#",
      "name": "csharp"
     },
     {
      "aliases": [],
      "name": ".NET"
     },
     {
      "aliases": [
       "f#",
       "F#"
      ],
      "languageName": "F#",
      "name": "fsharp"
     },
     {
      "aliases": [],
      "languageName": "HTML",
      "name": "html"
     },
     {
      "aliases": [],
      "languageName": "KQL",
      "name": "kql"
     },
     {
      "aliases": [],
      "languageName": "Mermaid",
      "name": "mermaid"
     },
     {
      "aliases": [
       "powershell"
      ],
      "languageName": "PowerShell",
      "name": "pwsh"
     },
     {
      "aliases": [],
      "languageName": "SQL",
      "name": "sql"
     },
     {
      "aliases": [],
      "name": "value"
     },
     {
      "aliases": [
       "frontend"
      ],
      "name": "vscode"
     }
    ]
   }
  }
 },
 "nbformat": 4,
 "nbformat_minor": 2
}
