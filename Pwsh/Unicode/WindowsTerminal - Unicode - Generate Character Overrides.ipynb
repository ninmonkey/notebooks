{
 "cells": [
  {
   "cell_type": "code",
   "execution_count": 10,
   "metadata": {
    "dotnet_interactive": {
     "language": "pwsh"
    },
    "polyglot_notebook": {
     "kernelName": "pwsh"
    }
   },
   "outputs": [
    {
     "name": "stdout",
     "output_type": "stream",
     "text": [
      "{\r\n",
      "  \"AllUsersCurrentHost\": \"C:\\\\Users\\\\cppmo_000\\\\.nuget\\\\packages\\\\microsoft.dotnet-interactive\\\\1.0.425803\\\\tools\\\\net7.0\\\\any\\\\runtimes\\\\win\\\\lib\\\\net7.0\\\\Microsoft.dotnet-interactive_profile.ps1\",\r\n",
      "  \"CurrentUserCurrentHost\": \"C:\\\\Users\\\\cppmo_000\\\\SkyDrive\\\\Documents\\\\PowerShell\\\\Microsoft.dotnet-interactive_profile.ps1\",\r\n",
      "  \"Length\": 89\r\n",
      "}\r\n"
     ]
    }
   ],
   "source": [
    "# $PROFILE | select * | convertto-json -depth 3\n",
    "# code -g $PROFILE.CurrentUserCurrentHost"
   ]
  },
  {
   "cell_type": "code",
   "execution_count": 19,
   "metadata": {
    "dotnet_interactive": {
     "language": "pwsh"
    },
    "polyglot_notebook": {
     "kernelName": "pwsh"
    }
   },
   "outputs": [
    {
     "name": "stdout",
     "output_type": "stream",
     "text": [
      "─━│┃┄┅┆┇┈┉┊┋┌┍┎┏┐┑┒┓└┕┖┗┘┙┚┛├┝┞┟┠┡┢┣┤┥┦┧┨┩┪┫┬┭┮┯┰┱┲┳┴┵┶┷┸┹┺┻┼┽┾┿╀╁╂╃╄╅╆╇╈╉╊╋╌╍╎╏═║╒╓╔╕╖╗╘╙╚╛╜╝╞╟╠╡╢╣╤╥╦╧╨╩╪╫╬╭╮╯╰╱╲╳╴╵╶╷╸╹╺╻╼╽╾╿▀▁▂▃▄▅▆▇█▉▊▋▌▍▎▏▐░▒▓▔▕▖▗▘▙▚▛▜▝▞▟䷀䷁䷂䷃䷄䷅䷆䷇䷈䷉䷊䷋䷌䷍䷎䷏䷐䷑䷒䷓䷔䷕䷖䷗䷘䷙䷚䷛䷜䷝䷞䷟䷠䷡䷢䷣䷤䷥䷦䷧䷨䷩䷪䷫䷬䷭䷮䷯䷰䷱䷲䷳䷴䷵䷶䷷䷸䷹䷺䷻䷼䷽䷾䷿︧︨︩︪︫︬︭︠︡︢︣︤︥︦︮︯\r\n"
     ]
    }
   ],
   "source": [
    "# Import-Module Ninmonkey.Console -ea 'stop'\n",
    "\n",
    "@(\n",
    "    0x2500..0x259f -as [Text.Rune[]]\n",
    "    0x4dc0..0x4dff -as [Text.Rune[]]\n",
    "    0xfe20..0xfe2f -as [Text.Rune[]]\n",
    ") | Join-String -sep ''\n",
    "# | join.UL"
   ]
  },
  {
   "cell_type": "code",
   "execution_count": 16,
   "metadata": {
    "dotnet_interactive": {
     "language": "pwsh"
    },
    "polyglot_notebook": {
     "kernelName": "pwsh"
    }
   },
   "outputs": [],
   "source": [
    "# throw @'\n",
    "# left off\n",
    "#     ucd.nounihan.flat.xml\n",
    "# - <file:///H:\\github_fork\\microsoft🧑\\terminal\\ucd.nounihan.flat.xml>    \n",
    "# - <file:///H:\\github_fork\\microsoft🧑\\terminal\\generated_export.cs>    \n",
    "# '@"
   ]
  },
  {
   "attachments": {},
   "cell_type": "markdown",
   "metadata": {},
   "source": [
    "## Related:\n",
    "\n",
    "- https://github.com/microsoft/terminal/blob/main/src/types/CodepointWidthDetector.cpp\n",
    "- https://github.com/microsoft/terminal/blob/main/src/types/unicode_width_overrides.xml\n",
    "- https://github.com/microsoft/terminal/blob/main/tools/Generate-CodepointWidthsFromUCD.ps1\n",
    "- https://learn.microsoft.com/en-us/dotnet/api/system.globalization.stringinfo.lengthintextelements?view=net-7.0\n",
    "- https://github.com/microsoft/terminal/blob/main/src/types/CodepointWidthDetector.cpp\n",
    "- https://learn.microsoft.com/en-us/dotnet/standard/base-types/character-encoding-introduction#grapheme-clusters\n",
    "\n",
    "## Usage\n",
    "\n",
    "- `gh repo clone microsoft/terminal` \n",
    "iwr 'https://www.unicode.org/Public/UCD/latest/ucdxml/ucd.nounihan.flat.zip' -OutFile 'ucd.nounihan.flat.zip'\n",
    "\n",
    "\n",
    "```ps1\n",
    "\n",
    "🐒Pwsh> \n",
    "    pushd 'g:\\forks'\n",
    "    # I like to distinguish folders if they are a owner name vs a repo name\n",
    "    gh repo clone microsoft/terminal 'microsoft🧑/terminal'\n",
    "    pushd 'microsoft🧑/terminal'\n",
    "    iwr 'https://www.unicode.org/Public/UCD/latest/ucdxml/ucd.nounihan.flat.zip' -OutFile 'ucd.nounihan.flat.zip'\n",
    "    Expand-Archive -Path '.\\ucd.nounihan.flat.zip' -DestinationPath '.'\n",
    "\n",
    "🐒Pwsh>\n",
    "    $Path = '.\\ucd.nounihan.flat.xml' \n",
    "    $OverridePath = '.\\src\\types\\unicode_width_overrides.xml'\n",
    "    .\\tools\\Generate-CodepointWidthsFromUCD.ps1 -Verbose -Path $Path -OverridePath $OverridePath -Pack\n",
    "    | Set-Content 'generated_export.cs' -PassThru\n",
    "    # ... wait a while ...\n",
    "```\n",
    "\n"
   ]
  },
  {
   "cell_type": "code",
   "execution_count": 13,
   "metadata": {
    "dotnet_interactive": {
     "language": "pwsh"
    },
    "polyglot_notebook": {
     "kernelName": "pwsh"
    }
   },
   "outputs": [
    {
     "name": "stdout",
     "output_type": "stream",
     "text": [
      "\u001b[31;1mImport-Module: \u001b[31;1mThe specified module 'Ninmonkey.Console' was not loaded because no valid module file was found in any module directory.\u001b[0m\n",
      "\u001b[31;1mCountOf: \u001b[0m\n",
      "\u001b[31;1m\u001b[36;1mLine |\u001b[0m\n",
      "\u001b[31;1m\u001b[36;1m\u001b[36;1m   3 | \u001b[0m gc (gi 'generated_export.cs' -ea stop) | \u001b[36;1mCountOf\u001b[0m\n",
      "\u001b[31;1m\u001b[36;1m\u001b[36;1m\u001b[0m\u001b[36;1m\u001b[0m\u001b[36;1m     | \u001b[31;1m                                          ~~~~~~~\u001b[0m\n",
      "\u001b[31;1m\u001b[36;1m\u001b[36;1m\u001b[0m\u001b[36;1m\u001b[0m\u001b[36;1m\u001b[31;1m\u001b[31;1m\u001b[36;1m     | \u001b[31;1mThe term 'CountOf' is not recognized as a name of a cmdlet, function, script file, or executable program.\u001b[0m\n",
      "\u001b[31;1m\u001b[36;1m\u001b[36;1m\u001b[0m\u001b[36;1m\u001b[0m\u001b[36;1m\u001b[31;1m\u001b[31;1m\u001b[36;1m\u001b[31;1mCheck the spelling of the name, or if a path was included, verify that the path is correct and try again.\u001b[0m\n"
     ]
    }
   ],
   "source": [
    "Import-Module Ninmonkey.Console\n",
    "pushd -stack 'nb' 'H:\\github_fork\\microsoft🧑\\terminal'\n",
    "gc (gi 'generated_export.cs' -ea stop) | CountOf\n",
    "popd -stack 'nb'"
   ]
  }
 ],
 "metadata": {
  "kernelspec": {
   "display_name": ".NET (PowerShell)",
   "language": "PowerShell",
   "name": ".net-pwsh"
  },
  "language_info": {
   "name": "polyglot-notebook"
  },
  "polyglot_notebook": {
   "kernelInfo": {
    "defaultKernelName": "pwsh",
    "items": [
     {
      "aliases": [],
      "languageName": "pwsh",
      "name": "pwsh"
     }
    ]
   }
  }
 },
 "nbformat": 4,
 "nbformat_minor": 2
}
