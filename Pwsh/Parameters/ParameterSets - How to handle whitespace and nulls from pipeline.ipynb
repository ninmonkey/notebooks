{
 "cells": [
  {
   "attachments": {},
   "cell_type": "markdown",
   "metadata": {},
   "source": [
    "\n",
    "\n",
    "This example allows you to have:\n",
    "\n",
    "- have a `parameter` set as `mandatory`\n",
    "- but not throw errors when **blanks** come through, from the pipeline"
   ]
  },
  {
   "cell_type": "code",
   "execution_count": 27,
   "metadata": {
    "dotnet_interactive": {
     "language": "pwsh"
    },
    "vscode": {
     "languageId": "dotnet-interactive.pwsh"
    }
   },
   "outputs": [
    {
     "name": "stdout",
     "output_type": "stream",
     "text": [
      "Item: line1\r\n",
      "Item: line2\r\n"
     ]
    }
   ],
   "source": [
    "# Get-Content by default splits lines, causing nulls to be piped\n",
    "$logContent = Get-Content 'LogFile.log' -ea 'ignore'\n",
    "$logContent ??= \"line1`n`nline2`n`n\" -split '\\n'\n",
    "\n",
    "\n",
    "function ParseLog {\n",
    "    <#\n",
    "     .SYNOPSIS\n",
    "         example using 'return' as control flow\n",
    "     .EXAMPLE\n",
    "         Get-Content $Log | ParseLog\n",
    "    #>\n",
    "     param(\n",
    "        [AllowEmptyString()]\n",
    "        [AllowNull()]\n",
    "        [Parameter(Mandatory, ValueFromPipeline)][string]$InputObject,\n",
    "        [Parameter()][string]$Name        \n",
    "    )\n",
    "    process { \n",
    "        # gracefully, silently exit and go onto the next item\n",
    "        if( [String]::IsNullOrWhiteSpace($InputObject)) { \n",
    "              return\n",
    "        }\n",
    "        if( $User -and -not $Name ) { \n",
    "           throw \"Parameter -User requires -name\"\n",
    "        } \n",
    "        \"Item: $InputObject\" \n",
    "    }\n",
    "} \n",
    "\n",
    " $logcontent | ParseLog"
   ]
  },
  {
   "cell_type": "code",
   "execution_count": 28,
   "metadata": {
    "dotnet_interactive": {
     "language": "pwsh"
    },
    "vscode": {
     "languageId": "dotnet-interactive.pwsh"
    }
   },
   "outputs": [
    {
     "name": "stdout",
     "output_type": "stream",
     "text": [
      "Line: line1\r\n",
      "Line: \r\n",
      "Line: line2\r\n",
      "Line: \r\n",
      "Line: \r\n"
     ]
    }
   ],
   "source": [
    "# verify it had nulls \n",
    "$logContent | ForEach-Object{ \n",
    "   \"Line: $_\"\n",
    "}\n"
   ]
  },
  {
   "cell_type": "markdown",
   "metadata": {
    "dotnet_interactive": {
     "language": "pwsh"
    },
    "polyglot_notebook": {
     "language": "pwsh"
    },
    "vscode": {
     "languageId": "dotnet-interactive.pwsh"
    }
   },
   "source": [
    "<!--\n",
    "function ParseLog {\n",
    "    <#\n",
    "     .SYNOPSIS\n",
    "         example using 'return' as control flow\n",
    "     .EXAMPLE\n",
    "         Get-Content $Log | ParseLog\n",
    "    #>\n",
    "     param(\n",
    "        [AllowEmptyString()]\n",
    "        [AllowNull()]\n",
    "        [Parameter(Mandatory, ValueFromPipeline)][string]$InputObject,\n",
    "        [Parameter()][string]$Name        \n",
    "    )\n",
    "    process { \n",
    "        # gracefully, silently exit and go onto the next item\n",
    "        if( [string]::IsNullOrEmpty($InputObject)) { \n",
    "              return\n",
    "        }\n",
    "        if( $User -and -not $Name ) { \n",
    "           throw \"Parameter -User requires -name\"\n",
    "        } \n",
    "        \"Item: $InputObject\" \n",
    "    }\n",
    "} \n",
    "-->\n"
   ]
  },
  {
   "cell_type": "code",
   "execution_count": 29,
   "metadata": {
    "dotnet_interactive": {
     "language": "pwsh"
    },
    "vscode": {
     "languageId": "dotnet-interactive.pwsh"
    }
   },
   "outputs": [],
   "source": []
  },
  {
   "cell_type": "code",
   "execution_count": 30,
   "metadata": {
    "dotnet_interactive": {
     "language": "pwsh"
    },
    "vscode": {
     "languageId": "dotnet-interactive.pwsh"
    }
   },
   "outputs": [],
   "source": []
  },
  {
   "cell_type": "code",
   "execution_count": 31,
   "metadata": {
    "dotnet_interactive": {
     "language": "pwsh"
    },
    "vscode": {
     "languageId": "dotnet-interactive.pwsh"
    }
   },
   "outputs": [
    {
     "name": "stdout",
     "output_type": "stream",
     "text": [
      "Item: line1\r\n",
      "Item: line2\r\n"
     ]
    }
   ],
   "source": [
    "# now call with some nulls\n",
    "$logContent | ParseLog"
   ]
  },
  {
   "attachments": {},
   "cell_type": "markdown",
   "metadata": {},
   "source": [
    "## The Original Case where Mandatory Params Error\n"
   ]
  },
  {
   "cell_type": "markdown",
   "metadata": {},
   "source": []
  },
  {
   "cell_type": "code",
   "execution_count": 32,
   "metadata": {
    "dotnet_interactive": {
     "language": "pwsh"
    },
    "vscode": {
     "languageId": "dotnet-interactive.pwsh"
    }
   },
   "outputs": [
    {
     "name": "stdout",
     "output_type": "stream",
     "text": [
      "Item: line1\r\n",
      "\u001b[91mParseLog_Original: \r\n",
      "\u001b[96mLine |\r\n",
      "\u001b[96m  24 | \u001b[0m $logcontent | \u001b[96mParseLog_Original\u001b[0m\r\n",
      "\u001b[96m     | \u001b[91m               ~~~~~~~~~~~~~~~~~\r\n",
      "\u001b[91m\u001b[96m     | \u001b[91mCannot bind argument to parameter 'InputObject' because it is an empty string.\u001b[0m\r\n",
      "Item: line2\r\n",
      "\u001b[91mParseLog_Original: \r\n",
      "\u001b[96mLine |\r\n",
      "\u001b[96m  24 | \u001b[0m $logcontent | \u001b[96mParseLog_Original\u001b[0m\r\n",
      "\u001b[96m     | \u001b[91m               ~~~~~~~~~~~~~~~~~\r\n",
      "\u001b[91m\u001b[96m     | \u001b[91mCannot bind argument to parameter 'InputObject' because it is an empty string.\u001b[0m\r\n",
      "\u001b[91mParseLog_Original: \r\n",
      "\u001b[96mLine |\r\n",
      "\u001b[96m  24 | \u001b[0m $logcontent | \u001b[96mParseLog_Original\u001b[0m\r\n",
      "\u001b[96m     | \u001b[91m               ~~~~~~~~~~~~~~~~~\r\n",
      "\u001b[91m\u001b[96m     | \u001b[91mCannot bind argument to parameter 'InputObject' because it is an empty string.\u001b[0m\r\n"
     ]
    }
   ],
   "source": [
    "function ParseLog_Original {\n",
    "    <#\n",
    "     .SYNOPSIS\n",
    "         example using 'return' as control flow\n",
    "     .EXAMPLE\n",
    "         Get-Content $Log | ParseLog\n",
    "    #>\n",
    "     param(\n",
    "        [Parameter(Mandatory, ValueFromPipeline)][string]$InputObject,\n",
    "        [Parameter()][string]$Name        \n",
    "    )\n",
    "    process { \n",
    "        # gracefully, silently exit and go onto the next item\n",
    "        if( [string]::IsNullOrEmpty($InputObject)) { \n",
    "              return\n",
    "        }\n",
    "        if( $User -and -not $Name ) { \n",
    "           throw \"Parameter -User requires -name\"\n",
    "        } \n",
    "        \"Item: $InputObject\" \n",
    "    }\n",
    "} \n",
    "\n",
    "$logcontent | ParseLog_Original"
   ]
  },
  {
   "cell_type": "code",
   "execution_count": 33,
   "metadata": {
    "dotnet_interactive": {
     "language": "pwsh"
    },
    "vscode": {
     "languageId": "dotnet-interactive.pwsh"
    }
   },
   "outputs": [
    {
     "name": "stdout",
     "output_type": "stream",
     "text": [
      "Item: a\r\n",
      "Item: e\r\n",
      "Item: a\r\n",
      "\u001b[91mParseLog_Original: \r\n",
      "\u001b[96mLine |\r\n",
      "\u001b[96m   2 | \u001b[0m 'a', $null, 'e' | \u001b[96mParseLog_Original\u001b[0m\r\n",
      "\u001b[96m     | \u001b[91m                   ~~~~~~~~~~~~~~~~~\r\n",
      "\u001b[91m\u001b[96m     | \u001b[91mCannot bind argument to parameter 'InputObject' because it is an empty string.\u001b[0m\r\n",
      "Item: e\r\n"
     ]
    }
   ],
   "source": [
    "'a', $null, 'e' | ParseLog\n",
    "'a', $null, 'e' | ParseLog_Original\n"
   ]
  },
  {
   "cell_type": "code",
   "execution_count": 34,
   "metadata": {
    "dotnet_interactive": {
     "language": "pwsh"
    },
    "vscode": {
     "languageId": "dotnet-interactive.pwsh"
    }
   },
   "outputs": [
    {
     "name": "stdout",
     "output_type": "stream",
     "text": [
      "Item: a\r\n",
      "Item: e\r\n",
      "Item: a\r\n",
      "\u001b[91mParseLog_Original: \r\n",
      "\u001b[96mLine |\r\n",
      "\u001b[96m   2 | \u001b[0m 'a', '', 'e' | \u001b[96mParseLog_Original\u001b[0m\r\n",
      "\u001b[96m     | \u001b[91m                ~~~~~~~~~~~~~~~~~\r\n",
      "\u001b[91m\u001b[96m     | \u001b[91mCannot bind argument to parameter 'InputObject' because it is an empty string.\u001b[0m\r\n",
      "Item: e\r\n"
     ]
    }
   ],
   "source": [
    "'a', '', 'e' | ParseLog \n",
    "'a', '', 'e' | ParseLog_Original\n"
   ]
  }
 ],
 "metadata": {
  "kernelspec": {
   "display_name": ".NET (PowerShell)",
   "language": "PowerShell",
   "name": ".net-pwsh"
  },
  "language_info": {
   "name": "PowerShell"
  }
 },
 "nbformat": 4,
 "nbformat_minor": 2
}
