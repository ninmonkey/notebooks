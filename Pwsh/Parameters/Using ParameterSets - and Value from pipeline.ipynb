{
 "cells": [
  {
   "attachments": {},
   "cell_type": "markdown",
   "metadata": {},
   "source": [
    "## summary\n",
    "\n",
    "| Name | Test | Good ? |\n",
    "| - | - | - |\n",
    "| name | code | result |\n",
    "| name | `'a' \\| doStuff2  'red'` | **Exception**:  positional parameter cannot be found that accepts argument 'red' |\n",
    "| name | code | result |\n",
    "\n",
    "Markdown format is not great, use transpilation of examples. \n",
    "\n"
   ]
  },
  {
   "cell_type": "code",
   "execution_count": 2,
   "metadata": {
    "dotnet_interactive": {
     "language": "pwsh"
    },
    "polyglot_notebook": {
     "language": "pwsh"
    },
    "vscode": {
     "languageId": "dotnet-interactive.pwsh"
    }
   },
   "outputs": [],
   "source": [
    "## Variation 1, both mandatory, and one pipe\n",
    "\n",
    "function doStuff {\n",
    "    [CmdletBinding()]\n",
    "    param(\n",
    "        [Parameter(Mandatory, ValueFromPipeline)]\n",
    "        [object]$InputObject,\n",
    "\n",
    "        [Parameter(Mandatory)]\n",
    "        [string]$Color\n",
    "    )\n",
    "    process {\n",
    "         \"Did stuff: $InputObject - with $Color\"\n",
    "    }\n",
    "\n",
    "}"
   ]
  },
  {
   "cell_type": "code",
   "execution_count": 5,
   "metadata": {
    "dotnet_interactive": {
     "language": "pwsh"
    },
    "vscode": {
     "languageId": "dotnet-interactive.pwsh"
    }
   },
   "outputs": [
    {
     "name": "stdout",
     "output_type": "stream",
     "text": [
      "Did stuff: target - with blue\r\n",
      "\r\n",
      "\u001b[95mcmdlet doStuff at command pipeline position 1\u001b[0m\r\n",
      "Supply values for the following parameters:\r\n"
     ]
    },
    {
     "ename": "Error",
     "evalue": "System.OperationCanceledException: Command :SubmitCode: doStuff 'target' 'blue'\r\n\r\n'target' | doStuff 'blu ... cancelled.",
     "output_type": "error",
     "traceback": [
      "System.OperationCanceledException: Command :SubmitCode: doStuff 'target' 'blue'\r\n",
      "\r\n",
      "'target' | doStuff 'blu ... cancelled."
     ]
    }
   ],
   "source": [
    "doStuff 'target' 'blue'"
   ]
  },
  {
   "attachments": {},
   "cell_type": "markdown",
   "metadata": {},
   "source": [
    "```ps1\n",
    "# This actually times out in notebooks, because of no prompt\n",
    "'target' | doStuff 'blue'\n",
    "```\n"
   ]
  },
  {
   "cell_type": "markdown",
   "metadata": {},
   "source": [
    "```ps1\n",
    "cmdlet doStuff at command pipeline position 1\n",
    "Supply values for the following parameters:\n",
    "Error: System.OperationCanceledException: Command :SubmitCode: doStuff 'target' 'blue'\n",
    "\n",
    "'target' | doStuff 'blu ... cancelled.\n",
    "```"
   ]
  },
  {
   "attachments": {},
   "cell_type": "markdown",
   "metadata": {
    "dotnet_interactive": {
     "language": "pwsh"
    }
   },
   "source": [
    "## Variation 1, both mandatory, and one pipe\n",
    "\n",
    "```ps1\n",
    "function doStuff2 {\n",
    "    \n",
    "    [CmdletBinding(PositionalBinding = $false)]\n",
    "    param(\n",
    "        [Parameter(Mandatory, ValueFromPipeline)]\n",
    "        [object]$InputObject,\n",
    "\n",
    "        [Parameter()]\n",
    "        [string]$Color\n",
    "    )\n",
    "    process {\n",
    "         \"Did stuff: $InputObject - with $Color\"\n",
    "    }\n",
    "\n",
    "}\n",
    "function doStuff3 {\n",
    "    \n",
    "    [CmdletBinding(PositionalBinding = $false)]\n",
    "    param(\n",
    "        [Parameter(Mandatory, ValueFromPipeline)]\n",
    "        [object]$InputObject,\n",
    "\n",
    "        [Parameter()]\n",
    "        [string]$Color\n",
    "    )\n",
    "    process {\n",
    "         \"Did stuff: $InputObject - with $Color\"\n",
    "    }\n",
    "\n",
    "}\n",
    "\n",
    "'a' | doStuff2  'red'\n",
    "# error: doStuff2: A positional parameter cannot be found that accepts argument 'red'\n",
    "\n",
    "Pwsh> 'a' | doStuff2 -Color 'red'\n",
    "# good: Did stuff: a - with red"
   ]
  },
  {
   "attachments": {},
   "cell_type": "markdown",
   "metadata": {},
   "source": [
    "```ps1\n",
    "Pwsh> 'a' | doStuff4 -Color 'red'\n",
    "# good: Did stuff: a - with red\n",
    "\n",
    "\n",
    "\n",
    "Pwsh> 'a' | doStuff4 'red'\n",
    "# good: Did stuff: a - with red\n",
    "```"
   ]
  }
 ],
 "metadata": {
  "kernelspec": {
   "display_name": ".NET (PowerShell)",
   "language": "PowerShell",
   "name": ".net-pwsh"
  },
  "language_info": {
   "name": "PowerShell"
  }
 },
 "nbformat": 4,
 "nbformat_minor": 2
}
