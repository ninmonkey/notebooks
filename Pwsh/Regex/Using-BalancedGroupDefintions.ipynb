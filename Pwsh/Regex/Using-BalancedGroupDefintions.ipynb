{
 "cells": [
  {
   "cell_type": "markdown",
   "metadata": {},
   "source": [
    "### about\n",
    "\n",
    "Using Regex's with Balanced groups"
   ]
  },
  {
   "cell_type": "code",
   "execution_count": 3,
   "metadata": {
    "dotnet_interactive": {
     "language": "pwsh"
    },
    "polyglot_notebook": {
     "kernelName": "pwsh"
    }
   },
   "outputs": [
    {
     "name": "stdout",
     "output_type": "stream",
     "text": [
      "\n",
      "\u001b[32;1mModuleType\u001b[0m\u001b[32;1m Version   \u001b[0m \u001b[32;1;3mPreRelease\u001b[0m\u001b[32;1m Name                               \u001b[0m\u001b[32;1m ExportedCommands\u001b[0m\n",
      "\u001b[32;1m----------\u001b[0m \u001b[32;1m-------   \u001b[0m \u001b[32;1m----------\u001b[0m \u001b[32;1m----                               \u001b[0m \u001b[32;1m----------------\u001b[0m\n",
      "Script     0.7.8                 irregular                           {Compress-Regex, Export-RegEx…\n",
      "( path:\"c:\\foo\" && ( ext:ps1 dm:last2days ) )\n",
      "\n"
     ]
    }
   ],
   "source": [
    "Import-module irregular -passThru\n",
    "$re = @{}\n",
    "$Str = @'\n",
    "( path:\"c:\\foo\" && ( ext:ps1 dm:last2days ) )\n",
    "'@\n",
    "\n",
    "$Str"
   ]
  },
  {
   "cell_type": "code",
   "execution_count": 5,
   "metadata": {
    "dotnet_interactive": {
     "language": "pwsh"
    },
    "polyglot_notebook": {
     "kernelName": "pwsh"
    }
   },
   "outputs": [
    {
     "name": "stdout",
     "output_type": "stream",
     "text": [
      "(?x)\r\n",
      "^\r\n",
      "# any of neither balanced character\r\n",
      "[^()]*\r\n",
      "\r\n",
      "# open: lefty parens, closing: righty parens\r\n",
      "\\(\r\n",
      "(?<Open>.*)\r\n",
      "\\)\r\n",
      "\r\n",
      "$\r\n"
     ]
    }
   ],
   "source": [
    "$re.Balance = @'\n",
    "(?x)\n",
    "    ^\n",
    "    # any of neither balanced character\n",
    "    [^()]*\n",
    "\n",
    "    # open: lefty parens, closing: righty parens\n",
    "    \\(\n",
    "    (?<Open>.*)\n",
    "    \\)\n",
    "\n",
    "    $\n",
    "'@\n",
    "\n",
    "$re.Balance"
   ]
  }
 ],
 "metadata": {
  "kernelspec": {
   "display_name": ".NET (PowerShell)",
   "language": "PowerShell",
   "name": ".net-pwsh"
  },
  "language_info": {
   "name": "polyglot-notebook"
  },
  "polyglot_notebook": {
   "kernelInfo": {
    "defaultKernelName": "pwsh",
    "items": [
     {
      "aliases": [],
      "languageName": "pwsh",
      "name": "pwsh"
     }
    ]
   }
  }
 },
 "nbformat": 4,
 "nbformat_minor": 2
}
