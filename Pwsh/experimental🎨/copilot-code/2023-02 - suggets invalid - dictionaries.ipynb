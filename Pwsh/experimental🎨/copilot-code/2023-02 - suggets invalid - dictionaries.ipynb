{
 "cells": [
  {
   "cell_type": "code",
   "execution_count": null,
   "metadata": {
    "dotnet_interactive": {
     "language": "pwsh"
    },
    "polyglot_notebook": {
     "kernelName": "pwsh"
    }
   },
   "outputs": [],
   "source": [
    "# this completion is interesting in a couple of ways\n",
    "# at first it completed \n",
    "$x = @{ \n",
    "    [bool]$a  = $true\n",
    "}\n",
    "$y = @{ \n",
    "    [bool]$a  = $true\n",
    "    [bool]$b  = $true\n",
    "}"
   ]
  },
  {
   "attachments": {},
   "cell_type": "markdown",
   "metadata": {
    "dotnet_interactive": {
     "language": "pwsh"
    },
    "polyglot_notebook": {
     "kernelName": "pwsh"
    }
   },
   "source": [
    "This completion is interesting in a couple of ways. At first it Completed this statement X:\n",
    "```ps1\n",
    "$x = @{ \n",
    "    [bool]$a  = $true\n",
    "}\n",
    "```\n",
    "Then continued as Y:\n",
    "```ps1\n",
    "$y = @{ \n",
    "    [bool]$a  = $true\n",
    "    [bool]$b  = $true\n",
    "}\n",
    "```\n",
    "This is kind of tricky,\n",
    "Note that X runs without errors. However Y throws exceptions. \n",
    "```ps1\n",
    "InvalidOperation:\n",
    "Line |\n",
    "   3 |      [bool]$b = $true\n",
    "     |      ~~~~~~~~~~\n",
    "     | Duplicate keys 'False' are not allowed in hash literals.\n",
    "\n",
    "# and a variation\n",
    "InvalidOperation:\n",
    "Line |\n",
    "   2 |      $a  = $true\n",
    "     |      ~~\n",
    "     | A null key is not allowed in a hash literal.\n",
    "```\n",
    "```ps1\n",
    "$x = @{ \n",
    "    $a  = $true\n",
    "}\n",
    "```\n",
    "\n",
    "### What is going on?\n",
    "\n",
    "```ps1\n",
    "$x = @{ \n",
    "    [bool]$a  = $true\n",
    "}\n",
    "```\n",
    "\n",
    "It's a little tricky. \n",
    "\n",
    "- `$a` is `$null` because it's undeclared. Hashtables can't have a null key (when it's a literal), \n",
    "- But, there's a type conversion \n",
    "- `[bool]$null` coerced a null value to `$false`,\n",
    "- meaning it creates a hashtable with one key, which is false, it's coerced to bool (its not typing)\n",
    "\n",
    "It ends up creating a hashtable with a key of `$false` with the value `$true`\n",
    "```ps1\n",
    "$key = [bool]$null\n",
    "$hash[ $key ] = $false\n",
    "```"
   ]
  },
  {
   "attachments": {},
   "cell_type": "markdown",
   "metadata": {
    "dotnet_interactive": {
     "language": "pwsh"
    },
    "polyglot_notebook": {
     "kernelName": "pwsh"
    }
   },
   "source": [
    "```ps1\n",
    "$y = @{ \n",
    "    [bool]$a  = $true\n",
    "    [bool]$b  = $true\n",
    "}\n",
    "# same thing\n",
    "$key = [bool]$null\n",
    "$hash[ $key ] = $true\n",
    "\n",
    "$key = [bool]$null #error, key '$false' already exists'\n",
    "$hash[ $key ] = $true\n",
    "```"
   ]
  }
 ],
 "metadata": {
  "kernelspec": {
   "display_name": ".NET (PowerShell)",
   "language": "PowerShell",
   "name": ".net-pwsh"
  },
  "polyglot_notebook": {
   "kernelInfo": {
    "defaultKernelName": "pwsh",
    "items": [
     {
      "aliases": [
       "powershell"
      ],
      "languageName": "PowerShell",
      "name": "pwsh"
     },
     {
      "aliases": [],
      "languageName": null,
      "name": ".NET"
     },
     {
      "aliases": [
       "frontend"
      ],
      "languageName": null,
      "name": "vscode"
     }
    ]
   }
  }
 },
 "nbformat": 4,
 "nbformat_minor": 2
}
