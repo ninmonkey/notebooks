{
 "cells": [
  {
   "cell_type": "code",
   "execution_count": null,
   "metadata": {
    "dotnet_interactive": {
     "language": "pwsh"
    },
    "vscode": {
     "languageId": "dotnet-interactive.pwsh"
    }
   },
   "outputs": [],
   "source": [
    "#Requires -Version 7\n",
    "\n",
    "function New-TextObject {\n",
    "    <#\n",
    "        .synopsis\n",
    "            sugar for the command line -- ix: [pscustomobject]@{a=1}\n",
    "        .notes\n",
    "            .\n",
    "        .example\n",
    "            Normally you can't pipe raw strings to FW , and use columns\n",
    "            🐒> 'a'..'z' | obj | fw -Column 5\n",
    "\n",
    "a             b             c             d            e\n",
    "f             g             h             i            j\n",
    "k             l             m             n            o\n",
    "        .example\n",
    "            PS> @{name='cat'} | Obj\n",
    "        .example\n",
    "            PS> # some types are a round trip\n",
    "                $error |  Inspect->ErrorType | obj | dict | obj | dict\n",
    "        .link\n",
    "            Dev.Nin\\New-NinPSCustomObject\n",
    "        .link\n",
    "            dev.nin\\New-HashtableFromObject\n",
    "        .link\n",
    "            dev.nin\\New-HashtableLookup\n",
    "        #>\n",
    "    [Alias('TextObj')]\n",
    "    [outputtype([System.Management.Automation.PSObject] )]\n",
    "    [cmdletbinding()]\n",
    "    param(\n",
    "        # hastable[s]\n",
    "        # switched to obj, so strings auto coerce easier\n",
    "        [Alias('Hashtable')]\n",
    "        [parameter(Mandatory, Position = 0, ValueFromPipeline)]\n",
    "        [object]$InputObject\n",
    "\n",
    "    )\n",
    "    begin {\n",
    "    }\n",
    "    process {\n",
    "\n",
    "        if ($InputObject -is 'hashtable') {\n",
    "            $InputObject['PSTypeName'] = 'DevNin.Obj'\n",
    "        }\n",
    "        # future\n",
    "        # should include when the input is an object?\n",
    "        $InputObject.GetType().FullName\n",
    "        | Write-Debug # prints: [System.Collections.Specialized.OrderedDictionary]\n",
    "        $tinfo = $InputObject.GetType().FullName\n",
    "\n",
    "        switch ($Tinfo) {\n",
    "            { $_ -is 'System.String' -or $_ -is 'System.Char' } {\n",
    "\n",
    "                [pscustomobject]@{\n",
    "                    PSTypeName = 'DevNin.StringObject'\n",
    "                    Name       = $InputObject\n",
    "                }\n",
    "            }\n",
    "            default {\n",
    "                [pscustomobject]$InputObject\n",
    "            }\n",
    "        }\n",
    "    }\n",
    "    end {\n",
    "    }\n",
    "}\n",
    "\n",
    "if (! $experimentToExport) {\n",
    "    # ...\n",
    "}"
   ]
  }
 ],
 "metadata": {
  "kernelspec": {
   "display_name": ".NET (PowerShell)",
   "language": "PowerShell",
   "name": ".net-pwsh"
  },
  "language_info": {
   "name": "PowerShell"
  }
 },
 "nbformat": 4,
 "nbformat_minor": 2
}
