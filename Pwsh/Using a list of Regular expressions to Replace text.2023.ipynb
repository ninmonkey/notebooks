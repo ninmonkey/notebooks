{
 "cells": [
  {
   "cell_type": "code",
   "execution_count": 16,
   "metadata": {
    "dotnet_interactive": {
     "language": "pwsh"
    },
    "polyglot_notebook": {
     "kernelName": "pwsh"
    }
   },
   "outputs": [
    {
     "name": "stdout",
     "output_type": "stream",
     "text": [
      "----------------------------------------------------------------------------------------------------\n",
      "cat \n",
      "in the bat dog\n",
      "----------------------------------------------------------------------------------------------------\n",
      "🐈 \n",
      "in the bat 🐶\n"
     ]
    }
   ],
   "source": [
    "function Hr { \n",
    "    # make output easier to read\n",
    "    param()\n",
    "    \n",
    "    '-' * $host.ui.RawUI.WindowSize.Width -join ''\n",
    "}\n",
    "\n",
    "\n",
    "$Mappings = @(\n",
    "    @{\n",
    "        Pattern = 'cat'\n",
    "        Replace = '🐈'\n",
    "    }\n",
    "    @{\n",
    "        Pattern = 'Dog'\n",
    "        Replace = '🐶'\n",
    "    }\n",
    ") | ForEach-Object { \n",
    "    [PSCustomObject]$_ # just to shorten the above\n",
    "}\n",
    "$originalText = \"cat `nin the bat dog\" -split '\\r\\n'\n",
    "\n",
    "\n",
    "$accum = $originalText\n",
    "foreach($map in $mappings) {\n",
    "    # $accum = [Regex]::Replace($accum, $map.Pattern, $map.Replace)\n",
    "    $accum = $accum -replace $map.Pattern, $map.Replace\n",
    "}\n",
    "\n",
    "hr\n",
    "$Originaltext\n",
    "hr\n",
    "$accum\n"
   ]
  }
 ],
 "metadata": {
  "kernelspec": {
   "display_name": ".NET (PowerShell)",
   "language": "PowerShell",
   "name": ".net-pwsh"
  },
  "language_info": {
   "name": "polyglot-notebook"
  },
  "polyglot_notebook": {
   "kernelInfo": {
    "defaultKernelName": "pwsh",
    "items": [
     {
      "aliases": [],
      "languageName": "pwsh",
      "name": "pwsh"
     }
    ]
   }
  }
 },
 "nbformat": 4,
 "nbformat_minor": 2
}
