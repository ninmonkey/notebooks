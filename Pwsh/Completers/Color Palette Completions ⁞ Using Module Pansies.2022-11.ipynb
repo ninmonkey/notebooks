{
 "cells": [
  {
   "cell_type": "code",
   "execution_count": 3,
   "metadata": {
    "dotnet_interactive": {
     "language": "pwsh"
    },
    "polyglot_notebook": {
     "language": "pwsh"
    },
    "vscode": {
     "languageId": "dotnet-interactive.pwsh"
    }
   },
   "outputs": [],
   "source": [
    "# using namespace PoshCode.Pansies\n",
    "Import-Module Pansies -MinimumVersion 1.6.0"
   ]
  },
  {
   "attachments": {},
   "cell_type": "markdown",
   "metadata": {},
   "source": [
    "\n",
    "reference: [issue](https://github.com/PoshCode/Pansies/issues/24#issuecomment-1219045095)\n",
    "\n",
    "![palette.completion](https://user-images.githubusercontent.com/192942/185298911-e05455e1-01d8-42ee-bfe3-5f44ff1b2c13.png)\n"
   ]
  },
  {
   "cell_type": "code",
   "execution_count": 4,
   "metadata": {
    "dotnet_interactive": {
     "language": "pwsh"
    },
    "vscode": {
     "languageId": "dotnet-interactive.pwsh"
    }
   },
   "outputs": [
    {
     "name": "stdout",
     "output_type": "stream",
     "text": [
      "\u001b[38;5;33mHi world\u001b[39m\r\n"
     ]
    }
   ],
   "source": [
    "using namespace PoshCode.Pansies\n",
    "function WriteTx {\n",
    "    [CmdletBinding()]\n",
    "    param(\n",
    "        [Object]$Object = 'hi world',\n",
    "\n",
    "        [ArgumentCompleter([Palettes.X11Palette])]\n",
    "        [RgbColor]\n",
    "        $Foreground = 'xt33'\n",
    "    )\n",
    "    write-host $Object -fg $Foreground\n",
    "}\n",
    "\n",
    "WriteTx \"Hi world\""
   ]
  },
  {
   "attachments": {},
   "cell_type": "markdown",
   "metadata": {},
   "source": []
  }
 ],
 "metadata": {
  "kernelspec": {
   "display_name": ".NET (PowerShell)",
   "language": "PowerShell",
   "name": ".net-pwsh"
  },
  "language_info": {
   "name": "PowerShell"
  }
 },
 "nbformat": 4,
 "nbformat_minor": 2
}
