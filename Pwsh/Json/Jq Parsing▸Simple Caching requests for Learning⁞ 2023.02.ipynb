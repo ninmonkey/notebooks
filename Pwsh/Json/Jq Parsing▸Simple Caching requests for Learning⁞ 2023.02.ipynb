{
 "cells": [
  {
   "cell_type": "code",
   "execution_count": null,
   "metadata": {
    "dotnet_interactive": {
     "language": "pwsh"
    },
    "polyglot_notebook": {
     "kernelName": "pwsh"
    }
   },
   "outputs": [],
   "source": [
    "function Invoke-CachedCurl { \n",
    "    # override curl with cached values for the session\n",
    "    [OutputType('System.String')]\n",
    "    [Alias('cCurl', 'Curl')]\n",
    "    [CmdletBinding()]\n",
    "    param(\n",
    "        [Parameter(Position=0)]\n",
    "        [string]$Url,\n",
    "        [switch]$PassThru, [switch]$ClearCache\n",
    "    ) \n",
    "    if($clearCache) { $script:cache = @{} }\n",
    "    if($PassThru) { return $script:cache }\n",
    "    $script:cache ??= @{}  # using a couple 7 operators for breviety in a notebook\n",
    "    return ( $script:cache[ $url ] ??= (Invoke-WebRequest -Uri $Url ).RawContent )\n",
    "}\n",
    "function hr { \n",
    "    # writes console dashes the width of console\n",
    "    [CmdletBinding()]\n",
    "    param()\n",
    "    $width = (Get-Host).UI.RawUI.WindowSize.Width\n",
    "    $dash = '-' * $width\n",
    "    return $dash\n",
    "}\n",
    "\n",
    "hr\n"
   ]
  },
  {
   "cell_type": "code",
   "execution_count": null,
   "metadata": {
    "dotnet_interactive": {
     "language": "pwsh"
    },
    "polyglot_notebook": {
     "kernelName": "pwsh"
    }
   },
   "outputs": [],
   "source": [
    " Curl 'https://api.github.com/repos/stedolan/jq/commits?per_page=15'\n",
    "# curl.exe 'https://api.github.com/repos/stedolan/jq/commits?per_page=5' -UseBasicParsing | Select-Object -ExpandProperty RawContent | ConvertFrom-Json | Select-Object -First 5 | ConvertTo-Json -Depth 10\n",
    "hr\n",
    "# ccurl 'https://api.github.com/repos/stedolan/jq/commits?per_page=5' | jq '.'"
   ]
  },
  {
   "cell_type": "code",
   "execution_count": null,
   "metadata": {
    "dotnet_interactive": {
     "language": "pwsh"
    },
    "polyglot_notebook": {
     "kernelName": "pwsh"
    }
   },
   "outputs": [],
   "source": []
  },
  {
   "attachments": {},
   "cell_type": "markdown",
   "metadata": {
    "dotnet_interactive": {
     "language": "pwsh"
    },
    "polyglot_notebook": {
     "kernelName": "pwsh"
    }
   },
   "source": [
    "- [Tutorial Intro with many examples](https://stedolan.github.io/jq/tutorial/)\n",
    "- [Tutorial and Reference example](https://stedolan.github.io/jq/manual/#TypesandValues)\n"
   ]
  }
 ],
 "metadata": {
  "kernelspec": {
   "display_name": ".NET (C#)",
   "language": "C#",
   "name": ".net-csharp"
  },
  "polyglot_notebook": {
   "kernelInfo": {
    "defaultKernelName": "csharp",
    "items": [
     {
      "aliases": [
       "c#",
       "C#"
      ],
      "languageName": "C#",
      "name": "csharp"
     },
     {
      "aliases": [
       "frontend"
      ],
      "name": "vscode"
     },
     {
      "aliases": [],
      "name": ".NET"
     },
     {
      "aliases": [
       "f#",
       "F#"
      ],
      "languageName": "F#",
      "name": "fsharp"
     },
     {
      "aliases": [],
      "languageName": "HTML",
      "name": "html"
     },
     {
      "aliases": [],
      "languageName": "KQL",
      "name": "kql"
     },
     {
      "aliases": [],
      "languageName": "Mermaid",
      "name": "mermaid"
     },
     {
      "aliases": [
       "powershell"
      ],
      "languageName": "PowerShell",
      "name": "pwsh"
     },
     {
      "aliases": [],
      "languageName": "SQL",
      "name": "sql"
     },
     {
      "aliases": [],
      "name": "value"
     }
    ]
   }
  }
 },
 "nbformat": 4,
 "nbformat_minor": 2
}
