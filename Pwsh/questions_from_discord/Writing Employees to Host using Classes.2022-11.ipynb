{
 "cells": [
  {
   "cell_type": "markdown",
   "metadata": {},
   "source": [
    "Don't worry about the functionality, it's a random example\n",
    "that shows printing multiple statements to `write-host` without explicitly calling it from the inner functions\n",
    "\n",
    "```ps1\n",
    "Pwsh> $Boss.PrintStats()\n",
    "```\n",
    "outputs\n",
    "```ps1\n",
    "[User: Name = bob, Id = 0]\n",
    "    Manages employees: 2, 9, 123, 645\n",
    "    Employeecount: 4\n",
    "```"
   ]
  },
  {
   "cell_type": "code",
   "execution_count": 23,
   "metadata": {
    "dotnet_interactive": {
     "language": "pwsh"
    },
    "vscode": {
     "languageId": "dotnet-interactive.pwsh"
    }
   },
   "outputs": [],
   "source": [
    "class User {\n",
    "    [int]$Id = 0\n",
    "    [string]$Name = 'anonymous'\n",
    "\n",
    "    [string] PrintStats() {\n",
    "        return @(\n",
    "            $this.ToString()\n",
    "            \"`n    Manages employees: \"\n",
    "            $this.GetEmployees() | Sort-Object | Join-String -sep ', ' \n",
    "\n",
    "            \"`n    Total Employee Count: \"\n",
    "            $This.GetEmployees().Count\n",
    "        ) -join ''\n",
    "    }\n",
    "\n",
    "    [int[]] GetEmployees() { \n",
    "        return @(9, 2, 123, 645)\n",
    "    }\n",
    "\n",
    "    [string] ToString() {\n",
    "        $render = '[User: Name = {0}, Id = {1}]' -f @( \n",
    "            $this.Name\n",
    "            $this.Id\n",
    "        )\n",
    "        return $render\n",
    "    }\n",
    "}"
   ]
  },
  {
   "cell_type": "code",
   "execution_count": 24,
   "metadata": {
    "dotnet_interactive": {
     "language": "pwsh"
    },
    "vscode": {
     "languageId": "dotnet-interactive.pwsh"
    }
   },
   "outputs": [
    {
     "name": "stdout",
     "output_type": "stream",
     "text": [
      "\r\n",
      "\u001b[32;1mId Name\u001b[0m\r\n",
      "\u001b[32;1m-- ----\u001b[0m\r\n",
      " 0 bob\r\n",
      "\r\n"
     ]
    }
   ],
   "source": [
    "$Boss = [User]@{ Name = 'bob' ; Id = 0}\n",
    "\n",
    "$Boss"
   ]
  },
  {
   "cell_type": "code",
   "execution_count": 25,
   "metadata": {
    "dotnet_interactive": {
     "language": "pwsh"
    },
    "vscode": {
     "languageId": "dotnet-interactive.pwsh"
    }
   },
   "outputs": [
    {
     "name": "stdout",
     "output_type": "stream",
     "text": [
      "[User: Name = bob, Id = 0]\r\n"
     ]
    }
   ],
   "source": [
    "$Boss.ToString()"
   ]
  },
  {
   "cell_type": "code",
   "execution_count": 26,
   "metadata": {
    "dotnet_interactive": {
     "language": "pwsh"
    },
    "vscode": {
     "languageId": "dotnet-interactive.pwsh"
    }
   },
   "outputs": [
    {
     "name": "stdout",
     "output_type": "stream",
     "text": [
      "[User: Name = bob, Id = 0]\n",
      "    Manages employees: 2, 9, 123, 645\n",
      "    Total Employee Count: 4\r\n"
     ]
    }
   ],
   "source": [
    "$Boss.PrintStats()"
   ]
  }
 ],
 "metadata": {
  "kernelspec": {
   "display_name": ".NET (PowerShell)",
   "language": "PowerShell",
   "name": ".net-pwsh"
  },
  "language_info": {
   "name": "PowerShell"
  }
 },
 "nbformat": 4,
 "nbformat_minor": 2
}
