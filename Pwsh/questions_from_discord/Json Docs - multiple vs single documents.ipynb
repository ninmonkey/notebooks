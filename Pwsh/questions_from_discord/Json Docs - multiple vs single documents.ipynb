{
 "cells": [
  {
   "cell_type": "code",
   "execution_count": 2,
   "metadata": {
    "dotnet_interactive": {
     "language": "pwsh"
    },
    "polyglot_notebook": {
     "language": "pwsh"
    },
    "vscode": {
     "languageId": "dotnet-interactive.pwsh"
    }
   },
   "outputs": [
    {
     "name": "stdout",
     "output_type": "stream",
     "text": [
      "\r\n",
      "\u001b[32;1mName Value\u001b[0m\r\n",
      "\u001b[32;1m---- -----\u001b[0m\r\n",
      "Name bob\r\n",
      "Name Jen\r\n",
      "Name Sue\r\n",
      "\r\n"
     ]
    }
   ],
   "source": [
    "# a fake table\n",
    "$table = @(\n",
    "    @{ Name = 'bob' }\n",
    "    @{ Name = 'Jen' }\n",
    "    @{ Name = 'Sue' }\n",
    ")\n",
    "\n",
    "$table | Ft -auto # base table"
   ]
  },
  {
   "cell_type": "code",
   "execution_count": 3,
   "metadata": {
    "dotnet_interactive": {
     "language": "pwsh"
    },
    "vscode": {
     "languageId": "dotnet-interactive.pwsh"
    }
   },
   "outputs": [
    {
     "name": "stdout",
     "output_type": "stream",
     "text": [
      "{\r\n",
      "  \"Name\": \"bob\"\r\n",
      "}\r\n",
      "{\r\n",
      "  \"Name\": \"Jen\"\r\n",
      "}\r\n",
      "{\r\n",
      "  \"Name\": \"Sue\"\r\n",
      "}\r\n"
     ]
    }
   ],
   "source": [
    "# Example1\n",
    "# this ends up creating 1 complete json document, per row\n",
    "foreach($record in $table) {\n",
    "    $record | ConvertTo-Json\n",
    "}\n"
   ]
  },
  {
   "cell_type": "code",
   "execution_count": 5,
   "metadata": {
    "dotnet_interactive": {
     "language": "pwsh"
    },
    "vscode": {
     "languageId": "dotnet-interactive.pwsh"
    }
   },
   "outputs": [
    {
     "name": "stdout",
     "output_type": "stream",
     "text": [
      "[\r\n",
      "  {\r\n",
      "    \"Name\": \"bob\"\r\n",
      "  },\r\n",
      "  {\r\n",
      "    \"Name\": \"Jen\"\r\n",
      "  },\r\n",
      "  {\r\n",
      "    \"Name\": \"Sue\"\r\n",
      "  }\r\n",
      "]\r\n"
     ]
    }
   ],
   "source": [
    "# Example2\n",
    "# the same data as a single json document looks like:\n",
    "$table | ConvertTo-Json"
   ]
  },
  {
   "cell_type": "code",
   "execution_count": 6,
   "metadata": {
    "dotnet_interactive": {
     "language": "pwsh"
    },
    "vscode": {
     "languageId": "dotnet-interactive.pwsh"
    }
   },
   "outputs": [
    {
     "name": "stdout",
     "output_type": "stream",
     "text": [
      "\u001b[91mConvertFrom-Json: \r\n",
      "\u001b[96mLine |\r\n",
      "\u001b[96m   4 | \u001b[0m  { \"Name\": \"Sue\" }' | \u001b[96mConvertFrom-Json\u001b[0m\r\n",
      "\u001b[96m     | \u001b[91m                       ~~~~~~~~~~~~~~~~\r\n",
      "\u001b[91m\u001b[96m     | \u001b[91mConversion from JSON failed with error: Additional text encountered after finished reading JSON content: {. Path '', line 2, position 1.\u001b[0m\r\n"
     ]
    }
   ],
   "source": [
    "# Meaning if the raw text from Example1 is merged, and then try to load it as json\n",
    "# it ends up as a parse error\n",
    "'{ \"Name\": \"bob\" }\n",
    " { \"Name\": \"Jen\" }\n",
    " { \"Name\": \"Sue\" }' | ConvertFrom-Json"
   ]
  },
  {
   "cell_type": "code",
   "execution_count": 9,
   "metadata": {
    "dotnet_interactive": {
     "language": "pwsh"
    },
    "vscode": {
     "languageId": "dotnet-interactive.pwsh"
    }
   },
   "outputs": [
    {
     "name": "stdout",
     "output_type": "stream",
     "text": [
      "\r\n",
      "\u001b[32;1mName Value\u001b[0m\r\n",
      "\u001b[32;1m---- -----\u001b[0m\r\n",
      "Name bob\r\n",
      "Name Jen\r\n",
      "Name Sue\r\n",
      "\r\n"
     ]
    }
   ],
   "source": [
    "# and back\n",
    "' [\n",
    "   { \"Name\": \"bob\" },\n",
    "   { \"Name\": \"Jen\" },\n",
    "   { \"Name\": \"Sue\" }\n",
    "] ' | ConvertFrom-Json -AsHashtable | ft -auto"
   ]
  }
 ],
 "metadata": {
  "kernelspec": {
   "display_name": ".NET (PowerShell)",
   "language": "PowerShell",
   "name": ".net-pwsh"
  },
  "language_info": {
   "name": "PowerShell"
  }
 },
 "nbformat": 4,
 "nbformat_minor": 2
}
