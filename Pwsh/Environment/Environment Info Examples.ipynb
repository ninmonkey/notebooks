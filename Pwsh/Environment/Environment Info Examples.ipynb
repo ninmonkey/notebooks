{
 "cells": [
  {
   "cell_type": "code",
   "execution_count": null,
   "metadata": {
    "dotnet_interactive": {
     "language": "pwsh"
    },
    "polyglot_notebook": {
     "language": "pwsh"
    }
   },
   "outputs": [],
   "source": []
  },
  {
   "attachments": {},
   "cell_type": "markdown",
   "metadata": {
    "dotnet_interactive": {
     "language": "csharp"
    },
    "polyglot_notebook": {
     "kernelName": "csharp"
    }
   },
   "source": [
    "### Pwsh Regular Term, no ShellIntegration\n",
    "\n",
    "- [ ] grab me\n",
    "\n",
    "```ps1\n",
    "```\n",
    "\n",
    "\n",
    "### Pwsh Regular Term, with ShellIntegration\n",
    "\n",
    "```ps1\n",
    "C:\\Program Files\\PowerShell\\7\\pwsh.dll\n",
    "-noexit\n",
    "-command\n",
    "try { . \"c:\\Program Files\\Microsoft VS Code\\resources\\app\\out\\vs\\workbench\\contrib\\terminal\\browser\\media\\shellIntegration.ps1\" } catch {}\n",
    "```\n",
    "\n",
    "\n",
    "### PwshExtensionTerm\n",
    "\n",
    "Raw\n",
    "```ps1\n",
    "Pwsh> [Environment]::GetCommandLineArgs()\n",
    "C:\\Program Files\\PowerShell\\7\\pwsh.dll\n",
    "-NoProfile\n",
    "-ExecutionPolicy\n",
    "Bypass\n",
    "-Command\n",
    "Import-Module 'c:\\Users\\nin\\.vscode\\extensions\\ms-vscode.powershell-preview-2022.11.1\\modules\\PowerShellEditorServices\\PowerShellEditorServices.psd1'; Start-EditorServices -HostName 'Visual Studio Code Host' -HostProfileId 'Microsoft.VSCode' -HostVersion '2022.11.1' -AdditionalModules @('PowerShellEditorServices.VSCode') -BundledModulesPath 'c:\\Users\\nin\\.vscode\\extensions\\ms-vscode.powershell-preview-2022.11.1\\modules' -EnableConsoleRepl -StartupBanner '' -LogLevel 'Verbose' -LogPath 'c:\\Users\\nin\\AppData\\Roaming\\Code\\User\\globalStorage\\ms-vscode.powershell-preview\\logs\\1669336211-04e2e2cc-d5e0-417a-ac84-bb8ed8ed0c741669336202549\\EditorServices.log' -SessionDetailsPath 'c:\\Users\\nin\\AppData\\Roaming\\Code\\User\\globalStorage\\ms-vscode.powershell-preview\\sessions\\PSES-VSCode-5512-581979.json' -FeatureFlags @() \n",
    "```\n",
    "formatting\n",
    "```ps1\n",
    "Pwsh> [Environment]::GetCommandLineArgs()\n",
    "Import-Module \"${UserProfile}\\.vscode\\extensions\\ms-vscode.powershell-preview-2022.11.1\\modules\\PowerShellEditorServices\\PowerShellEditorServices.psd1\"\n",
    "$startEditorServicesSplat = @{\n",
    "    AdditionalModules = @('PowerShellEditorServices.VSCode')\n",
    "    BundledModulesPath = \"${UserProfile}\\.vscode\\extensions\\ms-vscode.powershell-preview-2022.11.1\\modules\"\n",
    "    EnableConsoleRepl = $true\n",
    "    FeatureFlags = @()\n",
    "    HostName = 'Visual Studio Code Host'\n",
    "    HostProfileId = 'Microsoft.VSCode'\n",
    "    HostVersion = '2022.11.1'\n",
    "    LogLevel = 'Verbose'\n",
    "    LogPath = \"${AppData}\\Code\\User\\globalStorage\\ms-vscode.powershell-preview\\logs\\1669336211-04e2e2cc-d5e0-417a-ac84-bb8ed8ed0c741669336202549\\EditorServices.log\"\n",
    "    SessionDetailsPath = \"${AppData}\\Code\\User\\globalStorage\\ms-vscode.powershell-preview\\sessions\\PSES-VSCode-5512-581979.json\"\n",
    "    StartupBanner = ''\n",
    "}\n",
    "\n",
    "Start-EditorServices @startEditorServicesSplat \n",
    "```"
   ]
  }
 ],
 "metadata": {
  "kernelspec": {
   "display_name": ".NET (C#)",
   "language": "C#",
   "name": ".net-csharp"
  },
  "polyglot_notebook": {
   "kernelInfo": {
    "defaultKernelName": "csharp",
    "items": [
     {
      "aliases": [
       "c#",
       "C#"
      ],
      "languageName": "C#",
      "name": "csharp"
     },
     {
      "aliases": [
       "frontend"
      ],
      "name": "vscode"
     },
     {
      "aliases": [],
      "name": ".NET"
     },
     {
      "aliases": [
       "f#",
       "F#"
      ],
      "languageName": "F#",
      "name": "fsharp"
     },
     {
      "aliases": [],
      "languageName": "HTML",
      "name": "html"
     },
     {
      "aliases": [
       "js"
      ],
      "languageName": "JavaScript",
      "name": "javascript"
     },
     {
      "aliases": [],
      "languageName": "KQL",
      "name": "kql"
     },
     {
      "aliases": [],
      "languageName": "Mermaid",
      "name": "mermaid"
     },
     {
      "aliases": [
       "powershell"
      ],
      "languageName": "PowerShell",
      "name": "pwsh"
     },
     {
      "aliases": [],
      "languageName": "SQL",
      "name": "sql"
     },
     {
      "aliases": [],
      "name": "value"
     },
     {
      "aliases": [],
      "name": "webview"
     }
    ]
   }
  }
 },
 "nbformat": 4,
 "nbformat_minor": 2
}
