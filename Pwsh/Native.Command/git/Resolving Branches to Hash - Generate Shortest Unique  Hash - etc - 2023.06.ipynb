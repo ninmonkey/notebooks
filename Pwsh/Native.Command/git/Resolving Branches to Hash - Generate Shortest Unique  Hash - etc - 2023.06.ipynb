{
 "cells": [
  {
   "cell_type": "code",
   "execution_count": 19,
   "metadata": {
    "dotnet_interactive": {
     "language": "pwsh"
    },
    "polyglot_notebook": {
     "kernelName": "pwsh"
    }
   },
   "outputs": [],
   "source": [
    "$Paths = @{ \n",
    "    CloneRoot = 'G:\\2023-git\\Pwsh📁'\n",
    "}\n",
    "H:/data/2023/pwsh/notebooks/Pwsh/Native.Command/git/Sugar to Quickly Clone Many Repos - Using GH command.2023.06.ipynb"
   ]
  },
  {
   "cell_type": "code",
   "execution_count": 24,
   "metadata": {
    "dotnet_interactive": {
     "language": "pwsh"
    },
    "polyglot_notebook": {
     "kernelName": "pwsh"
    }
   },
   "outputs": [
    {
     "name": "stdout",
     "output_type": "stream",
     "text": [
      "\u001b[38;2;0;0;255mcloning StartAutomating/ugit => to ugit\u001b[39m\n",
      "\u001b[38;2;0;128;0minvoke => gh.exe\n",
      "    repo clone StartAutomating/ugit ugit\u001b[39m\n",
      "\u001b[38;2;0;0;255mcloning PowerShell/PowerShell => to Pwsh\u001b[39m\n",
      "\u001b[38;2;0;128;0minvoke => gh.exe\n",
      "    repo clone PowerShell/PowerShell Pwsh\u001b[39m\n"
     ]
    }
   ],
   "source": [
    "# InvokeNativeCommand -name 'ping' -args @('google.com', '/all') -TestOnly\n",
    "GhClone -OwnerRepoName 'StartAutomating/ugit' -TestOnly\n",
    "\n",
    "pushd -stack 'gh' $Paths.CloneRoot\n",
    "GhClone -OwnerRepoName 'PowerShell/PowerShell' -Dest 'Pwsh' -TestOnly"
   ]
  },
  {
   "attachments": {},
   "cell_type": "markdown",
   "metadata": {},
   "source": [
    "'H:/data/2023/pwsh/notebooks/Pwsh/Native.Command/git/Sugar to Quickly Clone Many Repos - Using GH command.2023.06.ipynb'\n"
   ]
  }
 ],
 "metadata": {
  "kernelspec": {
   "display_name": ".NET (PowerShell)",
   "language": "PowerShell",
   "name": ".net-pwsh"
  },
  "language_info": {
   "name": "polyglot-notebook"
  },
  "polyglot_notebook": {
   "kernelInfo": {
    "defaultKernelName": "pwsh",
    "items": [
     {
      "aliases": [],
      "languageName": "pwsh",
      "name": "pwsh"
     }
    ]
   }
  }
 },
 "nbformat": 4,
 "nbformat_minor": 2
}
