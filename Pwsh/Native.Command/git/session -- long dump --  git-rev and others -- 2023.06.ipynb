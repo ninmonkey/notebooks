{
 "cells": [
  {
   "cell_type": "code",
   "execution_count": 4,
   "metadata": {
    "dotnet_interactive": {
     "language": "pwsh"
    },
    "polyglot_notebook": {
     "kernelName": "pwsh"
    }
   },
   "outputs": [
    {
     "name": "stdout",
     "output_type": "stream",
     "text": [
      "\n",
      "    Directory: G:\\2023-git\\Pwsh📁\n",
      "\n",
      "\u001b[32;1mMode                 LastWriteTime         Length Name\u001b[0m\n",
      "\u001b[32;1m----                 -------------         ------ ----\u001b[0m\n",
      "d----           5/16/2023 10:46 AM                \u001b[44;1mJustinGrote🧑\u001b[0m\n",
      "d----           5/30/2023  4:11 PM                \u001b[44;1mPwsh\u001b[0m\n",
      "d----           5/30/2023  4:45 PM                \u001b[44;1mugit\u001b[0m\n",
      "\n"
     ]
    }
   ],
   "source": [
    "$Paths = @{ \n",
    "    CloneRoot = 'G:\\2023-git\\Pwsh📁'\n",
    "}\n",
    "pushd -stack 'gh' $Paths.CloneRoot\n",
    "gci"
   ]
  },
  {
   "attachments": {},
   "cell_type": "markdown",
   "metadata": {},
   "source": [
    "## try queue\n",
    "\n",
    "-   <https://git-scm.com/book/en/v2/Git-Basics-Viewing-the-Commit-History>\n",
    "-   <https://git-scm.com/docs/git-rev-parse#_options_for_objects>\n",
    "-   <https://git-scm.com/docs/git-rev-list>\n",
    "-   [`git-rev-list` history simplification](https://git-scm.com/docs/git-rev-list#_history_simplification)\n",
    "-   <https://git-scm.com/docs/git-reflog>\n",
    "\n",
    "## notes\n",
    "\n",
    "| Command                      | Description                                                                                                           |\n",
    "| ---------------------------- | --------------------------------------------------------------------------------------------------------------------- |\n",
    "| `git-rev-parse`              | To turn any extended object reference into a hash, use `git-rev-parse`: [SO:2023](https://stackoverflow.com/a/949391) |\n",
    "| `git rev-parse --short HEAD` | short hash [SO:2023](https://stackoverflow.com/a/949391)                                                              |\n",
    "| `git verify-commit`          | short hash [SO:2023](https://stackoverflow.com/a/949391)                                                              |\n",
    "| `git tags`                   | [docs: tags](https://git-scm.com/book/en/v2/Git-Internals-Git-References#_tags)                                       |\n",
    "| `gh release`                 | [docs: gh release view](https://cli.github.com/manual/gh_release_view)                                                |\n",
    "\n",
    "## sub commands\n",
    "\n",
    "| Command                           | Description                                                                                                                                                                         |\n",
    "| --------------------------------- | ----------------------------------------------------------------------------------------------------------------------------------------------------------------------------------- |\n",
    "| `git rev-parse HEAD`              | [docs: rev-parse](https://git-scm.com/docs/git-rev-parse) and [ran as subdir](https://git-scm.com/docs/git-rev-parse#_options_for_output) <br>\"Pick out and massage parameters\"<br> |\n",
    "| `git rev-list --max-count=3 HEAD` | .                                                                                                                                                                                   |\n",
    "\n",
    "Warning: Check the dates. StackOverflow posts on git range from 2011-2023, there were cleaner features added since then\n",
    "\n",
    "## See also\n",
    "\n",
    "-   [docs: git-verify-commit](https://git-scm.com/docs/git-verify-commit)\n",
    "-   [docs: top level porcelain](https://git-scm.com/docs/git#_high_level_commands_porcelain)\n",
    "-   [docs: github: verify signed commits](https://docs.github.com/en/authentication/managing-commit-signature-verification/about-commit-signature-verification)\n",
    "-   [API: github tags](https://docs.github.com/en/rest/git/tags?apiVersion=2022-11-28)\n",
    "-   [github: introduction-to-graphql](https://docs.github.com/en/graphql/guides/introduction-to-graphql)\n",
    "\n",
    "Urls:\n",
    "\n",
    "-   [github.com/sponsors/{account}](https://github.com/sponsors/StartAutomating)\n",
    "\n",
    "```ps1\n",
    "git rev-parse HEAD\n",
    "git rev-parse --verify HEAD\n",
    "```\n",
    "\n",
    "short hash\n",
    "\n",
    "```ps1\n",
    "git rev-parse --short HEAD\n",
    "```\n"
   ]
  },
  {
   "attachments": {},
   "cell_type": "markdown",
   "metadata": {},
   "source": [
    "To turn any extended object reference into a hash, use **[`git-rev-parse`][1]**:\n",
    "\n",
    "    git rev-parse HEAD\n",
    "\n",
    "or\n",
    "\n",
    "    git rev-parse --verify HEAD\n",
    "\n",
    "To retrieve the short hash:\n",
    "\n",
    "    git rev-parse --short HEAD\n",
    "\n",
    "To turn _references_ (e.g. _branches and tags_) into hashes, use `git show-ref` and `git for-each-ref`.\n",
    "\n",
    "[1]: http://git-scm.com/docs/git-rev-parse \"git-rev-parse - Pick out and massage parameters\"\n"
   ]
  },
  {
   "attachments": {},
   "cell_type": "markdown",
   "metadata": {},
   "source": [
    "```ps1\n",
    "🐒> git rev-parse --short=2 HEAD\n",
    "    0b42d\n",
    "\n",
    "🐒> git rev-parse HEAD\n",
    "    0b42d92d4d341ad5a71a576e8d416e4646acab81\n",
    "\n",
    "🐒> git show-ref | %{ $_ -split '\\s', 2 | select -last 1 }\n",
    "    refs/heads/master\n",
    "    refs/remotes/origin/HEAD\n",
    "    refs/remotes/origin/master\n",
    "    refs/remotes/origin/release/v7.2.12\n",
    "    refs/remotes/origin/release/v7.3.5\n",
    "    refs/remotes/origin/source-depot\n",
    "    refs/tags/SD/688741\n",
    "    refs/tags/SD/692351\n",
    "    # ...\n",
    "    refs/tags/v6.1.0-preview.1\n",
    "    refs/tags/v6.1.0-preview.2\n",
    "    refs/tags/v6.1.0-rc.1\n",
    "    refs/tags/v6.1.1\n",
    "    # ...\n",
    "```\n",
    "\n",
    "## --oneline, --abbrev\n",
    "\n",
    "```ps1\n",
    "🐒> git log --oneline --abbrev=2\n",
    "    0b42d six files (#19695)\n",
    "    fa64e Apply IDE0019: InlineAsTypeCheck in Microsoft.PowerShell.Commands (#19688)\n",
    "    51da4 Apply IDE0019: InlineAsTypeCheck in Microsoft.WSMan folder (#19690)\n",
    "    9e16 Update the cgmanifest (#19697)\n",
    "\n",
    "🐒> git log --oneline\n",
    "    0b42d92d4 six files (#19695)\n",
    "    fa64ecba7 Apply IDE0019: InlineAsTypeCheck in Microsoft.PowerShell.Commands (#19688)\n",
    "    51da40a9f Apply IDE0019: InlineAsTypeCheck in Microsoft.WSMan folder (#19690)\n",
    "\n",
    "🐒> git rev-list --max-count=3 HEAD\n",
    "    0b42d92d4d341ad5a71a576e8d416e4646acab81\n",
    "    fa64ecba709a9c1d518ebb49946c552aae36bc6e\n",
    "    51da40a9fdc0da7fbc5e81cc1691e577580de349\n",
    "\n",
    "\n",
    "🐒>\n",
    "🐒>\n",
    "🐒>\n",
    "🐒>\n",
    "\n",
    "🐒>\n",
    "\n",
    "```\n"
   ]
  },
  {
   "attachments": {},
   "cell_type": "markdown",
   "metadata": {},
   "source": [
    "You can use `gh` quickly clone repos using short commands. Here's a wrapper that does everything if you give it an `Owner/Repo` string:\n",
    "\n",
    "-   [Git Clone Many Repos using GH.ipynb](https://github.com/ninmonkey/notebooks/blob/main/Pwsh/Native.Command/git/Sugar%20to%20Quickly%20Clone%20Many%20Repos%20-%20Using%20GH%20command.2023.06.ipynb)\n"
   ]
  },
  {
   "cell_type": "code",
   "execution_count": 14,
   "metadata": {
    "dotnet_interactive": {
     "language": "pwsh"
    },
    "polyglot_notebook": {
     "kernelName": "pwsh"
    }
   },
   "outputs": [
    {
     "name": "stdout",
     "output_type": "stream",
     "text": [
      "\n",
      "   GitRoot: G:\\2023-git\\Pwsh📁\\Pwsh\n",
      "\n",
      "On Branch: \u001b[1;36m\u001b[1;36m\u001b[22m\u001b[39m\u001b[1;33mmaster\u001b[1;33m\u001b[22m\u001b[39m\n",
      "Your branch is up to date with 'origin/master'.\n",
      "Nothing to commit, working tree clean\n",
      "\n"
     ]
    }
   ],
   "source": [
    "set-location 'G:\\2023-git\\Pwsh📁\\Pwsh'\n",
    "git status"
   ]
  },
  {
   "attachments": {},
   "cell_type": "markdown",
   "metadata": {},
   "source": []
  }
 ],
 "metadata": {
  "kernelspec": {
   "display_name": ".NET (PowerShell)",
   "language": "PowerShell",
   "name": ".net-pwsh"
  },
  "language_info": {
   "name": "polyglot-notebook"
  },
  "polyglot_notebook": {
   "kernelInfo": {
    "defaultKernelName": "pwsh",
    "items": [
     {
      "aliases": [],
      "languageName": "pwsh",
      "name": "pwsh"
     }
    ]
   }
  }
 },
 "nbformat": 4,
 "nbformat_minor": 2
}
