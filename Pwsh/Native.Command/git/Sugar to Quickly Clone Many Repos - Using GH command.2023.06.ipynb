{
 "cells": [
  {
   "cell_type": "code",
   "execution_count": 2,
   "metadata": {
    "dotnet_interactive": {
     "language": "pwsh"
    },
    "polyglot_notebook": {
     "kernelName": "pwsh"
    }
   },
   "outputs": [],
   "source": [
    "$Paths = @{ \n",
    "    CloneRoot = 'G:\\2023-git\\Pwsh📁'\n",
    "}\n",
    "function InvokeNativeCommand { \n",
    "    <#\n",
    "    .synopsis\n",
    "    slighly safer/mainly sugar for invoking native commands\n",
    "    .notes\n",
    "        Warning, if you are running on ~7.2, there's a breaking change that you may need to use this setting\n",
    "        $PSNativeCommandArgumentPassing = 'Legacy'\n",
    "    .example\n",
    "        InvokeNativeCommand -name 'ping' -args @('google.com', '/all')\n",
    "    #>\n",
    "\n",
    "    [OutputType('System.Management.Automation.ApplicationInfo', 'System.Management.Automation.CommandInfo')]\n",
    "    [Alias('InvokeCmd')]\n",
    "    param( \n",
    "        [Alias('Name')]\n",
    "        [Parameter(Mandatory, Position= 0)]\n",
    "        [ArgumentCompletions('git', 'gh', 'pwsh')]\n",
    "        [string]$CommandName,\n",
    "        \n",
    "        [Alias('Args')][object[]]$ArgumentList,\n",
    "        \n",
    "        # don't actually invoke, just preview the commandline\n",
    "        [Parameter()]\n",
    "        [Alias('WhatIf')]\n",
    "        [switch]$TestOnly,\n",
    "\n",
    "        # If you want the Command itself, instead of running it\n",
    "        [Alias('WithoutInvoke')]\n",
    "        [Parameter()][switch]$PassThru\n",
    "     )\n",
    "    # or $ExecutionContext.InvokeCommand.GetCommand('gh', 'Application')\n",
    "    $bin = gcm -name $CommandName -CommandType Application -ea 'stop' -totalCount 1    \n",
    "    \"invoke => {0}`n    {1}\" -f @( \n",
    "        $bin\n",
    "        $ArgumentList -join ' '\n",
    "    ) | write-host -fore 'darkgreen'\n",
    "\n",
    "    # Warning, if you are running on ~7.2, there's a breaking change to native commands that you may need to use this setting\n",
    "    if( $PSNativeCommandArgumentPassing ) { $PSNativeCommandArgumentPassing = 'Legacy' }\n",
    "\n",
    "    if($PassThru) { return $bin }\n",
    "    if($TestOnly) { return } \n",
    "\n",
    "    & $bin @Argumentlist    \n",
    "}\n",
    "function GhClone {\n",
    "    # minimal wrapper of 'gh' clone \n",
    "    param( \n",
    "        # ex: 'StartAutomating/ugit'\n",
    "        [ArgumentCompletions(            \n",
    "            'PowerShell/PowerShell', 'dfinke/ImportExcel', 'StartAutomating/ugit')]\n",
    "        [string]$OwnerRepoName,\n",
    "\n",
    "        # if not set, 'gh' defaults to using the 'repoName' without 'OwnerName'\n",
    "        [string]$Destination,\n",
    "\n",
    "        [Alias('WhatIf')][switch]$TestOnly\n",
    "    )\n",
    "    [Collections.Generic.List[Object]]$ghArgs = @(\n",
    "        'repo', 'clone', $OwnerRepoName, $Destination    \n",
    "    )\n",
    "\n",
    "    if(-not ($PSBoundParameters.ContainsKey('Destination'))) {\n",
    "        $destination = $OwnerRepoName -split '/' | select -last 1 \n",
    "    }\n",
    "\n",
    "    'cloning {0} => to {1}' -f @( \n",
    "        $OwnerRepoName\n",
    "        $Destination\n",
    "    ) | write-host -fore 'blue'\n",
    "\n",
    "    pushd -stack 'gh' $Paths.CloneRoot\n",
    "    if(Test-path ($destination)) {\n",
    "        \"Repo already exists: '$Destination'\"\n",
    "        return\n",
    "    }\n",
    "    \n",
    "    InvokeNativeCommand -TestOnly:$TestOnly -CommandName 'gh' -ArgumentList @(\n",
    "        'repo', 'clone'\n",
    "        $OwnerRepoName \n",
    "        if($Destination) { $Destination }\n",
    "    )\n",
    "    popd -stack 'gh'\n",
    "}\n"
   ]
  },
  {
   "cell_type": "code",
   "execution_count": 6,
   "metadata": {
    "dotnet_interactive": {
     "language": "pwsh"
    },
    "polyglot_notebook": {
     "kernelName": "pwsh"
    }
   },
   "outputs": [
    {
     "name": "stdout",
     "output_type": "stream",
     "text": [
      "\u001b[38;2;0;0;255mcloning StartAutomating/ugit => to ugit\u001b[39m\n",
      "\u001b[38;2;0;128;0minvoke => gh.exe\n",
      "    repo clone StartAutomating/ugit ugit\u001b[39m\n",
      "\u001b[38;2;0;0;255mcloning PowerShell/PowerShell => to Pwsh\u001b[39m\n",
      "\u001b[38;2;0;128;0minvoke => gh.exe\n",
      "    repo clone PowerShell/PowerShell Pwsh\u001b[39m\n",
      "\u001b[38;2;0;0;255mcloning StartAutomating/ugit => to ugit\u001b[39m\n",
      "\u001b[38;2;0;128;0minvoke => gh.exe\n",
      "    repo clone StartAutomating/ugit ugit\u001b[39m\n",
      "\u001b[31;1mfatal: destination path 'ugit' already exists and is not an empty directory.\u001b[0m\n",
      "\u001b[31;1mfailed to run git: exit status 128\u001b[0m\n",
      "\u001b[38;2;0;0;255mcloning PowerShell/PowerShell => to Pwsh\u001b[39m\n",
      "\u001b[38;2;0;128;0minvoke => gh.exe\n",
      "    repo clone PowerShell/PowerShell Pwsh\u001b[39m\n",
      "\u001b[31;1mfatal: destination path 'Pwsh' already exists and is not an empty directory.\u001b[0m\n",
      "\u001b[31;1mfailed to run git: exit status 128\u001b[0m\n",
      "\n",
      "    Directory: G:\\2023-git\\Pwsh📁\n",
      "\n",
      "\u001b[32;1mMode                 LastWriteTime         Length Name\u001b[0m\n",
      "\u001b[32;1m----                 -------------         ------ ----\u001b[0m\n",
      "d----           5/16/2023 10:46 AM                \u001b[44;1mJustinGrote🧑\u001b[0m\n",
      "d----           5/30/2023  4:11 PM                \u001b[44;1mPwsh\u001b[0m\n",
      "d----           5/30/2023  4:45 PM                \u001b[44;1mugit\u001b[0m\n",
      "\n",
      "    Directory: H:\\data\\2023\\pwsh\\notebooks\\Pwsh\\Native.Command\\git\n",
      "\n",
      "\u001b[32;1mMode                 LastWriteTime         Length Name\u001b[0m\n",
      "\u001b[32;1m----                 -------------         ------ ----\u001b[0m\n",
      "-a---           5/30/2023  4:41 PM           5058 Resolving Branches to Hash - Generate Shortest\n",
      "                                                  Unique  Hash - etc - 2023.06.ipynb\n",
      "-a---           5/30/2023  4:46 PM           5294 Sugar to Quickly Clone Many Repos - Using GH\n",
      "                                                  command.2023.06.ipynb\n",
      "\n"
     ]
    }
   ],
   "source": [
    "# InvokeNativeCommand -name 'ping' -args @('google.com', '/all') -TestOnly\n",
    "pushd -stack 'gh' $Paths.CloneRoot\n",
    "GhClone -OwnerRepoName 'StartAutomating/ugit' -TestOnly\n",
    "GhClone -OwnerRepoName 'PowerShell/PowerShell' -Dest 'Pwsh' -TestOnly\n",
    "popd -stack 'gh'\n",
    "\n",
    "# actual invoke\n",
    "pushd -stack 'gh' $Paths.CloneRoot\n",
    "GhClone -OwnerRepoName 'StartAutomating/ugit'\n",
    "GhClone -OwnerRepoName 'PowerShell/PowerShell' -Dest 'Pwsh'\n",
    "gci\n",
    "popd -stack 'gh'\n",
    "gci"
   ]
  }
 ],
 "metadata": {
  "kernelspec": {
   "display_name": ".NET (PowerShell)",
   "language": "PowerShell",
   "name": ".net-pwsh"
  },
  "language_info": {
   "name": "polyglot-notebook"
  },
  "polyglot_notebook": {
   "kernelInfo": {
    "defaultKernelName": "pwsh",
    "items": [
     {
      "aliases": [],
      "languageName": "pwsh",
      "name": "pwsh"
     }
    ]
   }
  }
 },
 "nbformat": 4,
 "nbformat_minor": 2
}
