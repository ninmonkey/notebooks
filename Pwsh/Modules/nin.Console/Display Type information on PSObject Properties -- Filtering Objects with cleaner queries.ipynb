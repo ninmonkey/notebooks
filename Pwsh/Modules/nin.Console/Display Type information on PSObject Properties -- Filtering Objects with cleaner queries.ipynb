{
 "cells": [
  {
   "cell_type": "code",
   "execution_count": 8,
   "metadata": {
    "dotnet_interactive": {
     "language": "pwsh"
    },
    "polyglot_notebook": {
     "language": "pwsh"
    },
    "vscode": {
     "languageId": "polyglot-notebook"
    }
   },
   "outputs": [
    {
     "name": "stdout",
     "output_type": "stream",
     "text": [
      "\u001b[31;1mImport-Module: \u001b[31;1mThe specified module 'ninmonkey.Console' was not loaded because no valid module file was found in any module directory.\u001b[0m\r\n"
     ]
    }
   ],
   "source": [
    "Import-Module 'ninmonkey.Console' -force #-ea 'stop' *>$null"
   ]
  },
  {
   "cell_type": "markdown",
   "metadata": {
    "dotnet_interactive": {
     "language": "pwsh"
    },
    "polyglot_notebook": {
     "kernelName": "pwsh"
    }
   },
   "source": [
    "todo \n",
    "- [ ] Gif at the top, regardless of notebook rendering\n",
    "    (new vs code base64 auto pastes image)\n",
    "- [ ] something that is `IsNull`"
   ]
  },
  {
   "cell_type": "code",
   "execution_count": 3,
   "metadata": {
    "dotnet_interactive": {
     "language": "pwsh"
    },
    "vscode": {
     "languageId": "polyglot-notebook"
    }
   },
   "outputs": [
    {
     "name": "stdout",
     "output_type": "stream",
     "text": [
      "\u001b[31;1mio: \u001b[31;1mThe term 'io' is not recognized as a name of a cmdlet, function, script file, or executable program.\u001b[0m\n",
      "\u001b[31;1m\u001b[31;1mCheck the spelling of the name, or if a path was included, verify that the path is correct and try again.\u001b[0m\n"
     ]
    }
   ],
   "source": [
    "Get-Item . | io -SortBy Reported\n",
    "| Ft Reported, Name, IsNull, Value -Auto\n",
    "| select -first 28  # notebook size limit default is 30"
   ]
  },
  {
   "cell_type": "code",
   "execution_count": 4,
   "metadata": {
    "dotnet_interactive": {
     "language": "pwsh"
    },
    "vscode": {
     "languageId": "polyglot-notebook"
    }
   },
   "outputs": [
    {
     "name": "stdout",
     "output_type": "stream",
     "text": [
      "\u001b[31;1mio: \u001b[31;1mThe term 'io' is not recognized as a name of a cmdlet, function, script file, or executable program.\u001b[0m\n",
      "\u001b[31;1m\u001b[31;1mCheck the spelling of the name, or if a path was included, verify that the path is correct and try again.\u001b[0m\n",
      "\u001b[31;1mio: \u001b[0m\n",
      "\u001b[31;1m\u001b[36;1mLine |\u001b[0m\n",
      "\u001b[31;1m\u001b[36;1m\u001b[36;1m   9 | \u001b[0m Get-Item . | \u001b[36;1mio\u001b[0m -SortBy Reported\u001b[0m\n",
      "\u001b[31;1m\u001b[36;1m\u001b[36;1m\u001b[0m\u001b[36;1m\u001b[0m\u001b[36;1m     | \u001b[31;1m              ~~\u001b[0m\n",
      "\u001b[31;1m\u001b[36;1m\u001b[36;1m\u001b[0m\u001b[36;1m\u001b[0m\u001b[36;1m\u001b[31;1m\u001b[31;1m\u001b[36;1m     | \u001b[31;1mThe term 'io' is not recognized as a name of a cmdlet, function, script file, or executable program.\u001b[0m\n",
      "\u001b[31;1m\u001b[36;1m\u001b[36;1m\u001b[0m\u001b[36;1m\u001b[0m\u001b[36;1m\u001b[31;1m\u001b[31;1m\u001b[36;1m\u001b[31;1mCheck the spelling of the name, or if a path was included, verify that the path is correct and try again.\u001b[0m\n"
     ]
    }
   ],
   "source": [
    "Get-Item . | io -SortBy Reported\n",
    "| ? IsBlank\n",
    "| Ft Reported, Name, IsNull, Value -Auto\n",
    "# | select -first 28  # notebook size limit default is 30\n",
    "\n",
    "\n",
    "\n",
    "\n",
    "Get-Item . | io -SortBy Reported\n",
    "| ? IsBlank\n",
    "| ? IsNull -Not\n",
    "| Ft Reported, Name, IsNull, Value -Auto\n",
    "# | select -first 28  # notebook size limit default is 30"
   ]
  },
  {
   "cell_type": "code",
   "execution_count": 5,
   "metadata": {
    "dotnet_interactive": {
     "language": "pwsh"
    },
    "vscode": {
     "languageId": "polyglot-notebook"
    }
   },
   "outputs": [
    {
     "name": "stdout",
     "output_type": "stream",
     "text": [
      "\u001b[31;1mParserError: \u001b[0m\n",
      "\u001b[31;1m\u001b[36;1mLine |\u001b[0m\n",
      "\u001b[31;1m\u001b[36;1m\u001b[36;1m   3 | \u001b[0m \u001b[36;1m|\u001b[0m ? IsBlank\u001b[0m\n",
      "\u001b[31;1m\u001b[36;1m\u001b[36;1m\u001b[0m\u001b[36;1m\u001b[0m\u001b[36;1m     | \u001b[31;1m ~\u001b[0m\n",
      "\u001b[31;1m\u001b[36;1m\u001b[36;1m\u001b[0m\u001b[36;1m\u001b[0m\u001b[36;1m\u001b[31;1m\u001b[31;1m\u001b[36;1m     | \u001b[31;1mAn empty pipe element is not allowed.\u001b[0m\n"
     ]
    }
   ],
   "source": [
    "Get-Item . | io -SortBy Reported\n",
    "\n",
    "| ? IsBlank"
   ]
  }
 ],
 "metadata": {
  "kernelspec": {
   "display_name": ".NET (PowerShell)",
   "language": "PowerShell",
   "name": ".net-pwsh"
  },
  "language_info": {
   "name": "PowerShell"
  }
 },
 "nbformat": 4,
 "nbformat_minor": 2
}
