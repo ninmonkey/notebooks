{
 "cells": [
  {
   "cell_type": "code",
   "execution_count": 4,
   "metadata": {
    "dotnet_interactive": {
     "language": "pwsh"
    },
    "polyglot_notebook": {
     "language": "pwsh"
    },
    "vscode": {
     "languageId": "dotnet-interactive.pwsh"
    }
   },
   "outputs": [],
   "source": [
    "Import-Module 'ninmonkey.Console' -ea 'stop' *>$null"
   ]
  },
  {
   "cell_type": "markdown",
   "metadata": {},
   "source": [
    "todo \n",
    "- [ ] Gif at the top, regardless of notebook rendering\n",
    "    (new vs code base64 auto pastes image)\n",
    "- [ ] something that is `IsNull`"
   ]
  },
  {
   "cell_type": "code",
   "execution_count": 13,
   "metadata": {
    "dotnet_interactive": {
     "language": "pwsh"
    },
    "vscode": {
     "languageId": "dotnet-interactive.pwsh"
    }
   },
   "outputs": [
    {
     "name": "stdout",
     "output_type": "stream",
     "text": [
      "\r\n",
      "\u001b[32;1mReported                  Name                IsNull Value\u001b[0m\r\n",
      "\u001b[32;1m--------                  ----                ------ -----\u001b[0m\r\n",
      "[\u001b[37mDateTime\u001b[0m]      \u001b[0m LastWriteTimeUtc     False 11/23/2022 12:26:12 AM\r\n",
      "[\u001b[37mDateTime\u001b[0m]      \u001b[0m LastWriteTime        False 11/22/2022 6:26:12 PM\r\n",
      "[\u001b[37mDateTime\u001b[0m]      \u001b[0m LastAccessTimeUtc    False 11/23/2022 12:29:03 AM\r\n",
      "[\u001b[37mDateTime\u001b[0m]      \u001b[0m LastAccessTime       False 11/22/2022 6:29:03 PM\r\n",
      "[\u001b[37mDateTime\u001b[0m]      \u001b[0m CreationTimeUtc      False 11/23/2022 12:25:05 AM\r\n",
      "[\u001b[37mDateTime\u001b[0m]      \u001b[0m CreationTime         False 11/22/2022 6:25:05 PM\r\n",
      "[\u001b[37mDirectoryInfo\u001b[0m] \u001b[0m Root                 False C:\\\r\n",
      "[\u001b[37mDirectoryInfo\u001b[0m] \u001b[0m Parent               False C:\\Users\\cppmo_000\\SkyDrive\\Documents\\2022\\My…\r\n",
      "[\u001b[37mFileAttributes\u001b[0m]\u001b[0m Attributes           False Directory\r\n",
      "[\u001b[37mProviderInfo\u001b[0m]  \u001b[0m PSProvider           False Microsoft.PowerShell.Core\\FileSystem\r\n",
      "[\u001b[37mPSDriveInfo\u001b[0m]   \u001b[0m PSDrive              False C\r\n",
      "[\u001b[92mbool\u001b[0m]          \u001b[0m Exists               False True\r\n",
      "[\u001b[92mbool\u001b[0m]          \u001b[0m PSIsContainer        False True\r\n",
      "[\u001b[92mobject\u001b[0m]        \u001b[0m BaseName             False nin.Console\r\n",
      "[\u001b[92mstring\u001b[0m]        \u001b[0m Target                True \u001b[38;2;119;119;119m<␀>\u001b[0m\u001b[0m\r\n",
      "[\u001b[92mstring\u001b[0m]        \u001b[0m LinkType              True \u001b[38;2;119;119;119m<␀>\u001b[0m\u001b[0m\r\n",
      "[\u001b[92mstring\u001b[0m]        \u001b[0m ModeWithoutHardLink  False d----\r\n",
      "[\u001b[92mstring\u001b[0m]        \u001b[0m LinkTarget            True \u001b[38;2;119;119;119m<␀>\u001b[0m\u001b[0m\r\n",
      "[\u001b[92mstring\u001b[0m]        \u001b[0m FullName             False C:\\Users\\cppmo_000\\SkyDrive\\Documents\\2022\\My…\r\n",
      "[\u001b[92mstring\u001b[0m]        \u001b[0m Extension            False .Console\r\n",
      "[\u001b[92mstring\u001b[0m]        \u001b[0m Name                 False nin.Console\r\n",
      "[\u001b[92mstring\u001b[0m]        \u001b[0m Mode                 False d----\r\n",
      "[\u001b[92mstring\u001b[0m]        \u001b[0m PSChildName          False nin.Console\r\n",
      "[\u001b[92mstring\u001b[0m]        \u001b[0m PSParentPath         False Microsoft.PowerShell.Core\\FileSystem::C:\\User…\r\n",
      "[\u001b[92mstring\u001b[0m]        \u001b[0m PSPath               False Microsoft.PowerShell.Core\\FileSystem::C:\\User…\r\n"
     ]
    }
   ],
   "source": [
    "Get-Item . | io -SortBy Reported\n",
    "| Ft Reported, Name, IsNull, Value -Auto\n",
    "| select -first 28  # notebook size limit default is 30"
   ]
  },
  {
   "cell_type": "code",
   "execution_count": 18,
   "metadata": {
    "dotnet_interactive": {
     "language": "pwsh"
    },
    "vscode": {
     "languageId": "dotnet-interactive.pwsh"
    }
   },
   "outputs": [
    {
     "name": "stdout",
     "output_type": "stream",
     "text": [
      "\r\n",
      "\u001b[32;1mReported          Name       IsNull Value\u001b[0m\r\n",
      "\u001b[32;1m--------          ----       ------ -----\u001b[0m\r\n",
      "[\u001b[92mstring\u001b[0m]\u001b[0m Target       True \u001b[38;2;119;119;119m<␀>\u001b[0m\u001b[0m\r\n",
      "[\u001b[92mstring\u001b[0m]\u001b[0m LinkType     True \u001b[38;2;119;119;119m<␀>\u001b[0m\u001b[0m\r\n",
      "[\u001b[92mstring\u001b[0m]\u001b[0m LinkTarget   True \u001b[38;2;119;119;119m<␀>\u001b[0m\u001b[0m\r\n",
      "\r\n"
     ]
    }
   ],
   "source": [
    "Get-Item . | io -SortBy Reported\n",
    "| ? IsBlank\n",
    "| Ft Reported, Name, IsNull, Value -Auto\n",
    "# | select -first 28  # notebook size limit default is 30\n",
    "\n",
    "\n",
    "\n",
    "\n",
    "Get-Item . | io -SortBy Reported\n",
    "| ? IsBlank\n",
    "| ? IsNull -Not\n",
    "| Ft Reported, Name, IsNull, Value -Auto\n",
    "# | select -first 28  # notebook size limit default is 30"
   ]
  },
  {
   "cell_type": "code",
   "execution_count": 19,
   "metadata": {
    "dotnet_interactive": {
     "language": "pwsh"
    },
    "vscode": {
     "languageId": "dotnet-interactive.pwsh"
    }
   },
   "outputs": [
    {
     "name": "stdout",
     "output_type": "stream",
     "text": [
      "\r\n",
      "\u001b[32;1mValue             : \u001b[0m\u001b[38;2;119;119;119m<␀>\u001b[0m\r\n",
      "\u001b[32;1mType              : \u001b[0m\r\n",
      "\u001b[32;1mIsNull            : \u001b[0mTrue\r\n",
      "\u001b[32;1mIsBasic           : \u001b[0m\r\n",
      "\u001b[32;1mReported          : \u001b[0m[\u001b[92mstring\u001b[0m]\r\n",
      "\u001b[32;1mShortValue        : \u001b[0m\r\n",
      "\u001b[32;1mShortType         : \u001b[0m\r\n",
      "\u001b[32;1mTypeInfo          : \u001b[0m\r\n",
      "\u001b[32;1mIsEmptyStr        : \u001b[0mFalse\r\n",
      "\u001b[32;1mMergedTypes       : \u001b[0m\u001b[38;2;153;153;153m[\u001b[92mstring\u001b[0m] 🠚 \u001b[38;2;229;229;229m␀\r\n",
      "\u001b[32;1mShortReportedType : \u001b[0m\r\n",
      "\u001b[32;1mReportedType      : \u001b[0m\r\n",
      "\u001b[32;1mHasSameTypeNames  : \u001b[0mFalse\r\n",
      "\u001b[32;1mIsBlank           : \u001b[0mTrue\r\n",
      "\u001b[32;1mShortMergedTypes  : \u001b[0m\r\n",
      "\u001b[32;1mIsPrimitive       : \u001b[0mFalse\r\n",
      "\u001b[32;1mName              : \u001b[0mTarget\r\n",
      "\r\n",
      "\u001b[32;1mValue             : \u001b[0m\u001b[38;2;119;119;119m<␀>\u001b[0m\r\n",
      "\u001b[32;1mType              : \u001b[0m\r\n",
      "\u001b[32;1mIsNull            : \u001b[0mTrue\r\n",
      "\u001b[32;1mIsBasic           : \u001b[0m\r\n",
      "\u001b[32;1mReported          : \u001b[0m[\u001b[92mstring\u001b[0m]\r\n",
      "\u001b[32;1mShortValue        : \u001b[0m\r\n",
      "\u001b[32;1mShortType         : \u001b[0m\r\n",
      "\u001b[32;1mTypeInfo          : \u001b[0m\r\n",
      "\u001b[32;1mIsEmptyStr        : \u001b[0mFalse\r\n",
      "\u001b[32;1mMergedTypes       : \u001b[0m\u001b[38;2;153;153;153m[\u001b[92mstring\u001b[0m] 🠚 \u001b[38;2;229;229;229m␀\r\n",
      "\u001b[32;1mShortReportedType : \u001b[0m\r\n",
      "\u001b[32;1mReportedType      : \u001b[0m\r\n",
      "\u001b[32;1mHasSameTypeNames  : \u001b[0mFalse\r\n",
      "\u001b[32;1mIsBlank           : \u001b[0mTrue\r\n",
      "\u001b[32;1mShortMergedTypes  : \u001b[0m\r\n",
      "\u001b[32;1mIsPrimitive       : \u001b[0mFalse\r\n",
      "\u001b[32;1mName              : \u001b[0mLinkType\r\n",
      "\r\n",
      "\u001b[32;1mValue             : \u001b[0m\u001b[38;2;119;119;119m<␀>\u001b[0m\r\n",
      "\u001b[32;1mType              : \u001b[0m\r\n",
      "\u001b[32;1mIsNull            : \u001b[0mTrue\r\n",
      "\u001b[32;1mIsBasic           : \u001b[0m\r\n",
      "\u001b[32;1mReported          : \u001b[0m[\u001b[92mstring\u001b[0m]\r\n",
      "\u001b[32;1mShortValue        : \u001b[0m\r\n",
      "\u001b[32;1mShortType         : \u001b[0m\r\n",
      "\u001b[32;1mTypeInfo          : \u001b[0m\r\n",
      "\u001b[32;1mIsEmptyStr        : \u001b[0mFalse\r\n",
      "\u001b[32;1mMergedTypes       : \u001b[0m\u001b[38;2;153;153;153m[\u001b[92mstring\u001b[0m] 🠚 \u001b[38;2;229;229;229m␀\r\n",
      "\u001b[32;1mShortReportedType : \u001b[0m\r\n",
      "\u001b[32;1mReportedType      : \u001b[0m\r\n",
      "\u001b[32;1mHasSameTypeNames  : \u001b[0mFalse\r\n",
      "\u001b[32;1mIsBlank           : \u001b[0mTrue\r\n",
      "\u001b[32;1mShortMergedTypes  : \u001b[0m\r\n",
      "\u001b[32;1mIsPrimitive       : \u001b[0mFalse\r\n",
      "\u001b[32;1mName              : \u001b[0mLinkTarget\r\n",
      "\r\n",
      "\r\n"
     ]
    }
   ],
   "source": [
    "Get-Item . | io -SortBy Reported\n",
    "\n",
    "| ? IsBlank"
   ]
  }
 ],
 "metadata": {
  "kernelspec": {
   "display_name": ".NET (PowerShell)",
   "language": "PowerShell",
   "name": ".net-pwsh"
  },
  "language_info": {
   "name": "PowerShell"
  }
 },
 "nbformat": 4,
 "nbformat_minor": 2
}
