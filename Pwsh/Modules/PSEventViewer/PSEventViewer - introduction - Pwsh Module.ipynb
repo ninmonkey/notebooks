{
 "cells": [
  {
   "cell_type": "markdown",
   "metadata": {},
   "source": [
    "# This is a sketch \n",
    "# This is a sketch \n",
    "\n",
    "```powershell\n",
    "\n",
    "$q | Join-String { # Works outside of notebook\n",
    "    $_.Properties | to->Json -Compress\n",
    "    | Join-String -op (@( $PSStyle.Foreground.FromRgb(23,222,90); $_.ProviderName ; $PSStyle.Reset ) -join '')\n",
    "} -sep (\"`n---------------------`n\")\n",
    "```\n",
    "outputs\n",
    "```powershell\n",
    "Microsoft-Windows-LoadPerf[{\"Value\":\"WmiApRpl\"},{\"Value\":\"WmiApRpl\"},{\"Value\":8},{\"Value\":[242,3,0,0,225,5,0,0]}]\n",
    "---------------------\n",
    "Microsoft-Windows-LoadPerf[{\"Value\":\"Performance\"},{\"Value\":16},{\"Value\":[55,7,0,0,0,0,0,0,0,0,0,0,145,2,0,0]}]\n",
    "---------------------\n",
    "Microsoft-Windows-Perflib[{\"Value\":\"WmiApRpl\"},{\"Value\":\"C:\\\\WINDOWS\\\\system32\\\\wbem\\\\wmiaprpl.dll\"},{\"Value\":21}]\n",
    "---------------------\n",
    "Microsoft-Windows-PerfProc[{\"Value\":\"\\\\BaseNamedObjects\\\\WmiProviderSubSystemHostJob\"},{\"Value\":997}]\n",
    "---------------------\n",
    "Microsoft-Windows-PerfNet{\"Value\":3221225506}\n",
    "```\n",
    "\n",
    "## DOcs \n",
    "- [official guide /evotec.xyz/hub/scripts/pseventviewer-powershell-module](https://evotec.xyz/hub/scripts/pseventviewer-powershell-module/) and [github url](https://evotec.xyz/hub/scripts/pseventviewer-powershell-module/)"
   ]
  },
  {
   "cell_type": "code",
   "execution_count": null,
   "metadata": {
    "dotnet_interactive": {
     "language": "pwsh"
    },
    "vscode": {
     "languageId": "dotnet-interactive.pwsh"
    }
   },
   "outputs": [
    {
     "name": "stdout",
     "output_type": "stream",
     "text": [
      "\u001b[93mVERBOSE: Get-Events - Preparing data to scan computer NIN8\u001b[0m\r\n",
      "\u001b[93mVERBOSE: Get-Events - Filter parameters provided LogName = application\u001b[0m\r\n",
      "\u001b[93mVERBOSE: Get-Events - Filter parameters provided StartTime = 09/20/2022 15:27:56\u001b[0m\r\n",
      "\u001b[93mVERBOSE: Get-Events - Filter parameters provided EndTime = 09/20/2022 17:27:56\u001b[0m\r\n",
      "\u001b[93mVERBOSE: Get-Events - Running query with parallel enabled...\u001b[0m\r\n",
      "\u001b[93mVERBOSE: Get-Events -------------START---------------------\u001b[0m\r\n",
      "\u001b[93mVERBOSE: Get-Events - Inside NIN8 for Events ID: \u001b[0m\r\n",
      "\u001b[93mVERBOSE: Get-Events - Inside NIN8 for Events LogName: application\u001b[0m\r\n",
      "\u001b[93mVERBOSE: Get-Events - Inside NIN8 for Events RecordID: \u001b[0m\r\n",
      "\u001b[93mVERBOSE: Get-Events - Inside NIN8 for Events Oldest: False\u001b[0m\r\n",
      "\u001b[93mVERBOSE: Get-Events - Inside NIN8 Data in FilterHashTable LogName application\u001b[0m\r\n",
      "\u001b[93mVERBOSE: Get-Events - Inside NIN8 Data in FilterHashTable StartTime 09/20/2022 15:27:56\u001b[0m\r\n",
      "\u001b[93mVERBOSE: Get-Events - Inside NIN8 Data in FilterHashTable EndTime 09/20/2022 17:27:56\u001b[0m\r\n",
      "\u001b[93mVERBOSE: Get-Events - Inside NIN8 for Events Max Events: 10\u001b[0m\r\n",
      "VERBOSE: Constructed structured query:\r\n",
      "<QueryList><Query Id=\"0\" Path=\"application\"><Select Path=\"application\">*[(System/TimeCreated[@SystemTime&gt;='2022-09-20T20:27:56.000Z' and @SystemTime&lt;='2022-09-20T22:27:56.000Z'])]</Select></Query></QueryList>.\r\n",
      "\u001b[93mVERBOSE: Get-Events - Inside NIN8 Events found 10\u001b[0m\r\n",
      "\u001b[93mVERBOSE: Get-Events - Inside NIN8 Processing events...\u001b[0m\r\n",
      "\u001b[93mVERBOSE: Get-Events - Inside NIN8 Time to generate 0 hours, 0 minutes, 0 seconds, 135 milliseconds\u001b[0m\r\n",
      "\u001b[93mVERBOSE: Get-Events --------------END----------------------\u001b[0m\r\n",
      "\u001b[93mVERBOSE: Get-Events - Overall errors: 0\u001b[0m\r\n",
      "\u001b[93mVERBOSE: Get-Events - Overall events processed in total for the report: 10\u001b[0m\r\n",
      "\u001b[93mVERBOSE: Get-Events - Overall time to generate 0 hours, 0 minutes, 0 seconds, 210 milliseconds\u001b[0m\r\n",
      "\u001b[93mVERBOSE: Get-Events - Overall events processing end\u001b[0m\r\n",
      "\r\n",
      "   ProviderName: ESENT\r\n",
      "\r\n",
      "\u001b[32;1mTimeCreated                     Id LevelDisplayName Message\u001b[0m\r\n",
      "\u001b[32;1m-----------                     -- ---------------- -------\u001b[0m\r\n",
      "9/20/2022 4:03:55 PM           326 Information      svchost (26352,D,50) DS_Token_DB: The database…\r\n",
      "9/20/2022 4:03:55 PM           105 Information      svchost (26352,D,0) DS_Token_DB: The database …\r\n",
      "9/20/2022 4:03:55 PM           302 Information      svchost (26352,U,98) DS_Token_DB: The database…\r\n",
      "9/20/2022 4:03:55 PM           301 Information      svchost (26352,R,98) DS_Token_DB: The database…\r\n",
      "9/20/2022 4:03:55 PM           301 Information      svchost (26352,R,98) DS_Token_DB: The database…\r\n",
      "9/20/2022 4:03:55 PM           301 Information      svchost (26352,R,98) DS_Token_DB: The database…\r\n",
      "9/20/2022 4:03:55 PM           300 Information      svchost (26352,R,98) DS_Token_DB: The database…\r\n",
      "9/20/2022 4:03:54 PM           102 Information      svchost (26352,P,98) DS_Token_DB: The database…\r\n",
      "9/20/2022 3:59:05 PM           330 Information      Video.UI (12216,D,2) {BFDD0D2F-4927-48FE-806A-…\r\n",
      "9/20/2022 3:59:05 PM           326 Information      Video.UI (12216,D,50) {BFDD0D2F-4927-48FE-806A…\r\n",
      "Saves to $q\r\n",
      "\r\n"
     ]
    }
   ],
   "source": [
    "Import-module PSEventViewer -Force -ea stop\n",
    "\n",
    "Get-Events -DateFrom (get-date).AddHours(-1) -DateTo (get-date).AddHours(1) -LogType application -MaxEvents 10 -Verbose -ov 'q' -\n",
    "\n",
    "'Saves to $q'\n"
   ]
  },
  {
   "cell_type": "code",
   "execution_count": null,
   "metadata": {
    "dotnet_interactive": {
     "language": "pwsh"
    },
    "vscode": {
     "languageId": "dotnet-interactive.pwsh"
    }
   },
   "outputs": [
    {
     "name": "stdout",
     "output_type": "stream",
     "text": [
      "\r\n",
      "   ProviderName: Microsoft-Windows-LoadPerf\r\n",
      "\r\n",
      "\u001b[32;1mTimeCreated                     Id LevelDisplayName Message\u001b[0m\r\n",
      "\u001b[32;1m-----------                     -- ---------------- -------\u001b[0m\r\n",
      "9/20/2022 3:35:09 PM          3011 Error            Unloading the performance counter strings for …\r\n",
      "9/20/2022 3:35:09 PM          3012 Error            The performance strings in the Performance reg…\r\n",
      "9/20/2022 3:35:09 PM          3011 Error            Unloading the performance counter strings for …\r\n",
      "9/20/2022 3:35:09 PM          3012 Error            The performance strings in the Performance reg…\r\n",
      "\r\n"
     ]
    }
   ],
   "source": [
    "$q\n",
    "Get-Events -DateFrom (get-date).AddHours(-1) -DateTo (get-date).AddHours(1) -LogType application -MaxEvents 5 -Verbose:$false -ov 'q' -Level Critical, Error, Warning"
   ]
  },
  {
   "cell_type": "code",
   "execution_count": null,
   "metadata": {
    "dotnet_interactive": {
     "language": "pwsh"
    },
    "vscode": {
     "languageId": "dotnet-interactive.pwsh"
    }
   },
   "outputs": [
    {
     "name": "stdout",
     "output_type": "stream",
     "text": [
      "\n",
      "---------------------\n",
      "\r\n"
     ]
    }
   ],
   "source": [
    "$q | Join-String { \n",
    "    $_.Properties | to->Json -Compress\n",
    "    | Join-String -op (@( $PSStyle.Foreground.FromRgb(23,222,90); $_.ProviderName ; $PSStyle.Reset ) -join '')\n",
    "} -sep (\"`n---------------------`n\")"
   ]
  },
  {
   "cell_type": "code",
   "execution_count": null,
   "metadata": {
    "dotnet_interactive": {
     "language": "pwsh"
    },
    "vscode": {
     "languageId": "dotnet-interactive.pwsh"
    }
   },
   "outputs": [],
   "source": []
  }
 ],
 "metadata": {
  "kernelspec": {
   "display_name": ".NET (PowerShell)",
   "language": "PowerShell",
   "name": ".net-pwsh"
  },
  "language_info": {
   "name": "PowerShell"
  }
 },
 "nbformat": 4,
 "nbformat_minor": 2
}
