{
 "cells": [
  {
   "cell_type": "code",
   "execution_count": null,
   "metadata": {
    "vscode": {
     "languageId": "dotnet-interactive.pwsh"
    }
   },
   "outputs": [],
   "source": []
  },
  {
   "cell_type": "code",
   "execution_count": null,
   "metadata": {
    "dotnet_interactive": {
     "language": "pwsh"
    },
    "vscode": {
     "languageId": "dotnet-interactive.pwsh"
    }
   },
   "outputs": [
    {
     "name": "stdout",
     "output_type": "stream",
     "text": [
      "Last ran: 2022-07-23 11:19:49Z\r\n",
      "Pwsh: 7.2.5\r\n",
      "BenchPress: 1.3.2\r\n"
     ]
    }
   ],
   "source": [
    "get-date | Join-String -op 'Last ran: ' -format '{0:u}'\n",
    "$PSVersionTable.PSVersion | Join-String -op 'Pwsh: '\n",
    "$jstrModule = @{ 'sep' = ', ' ; 'Prop' = { $_.Name, $_.Version -join ': ' } }\n",
    "\n",
    "if($PSVersionTable.PSEdition -eq 'Desktop') {\n",
    "    Import-Module -pass 'Benchpress'\n",
    "    | Join-string @jStrModule | ft\n",
    "} else {\n",
    "    # (currently) the fix for core isn't published, so clone it\n",
    "    Remove-module BenchPress -ea ignore\n",
    "    Import-Module -passthru (gi 'G:\\2022-github\\Pwsh\\StartAutomating👨\\Benchpress\\BenchPress.psd1')\n",
    "    | Join-string @jStrModule | ft\n",
    "}"
   ]
  },
  {
   "cell_type": "code",
   "execution_count": null,
   "metadata": {
    "dotnet_interactive": {
     "language": "pwsh"
    },
    "vscode": {
     "languageId": "dotnet-interactive.pwsh"
    }
   },
   "outputs": [
    {
     "data": {
      "text/plain": []
     },
     "metadata": {},
     "output_type": "display_data"
    },
    {
     "name": "stdout",
     "output_type": "stream",
     "text": [
      "\r\n",
      "   Benchmark:  @~3696 Mhz\r\n",
      "\r\n",
      "\u001b[32;1mTechnique                       Time            RelativeSpeed Throughput\u001b[0m\r\n",
      "\u001b[32;1m---------                       ----            ------------- ----------\u001b[0m\r\n",
      "Gcm | ? CommandType -eq \"alias\" 00:00:00.578315 4.63x         172.92/s\r\n",
      "2Step $All.Where{}              00:00:00.484180 3.88x         206.53/s\r\n",
      "Inline $All.Where{}             00:00:00.422791 3.39x         236.52/s\r\n",
      "Gcm -CommandType Alias          00:00:00.124810 1x            801.21/s\r\n",
      "\r\n"
     ]
    }
   ],
   "source": [
    "$Config = @{ $Names = 'dev.nin' } \n",
    "Measure-Benchmark -Technique @{\n",
    "    # 'Filtering by the Source Command' = {\n",
    "    'Gcm -CommandType Alias' = {\n",
    "        Get-Command -m 'dev.nin' -CommandType Alias\n",
    "    }\n",
    "    'Gcm | ? CommandType -eq \"alias\"' = {\n",
    "        Get-Command -m 'dev.nin'\n",
    "        | ? CommandType -eq 'alias'        \n",
    "    }\n",
    "    '2Step $All.Where{}' = {\n",
    "        $allCmd = Get-Command -m 'dev.nin'\n",
    "        $allCmd.Where({$_.CommandType -eq 'alias'})\n",
    "    }\n",
    "    'Inline $All.Where{} ' = {\n",
    "        @(Get-Command -m 'dev.nin').Where({$_.CommandType -eq 'alias'})\n",
    "    }\n",
    "} | sort Time -desc"
   ]
  }
 ],
 "metadata": {
  "kernelspec": {
   "display_name": ".NET (PowerShell)",
   "language": "PowerShell",
   "name": ".net-pwsh"
  },
  "language_info": {
   "name": "PowerShell"
  }
 },
 "nbformat": 4,
 "nbformat_minor": 2
}
