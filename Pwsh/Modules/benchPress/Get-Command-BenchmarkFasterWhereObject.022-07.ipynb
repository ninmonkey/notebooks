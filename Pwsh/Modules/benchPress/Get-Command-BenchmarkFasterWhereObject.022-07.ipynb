{
 "cells": [
  {
   "cell_type": "markdown",
   "metadata": {},
   "source": [
    "## Test 2\n",
    "\n",
    "```ps1\n",
    "Pwsh: 7.2.5\n",
    "\n",
    "# variable config module names\n",
    "   Benchmark:  @~3696 Mhz\n",
    "\n",
    "Technique                       Time            RelativeSpeed Throughput\n",
    "---------                       ----            ------------- ----------\n",
    "Gcm | ? CommandType -eq \"alias\" 00:00:00.624909 5.13x         160.02/s\n",
    "2Step $All.Where{}              00:00:00.494311 4.06x         202.3/s\n",
    "Inline $All.Where{}             00:00:00.427924 3.51x         233.69/s\n",
    "Gcm -CommandType Alias          00:00:00.121839 1x            820.75/s\n",
    "\n",
    "# hardcoded module names\n",
    "\n",
    "Gcm | ? CommandType -eq \"alias\" 00:00:00.582083 5.76x         171.8/s\n",
    "2Step $All.Where{}              00:00:00.557338 5.51x         179.42/s\n",
    "Inline $All.Where{}             00:00:00.462835 4.58x         216.06/s\n",
    "Gcm -CommandType Alias          00:00:00.101089 1x            989.22/s\n",
    "```\n",
    "\n",
    "## Test 1\n",
    "\n",
    "```ps1\n",
    "Pwsh: 7.2.5\n",
    "# Compare GCM itself, without filtering\n",
    "   Benchmark:  @~3696 Mhz\n",
    "\n",
    "Technique                   Time            RelativeSpeed Throughput\n",
    "---------                   ----            ------------- ----------\n",
    "Gcm * (explicit)            00:00:47.655236 456.64x       2.1/s\n",
    "Gcm * (implicit)            00:00:29.668240 284.28x       3.37/s\n",
    "Gcm -m                      00:00:00.154693 1.48x         646.44/s\n",
    "Gcm -m x -CommandType Alias 00:00:00.104361 1x            958.21/s\n",
    "```"
   ]
  },
  {
   "cell_type": "code",
   "execution_count": null,
   "metadata": {
    "dotnet_interactive": {
     "language": "pwsh"
    },
    "vscode": {
     "languageId": "dotnet-interactive.pwsh"
    }
   },
   "outputs": [
    {
     "name": "stdout",
     "output_type": "stream",
     "text": [
      "Last ran: 2022-08-07 18:03:02Z\r\n",
      "Pwsh: 7.2.5\r\n",
      "BenchPress: 1.3.2\r\n"
     ]
    }
   ],
   "source": [
    "get-date | Join-String -op 'Last ran: ' -format '{0:u}'\n",
    "$PSVersionTable.PSVersion | Join-String -op 'Pwsh: '\n",
    "$jstrModule = @{ 'sep' = ', ' ; 'Prop' = { $_.Name, $_.Version -join ': ' } }\n",
    "\n",
    "if($PSVersionTable.PSEdition -eq 'Desktop') {\n",
    "    Import-Module -pass 'Benchpress'\n",
    "    | Join-string @jStrModule | ft\n",
    "} else {\n",
    "    # (currently) the fix for core isn't published, so clone it\n",
    "    Remove-module BenchPress -ea ignore\n",
    "    Import-Module -passthru (gi 'G:\\2022-github\\Pwsh\\StartAutomating👨\\Benchpress\\BenchPress.psd1')\n",
    "    | Join-string @jStrModule | ft\n",
    "}"
   ]
  },
  {
   "cell_type": "code",
   "execution_count": null,
   "metadata": {
    "dotnet_interactive": {
     "language": "pwsh"
    },
    "vscode": {
     "languageId": "dotnet-interactive.pwsh"
    }
   },
   "outputs": [
    {
     "name": "stdout",
     "output_type": "stream",
     "text": [
      "Pwsh: 7.2.5\r\n",
      "\r\n",
      "\u001b[38;2;235;203;139m# variable config module names\u001b[39m\r\n",
      "\r\n"
     ]
    },
    {
     "data": {
      "text/plain": []
     },
     "metadata": {},
     "output_type": "display_data"
    },
    {
     "name": "stdout",
     "output_type": "stream",
     "text": [
      "\r\n",
      "   Benchmark:  @~3696 Mhz\r\n",
      "\r\n",
      "\u001b[32;1mTechnique                       Time            RelativeSpeed Throughput\u001b[0m\r\n",
      "\u001b[32;1m---------                       ----            ------------- ----------\u001b[0m\r\n",
      "2Step $All.Where{}              00:00:00.419902 4.61x         238.15/s\r\n",
      "Gcm | ? CommandType -eq \"alias\" 00:00:00.404342 4.44x         247.31/s\r\n",
      "Inline $All.Where{}             00:00:00.323350 3.55x         309.26/s\r\n",
      "Gcm -CommandType Alias          00:00:00.091117 1x            1097.49/s\r\n",
      "\r\n",
      "\u001b[38;2;235;203;139m# hardcoded module names\u001b[39m\r\n",
      "\r\n",
      "Gcm | ? CommandType -eq \"alias\" 00:00:00.442971 4.86x         225.75/s\r\n",
      "Inline $All.Where{}             00:00:00.371774 4.08x         268.98/s\r\n",
      "2Step $All.Where{}              00:00:00.345280 3.79x         289.62/s\r\n",
      "Gcm -CommandType Alias          00:00:00.091208 1x            1096.38/s\r\n",
      "\r\n"
     ]
    }
   ],
   "source": [
    "$PSVersionTable.PSVersion | Join-String -op 'Pwsh: '\n",
    "$Config = @{ Names = 'dev.nin' } \n",
    "h1 'variable config module names'\n",
    "Measure-Benchmark -Technique @{\n",
    "    # 'Filtering by the Source Command' = {\n",
    "    'Gcm -CommandType Alias' = {\n",
    "        Get-Command -m $Config.Names -CommandType Alias\n",
    "    }\n",
    "    'Gcm | ? CommandType -eq \"alias\"' = {\n",
    "        Get-Command -m $Config.Names\n",
    "        | ? CommandType -eq 'alias'        \n",
    "    }\n",
    "    '2Step $All.Where{}' = {\n",
    "        $allCmd = Get-Command -m $Config.Names\n",
    "        $allCmd.Where({$_.CommandType -eq 'alias'})\n",
    "    }\n",
    "    'Inline $All.Where{} ' = {\n",
    "        @(Get-Command -m $Config.Names).Where({$_.CommandType -eq 'alias'})\n",
    "    }\n",
    "} | sort Time -desc\n",
    "\n",
    "h1 'hardcoded module names'\n",
    "Measure-Benchmark -Technique @{\n",
    "    # 'Filtering by the Source Command' = {\n",
    "    'Gcm -CommandType Alias' = {\n",
    "        Get-Command -m 'Dev.nin' -CommandType Alias\n",
    "    }\n",
    "    'Gcm | ? CommandType -eq \"alias\"' = {\n",
    "        Get-Command -m 'Dev.nin'\n",
    "        | ? CommandType -eq 'alias'        \n",
    "    }\n",
    "    '2Step $All.Where{}' = {\n",
    "        $allCmd = Get-Command -m 'Dev.nin'\n",
    "        $allCmd.Where({$_.CommandType -eq 'alias'})\n",
    "    }\n",
    "    'Inline $All.Where{} ' = {\n",
    "        @(Get-Command -m 'Dev.nin').Where({$_.CommandType -eq 'alias'})\n",
    "    }\n",
    "} | sort Time -desc"
   ]
  },
  {
   "cell_type": "code",
   "execution_count": null,
   "metadata": {
    "dotnet_interactive": {
     "language": "pwsh"
    },
    "vscode": {
     "languageId": "dotnet-interactive.pwsh"
    }
   },
   "outputs": [
    {
     "name": "stdout",
     "output_type": "stream",
     "text": [
      "Pwsh: 7.2.5\r\n",
      "\r\n",
      "\u001b[38;2;235;203;139m# Compare GCM itself, without filtering\u001b[39m\r\n",
      "\r\n"
     ]
    },
    {
     "data": {
      "text/plain": []
     },
     "metadata": {},
     "output_type": "display_data"
    },
    {
     "name": "stdout",
     "output_type": "stream",
     "text": [
      "\r\n",
      "   Benchmark:  @~3696 Mhz\r\n",
      "\r\n",
      "\u001b[32;1mTechnique                   Time            RelativeSpeed Throughput\u001b[0m\r\n",
      "\u001b[32;1m---------                   ----            ------------- ----------\u001b[0m\r\n",
      "Gcm * (explicit)            00:00:47.655236 456.64x       2.1/s\r\n",
      "Gcm * (implicit)            00:00:29.668240 284.28x       3.37/s\r\n",
      "Gcm -m                      00:00:00.154693 1.48x         646.44/s\r\n",
      "Gcm -m x -CommandType Alias 00:00:00.104361 1x            958.21/s\r\n",
      "\r\n"
     ]
    }
   ],
   "source": [
    "$PSVersionTable.PSVersion | Join-String -op 'Pwsh: '\n",
    "$Config = @{ Names = 'dev.nin' } \n",
    "h1 'Compare GCM itself, without filtering'\n",
    "Measure-Benchmark -Technique @{\n",
    "    # 'Filtering by the Source Command' = {\n",
    "    'Gcm -m x -CommandType Alias' = {\n",
    "        Get-Command -m $Config.Names -CommandType Alias\n",
    "    }\n",
    "    'Gcm -m' = {\n",
    "        Get-Command -m $Config.Names\n",
    "    }\n",
    "    'Gcm * (implicit)' = {\n",
    "        Get-Command\n",
    "    }\n",
    "    'Gcm * (explicit)' = {\n",
    "        Get-Command *\n",
    "    }\n",
    "} | sort Time -desc"
   ]
  }
 ],
 "metadata": {
  "kernelspec": {
   "display_name": ".NET (PowerShell)",
   "language": "PowerShell",
   "name": ".net-pwsh"
  },
  "language_info": {
   "name": "PowerShell"
  }
 },
 "nbformat": 4,
 "nbformat_minor": 2
}
