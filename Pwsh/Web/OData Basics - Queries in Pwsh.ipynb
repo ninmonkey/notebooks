{
 "cells": [
  {
   "attachments": {},
   "cell_type": "markdown",
   "metadata": {},
   "source": [
    "ODATA basics\n",
    "\n",
    "- [OData.org/GettingStarted](https://www.odata.org/getting-started/)\n",
    "- [Import Postman Collection](https://www.postman.com/collections/bf7d9130241aaa7160d8)"
   ]
  },
  {
   "cell_type": "code",
   "execution_count": 5,
   "id": "30e643dc",
   "metadata": {
    "dotnet_interactive": {
     "language": "pwsh"
    },
    "polyglot_notebook": {
     "kernelName": "pwsh"
    },
    "vscode": {
     "languageId": "polyglot-notebook"
    }
   },
   "outputs": [],
   "source": [
    "$PSDefaultParameterValues['ConvertTo-Json:Depth'] = 10\n",
    "$PSDefaultParameterValues['ConvertTo-Json:WarningAction'] = 'Ignore'"
   ]
  },
  {
   "cell_type": "code",
   "execution_count": 6,
   "id": "a1d11a0b",
   "metadata": {
    "dotnet_interactive": {
     "language": "pwsh"
    },
    "polyglot_notebook": {
     "kernelName": "pwsh"
    },
    "vscode": {
     "languageId": "polyglot-notebook"
    }
   },
   "outputs": [
    {
     "name": "stdout",
     "output_type": "stream",
     "text": [
      "http://services.odata.org/V4/TripPinService/People('russellwhyte')\n",
      "\n",
      "\u001b[32;1m@odata.context  : \u001b[0mhttp://services.odata.org/V4/TripPinService/$metadata#People/$entity\n",
      "\u001b[32;1m@odata.id       : \u001b[0mhttp://services.odata.org/V4/TripPinService/People('russellwhyte')\n",
      "\u001b[32;1m@odata.etag     : \u001b[0mW/\"08DB6D94E21F5945\"\n",
      "\u001b[32;1m@odata.editLink : \u001b[0mhttp://services.odata.org/V4/TripPinService/People('russellwhyte')\n",
      "\u001b[32;1mUserName        : \u001b[0mrussellwhyte\n",
      "\u001b[32;1mFirstName       : \u001b[0mRussell\n",
      "\u001b[32;1mLastName        : \u001b[0mWhyte\n",
      "\u001b[32;1mEmails          : \u001b[0m{Russell@example.com, Russell@contoso.com}\n",
      "\u001b[32;1mAddressInfo     : \u001b[0m{@{Address=187 Suffolk Ln.; City=}}\n",
      "\u001b[32;1mGender          : \u001b[0mMale\n",
      "\u001b[32;1mConcurrency     : \u001b[0m638224258419349829\n",
      "\n",
      "{\n",
      "  \"@odata.context\": \"http://services.odata.org/V4/TripPinService/$metadata#People/$entity\",\n",
      "  \"@odata.id\": \"http://services.odata.org/V4/TripPinService/People('russellwhyte')\",\n",
      "  \"@odata.etag\": \"W/\\\"08DB6D94E21F5945\\\"\",\n",
      "  \"@odata.editLink\": \"http://services.odata.org/V4/TripPinService/People('russellwhyte')\",\n",
      "  \"UserName\": \"russellwhyte\",\n",
      "  \"FirstName\": \"Russell\",\n",
      "  \"LastName\": \"Whyte\",\n",
      "  \"Emails\": [\n",
      "    \"Russell@example.com\",\n",
      "    \"Russell@contoso.com\"\n",
      "  ],\n",
      "  \"AddressInfo\": [\n",
      "    {\n",
      "      \"Address\": \"187 Suffolk Ln.\",\n",
      "      \"City\": {\n",
      "        \"CountryRegion\": \"United States\",\n",
      "        \"Name\": \"Boise\",\n",
      "        \"Region\": \"ID\"\n",
      "      }\n",
      "    }\n",
      "  ],\n",
      "  \"Gender\": \"Male\",\n",
      "  \"Concurrency\": 638224258419349829\n",
      "}\n",
      "\n"
     ]
    }
   ],
   "source": [
    "$url = @'\n",
    "http://services.odata.org/V4/TripPinService/People('russellwhyte')\n",
    "'@\n",
    "$url\n",
    "$response = Invoke-RestMethod -Uri $url\n",
    "$response\n",
    "$response | ConvertTo-Json "
   ]
  },
  {
   "cell_type": "code",
   "execution_count": 7,
   "id": "70b6c953",
   "metadata": {
    "dotnet_interactive": {
     "language": "pwsh"
    },
    "polyglot_notebook": {
     "kernelName": "pwsh"
    },
    "vscode": {
     "languageId": "polyglot-notebook"
    }
   },
   "outputs": [
    {
     "name": "stdout",
     "output_type": "stream",
     "text": [
      "https://services.odata.org/v4/TripPinServiceRW/People?$top=2 &amp; $select=FirstName, LastName &amp; $filter=Trips/any(d:d/Budget gt 3000)\n",
      "{\n",
      "  \"@odata.context\": \"http://services.odata.org/V4/(S(haw1nir30vpesqzfpmb0lh1b))/TripPinServiceRW/$metadata#People\",\n",
      "  \"value\": [\n",
      "    {\n",
      "      \"@odata.id\": \"http://services.odata.org/V4/(S(haw1nir30vpesqzfpmb0lh1b))/TripPinServiceRW/People('russellwhyte')\",\n",
      "      \"@odata.etag\": \"W/\\\"08DB6E00EA96DAFE\\\"\",\n",
      "      \"@odata.editLink\": \"http://services.odata.org/V4/(S(haw1nir30vpesqzfpmb0lh1b))/TripPinServiceRW/People('russellwhyte')\",\n",
      "      \"UserName\": \"russellwhyte\",\n",
      "      \"FirstName\": \"Russell\",\n",
      "      \"LastName\": \"Whyte\",\n",
      "      \"Emails\": [\n",
      "        \"Russell@example.com\",\n",
      "        \"Russell@contoso.com\"\n",
      "      ],\n",
      "      \"AddressInfo\": [\n",
      "        {\n",
      "          \"Address\": \"187 Suffolk Ln.\",\n",
      "          \"City\": {\n",
      "            \"CountryRegion\": \"United States\",\n",
      "            \"Name\": \"Boise\",\n",
      "            \"Region\": \"ID\"\n",
      "          }\n",
      "        }\n",
      "      ],\n",
      "      \"Gender\": \"Male\",\n",
      "      \"Concurrency\": 638224722417867518\n",
      "    },\n",
      "    {\n",
      "      \"@odata.id\": \"http://services.odata.org/V4/(S(haw1nir30vpesqzfpmb0lh1b))/TripPinServiceRW/People('scottketchum')\",\n",
      "      \"@odata.etag\": \"W/\\\"08DB6E00EA96DAFE\\\"\",\n",
      "      \"@odata.editLink\": \"http://services.odata.org/V4/(S(haw1nir30vpesqzfpmb0lh1b))/TripPinServiceRW/People('scottketchum')\",\n",
      "      \"UserName\": \"scottketchum\",\n",
      "      \"FirstName\": \"Scott\",\n",
      "      \"LastName\": \"Ketchum\",\n",
      "      \"Emails\": [\n",
      "        \"Scott@example.com\"\n",
      "      ],\n",
      "      \"AddressInfo\": [\n",
      "        {\n",
      "          \"Address\": \"2817 Milton Dr.\",\n",
      "          \"City\": {\n",
      "            \"CountryRegion\": \"United States\",\n",
      "            \"Name\": \"Albuquerque\",\n",
      "            \"Region\": \"NM\"\n",
      "          }\n",
      "        }\n",
      "      ],\n",
      "      \"Gender\": \"Male\",\n",
      "      \"Concurrency\": 638224722417867518\n",
      "    }\n",
      "  ]\n",
      "}\n"
     ]
    }
   ],
   "source": [
    "$url = @'\n",
    "https://services.odata.org/v4/TripPinServiceRW/People?$top=2 &amp; $select=FirstName, LastName &amp; $filter=Trips/any(d:d/Budget gt 3000)\n",
    "'@\n",
    "$url\n",
    "$response = Invoke-RestMethod -Uri $url\n",
    "$response | ConvertTo-Json -wa ignore"
   ]
  }
 ],
 "metadata": {
  "kernelInfo": {
   "defaultKernelName": null,
   "items": [
    {
     "aliases": [
      "c#",
      "cs"
     ],
     "languageName": "C#",
     "name": "csharp"
    },
    {
     "aliases": [
      "f#",
      "fs"
     ],
     "languageName": "F#",
     "name": "fsharp"
    },
    {
     "aliases": [
      "powershell"
     ],
     "languageName": "PowerShell",
     "name": "pwsh"
    },
    {
     "aliases": [
      "js"
     ],
     "languageName": "JavaScript",
     "name": "javascript"
    },
    {
     "languageName": "HTML",
     "name": "html"
    },
    {
     "languageName": "SQL",
     "name": "sql"
    },
    {
     "languageName": "KQL",
     "name": "kql"
    },
    {
     "languageName": "Mermaid",
     "name": "mermaid"
    },
    {
     "languageName": "HTTP",
     "name": "http"
    },
    {
     "name": "value"
    }
   ]
  },
  "language_info": {
   "name": "python"
  },
  "polyglot_notebook": {
   "kernelInfo": {
    "defaultKernelName": "csharp",
    "items": [
     {
      "aliases": [],
      "name": "csharp"
     },
     {
      "aliases": [],
      "languageName": "pwsh",
      "name": "pwsh"
     }
    ]
   }
  }
 },
 "nbformat": 4,
 "nbformat_minor": 5
}
