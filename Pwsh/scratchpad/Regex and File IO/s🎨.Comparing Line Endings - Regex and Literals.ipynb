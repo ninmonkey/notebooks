{
 "cells": [
  {
   "cell_type": "code",
   "execution_count": 6,
   "metadata": {
    "dotnet_interactive": {
     "language": "pwsh"
    },
    "polyglot_notebook": {
     "language": "pwsh"
    },
    "vscode": {
     "languageId": "dotnet-interactive.pwsh"
    }
   },
   "outputs": [
    {
     "name": "stdout",
     "output_type": "stream",
     "text": [
      "now local\r\n",
      "\u001b[91mGet-Item: \u001b[0mC:\\Users\\cppmo_000\\SkyDrive\\Documents\\2022\\My_Github\\notebooks\\Pwsh\\scratchpad\\Regex and File IO\\utils.count_file_metrics.ps1:101\r\n",
      "\u001b[96mLine |\r\n",
      "\u001b[96m 101 | \u001b[0m $file = \u001b[96mGet-Item 'G:\\temp\\nbout\\export\\explicit_jstr_CRNL.txt' -ea st\u001b[0m …\r\n",
      "\u001b[96m     | \u001b[91m         ~~~~~~~~~~~~~~~~~~~~~~~~~~~~~~~~~~~~~~~~~~~~~~~~~~~~~~~~~~~~~\r\n",
      "\u001b[91m\u001b[96m     | \u001b[91mCannot find path 'G:\\temp\\nbout\\export\\explicit_jstr_CRNL.txt' because it does not\r\n",
      "\u001b[96m     | \u001b[91mexist.\r\n",
      "\u001b[0m\r\n"
     ]
    }
   ],
   "source": [
    "import-module ninmonkey.console *>$null\n",
    "'now local'\n",
    "# . (gi (Join-Path $PSScriptRoot 'utils.count_file_metrics.ps1'))\n",
    ". (gi (Join-Path '.' 'utils.count_file_metrics.ps1')) # PSScriptRoot or Global:PSScriptRoot isn't always accessable in notebooks \n",
    "set-alias 'sc' 'set-content'"
   ]
  },
  {
   "cell_type": "code",
   "execution_count": 7,
   "metadata": {
    "dotnet_interactive": {
     "language": "pwsh"
    },
    "vscode": {
     "languageId": "dotnet-interactive.pwsh"
    }
   },
   "outputs": [
    {
     "name": "stdout",
     "output_type": "stream",
     "text": [
      "\r\n",
      "\u001b[32;1mName     Value\u001b[0m\r\n",
      "\u001b[32;1m----     -----\u001b[0m\r\n",
      "TempRoot G:\\temp\\nbout\\export\r\n",
      "\r\n",
      "hiworld\r\n",
      "hiworld\r\n",
      "hi␊world\r\n",
      "hi␍␊world\r\n",
      "hi␍␊world\r\n"
     ]
    }
   ],
   "source": [
    "$NbConf.TempRoot = gi 'G:\\temp\\nbout\\export'\n",
    "$NBConf.TempRoot ??= 'temp:'\n",
    "$NbConf | ft -auto\n",
    "\n",
    "@(\n",
    "    'hi'\n",
    "    'world'\n",
    ")\n",
    "| Set-Content -path (getPath 'implicit_pipeline_join' ) -passThru\n",
    "| Format-ControlChar\n",
    "\n",
    "@(\n",
    "    'hi'\n",
    "    'world'\n",
    ")\n",
    "| Join-String -sep ''\n",
    "| Set-Content -path (getPath 'explicit_jstr_empty' ) -passThru\n",
    "| Format-ControlChar\n",
    "\n",
    "@(\n",
    "    'hi'\n",
    "    'world'\n",
    ")\n",
    "| Join-String -sep \"`n\"\n",
    "| Set-Content -path (getPath 'explicit_jstr_NL' ) -passThru\n",
    "| Format-ControlChar\n",
    "\n",
    "@(\n",
    "    'hi'\n",
    "    'world'\n",
    ")\n",
    "| Join-String -sep \"`r`n\"\n",
    "| Set-Content -path (getPath 'explicit_jstr_CRNL' ) -passThru\n",
    "| Format-ControlChar\n",
    "\n",
    "@(\n",
    "    'hi'\n",
    "    'world'\n",
    ")\n",
    "| Join-String -sep ([System.Environment]::NewLine)\n",
    "| Set-Content -path (getPath 'explicit_jstr_EnvNL' ) -passThru\n",
    "| Format-ControlChar\n",
    "\n",
    "return\n"
   ]
  },
  {
   "cell_type": "code",
   "execution_count": 8,
   "metadata": {
    "dotnet_interactive": {
     "language": "pwsh"
    },
    "vscode": {
     "languageId": "dotnet-interactive.pwsh"
    }
   },
   "outputs": [
    {
     "name": "stdout",
     "output_type": "stream",
     "text": [
      "\r\n",
      "    Directory: G:\\temp\\nbout\\export\r\n",
      "\r\n",
      "\u001b[32;1mMode                 LastWriteTime         Length Name\u001b[0m\r\n",
      "\u001b[32;1m----                 -------------         ------ ----\u001b[0m\r\n",
      "-a---          12/13/2022 12:22 PM             11 explicit_jstr_CRNL.txt\r\n",
      "-a---          12/13/2022 12:22 PM              9 explicit_jstr_empty.txt\r\n",
      "-a---          12/13/2022 12:22 PM             11 explicit_jstr_EnvNL.txt\r\n",
      "-a---          12/13/2022 12:22 PM             10 explicit_jstr_NL.txt\r\n",
      "-a---          12/13/2022 12:22 PM             11 implicit_pipeline_join.txt\r\n",
      "hi␍␊world␍␊\r\n",
      "\r\n"
     ]
    }
   ],
   "source": [
    "getAllExport \n",
    "\n",
    " get-Content -raw -path (getPath 'implicit_pipeline_join')\n",
    " | Format-COntrolChar"
   ]
  },
  {
   "cell_type": "code",
   "execution_count": 9,
   "metadata": {
    "dotnet_interactive": {
     "language": "pwsh"
    },
    "vscode": {
     "languageId": "dotnet-interactive.pwsh"
    }
   },
   "outputs": [
    {
     "name": "stdout",
     "output_type": "stream",
     "text": [
      "hiworld\r\n",
      "3\r\n",
      "hi\n",
      "world\r\n",
      "2\r\n",
      "hi\n",
      "world\r\n",
      "2\r\n",
      "hi\n",
      "world\r\n",
      "2\r\n"
     ]
    }
   ],
   "source": [
    "@(\"hi\"; 'world') | Set-content -Path 'greeting_implicit.txt' -PassThru | Format-ControlChar\n",
    "\"hi`nworld\" | sc -path 'greet_explicit.txt'\n",
    "$raw2 = (gc -Raw 'greeting_implicit.txt') -split ([System.Environment]::NewLine) \n",
    "$raw2.count\n",
    "\n",
    "\"hi`nworld\" | Set-Content -path 'greet_explicit.txt' -PassThru\n",
    "$raw3 = (gc -Raw 'greet_explicit.txt') -split ([System.Environment]::NewLine) \n",
    "$raw3.count\n",
    "\n",
    "@('hi'; 'world')\n",
    "| Join-String -sep \"`n\"\n",
    "| Set-Content -path 'joinblank_explicit.txt' -PassThru\n",
    "$raw4 = (gc -Raw 'joinblank_explicit.txt') -split ([System.Environment]::NewLine) \n",
    "$raw4.count\n",
    "\n",
    "@('hi'; 'world')\n",
    "| Join-String -sep \"`n\"\n",
    "| Set-Content -path 'joinNL_explicit.txt' -PassThru\n",
    "$raw5 = (gc -Raw 'joinNL_explicit.txt') -split ([System.Environment]::NewLine) \n",
    "$raw5.count\n"
   ]
  },
  {
   "cell_type": "code",
   "execution_count": 10,
   "metadata": {
    "dotnet_interactive": {
     "language": "pwsh"
    },
    "vscode": {
     "languageId": "dotnet-interactive.pwsh"
    }
   },
   "outputs": [
    {
     "name": "stdout",
     "output_type": "stream",
     "text": [
      "hi␍␊world␍␊\r\n"
     ]
    }
   ],
   "source": [
    "gc -raw -path (getPath 'implicit_pipeline_join' )\n",
    "| Format-ControlChar"
   ]
  },
  {
   "cell_type": "code",
   "execution_count": 11,
   "metadata": {
    "dotnet_interactive": {
     "language": "pwsh"
    },
    "vscode": {
     "languageId": "dotnet-interactive.pwsh"
    }
   },
   "outputs": [
    {
     "name": "stdout",
     "output_type": "stream",
     "text": [
      "\r\n",
      "    Directory: G:\\temp\\nbout\\export\r\n",
      "\r\n",
      "\u001b[32;1mMode                 LastWriteTime         Length Name\u001b[0m\r\n",
      "\u001b[32;1m----                 -------------         ------ ----\u001b[0m\r\n",
      "-a---          12/13/2022 12:22 PM             11 explicit_jstr_CRNL.txt\r\n",
      "-a---          12/13/2022 12:22 PM              9 explicit_jstr_empty.txt\r\n",
      "-a---          12/13/2022 12:22 PM             11 explicit_jstr_EnvNL.txt\r\n",
      "-a---          12/13/2022 12:22 PM             10 explicit_jstr_NL.txt\r\n",
      "-a---          12/13/2022 12:22 PM             11 implicit_pipeline_join.txt\r\n",
      "\r\n"
     ]
    }
   ],
   "source": [
    "getAllExport"
   ]
  },
  {
   "cell_type": "markdown",
   "metadata": {},
   "source": []
  }
 ],
 "metadata": {
  "kernelspec": {
   "display_name": ".NET (PowerShell)",
   "language": "PowerShell",
   "name": ".net-pwsh"
  },
  "language_info": {
   "name": "PowerShell"
  }
 },
 "nbformat": 4,
 "nbformat_minor": 2
}
