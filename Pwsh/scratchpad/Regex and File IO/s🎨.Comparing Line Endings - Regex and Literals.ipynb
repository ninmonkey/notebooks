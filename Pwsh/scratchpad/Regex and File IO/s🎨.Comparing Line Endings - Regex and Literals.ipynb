{
 "cells": [
  {
   "cell_type": "code",
   "execution_count": null,
   "metadata": {
    "dotnet_interactive": {
     "language": "pwsh"
    },
    "polyglot_notebook": {
     "language": "pwsh"
    }
   },
   "outputs": [],
   "source": [
    "import-module ninmonkey.console *>$null\n",
    "'now local'\n",
    "# . (gi (Join-Path $PSScriptRoot 'utils.count_file_metrics.ps1'))\n",
    ". (gi (Join-Path '.' 'utils.count_file_metrics.ps1')) # PSScriptRoot or Global:PSScriptRoot isn't always accessable in notebooks \n",
    "set-alias 'sc' 'set-content'"
   ]
  },
  {
   "cell_type": "code",
   "execution_count": null,
   "metadata": {
    "dotnet_interactive": {
     "language": "pwsh"
    }
   },
   "outputs": [],
   "source": [
    "$NbConf.TempRoot = gi 'G:\\temp\\nbout\\export'\n",
    "$NBConf.TempRoot ??= 'temp:'\n",
    "$NbConf | ft -auto\n",
    "\n",
    "@(\n",
    "    'hi'\n",
    "    'world'\n",
    ")\n",
    "| Set-Content -path (getPath 'implicit_pipeline_join' ) -passThru\n",
    "| Format-ControlChar\n",
    "\n",
    "@(\n",
    "    'hi'\n",
    "    'world'\n",
    ")\n",
    "| Join-String -sep ''\n",
    "| Set-Content -path (getPath 'explicit_jstr_empty' ) -passThru\n",
    "| Format-ControlChar\n",
    "\n",
    "@(\n",
    "    'hi'\n",
    "    'world'\n",
    ")\n",
    "| Join-String -sep \"`n\"\n",
    "| Set-Content -path (getPath 'explicit_jstr_NL' ) -passThru\n",
    "| Format-ControlChar\n",
    "\n",
    "@(\n",
    "    'hi'\n",
    "    'world'\n",
    ")\n",
    "| Join-String -sep \"`r`n\"\n",
    "| Set-Content -path (getPath 'explicit_jstr_CRNL' ) -passThru\n",
    "| Format-ControlChar\n",
    "\n",
    "@(\n",
    "    'hi'\n",
    "    'world'\n",
    ")\n",
    "| Join-String -sep ([System.Environment]::NewLine)\n",
    "| Set-Content -path (getPath 'explicit_jstr_EnvNL' ) -passThru\n",
    "| Format-ControlChar\n",
    "\n",
    "return\n"
   ]
  },
  {
   "cell_type": "code",
   "execution_count": null,
   "metadata": {
    "dotnet_interactive": {
     "language": "pwsh"
    }
   },
   "outputs": [],
   "source": [
    "getAllExport \n",
    "\n",
    " get-Content -raw -path (getPath 'implicit_pipeline_join')\n",
    " | Format-COntrolChar"
   ]
  },
  {
   "cell_type": "code",
   "execution_count": null,
   "metadata": {
    "dotnet_interactive": {
     "language": "pwsh"
    }
   },
   "outputs": [],
   "source": [
    "@(\"hi\"; 'world') | Set-content -Path 'greeting_implicit.txt' -PassThru | Format-ControlChar\n",
    "\"hi`nworld\" | sc -path 'greet_explicit.txt'\n",
    "$raw2 = (gc -Raw 'greeting_implicit.txt') -split ([System.Environment]::NewLine) \n",
    "$raw2.count\n",
    "\n",
    "\"hi`nworld\" | Set-Content -path 'greet_explicit.txt' -PassThru\n",
    "$raw3 = (gc -Raw 'greet_explicit.txt') -split ([System.Environment]::NewLine) \n",
    "$raw3.count\n",
    "\n",
    "@('hi'; 'world')\n",
    "| Join-String -sep \"`n\"\n",
    "| Set-Content -path 'joinblank_explicit.txt' -PassThru\n",
    "$raw4 = (gc -Raw 'joinblank_explicit.txt') -split ([System.Environment]::NewLine) \n",
    "$raw4.count\n",
    "\n",
    "@('hi'; 'world')\n",
    "| Join-String -sep \"`n\"\n",
    "| Set-Content -path 'joinNL_explicit.txt' -PassThru\n",
    "$raw5 = (gc -Raw 'joinNL_explicit.txt') -split ([System.Environment]::NewLine) \n",
    "$raw5.count\n"
   ]
  },
  {
   "cell_type": "code",
   "execution_count": null,
   "metadata": {
    "dotnet_interactive": {
     "language": "pwsh"
    }
   },
   "outputs": [],
   "source": [
    "gc -raw -path (getPath 'implicit_pipeline_join' )\n",
    "| Format-ControlChar"
   ]
  },
  {
   "cell_type": "code",
   "execution_count": null,
   "metadata": {
    "dotnet_interactive": {
     "language": "pwsh"
    }
   },
   "outputs": [],
   "source": [
    "getAllExport"
   ]
  },
  {
   "cell_type": "markdown",
   "metadata": {
    "dotnet_interactive": {
     "language": "csharp"
    },
    "polyglot_notebook": {
     "kernelName": "csharp"
    }
   },
   "source": []
  }
 ],
 "metadata": {
  "kernelspec": {
   "display_name": ".NET (C#)",
   "language": "C#",
   "name": ".net-csharp"
  },
  "polyglot_notebook": {
   "kernelInfo": {
    "defaultKernelName": "csharp",
    "items": [
     {
      "aliases": [
       "c#",
       "C#"
      ],
      "languageName": "C#",
      "name": "csharp"
     },
     {
      "aliases": [],
      "name": ".NET"
     },
     {
      "aliases": [
       "f#",
       "F#"
      ],
      "languageName": "F#",
      "name": "fsharp"
     },
     {
      "aliases": [],
      "languageName": "HTML",
      "name": "html"
     },
     {
      "aliases": [],
      "languageName": "KQL",
      "name": "kql"
     },
     {
      "aliases": [],
      "languageName": "Mermaid",
      "name": "mermaid"
     },
     {
      "aliases": [
       "powershell"
      ],
      "languageName": "PowerShell",
      "name": "pwsh"
     },
     {
      "aliases": [],
      "languageName": "SQL",
      "name": "sql"
     },
     {
      "aliases": [],
      "name": "value"
     },
     {
      "aliases": [
       "frontend"
      ],
      "name": "vscode"
     }
    ]
   }
  }
 },
 "nbformat": 4,
 "nbformat_minor": 2
}
