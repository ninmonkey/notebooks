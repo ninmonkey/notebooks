{
 "cells": [
  {
   "cell_type": "code",
   "execution_count": 1,
   "metadata": {
    "dotnet_interactive": {
     "language": "pwsh"
    },
    "polyglot_notebook": {
     "kernelName": "pwsh"
    }
   },
   "outputs": [
    {
     "name": "stdout",
     "output_type": "stream",
     "text": [
      "1337\r\n"
     ]
    }
   ],
   "source": [
    "# Import-Module # add something?\n",
    "$fakeAD = Get-ChildItem g:\\temp -depth 2\n",
    "$fakeAd.Count"
   ]
  },
  {
   "cell_type": "code",
   "execution_count": 2,
   "metadata": {
    "dotnet_interactive": {
     "language": "pwsh"
    },
    "polyglot_notebook": {
     "kernelName": "pwsh"
    }
   },
   "outputs": [
    {
     "name": "stdout",
     "output_type": "stream",
     "text": [
      "\n",
      "    Directory: G:\\temp\n",
      "\n",
      "\u001b[32;1mMode                 LastWriteTime         Length Name\u001b[0m\n",
      "\u001b[32;1m----                 -------------         ------ ----\u001b[0m\n",
      "d----          11/27/2022 11:23 AM                \u001b[44;1mbash\u001b[0m\n",
      "\n"
     ]
    }
   ],
   "source": [
    "$fakeAD[10] | ft"
   ]
  },
  {
   "cell_type": "code",
   "execution_count": 3,
   "metadata": {
    "dotnet_interactive": {
     "language": "pwsh"
    },
    "polyglot_notebook": {
     "kernelName": "pwsh"
    }
   },
   "outputs": [
    {
     "name": "stdout",
     "output_type": "stream",
     "text": [
      "\n",
      "\u001b[32;1mIsPublic IsSerial Name                                     BaseType\u001b[0m\n",
      "\u001b[32;1m-------- -------- ----                                     --------\u001b[0m\n",
      "True     True     Object[]                                 System.Array\n",
      "True     False    DirectoryInfo                            System.IO.FileSystemInfo\n",
      "\n"
     ]
    }
   ],
   "source": [
    "$oneItem = $fakeAD[10]\n",
    "$fakeAd.GetType()\n",
    "$oneItem.GetType()"
   ]
  }
 ],
 "metadata": {
  "kernelspec": {
   "display_name": ".NET (PowerShell)",
   "language": "PowerShell",
   "name": ".net-pwsh"
  },
  "polyglot_notebook": {
   "kernelInfo": {
    "defaultKernelName": "pwsh",
    "items": [
     {
      "aliases": [
       "powershell"
      ],
      "languageName": "PowerShell",
      "name": "pwsh"
     },
     {
      "aliases": [],
      "languageName": null,
      "name": ".NET"
     },
     {
      "aliases": [
       "frontend"
      ],
      "languageName": null,
      "name": "vscode"
     }
    ]
   }
  }
 },
 "nbformat": 4,
 "nbformat_minor": 2
}
