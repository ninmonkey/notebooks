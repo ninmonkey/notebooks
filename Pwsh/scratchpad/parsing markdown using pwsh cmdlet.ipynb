{
 "cells": [
  {
   "cell_type": "code",
   "execution_count": 13,
   "metadata": {
    "dotnet_interactive": {
     "language": "pwsh"
    },
    "polyglot_notebook": {
     "kernelName": "pwsh"
    }
   },
   "outputs": [],
   "source": [
    "$SourceMD = @'\n",
    "# Changelog\n",
    "## 2023-01-01 - Version 1.13.2\n",
    "* Fix incorrect pluralisation of Get-HaloCustomField.\n",
    "* Changes to pipeline and release process.\n",
    "## 2023-01-01 - Version 1.13.1\n",
    "* Added IncludeTenants Switch to Get-HaloAzureADConnection to fix Contact sync script.\n",
    "## 2022-11-18 - Version 1.13.0\n",
    "* Adds Recover-HaloTicket and -Deleted parameter for Get-HaloTicket.\n",
    "* Fix 429 (API rate limiting) response handling.\n",
    "* Refactor of 429 error handling.\n",
    "* Increase batch wait to 30 seconds.\n",
    "* Adds Remove-HaloItem.\n",
    "## 2022-09-16 - Version 1.11.1\n",
    "* Fix for PostedOnly and NonPostedOnly parameters on Get-HaloInvoice.\n",
    "## 2022-07-02 - Version 1.10.1\n",
    "* Fix incorrect bugfix reversion affecting batch cmdlets.\n",
    "## 2022-07-01 - Version 1.10.0\n",
    "* Internal contract change, Invoke-HaloBatchProcessor now uses BatchInput instead of Input. Bugfixes for batch processing.\n",
    "'@\n",
    "$Doc = ConvertFrom-Markdown -Input ($sourceMD) -verbose\n"
   ]
  },
  {
   "cell_type": "code",
   "execution_count": 19,
   "metadata": {
    "dotnet_interactive": {
     "language": "pwsh"
    },
    "polyglot_notebook": {
     "kernelName": "pwsh"
    }
   },
   "outputs": [
    {
     "name": "stdout",
     "output_type": "stream",
     "text": [
      "\n",
      "\u001b[32;1mHeaderChar                : \u001b[0m#\n",
      "\u001b[32;1mLevel                     : \u001b[0m1\n",
      "\u001b[32;1mIsSetext                  : \u001b[0mFalse\n",
      "\u001b[32;1mHeaderCharCount           : \u001b[0m0\n",
      "\u001b[32;1mSetextNewline             : \u001b[0mNone\n",
      "\u001b[32;1mTriviaAfterAtxHeaderChar  : \u001b[0m\n",
      "\u001b[32;1mInline                    : \u001b[0m{Changelog}\n",
      "\u001b[32;1mProcessInlines            : \u001b[0mTrue\n",
      "\u001b[32;1mParent                    : \u001b[0m{Markdig.Syntax.HeadingBlock, Markdig.Syntax.HeadingBlock, \n",
      "                            Markdig.Syntax.ListItemBlock Markdig.Syntax.ListItemBlock, \n",
      "                            Markdig.Syntax.HeadingBlock…}\n",
      "\u001b[32;1mParser                    : \u001b[0mMarkdig.Parsers.HeadingBlockParser\n",
      "\u001b[32;1mIsOpen                    : \u001b[0mFalse\n",
      "\u001b[32;1mIsBreakable               : \u001b[0mTrue\n",
      "\u001b[32;1mNewLine                   : \u001b[0mCarriageReturnLineFeed\n",
      "\u001b[32;1mRemoveAfterProcessInlines : \u001b[0mFalse\n",
      "\u001b[32;1mTriviaBefore              : \u001b[0m\n",
      "\u001b[32;1mTriviaAfter               : \u001b[0m\n",
      "\u001b[32;1mLinesBefore               : \u001b[0m\n",
      "\u001b[32;1mLinesAfter                : \u001b[0m\n",
      "\u001b[32;1mColumn                    : \u001b[0m0\n",
      "\u001b[32;1mLine                      : \u001b[0m0\n",
      "\u001b[32;1mLines                     : \u001b[0m\n",
      "\u001b[32;1mSpan                      : \u001b[0m0-10\n",
      "\n",
      "\u001b[32;1mHeaderChar                : \u001b[0m#\n",
      "\u001b[32;1mLevel                     : \u001b[0m2\n",
      "\u001b[32;1mIsSetext                  : \u001b[0mFalse\n",
      "\u001b[32;1mHeaderCharCount           : \u001b[0m0\n",
      "\u001b[32;1mSetextNewline             : \u001b[0mNone\n",
      "\u001b[32;1mTriviaAfterAtxHeaderChar  : \u001b[0m\n",
      "\u001b[32;1mInline                    : \u001b[0m{2023-01-01 - Version 1.13.2}\n",
      "\u001b[32;1mProcessInlines            : \u001b[0mTrue\n",
      "\u001b[32;1mParent                    : \u001b[0m{Markdig.Syntax.HeadingBlock, Markdig.Syntax.HeadingBlock, \n",
      "                            Markdig.Syntax.ListItemBlock Markdig.Syntax.ListItemBlock, \n",
      "                            Markdig.Syntax.HeadingBlock…}\n",
      "\u001b[32;1mParser                    : \u001b[0mMarkdig.Parsers.HeadingBlockParser\n",
      "\u001b[32;1mIsOpen                    : \u001b[0mFalse\n",
      "\u001b[32;1mIsBreakable               : \u001b[0mTrue\n",
      "\u001b[32;1mNewLine                   : \u001b[0mCarriageReturnLineFeed\n",
      "\u001b[32;1mRemoveAfterProcessInlines : \u001b[0mFalse\n",
      "\u001b[32;1mTriviaBefore              : \u001b[0m\n",
      "\u001b[32;1mTriviaAfter               : \u001b[0m\n",
      "\u001b[32;1mLinesBefore               : \u001b[0m\n",
      "\u001b[32;1mLinesAfter                : \u001b[0m\n",
      "\u001b[32;1mColumn                    : \u001b[0m0\n",
      "\u001b[32;1mLine                      : \u001b[0m1\n",
      "\u001b[32;1mLines                     : \u001b[0m\n",
      "\u001b[32;1mSpan                      : \u001b[0m13-42\n",
      "\n",
      "\u001b[32;1mColumnWidth               : \u001b[0m2\n",
      "\u001b[32;1mOrder                     : \u001b[0m0\n",
      "\u001b[32;1mSourceBullet              : \u001b[0m\n",
      "\u001b[32;1mLastChild                 : \u001b[0mMarkdig.Syntax.ParagraphBlock\n",
      "\u001b[32;1mCount                     : \u001b[0m1\n",
      "\u001b[32;1mIsReadOnly                : \u001b[0mFalse\n",
      "\u001b[32;1mParent                    : \u001b[0m{Markdig.Syntax.ParagraphBlock, Markdig.Syntax.ParagraphBlock}\n",
      "\u001b[32;1mParser                    : \u001b[0mMarkdig.Parsers.ListBlockParser\n",
      "\u001b[32;1mIsOpen                    : \u001b[0mTrue\n",
      "\u001b[32;1mIsBreakable               : \u001b[0mTrue\n",
      "\u001b[32;1mNewLine                   : \u001b[0mNone\n",
      "\u001b[32;1mRemoveAfterProcessInlines : \u001b[0mFalse\n",
      "\u001b[32;1mTriviaBefore              : \u001b[0m\n",
      "\u001b[32;1mTriviaAfter               : \u001b[0m\n",
      "\u001b[32;1mLinesBefore               : \u001b[0m\n",
      "\u001b[32;1mLinesAfter                : \u001b[0m\n",
      "\u001b[32;1mColumn                    : \u001b[0m0\n",
      "\u001b[32;1mLine                      : \u001b[0m2\n",
      "\u001b[32;1mSpan                      : \u001b[0m45-97\n",
      "\n",
      "\u001b[32;1mColumnWidth               : \u001b[0m2\n",
      "\u001b[32;1mOrder                     : \u001b[0m0\n",
      "\u001b[32;1mSourceBullet              : \u001b[0m\n",
      "\u001b[32;1mLastChild                 : \u001b[0mMarkdig.Syntax.ParagraphBlock\n",
      "\u001b[32;1mCount                     : \u001b[0m1\n",
      "\u001b[32;1mIsReadOnly                : \u001b[0mFalse\n",
      "\u001b[32;1mParent                    : \u001b[0m{Markdig.Syntax.ParagraphBlock, Markdig.Syntax.ParagraphBlock}\n",
      "\u001b[32;1mParser                    : \u001b[0mMarkdig.Parsers.ListBlockParser\n",
      "\u001b[32;1mIsOpen                    : \u001b[0mFalse\n",
      "\u001b[32;1mIsBreakable               : \u001b[0mTrue\n",
      "\u001b[32;1mNewLine                   : \u001b[0mNone\n",
      "\u001b[32;1mRemoveAfterProcessInlines : \u001b[0mFalse\n",
      "\u001b[32;1mTriviaBefore              : \u001b[0m\n",
      "\u001b[32;1mTriviaAfter               : \u001b[0m\n",
      "\u001b[32;1mLinesBefore               : \u001b[0m\n",
      "\u001b[32;1mLinesAfter                : \u001b[0m\n",
      "\u001b[32;1mColumn                    : \u001b[0m0\n",
      "\u001b[32;1mLine                      : \u001b[0m3\n",
      "\u001b[32;1mSpan                      : \u001b[0m100-141\n",
      "\n",
      "\u001b[32;1mHeaderChar                : \u001b[0m#\n",
      "\u001b[32;1mLevel                     : \u001b[0m2\n",
      "\u001b[32;1mIsSetext                  : \u001b[0mFalse\n",
      "\u001b[32;1mHeaderCharCount           : \u001b[0m0\n",
      "\u001b[32;1mSetextNewline             : \u001b[0mNone\n",
      "\u001b[32;1mTriviaAfterAtxHeaderChar  : \u001b[0m\n",
      "\u001b[32;1mInline                    : \u001b[0m{2023-01-01 - Version 1.13.1}\n",
      "\u001b[32;1mProcessInlines            : \u001b[0mTrue\n",
      "\u001b[32;1mParent                    : \u001b[0m{Markdig.Syntax.HeadingBlock, Markdig.Syntax.HeadingBlock, \n",
      "                            Markdig.Syntax.ListItemBlock Markdig.Syntax.ListItemBlock, \n",
      "                            Markdig.Syntax.HeadingBlock…}\n",
      "\u001b[32;1mParser                    : \u001b[0mMarkdig.Parsers.HeadingBlockParser\n",
      "\u001b[32;1mIsOpen                    : \u001b[0mFalse\n",
      "\u001b[32;1mIsBreakable               : \u001b[0mTrue\n",
      "\u001b[32;1mNewLine                   : \u001b[0mCarriageReturnLineFeed\n",
      "\u001b[32;1mRemoveAfterProcessInlines : \u001b[0mFalse\n",
      "\u001b[32;1mTriviaBefore              : \u001b[0m\n",
      "\u001b[32;1mTriviaAfter               : \u001b[0m\n",
      "\u001b[32;1mLinesBefore               : \u001b[0m\n",
      "\u001b[32;1mLinesAfter                : \u001b[0m\n",
      "\u001b[32;1mColumn                    : \u001b[0m0\n",
      "\u001b[32;1mLine                      : \u001b[0m4\n",
      "\u001b[32;1mLines                     : \u001b[0m\n",
      "\u001b[32;1mSpan                      : \u001b[0m144-173\n",
      "\n",
      "\n"
     ]
    }
   ],
   "source": [
    "$doc.Tokens | select -first 4"
   ]
  },
  {
   "cell_type": "code",
   "execution_count": 17,
   "metadata": {
    "dotnet_interactive": {
     "language": "pwsh"
    },
    "polyglot_notebook": {
     "kernelName": "pwsh"
    }
   },
   "outputs": [
    {
     "name": "stdout",
     "output_type": "stream",
     "text": [
      "\n",
      "\u001b[32;1mHtml               : \u001b[0m<h1 id=\"changelog\">Changelog</h1>\n",
      "                     <h2 id=\"version-1.13.2\">2023-01-01 - Version 1.13.2</h2>\n",
      "                     <ul>\n",
      "                     <li>Fix incorrect pluralisation of Get-HaloCustomField.</li>\n",
      "                     <li>Changes to pipeline and release process.</li>\n",
      "                     </ul>\n",
      "                     <h2 id=\"version-1.13.1\">2023-01-01 - Version 1.13.1</h2>\n",
      "                     <ul>\n",
      "                     <li>Added IncludeTenants Switch to Get-HaloAzureADConnection to fix Contact \n",
      "                     sync script.</li>\n",
      "                     </ul>\n",
      "                     <h2 id=\"version-1.13.0\">2022-11-18 - Version 1.13.0</h2>\n",
      "                     <ul>\n",
      "                     <li>Adds Recover-HaloTicket and -Deleted parameter for Get-HaloTicket.</li>\n",
      "                     <li>Fix 429 (API rate limiting) response handling.</li>\n",
      "                     <li>Refactor of 429 error handling.</li>\n",
      "                     <li>Increase batch wait to 30 seconds.</li>\n",
      "                     <li>Adds Remove-HaloItem.</li>\n",
      "                     </ul>\n",
      "                     <h2 id=\"version-1.11.1\">2022-09-16 - Version 1.11.1</h2>\n",
      "                     <ul>\n",
      "                     <li>Fix for PostedOnly and NonPostedOnly parameters on Get-HaloInvoice.</li>\n",
      "                     </ul>\n",
      "                     <h2 id=\"version-1.10.1\">2022-07-02 - Version 1.10.1</h2>\n",
      "                     <ul>\n",
      "                     <li>Fix incorrect bugfix reversion affecting batch cmdlets.</li>\n",
      "                     </ul>\n",
      "                     <h2 id=\"version-1.10.0\">2022-07-01 - Version 1.10.0</h2>\n",
      "                     <ul>\n",
      "                     <li>Internal contract change, Invoke-HaloBatchProcessor now uses BatchInput \n",
      "                     instead of Input. Bugfixes for batch processing.</li>\n",
      "                     </ul>\n",
      "                     \n",
      "\u001b[32;1mVT100EncodedString : \u001b[0m\n",
      "\u001b[32;1mTokens             : \u001b[0m{Markdig.Syntax.HeadingBlock, Markdig.Syntax.HeadingBlock, \n",
      "                     Markdig.Syntax.ListItemBlock Markdig.Syntax.ListItemBlock, \n",
      "                     Markdig.Syntax.HeadingBlock…}\n",
      "\n",
      "\n",
      "\n",
      "\u001b[32;1mHtml\u001b[0m\n",
      "\u001b[32;1m----                                                                                               \u001b[0m\n",
      "<h1 id=\"changelog\">Changelog</h1>…                                                                 \n",
      "\n"
     ]
    }
   ],
   "source": [
    "$doc | fl * -Force\n",
    "$doc"
   ]
  }
 ],
 "metadata": {
  "kernelspec": {
   "display_name": ".NET (PowerShell)",
   "language": "PowerShell",
   "name": ".net-pwsh"
  },
  "polyglot_notebook": {
   "kernelInfo": {
    "defaultKernelName": "pwsh",
    "items": [
     {
      "aliases": [
       "powershell"
      ],
      "languageName": "PowerShell",
      "name": "pwsh"
     },
     {
      "aliases": [],
      "name": ".NET"
     },
     {
      "aliases": [
       "frontend"
      ],
      "name": "vscode"
     },
     {
      "aliases": [],
      "languageName": "KQL",
      "name": "kql"
     },
     {
      "aliases": [
       "c#",
       "C#"
      ],
      "languageName": "C#",
      "name": "csharp"
     },
     {
      "aliases": [
       "f#",
       "F#"
      ],
      "languageName": "F#",
      "name": "fsharp"
     },
     {
      "aliases": [],
      "languageName": "HTML",
      "name": "html"
     },
     {
      "aliases": [],
      "languageName": "Mermaid",
      "name": "mermaid"
     },
     {
      "aliases": [],
      "languageName": "SQL",
      "name": "sql"
     },
     {
      "aliases": [],
      "name": "value"
     }
    ]
   }
  }
 },
 "nbformat": 4,
 "nbformat_minor": 2
}
