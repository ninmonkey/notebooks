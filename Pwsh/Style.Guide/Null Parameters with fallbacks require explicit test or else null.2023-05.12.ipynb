{
 "cells": [
  {
   "cell_type": "code",
   "execution_count": 1,
   "metadata": {
    "dotnet_interactive": {
     "language": "pwsh"
    },
    "polyglot_notebook": {
     "kernelName": "pwsh"
    }
   },
   "outputs": [
    {
     "name": "stdout",
     "output_type": "stream",
     "text": [
      "Modules: pansies => 2.6.0\n",
      "Pwsh: 7.3.0\n",
      "\n",
      "\u001b[32;1mCommandType Name     Version Source\u001b[0m\n",
      "\u001b[32;1m----------- ----     ------- ------\u001b[0m\n",
      "Function    Out.Host         \n",
      "Function    Out.Hr           \n",
      "\n"
     ]
    }
   ],
   "source": [
    "$reqImport = @{ 'errorAction' = 'stop' ; PassThru = $true }\n",
    "@(\n",
    "    Import-Module @reqImport Pansies\n",
    "    # Import-Module @reqImport ExcelAnt\n",
    ") | Join-String -p { $_.Name, $_.Version -join ' => ' } -op 'Modules: '\n",
    "$PSVersionTable.PSVersion | Join-String -op 'Pwsh: '\n",
    "\n",
    "function Out.Host {\n",
    "    # short syntax as sugar when using tiny demos, like notebooks\n",
    "    [CmdletBinding()]\n",
    "    param(\n",
    "        # Text \n",
    "        [Parameter(Mandatory, ValueFromPipeline)]\n",
    "        $InputObject,\n",
    "\n",
    "        [ArgumentCompletions(\n",
    "            'Orange', 'Blue', 'Red', 'Green', 'Yellow',\n",
    "            'Gray15', 'Gray30', 'Gray50', 'Gray60', 'Gray80')]\n",
    "        [Parameter(\n",
    "            Mandatory,\n",
    "             Position = 0)]\n",
    "        [string]$Fg = \"${fg:gray80}\", # #c97b52\n",
    "\n",
    "        [ArgumentCompletions(\n",
    "            'Orange', 'Blue', 'Red', 'Green', 'Yellow',\n",
    "            'Gray15', 'Gray30', 'Gray50', 'Gray60', 'Gray80')]\n",
    "        [Parameter(\n",
    "            # Mandatory,\n",
    "             Position = 1)]\n",
    "        # [string]$Bg = \"${bg:25727b}\", # #c97b52 #2572cb #25727b\n",
    "        [string]$Bg, # #c97b52 #2572cb #25727b\n",
    "\n",
    "        [hashtable]$Options = @{}\n",
    "        # ,\n",
    "\n",
    "        # [Parameter]\n",
    "        # $InputObject\n",
    "    )\n",
    "}\n",
    "\n",
    "function Out.Hr { \n",
    "    param( [switch]$Center )\n",
    "    if($center) { \n",
    "        $w = $Host.UI.RawUI.WindowSize.Width - 8\n",
    "        '_' * $w -join '' | Join-String -op (' '* (8/2) -join '' )\n",
    "        return\n",
    "    }\n",
    "    $w = $Host.UI.RawUI.WindowSize.Width\n",
    "    '_' * $w -join ''\n",
    "}\n",
    "\n",
    "function Out.Help {\n",
    "    gcm -ea 'ignore' 'Out.Host', 'Out.Hr' | ft -auto\n",
    "    \n",
    "    # 'Out.Host', 'Out.Hr' | %{ \n",
    "    #     gcm $_ -syntax | Join-String (Out.Hr) }\n",
    "\n",
    "}\n",
    "\n",
    "Out.Help"
   ]
  },
  {
   "cell_type": "code",
   "execution_count": null,
   "metadata": {
    "dotnet_interactive": {
     "language": "pwsh"
    },
    "polyglot_notebook": {
     "kernelName": "pwsh"
    }
   },
   "outputs": [],
   "source": []
  },
  {
   "attachments": {},
   "cell_type": "markdown",
   "metadata": {},
   "source": [
    "<#\n",
    "function Out.Host-v1 {\n",
    "    # Sugar. not good a best practice, but sometimes you need to out before streams would\n",
    "    [CmdletBinding()]\n",
    "    param(          \n",
    "\n",
    "            [Parameter(Mandatory, ValueFromPipeline)]\n",
    "            $InputObject ,\n",
    "\n",
    "        [ArgumentCompletions(\n",
    "            'Orange', 'Blue', 'Red', 'Green', 'Yellow',\n",
    "            'Gray15', 'Gray30', 'Gray50', 'Gray60', 'Gray80')]\n",
    "        [Parameter(\n",
    "            Mandatory,\n",
    "             Position = 0)]\n",
    "        [string]$Fg = \"${fg:gray80}\", # #c97b52\n",
    "\n",
    "        [ArgumentCompletions(\n",
    "            'Orange', 'Blue', 'Red', 'Green', 'Yellow',\n",
    "            'Gray15', 'Gray30', 'Gray50', 'Gray60', 'Gray80')]\n",
    "        [Parameter(\n",
    "            # Mandatory,\n",
    "             Position = 1)]\n",
    "        # [string]$Bg = \"${bg:25727b}\", # #c97b52 #2572cb #25727b\n",
    "        [string]$Bg, # #c97b52 #2572cb #25727b\n",
    "\n",
    "        [hashtable]$Options = @{}\n",
    "        # ,\n",
    "\n",
    "        # [Parameter]\n",
    "        # $InputObject\n",
    "    )\n",
    "    process { \n",
    "        # when pipeline output would otherwise not output before error\n",
    "        # $bg ??= \"${fg:25727b}\"\n",
    "        # $PSBoundParameters\n",
    "        if(-not $Bg) {\n",
    "            $bg = 'blue'\n",
    "        }\n",
    "        # $bg = \"${fg:25727b}\"\n",
    "        $input | New-Text -fg $Fg -bg $Bg | Join-String -os $PSStyle.Reset| Out-Host\n",
    "    }\n",
    "}\n",
    "\n",
    "'adsfds' | Out.Host -fg gray80 -bg 25727b\n",
    "'adsfds' | Out.Host -fg gray80\n",
    "\n",
    "#>"
   ]
  }
 ],
 "metadata": {
  "kernelspec": {
   "display_name": ".NET (PowerShell)",
   "language": "PowerShell",
   "name": ".net-pwsh"
  },
  "language_info": {
   "name": "polyglot-notebook"
  },
  "polyglot_notebook": {
   "kernelInfo": {
    "defaultKernelName": "pwsh",
    "items": [
     {
      "aliases": [],
      "languageName": "pwsh",
      "name": "pwsh"
     }
    ]
   }
  }
 },
 "nbformat": 4,
 "nbformat_minor": 2
}
