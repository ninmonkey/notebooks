{
 "cells": [
  {
   "cell_type": "markdown",
   "metadata": {},
   "source": [
    "#### See also:\n",
    "\n",
    "- [gist/IISResetMe/Write-HostIndented.ps1](https://gist.github.com/IISResetMe/453600a45a8e341dd4ce31857a3cd659)\n",
    "- [ninmonkey/Format-ShortStr.ps1](https://github.com/ninmonkey/Ninmonkey.Console/blob/770decdb924f944b9a2ed3865302800a48b353c7/beforeAll_autoloader/Format-ShortStr.ps1)\n",
    "- docs [Composite Format Strings](https://docs.microsoft.com/en-us/dotnet/standard/base-types/composite-formatting)\n",
    "- (next time: Using formatstrings with Join-String sugar)\n",
    "\n",
    "#### About\n",
    "\n",
    "Format strings use the following syntax\n",
    "\n",
    "```ps1\n",
    "{index[,alignment][:formatString]}\n",
    "```\n",
    "\n",
    "- `'{0}'` means the first item in the array\n",
    "- `'{0,-10}'` means the first item, left alignment of 10\n",
    "- `'{0,10}'` means the first item, right alignment of 10\n",
    "\n",
    "Alignment means a minimum of that width, it does not block longer values.\n",
    "\n",
    "DoubleQuotes are used to show the whitespace"
   ]
  },
  {
   "cell_type": "code",
   "execution_count": null,
   "metadata": {
    "dotnet_interactive": {
     "language": "pwsh"
    },
    "vscode": {
     "languageId": "dotnet-interactive.pwsh"
    }
   },
   "outputs": [
    {
     "name": "stdout",
     "output_type": "stream",
     "text": [
      "\"item: 0   \"\r\n",
      "\"item: 234 \"\r\n",
      "\"item: 11  \"\r\n",
      "\"item: 1324\"\r\n",
      "\n",
      "--=============--\n",
      "\r\n",
      "\"item:    0\"\r\n",
      "\"item:  234\"\r\n",
      "\"item:   11\"\r\n",
      "\"item: 1324\"\r\n"
     ]
    }
   ],
   "source": [
    "$Nums = 0, 234,11,1324\n",
    "function hr { \"`n--=============--`n\" }\n",
    "function dq {\n",
    "    # sugar for below\n",
    "    $Input | Join-String -DoubleQuote\n",
    "}\n",
    "\n",
    "\n",
    "foreach($item in $nums) {\n",
    "    'item: {0,-4}' -f @( $item ) | Dq\n",
    "    # | Dq\n",
    "}\n",
    "\n",
    "hr\n",
    "\n",
    "foreach($item in $nums) {\n",
    "    'item: {0,4}' -f @( $item ) | Dq\n",
    "}\n"
   ]
  },
  {
   "cell_type": "code",
   "execution_count": null,
   "metadata": {
    "dotnet_interactive": {
     "language": "pwsh"
    },
    "vscode": {
     "languageId": "dotnet-interactive.pwsh"
    }
   },
   "outputs": [
    {
     "name": "stdout",
     "output_type": "stream",
     "text": [
      "\n",
      "--=============--\n",
      "\r\n",
      "\"item:        0\"\r\n",
      "\"item:      234\"\r\n",
      "\"item:       11\"\r\n",
      "\"item:     1324\"\r\n"
     ]
    }
   ],
   "source": [
    "hr\n",
    "foreach($item in $nums) {\n",
    "    'item: {0,8}' -f @( $item ) | Dq\n",
    "}"
   ]
  },
  {
   "cell_type": "code",
   "execution_count": null,
   "metadata": {
    "dotnet_interactive": {
     "language": "pwsh"
    },
    "vscode": {
     "languageId": "dotnet-interactive.pwsh"
    }
   },
   "outputs": [
    {
     "name": "stdout",
     "output_type": "stream",
     "text": [
      "1f\r\n",
      "1F\r\n",
      "0x1f\r\n"
     ]
    }
   ],
   "source": [
    "$number = 0x1f\n",
    "'{0:x}' -f $number\n",
    "'{0:X}' -f $number\n",
    "'0x{0:x}' -f $number\n",
    "\n",
    "\n",
    "\n"
   ]
  },
  {
   "cell_type": "code",
   "execution_count": null,
   "metadata": {
    "dotnet_interactive": {
     "language": "pwsh"
    },
    "vscode": {
     "languageId": "dotnet-interactive.pwsh"
    }
   },
   "outputs": [
    {
     "name": "stdout",
     "output_type": "stream",
     "text": [
      "\"0x        1f\"\r\n",
      "\n",
      "--=============--\n",
      "\r\n",
      "\"        1f\"\r\n",
      "\n",
      "--=============--\n",
      "\r\n",
      "\"        1f\"\r\n",
      "\n",
      "--=============--\n",
      "\r\n"
     ]
    }
   ],
   "source": [
    "# alignment inside can make prefixes harder to use\n",
    "'0x{0,10:x}' -f $number | dq\n",
    "hr\n",
    "# in that case\n",
    "$innerText = '{0,10:x}' -f $number\n",
    "$innerText | dq\n",
    "hr\n",
    "$innerText.PadLeft(10) | dq\n",
    "hr\n"
   ]
  },
  {
   "cell_type": "code",
   "execution_count": null,
   "metadata": {
    "dotnet_interactive": {
     "language": "pwsh"
    },
    "vscode": {
     "languageId": "dotnet-interactive.pwsh"
    }
   },
   "outputs": [
    {
     "name": "stdout",
     "output_type": "stream",
     "text": [
      "\r\n",
      "Now, prefix of \"0x\" is attached to the number,\r\n",
      "with any alignment, left or right\r\n",
      "\r\n",
      "\n",
      "--=============--\n",
      "\r\n",
      "\"0x1f\"\r\n",
      "\"0x1f      \"\r\n",
      "\"      0x1f\"\r\n",
      "\n",
      "--=============--\n",
      "\r\n",
      "\r\n",
      "You can set 0padding (or any char)\r\n",
      "\r\n",
      "\"000000001f\"\r\n",
      "\"________1f\"\r\n"
     ]
    }
   ],
   "source": [
    "'\n",
    "Now, prefix of \"0x\" is attached to the number,\n",
    "with any alignment, left or right\n",
    "'\n",
    "hr\n",
    "$InnerText = '{0:x}' -f $Number\n",
    "$innerWithPrefix = '0x' + $innerText\n",
    "$innerWithPrefix | dq\n",
    "$innerWithPrefix.PadRight(10) | dq\n",
    "$innerWithPrefix.PadLeft(10) | dq\n",
    "hr\n",
    "'\n",
    "You can set 0padding (or any char)\n",
    "'\n",
    "$InnerText.PadLeft(10, '0') | dq\n",
    "$InnerText.PadLeft(10, '_') | dq"
   ]
  },
  {
   "cell_type": "markdown",
   "metadata": {},
   "source": []
  }
 ],
 "metadata": {
  "kernelspec": {
   "display_name": ".NET (PowerShell)",
   "language": "PowerShell",
   "name": ".net-pwsh"
  },
  "language_info": {
   "name": "PowerShell"
  }
 },
 "nbformat": 4,
 "nbformat_minor": 2
}
