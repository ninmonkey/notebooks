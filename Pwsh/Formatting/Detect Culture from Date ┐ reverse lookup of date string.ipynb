{
 "cells": [
  {
   "cell_type": "code",
   "execution_count": null,
   "metadata": {
    "dotnet_interactive": {
     "language": "pwsh"
    },
    "vscode": {
     "languageId": "dotnet-interactive.pwsh"
    }
   },
   "outputs": [],
   "source": [
    "$TargetString = '13.9.2022'"
   ]
  },
  {
   "cell_type": "code",
   "execution_count": null,
   "metadata": {
    "dotnet_interactive": {
     "language": "pwsh"
    },
    "vscode": {
     "languageId": "dotnet-interactive.pwsh"
    }
   },
   "outputs": [],
   "source": [
    "$cultList = Get-Culture -ListAvailable\n",
    "$results = $cultList | ForEach-Object {\n",
    "    $cult = $_\n",
    "    [pscustomobject]@{\n",
    "\n",
    "        Cult       = $cult\n",
    "        CultName   = $cult.ToString()\n",
    "        DateFormat = $now.toString('d', $cult)\n",
    "    }\n",
    "}\n",
    "\n",
    "$results | select -first 10"
   ]
  },
  {
   "cell_type": "markdown",
   "metadata": {},
   "source": [
    "## Reverse-Lookup Cultures based on known dates\n",
    "\n",
    "The original `13.9.2022` looked like de? I can't remember if they use periods.\n",
    "\n",
    "It's the [ShortDateString `d`](https://docs.microsoft.com/en-us/dotnet/standard/base-types/standard-date-and-time-format-strings#table-of-format-specifiers). \n",
    "\n",
    "Let's do a reverse-lookup by brute-force. Enumerate all cultures, render `d`, and see if it matches\n"
   ]
  }
 ],
 "metadata": {
  "kernelspec": {
   "display_name": ".NET (PowerShell)",
   "language": "PowerShell",
   "name": ".net-pwsh"
  },
  "language_info": {
   "name": "PowerShell"
  }
 },
 "nbformat": 4,
 "nbformat_minor": 2
}
