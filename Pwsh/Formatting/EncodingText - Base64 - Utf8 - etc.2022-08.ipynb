{
 "cells": [
  {
   "cell_type": "code",
   "execution_count": null,
   "metadata": {
    "dotnet_interactive": {
     "language": "pwsh"
    },
    "vscode": {
     "languageId": "dotnet-interactive.pwsh"
    }
   },
   "outputs": [
    {
     "name": "stdout",
     "output_type": "stream",
     "text": [
      "Bytes: 0x68, 0x69, 0x20, 0xf0, 0x9f, 0x98, 0xb8, 0x77, 0x6f, 0x72, 0x6c, 0x64, 0xf0, 0x9f, 0x90, 0x92, 0x2c, 0x20, 0x21\r\n",
      "hi 😸world🐒, !\r\n",
      "\n",
      "-----\n",
      "\r\n",
      "Bytes: 68 69 20 f0 9f 98 b8 77 6f 72 6c 64 f0 9f 90 92 2c 20 21\r\n",
      "hi 😸world🐒, !\r\n"
     ]
    }
   ],
   "source": [
    "function hr { \"`n-----`n\" }\n",
    "\n",
    "$bstr = [Text.Encoding]::UTF8.GetBytes('hi 😸world🐒, !')\n",
    "$splatBytes = @{\n",
    "    Separator = ', '\n",
    "    FormatString = '0x{0:x}'\n",
    "    OutputPrefix = 'Bytes: '\n",
    "}\n",
    "\n",
    "$bstr | Join-String @splatBytes\n",
    "[Text.Encoding]::utf8.GetString( $bstr ) \n",
    "\n",
    "\n",
    "hr \n",
    "\n",
    "$splatBytes = @{\n",
    "    Separator = ' '\n",
    "    FormatString = '{0:x}'\n",
    "    OutputPrefix = 'Bytes: '\n",
    "}\n",
    "\n",
    "$bstr | Join-String @splatBytes\n",
    "[Text.Encoding]::utf8.GetString( $bstr ) \n",
    "\n"
   ]
  },
  {
   "cell_type": "code",
   "execution_count": null,
   "metadata": {
    "dotnet_interactive": {
     "language": "pwsh"
    },
    "vscode": {
     "languageId": "dotnet-interactive.pwsh"
    }
   },
   "outputs": [
    {
     "name": "stdout",
     "output_type": "stream",
     "text": [
      "\n",
      "-----\n",
      "\r\n",
      "Bytes: 68 69 20 f0 9f 98 b8 77 6f 72 6c 64 f0 9f 90 92 2c 20 21\r\n",
      "aGkg8J+YuHdvcmxk8J+QkiwgIQ==\r\n"
     ]
    }
   ],
   "source": [
    "hr \n",
    "$bstr | Join-String @splatBytes\n",
    "$b64Str = [Convert]::ToBase64String( $bstr )\n",
    "$b64Str"
   ]
  },
  {
   "cell_type": "code",
   "execution_count": null,
   "metadata": {
    "dotnet_interactive": {
     "language": "pwsh"
    },
    "vscode": {
     "languageId": "dotnet-interactive.pwsh"
    }
   },
   "outputs": [],
   "source": []
  },
  {
   "cell_type": "code",
   "execution_count": null,
   "metadata": {
    "dotnet_interactive": {
     "language": "pwsh"
    },
    "vscode": {
     "languageId": "dotnet-interactive.pwsh"
    }
   },
   "outputs": [
    {
     "name": "stdout",
     "output_type": "stream",
     "text": [
      "hi 😸world🐒, !\r\n"
     ]
    }
   ],
   "source": [
    "# round trip\n",
    "[Text.Encoding]::utf8.GetString(\n",
    "    [Convert]::FromBase64String( $b64Str )\n",
    ")"
   ]
  },
  {
   "cell_type": "code",
   "execution_count": null,
   "metadata": {
    "dotnet_interactive": {
     "language": "pwsh"
    },
    "vscode": {
     "languageId": "dotnet-interactive.pwsh"
    }
   },
   "outputs": [
    {
     "name": "stdout",
     "output_type": "stream",
     "text": [
      "104      105      32       128568   119      111      114      108      100      128018   44       32       33      \r\n",
      "\n",
      "-----\n",
      "\r\n",
      "68       69       20       1f638    77       6f       72       6c       64       1f412    2c       20       21      \r\n"
     ]
    }
   ],
   "source": [
    "# dec\n",
    "'hi 😸world🐒, !'.EnumerateRunes().Value | join-String -sep ' ' -format '{0,-8}'\n",
    "hr\n",
    "# hexc\n",
    "'hi 😸world🐒, !'.EnumerateRunes().Value | join-String -sep ' ' -format '{0,-8:x}'\n",
    "\n"
   ]
  },
  {
   "cell_type": "code",
   "execution_count": null,
   "metadata": {
    "dotnet_interactive": {
     "language": "pwsh"
    },
    "vscode": {
     "languageId": "dotnet-interactive.pwsh"
    }
   },
   "outputs": [
    {
     "name": "stdout",
     "output_type": "stream",
     "text": [
      "\n",
      "-----\n",
      "\r\n",
      "68     69     20     1f638  77     6f     72     6c     64     1f412  2c     20     21     68     69     20     1f638  77     6f     72     6c     64     1f412  2c     20     21     68     69     20     1f638  77     6f     72     6c     64     1f412  2c     20     21     68     69     20     1f638  77     6f     72     6c     64     1f412  2c     20     21     68     69     20     1f638  77     6f     72     6c     64     1f412  2c     20     21     68     69     20     1f638  77     6f     72     6c     64     1f412  2c     20     21     68     69     20     1f638  77     6f     72     6c     64     1f412  2c     20     21     68     69     20     1f638  77     6f     72     6c     64    \r\n"
     ]
    }
   ],
   "source": [
    "hr\n",
    "('hi 😸world🐒, !' * 20 ).EnumerateRunes().Value | select -first 100 | join-String -sep ' ' -format '{0,-6:x}'\n"
   ]
  },
  {
   "cell_type": "code",
   "execution_count": null,
   "metadata": {
    "dotnet_interactive": {
     "language": "pwsh"
    },
    "vscode": {
     "languageId": "dotnet-interactive.pwsh"
    }
   },
   "outputs": [
    {
     "name": "stdout",
     "output_type": "stream",
     "text": [
      "\n",
      "-----\n",
      "\r\n",
      "104    105    32     128,568 119    111    114    108    100    128,018 44     32     33     104    105    32     128,568 119    111    114    108    100    128,018 44     32     33     104    105    32     128,568 119    111    114    108    100    128,018 44     32     33     104    105    32     128,568 119    111    114    108    100    128,018 44     32     33     104    105    32     128,568 119    111    114    108    100    128,018 44     32     33     104    105    32     128,568 119    111    114    108    100    128,018 44     32     33     104    105    32     128,568 119    111    114    108    100    128,018 44     32     33     104    105    32     128,568 119    111    114    108    100   \r\n",
      "\n",
      "-----\n",
      "\r\n",
      "104    105    32     128568 119    111    114    108    100    128018 44     32     33     104    105    32     128568 119    111    114    108    100    128018 44     32     33     104    105    32     128568 119    111    114    108    100    128018 44     32     33     104    105    32     128568 119    111    114    108    100    128018 44     32     33     104    105    32     128568 119    111    114    108    100    128018 44     32     33     104    105    32     128568 119    111    114    108    100    128018 44     32     33     104    105    32     128568 119    111    114    108    100    128018 44     32     33     104    105    32     128568 119    111    114    108    100   \r\n"
     ]
    }
   ],
   "source": [
    "hr\n",
    "('hi 😸world🐒, !' * 20 ).EnumerateRunes().Value | select -first 100 | join-String -sep ' ' -format '{0,-6:n0}'\n",
    "hr\n",
    "('hi 😸world🐒, !' * 20 ).EnumerateRunes().Value | select -first 100 | join-String -sep ' ' -format '{0,-6:0}'\n",
    "\n"
   ]
  },
  {
   "cell_type": "code",
   "execution_count": null,
   "metadata": {
    "dotnet_interactive": {
     "language": "pwsh"
    },
    "vscode": {
     "languageId": "dotnet-interactive.pwsh"
    }
   },
   "outputs": [
    {
     "name": "stdout",
     "output_type": "stream",
     "text": [
      "37\r\n",
      "\r\n",
      "    Directory: C:\\\r\n",
      "\r\n",
      "\u001b[32;1mMode                 LastWriteTime         Length Name\u001b[0m\r\n",
      "\u001b[32;1m----                 -------------         ------ ----\u001b[0m\r\n",
      "d----           7/19/2020  5:29 PM                apps\r\n",
      "d----          12/12/2021 12:17 PM                autocomplete\r\n",
      "d----           5/13/2022  2:22 PM                bin_nin\r\n",
      "d----          10/12/2016  3:47 PM                found.002\r\n",
      "d----           8/14/2021  1:28 AM                Games\r\n",
      "d----          10/26/2019 11:46 AM                github\r\n",
      "d----           8/11/2022  4:40 PM                Intel\r\n",
      "d----            3/2/2022  9:37 AM                jake_uri\r\n",
      "d----            7/2/2016  6:22 PM                Logs\r\n",
      "d----           9/12/2020  5:04 PM                Microsoft\r\n",
      "\r\n"
     ]
    }
   ],
   "source": [
    "$files = ls c:\\\n",
    "$files.Count\n",
    "$files | select -first 10 | ft"
   ]
  },
  {
   "cell_type": "code",
   "execution_count": null,
   "metadata": {
    "dotnet_interactive": {
     "language": "pwsh"
    },
    "vscode": {
     "languageId": "dotnet-interactive.pwsh"
    }
   },
   "outputs": [
    {
     "name": "stdout",
     "output_type": "stream",
     "text": [
      "0\r\n",
      "1\r\n",
      "2\r\n",
      "3\r\n",
      "4\r\n",
      "5\r\n",
      "6\r\n",
      "7\r\n",
      "8\r\n",
      "9\r\n",
      "10\r\n"
     ]
    }
   ],
   "source": [
    "0..10"
   ]
  },
  {
   "cell_type": "code",
   "execution_count": null,
   "metadata": {
    "dotnet_interactive": {
     "language": "pwsh"
    },
    "vscode": {
     "languageId": "dotnet-interactive.pwsh"
    }
   },
   "outputs": [
    {
     "name": "stdout",
     "output_type": "stream",
     "text": [
      "0\r\n",
      "2\r\n",
      "4\r\n",
      "6\r\n",
      "8\r\n",
      "10\r\n",
      "12\r\n",
      "14\r\n",
      "16\r\n",
      "18\r\n",
      "20\r\n"
     ]
    }
   ],
   "source": [
    "0..10 | foreach-object { \n",
    "    $_ * 2\n",
    "}"
   ]
  }
 ],
 "metadata": {
  "kernelspec": {
   "display_name": ".NET (PowerShell)",
   "language": "PowerShell",
   "name": ".net-pwsh"
  },
  "language_info": {
   "name": "PowerShell"
  }
 },
 "nbformat": 4,
 "nbformat_minor": 2
}
