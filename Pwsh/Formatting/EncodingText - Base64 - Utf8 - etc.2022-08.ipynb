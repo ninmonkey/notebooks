{
 "cells": [
  {
   "cell_type": "code",
   "execution_count": null,
   "metadata": {
    "dotnet_interactive": {
     "language": "pwsh"
    },
    "vscode": {
     "languageId": "dotnet-interactive.pwsh"
    }
   },
   "outputs": [
    {
     "name": "stdout",
     "output_type": "stream",
     "text": [
      "Bytes: 0x68, 0x69, 0x20, 0xf0, 0x9f, 0x98, 0xb8, 0x77, 0x6f, 0x72, 0x6c, 0x64, 0xf0, 0x9f, 0x90, 0x92, 0x2c, 0x20, 0x21\r\n",
      "hi 😸world🐒, !\r\n",
      "\n",
      "-----\n",
      "\r\n",
      "Bytes: 68 69 20 f0 9f 98 b8 77 6f 72 6c 64 f0 9f 90 92 2c 20 21\r\n",
      "hi 😸world🐒, !\r\n"
     ]
    }
   ],
   "source": [
    "function hr { \"`n-----`n\" }\n",
    "\n",
    "$bstr = [Text.Encoding]::UTF8.GetBytes('hi 😸world🐒, !')\n",
    "$splatBytes = @{\n",
    "    Separator = ', '\n",
    "    FormatString = '0x{0:x}'\n",
    "    OutputPrefix = 'Bytes: '\n",
    "}\n",
    "\n",
    "$bstr | Join-String @splatBytes\n",
    "[Text.Encoding]::utf8.GetString( $bstr ) \n",
    "\n",
    "\n",
    "hr \n",
    "\n",
    "$splatBytes = @{\n",
    "    Separator = ' '\n",
    "    FormatString = '{0:x}'\n",
    "    OutputPrefix = 'Bytes: '\n",
    "}\n",
    "\n",
    "$bstr | Join-String @splatBytes\n",
    "[Text.Encoding]::utf8.GetString( $bstr ) \n",
    "\n"
   ]
  },
  {
   "cell_type": "code",
   "execution_count": null,
   "metadata": {
    "dotnet_interactive": {
     "language": "pwsh"
    },
    "vscode": {
     "languageId": "dotnet-interactive.pwsh"
    }
   },
   "outputs": [
    {
     "name": "stdout",
     "output_type": "stream",
     "text": [
      "\n",
      "-----\n",
      "\r\n",
      "Bytes: 68 69 20 f0 9f 98 b8 77 6f 72 6c 64 f0 9f 90 92 2c 20 21\r\n",
      "aGkg8J+YuHdvcmxk8J+QkiwgIQ==\r\n"
     ]
    }
   ],
   "source": [
    "hr \n",
    "$bstr | Join-String @splatBytes\n",
    "$b64Str = [Convert]::ToBase64String( $bstr )\n",
    "$b64Str"
   ]
  },
  {
   "cell_type": "code",
   "execution_count": null,
   "metadata": {
    "dotnet_interactive": {
     "language": "pwsh"
    },
    "vscode": {
     "languageId": "dotnet-interactive.pwsh"
    }
   },
   "outputs": [
    {
     "name": "stdout",
     "output_type": "stream",
     "text": [
      "hi 😸world🐒, !\r\n"
     ]
    }
   ],
   "source": [
    "# round trip\n",
    "[Text.Encoding]::utf8.GetString(\n",
    "    [Convert]::FromBase64String( $b64Str )\n",
    ")"
   ]
  },
  {
   "cell_type": "code",
   "execution_count": null,
   "metadata": {
    "dotnet_interactive": {
     "language": "pwsh"
    },
    "vscode": {
     "languageId": "dotnet-interactive.pwsh"
    }
   },
   "outputs": [
    {
     "name": "stdout",
     "output_type": "stream",
     "text": [
      "104      105      32       128568   119      111      114      108      100      128018   44       32       33      \r\n",
      "\n",
      "-----\n",
      "\r\n",
      "68       69       20       1f638    77       6f       72       6c       64       1f412    2c       20       21      \r\n"
     ]
    }
   ],
   "source": [
    "# dec\n",
    "'hi 😸world🐒, !'.EnumerateRunes().Value | join-String -sep ' ' -format '{0,-8}'\n",
    "hr\n",
    "# hexc\n",
    "'hi 😸world🐒, !'.EnumerateRunes().Value | join-String -sep ' ' -format '{0,-8:x}'\n",
    "\n"
   ]
  },
  {
   "cell_type": "code",
   "execution_count": null,
   "metadata": {
    "dotnet_interactive": {
     "language": "pwsh"
    },
    "vscode": {
     "languageId": "dotnet-interactive.pwsh"
    }
   },
   "outputs": [
    {
     "name": "stdout",
     "output_type": "stream",
     "text": [
      "\n",
      "-----\n",
      "\r\n",
      "104    105    32     128,568 119    111    114    108    100    128,018 44     32     33     104    105    32     128,568 119    111    114    108    100    128,018 44     32     33     104    105    32     128,568 119    111    114    108    100    128,018 44     32     33     104    105    32     128,568 119    111    114    108    100    128,018 44     32     33     104    105    32     128,568 119    111    114    108    100    128,018 44     32     33     104    105    32     128,568 119    111    114    108    100    128,018 44     32     33     104    105    32     128,568 119    111    114    108    100    128,018 44     32     33     104    105    32     128,568 119    111    114    108    100   \r\n",
      "\n",
      "-----\n",
      "\r\n",
      "104    105    32     128568 119    111    114    108    100    128018 44     32     33     104    105    32     128568 119    111    114    108    100    128018 44     32     33     104    105    32     128568 119    111    114    108    100    128018 44     32     33     104    105    32     128568 119    111    114    108    100    128018 44     32     33     104    105    32     128568 119    111    114    108    100    128018 44     32     33     104    105    32     128568 119    111    114    108    100    128018 44     32     33     104    105    32     128568 119    111    114    108    100    128018 44     32     33     104    105    32     128568 119    111    114    108    100   \r\n",
      "68     69     20     1f638  77     6f     72     6c     64     1f412  2c     20     21     68     69     20     1f638  77     6f     72     6c     64     1f412  2c     20     21     68     69     20     1f638  77     6f     72     6c     64     1f412  2c     20     21     68     69     20     1f638  77     6f     72     6c     64     1f412  2c     20     21     68     69     20     1f638  77     6f     72     6c     64     1f412  2c     20     21     68     69     20     1f638  77     6f     72     6c     64     1f412  2c     20     21     68     69     20     1f638  77     6f     72     6c     64     1f412  2c     20     21     68     69     20     1f638  77     6f     72     6c     64    \r\n"
     ]
    }
   ],
   "source": [
    "hr\n",
    "('hi 😸world🐒, !' * 20 ).EnumerateRunes().Value | select -first 100 | join-String -sep ' ' -format '{0,-6:x}'\n"
   ]
  },
  {
   "cell_type": "code",
   "execution_count": null,
   "metadata": {
    "dotnet_interactive": {
     "language": "pwsh"
    },
    "vscode": {
     "languageId": "dotnet-interactive.pwsh"
    }
   },
   "outputs": [],
   "source": [
    "hr\n",
    "('hi 😸world🐒, !' * 20 ).EnumerateRunes().Value | select -first 100 | join-String -sep ' ' -format '{0,-6:n0}'\n",
    "hr\n",
    "('hi 😸world🐒, !' * 20 ).EnumerateRunes().Value | select -first 100 | join-String -sep ' ' -format '{0,-6:0}'\n",
    "\n"
   ]
  }
 ],
 "metadata": {
  "kernelspec": {
   "display_name": ".NET (PowerShell)",
   "language": "PowerShell",
   "name": ".net-pwsh"
  },
  "language_info": {
   "name": "PowerShell"
  }
 },
 "nbformat": 4,
 "nbformat_minor": 2
}
