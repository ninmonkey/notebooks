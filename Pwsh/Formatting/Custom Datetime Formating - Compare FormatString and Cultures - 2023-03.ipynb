{
 "cells": [
  {
   "cell_type": "code",
   "execution_count": 5,
   "metadata": {
    "dotnet_interactive": {
     "language": "pwsh"
    },
    "polyglot_notebook": {
     "kernelName": "pwsh"
    }
   },
   "outputs": [
    {
     "name": "stdout",
     "output_type": "stream",
     "text": [
      "\n",
      "\u001b[32;1mFormatStr Local                               UTC\u001b[0m\n",
      "\u001b[32;1m--------- -----                               ---\u001b[0m\n",
      "o         2023-03-24T21:45:56.2882711-05:00   2023-03-25T02:45:56.2882711Z\n",
      "u         2023-03-24 21:45:56Z                2023-03-25 02:45:56Z\n",
      "O         2023-03-24T21:45:56.2882711-05:00   2023-03-25T02:45:56.2882711Z\n",
      "U         Saturday, March 25, 2023 2:45:56 AM Saturday, March 25, 2023 2:45:56 AM\n",
      "\n",
      "\n",
      "\u001b[32;1mName     Value\u001b[0m\n",
      "\u001b[32;1m----     -----\u001b[0m\n",
      "NowLocal 3/24/2023 9:45:56 PM\n",
      "NowUtc   3/25/2023 2:45:56 AM\n",
      "\n"
     ]
    }
   ],
   "source": [
    "$Now = [Datetime]::Now\n",
    "'o', 'u','O', 'U' | %{ \n",
    "   [pscustomobject]@{\n",
    "        FormatStr = ($fStr = $_ )\n",
    "        Local =  $Now.ToString( $fStr )\n",
    "        UTC = $Now.ToUniversalTime().ToString( $fStr )\n",
    "        # Default  = $Now.ToString()\n",
    "    }\n",
    "} \n",
    "| ft -auto\n",
    "# | out-string -width 600 # use if column is truncated\n",
    "@{\n",
    "    NowLocal = $Now\n",
    "    NowUtc = $Now.ToUniversalTime()\n",
    "}"
   ]
  }
 ],
 "metadata": {
  "kernelspec": {
   "display_name": ".NET (PowerShell)",
   "language": "PowerShell",
   "name": ".net-pwsh"
  },
  "language_info": {
   "name": "polyglot-notebook"
  },
  "polyglot_notebook": {
   "kernelInfo": {
    "defaultKernelName": "pwsh",
    "items": [
     {
      "aliases": [],
      "languageName": "pwsh",
      "name": "pwsh"
     }
    ]
   }
  }
 },
 "nbformat": 4,
 "nbformat_minor": 2
}
