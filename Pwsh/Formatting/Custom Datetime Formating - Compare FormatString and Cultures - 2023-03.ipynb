{
 "cells": [
  {
   "cell_type": "code",
   "execution_count": 8,
   "metadata": {
    "dotnet_interactive": {
     "language": "pwsh"
    },
    "polyglot_notebook": {
     "kernelName": "pwsh"
    }
   },
   "outputs": [
    {
     "name": "stdout",
     "output_type": "stream",
     "text": [
      "\n",
      "\u001b[32;1mFormatStr Local                               UTC\u001b[0m\n",
      "\u001b[32;1m--------- -----                               ---\u001b[0m\n",
      "o         2023-03-24T23:00:40.5304919-05:00   2023-03-25T04:00:40.5304919Z\n",
      "u         2023-03-24 23:00:40Z                2023-03-25 04:00:40Z\n",
      "O         2023-03-24T23:00:40.5304919-05:00   2023-03-25T04:00:40.5304919Z\n",
      "U         Saturday, March 25, 2023 4:00:40 AM Saturday, March 25, 2023 4:00:40 AM\n",
      "\n",
      "{\n",
      "  \"NowLocal\": \"2023-03-24T23:00:40.5304919-05:00\",\n",
      "  \"NowUtc\": \"2023-03-25T04:00:40.5304919Z\"\n",
      "}\n"
     ]
    }
   ],
   "source": [
    "$Now = [Datetime]::Now\n",
    "'o', 'u','O', 'U' | %{ \n",
    "   [pscustomobject]@{\n",
    "        FormatStr = ($fStr = $_ )\n",
    "        Local =  $Now.ToString( $fStr )\n",
    "        UTC = $Now.ToUniversalTime().ToString( $fStr )\n",
    "    }\n",
    "}  | ft -auto # | out-string -width 600 # use if column is truncated\n",
    "@{  NowLocal = $Now\n",
    "    NowUtc = $Now.ToUniversalTime() } | ConvertTo-Json"
   ]
  }
 ],
 "metadata": {
  "kernelspec": {
   "display_name": ".NET (PowerShell)",
   "language": "PowerShell",
   "name": ".net-pwsh"
  },
  "language_info": {
   "name": "polyglot-notebook"
  },
  "polyglot_notebook": {
   "kernelInfo": {
    "defaultKernelName": "pwsh",
    "items": [
     {
      "aliases": [],
      "languageName": "pwsh",
      "name": "pwsh"
     }
    ]
   }
  }
 },
 "nbformat": 4,
 "nbformat_minor": 2
}
