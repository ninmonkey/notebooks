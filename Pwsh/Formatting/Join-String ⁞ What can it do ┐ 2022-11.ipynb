{
 "cells": [
  {
   "cell_type": "code",
   "execution_count": 12,
   "metadata": {
    "dotnet_interactive": {
     "language": "pwsh"
    },
    "vscode": {
     "languageId": "dotnet-interactive.pwsh"
    }
   },
   "outputs": [
    {
     "name": "stdout",
     "output_type": "stream",
     "text": [
      "a, b\r\n"
     ]
    }
   ],
   "source": [
    "'a', $null, 'b' | Join-String -sep ', ' \n",
    "\n",
    "function NL { param( $Count = 1  ) \"`n\" * $Count -join ''  }\n",
    "function H1 { param( [string]$Text ) \n",
    "    \"`n === \", $Text, \" === `n\" -join ''\n",
    "} \n",
    "function Hr {\n",
    "    $w = $host.ui.RawUI.WindowSize.Width\n",
    "    $chars = '-' * $w -join ''\n",
    "    $padding = \"`n\" * $ExtraLines\n",
    "\n",
    "    @(\n",
    "        $padding, $chars, $padding\n",
    "    ) -join ''\n",
    "    \n",
    "}"
   ]
  },
  {
   "attachments": {},
   "cell_type": "markdown",
   "metadata": {},
   "source": [
    "## Join String\n",
    "\n",
    "### dsf\n"
   ]
  },
  {
   "attachments": {},
   "cell_type": "markdown",
   "metadata": {},
   "source": [
    "### Automatic Graceful handling of $nulls and empty values\n",
    "\n",
    "Both of these output the **same value**\n",
    "```ps1\n",
    "$list =  'a', $Null, @(),  $null, 'b'\n",
    "$list = 'a', 'b'\n",
    "```\n",
    "when using\n",
    "```ps1\n",
    "$list | Join-String -sep ', ' \n",
    "    \n",
    "a, b\n",
    "```\n",
    "\n",
    "It actually doesn't pass the `$null` values to the scriptblock. So you don't need a `$null` guard. You can test this: No \"call a method on a null-valued expression\" errors.\n",
    "```ps1\n",
    "$Sample1 | Join-String -sep ', ' { $_.GetType() }\n",
    "string, string\n",
    "```"
   ]
  },
  {
   "cell_type": "code",
   "execution_count": 21,
   "metadata": {
    "dotnet_interactive": {
     "language": "pwsh"
    },
    "vscode": {
     "languageId": "dotnet-interactive.pwsh"
    }
   },
   "outputs": [
    {
     "name": "stdout",
     "output_type": "stream",
     "text": [
      "----------------------------------------------------------------------------------------------------\r\n",
      "\n",
      " === Input Sample1 === \n",
      "\r\n",
      "[\r\n",
      "  \"a\",\r\n",
      "  null,\r\n",
      "  [],\r\n",
      "  null,\r\n",
      "  \"b\"\r\n",
      "]\r\n",
      "\n",
      " === Input Sample2 === \n",
      "\r\n",
      "[\r\n",
      "  \"a\",\r\n",
      "  \"b\"\r\n",
      "]\r\n",
      "\n",
      " === results === \n",
      "\r\n",
      "a, b\r\n",
      "a, b\r\n"
     ]
    }
   ],
   "source": [
    "$sample1 = 'a', $Null, @(),  $null, 'b'\n",
    "$sample2 = 'a', 'b'\n",
    "\n",
    "hr\n",
    "h1 'Input Sample1'\n",
    "ConvertTo-Json $sample1\n",
    "\n",
    "h1 'Input Sample2'\n",
    "ConvertTo-Json $sample2\n",
    "\n",
    "h1 'results'\n",
    "\n",
    "$Sample1 | Join-String -sep ', '  \n",
    "$Sample2 | Join-String -sep ', '  \n",
    "\n",
    "\n"
   ]
  },
  {
   "cell_type": "code",
   "execution_count": null,
   "metadata": {
    "dotnet_interactive": {
     "language": "pwsh"
    },
    "vscode": {
     "languageId": "dotnet-interactive.pwsh"
    }
   },
   "outputs": [],
   "source": [
    "\n",
    "\n",
    "'a', $Null, ,@(),  $null, 'bar'  | Join-String -sep ', '  "
   ]
  }
 ],
 "metadata": {
  "kernelspec": {
   "display_name": ".NET (PowerShell)",
   "language": "PowerShell",
   "name": ".net-pwsh"
  },
  "language_info": {
   "name": "PowerShell"
  }
 },
 "nbformat": 4,
 "nbformat_minor": 2
}
