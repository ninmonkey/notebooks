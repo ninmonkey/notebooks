{
 "cells": [
  {
   "cell_type": "code",
   "execution_count": null,
   "metadata": {
    "dotnet_interactive": {
     "language": "pwsh"
    },
    "vscode": {
     "languageId": "dotnet-interactive.pwsh"
    }
   },
   "outputs": [],
   "source": [
    "function InspectProperty {\n",
    "    <#\n",
    "    .synopsis\n",
    "        example used to show how to set default property sets\n",
    "    .link\n",
    "        Update-TypeData\n",
    "    #>\n",
    "    [OutputType('ninProp')]\n",
    "    param(\n",
    "        # What to inspect\n",
    "        [Parameter(Mandatory, Position = 0, ValueFromPipeline)]\n",
    "        $InputObject\n",
    "    )\n",
    "    process {\n",
    "\n",
    "        $InputObject.psobject.properties | ForEach-Object {\n",
    "            $meta = @{\n",
    "                'PSTypeName'      = 'ninProp'\n",
    "                'Foo'             = '🐒'\n",
    "                'Name'            = $_.Name\n",
    "                'TypeNameOfValue' = $_.TypeNameOfValue\n",
    "                'Type'            = $_.GetType() ?? '[error]'\n",
    "                'TypeStr'         = $_.GetType().Name | Join-String -op '[' -os ']'\n",
    "                'Value'           = $_.Value\n",
    "                'ValueStr'        = $_.Value ?? \"[`u{2400}]\"\n",
    "            }\n",
    "\n",
    "            $meta['ValueStr'] = $_.Value ?? \"[`u{2400}]\"\n",
    "            return [pscustomobject]$meta\n",
    "        }\n",
    "    }\n",
    "}\n",
    "\n"
   ]
  },
  {
   "cell_type": "code",
   "execution_count": null,
   "metadata": {
    "dotnet_interactive": {
     "language": "pwsh"
    },
    "vscode": {
     "languageId": "dotnet-interactive.pwsh"
    }
   },
   "outputs": [],
   "source": [
    "$TypeData = @{\n",
    "    TypeName                  = 'ninProp'\n",
    "    DefaultDisplayPropertySet = 'Foo', 'Name', 'TypeStr', 'Value' # FL\n",
    "    DefaultDisplayProperty    = 'ValueStr' # FW\n",
    "    DefaultKeyPropertySet     = 'Name', 'TypeStr' # sort and group\n",
    "}\n",
    "Update-TypeData @TypeData -Force"
   ]
  },
  {
   "cell_type": "code",
   "execution_count": null,
   "metadata": {
    "dotnet_interactive": {
     "language": "pwsh"
    },
    "vscode": {
     "languageId": "dotnet-interactive.pwsh"
    }
   },
   "outputs": [
    {
     "name": "stdout",
     "output_type": "stream",
     "text": [
      "\r\n",
      "\u001b[32;1mFoo Name        TypeStr                                          Value\u001b[0m\r\n",
      "\u001b[32;1m--- ----        -------                                          -----\u001b[0m\r\n",
      "🐒  DisplayHint [PSNoteProperty]                              DateTime\r\n",
      "🐒  DateTime    [PSScriptProperty] Wednesday, July 20, 2022 6:12:38 PM\r\n",
      "🐒  Date        [PSProperty]                     7/20/2022 12:00:00 AM\r\n",
      "🐒  Day         [PSProperty]                                        20\r\n",
      "🐒  DayOfWeek   [PSProperty]                                 Wednesday\r\n",
      "🐒  DayOfYear   [PSProperty]                                       201\r\n",
      "🐒  Hour        [PSProperty]                                        18\r\n",
      "🐒  Kind        [PSProperty]                                     Local\r\n",
      "🐒  Millisecond [PSProperty]                                       761\r\n",
      "🐒  Minute      [PSProperty]                                        12\r\n",
      "\r\n"
     ]
    }
   ],
   "source": [
    "$props | select -first 10 | Format-Table -AutoSize\n",
    "# Hr"
   ]
  },
  {
   "cell_type": "code",
   "execution_count": null,
   "metadata": {
    "dotnet_interactive": {
     "language": "pwsh"
    },
    "vscode": {
     "languageId": "dotnet-interactive.pwsh"
    }
   },
   "outputs": [
    {
     "name": "stdout",
     "output_type": "stream",
     "text": [
      "\r\n",
      "\u001b[32;1mFoo     : \u001b[0m🐒\r\n",
      "\u001b[32;1mName    : \u001b[0mDisplayHint\r\n",
      "\u001b[32;1mTypeStr : \u001b[0m[PSNoteProperty]\r\n",
      "\u001b[32;1mValue   : \u001b[0mDateTime\r\n",
      "\r\n"
     ]
    }
   ],
   "source": [
    "\n",
    "$props = get-date | InspectProperty\n",
    "$selected = $props\n",
    "| Select-Object -First 4\n",
    "# | Get-Random -Count 4\n",
    "\n",
    "\n",
    "\n",
    "$props | Format-List | Select -first 3\n",
    "# Hr"
   ]
  },
  {
   "cell_type": "code",
   "execution_count": null,
   "metadata": {
    "dotnet_interactive": {
     "language": "pwsh"
    },
    "vscode": {
     "languageId": "dotnet-interactive.pwsh"
    }
   },
   "outputs": [
    {
     "name": "stdout",
     "output_type": "stream",
     "text": [
      "\r\n",
      "DateTime                                          Wednesday, July 20, 2022 6:12:38 PM\r\n",
      "7/20/2022 12:00:00 AM                             20\r\n",
      "\r\n"
     ]
    }
   ],
   "source": [
    "$selected | Format-Wide -AutoSize\n",
    "# Hr\n"
   ]
  },
  {
   "cell_type": "code",
   "execution_count": null,
   "metadata": {
    "dotnet_interactive": {
     "language": "pwsh"
    },
    "vscode": {
     "languageId": "dotnet-interactive.pwsh"
    }
   },
   "outputs": [
    {
     "name": "stdout",
     "output_type": "stream",
     "text": [
      "\r\n",
      "\u001b[32;1mFoo     : \u001b[0m🐒\r\n",
      "\u001b[32;1mName    : \u001b[0mPSPath\r\n",
      "\u001b[32;1mTypeStr : \u001b[0m[PSNoteProperty]\r\n",
      "\u001b[32;1mValue   : \u001b[0mMicrosoft.PowerShell.Core\\FileSystem::C:\\Users\\cppmo_000\\SkyDrive\\Documents\\2022\\My_Githu\r\n",
      "          \u001b[32;1m\u001b[0mb\\notebooks\\sketches\r\n",
      "\r\n",
      "\u001b[32;1mFoo     : \u001b[0m🐒\r\n",
      "\u001b[32;1mName    : \u001b[0mPSParentPath\r\n",
      "\u001b[32;1mTypeStr : \u001b[0m[PSNoteProperty]\r\n",
      "\u001b[32;1mValue   : \u001b[0mMicrosoft.PowerShell.Core\\FileSystem::C:\\Users\\cppmo_000\\SkyDrive\\Documents\\2022\\My_Githu\r\n",
      "          \u001b[32;1m\u001b[0mb\\notebooks\r\n",
      "\r\n",
      "\u001b[32;1mFoo     : \u001b[0m🐒\r\n",
      "\u001b[32;1mName    : \u001b[0mPSChildName\r\n",
      "\u001b[32;1mTypeStr : \u001b[0m[PSNoteProperty]\r\n",
      "\u001b[32;1mValue   : \u001b[0msketches\r\n",
      "\r\n",
      "\u001b[32;1mFoo     : \u001b[0m🐒\r\n",
      "\u001b[32;1mName    : \u001b[0mPSDrive\r\n",
      "\u001b[32;1mTypeStr : \u001b[0m[PSNoteProperty]\r\n",
      "\u001b[32;1mValue   : \u001b[0mC\r\n",
      "\r\n",
      "\u001b[32;1mFoo     : \u001b[0m🐒\r\n",
      "\u001b[32;1mName    : \u001b[0mPSProvider\r\n",
      "\u001b[32;1mTypeStr : \u001b[0m[PSNoteProperty]\r\n",
      "\u001b[32;1mValue   : \u001b[0mMicrosoft.PowerShell.Core\\FileSystem\r\n",
      "\r\n",
      "\r\n",
      "\r\n",
      "Microsoft.PowerShell.Core\\FileSystem::C:\\Users\\cppmo_000\\SkyDrive\\Documents\\2022\\My_Github\\noteboo…\r\n",
      "Microsoft.PowerShell.Core\\FileSystem::C:\\Users\\cppmo_000\\SkyDrive\\Documents\\2022\\My_Github\\noteboo…\r\n",
      "sketches\r\n",
      "C\r\n",
      "Microsoft.PowerShell.Core\\FileSystem\r\n",
      "\r\n",
      "\r\n",
      "\u001b[32;1mFoo Name                TypeStr            Value\u001b[0m\r\n",
      "\u001b[32;1m--- ----                -------            -----\u001b[0m\r\n",
      "🐒  PSPath              [PSNoteProperty]   Microsoft.PowerShell.Core\\FileSystem::C:\\Users\\cppmo_00…\r\n",
      "🐒  PSParentPath        [PSNoteProperty]   Microsoft.PowerShell.Core\\FileSystem::C:\\Users\\cppmo_00…\r\n",
      "🐒  PSChildName         [PSNoteProperty]   sketches\r\n",
      "🐒  PSDrive             [PSNoteProperty]   C\r\n",
      "🐒  PSProvider          [PSNoteProperty]   Microsoft.PowerShell.Core\\FileSystem\r\n",
      "🐒  PSIsContainer       [PSNoteProperty]   True\r\n",
      "🐒  Mode                [PSCodeProperty]   la---\r\n",
      "🐒  ModeWithoutHardLink [PSCodeProperty]   la---\r\n",
      "🐒  BaseName            [PSScriptProperty] sketches\r\n",
      "🐒  Target              [PSAliasProperty]  \r\n",
      "\r\n"
     ]
    }
   ],
   "source": [
    "$TypeData = @{\n",
    "    TypeName                  = 'ninProp'\n",
    "    DefaultDisplayPropertySet = 'Foo', 'Name', 'TypeStr', 'Value' # FL\n",
    "    DefaultDisplayProperty    = 'ValueStr' # FW\n",
    "    DefaultKeyPropertySet     = 'Name', 'TypeStr' # sort and group\n",
    "}\n",
    "Update-TypeData @TypeData -Force\n",
    "\n",
    "$props = Get-Item . | InspectProperty\n",
    "$selected = $props\n",
    "| Select-Object -First 7\n",
    "# | Get-Random -Count 4\n",
    "\n",
    "\n",
    "$props | select -first 5 | fl \n",
    "# Hr\n",
    "\n",
    "$selected | select -first 5 | Format-Wide -AutoSize\n",
    "# Hr\n",
    "$props  | select -first 10  | Format-Table -AutoSize\n",
    "# Hr\n"
   ]
  }
 ],
 "metadata": {
  "kernelspec": {
   "display_name": ".NET (PowerShell)",
   "language": "PowerShell",
   "name": ".net-pwsh"
  },
  "language_info": {
   "name": "PowerShell"
  }
 },
 "nbformat": 4,
 "nbformat_minor": 2
}
