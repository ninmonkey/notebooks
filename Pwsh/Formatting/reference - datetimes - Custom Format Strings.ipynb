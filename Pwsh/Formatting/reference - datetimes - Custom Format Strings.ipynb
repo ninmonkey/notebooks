{
 "cells": [
  {
   "cell_type": "code",
   "execution_count": null,
   "metadata": {
    "dotnet_interactive": {
     "language": "pwsh"
    },
    "vscode": {
     "languageId": "dotnet-interactive.pwsh"
    }
   },
   "outputs": [
    {
     "name": "stdout",
     "output_type": "stream",
     "text": [
      "\r\n",
      "\u001b[32;1mKind     FormatStr Local                              Utc\u001b[0m\r\n",
      "\u001b[32;1m----     --------- -----                              ---\u001b[0m\r\n",
      "Datetime o         2022-08-21T15:23:39.1126389-05:00  2022-08-21T20:23:39.1126389Z\r\n",
      "Datetime u         2022-08-21 15:23:39Z               2022-08-21 20:23:39Z\r\n",
      "Datetime O         2022-08-21T15:23:39.1135497-05:00  2022-08-21T20:23:39.1135497Z\r\n",
      "Datetime U         Sunday, August 21, 2022 8:23:39 PM Sunday, August 21, 2022 8:23:39 PM\r\n",
      "\r\n"
     ]
    }
   ],
   "source": [
    "  'o', 'u', 'O', 'U' | %{ \n",
    "  $now = [Datetime]::Now\n",
    "  $NowZone = [DateTimeOffset]::Now\n",
    "\n",
    "  [pscustomobject]@{\n",
    "     Kind = 'Datetime'\n",
    "     FormatStr = $_ ;\n",
    "     Local = $Now.ToString($_)\n",
    "     Utc =   $Now.ToUniversalTime().ToString($_)\n",
    "  } \n",
    "  [pscustomobject]@{\n",
    "     Kind = 'DatetimeZone'\n",
    "     FormatStr = $_ ;\n",
    "     Local = $NowZone.ToString($_)\n",
    "     Utc =   $NowZone.ToUniversalTime().ToString($_)\n",
    "  } \n",
    "} | ft -auto\n"
   ]
  },
  {
   "cell_type": "markdown",
   "metadata": {},
   "source": []
  },
  {
   "cell_type": "markdown",
   "metadata": {},
   "source": [
    "### Useful References\n",
    "\n",
    "- [Dotnet Formatting](https://docs.microsoft.com/en-us/dotnet/standard/base-types/formatting-types)\n",
    "- <https://docs.microsoft.com/en-us/dotnet/standard/serialization/system-text-json-overview?pivots=dotnet-7-0>\n",
    "- <https://docs.microsoft.com/en-us/dotnet/standard/base-types/parsing-strings>\n",
    "- <https://docs.microsoft.com/en-us/dotnet/standard/serialization/system-text-json-overview?pivots=dotnet-7-0>\n",
    "- <https://docs.microsoft.com/en-us/dotnet/standard/base-types/type-conversion>\n",
    "\n",
    "### Composite formatting Syntax\n",
    "\n",
    "Syntax \n",
    "\n",
    "```ps1\n",
    "{index[,alignment][:formatString]}\n",
    "```\n",
    "\n",
    "\n",
    "- top-level topic [Composite Formatting](https://docs.microsoft.com/en-us/dotnet/standard/base-types/composite-formatting)\n",
    "- [\\[IFormattable\\]](https://docs.microsoft.com/en-us/dotnet/api/system.iformattable?view=net-6.0)\n",
    "\n",
    "- [\\[IFormatProvider\\]](https://docs.microsoft.com/en-us/dotnet/api/system.iformatprovider?view=net-6.0)\n",
    "- [\\[ICustomFormatterFormattable\\]](https://docs.microsoft.com/en-us/dotnet/api/system.icustomformatter?view=net-6.0) , [\\[ICustomFormatter\\].Format\\(\\)](https://docs.microsoft.com/en-us/dotnet/api/system.icustomformatter.format?view=net-6.0)\n",
    "- [FormatException](https://docs.microsoft.com/en-us/dotnet/api/system.formatexception?view=net-6.0)\n",
    "\n",
    "### Format Strings\n",
    "\n",
    "- Numeric\n",
    "  - [Standard Numeric](https://docs.microsoft.com/en-us/dotnet/standard/base-types/standard-numeric-format-strings)\n",
    "  - [Custom Numeric](https://docs.microsoft.com/en-us/dotnet/standard/base-types/custom-numeric-format-strings)\n",
    "- Datetime\n",
    "  - [Standard Datetime](https://docs.microsoft.com/en-us/dotnet/standard/base-types/standard-date-and-time-format-strings)\n",
    "  - [Custom Datetime](https://docs.microsoft.com/en-us/dotnet/standard/base-types/custom-date-and-time-format-strings)\n",
    "- Timespan\n",
    "  - [Standard Timespan](https://docs.microsoft.com/en-us/dotnet/standard/base-types/standard-timespan-format-strings)\n",
    "  - [Custom Timespan](https://docs.microsoft.com/en-us/dotnet/standard/base-types/custom-timespan-format-strings)\n",
    "- [Enums](https://docs.microsoft.com/en-us/dotnet/standard/base-types/enumeration-format-strings)"
   ]
  }
 ],
 "metadata": {
  "kernelspec": {
   "display_name": ".NET (PowerShell)",
   "language": "PowerShell",
   "name": ".net-pwsh"
  },
  "language_info": {
   "name": "PowerShell"
  }
 },
 "nbformat": 4,
 "nbformat_minor": 2
}
