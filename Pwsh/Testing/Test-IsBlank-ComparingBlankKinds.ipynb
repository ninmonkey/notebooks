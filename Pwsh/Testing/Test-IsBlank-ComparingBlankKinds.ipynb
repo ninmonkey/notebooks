{
 "cells": [
  {
   "cell_type": "markdown",
   "metadata": {},
   "source": [
    "### True Null? \n",
    "\n",
    "If you want to know if `$Something` is a true null value, this is how you'd test it\n",
    "```ps1\n",
    "$null -eq $Something\n",
    "```\n",
    "\n",
    "Why does `$Null` have to be on the *left hand side* when testing for `nulls?` ( See: [PsScriptAnalyzer/rules/PossibleIncorrectComparisonWithNull](https://learn.microsoft.com/en-us/powershell/utility-modules/psscriptanalyzer/rules/possibleincorrectcomparisonwithnull?view=ps-modules) )\n",
    "\n",
    "### **tip** `IsNullOrEmpty` is a shortcut for emtpy arrays and empty strings\n",
    "\n",
    "These two functions are super versatile. You can pass things that aren't strings and it won't raise errors\n",
    "If your function wants to filter out empty arrays and empty strings, you can test if it's a bad value with one test.\n",
    "\n",
    "Here's a few examples to get an idea\n",
    "\n",
    "```ps1\n",
    "[String]::IsNullOrEmpty( @() )   # true\n",
    "[String]::IsNullOrEmpty( $null ) # true\n",
    "[String]::IsNullOrEmpty( '' )    # true\n",
    "[String]::IsNullOrEmpty( \" \" )   # false\n",
    "[String]::IsNullOrEmpty( @( $null ) )  # true\n",
    "[String]::IsNullOrEmpty( @( '' ) )     # true\n",
    "[String]::IsNullOrEmpty( @( '', '' ) ) # false\n",
    "```\n",
    "\n",
    "### `IsNullOrWhitespace` is very similar but a little broader in blanks\n",
    "\n",
    "Basically everything that `IsNullOrEmpty` will still return true\n",
    "but strings that are only whitespace will now return true too\n",
    "That's what I call `Blanks`. When text is for most purposes blank or empty.\n",
    "Like for a filename. I don't want to allow a file named newline or only spaces. \n",
    "\n",
    "```ps1\n",
    "[String]::IsNullOrWhiteSpace( \" \" )         # true\n",
    "[String]::IsNullOrWhiteSpace( @( '', '' ) ) # true\n",
    "```\n",
    "\n",
    "### Simple Test\n",
    "\n",
    "```ps1\n",
    "$examples = $null, ' ' , '' \n",
    "```\n",
    "\n",
    "### Results from using the functions `IsNull`, `IsEmptyStr`, and `IsBlank`\n",
    "\n",
    "```\n",
    "IsNull:     True,  False, False\n",
    "IsEmptyStr: False, False, True\n",
    "IsBlank:    True,  True,  True\n",
    "```\n",
    "\n",
    "### Full Test : Fancy mode\n",
    "\n",
    "\n",
    "Here's the final output.\n",
    "\n",
    "\n",
    "\n",
    "```ps1\n",
    "Test-IsBlank $doesNotExist -AsBool\n",
    "    # true\n",
    "```\n",
    "\n",
    "```ps1\n",
    "IsTrueNull IsEmpty IsTrueEmptyStr IsBlank     Length RawValue AsBool Name\n",
    "---------- ------- -------------- -------     ------ -------- ------ ----\n",
    "     False    True          False    True         15 {}         True TrueArray.Empty\n",
    "     False    True           True    True <EmptyStr>            True String.TrueBlank\n",
    "     False   False          False    True          2            True String.Space\n",
    "     False   False          False   False          2  4        False String.WithNonWhitespaceValue\n",
    "      True    True          False    True     <null>            True TrueNull\n",
    "     False   False          False    True          6 …          True Whitespace\n",
    "      True    True          False    True     <null>            True Variable.DoesNotExist\n",
    "      True    True          False    True     <null>            True Member.DoesNotExist\n",
    "```\n",
    "\n",
    "( The `AsBool` column returns the same value that you'd get from running it with the switch: `-AsBool` )\n"
   ]
  },
  {
   "cell_type": "code",
   "execution_count": 18,
   "metadata": {
    "dotnet_interactive": {
     "language": "pwsh"
    },
    "polyglot_notebook": {
     "kernelName": "pwsh"
    }
   },
   "outputs": [
    {
     "name": "stdout",
     "output_type": "stream",
     "text": [
      "IsNull:     True, False, False\n",
      "IsEmptyStr: False, False, True\n",
      "IsBlank:    True, True, True\n"
     ]
    }
   ],
   "source": [
    "# First, simple versions\n",
    "\n",
    "function IsNull {\n",
    "    # test for true null only. everything else is false\n",
    "    [OutputType('System.Boolean')]\n",
    "    param( $Object  )\n",
    "    $null -eq $Object\n",
    "}\n",
    "function IsEmptyStr {\n",
    "    # test for empty string only. everything else is false\n",
    "    [OutputType('System.Boolean')]\n",
    "    param( $Object  )\n",
    "    ($Object -is [string]) -and $Object.length -eq ''\n",
    "}\n",
    "function IsBlank {\n",
    "    [OutputType('System.Boolean')]\n",
    "    param( $Object )\n",
    "    [string]::IsNullOrWhiteSpace( $Object )\n",
    "}\n",
    "\n",
    "$examples = $null, ' ' , ''\n",
    "$examples | %{\n",
    "    IsNull $_\n",
    "} | Join-String -sep ', ' -op 'IsNull:     '\n",
    "\n",
    "# output\n",
    "# true, false, false\n",
    "\n",
    "$examples | %{\n",
    "    IsEmptyStr $_\n",
    "} | Join-String -sep ', ' -op 'IsEmptyStr: '\n",
    "\n",
    "# output\n",
    "# false, false, true\n",
    "\n",
    "$examples | %{\n",
    "    IsBlank $_\n",
    "} | Join-String -sep ', ' -op 'IsBlank:    '\n",
    "\n",
    "# output\n",
    "# true, true, true"
   ]
  },
  {
   "cell_type": "code",
   "execution_count": 13,
   "metadata": {
    "dotnet_interactive": {
     "language": "pwsh"
    },
    "polyglot_notebook": {
     "kernelName": "pwsh"
    }
   },
   "outputs": [],
   "source": [
    "\n",
    "function Test-IsBlank {\n",
    "    <#\n",
    "    .synopsis\n",
    "        Checks if an object is a true null. starting to get fancy\n",
    "    .description\n",
    "        Creates a table of different kinds of blankness\n",
    "        - true null values\n",
    "        - true empty string\n",
    "        - strings with whitespace\n",
    "    #>\n",
    "    param(\n",
    "        $Obj,\n",
    "        # if true, the function returns a single boolean, no info\n",
    "        [switch]$AsBool\n",
    "    )\n",
    "    $filtered = $Obj -replace \"`a\", '' # otherwise ascii bell is not \"whitespace\"\n",
    "    if($AsBool) {\n",
    "       return [string]::IsNullOrWhiteSpace( $filtered )\n",
    "    }\n",
    "\n",
    "    $isTrueNull     = $Null -eq $Obj\n",
    "    $isStr          = $Obj -is [String]\n",
    "    $isTrueEmptyStr = $isStr -and ($Obj.Length -eq 0)\n",
    "\n",
    "    $finalLength = if(-not $IsTrueNull) { $Obj.ToString().Length }\n",
    "    if($isTrueEmptyStr) { $finalLength = '<EmptyStr>' }\n",
    "    if($IsTrueNull)     { $finalLength = '<null>'     }\n",
    "\n",
    "    [pscustomobject]@{\n",
    "        IsTrueNull     = $isTrueNull\n",
    "        IsEmpty        = [string]::IsNullOrEmpty( $Obj )\n",
    "        IsTrueEmptyStr = $isTrueEmptyStr\n",
    "        IsBlank        = [string]::IsNullOrWhiteSpace( $filtered )\n",
    "        Length         = $finalLength\n",
    "        RawValue       = $Obj\n",
    "        AsBool         = [string]::IsNullOrWhiteSpace( $filtered )\n",
    "    }\n",
    "}"
   ]
  },
  {
   "cell_type": "code",
   "execution_count": 12,
   "metadata": {
    "dotnet_interactive": {
     "language": "pwsh"
    },
    "polyglot_notebook": {
     "kernelName": "pwsh"
    }
   },
   "outputs": [],
   "source": [
    "# pwsh classes are useful if you want a record type\n",
    "# think of a case where you have a list of [pscustomobjet]s\n",
    "# and they share the same properties. using a class enforces that a bit\n",
    "# plus autocompletion is better\n",
    "class TestCase {\n",
    "    [string]$Name\n",
    "    [object]$In\n",
    "}\n",
    "\n",
    "# this cell is all example cases\n",
    "$Samples = @(\n",
    "    [TestCase]@{\n",
    "        Name = 'TrueArray.Empty'\n",
    "        In = @()\n",
    "    }\n",
    "    [TestCase]@{\n",
    "        Name = 'String.TrueBlank'\n",
    "        In = ''\n",
    "    }\n",
    "    [TestCase]@{\n",
    "        Name = 'String.Space'\n",
    "        In = '  '\n",
    "    }\n",
    "    [TestCase]@{\n",
    "        Name = 'String.WithNonWhitespaceValue'\n",
    "        In = ' 4'\n",
    "    }\n",
    "    [TestCase]@{\n",
    "        Name = 'TrueNull'\n",
    "        In = $Null\n",
    "    }\n",
    "    [TestCase]@{\n",
    "        Name = 'Whitespace'\n",
    "        In = \"`n`t   `n\"\n",
    "    }\n",
    "    [TestCase]@{\n",
    "        Name = 'Variable.DoesNotExist'\n",
    "        In = $ValueDoesNotExist\n",
    "    }\n",
    "    [TestCase]@{\n",
    "        Name = 'Member.DoesNotExist'\n",
    "        In = $Profile.FakeProp\n",
    "    }\n",
    ")\n"
   ]
  },
  {
   "cell_type": "code",
   "execution_count": 10,
   "metadata": {
    "dotnet_interactive": {
     "language": "pwsh"
    },
    "polyglot_notebook": {
     "kernelName": "pwsh"
    }
   },
   "outputs": [
    {
     "name": "stdout",
     "output_type": "stream",
     "text": [
      "\n",
      "\u001b[32;1mIsTrueNull\u001b[0m\u001b[32;1m IsEmpty\u001b[0m\u001b[32;1m IsTrueEmptyStr\u001b[0m\u001b[32;1m IsBlank\u001b[0m\u001b[32;1m     Length\u001b[0m\u001b[32;1m RawValue\u001b[0m\u001b[32;1m AsBool\u001b[0m\u001b[32;1m Name\u001b[0m\n",
      "\u001b[32;1m----------\u001b[0m \u001b[32;1m-------\u001b[0m \u001b[32;1m--------------\u001b[0m \u001b[32;1m-------\u001b[0m \u001b[32;1m    ------\u001b[0m \u001b[32;1m--------\u001b[0m \u001b[32;1m------\u001b[0m \u001b[32;1m----\u001b[0m\n",
      "     False    True          False    True         15 {}         True TrueArray.Empty\n",
      "     False    True           True    True <EmptyStr>            True String.TrueBlank\n",
      "     False   False          False    True          2            True String.Space\n",
      "     False   False          False   False          2  4        False String.WithNonWhitespaceValue\n",
      "      True    True          False    True     <null>            True TrueNull\n",
      "     False   False          False    True          6 …          True Whitespace\n",
      "      True    True          False    True     <null>            True Variable.DoesNotExist\n",
      "      True    True          False    True     <null>            True Member.DoesNotExist\n",
      "\n"
     ]
    }
   ],
   "source": [
    "$samples | ForEach-Object {\n",
    "    Test-IsBlank $_.In\n",
    "        | Add-Member -NotePropertyMembers @{ Name = $_.Name } -pass -force -ea 'ignore'\n",
    "} | Ft -auto"
   ]
  },
  {
   "cell_type": "code",
   "execution_count": null,
   "metadata": {
    "dotnet_interactive": {
     "language": "pwsh"
    },
    "polyglot_notebook": {
     "kernelName": "pwsh"
    }
   },
   "outputs": [],
   "source": []
  }
 ],
 "metadata": {
  "kernelspec": {
   "display_name": ".NET (C#)",
   "language": "C#",
   "name": ".net-csharp"
  },
  "language_info": {
   "name": "polyglot-notebook"
  },
  "polyglot_notebook": {
   "kernelInfo": {
    "defaultKernelName": "csharp",
    "items": [
     {
      "aliases": [],
      "name": "csharp"
     },
     {
      "aliases": [],
      "languageName": "pwsh",
      "name": "pwsh"
     }
    ]
   }
  }
 },
 "nbformat": 4,
 "nbformat_minor": 2
}
