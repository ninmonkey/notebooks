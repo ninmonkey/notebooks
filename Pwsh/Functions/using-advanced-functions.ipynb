{
 "cells": [
  {
   "cell_type": "code",
   "execution_count": null,
   "metadata": {
    "dotnet_interactive": {
     "language": "pwsh"
    },
    "vscode": {
     "languageId": "dotnet-interactive.pwsh"
    }
   },
   "outputs": [
    {
     "name": "stdout",
     "output_type": "stream",
     "text": [
      "using Pwsh: v7.2.5\r\n",
      "last ran: 2022-07-21T12:08:41.6167622-05:00\r\n"
     ]
    }
   ],
   "source": [
    "Set-Alias 'js' 'Join-String' -desc 'notebook sugar'\n",
    "$PSVersionTable\n",
    "| Join-String -op 'using Pwsh: v' PSVersion\n",
    "\n",
    "Get-Date\n",
    "| Join-String -op 'last ran: ' -format '{0:o}' { $_ }"
   ]
  },
  {
   "cell_type": "code",
   "execution_count": null,
   "metadata": {
    "dotnet_interactive": {
     "language": "pwsh"
    },
    "vscode": {
     "languageId": "dotnet-interactive.pwsh"
    }
   },
   "outputs": [
    {
     "name": "stdout",
     "output_type": "stream",
     "text": [
      "0,1,2,3,4\r\n"
     ]
    }
   ],
   "source": [
    "0..4 | js -sep ',' "
   ]
  },
  {
   "cell_type": "markdown",
   "metadata": {},
   "source": [
    "## Function Declaration Grammar\n",
    "\n",
    "```ps1\n",
    "function [<scope:>]<name> [([type]$parameter1[,[type]$parameter2])] {\n",
    "    begin { <statement list> }\n",
    "    process { <statement list> }\n",
    "    end { <statement list> }\n",
    "}\n",
    "```\n",
    "Or\n",
    "```ps1\n",
    "function [<scope:>]<name> {\n",
    "    param( [type]$parameter1 [,[type]$parameter2] )\n",
    "    dynamicparam { <statement list> }\n",
    "    begin { <statement list> }\n",
    "    process { <statement list> }\n",
    "    end { <statement list> }\n",
    "}\n",
    "```\n",
    "## Script Blocks\n",
    "```ps1\n",
    "{\n",
    "    Param( [type]$Parameter1 [,[type]$Parameter2] )\n",
    "    <statement list>\n",
    "}\n",
    "```\n",
    "\n",
    "## See More\n",
    "  \n",
    "Help pages\n",
    "\n",
    "- [about_Splatting](https://docs.microsoft.com/en-us/powershell/module/microsoft.powershell.core/about/about_splatting?view=powershell-7.2#splatting-with-arrays) **important**\n",
    "- about_Automatic_Variables\n",
    "- about_Comment_Based_Help\n",
    "- [about_Functions](https://docs.microsoft.com/en-us/powershell/module/microsoft.powershell.core/about/about_functions?view=powershell-7.3)\n",
    "- about_Function_Provider\n",
    "- about_Functions_Advanced\n",
    "- about_Functions_Advanced_Methods\n",
    "- about_Functions_Advanced_Parameters\n",
    "- about_Functions_CmdletBindingAttribute\n",
    "- about_Functions_OutputTypeAttribute\n",
    "- [about_Parsing](https://docs.microsoft.com/en-us/powershell/module/microsoft.powershell.core/about/about_parsing?view=powershell-7.2)\n",
    "- about_Parameters\n",
    "- about_Profiles\n",
    "- about_Scopes\n",
    "- [about_Script_Blocks](https://docs.microsoft.com/en-us/powershell/module/microsoft.powershell.core/about/about_script_blocks?view=powershell-7.2)\n",
    "\n",
    "## more (to filter)\n",
    "\n",
    "- about_Command_syntax\n",
    "- about_Comment_Based_Help\n",
    "- about_CommonParameters\n",
    "- about_Functions_Advanced\n",
    "- about_Parameters_Default_Values\n",
    "- about_Pipelines\n",
    "- about_Wildcards\n",
    "\n"
   ]
  },
  {
   "cell_type": "markdown",
   "metadata": {},
   "source": [
    "## Scratch pad below"
   ]
  },
  {
   "cell_type": "code",
   "execution_count": null,
   "metadata": {
    "dotnet_interactive": {
     "language": "pwsh"
    },
    "vscode": {
     "languageId": "dotnet-interactive.pwsh"
    }
   },
   "outputs": [],
   "source": [
    "# Helper funcs:\n",
    "if($true -or -not (gcm 'Hr' -ea ignore)){ \n",
    "    function Hr {\n",
    "        \"`n\"\n",
    "        '-' * 40 # [console]::WindowWidth\n",
    "        \"`n\"\n",
    "    }\n",
    "}"
   ]
  },
  {
   "cell_type": "code",
   "execution_count": null,
   "metadata": {
    "dotnet_interactive": {
     "language": "pwsh"
    },
    "vscode": {
     "languageId": "dotnet-interactive.pwsh"
    }
   },
   "outputs": [],
   "source": [
    "function pipe2 {\n",
    "    # future: Render true null as \"[␀]\"\n",
    "    param(\n",
    "        # from pipeline or not\n",
    "        [Parameter(ValueFromPipeline)]$InputObject,\n",
    "        [switch]$NoColor\n",
    "    )\n",
    "    begin {\n",
    "        $fg = $PSStyle.Foreground.Green\n",
    "        $fgDim = $PSStyle.Foreground.FromRgb( 0x6d, 0x6d, 0x6d )\n",
    "        $fgClear = $PSStyle.Reset\n",
    "        if($NoColor) { \n",
    "            $fg = ''\n",
    "            $fgDim = ''\n",
    "            $fgClear = ''\n",
    "        }\n",
    "        $Iter = 0\n",
    "        $Label = $MyInvocation.InvocationName        \n",
    "\n",
    "        # actual code\n",
    "        [string]$accum = ''\n",
    "        \"${fg}$Label${fgDim} |> Begin =>\"\n",
    "        \"             Iters = $Iter\"    \n",
    "        \"             x = $InputObject\"    \n",
    "    }\n",
    "    Process {        \n",
    "        $Iter++\n",
    "        [string]$accum = @(\n",
    "            $accum\n",
    "            [string]($inputObject)\n",
    "        ) | Join-String -sep ', ' -single\n",
    "        # \"iter: $Iter\"\n",
    "        $offset = [math]::max(0, ($Accum.length - 20))\n",
    "        $shortAccum = '...' + $accum.Substring( $offset )\n",
    "\n",
    "        \"${fgDim}      => Process {\"\n",
    "        # \"             item $Iter = $InputObject\"\n",
    "        \"             Iters = $Iter\"    \n",
    "        \"             x = ${fgClear}$InputObject\"  \n",
    "        \"             accum = ${fgClear}${shortAccum}\"  \n",
    "    }\n",
    "    end {\n",
    "        # \"$Label |> End =>\"\n",
    "        # \"             $Iter = $InputObject\"    \n",
    "        \"${fg}$Label${fgDim} |> End => {\"\n",
    "        \"             Iters = $Iter\"    \n",
    "        \"             x = ${fg}$InputObject${fgClear}\"  \n",
    "        \"             accum = ${fgClear}${shortAccum}\"  \n",
    "    }\n",
    "}"
   ]
  },
  {
   "cell_type": "code",
   "execution_count": null,
   "metadata": {
    "dotnet_interactive": {
     "language": "pwsh"
    },
    "vscode": {
     "languageId": "dotnet-interactive.pwsh"
    }
   },
   "outputs": [
    {
     "name": "stdout",
     "output_type": "stream",
     "text": [
      "\u001b[32mpipe2\u001b[38;2;109;109;109m |> Begin =>\r\n",
      "             Iters = 0\r\n",
      "             x = \r\n",
      "\u001b[38;2;109;109;109m      => Process {\r\n",
      "             Iters = 1\r\n",
      "             x = \u001b[0m\r\n",
      "             accum = \u001b[0m...'', ''\r\n",
      "\u001b[32mpipe2\u001b[38;2;109;109;109m |> End => {\r\n",
      "             Iters = 1\r\n",
      "             x = \u001b[32m\u001b[0m\r\n",
      "             accum = \u001b[0m...'', ''\r\n",
      "\n",
      "\r\n",
      "----------------------------------------\r\n",
      "\n",
      "\r\n",
      "\u001b[32mPipe2\u001b[38;2;109;109;109m |> Begin =>\r\n",
      "             Iters = 0\r\n",
      "             x = \r\n",
      "\u001b[38;2;109;109;109m      => Process {\r\n",
      "             Iters = 1\r\n",
      "             x = \u001b[0m\r\n",
      "             accum = \u001b[0m...'', ''\r\n",
      "\u001b[32mPipe2\u001b[38;2;109;109;109m |> End => {\r\n",
      "             Iters = 1\r\n",
      "             x = \u001b[32m\u001b[0m\r\n",
      "             accum = \u001b[0m...'', ''\r\n",
      "\n",
      "\r\n",
      "----------------------------------------\r\n",
      "\n",
      "\r\n",
      "\u001b[32mPipe2\u001b[38;2;109;109;109m |> Begin =>\r\n",
      "             Iters = 0\r\n",
      "             x = \r\n",
      "\u001b[38;2;109;109;109m      => Process {\r\n",
      "             Iters = 1\r\n",
      "             x = \u001b[0m\r\n",
      "             accum = \u001b[0m...'', ''\r\n",
      "\u001b[32mPipe2\u001b[38;2;109;109;109m |> End => {\r\n",
      "             Iters = 1\r\n",
      "             x = \u001b[32m\u001b[0m\r\n",
      "             accum = \u001b[0m...'', ''\r\n"
     ]
    }
   ],
   "source": [
    "pipe2\n",
    "hr\n",
    "Pipe2 $null\n",
    "hr\n",
    "$null | Pipe2\n"
   ]
  },
  {
   "cell_type": "code",
   "execution_count": null,
   "metadata": {
    "dotnet_interactive": {
     "language": "pwsh"
    },
    "vscode": {
     "languageId": "dotnet-interactive.pwsh"
    }
   },
   "outputs": [],
   "source": [
    "'a', 'e', 234, (get-date) | Pipe2"
   ]
  },
  {
   "cell_type": "code",
   "execution_count": null,
   "metadata": {
    "dotnet_interactive": {
     "language": "pwsh"
    },
    "vscode": {
     "languageId": "dotnet-interactive.pwsh"
    }
   },
   "outputs": [
    {
     "name": "stdout",
     "output_type": "stream",
     "text": [
      "\u001b[32mPipe2\u001b[38;2;109;109;109m |> Begin =>\r\n",
      "             Iters = 0\r\n",
      "             x = \r\n",
      "\u001b[38;2;109;109;109m      => Process {\r\n",
      "             Iters = 1\r\n",
      "             x = \u001b[0m0\r\n",
      "         accum = \u001b[0m...'', '0'\r\n",
      "\u001b[38;2;109;109;109m      => Process {\r\n",
      "             Iters = 2\r\n",
      "             x = \u001b[0m1\r\n",
      "         accum = \u001b[0m...''', '0'', '1'\r\n",
      "\u001b[38;2;109;109;109m      => Process {\r\n",
      "             Iters = 3\r\n",
      "             x = \u001b[0m2\r\n",
      "         accum = \u001b[0m...''', '0'', '1'', '2'\r\n",
      "\u001b[38;2;109;109;109m      => Process {\r\n",
      "             Iters = 4\r\n",
      "             x = \u001b[0m3\r\n",
      "         accum = \u001b[0m...0'', '1'', '2'', '3'\r\n",
      "\u001b[38;2;109;109;109m      => Process {\r\n",
      "             Iters = 5\r\n",
      "             x = \u001b[0m4\r\n",
      "         accum = \u001b[0m...1'', '2'', '3'', '4'\r\n",
      "\u001b[32mPipe2\u001b[38;2;109;109;109m |> End => {\r\n",
      "             Iters = 5\r\n",
      "             x = \u001b[32m4\u001b[0m\r\n"
     ]
    }
   ],
   "source": [
    "0..4 | Pipe2"
   ]
  },
  {
   "cell_type": "code",
   "execution_count": null,
   "metadata": {
    "dotnet_interactive": {
     "language": "pwsh"
    },
    "vscode": {
     "languageId": "dotnet-interactive.pwsh"
    }
   },
   "outputs": [
    {
     "name": "stdout",
     "output_type": "stream",
     "text": [
      "\u001b[32mpipe2\u001b[38;2;109;109;109m |> Begin =>\r\n",
      "             Iters = 0\r\n",
      "             x = \r\n",
      "\u001b[38;2;109;109;109m      => Process {\r\n",
      "             Iters = 1\r\n",
      "             x = \u001b[0m10\r\n",
      "         accum = \u001b[0m...'', '10'\r\n",
      "\u001b[32mpipe2\u001b[38;2;109;109;109m |> End => {\r\n",
      "             Iters = 1\r\n",
      "             x = \u001b[32m10\u001b[0m\r\n"
     ]
    }
   ],
   "source": [
    "10 | pipe2\n"
   ]
  },
  {
   "cell_type": "code",
   "execution_count": null,
   "metadata": {
    "dotnet_interactive": {
     "language": "pwsh"
    },
    "vscode": {
     "languageId": "dotnet-interactive.pwsh"
    }
   },
   "outputs": [
    {
     "name": "stdout",
     "output_type": "stream",
     "text": [
      "\u001b[32mpipe2\u001b[38;2;109;109;109m |> Begin =>\r\n",
      "             Iters = 0\r\n",
      "             x = 200\r\n",
      "\u001b[38;2;109;109;109m      => Process {\r\n",
      "             Iters = 1\r\n",
      "             x = \u001b[0m200\r\n",
      "         accum = \u001b[0m...'', '200'\r\n",
      "\u001b[32mpipe2\u001b[38;2;109;109;109m |> End => {\r\n",
      "             Iters = 1\r\n",
      "             x = \u001b[32m200\u001b[0m\r\n"
     ]
    }
   ],
   "source": [
    "pipe2 '200'\n"
   ]
  },
  {
   "cell_type": "code",
   "execution_count": null,
   "metadata": {
    "dotnet_interactive": {
     "language": "pwsh"
    },
    "vscode": {
     "languageId": "dotnet-interactive.pwsh"
    }
   },
   "outputs": [
    {
     "name": "stdout",
     "output_type": "stream",
     "text": [
      "\u001b[32mpipe2\u001b[38;2;109;109;109m |> Begin =>\r\n",
      "             Iters = 0\r\n",
      "             x = \r\n",
      "\u001b[38;2;109;109;109m      => Process {\r\n",
      "             Iters = 1\r\n",
      "             x = \u001b[0ma\r\n",
      "         accum = \u001b[0m...'', 'a'\r\n",
      "\u001b[38;2;109;109;109m      => Process {\r\n",
      "             Iters = 2\r\n",
      "             x = \u001b[0m93\r\n",
      "         accum = \u001b[0m...''', 'a'', '93'\r\n",
      "\u001b[32mpipe2\u001b[38;2;109;109;109m |> End => {\r\n",
      "             Iters = 2\r\n",
      "             x = \u001b[32m93\u001b[0m\r\n"
     ]
    }
   ],
   "source": [
    "'a', 93 | pipe2"
   ]
  },
  {
   "cell_type": "code",
   "execution_count": null,
   "metadata": {
    "dotnet_interactive": {
     "language": "pwsh"
    },
    "vscode": {
     "languageId": "dotnet-interactive.pwsh"
    }
   },
   "outputs": [
    {
     "name": "stdout",
     "output_type": "stream",
     "text": [
      "pipe1 |> Begin =>\r\n",
      "             Iters = 0\r\n",
      "             x = \r\n",
      "      => Process {\r\n",
      "             Iters = 1\r\n",
      "             x = 10\r\n",
      "pipe1 |> End => {\r\n",
      "             Iters = 1\r\n",
      "             x = 10\r\n",
      "\n",
      "\r\n",
      "----------------------------------------\r\n",
      "\n",
      "\r\n",
      "pipe1 |> Begin =>\r\n",
      "             Iters = 0\r\n",
      "             x = 200\r\n",
      "      => Process {\r\n",
      "             Iters = 1\r\n",
      "             x = 200\r\n",
      "pipe1 |> End => {\r\n",
      "             Iters = 1\r\n",
      "             x = 200\r\n",
      "\n",
      "\r\n",
      "----------------------------------------\r\n",
      "\n",
      "\r\n",
      "pipe1 |> Begin =>\r\n",
      "             Iters = 0\r\n",
      "             x = \r\n",
      "      => Process {\r\n",
      "             Iters = 1\r\n",
      "             x = a\r\n",
      "      => Process {\r\n",
      "             Iters = 2\r\n",
      "             x = 93\r\n",
      "pipe1 |> End => {\r\n",
      "             Iters = 2\r\n",
      "             x = 93\r\n",
      "\n",
      "\r\n",
      "----------------------------------------\r\n",
      "\n",
      "\r\n"
     ]
    }
   ],
   "source": [
    "function pipe1 {\n",
    "    param(\n",
    "        # from pipeline or not\n",
    "        [Parameter(ValueFromPipeline)]$InputObject\n",
    "    )\n",
    "    begin {\n",
    "        $Iter = 0\n",
    "        $Label = $MyInvocation.InvocationName        \n",
    "        \"$Label |> Begin =>\"\n",
    "        \"             Iters = $Iter\"    \n",
    "        \"             x = $InputObject\"    \n",
    "    }\n",
    "    Process {        \n",
    "        $Iter++        \n",
    "        # \"iter: $Iter\"\n",
    "        \"      => Process {\"\n",
    "        # \"             item $Iter = $InputObject\"\n",
    "        \"             Iters = $Iter\"    \n",
    "        \"             x = $InputObject\"  \n",
    "    }\n",
    "    end {\n",
    "        # \"$Label |> End =>\"\n",
    "        # \"             $Iter = $InputObject\"    \n",
    "\n",
    "        \"$Label |> End => {\"\n",
    "        \"             Iters = $Iter\"    \n",
    "        \"             x = $InputObject\"  \n",
    "    }\n",
    "}\n",
    "\n",
    "10 | pipe1\n",
    "hr\n",
    "pipe1 '200'\n",
    "hr\n",
    "'a', 93 | pipe1\n",
    "hr"
   ]
  },
  {
   "cell_type": "code",
   "execution_count": null,
   "metadata": {
    "dotnet_interactive": {
     "language": "pwsh"
    },
    "vscode": {
     "languageId": "dotnet-interactive.pwsh"
    }
   },
   "outputs": [
    {
     "name": "stdout",
     "output_type": "stream",
     "text": [
      "pipe1 |> Begin =>\r\n",
      "             Iters = 0\r\n",
      "             x = 10\r\n",
      "      => Process {\r\n",
      "             Iters = 1\r\n",
      "             x = 10\r\n",
      "pipe1 |> End => {\r\n",
      "             Iters = 1\r\n",
      "             x = 10\r\n"
     ]
    }
   ],
   "source": [
    "pipe1 10\n"
   ]
  },
  {
   "cell_type": "code",
   "execution_count": null,
   "metadata": {
    "dotnet_interactive": {
     "language": "pwsh"
    },
    "vscode": {
     "languageId": "dotnet-interactive.pwsh"
    }
   },
   "outputs": [
    {
     "name": "stdout",
     "output_type": "stream",
     "text": [
      "\n",
      "\r\n",
      "----------------------------------------\r\n",
      "\n",
      "\r\n",
      "pipe1 |> Begin =>\r\n",
      "             Iters = 0\r\n",
      "             x = \r\n",
      "      => Process {\r\n",
      "             Iters = 1\r\n",
      "             x = 100\r\n",
      "pipe1 |> End => {\r\n",
      "             Iters = 1\r\n",
      "             x = 100\r\n",
      "\n",
      "\r\n",
      "----------------------------------------\r\n",
      "\n",
      "\r\n",
      "pipe1 |> Begin =>\r\n",
      "             Iters = 0\r\n",
      "             x = \r\n",
      "      => Process {\r\n",
      "             Iters = 1\r\n",
      "             x = \r\n",
      "pipe1 |> End => {\r\n",
      "             Iters = 1\r\n",
      "             x = \r\n",
      "\n",
      "\r\n",
      "----------------------------------------\r\n",
      "\n",
      "\r\n"
     ]
    }
   ],
   "source": [
    "hr\n",
    "100 | pipe1\n",
    "hr\n",
    "\n",
    "pipe1\n",
    "hr\n"
   ]
  }
 ],
 "metadata": {
  "kernelspec": {
   "display_name": ".NET (PowerShell)",
   "language": "PowerShell",
   "name": ".net-pwsh"
  },
  "language_info": {
   "name": "PowerShell"
  }
 },
 "nbformat": 4,
 "nbformat_minor": 2
}
