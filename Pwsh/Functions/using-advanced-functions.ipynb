{
 "cells": [
  {
   "cell_type": "code",
   "execution_count": null,
   "metadata": {
    "dotnet_interactive": {
     "language": "pwsh"
    },
    "vscode": {
     "languageId": "dotnet-interactive.pwsh"
    }
   },
   "outputs": [
    {
     "name": "stdout",
     "output_type": "stream",
     "text": [
      "using Pwsh: v7.2.5\r\n",
      "last ran: 2022-07-21T11:43:34.8667947-05:00\r\n"
     ]
    }
   ],
   "source": [
    "Set-Alias 'js' 'Join-String' -desc 'notebook sugar'\n",
    "$PSVersionTable\n",
    "| Join-String -op 'using Pwsh: v' PSVersion\n",
    "\n",
    "Get-Date\n",
    "| Join-String -op 'last ran: ' -format '{0:o}' { $_ }"
   ]
  },
  {
   "cell_type": "code",
   "execution_count": null,
   "metadata": {
    "dotnet_interactive": {
     "language": "pwsh"
    },
    "vscode": {
     "languageId": "dotnet-interactive.pwsh"
    }
   },
   "outputs": [
    {
     "name": "stdout",
     "output_type": "stream",
     "text": [
      "0,1,2,3,4\r\n"
     ]
    }
   ],
   "source": [
    "0..4 | js -sep ',' "
   ]
  },
  {
   "cell_type": "markdown",
   "metadata": {},
   "source": [
    "## Function Declaration Grammar\n",
    "\n",
    "```ps1\n",
    "function [<scope:>]<name> [([type]$parameter1[,[type]$parameter2])] {\n",
    "    begin { <statement list> }\n",
    "    process { <statement list> }\n",
    "    end { <statement list> }\n",
    "}\n",
    "```\n",
    "Or\n",
    "```ps1\n",
    "function [<scope:>]<name> {\n",
    "    param( [type]$parameter1 [,[type]$parameter2] )\n",
    "    dynamicparam { <statement list> }\n",
    "    begin { <statement list> }\n",
    "    process { <statement list> }\n",
    "    end { <statement list> }\n",
    "}\n",
    "```\n",
    "## Script Blocks\n",
    "```ps1\n",
    "{\n",
    "    Param( [type]$Parameter1 [,[type]$Parameter2] )\n",
    "    <statement list>\n",
    "}\n",
    "```\n",
    "\n",
    "## See More\n",
    "  \n",
    "Help pages\n",
    "\n",
    "- [about_Splatting](https://docs.microsoft.com/en-us/powershell/module/microsoft.powershell.core/about/about_splatting?view=powershell-7.2#splatting-with-arrays) **important**\n",
    "- about_Automatic_Variables\n",
    "- about_Comment_Based_Help\n",
    "- [about_Functions](https://docs.microsoft.com/en-us/powershell/module/microsoft.powershell.core/about/about_functions?view=powershell-7.3)\n",
    "- about_Function_Provider\n",
    "- about_Functions_Advanced\n",
    "- about_Functions_Advanced_Methods\n",
    "- about_Functions_Advanced_Parameters\n",
    "- about_Functions_CmdletBindingAttribute\n",
    "- about_Functions_OutputTypeAttribute\n",
    "- [about_Parsing](https://docs.microsoft.com/en-us/powershell/module/microsoft.powershell.core/about/about_parsing?view=powershell-7.2)\n",
    "- about_Parameters\n",
    "- about_Profiles\n",
    "- about_Scopes\n",
    "- [about_Script_Blocks](https://docs.microsoft.com/en-us/powershell/module/microsoft.powershell.core/about/about_script_blocks?view=powershell-7.2)\n",
    "\n",
    "## more (to filter)\n",
    "\n",
    "- about_Command_syntax\n",
    "- about_Comment_Based_Help\n",
    "- about_CommonParameters\n",
    "- about_Functions_Advanced\n",
    "- about_Parameters_Default_Values\n",
    "- about_Pipelines\n",
    "- about_Wildcards\n",
    "\n"
   ]
  },
  {
   "cell_type": "markdown",
   "metadata": {},
   "source": [
    "function pipe1 {\n",
    "    \n",
    "}"
   ]
  },
  {
   "cell_type": "code",
   "execution_count": null,
   "metadata": {
    "dotnet_interactive": {
     "language": "pwsh"
    },
    "vscode": {
     "languageId": "dotnet-interactive.pwsh"
    }
   },
   "outputs": [],
   "source": [
    "# Helper funcs:\n",
    "if($true -or -not (gcm 'Hr' -ea ignore)){ \n",
    "    function Hr {\n",
    "        \"`n\"\n",
    "        '-' * 40 # [console]::WindowWidth\n",
    "        \"`n\"\n",
    "    }\n",
    "}"
   ]
  },
  {
   "cell_type": "code",
   "execution_count": null,
   "metadata": {
    "dotnet_interactive": {
     "language": "pwsh"
    },
    "vscode": {
     "languageId": "dotnet-interactive.pwsh"
    }
   },
   "outputs": [
    {
     "name": "stdout",
     "output_type": "stream",
     "text": [
      "\n",
      "\r\n",
      "----------------------------------------\r\n",
      "\n",
      "\r\n",
      "pipe1 |> Begin =>\r\n",
      "             x = 10\r\n",
      "      => Process\r\n",
      "             x = 10\r\n",
      "pipe1 |> End =>\r\n",
      "             x = 10\r\n",
      "\n",
      "\r\n",
      "----------------------------------------\r\n",
      "\n",
      "\r\n"
     ]
    }
   ],
   "source": [
    "function pipe1 {\n",
    "    param(\n",
    "        # from pipeline or not\n",
    "        [Parameter(ValueFromPipeline)]$InputObject\n",
    "    )\n",
    "    begin {\n",
    "        $Label = $MyInvocation.InvocationName\n",
    "        # \"$Label |> Begin => x = $InputObject\"\n",
    "        \"$Label |> Begin =>\"\n",
    "        \"             x = $InputObject\"    \n",
    "        # \"$Pre $Label -> Begin -> x = $InputObject\"\n",
    "    }\n",
    "    Process {\n",
    "        # \"      |> Process => \"  #x = $InputObject\"        \n",
    "        # \" ${fg:gray70}_____${fg:clear}  |> Process => \"  #x = $InputObject\"        \n",
    "        \"      => Process\"  #x = $InputObject\"        \n",
    "        \"             x = $InputObject\"        \n",
    "    }\n",
    "    end {\n",
    "        \"$Label |> End =>\"\n",
    "        \"             x = $InputObject\"    \n",
    "    }\n",
    "}\n",
    "\n",
    "hr\n",
    "pipe1 10\n",
    "hr"
   ]
  }
 ],
 "metadata": {
  "kernelspec": {
   "display_name": ".NET (PowerShell)",
   "language": "PowerShell",
   "name": ".net-pwsh"
  },
  "language_info": {
   "name": "PowerShell"
  }
 },
 "nbformat": 4,
 "nbformat_minor": 2
}
