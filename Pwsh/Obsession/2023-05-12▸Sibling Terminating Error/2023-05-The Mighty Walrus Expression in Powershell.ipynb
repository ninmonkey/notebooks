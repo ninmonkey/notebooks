{
 "cells": [
  {
   "attachments": {},
   "cell_type": "markdown",
   "metadata": {},
   "source": [
    "## About:\n",
    "\n",
    "Previous post: \"About Sibling Terminating errors\"\n",
    "\n",
    "For the context: I was messing with **walrus-expressions**, as shortand to declare paths relative to root without a temporary variable. [In Python, the walrus operator is super obvious `:=` ](https://docs.python.org/3/whatsnew/3.8.html) I'm calling the powershell variant an expression, because it's not a simple operator.\n",
    "\n",
    "\n",
    "\n",
    "\n",
    "```ps1\n",
    "$root = Get-Item '.'\n",
    "$App = @{ \n",
    "    Root = $AppRoot\n",
    "    Export = Join-Path $App.Root 'Export'\n",
    "    Config = Join-Path $App.Root 'data/user.json'\n",
    "}\n",
    "```\n",
    "\n",
    "```ps1\n",
    "<#\n",
    "try {\n",
    "    $ErrorActionPreference = 'stop'\n",
    "    & {\n",
    "        Remove-Variable -Name 'z', 'q' -ea Ignore\n",
    "        Write-Host -fg orange 'part1'\n",
    "        ( $z = @{ Root = Get-Item . } ) + @{ 'export' = Join-Path $z.root 'out.xlsx' } | Format-Table -AutoSize\n",
    "    } \n",
    "} catch { \n",
    "    'avoided the worst 🟢 '\n",
    "} \n",
    "\n",
    "$ErrorActionPreference = 'continue'\n",
    "& { \n",
    "    Remove-Variable -Name 'z', 'q' -ea Ignore\n",
    "    Write-Host -fg orange 'part2'\n",
    "   ( $z = @{ Root = Get-Item . } ) + @{ 'export' = Join-Path $z.root 'out.xlsx' } | Format-Table -AutoSize\n",
    "}\n",
    "#>\n",
    "```\n"
   ]
  },
  {
   "cell_type": "code",
   "execution_count": 2,
   "metadata": {
    "dotnet_interactive": {
     "language": "pwsh"
    },
    "polyglot_notebook": {
     "kernelName": "pwsh"
    }
   },
   "outputs": [
    {
     "name": "stdout",
     "output_type": "stream",
     "text": [
      "\n",
      "found: \"pwsh.exe\"\n"
     ]
    }
   ],
   "source": [
    "$binRg = $null ; $binPwsh = $null # extra cleanup because it's a notebook\n",
    "\n",
    "if( $binRg = gcm 'rg' -ea ignore -CommandType Application ) {\n",
    "    $binPwsh | Join-String -f 'found: \"{0}\"'\n",
    "}\n",
    "\n",
    "if( $binPwsh = gcm 'pwsh' -ea ignore -CommandType Application ) {\n",
    "    $binPwsh | Join-String -f 'found: \"{0}\"'\n",
    "}"
   ]
  },
  {
   "attachments": {},
   "cell_type": "markdown",
   "metadata": {},
   "source": []
  },
  {
   "cell_type": "code",
   "execution_count": null,
   "metadata": {
    "dotnet_interactive": {
     "language": "pwsh"
    },
    "polyglot_notebook": {
     "kernelName": "pwsh"
    }
   },
   "outputs": [],
   "source": []
  },
  {
   "attachments": {},
   "cell_type": "markdown",
   "metadata": {},
   "source": [
    "\n",
    "## Ex1: \n",
    "\n",
    "When you run:\n",
    "\n",
    "```ps1\n",
    "$a = $null \n",
    "$x = ++$a\n",
    "```\n",
    "\n",
    "| Step | Result |\n",
    "|-|-|\n",
    "| Sets | `a == 1` | \n",
    "| Outputs | `1` | \n",
    "\n",
    "## Ex2: \n",
    "\n",
    "When you run:\n",
    "\n",
    "```ps1\n",
    "$b = $null \n",
    "$y = $b++\n",
    "```\n",
    "\n",
    "| Step | Result |\n",
    "|-|-|\n",
    "| Outputs | 0 | \n",
    "| Sets | `b == 1` | \n"
   ]
  },
  {
   "attachments": {},
   "cell_type": "markdown",
   "metadata": {},
   "source": []
  },
  {
   "cell_type": "code",
   "execution_count": 30,
   "metadata": {
    "dotnet_interactive": {
     "language": "pwsh"
    },
    "polyglot_notebook": {
     "kernelName": "pwsh"
    }
   },
   "outputs": [
    {
     "name": "stdout",
     "output_type": "stream",
     "text": [
      "\n",
      "\u001b[32;1mName Value\u001b[0m\n",
      "\u001b[32;1m---- -----\u001b[0m\n",
      "x    1\n",
      "a    1\n",
      "y    0\n",
      "b    1\n",
      "\n"
     ]
    }
   ],
   "source": [
    "# ensuring the first operation is an implicit null value\n",
    "Remove-Variable 'a','b','x','y' -ea ignore\n",
    "\n",
    "$x = ++$a\n",
    "$y = $b++\n",
    "# $x,$y, $a, $b\n",
    "Get-Variable 'x', 'a', 'y', 'b' | ft -AutoSize"
   ]
  },
  {
   "attachments": {},
   "cell_type": "markdown",
   "metadata": {},
   "source": [
    "First, refresher on the output\n",
    "\n",
    "```ps1\n",
    "remove-variable 'x','y', 'i','j', 'a', 'b' -ea ignore\n",
    "$x = ++$a\n",
    "$y = $b++\n",
    "$x,$y, $a, $b\n",
    "```\n"
   ]
  },
  {
   "cell_type": "code",
   "execution_count": null,
   "metadata": {
    "dotnet_interactive": {
     "language": "pwsh"
    },
    "polyglot_notebook": {
     "kernelName": "pwsh"
    }
   },
   "outputs": [],
   "source": []
  },
  {
   "attachments": {},
   "cell_type": "markdown",
   "metadata": {},
   "source": [
    "\n",
    "the humble post/precomment\n",
    "\n",
    "```ps1\n",
    "$i = $Null # normally you'll see it implicitly\n",
    "$i++ # outputs nothing, sets i == 1\n",
    "```\n",
    "| Output? | nothing |\n",
    "| - | - |\n",
    "| Sets value | `i == 1` |\n",
    "\n"
   ]
  },
  {
   "cell_type": "code",
   "execution_count": null,
   "metadata": {
    "dotnet_interactive": {
     "language": "pwsh"
    },
    "polyglot_notebook": {
     "kernelName": "pwsh"
    }
   },
   "outputs": [],
   "source": []
  },
  {
   "cell_type": "code",
   "execution_count": 26,
   "metadata": {
    "dotnet_interactive": {
     "language": "pwsh"
    },
    "polyglot_notebook": {
     "kernelName": "pwsh"
    }
   },
   "outputs": [
    {
     "name": "stdout",
     "output_type": "stream",
     "text": [
      "\u001b[31;1mthe: \u001b[0m\n",
      "\u001b[31;1m\u001b[36;1mLine |\u001b[0m\n",
      "\u001b[31;1m\u001b[36;1m\u001b[36;1m   5 | \u001b[0m \u001b[36;1mthe\u001b[0m humble post/precomment\u001b[0m\n",
      "\u001b[31;1m\u001b[36;1m\u001b[36;1m\u001b[0m\u001b[36;1m\u001b[0m\u001b[36;1m     | \u001b[31;1m ~~~\u001b[0m\n",
      "\u001b[31;1m\u001b[36;1m\u001b[36;1m\u001b[0m\u001b[36;1m\u001b[0m\u001b[36;1m\u001b[31;1m\u001b[31;1m\u001b[36;1m     | \u001b[31;1mThe term 'the' is not recognized as a name of a cmdlet, function, script file, or executable program.\u001b[0m\n",
      "\u001b[31;1m\u001b[36;1m\u001b[36;1m\u001b[0m\u001b[36;1m\u001b[0m\u001b[36;1m\u001b[31;1m\u001b[31;1m\u001b[36;1m\u001b[31;1mCheck the spelling of the name, or if a path was included, verify that the path is correct and try again.\u001b[0m\n",
      "\u001b[31;1m`ps1: \u001b[0m\n",
      "\u001b[31;1m\u001b[36;1mLine |\u001b[0m\n",
      "\u001b[31;1m\u001b[36;1m\u001b[36;1m   7 | \u001b[0m \u001b[36;1m```ps1\u001b[0m\n",
      "\u001b[31;1m\u001b[36;1m\u001b[36;1m\u001b[0m\u001b[36;1m\u001b[0m\u001b[36;1m     | \u001b[31;1m ~~~~~~\u001b[0m\n",
      "\u001b[31;1m\u001b[36;1m\u001b[36;1m\u001b[0m\u001b[36;1m\u001b[0m\u001b[36;1m\u001b[31;1m\u001b[31;1m\u001b[36;1m     | \u001b[31;1mThe term '`ps1' is not recognized as a name of a cmdlet, function, script file, or executable program.\u001b[0m\n",
      "\u001b[31;1m\u001b[36;1m\u001b[36;1m\u001b[0m\u001b[36;1m\u001b[0m\u001b[36;1m\u001b[31;1m\u001b[31;1m\u001b[36;1m\u001b[31;1mCheck the spelling of the name, or if a path was included, verify that the path is correct and try again.\u001b[0m\n",
      "\u001b[31;1mdsf: \u001b[0m\n",
      "\u001b[31;1m\u001b[36;1mLine |\u001b[0m\n",
      "\u001b[31;1m\u001b[36;1m\u001b[36;1m   9 | \u001b[0m \u001b[36;1mdsf\u001b[0m\n",
      "\u001b[31;1m\u001b[36;1m\u001b[36;1m\u001b[0m\u001b[36;1m\u001b[0m\u001b[36;1m     | \u001b[31;1m ~~~\u001b[0m\n",
      "\u001b[31;1m\u001b[36;1m\u001b[36;1m\u001b[0m\u001b[36;1m\u001b[0m\u001b[36;1m\u001b[31;1m\u001b[31;1m\u001b[36;1m     | \u001b[31;1mThe term 'dsf' is not recognized as a name of a cmdlet, function, script file, or executable program.\u001b[0m\n",
      "\u001b[31;1m\u001b[36;1m\u001b[36;1m\u001b[0m\u001b[36;1m\u001b[0m\u001b[36;1m\u001b[31;1m\u001b[31;1m\u001b[36;1m\u001b[31;1mCheck the spelling of the name, or if a path was included, verify that the path is correct and try again.\u001b[0m\n",
      "\u001b[31;1m`: \u001b[0m\n",
      "\u001b[31;1m\u001b[36;1mLine |\u001b[0m\n",
      "\u001b[31;1m\u001b[36;1m\u001b[36;1m  10 | \u001b[0m \u001b[36;1m```\u001b[0m\n",
      "\u001b[31;1m\u001b[36;1m\u001b[36;1m\u001b[0m\u001b[36;1m\u001b[0m\u001b[36;1m     | \u001b[31;1m ~~~\u001b[0m\n",
      "\u001b[31;1m\u001b[36;1m\u001b[36;1m\u001b[0m\u001b[36;1m\u001b[0m\u001b[36;1m\u001b[31;1m\u001b[31;1m\u001b[36;1m     | \u001b[31;1mThe term '`' is not recognized as a name of a cmdlet, function, script file, or executable program.\u001b[0m\n",
      "\u001b[31;1m\u001b[36;1m\u001b[36;1m\u001b[0m\u001b[36;1m\u001b[0m\u001b[36;1m\u001b[31;1m\u001b[31;1m\u001b[36;1m\u001b[31;1mCheck the spelling of the name, or if a path was included, verify that the path is correct and try again.\u001b[0m\n"
     ]
    }
   ],
   "source": [
    "## Walrus `:=` examples\n",
    "\n",
    "### 1)\n",
    "\n",
    "the humble post/precomment\n",
    "\n",
    "```ps1\n",
    "$i++ # outputs nothing, sets i == 1\n",
    "dsf\n",
    "```\n",
    "\n",
    "\n",
    "\n"
   ]
  },
  {
   "cell_type": "code",
   "execution_count": 25,
   "metadata": {
    "dotnet_interactive": {
     "language": "pwsh"
    },
    "polyglot_notebook": {
     "kernelName": "pwsh"
    }
   },
   "outputs": [
    {
     "name": "stdout",
     "output_type": "stream",
     "text": [
      "\n",
      "Out.Hr [-Center]\n",
      "\n",
      "____________________________________________________________________________________________________\n"
     ]
    }
   ],
   "source": [
    "$silent = @{ ErrorAction = 'ignore' }\n",
    "Remove-Variable 'x', 'y' @silent # only used because it's a notebook\n",
    "\n",
    "$x++\n",
    "\n",
    "Out.Hr\n"
   ]
  }
 ],
 "metadata": {
  "kernelspec": {
   "display_name": ".NET (PowerShell)",
   "language": "PowerShell",
   "name": ".net-pwsh"
  },
  "language_info": {
   "name": "polyglot-notebook"
  },
  "polyglot_notebook": {
   "kernelInfo": {
    "defaultKernelName": "pwsh",
    "items": [
     {
      "aliases": [],
      "languageName": "pwsh",
      "name": "pwsh"
     }
    ]
   }
  }
 },
 "nbformat": 4,
 "nbformat_minor": 2
}
