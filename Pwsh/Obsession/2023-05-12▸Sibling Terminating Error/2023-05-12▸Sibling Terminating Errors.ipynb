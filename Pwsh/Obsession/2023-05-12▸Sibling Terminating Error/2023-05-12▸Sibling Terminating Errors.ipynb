{
 "cells": [
  {
   "attachments": {},
   "cell_type": "markdown",
   "metadata": {},
   "source": [
    "## About Sibling Terminating errors\n",
    "\n",
    "For the context: I was messing with **walrus-expressions**, as shortand to declare paths relative to root without a temporary variable.  (see next week)\n",
    "\n",
    "[In Python, the walrus operator is super obvious `:=` ](https://docs.python.org/3/whatsnew/3.8.html)\n",
    "```python\n",
    "\n",
    "```\n",
    "\n",
    "\n",
    "\n",
    "```ps1\n",
    "$root = Get-Item '.'\n",
    "$App = @{ \n",
    "    Root = $AppRoot\n",
    "    Export = Join-Path $App.Root 'Export'\n",
    "    Config = Join-Path $App.Root 'data/user.json'\n",
    "}\n",
    "```"
   ]
  },
  {
   "cell_type": "code",
   "execution_count": 1,
   "metadata": {
    "dotnet_interactive": {
     "language": "pwsh"
    },
    "polyglot_notebook": {
     "kernelName": "pwsh"
    }
   },
   "outputs": [
    {
     "name": "stdout",
     "output_type": "stream",
     "text": [
      "\u001b[48;2;37;114;123m\u001b[38;2;204;204;204madsfds\u001b[49m\u001b[39m\u001b[0m\n",
      "\u001b[48;2;255;0;0m\u001b[38;2;204;204;204madsfds\u001b[49m\u001b[39m\u001b[0m\n"
     ]
    }
   ],
   "source": [
    "# function Out.Help {\n",
    "#     gcm @silent 'Out.Host', 'Out.Hr' -Syntax | join-string -sep (hr 1 )\n",
    "# }\n",
    "\n",
    "function Out.Host {\n",
    "    # Sugar. not good a best practice, but sometimes you need to out before streams would\n",
    "    [CmdletBinding()]\n",
    "    param(          \n",
    "\n",
    "            [Parameter(Mandatory, ValueFromPipeline)]\n",
    "            $InputObject ,\n",
    "\n",
    "        [ArgumentCompletions(\n",
    "            'Orange', 'Blue', 'Red', 'Green', 'Yellow',\n",
    "            'Gray15', 'Gray30', 'Gray50', 'Gray60', 'Gray80')]\n",
    "        [Parameter(\n",
    "            Mandatory,\n",
    "             Position = 0)]\n",
    "        [string]$Fg = \"${fg:gray80}\", # #c97b52\n",
    "\n",
    "        [ArgumentCompletions(\n",
    "            'Orange', 'Blue', 'Red', 'Green', 'Yellow',\n",
    "            'Gray15', 'Gray30', 'Gray50', 'Gray60', 'Gray80')]\n",
    "        [Parameter(\n",
    "            # Mandatory,\n",
    "             Position = 1)]\n",
    "        # [string]$Bg = \"${bg:25727b}\", # #c97b52 #2572cb #25727b\n",
    "        [string]$Bg, # #c97b52 #2572cb #25727b\n",
    "\n",
    "        [hashtable]$Options = @{}\n",
    "        # ,\n",
    "\n",
    "        # [Parameter]\n",
    "        # $InputObject\n",
    "    )\n",
    "    process { \n",
    "        # $bg = $PSBoundparameter('Bg')\n",
    "        # when pipeline output would otherwise not output before error\n",
    "        # $bg ??= \"${fg:25727b}\"\n",
    "        # $PSBoundParameters\n",
    "        if(-not $Bg) {\n",
    "            $bg = 'red'\n",
    "        }\n",
    "        $Bg ??= \"${fg:25727b}\"\n",
    "        # $bg = \"${fg:25727b}\"\n",
    "        $inputObject | New-Text -fg $Fg -bg $Bg | Join-String -os $PSStyle.Reset| Out-Host\n",
    "    }\n",
    "}\n",
    "\n",
    "'adsfds' | Out.Host -fg gray80 -bg 25727b\n",
    "'adsfds' | Out.Host -fg gray80\n",
    "# 'adsfds' | Out.Host\n",
    "\n"
   ]
  },
  {
   "cell_type": "code",
   "execution_count": 2,
   "metadata": {
    "dotnet_interactive": {
     "language": "pwsh"
    },
    "polyglot_notebook": {
     "kernelName": "pwsh"
    }
   },
   "outputs": [
    {
     "name": "stdout",
     "output_type": "stream",
     "text": [
      "\u001b[48;2;37;114;123m\u001b[38;2;204;204;204madsfds\u001b[49m\u001b[39m\u001b[0m\n",
      "\u001b[48;2;255;0;0m\u001b[38;2;204;204;204madsfds\u001b[49m\u001b[39m\u001b[0m\n"
     ]
    }
   ],
   "source": [
    "\n",
    "function Out.Host-v1 {\n",
    "    # Sugar. not good a best practice, but sometimes you need to out before streams would\n",
    "    [CmdletBinding()]\n",
    "    param(          \n",
    "\n",
    "            [Parameter(Mandatory, ValueFromPipeline)]\n",
    "            $InputObject ,\n",
    "\n",
    "        [ArgumentCompletions(\n",
    "            'Orange', 'Blue', 'Red', 'Green', 'Yellow',\n",
    "            'Gray15', 'Gray30', 'Gray50', 'Gray60', 'Gray80')]\n",
    "        [Parameter(\n",
    "            Mandatory,\n",
    "             Position = 0)]\n",
    "        [string]$Fg = \"${fg:gray80}\", # #c97b52\n",
    "\n",
    "        [ArgumentCompletions(\n",
    "            'Orange', 'Blue', 'Red', 'Green', 'Yellow',\n",
    "            'Gray15', 'Gray30', 'Gray50', 'Gray60', 'Gray80')]\n",
    "        [Parameter(\n",
    "            # Mandatory,\n",
    "             Position = 1)]\n",
    "        # [string]$Bg = \"${bg:25727b}\", # #c97b52 #2572cb #25727b\n",
    "        [string]$Bg, # #c97b52 #2572cb #25727b\n",
    "\n",
    "        [hashtable]$Options = @{}\n",
    "        # ,\n",
    "\n",
    "        # [Parameter]\n",
    "        # $InputObject\n",
    "    )\n",
    "    process { \n",
    "        # when pipeline output would otherwise not output before error\n",
    "        # $bg ??= \"${fg:25727b}\"\n",
    "        # $PSBoundParameters\n",
    "        if(-not $Bg) {\n",
    "            $bg = 'blue'\n",
    "        }\n",
    "        # $bg = \"${fg:25727b}\"\n",
    "        $input | New-Text -fg $Fg -bg $Bg | Join-String -os $PSStyle.Reset| Out-Host\n",
    "    }\n",
    "}\n",
    "\n",
    "'adsfds' | Out.Host -fg gray80 -bg 25727b\n",
    "'adsfds' | Out.Host -fg gray80\n",
    "\n"
   ]
  },
  {
   "cell_type": "code",
   "execution_count": 13,
   "metadata": {
    "dotnet_interactive": {
     "language": "pwsh"
    },
    "polyglot_notebook": {
     "kernelName": "pwsh"
    }
   },
   "outputs": [
    {
     "name": "stdout",
     "output_type": "stream",
     "text": [
      "\u001b[31;1mParserError: \u001b[0m\n",
      "\u001b[31;1m\u001b[36;1mLine |\u001b[0m\n",
      "\u001b[31;1m\u001b[36;1m\u001b[36;1m   7 | \u001b[0m         ( \u001b[36;1m$z = @{ Root = Get-Item . }\u001b[0m ) += @{ 'export' = Join-Path $z …\u001b[0m\n",
      "\u001b[31;1m\u001b[36;1m\u001b[36;1m\u001b[0m\u001b[36;1m\u001b[0m\u001b[36;1m     | \u001b[31;1m           ~~~~~~~~~~~~~~~~~~~~~~~~~~~\u001b[0m\n",
      "\u001b[31;1m\u001b[36;1m\u001b[36;1m\u001b[0m\u001b[36;1m\u001b[0m\u001b[36;1m\u001b[31;1m\u001b[31;1m\u001b[36;1m     | \u001b[31;1mThe assignment expression is not valid. The input to an assignment operator must be an\u001b[0m\n",
      "\u001b[31;1m\u001b[36;1m\u001b[36;1m\u001b[0m\u001b[36;1m\u001b[0m\u001b[36;1m\u001b[31;1m\u001b[31;1m\u001b[36;1m\u001b[31;1m\u001b[36;1m     | \u001b[31;1mobject that is able to accept assignments, such as a variable or a property.\u001b[0m\n"
     ]
    }
   ],
   "source": [
    "\n",
    "try {\n",
    "    $ErrorActionPreference = 'stop'\n",
    "    & {\n",
    "        Remove-Variable -Name 'z', 'q' -ea Ignore\n",
    "        'part1' | New-Text -fg 'orange' | out-host\n",
    "        ( $z = @{ Root = Get-Item . } ) += @{ 'export' = Join-Path $z.root 'out.xlsx' } | Format-Table -AutoSize\n",
    "    } \n",
    "} catch { \n",
    "        'avoided the worst' | New-Text -fg 'green' | out-host\n",
    "    'avoided the worst 🟢 ' | Out-host\n",
    "} \n",
    "\n",
    "$ErrorActionPreference = 'continue'\n",
    "& { \n",
    "    Remove-Variable -Name 'z', 'q' -ea Ignore\n",
    "    'part2' | New-Text -fg 'orange' | out-host\n",
    "    Write-Host -fg orange 'part2'\n",
    "   ( $z = @{ Root = Get-Item . } ) + @{ 'export' = Join-Path $z.root 'out.xlsx' } | Format-Table -AutoSize\n",
    "}"
   ]
  },
  {
   "cell_type": "code",
   "execution_count": 14,
   "metadata": {
    "dotnet_interactive": {
     "language": "pwsh"
    },
    "polyglot_notebook": {
     "kernelName": "pwsh"
    }
   },
   "outputs": [
    {
     "name": "stdout",
     "output_type": "stream",
     "text": [
      "\n",
      "found: \"pwsh.exe\"\n"
     ]
    }
   ],
   "source": [
    "$binRg = $null ; $binPwsh = $null # extra cleanup because it's a notebook\n",
    "\n",
    "if( $binRg = gcm 'rg' -ea ignore -CommandType Application ) {\n",
    "    $binPwsh | Join-String -f 'found: \"{0}\"'\n",
    "}\n",
    "\n",
    "if( $binPwsh = gcm 'pwsh' -ea ignore -CommandType Application ) {\n",
    "    $binPwsh | Join-String -f 'found: \"{0}\"'\n",
    "}"
   ]
  },
  {
   "cell_type": "code",
   "execution_count": null,
   "metadata": {
    "dotnet_interactive": {
     "language": "pwsh"
    },
    "polyglot_notebook": {
     "kernelName": "pwsh"
    }
   },
   "outputs": [],
   "source": []
  },
  {
   "cell_type": "code",
   "execution_count": 30,
   "metadata": {
    "dotnet_interactive": {
     "language": "pwsh"
    },
    "polyglot_notebook": {
     "kernelName": "pwsh"
    }
   },
   "outputs": [
    {
     "name": "stdout",
     "output_type": "stream",
     "text": [
      "\u001b[31;1mdsfd: \u001b[31;1mThe term 'dsfd' is not recognized as a name of a cmdlet, function, script file, or executable program.\u001b[0m\n",
      "\u001b[31;1m\u001b[31;1mCheck the spelling of the name, or if a path was included, verify that the path is correct and try again.\u001b[0m\n"
     ]
    }
   ],
   "source": [
    "dsfd"
   ]
  }
 ],
 "metadata": {
  "kernelspec": {
   "display_name": ".NET (C#)",
   "language": "C#",
   "name": ".net-csharp"
  },
  "language_info": {
   "name": "polyglot-notebook"
  },
  "polyglot_notebook": {
   "kernelInfo": {
    "defaultKernelName": "csharp",
    "items": [
     {
      "aliases": [],
      "name": "csharp"
     },
     {
      "aliases": [],
      "languageName": "pwsh",
      "name": "pwsh"
     }
    ]
   }
  }
 },
 "nbformat": 4,
 "nbformat_minor": 2
}
