{
 "cells": [
  {
   "cell_type": "code",
   "execution_count": 1,
   "metadata": {
    "dotnet_interactive": {
     "language": "pwsh"
    },
    "polyglot_notebook": {
     "kernelName": "pwsh"
    }
   },
   "outputs": [],
   "source": [
    "$flags = [System.Reflection.BindingFlags]60 # is: Instance, Static, Public, NonPublic\n",
    "filter tosser { $MyInvocation.GetType().GetProperty('PipelineIterationInfo', 60).GetValue($MyInvocation) -join ', ' }\n",
    "filter generator { param( \n",
    "   [Parameter(ValueFromPipeline)][int]$Inputobject ) 1..$Inputobject }\n",
    "filter outer { 1..($args[0]) }\n",
    "filter inner { $_ | generator | tosser } "
   ]
  },
  {
   "cell_type": "code",
   "execution_count": 4,
   "metadata": {
    "dotnet_interactive": {
     "language": "pwsh"
    },
    "polyglot_notebook": {
     "kernelName": "pwsh"
    }
   },
   "outputs": [
    {
     "name": "stdout",
     "output_type": "stream",
     "text": [
      "1, 1\n",
      "2, 2\n",
      "3, 3\n",
      "4, 4\n",
      "5, 5\n"
     ]
    }
   ],
   "source": [
    "0..4 | tosser"
   ]
  },
  {
   "cell_type": "code",
   "execution_count": 5,
   "metadata": {
    "dotnet_interactive": {
     "language": "pwsh"
    },
    "polyglot_notebook": {
     "kernelName": "pwsh"
    }
   },
   "outputs": [
    {
     "name": "stdout",
     "output_type": "stream",
     "text": [
      "\n",
      "    1, 1, 0, 2, 2, 0, 3, 3, 0, 4, 4, 0\n",
      "\u001b[38;2;143;192;223m----------------------------------------------------------------------------------------------------\u001b[39m\n",
      "\n",
      "    1_1_0, 2_2_0, 3_3_0, 4_4_0\n"
     ]
    }
   ],
   "source": [
    "filter tosser { $MyInvocation.GetType().GetProperty('PipelineIterationInfo', 60).GetValue($MyInvocation)  -join ', ' }\n",
    "filter t2 {     $MyInvocation.GetType().GetProperty('PipelineIterationInfo', 60).GetValue( $MyInvocation ) -join '_' }\n",
    "0..3 | tosser | grid\n",
    "hr\n",
    "0..3 | t2 | grid\n"
   ]
  },
  {
   "cell_type": "code",
   "execution_count": 1,
   "metadata": {
    "dotnet_interactive": {
     "language": "pwsh"
    },
    "polyglot_notebook": {
     "kernelName": "pwsh"
    }
   },
   "outputs": [
    {
     "name": "stdout",
     "output_type": "stream",
     "text": [
      "\u001b[38;2;255;0;255m----------------------------------------------------------------------------------------------------\u001b[39m\n",
      "\n",
      "    1\u001b[38;2;102;102;102m\u001b[48;2;77;77;77m.\u001b[39m\u001b[49m1\u001b[38;2;102;102;102m\u001b[48;2;77;77;77m.\u001b[39m\u001b[49m0, 2\u001b[38;2;102;102;102m\u001b[48;2;77;77;77m.\u001b[39m\u001b[49m2\u001b[38;2;102;102;102m\u001b[48;2;77;77;77m.\u001b[39m\u001b[49m0, 3\u001b[38;2;102;102;102m\u001b[48;2;77;77;77m.\u001b[39m\u001b[49m3\u001b[38;2;102;102;102m\u001b[48;2;77;77;77m.\u001b[39m\u001b[49m0, 4\u001b[38;2;102;102;102m\u001b[48;2;77;77;77m.\u001b[39m\u001b[49m4\u001b[38;2;102;102;102m\u001b[48;2;77;77;77m.\u001b[39m\u001b[49m0\n",
      "\u001b[38;2;143;192;223m----------------------------------------------------------------------------------------------------\u001b[39m\n",
      "\n",
      "    1_1_0, 2_2_0, 3_3_0, 4_4_0\n",
      "\u001b[38;2;0;255;0m----------------------------------------------------------------------------------------------------\u001b[39m\n"
     ]
    }
   ],
   "source": [
    "$csv = \"${fg:gray40}${bg:gray30}.${fg:clear}${bg:clear}\"\n",
    "$flags = [System.Reflection.BindingFlags]60 # is: Instance, Static, Public, NonPublic\n",
    "filter tosser { $MyInvocation.GetType().GetProperty('PipelineIterationInfo', 60).GetValue($MyInvocation) -join $Csv }\n",
    "filter generator { param( \n",
    "   [Parameter(ValueFromPipeline)][int]$Inputobject ) 1..$Inputobject }\n",
    "filter outer { 1..($args[0]) }\n",
    "filter inner { $_ | generator | tosser } \n",
    "\n",
    "hr -fg Magenta\n",
    "\n",
    "filter tosser { $MyInvocation.GetType().GetProperty('PipelineIterationInfo', 60).GetValue($MyInvocation) -join $Csv }\n",
    "filter t2 {     $MyInvocation.GetType().GetProperty('PipelineIterationInfo', 60).GetValue( $MyInvocation ) -join '_' }\n",
    "0..3 | tosser | grid\n",
    "hr\n",
    "0..3 | t2 | grid\n",
    "\n",
    "hr -fg green"
   ]
  }
 ],
 "metadata": {
  "kernelspec": {
   "display_name": ".NET (PowerShell)",
   "language": "PowerShell",
   "name": ".net-pwsh"
  },
  "language_info": {
   "name": "polyglot-notebook"
  },
  "polyglot_notebook": {
   "kernelInfo": {
    "defaultKernelName": "pwsh",
    "items": [
     {
      "aliases": [],
      "languageName": "pwsh",
      "name": "pwsh"
     }
    ]
   }
  }
 },
 "nbformat": 4,
 "nbformat_minor": 2
}
