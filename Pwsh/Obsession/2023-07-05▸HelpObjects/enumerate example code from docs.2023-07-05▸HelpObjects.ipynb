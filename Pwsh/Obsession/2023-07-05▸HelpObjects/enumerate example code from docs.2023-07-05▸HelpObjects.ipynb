{
 "cells": [
  {
   "cell_type": "code",
   "execution_count": 2,
   "metadata": {
    "dotnet_interactive": {
     "language": "pwsh"
    },
    "polyglot_notebook": {
     "kernelName": "pwsh"
    }
   },
   "outputs": [
    {
     "name": "stdout",
     "output_type": "stream",
     "text": [
      "\u001b[38;2;76;197;240m\u001b[48;2;55;107;206m-Examples\u001b[0m\u001b[38;2;242;150;45m\u001b[48;2;54;43;31m 1 items\u001b[38;2;153;153;153m\u001b[0m\n",
      "\u001b[38;2;76;197;240m\u001b[48;2;55;107;206m-Examples .examples\u001b[0m\u001b[38;2;242;150;45m\u001b[48;2;54;43;31m 1 items\u001b[38;2;153;153;153m\u001b[0m\n",
      "\u001b[38;2;76;197;240m\u001b[48;2;55;107;206m-Examples .examples.example\u001b[0m\u001b[38;2;242;150;45m\u001b[48;2;54;43;31m 11 items\u001b[38;2;153;153;153m\u001b[0m\n"
     ]
    }
   ],
   "source": [
    "Import-module Dotils -force -ea 'stop' -wa 0\n",
    "# testing example objects\n",
    "$cmd = gcm 'gci'\n",
    "(Get-Command $cmd | Get-Help -Examples) | OutNull '-Examples'\n",
    "(Get-Command $cmd | Get-Help -Examples).examples | OutNull '-Examples .examples'\n",
    "(Get-Command $cmd | Get-Help -Examples).examples.example | OutNull '-Examples .examples.example'"
   ]
  }
 ],
 "metadata": {
  "kernelspec": {
   "display_name": ".NET (PowerShell)",
   "language": "PowerShell",
   "name": ".net-pwsh"
  },
  "language_info": {
   "name": "polyglot-notebook"
  },
  "polyglot_notebook": {
   "kernelInfo": {
    "defaultKernelName": "pwsh",
    "items": [
     {
      "aliases": [],
      "languageName": "pwsh",
      "name": "pwsh"
     }
    ]
   }
  }
 },
 "nbformat": 4,
 "nbformat_minor": 2
}
