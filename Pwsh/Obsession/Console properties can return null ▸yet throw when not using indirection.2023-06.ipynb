{
 "cells": [
  {
   "cell_type": "code",
   "execution_count": 14,
   "metadata": {
    "dotnet_interactive": {
     "language": "pwsh"
    },
    "polyglot_notebook": {
     "kernelName": "pwsh"
    }
   },
   "outputs": [
    {
     "name": "stdout",
     "output_type": "stream",
     "text": [
      "----------------------------------------------------------------------------------------------------\r\n"
     ]
    }
   ],
   "source": [
    "$w = $host.ui.RawUI.WindowSize.Width\n",
    "$chars = '-' * $w -join '' | write-host"
   ]
  },
  {
   "cell_type": "code",
   "execution_count": 15,
   "metadata": {
    "dotnet_interactive": {
     "language": "pwsh"
    },
    "polyglot_notebook": {
     "kernelName": "pwsh"
    }
   },
   "outputs": [
    {
     "name": "stdout",
     "output_type": "stream",
     "text": [
      "----------------------------------------------------------------------------------------------------\r\n"
     ]
    }
   ],
   "source": [
    "$w2 = $host.UI.RawUI.BufferSize.Width\n",
    "$chars = '-' * $w2 -join '' | write-host"
   ]
  },
  {
   "cell_type": "code",
   "execution_count": 16,
   "metadata": {
    "dotnet_interactive": {
     "language": "pwsh"
    },
    "polyglot_notebook": {
     "kernelName": "pwsh"
    }
   },
   "outputs": [
    {
     "name": "stdout",
     "output_type": "stream",
     "text": [
      "0, 1, 2, 3, 4\n",
      "\u001b[38;2;143;192;223m----------------------------------------------------------------------------------------------------\u001b[39m\n",
      "0, 1, 2, 3, 4\n"
     ]
    }
   ],
   "source": [
    "0..4 -join ', ' \n",
    "hr\n",
    "0..4 -join ', ' "
   ]
  },
  {
   "cell_type": "code",
   "execution_count": 23,
   "metadata": {
    "dotnet_interactive": {
     "language": "pwsh"
    },
    "polyglot_notebook": {
     "kernelName": "pwsh"
    }
   },
   "outputs": [
    {
     "name": "stdout",
     "output_type": "stream",
     "text": [
      "100\n",
      "100\n"
     ]
    }
   ],
   "source": [
    "$host.UI.RawUI.BufferSize.Width\n",
    "$host.ui.RawUI.WindowSize.Width\n",
    "# [Console]::BufferWidth\n"
   ]
  },
  {
   "cell_type": "code",
   "execution_count": 24,
   "metadata": {
    "dotnet_interactive": {
     "language": "pwsh"
    },
    "polyglot_notebook": {
     "kernelName": "pwsh"
    }
   },
   "outputs": [
    {
     "name": "stdout",
     "output_type": "stream",
     "text": [
      "\n",
      "   ReflectedType: \u001b[37mSystem\u001b[0m\u001b[90m.\u001b[0m\u001b[37mConsole\u001b[0m\n",
      "\n",
      "\u001b[32;1mName                  MemberType   Definition\u001b[0m\n",
      "\u001b[32;1m----                  ----------   ----------\u001b[0m\n",
      "ReadKey               Method       \n",
      "ReadKey               Method       \n",
      "ResetColor            Method       \n",
      "SetBufferSize         Method       \n",
      "SetWindowPosition     Method       \n",
      "SetWindowSize         Method       \n",
      "GetCursorPosition     Method       \n",
      "Beep                  Method       \n",
      "Beep                  Method       \n",
      "MoveBufferArea        Method       \n",
      "MoveBufferArea        Method       \n",
      "Clear                 Method       \n",
      "SetCursorPosition     Method       \n",
      "OpenStandardInput     Method       \n",
      "OpenStandardInput     Method       \n",
      "OpenStandardOutput    Method       \n",
      "OpenStandardOutput    Method       \n",
      "OpenStandardError     Method       \n",
      "OpenStandardError     Method       \n",
      "SetIn                 Method       \n",
      "SetOut                Method       \n",
      "SetError              Method       \n",
      "Read                  Method       \n",
      "ReadLine              Method       \n",
      "WriteLine             Method       \n",
      "WriteLine             Method       \n",
      "WriteLine             Method       \n",
      "WriteLine             Method       \n",
      "WriteLine             Method       \n",
      "WriteLine             Method       \n",
      "WriteLine             Method       \n",
      "WriteLine             Method       \n",
      "WriteLine             Method       \n",
      "WriteLine             Method       \n",
      "WriteLine             Method       \n",
      "WriteLine             Method       \n",
      "WriteLine             Method       \n",
      "WriteLine             Method       \n",
      "WriteLine             Method       \n",
      "WriteLine             Method       \n",
      "WriteLine             Method       \n",
      "WriteLine             Method       \n",
      "Write                 Method       \n",
      "Write                 Method       \n",
      "Write                 Method       \n",
      "Write                 Method       \n",
      "Write                 Method       \n",
      "Write                 Method       \n",
      "Write                 Method       \n",
      "Write                 Method       \n",
      "Write                 Method       \n",
      "Write                 Method       \n",
      "Write                 Method       \n",
      "Write                 Method       \n",
      "Write                 Method       \n",
      "Write                 Method       \n",
      "Write                 Method       \n",
      "Write                 Method       \n",
      "Write                 Method       \n",
      "In                    Property     \n",
      "InputEncoding         Property     \n",
      "OutputEncoding        Property     \n",
      "KeyAvailable          Property     \n",
      "Out                   Property     \n",
      "Error                 Property     \n",
      "IsInputRedirected     Property     \n",
      "IsOutputRedirected    Property     \n",
      "IsErrorRedirected     Property     \n",
      "CursorSize            Property     \n",
      "NumberLock            Property     \n",
      "CapsLock              Property     \n",
      "BackgroundColor       Property     \n",
      "ForegroundColor       Property     \n",
      "BufferWidth           Property     \n",
      "BufferHeight          Property     \n",
      "WindowLeft            Property     \n",
      "WindowTop             Property     \n",
      "WindowWidth           Property     \n",
      "WindowHeight          Property     \n",
      "LargestWindowWidth    Property     \n",
      "LargestWindowHeight   Property     \n",
      "CursorVisible         Property     \n",
      "CursorLeft            Property     \n",
      "CursorTop             Property     \n",
      "Title                 Property     \n",
      "TreatControlCAsInput  Property     \n",
      "CancelKeyPress        Event        \n",
      "\n"
     ]
    }
   ],
   "source": [
    "[Console] | Fime\n"
   ]
  },
  {
   "cell_type": "code",
   "execution_count": 25,
   "metadata": {
    "dotnet_interactive": {
     "language": "pwsh"
    },
    "polyglot_notebook": {
     "kernelName": "pwsh"
    }
   },
   "outputs": [
    {
     "name": "stdout",
     "output_type": "stream",
     "text": [
      "True\n",
      "True\n",
      "True\n"
     ]
    }
   ],
   "source": [
    "[Console]::IsErrorRedirected\n",
    "[Console]::IsInputRedirected\n",
    "[Console]::IsOutputRedirected"
   ]
  },
  {
   "cell_type": "code",
   "execution_count": 27,
   "metadata": {
    "dotnet_interactive": {
     "language": "pwsh"
    },
    "polyglot_notebook": {
     "kernelName": "pwsh"
    }
   },
   "outputs": [
    {
     "name": "stdout",
     "output_type": "stream",
     "text": [
      "\n",
      "\u001b[32;1mName                       Reported                           Value\u001b[0m\n",
      "\u001b[32;1m----                       --------                           -----                                \u001b[0m\n",
      "Assembly                   [\u001b[37mAssembly\u001b[0m]                        \u001b[0m System.Console, Version=7.0.0.0, Cul…\n",
      "AssemblyQualifiedName      [\u001b[92mstring\u001b[0m]                          \u001b[0m System.Console, System.Console, Vers…\n",
      "Attributes                 [\u001b[37mTypeAttributes\u001b[0m]                  \u001b[0m AutoLayout, AnsiClass, Class, Public…\n",
      "BaseType                   [\u001b[37mType\u001b[0m]                            \u001b[0m System.Object                        \n",
      "ContainsGenericParameters  [\u001b[92mbool\u001b[0m]                            \u001b[0m False                                \n",
      "CustomAttributes           [\u001b[37mIEnumerable\u001b[0m\u001b[90m<\u001b[0m\u001b[37mCustomAttributeData\u001b[0m\u001b[90m>\u001b[0m]\u001b[0m {[System.Runtime.CompilerServices.Nu…\n",
      "DeclaredConstructors       [\u001b[37mIEnumerable\u001b[0m\u001b[90m<\u001b[0m\u001b[37mConstructorInfo\u001b[0m\u001b[90m>\u001b[0m]    \u001b[0m {Void .cctor()}                      \n",
      "DeclaredEvents             [\u001b[37mIEnumerable\u001b[0m\u001b[90m<\u001b[0m\u001b[37mEventInfo\u001b[0m\u001b[90m>\u001b[0m]          \u001b[0m {System.ConsoleCancelEventHandler Ca…\n",
      "DeclaredFields             [\u001b[37mIEnumerable\u001b[0m\u001b[90m<\u001b[0m\u001b[37mFieldInfo\u001b[0m\u001b[90m>\u001b[0m]          \u001b[0m {s_syncObject, s_in, s_out, s_error…}\n",
      "DeclaredMembers            [\u001b[37mIEnumerable\u001b[0m\u001b[90m<\u001b[0m\u001b[37mMemberInfo\u001b[0m\u001b[90m>\u001b[0m]         \u001b[0m {System.IO.TextReader get_In(), Syst…\n",
      "DeclaredMethods            [\u001b[37mIEnumerable\u001b[0m\u001b[90m<\u001b[0m\u001b[37mMethodInfo\u001b[0m\u001b[90m>\u001b[0m]         \u001b[0m {System.IO.TextReader get_In(), Syst…\n",
      "DeclaredNestedTypes        [\u001b[37mIEnumerable\u001b[0m\u001b[90m<\u001b[0m\u001b[37mTypeInfo\u001b[0m\u001b[90m>\u001b[0m]           \u001b[0m {System.Console+<>O}                 \n",
      "DeclaredProperties         [\u001b[37mIEnumerable\u001b[0m\u001b[90m<\u001b[0m\u001b[37mPropertyInfo\u001b[0m\u001b[90m>\u001b[0m]       \u001b[0m {System.IO.TextReader In, System.Tex…\n",
      "DeclaringMethod            [\u001b[37mMethodBase\u001b[0m]                      \u001b[0m \u001b[38;2;119;119;119m<Blank>\u001b[0m                              \n",
      "DeclaringType              [\u001b[37mType\u001b[0m]                            \u001b[0m \u001b[38;2;119;119;119m<Blank>\u001b[0m                              \n",
      "DisplayString              [\u001b[92mstring\u001b[0m]                          \u001b[0m \u001b[92mpublic\u001b[0m \u001b[92mstatic\u001b[0m \u001b[92mclass\u001b[0m \u001b[37mConsole\u001b[0m\u001b[90m;\u001b[0m         \n",
      "FullName                   [\u001b[92mstring\u001b[0m]                          \u001b[0m System.Console                       \n",
      "GenericParameterAttributes [\u001b[37mGenericParameterAttributes\u001b[0m]      \u001b[0m \u001b[38;2;119;119;119m<Blank>\u001b[0m                              \n",
      "GenericParameterPosition   [\u001b[92mint\u001b[0m]                             \u001b[0m \u001b[38;2;119;119;119m<Blank>\u001b[0m                              \n",
      "GenericTypeArguments       [\u001b[37mType\u001b[0m\u001b[90m[\u001b[0m\u001b[90m]\u001b[0m]                          \u001b[0m \u001b[38;2;119;119;119m<Blank>\u001b[0m                              \n",
      "GenericTypeParameters      [\u001b[37mType\u001b[0m\u001b[90m[\u001b[0m\u001b[90m]\u001b[0m]                          \u001b[0m \u001b[38;2;119;119;119m<Blank>\u001b[0m                              \n",
      "GUID                       [\u001b[37mGuid\u001b[0m]                            \u001b[0m 4f303379-8d70-32fb-b99d-dea3ac660cb0 \n",
      "HasElementType             [\u001b[92mbool\u001b[0m]                            \u001b[0m False                                \n",
      "ImplementedInterfaces      [\u001b[37mIEnumerable\u001b[0m\u001b[90m<\u001b[0m\u001b[37mType\u001b[0m\u001b[90m>\u001b[0m]               \u001b[0m \u001b[38;2;119;119;119m<Blank>\u001b[0m                              \n",
      "IsAbstract                 [\u001b[92mbool\u001b[0m]                            \u001b[0m True                                 \n",
      "IsAnsiClass                [\u001b[92mbool\u001b[0m]                            \u001b[0m True                                 \n",
      "IsArray                    [\u001b[92mbool\u001b[0m]                            \u001b[0m False                                \n",
      "IsAutoClass                [\u001b[92mbool\u001b[0m]                            \u001b[0m False                                \n",
      "IsAutoLayout               [\u001b[92mbool\u001b[0m]                            \u001b[0m True                                 \n",
      "IsByRef                    [\u001b[92mbool\u001b[0m]                            \u001b[0m False                                \n",
      "IsByRefLike                [\u001b[92mbool\u001b[0m]                            \u001b[0m False                                \n",
      "IsClass                    [\u001b[92mbool\u001b[0m]                            \u001b[0m True                                 \n",
      "IsCollectible              [\u001b[92mbool\u001b[0m]                            \u001b[0m False                                \n",
      "IsCOMObject                [\u001b[92mbool\u001b[0m]                            \u001b[0m False                                \n",
      "IsConstructedGenericType   [\u001b[92mbool\u001b[0m]                            \u001b[0m False                                \n",
      "IsContextful               [\u001b[92mbool\u001b[0m]                            \u001b[0m False                                \n",
      "IsEnum                     [\u001b[92mbool\u001b[0m]                            \u001b[0m False                                \n",
      "IsExplicitLayout           [\u001b[92mbool\u001b[0m]                            \u001b[0m False                                \n",
      "IsGenericMethodParameter   [\u001b[92mbool\u001b[0m]                            \u001b[0m False                                \n",
      "IsGenericParameter         [\u001b[92mbool\u001b[0m]                            \u001b[0m False                                \n",
      "IsGenericType              [\u001b[92mbool\u001b[0m]                            \u001b[0m False                                \n",
      "IsGenericTypeDefinition    [\u001b[92mbool\u001b[0m]                            \u001b[0m False                                \n",
      "IsGenericTypeParameter     [\u001b[92mbool\u001b[0m]                            \u001b[0m False                                \n",
      "IsImport                   [\u001b[92mbool\u001b[0m]                            \u001b[0m False                                \n",
      "IsInterface                [\u001b[92mbool\u001b[0m]                            \u001b[0m False                                \n",
      "IsLayoutSequential         [\u001b[92mbool\u001b[0m]                            \u001b[0m False                                \n",
      "IsMarshalByRef             [\u001b[92mbool\u001b[0m]                            \u001b[0m False                                \n",
      "IsNested                   [\u001b[92mbool\u001b[0m]                            \u001b[0m False                                \n",
      "IsNestedAssembly           [\u001b[92mbool\u001b[0m]                            \u001b[0m False                                \n",
      "IsNestedFamANDAssem        [\u001b[92mbool\u001b[0m]                            \u001b[0m False                                \n",
      "IsNestedFamily             [\u001b[92mbool\u001b[0m]                            \u001b[0m False                                \n",
      "IsNestedFamORAssem         [\u001b[92mbool\u001b[0m]                            \u001b[0m False                                \n",
      "IsNestedPrivate            [\u001b[92mbool\u001b[0m]                            \u001b[0m False                                \n",
      "IsNestedPublic             [\u001b[92mbool\u001b[0m]                            \u001b[0m False                                \n",
      "IsNotPublic                [\u001b[92mbool\u001b[0m]                            \u001b[0m False                                \n",
      "IsPointer                  [\u001b[92mbool\u001b[0m]                            \u001b[0m False                                \n",
      "IsPrimitive                [\u001b[92mbool\u001b[0m]                            \u001b[0m False                                \n",
      "IsPublic                   [\u001b[92mbool\u001b[0m]                            \u001b[0m True                                 \n",
      "IsSealed                   [\u001b[92mbool\u001b[0m]                            \u001b[0m True                                 \n",
      "IsSecurityCritical         [\u001b[92mbool\u001b[0m]                            \u001b[0m True                                 \n",
      "IsSecuritySafeCritical     [\u001b[92mbool\u001b[0m]                            \u001b[0m False                                \n",
      "IsSecurityTransparent      [\u001b[92mbool\u001b[0m]                            \u001b[0m False                                \n",
      "IsSerializable             [\u001b[92mbool\u001b[0m]                            \u001b[0m False                                \n",
      "IsSignatureType            [\u001b[92mbool\u001b[0m]                            \u001b[0m False                                \n",
      "IsSpecialName              [\u001b[92mbool\u001b[0m]                            \u001b[0m False                                \n",
      "IsSZArray                  [\u001b[92mbool\u001b[0m]                            \u001b[0m False                                \n",
      "IsTypeDefinition           [\u001b[92mbool\u001b[0m]                            \u001b[0m True                                 \n",
      "IsUnicodeClass             [\u001b[92mbool\u001b[0m]                            \u001b[0m False                                \n",
      "IsValueType                [\u001b[92mbool\u001b[0m]                            \u001b[0m False                                \n",
      "IsVariableBoundArray       [\u001b[92mbool\u001b[0m]                            \u001b[0m False                                \n",
      "IsVisible                  [\u001b[92mbool\u001b[0m]                            \u001b[0m True                                 \n",
      "MemberType                 [\u001b[37mMemberTypes\u001b[0m]                     \u001b[0m TypeInfo                             \n",
      "MetadataToken              [\u001b[92mint\u001b[0m]                             \u001b[0m 33554456                             \n",
      "Module                     [\u001b[37mModule\u001b[0m]                          \u001b[0m System.Console.dll                   \n",
      "Name                       [\u001b[92mstring\u001b[0m]                          \u001b[0m Console                              \n",
      "Namespace                  [\u001b[92mstring\u001b[0m]                          \u001b[0m System                               \n",
      "ReflectedType              [\u001b[37mType\u001b[0m]                            \u001b[0m \u001b[38;2;119;119;119m<Blank>\u001b[0m                              \n",
      "StructLayoutAttribute      [\u001b[37mStructLayoutAttribute\u001b[0m]           \u001b[0m System.Runtime.InteropServices.Struc…\n",
      "TypeHandle                 [\u001b[37mRuntimeTypeHandle\u001b[0m]               \u001b[0m System.RuntimeTypeHandle             \n",
      "TypeInitializer            [\u001b[37mConstructorInfo\u001b[0m]                 \u001b[0m Void .cctor()                        \n",
      "UnderlyingSystemType       [\u001b[37mType\u001b[0m]                            \u001b[0m System.Console                       \n",
      "\n"
     ]
    }
   ],
   "source": [
    "[console] | iot2 -NotSkipMost"
   ]
  },
  {
   "cell_type": "code",
   "execution_count": 35,
   "metadata": {
    "dotnet_interactive": {
     "language": "pwsh"
    },
    "polyglot_notebook": {
     "kernelName": "pwsh"
    }
   },
   "outputs": [
    {
     "name": "stdout",
     "output_type": "stream",
     "text": [
      "\n",
      "\u001b[32;1mName                           Value\u001b[0m\n",
      "\u001b[32;1m----                           -----\u001b[0m\n",
      "In                             System.IO.SyncTextReader\n",
      "InputEncoding                  System.Text.UTF8Encoding\n",
      "OutputEncoding                 System.Text.UTF8Encoding\n",
      "KeyAvailable                   \u001b[38;2;102;102;102m<TrueNull>\u001b[0m\n",
      "Out                            System.IO.TextWriter+SyncTextWriter\n",
      "Error                          System.IO.TextWriter+SyncTextWriter\n",
      "IsInputRedirected              True\n",
      "IsOutputRedirected             True\n",
      "IsErrorRedirected              True\n",
      "CursorSize                     \u001b[38;2;102;102;102m<TrueNull>\u001b[0m\n",
      "NumberLock                     True\n",
      "CapsLock                       False\n",
      "BackgroundColor                Black\n",
      "ForegroundColor                Gray\n",
      "BufferWidth                    \u001b[38;2;102;102;102m<TrueNull>\u001b[0m\n",
      "BufferHeight                   \u001b[38;2;102;102;102m<TrueNull>\u001b[0m\n",
      "WindowLeft                     \u001b[38;2;102;102;102m<TrueNull>\u001b[0m\n",
      "WindowTop                      \u001b[38;2;102;102;102m<TrueNull>\u001b[0m\n",
      "WindowWidth                    \u001b[38;2;102;102;102m<TrueNull>\u001b[0m\n",
      "WindowHeight                   \u001b[38;2;102;102;102m<TrueNull>\u001b[0m\n",
      "LargestWindowWidth             0\n",
      "LargestWindowHeight            0\n",
      "CursorVisible                  \u001b[38;2;102;102;102m<TrueNull>\u001b[0m\n",
      "CursorLeft                     \u001b[38;2;102;102;102m<TrueNull>\u001b[0m\n",
      "CursorTop                      \u001b[38;2;102;102;102m<TrueNull>\u001b[0m\n",
      "Title                          C:\\Program Files\\dotnet\\dotnet.exe\n",
      "TreatControlCAsInput           \u001b[38;2;102;102;102m<TrueNull>\u001b[0m\n",
      "\u001b[38;2;242;150;45m\u001b[48;2;54;43;31m 27 items\u001b[38;2;153;153;153m\u001b[0m\n",
      "\n"
     ]
    }
   ],
   "source": [
    "$NullStr = \"${fg:gray40}<TrueNull>${fg:reset}\"\n",
    "$props = [console] | fime -MemberType Property | % Name\n",
    "$props | %{ \n",
    "    @{ $_ = \n",
    "        [Console]::$_ ?? $NullStr\n",
    "    }    \n",
    "} | CountOf\n"
   ]
  },
  {
   "cell_type": "code",
   "execution_count": 39,
   "metadata": {
    "dotnet_interactive": {
     "language": "pwsh"
    },
    "polyglot_notebook": {
     "kernelName": "pwsh"
    }
   },
   "outputs": [],
   "source": [
    "$zed = 'BufferWidth'\n",
    "[Console]::'BufferWidth'"
   ]
  }
 ],
 "metadata": {
  "kernelspec": {
   "display_name": ".NET (PowerShell)",
   "language": "PowerShell",
   "name": ".net-pwsh"
  },
  "language_info": {
   "name": "polyglot-notebook"
  },
  "polyglot_notebook": {
   "kernelInfo": {
    "defaultKernelName": "pwsh",
    "items": [
     {
      "aliases": [],
      "languageName": "pwsh",
      "name": "pwsh"
     }
    ]
   }
  }
 },
 "nbformat": 4,
 "nbformat_minor": 2
}
