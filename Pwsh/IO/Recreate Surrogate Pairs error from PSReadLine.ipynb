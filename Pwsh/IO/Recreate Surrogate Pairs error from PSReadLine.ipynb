{
 "cells": [
  {
   "cell_type": "code",
   "execution_count": null,
   "metadata": {
    "dotnet_interactive": {
     "language": "pwsh"
    },
    "polyglot_notebook": {
     "kernelName": "pwsh"
    }
   },
   "outputs": [],
   "source": [
    "[Text.Encoding]::GetEncoding('utf-16le').GetBytes('🐒')"
   ]
  },
  {
   "cell_type": "code",
   "execution_count": 11,
   "metadata": {
    "dotnet_interactive": {
     "language": "pwsh"
    },
    "polyglot_notebook": {
     "kernelName": "pwsh"
    }
   },
   "outputs": [],
   "source": [
    "$Enc16le = [Text.Encoding]::GetEncoding('Utf-16le')\n",
    "$EncUtf8 = [Text.Encoding]::GetEncoding('Utf-8')\n",
    "\n",
    "$MonkeyStr = '🐒'\n",
    "\n",
    "function CsvHex {\n",
    "   param(\n",
    "      [Parameter(ValueFromPipeline )]\n",
    "      $InObj )\n",
    "   process {\n",
    "      [object[]]$Nums =\n",
    "        if( $InObj -is [string] ) { $InObj.EnumerateRunes().Value -as [int[]] }\n",
    "        else { $InObj } # good enough for this\n",
    "\n",
    "        $nums | Join-String -f '{0:x}' -separator ', '\n",
    "    #   $Nums.ForEach({ $_.ToString('x') })\n",
    "        #   $InObj.ToString('x')\n",
    "        # ';sfSFD'.EnumerateRunes().value -as [int[]] | Join-String -f '{0:x}' -sep ', '\n",
    "   }\n",
    "}\n",
    "\n",
    "\n",
    "\n"
   ]
  },
  {
   "cell_type": "code",
   "execution_count": 18,
   "metadata": {
    "dotnet_interactive": {
     "language": "pwsh"
    },
    "polyglot_notebook": {
     "kernelName": "pwsh"
    }
   },
   "outputs": [
    {
     "name": "stdout",
     "output_type": "stream",
     "text": [
      "🐒\n",
      "f0, 9f, 90, 92\n"
     ]
    }
   ],
   "source": [
    "$Bytes_utf8 = $EncUtf8.GetBytes( $MonkeyStr )\n",
    "$MonkeyStr\n",
    "CsvHex -In $Bytes_utf8"
   ]
  }
 ],
 "metadata": {
  "kernelspec": {
   "display_name": ".NET (C#)",
   "language": "C#",
   "name": ".net-csharp"
  },
  "language_info": {
   "name": "polyglot-notebook"
  },
  "polyglot_notebook": {
   "kernelInfo": {
    "defaultKernelName": "csharp",
    "items": [
     {
      "aliases": [],
      "name": "csharp"
     }
    ]
   }
  }
 },
 "nbformat": 4,
 "nbformat_minor": 2
}
