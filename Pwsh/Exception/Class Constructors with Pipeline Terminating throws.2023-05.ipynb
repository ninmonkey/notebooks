{
 "cells": [
  {
   "attachments": {},
   "cell_type": "markdown",
   "metadata": {},
   "source": [
    "## Part 2\n",
    "\n",
    "## The final output\n",
    "\n",
    "```log\n",
    "New Employees: 6, Failed 3\n",
    "UserCreationException: InvalidIdOutOfRange Name: Albert Blanchard, Id: 0\n",
    "UserCreationException: InvalidIdOutOfRange Name: Dulce Atkinson, Id: 0\n",
    "UserCreationException: InvalidIdOutOfRange Name: Julian Arnold, Id: 0\n",
    "```\n",
    "\n",
    "### Which was rendered using\n",
    "\n",
    "```ps1\n",
    "'New Employees: {0}, Failed {1}' -f @( \n",
    "    $employees.Count\n",
    "    $error.count \n",
    ")\n",
    "$error | Join-String -sep \"`n\"\n",
    "```\n",
    "\n",
    "## While the pipeline processes, errors are visible\n",
    "\n",
    "```\n",
    "Write-Error: \n",
    "Line |\n",
    "  12 |    0..5  | %{\n",
    "     |    ~~~~~~~~~~\n",
    "     | UserCreationException: InvalidIdOutOfRange Name: Julian Arnold, Id: 0\n",
    "Write-Error: \n",
    "Line |\n",
    "  12 |    0..5  | %{\n",
    "     |    ~~~~~~~~~~\n",
    "     | UserCreationException: InvalidIdOutOfRange Name: Dulce Atkinson, Id: 0\n",
    "```\n",
    "\n"
   ]
  },
  {
   "cell_type": "code",
   "execution_count": 105,
   "metadata": {
    "dotnet_interactive": {
     "language": "pwsh"
    },
    "polyglot_notebook": {
     "kernelName": "pwsh"
    }
   },
   "outputs": [],
   "source": [
    "Import-Module 'NameIt'\n",
    "class User {\n",
    "    [string]$Name\n",
    "    [int]$Id    \n",
    "\n",
    "    User () { \n",
    "        $this.Name = Ig 'person'\n",
    "        $this.Id = Get-Random -Minimum -2 -Maximum 5\n",
    "\n",
    "        if($this.id -le 0) {  \n",
    "            $msg = 'UserCreationException: InvalidIdOutOfRange Name: {0}, Id: {1}' -f @(\n",
    "                $This.Name, $this.Id\n",
    "            )\n",
    "            throw $msg\n",
    "        }\n",
    "        \n",
    "    } \n",
    "}"
   ]
  },
  {
   "cell_type": "code",
   "execution_count": 100,
   "metadata": {
    "dotnet_interactive": {
     "language": "pwsh"
    },
    "polyglot_notebook": {
     "kernelName": "pwsh"
    }
   },
   "outputs": [
    {
     "name": "stdout",
     "output_type": "stream",
     "text": [
      "last run: 0\r\n"
     ]
    }
   ],
   "source": [
    "# otherwise here the pipeline is terminated:\n",
    "# failed_employees.count is always 0\n",
    "# losing good records\n",
    "$failed_employees.count | Join-String -op 'last run: '\n",
    "$failed_employees = @( \n",
    "   0..5 | %{ \n",
    "        [User]::new() } )\n"
   ]
  },
  {
   "cell_type": "code",
   "execution_count": 102,
   "metadata": {
    "dotnet_interactive": {
     "language": "pwsh"
    },
    "polyglot_notebook": {
     "kernelName": "pwsh"
    }
   },
   "outputs": [],
   "source": [
    "function New-Employee { \n",
    "    # pipeline partial failures\n",
    "    # throw in the Ctor would normally end with\n",
    "    # pipeline terminating errors.\n",
    "    # Mini New-Employee command can keep any good instances\n",
    "    try {\n",
    "        [User]::new()\n",
    "    } catch {\n",
    "        write-error -ErrorRecord $_ 'NewExployeeFailedException' \n",
    "    }\n",
    "}"
   ]
  },
  {
   "attachments": {},
   "cell_type": "markdown",
   "metadata": {},
   "source": [
    "### Capture Valid Users, Write Exceptions for failures\n"
   ]
  },
  {
   "cell_type": "code",
   "execution_count": 104,
   "metadata": {
    "dotnet_interactive": {
     "language": "pwsh"
    },
    "polyglot_notebook": {
     "kernelName": "pwsh"
    }
   },
   "outputs": [
    {
     "name": "stdout",
     "output_type": "stream",
     "text": [
      "\u001b[31;1mWrite-Error: \u001b[0m\n",
      "\u001b[31;1m\u001b[36;1mLine |\u001b[0m\n",
      "\u001b[31;1m\u001b[36;1m\u001b[36;1m   9 | \u001b[0m         \u001b[36;1mwrite-error -ErrorRecord $_ 'NewExployeeFailedException'\u001b[0m\n",
      "\u001b[31;1m\u001b[36;1m\u001b[36;1m\u001b[0m\u001b[36;1m\u001b[0m\u001b[36;1m     | \u001b[31;1m         ~~~~~~~~~~~~~~~~~~~~~~~~~~~~~~~~~~~~~~~~~~~~~~~~~~~~~~~~\u001b[0m\n",
      "\u001b[31;1m\u001b[36;1m\u001b[36;1m\u001b[0m\u001b[36;1m\u001b[0m\u001b[36;1m\u001b[31;1m\u001b[31;1m\u001b[36;1m     | \u001b[31;1mA positional parameter cannot be found that accepts argument 'NewExployeeFailedException'.\u001b[0m\n",
      "\u001b[31;1mWrite-Error: \u001b[0m\n",
      "\u001b[31;1m\u001b[36;1mLine |\u001b[0m\n",
      "\u001b[31;1m\u001b[36;1m\u001b[36;1m   9 | \u001b[0m         \u001b[36;1mwrite-error -ErrorRecord $_ 'NewExployeeFailedException'\u001b[0m\n",
      "\u001b[31;1m\u001b[36;1m\u001b[36;1m\u001b[0m\u001b[36;1m\u001b[0m\u001b[36;1m     | \u001b[31;1m         ~~~~~~~~~~~~~~~~~~~~~~~~~~~~~~~~~~~~~~~~~~~~~~~~~~~~~~~~\u001b[0m\n",
      "\u001b[31;1m\u001b[36;1m\u001b[36;1m\u001b[0m\u001b[36;1m\u001b[0m\u001b[36;1m\u001b[31;1m\u001b[31;1m\u001b[36;1m     | \u001b[31;1mA positional parameter cannot be found that accepts argument 'NewExployeeFailedException'.\u001b[0m\n",
      "\u001b[31;1mWrite-Error: \u001b[0m\n",
      "\u001b[31;1m\u001b[36;1mLine |\u001b[0m\n",
      "\u001b[31;1m\u001b[36;1m\u001b[36;1m   9 | \u001b[0m         \u001b[36;1mwrite-error -ErrorRecord $_ 'NewExployeeFailedException'\u001b[0m\n",
      "\u001b[31;1m\u001b[36;1m\u001b[36;1m\u001b[0m\u001b[36;1m\u001b[0m\u001b[36;1m     | \u001b[31;1m         ~~~~~~~~~~~~~~~~~~~~~~~~~~~~~~~~~~~~~~~~~~~~~~~~~~~~~~~~\u001b[0m\n",
      "\u001b[31;1m\u001b[36;1m\u001b[36;1m\u001b[0m\u001b[36;1m\u001b[0m\u001b[36;1m\u001b[31;1m\u001b[31;1m\u001b[36;1m     | \u001b[31;1mA positional parameter cannot be found that accepts argument 'NewExployeeFailedException'.\u001b[0m\n",
      "\u001b[31;1mWrite-Error: \u001b[0m\n",
      "\u001b[31;1m\u001b[36;1mLine |\u001b[0m\n",
      "\u001b[31;1m\u001b[36;1m\u001b[36;1m   9 | \u001b[0m         \u001b[36;1mwrite-error -ErrorRecord $_ 'NewExployeeFailedException'\u001b[0m\n",
      "\u001b[31;1m\u001b[36;1m\u001b[36;1m\u001b[0m\u001b[36;1m\u001b[0m\u001b[36;1m     | \u001b[31;1m         ~~~~~~~~~~~~~~~~~~~~~~~~~~~~~~~~~~~~~~~~~~~~~~~~~~~~~~~~\u001b[0m\n",
      "\u001b[31;1m\u001b[36;1m\u001b[36;1m\u001b[0m\u001b[36;1m\u001b[0m\u001b[36;1m\u001b[31;1m\u001b[31;1m\u001b[36;1m     | \u001b[31;1mA positional parameter cannot be found that accepts argument 'NewExployeeFailedException'.\u001b[0m\n",
      "New Employees: 6, Failed 8\n",
      "A positional parameter cannot be found that accepts argument 'NewExployeeFailedException'.\n",
      "UserCreationException: InvalidIdOutOfRange Name: Emilee Roth, Id: -1\n",
      "A positional parameter cannot be found that accepts argument 'NewExployeeFailedException'.\n",
      "UserCreationException: InvalidIdOutOfRange Name: Jacoby Erickson, Id: 0\n",
      "A positional parameter cannot be found that accepts argument 'NewExployeeFailedException'.\n",
      "UserCreationException: InvalidIdOutOfRange Name: Kallie Morgan, Id: 0\n",
      "A positional parameter cannot be found that accepts argument 'NewExployeeFailedException'.\n",
      "UserCreationException: InvalidIdOutOfRange Name: Jaidyn Ayers, Id: 0\n"
     ]
    }
   ],
   "source": [
    "$error.clear() # only because it's a demo\n",
    "$failedEmployees = $null \n",
    "\n",
    "$failedEmployees = @(\n",
    "    0..5 | %{ New-Employee $_ }\n",
    ")\n",
    "'New Employees: {0}, Failed {1}' -f @( \n",
    "    $employees.Count\n",
    "    $error.count \n",
    ")\n",
    "$error | Join-String -sep \"`n\""
   ]
  },
  {
   "cell_type": "code",
   "execution_count": 87,
   "metadata": {
    "dotnet_interactive": {
     "language": "pwsh"
    },
    "polyglot_notebook": {
     "kernelName": "pwsh"
    }
   },
   "outputs": [
    {
     "name": "stdout",
     "output_type": "stream",
     "text": [
      "\u001b[31;1mWrite-Error: \u001b[0m\n",
      "\u001b[31;1m\u001b[36;1mLine |\u001b[0m\n",
      "\u001b[31;1m\u001b[36;1m\u001b[36;1m   8 | \u001b[0m          \u001b[36;1mwrite-error -ErrorRecord $_ 'NewExployeeException: Failed!'\u001b[0m  …\u001b[0m\n",
      "\u001b[31;1m\u001b[36;1m\u001b[36;1m\u001b[0m\u001b[36;1m\u001b[0m\u001b[36;1m     | \u001b[31;1m          ~~~~~~~~~~~~~~~~~~~~~~~~~~~~~~~~~~~~~~~~~~~~~~~~~~~~~~~~~~~\u001b[0m\n",
      "\u001b[31;1m\u001b[36;1m\u001b[36;1m\u001b[0m\u001b[36;1m\u001b[0m\u001b[36;1m\u001b[31;1m\u001b[31;1m\u001b[36;1m     | \u001b[31;1mA positional parameter cannot be found that accepts argument 'NewExployeeException: Failed!'.\u001b[0m\n",
      "\u001b[31;1mWrite-Error: \u001b[0m\n",
      "\u001b[31;1m\u001b[36;1mLine |\u001b[0m\n",
      "\u001b[31;1m\u001b[36;1m\u001b[36;1m   8 | \u001b[0m          \u001b[36;1mwrite-error -ErrorRecord $_ 'NewExployeeException: Failed!'\u001b[0m  …\u001b[0m\n",
      "\u001b[31;1m\u001b[36;1m\u001b[36;1m\u001b[0m\u001b[36;1m\u001b[0m\u001b[36;1m     | \u001b[31;1m          ~~~~~~~~~~~~~~~~~~~~~~~~~~~~~~~~~~~~~~~~~~~~~~~~~~~~~~~~~~~\u001b[0m\n",
      "\u001b[31;1m\u001b[36;1m\u001b[36;1m\u001b[0m\u001b[36;1m\u001b[0m\u001b[36;1m\u001b[31;1m\u001b[31;1m\u001b[36;1m     | \u001b[31;1mA positional parameter cannot be found that accepts argument 'NewExployeeException: Failed!'.\u001b[0m\n",
      "\u001b[31;1mWrite-Error: \u001b[0m\n",
      "\u001b[31;1m\u001b[36;1mLine |\u001b[0m\n",
      "\u001b[31;1m\u001b[36;1m\u001b[36;1m   8 | \u001b[0m          \u001b[36;1mwrite-error -ErrorRecord $_ 'NewExployeeException: Failed!'\u001b[0m  …\u001b[0m\n",
      "\u001b[31;1m\u001b[36;1m\u001b[36;1m\u001b[0m\u001b[36;1m\u001b[0m\u001b[36;1m     | \u001b[31;1m          ~~~~~~~~~~~~~~~~~~~~~~~~~~~~~~~~~~~~~~~~~~~~~~~~~~~~~~~~~~~\u001b[0m\n",
      "\u001b[31;1m\u001b[36;1m\u001b[36;1m\u001b[0m\u001b[36;1m\u001b[0m\u001b[36;1m\u001b[31;1m\u001b[31;1m\u001b[36;1m     | \u001b[31;1mA positional parameter cannot be found that accepts argument 'NewExployeeException: Failed!'.\u001b[0m\n",
      "\u001b[31;1mWrite-Error: \u001b[0m\n",
      "\u001b[31;1m\u001b[36;1mLine |\u001b[0m\n",
      "\u001b[31;1m\u001b[36;1m\u001b[36;1m   8 | \u001b[0m          \u001b[36;1mwrite-error -ErrorRecord $_ 'NewExployeeException: Failed!'\u001b[0m  …\u001b[0m\n",
      "\u001b[31;1m\u001b[36;1m\u001b[36;1m\u001b[0m\u001b[36;1m\u001b[0m\u001b[36;1m     | \u001b[31;1m          ~~~~~~~~~~~~~~~~~~~~~~~~~~~~~~~~~~~~~~~~~~~~~~~~~~~~~~~~~~~\u001b[0m\n",
      "\u001b[31;1m\u001b[36;1m\u001b[36;1m\u001b[0m\u001b[36;1m\u001b[0m\u001b[36;1m\u001b[31;1m\u001b[31;1m\u001b[36;1m     | \u001b[31;1mA positional parameter cannot be found that accepts argument 'NewExployeeException: Failed!'.\u001b[0m\n",
      "\u001b[31;1mWrite-Error: \u001b[0m\n",
      "\u001b[31;1m\u001b[36;1mLine |\u001b[0m\n",
      "\u001b[31;1m\u001b[36;1m\u001b[36;1m   8 | \u001b[0m          \u001b[36;1mwrite-error -ErrorRecord $_ 'NewExployeeException: Failed!'\u001b[0m  …\u001b[0m\n",
      "\u001b[31;1m\u001b[36;1m\u001b[36;1m\u001b[0m\u001b[36;1m\u001b[0m\u001b[36;1m     | \u001b[31;1m          ~~~~~~~~~~~~~~~~~~~~~~~~~~~~~~~~~~~~~~~~~~~~~~~~~~~~~~~~~~~\u001b[0m\n",
      "\u001b[31;1m\u001b[36;1m\u001b[36;1m\u001b[0m\u001b[36;1m\u001b[0m\u001b[36;1m\u001b[31;1m\u001b[31;1m\u001b[36;1m     | \u001b[31;1mA positional parameter cannot be found that accepts argument 'NewExployeeException: Failed!'.\u001b[0m\n",
      "New Employees: 1, Failed 10\n",
      "A positional parameter cannot be found that accepts argument 'NewExployeeException: Failed!'.\n",
      "UserCreationException: InvalidIdOutOfRange Name: Terrance Thompson, Id: 0\n",
      "A positional parameter cannot be found that accepts argument 'NewExployeeException: Failed!'.\n",
      "UserCreationException: InvalidIdOutOfRange Name: Stephen Torres, Id: -1\n",
      "A positional parameter cannot be found that accepts argument 'NewExployeeException: Failed!'.\n",
      "UserCreationException: InvalidIdOutOfRange Name: June Duke, Id: -1\n",
      "A positional parameter cannot be found that accepts argument 'NewExployeeException: Failed!'.\n",
      "UserCreationException: InvalidIdOutOfRange Name: Amber Caldwell, Id: -2\n",
      "A positional parameter cannot be found that accepts argument 'NewExployeeException: Failed!'.\n",
      "UserCreationException: InvalidIdOutOfRange Name: Raelynn Petersen, Id: 0\n"
     ]
    }
   ],
   "source": [
    "$employees = $Null\n",
    "$error.clear() # normally you wouldn't \n",
    "$employees = @( \n",
    "  0..5  | %{ \n",
    "     try {\n",
    "         [User]::new()\n",
    "     } catch { \n",
    "         write-error -ErrorRecord $_ 'NewExployeeException: Failed!' }\n",
    "     }\n",
    ")\n",
    "'New Employees: {0}, Failed {1}' -f @( \n",
    "    $employees.Count\n",
    "    $error.count \n",
    ")\n",
    "$error | Join-String -sep \"`n\""
   ]
  },
  {
   "cell_type": "markdown",
   "metadata": {},
   "source": [
    "## Part 1"
   ]
  },
  {
   "cell_type": "code",
   "execution_count": 88,
   "metadata": {
    "dotnet_interactive": {
     "language": "pwsh"
    },
    "polyglot_notebook": {
     "kernelName": "pwsh"
    }
   },
   "outputs": [],
   "source": [
    "Import-Module 'NameIt'\n",
    "\n",
    "class User {\n",
    "    [string]$Name\n",
    "    [int]$Id    \n",
    "\n",
    "    User () { \n",
    "        $this.Name = Ig 'person'\n",
    "        $this.Id = Get-Random -Minimum -2 -Maximum 5\n",
    "\n",
    "        if($this.id -le 0) {  \n",
    "            $msg = 'UserCreationException: InvalidIdOutOfRange Name: {0}, Id: {1}' -f @(\n",
    "                $This.Name, $this.Id\n",
    "            )\n",
    "            throw $msg\n",
    "        }\n",
    "        \n",
    "    } \n",
    "}"
   ]
  },
  {
   "cell_type": "code",
   "execution_count": 89,
   "metadata": {
    "dotnet_interactive": {
     "language": "pwsh"
    },
    "polyglot_notebook": {
     "kernelName": "pwsh"
    }
   },
   "outputs": [
    {
     "name": "stdout",
     "output_type": "stream",
     "text": [
      "\u001b[31;1mInvalidOperation: \u001b[0m\n",
      "\u001b[31;1m\u001b[36;1mLine |\u001b[0m\n",
      "\u001b[31;1m\u001b[36;1m\u001b[36;1m   7 | \u001b[0m \u001b[36;1m'Created {0] employees' -f @(\u001b[0m\n",
      "\u001b[31;1m\u001b[36;1m\u001b[36;1m\u001b[0m\u001b[36;1m\u001b[0m\u001b[36;1m     | \u001b[31;1m ~~~~~~~~~~~~~~~~~~~~~~~~~~~~~\u001b[0m\n",
      "\u001b[31;1m\u001b[36;1m\u001b[36;1m\u001b[0m\u001b[36;1m\u001b[0m\u001b[36;1m\u001b[31;1m\u001b[31;1m\u001b[36;1m     | \u001b[31;1mError formatting a string: Input string was not in a correct format..\u001b[0m\n",
      "6\n"
     ]
    }
   ],
   "source": [
    "\n",
    "$employees = @( \n",
    "  0..5 | %{ \n",
    "     [User]::new()  \n",
    "  }\n",
    ")\n",
    "'Created {0] employees' -f @( \n",
    "    $employees.count\n",
    ")\n",
    "$employees.count"
   ]
  },
  {
   "cell_type": "code",
   "execution_count": 90,
   "metadata": {
    "dotnet_interactive": {
     "language": "pwsh"
    },
    "polyglot_notebook": {
     "kernelName": "pwsh"
    }
   },
   "outputs": [],
   "source": [
    "Import-Module 'NameIt'\n",
    "\n",
    "class User2 {\n",
    "    [string]$Name\n",
    "    [int]$Id    \n",
    "    User () { \n",
    "        $this.Name = Ig 'person'\n",
    "        $this.Id = Get-Random -Minimum -2 -Maximum 5\n",
    "        if($this.id -le 0) {  \n",
    "            [Exception]\n",
    "            $msg = 'FileCreationException: InvalidIdOutOfRange Name: {0}, Id: {1}' -f @(\n",
    "                $This.Name, $this.Id\n",
    "            )\n",
    "            write-error $msg\n",
    "        }\n",
    "        \n",
    "    } \n",
    "}"
   ]
  }
 ],
 "metadata": {
  "kernelspec": {
   "display_name": ".NET (PowerShell)",
   "language": "PowerShell",
   "name": ".net-pwsh"
  },
  "language_info": {
   "name": "polyglot-notebook"
  },
  "polyglot_notebook": {
   "kernelInfo": {
    "defaultKernelName": "pwsh",
    "items": [
     {
      "aliases": [],
      "languageName": "pwsh",
      "name": "pwsh"
     }
    ]
   }
  }
 },
 "nbformat": 4,
 "nbformat_minor": 2
}
