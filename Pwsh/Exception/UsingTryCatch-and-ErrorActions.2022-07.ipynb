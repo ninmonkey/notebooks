{
 "cells": [
  {
   "cell_type": "code",
   "execution_count": null,
   "metadata": {
    "dotnet_interactive": {
     "language": "pwsh"
    },
    "vscode": {
     "languageId": "dotnet-interactive.pwsh"
    }
   },
   "outputs": [],
   "source": [
    "\n",
    "\n",
    "function LoadConfig {\n",
    "    [CmdletBinding()]\n",
    "    param(\n",
    "       [string]$OptionalConfig,\n",
    "       [string]$RequiredConfig\n",
    "    )\n",
    "\n",
    "    if(Test-Path $OptionalConfig) {\n",
    "        $Optional = Get-Item $RequiredConfig -ea SilentlyContinue\n",
    "        write-verbose \"loaded optional config: '$OptionalConfig'\"\n",
    "        \n",
    "    } \n",
    "\n",
    "    \n",
    "    $Required = Get-Item $RequiredConfig -ea stop\n",
    "    write-verbose \"loaded optional config: '$RequiredConfig'\"\n",
    "\n",
    "    Write-Verbose 'Fully loaded required files'\n",
    "}\n",
    "\n",
    "LoadConfig -OptionalConfig 'defaults.json' -RequiredConfig 'required.json' -Verbose"
   ]
  },
  {
   "cell_type": "code",
   "execution_count": null,
   "metadata": {
    "dotnet_interactive": {
     "language": "pwsh"
    },
    "vscode": {
     "languageId": "dotnet-interactive.pwsh"
    }
   },
   "outputs": [],
   "source": [
    "# generate fake files if not existing\n",
    "New-Item -ItemType File -Path 'temp:\\required.json' -ea ignore\n",
    "New-Item -ItemType File -Path 'temp:\\optional.json' -ea ignore"
   ]
  },
  {
   "cell_type": "code",
   "execution_count": null,
   "metadata": {
    "dotnet_interactive": {
     "language": "pwsh"
    },
    "vscode": {
     "languageId": "dotnet-interactive.pwsh"
    }
   },
   "outputs": [
    {
     "name": "stdout",
     "output_type": "stream",
     "text": [
      "\r\n",
      "    Directory: C:\\Temp\r\n",
      "\r\n",
      "\u001b[32;1mMode                 LastWriteTime         Length Name\u001b[0m\r\n",
      "\u001b[32;1m----                 -------------         ------ ----\u001b[0m\r\n",
      "-a---           3/28/2022  7:24 PM             24 temp1.json\r\n",
      "-a---           3/28/2022  7:24 PM             29 temp2.json\r\n",
      "-a---           3/28/2022  7:25 PM             29 test.json\r\n",
      "\r\n"
     ]
    }
   ],
   "source": [
    "$RequiredFiles = Get-Item 'temp:\\required.json'\n",
    "$Optional = Get-Item 'temp:\\optional.json' -ea ignore\n",
    "$Optional2 = Get-Item 'temp:\\optional-broke.json' -ea ignore\n",
    "\n",
    "if( $Optional ) { \n",
    "    'found first optional'\n",
    "}\n",
    "if( $Optional2 ) { \n",
    "    'found second optional'\n",
    "}\n",
    "\n",
    "$Files = ls c:\\temp -File *.json | Select -first 4\n",
    "$files\n",
    "\n",
    "$Optional"
   ]
  }
 ],
 "metadata": {
  "kernelspec": {
   "display_name": ".NET (PowerShell)",
   "language": "PowerShell",
   "name": ".net-pwsh"
  },
  "language_info": {
   "name": "PowerShell"
  }
 },
 "nbformat": 4,
 "nbformat_minor": 2
}
