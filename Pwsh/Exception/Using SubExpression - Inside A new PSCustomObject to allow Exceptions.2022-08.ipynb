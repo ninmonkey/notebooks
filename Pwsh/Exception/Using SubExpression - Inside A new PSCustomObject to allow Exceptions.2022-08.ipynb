{
 "cells": [
  {
   "cell_type": "markdown",
   "metadata": {},
   "source": [
    "# Using the [SubExpression Operator `$()`](https://docs.microsoft.com/en-us/powershell/module/microsoft.powershell.core/about/about_operators?view=powershell-7.3#subexpression-operator--)\n",
    "\n",
    "### Related Links:\n",
    "\n",
    "- [about_Try_Catch_Finally](https://docs.microsoft.com/en-us/powershell/module/microsoft.powershell.core/about/about_try_catch_finally?view=powershell-7.3)\n",
    "- [Everything You wanted to Know About Exceptions](https://docs.microsoft.com/en-us/powershell/scripting/learn/deep-dives/everything-about-exceptions?view=powershell-7.3)\n",
    "- [about_Language_Keywords](https://docs.microsoft.com/en-us/powershell/module/microsoft.powershell.core/about/about_language_keywords?view=powershell-7.3)\n",
    "\n",
    "\n",
    "\n",
    "You're outputting a custom object, over time you add more properties. It's going well... Until you need to use a `try catch` block\n",
    "\n",
    "```ps1\n",
    "[PSCustomObject]@{\n",
    "    A = 'stuff'\n",
    "    B = 'something that might fail'\n",
    "}\n",
    "```\n",
    "output:\n",
    "\n",
    "| A | B |\n",
    "| - | -|\n",
    "| stuff | something that might fail|"
   ]
  },
  {
   "cell_type": "markdown",
   "metadata": {},
   "source": [
    "At first it appears to work..., No parse errors, It even outputs the right data."
   ]
  },
  {
   "cell_type": "code",
   "execution_count": null,
   "metadata": {
    "dotnet_interactive": {
     "language": "pwsh"
    },
    "vscode": {
     "languageId": "dotnet-interactive.pwsh"
    }
   },
   "outputs": [
    {
     "name": "stdout",
     "output_type": "stream",
     "text": [
      "\r\n",
      "\u001b[32;1mA     B\u001b[0m\r\n",
      "\u001b[32;1m-     -\u001b[0m\r\n",
      "stuff Caught B\r\n",
      "\r\n"
     ]
    }
   ],
   "source": [
    "[PSCustomObject]@{\n",
    "    A = 'stuff'\n",
    "    B = try { 1/0 } catch { 'Caught B' }  \n",
    "}"
   ]
  },
  {
   "cell_type": "markdown",
   "metadata": {},
   "source": [
    "But it starts to fail any time it's not the **last value**"
   ]
  },
  {
   "cell_type": "code",
   "execution_count": null,
   "metadata": {
    "dotnet_interactive": {
     "language": "pwsh"
    },
    "vscode": {
     "languageId": "dotnet-interactive.pwsh"
    }
   },
   "outputs": [
    {
     "name": "stdout",
     "output_type": "stream",
     "text": [
      "\u001b[91mParserError: \r\n",
      "\u001b[96mLine |\r\n",
      "\u001b[96m   1 | \u001b[0m [PSCustomObject]@{\u001b[96m\u001b[0m\r\n",
      "\u001b[96m     | \u001b[91m                   ~\r\n",
      "\u001b[91m\u001b[96m     | \u001b[91mMissing closing '}' in statement block or type definition.\r\n",
      "\u001b[0m\r\n"
     ]
    }
   ],
   "source": [
    "[PSCustomObject]@{\n",
    "    A = 'stuff'\n",
    "    B = try { 1/0 } catch { 'Caught B' }\n",
    "    C = 'more stuff'\n",
    "}"
   ]
  },
  {
   "cell_type": "markdown",
   "metadata": {},
   "source": [
    "You say: No problem, wrap it in **parenthesis**!"
   ]
  },
  {
   "cell_type": "code",
   "execution_count": null,
   "metadata": {
    "dotnet_interactive": {
     "language": "pwsh"
    },
    "vscode": {
     "languageId": "dotnet-interactive.pwsh"
    }
   },
   "outputs": [
    {
     "name": "stdout",
     "output_type": "stream",
     "text": [
      "\u001b[91mtry: \r\n",
      "\u001b[96mLine |\r\n",
      "\u001b[96m   3 | \u001b[0m     B = (\u001b[96mtry\u001b[0m { 1/0 } catch { 'Caught B' })\r\n",
      "\u001b[96m     | \u001b[91m          ~~~\r\n",
      "\u001b[91m\u001b[96m     | \u001b[91mThe term 'try' is not recognized as a name of a cmdlet, function, script file, or executable program.\r\n",
      "Check the spelling of the name, or if a path was included, verify that the path is correct and try again.\u001b[0m\r\n"
     ]
    }
   ],
   "source": [
    "[PSCustomObject]@{\n",
    "    A = 'stuff'\n",
    "    B = (try { 1/0 } catch { 'Caught B' })\n",
    "    C = 'more stuff'\n",
    "}"
   ]
  },
  {
   "cell_type": "markdown",
   "metadata": {},
   "source": [
    "You might expect `try` to parse as the `keyword`.\n",
    "\n",
    "Instead it parses `try` as a `command`"
   ]
  },
  {
   "cell_type": "markdown",
   "metadata": {},
   "source": [
    "Maybe the `@()` operator will work?"
   ]
  },
  {
   "cell_type": "code",
   "execution_count": null,
   "metadata": {
    "dotnet_interactive": {
     "language": "pwsh"
    },
    "vscode": {
     "languageId": "dotnet-interactive.pwsh"
    }
   },
   "outputs": [
    {
     "name": "stdout",
     "output_type": "stream",
     "text": [
      "\r\n",
      "\u001b[32;1mA     B               C\u001b[0m\r\n",
      "\u001b[32;1m-     -               -\u001b[0m\r\n",
      "stuff {Caught B List} more stuff\r\n",
      "\r\n"
     ]
    }
   ],
   "source": [
    "[PSCustomObject]@{\n",
    "    A = 'stuff'\n",
    "    B = @(try { 1/0 } catch { 'Caught B List' })\n",
    "    C = 'more stuff'\n",
    "}"
   ]
  },
  {
   "cell_type": "markdown",
   "metadata": {},
   "source": [
    "It's working, but we didn't want an array. Lets try `$()`.\n",
    "\n",
    "Success! "
   ]
  },
  {
   "cell_type": "code",
   "execution_count": null,
   "metadata": {
    "dotnet_interactive": {
     "language": "pwsh"
    },
    "vscode": {
     "languageId": "dotnet-interactive.pwsh"
    }
   },
   "outputs": [
    {
     "name": "stdout",
     "output_type": "stream",
     "text": [
      "\r\n",
      "\u001b[32;1mA     B             C\u001b[0m\r\n",
      "\u001b[32;1m-     -             -\u001b[0m\r\n",
      "stuff Caught B List more stuff\r\n",
      "\r\n"
     ]
    }
   ],
   "source": [
    "[PSCustomObject]@{\n",
    "    A = 'stuff'\n",
    "    B = $(try { 1/0 } catch { 'Caught B List' })\n",
    "    C = 'more stuff'\n",
    "}"
   ]
  }
 ],
 "metadata": {
  "kernelspec": {
   "display_name": ".NET (PowerShell)",
   "language": "PowerShell",
   "name": ".net-pwsh"
  },
  "language_info": {
   "name": "PowerShell"
  }
 },
 "nbformat": 4,
 "nbformat_minor": 2
}
