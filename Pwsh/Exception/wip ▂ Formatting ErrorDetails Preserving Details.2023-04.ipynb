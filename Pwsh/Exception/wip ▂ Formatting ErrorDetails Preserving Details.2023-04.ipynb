{
 "cells": [
  {
   "cell_type": "code",
   "execution_count": 14,
   "metadata": {
    "dotnet_interactive": {
     "language": "pwsh"
    },
    "polyglot_notebook": {
     "kernelName": "pwsh"
    },
    "vscode": {
     "languageId": "polyglot-notebook"
    }
   },
   "outputs": [
    {
     "name": "stdout",
     "output_type": "stream",
     "text": [
      "\u001b[31;1mRemove-Module: \u001b[31;1mNo modules were removed. Verify that the specification of modules to remove is correct and those modules exist in the runspace.\u001b[0m\n",
      "\u001b[31;1mImport-Module: \u001b[0m\n",
      "\u001b[31;1m\u001b[36;1mLine |\u001b[0m\n",
      "\u001b[31;1m\u001b[36;1m\u001b[36;1m   2 | \u001b[0m \u001b[36;1mImport-Module Ninmonkey.Console -PassThru -verb\u001b[0m\n",
      "\u001b[31;1m\u001b[36;1m\u001b[36;1m\u001b[0m\u001b[36;1m\u001b[0m\u001b[36;1m     | \u001b[31;1m ~~~~~~~~~~~~~~~~~~~~~~~~~~~~~~~~~~~~~~~~~~~~~~~\u001b[0m\n",
      "\u001b[31;1m\u001b[36;1m\u001b[36;1m\u001b[0m\u001b[36;1m\u001b[0m\u001b[36;1m\u001b[31;1m\u001b[31;1m\u001b[36;1m     | \u001b[31;1mThe specified module 'Ninmonkey.Console' was not loaded because no valid module file was found in any module directory.\u001b[0m\n",
      "\u001b[31;1mNinmonkey.Console: \u001b[0m\n",
      "\u001b[31;1m\u001b[36;1mLine |\u001b[0m\n",
      "\u001b[31;1m\u001b[36;1m\u001b[36;1m   3 | \u001b[0m if(-not(\u001b[36;1mNinmonkey.Console\u001b[0m)) {\u001b[0m\n",
      "\u001b[31;1m\u001b[36;1m\u001b[36;1m\u001b[0m\u001b[36;1m\u001b[0m\u001b[36;1m     | \u001b[31;1m         ~~~~~~~~~~~~~~~~~\u001b[0m\n",
      "\u001b[31;1m\u001b[36;1m\u001b[36;1m\u001b[0m\u001b[36;1m\u001b[0m\u001b[36;1m\u001b[31;1m\u001b[31;1m\u001b[36;1m     | \u001b[31;1mThe term 'Ninmonkey.Console' is not recognized as a name of a cmdlet, function, script file, or executable program.\u001b[0m\n",
      "\u001b[31;1m\u001b[36;1m\u001b[36;1m\u001b[0m\u001b[36;1m\u001b[0m\u001b[36;1m\u001b[31;1m\u001b[31;1m\u001b[36;1m\u001b[31;1mCheck the spelling of the name, or if a path was included, verify that the path is correct and try again.\u001b[0m\n",
      "\n",
      "\u001b[32;1mName                           Value\u001b[0m\n",
      "\u001b[32;1m----                           -----\u001b[0m\n",
      "OutSuffix                      \u001b[0m\n",
      "OutPrefix                      \n",
      "\n"
     ]
    }
   ],
   "source": [
    "remove-module Ninmonkey.Console\n",
    "Import-Module Ninmonkey.Console -PassThru -verb\n",
    "if(-not(Ninmonkey.Console)) { \n",
    "    $Env:Path = @(\n",
    "        'H:\\data\\2023\\pwsh\\PsModules'\n",
    "        $Env:PATH\n",
    "    ) | Join-String -sep ([IO.Path]::PathSeparator)\n",
    "}\n",
    "    \n",
    "\n",
    "function New-DetailsException { \n",
    "    # silly, experimental custom output while preserving original details\n",
    "    [Alias('NewError', 'nin.Error.Details')]\n",
    "    [CmdletBinding()]\n",
    "    param(\n",
    "        [Parameter(Mandatory)]\n",
    "        [Alias('PSItem', 'ErrorRecord', 'InpuytObject')]\n",
    "        [object]$InputException,\n",
    "\n",
    "        [Alias('Message', 'Description')]\n",
    "        [ArgumentCompletions(\n",
    "            'BadStuff', '🔴', 'Nomad⧯', 'NonSequitur⧯'\n",
    "        )][string]$ErrorDetails,\n",
    "\n",
    "\n",
    "        [hashtable]$Options = @{}        \n",
    "    )\n",
    "    \n",
    "    # $Config = Ninmonkey.Console\\MergeHashtable -BaseHash $Options -OtherHash @{\n",
    "    # $Config = MergeHashtable -BaseHash $Options -OtherHash @{\n",
    "    @{\n",
    "        OutPrefix = @(\n",
    "            \"${fg:gray30}${bg:gray60}\"\n",
    "        ) -join ''\n",
    "        OutSuffix = @(\n",
    "            $PSStyle.Reset\n",
    "        ) -join ''\n",
    "    }\n",
    "\n",
    "    $renderError = @(\n",
    "        $Config.OutPrefix\n",
    "        $ErrorDetails\n",
    "        $Config.OutSuffix\n",
    "    ) -join ''\n",
    "    $InputException.ErrorDetails = $renderError\n",
    "}\n",
    "\n",
    "NewError -InputException $Error[0] -ErrorDetails 'dsf' -Options @{}\n",
    "return\n",
    "\n",
    "try {\n",
    "    throw 'throw'\n",
    "} catch { \n",
    "   $_.ErrorDetails = \n",
    "   $_.GetType().name | write-host\n",
    "   write-error $_\n",
    "} "
   ]
  }
 ],
 "metadata": {
  "language_info": {
   "name": "python"
  },
  "orig_nbformat": 4
 },
 "nbformat": 4,
 "nbformat_minor": 2
}
