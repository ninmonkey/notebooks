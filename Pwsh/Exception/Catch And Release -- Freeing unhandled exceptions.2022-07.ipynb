{
 "cells": [
  {
   "cell_type": "code",
   "execution_count": 49,
   "metadata": {
    "dotnet_interactive": {
     "language": "pwsh"
    },
    "vscode": {
     "languageId": "dotnet-interactive.pwsh"
    }
   },
   "outputs": [
    {
     "name": "stdout",
     "output_type": "stream",
     "text": [
      "Good response: \r\n",
      "Handling exceptions that you care about\r\n",
      "Bad stuff. Auth/Auth failed: Response status code does not indicate success: 401 (UNAUTHORIZED).\r\n",
      "Bad stuff. Auth/Auth failed: Response status code does not indicate success: 403 (FORBIDDEN).\r\n",
      "Bad stuff. Auth/Auth failed: \n",
      "    -=[ teapot ]=-\n",
      "\n",
      "       _...._\n",
      "     .'  _ _ `.\n",
      "    | .\"` ^ `\". _,\n",
      "    \\_;`\"---\"`|//\n",
      "      |       ;/\n",
      "      \\_     _/\n",
      "        `\"\"\"`\n",
      "\r\n",
      "Test that exceptions out-of-scope properly throw\r\n",
      "\u001b[91mInvoke-RestMethod: \r\n",
      "\u001b[96mLine |\r\n",
      "\u001b[96m   9 | \u001b[0m         $response = \u001b[96mInvoke-RestMethod $Url -ea stop\u001b[0m\r\n",
      "\u001b[96m     | \u001b[91m                     ~~~~~~~~~~~~~~~~~~~~~~~~~~~~~~~\r\n",
      "\u001b[91m\u001b[96m     | \u001b[91mResponse status code does not indicate success: 500 (INTERNAL SERVER ERROR).\u001b[0m\r\n"
     ]
    }
   ],
   "source": [
    "function Request {\n",
    "    <#\n",
    "    In some cases you may not know exceptions ahead of time, or, it's easier to regex match on them.\n",
    "    Make sure you throw any exceptions you don't handle yourself. \n",
    "    #>\n",
    "    param(\n",
    "        # suggested urls\n",
    "        [ArgumentCompletions('https://httpbin.org/status/401', 'https://httpbin.org/status/403', 'https://httpbin.org/status/200')]\n",
    "        [Parameter(Mandatory)]\n",
    "        [uri]$Url\n",
    "    ) \n",
    "    try {\n",
    "        $response = Invoke-RestMethod $Url -ea stop\n",
    "    }\n",
    "    catch { \n",
    "        if ( $_.Exception.ToString() -match 'status.*(401|403|418)' ) { \n",
    "            \"Bad stuff. Auth/Auth failed: $_\";\n",
    "            #  $_ | Write-Host -ForegroundColor blue\n",
    "            return\n",
    "        }\n",
    "        else { \n",
    "            throw $_ # return the rest\n",
    "        }\n",
    "    }\n",
    "    # $REponse.gettype()\n",
    "    return $Response\n",
    "}\n",
    "\n",
    "'Good response: '\n",
    "$resp = Request -url 'https://httpbin.org/status/200'\n",
    "\n",
    "'Handling exceptions that you care about'\n",
    "Request -url 'https://httpbin.org/status/401'\n",
    "Request -url 'https://httpbin.org/status/403'\n",
    "Request -url 'https://httpbin.org/status/418'\n",
    "\n",
    "'Test that exceptions out-of-scope properly throw'\n",
    "Request -url 'https://httpbin.org/status/500'"
   ]
  },
  {
   "cell_type": "markdown",
   "metadata": {},
   "source": [
    "### Simpler IRM Exception handling `irm -SkipHttpErrorCheck -StatusCodeVariable`\n",
    "\n",
    "In the other examples I don't use `SkipHttpErrorCheck` because I'm using IRM to reproducibly throw multiple exception types.\n",
    "\n",
    "For your code, try either parameters: `-StatusCodeVariable` and `-SkipHttpErrorCheck`\n",
    "```ps1\n",
    "Invoke-RestMethod -StatusCodeVariable 'status' -Uri $Url\n",
    "Invoke-RestMethod -StatusCodeVariable 'status' -Uri $Url -SkipHttpErrorCheck\n",
    "```\n",
    "\n",
    "It simplifies having overlapping code"
   ]
  },
  {
   "cell_type": "code",
   "execution_count": 65,
   "metadata": {
    "dotnet_interactive": {
     "language": "pwsh"
    },
    "vscode": {
     "languageId": "dotnet-interactive.pwsh"
    }
   },
   "outputs": [
    {
     "name": "stdout",
     "output_type": "stream",
     "text": [
      "\r\n"
     ]
    }
   ],
   "source": [
    "Invoke-RestMethod -StatusCodeVariable 'status' -Uri 'https://httpbin.org/status/404' -SkipHttpErrorCheck\n",
    "\n",
    "function Request2 {\n",
    "    <#\n",
    "    In some cases you may not know exceptions ahead of time, or, it's easier to regex match on them.\n",
    "    #>\n",
    "    param(\n",
    "        # suggested urls\n",
    "        [ArgumentCompletions('https://httpbin.org/status/401', 'https://httpbin.org/status/403', 'https://httpbin.org/status/200')]\n",
    "        [Parameter(Mandatory)]\n",
    "        [uri]$Url\n",
    "    ) \n",
    "    $response = Invoke-RestMethod $Url -ea stop -StatusCodeVariable 'status' -SkipHttpErrorCheck\n",
    "    \n",
    "    # (I could/should have used a `switch -regex` )\n",
    "    switch ($Status) { \n",
    "        # this fires on both\n",
    "        { $_ -match '40\\d+' } { \"Request Errors! ; $_\" | write-warning }\n",
    "\n",
    "        #in addition, 404 fires\n",
    "        { $_ -match '404' } { \n",
    "            'bad url, missing page. Or if using a web API it can mean that you have permission to query a SQL table, but only employees in your region' | Write-Warning\n",
    "        }  \n",
    "        { $_ -in @('403', '401') } {\n",
    "            'Auth related issues'    | Write-warning \n",
    "        }\n",
    "        '403' { 'RefreshToken()' }\n",
    "        '401' { 'UserLogin()' }\n",
    "        '200' { return $Response } # It's good!\n",
    "    }\n",
    "    '-' * 40 -join '' | write-host -fore blue\n",
    "}"
   ]
  },
  {
   "cell_type": "code",
   "execution_count": 66,
   "metadata": {
    "dotnet_interactive": {
     "language": "pwsh"
    },
    "vscode": {
     "languageId": "dotnet-interactive.pwsh"
    }
   },
   "outputs": [
    {
     "name": "stdout",
     "output_type": "stream",
     "text": [
      "Good response: \r\n",
      "Handling exceptions that you care about\r\n",
      "\u001b[93mWARNING: Request Errors! ; 401\u001b[0m\r\n",
      "\u001b[93mWARNING: Auth related issues\u001b[0m\r\n",
      "UserLogin()\r\n",
      "\u001b[94m----------------------------------------\u001b[0m\r\n",
      "\u001b[93mWARNING: Request Errors! ; 403\u001b[0m\r\n",
      "\u001b[93mWARNING: Auth related issues\u001b[0m\r\n",
      "RefreshToken()\r\n",
      "\u001b[94m----------------------------------------\u001b[0m\r\n",
      "\u001b[94m----------------------------------------\u001b[0m\r\n",
      "Test that exceptions out-of-scope properly throw\r\n",
      "\u001b[94m----------------------------------------\u001b[0m\r\n"
     ]
    }
   ],
   "source": [
    "'Good response: '\n",
    "$resp = Request2 -url 'https://httpbin.org/status/200'\n",
    "\n",
    "'Handling exceptions that you care about'\n",
    "Request2 -url 'https://httpbin.org/status/401'\n",
    "Request2 -url 'https://httpbin.org/status/403'\n",
    "Request2 -url 'https://httpbin.org/status/418'\n",
    "\n",
    "'Test that exceptions out-of-scope properly throw'\n",
    "Request2 -url 'https://httpbin.org/status/500'"
   ]
  }
 ],
 "metadata": {
  "kernelspec": {
   "display_name": ".NET (PowerShell)",
   "language": "PowerShell",
   "name": ".net-pwsh"
  },
  "language_info": {
   "name": "PowerShell"
  }
 },
 "nbformat": 4,
 "nbformat_minor": 2
}
