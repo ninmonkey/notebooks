{
 "cells": [
  {
   "attachments": {},
   "cell_type": "markdown",
   "metadata": {
    "dotnet_interactive": {
     "language": "pwsh"
    },
    "polyglot_notebook": {
     "kernelName": "pwsh"
    }
   },
   "source": [
    "The question in discord was to recreate this in Pwsh\n",
    "```csharp\n",
    "var items = new (string name, string url)[] {\n",
    "    (\"Ubuntu 20.04\", \"https://releases.ubuntu.com/20.04.1/ubuntu-20.04.1-desktop-amd64.iso\"),\n",
    "    (\"Spotify\", \"https://download.scdn.co/SpotifySetup.exe\"),\n",
    "    (\"Windows Terminal\", \"https://github.com/microsoft/terminal/releases/download/v1.5.3242.0/8wekyb3d8bbwe.msixbundle\"),\n",
    "};\n",
    "```\n",
    "For fun, lets not use use easy method, hashtables\n",
    "```ps1\n",
    "# static generic methods\n",
    "[type_name]::MethodName[generic_type_arguments](method_arguments)\n",
    "\n",
    "# instance generic methods\n",
    "$object.MethodName[generic_type_arguments](method_arguments)\n",
    "``` \n",
    "generic_type_arguments can be a a single type or comma-separated list of types, like `[string, int]`, including other generic types like `$obj.MethodName[string, System.Collections.Generic.Dictionary[string, int]]()`"
   ]
  },
  {
   "attachments": {},
   "cell_type": "markdown",
   "metadata": {
    "dotnet_interactive": {
     "language": "pwsh"
    },
    "polyglot_notebook": {
     "kernelName": "pwsh"
    }
   },
   "source": [
    "checklist\n",
    "- [x] Using `[List[T]].Add( [str[]] )`\n",
    "```ps1\n",
    "$Items.Add( @('name', 'uri'))\n",
    "$Items.Add( ('a', 'b') )\n",
    "```\n",
    "\n",
    "- [x] Using Explicit-Ctor `[A]::new( str, str )`\n",
    "```ps1\n",
    "$app1 = [AppTuple]::new('Ubuntu 20.04', 'https://releases.ubuntu.com')\n",
    "```\n",
    "\n",
    "- [x] Using Explicit-Ctor `[A]::new( [str[]] )`\n",
    "```ps1\n",
    "$app2 = [AppTuple]::new( @('Ubuntu 20.04', 'https://releases.ubuntu.com') )\n",
    "```\n",
    "\n",
    "- [x] Using Assignment-Ctor `[A] = [str[]]`\n",
    "```ps1\n",
    "[AppTuple]$app4 = 'Ubuntu 20.04', 'https://releases.ubuntu.com'\n",
    "```\n",
    "\n",
    "- [ ] Maybe?? Using \n",
    "```ps1\n",
    "[AppTuple[]] = @( \n",
    "    @('a','b')\n",
    ")\n",
    "```\n",
    "\n",
    "- [ ] Maybe?? Using \n",
    "```ps1\n",
    "[Collections.Generic.List[AppTuple]] = @( \n",
    "    ,('a','b')\n",
    "    ,('a','b')\n",
    ")\n",
    "```\n",
    "\n",
    "\n",
    "- [ ] Maybe? Using\n",
    "```ps1\n",
    "$nested.append( @('a','b') )\n",
    "$nested.append( @('c','d') )\n",
    "[AppTuple[]]$AppList =  $nested\n",
    "```\n",
    "\n",
    "- [ ] Maybe? Using\n",
    "```ps1\n",
    "$nested.append( @('a','b') )\n",
    "$nested.append( @('c','d') )\n",
    "[AppTupleList]$AppList = $nested\n",
    "```\n",
    "\n",
    "\n",
    "- [ ] Maybe? Using\n",
    "```ps1\n",
    "code\n",
    "```\n",
    "\n",
    "- [ ] Maybe? Using\n",
    "```ps1\n",
    "code\n",
    "```\n",
    "\n"
   ]
  },
  {
   "cell_type": "code",
   "execution_count": 9,
   "metadata": {
    "dotnet_interactive": {
     "language": "pwsh"
    },
    "polyglot_notebook": {
     "kernelName": "pwsh"
    },
    "vscode": {
     "languageId": "polyglot-notebook"
    }
   },
   "outputs": [
    {
     "name": "stdout",
     "output_type": "stream",
     "text": [
      "[[\"a\",\"b\"],[\"2\",\"3\"]]\n",
      "\n",
      "[[\"Ubuntu 20.04\",\"https://releases.ubuntu.com/20.04.1/ubuntu-20.04.1-desktop-amd64.iso\"],[\"Spotify\",\"https://download.scdn.co/SpotifySetup.exe\"],[\"Windows Terminal\",\"https://github.com/microsoft/terminal/releases/download/v1.5.3242.0/8wekyb3d8bbwe.msixbundle\"]]\n"
     ]
    }
   ],
   "source": [
    "[Collections.Generic.List[object]]$Items = @()\n",
    "$Items.Add( @('a', 'b'))\n",
    "$Items.Add( @('2', '3'))\n",
    "$items | ConvertTo-Json -Compress\n",
    "''\n",
    "[Collections.Generic.List[object]]$Items = @()\n",
    "$Items.add( @(\"Ubuntu 20.04\", \"https://releases.ubuntu.com/20.04.1/ubuntu-20.04.1-desktop-amd64.iso\") )\n",
    "$Items.add( @(\"Spotify\", \"https://download.scdn.co/SpotifySetup.exe\") )\n",
    "$Items.add( @(\"Windows Terminal\", \"https://github.com/microsoft/terminal/releases/download/v1.5.3242.0/8wekyb3d8bbwe.msixbundle\") )\n",
    "    \n",
    "$items | ConvertTo-Json -Compress"
   ]
  },
  {
   "cell_type": "code",
   "execution_count": 13,
   "metadata": {
    "dotnet_interactive": {
     "language": "pwsh"
    },
    "polyglot_notebook": {
     "kernelName": "pwsh"
    },
    "vscode": {
     "languageId": "polyglot-notebook"
    }
   },
   "outputs": [
    {
     "name": "stdout",
     "output_type": "stream",
     "text": [
      "\n",
      "\u001b[32;1mName     Uri\u001b[0m\n",
      "\u001b[32;1m----     ---\u001b[0m\n",
      "Ubuntu A https://releases-a.ubuntu.com\n",
      "Ubuntu B https://releases-b.ubuntu.com\n",
      "Ubuntu C https://releases-c.ubuntu.com\n",
      "\n"
     ]
    }
   ],
   "source": [
    "class AppTuple {\n",
    "    [string]$Name\n",
    "    [string]$Uri\n",
    "    # partA\n",
    "    AppTuple ( [string]$Name, [string]$Uri ) {\n",
    "        $This.Name = $name\n",
    "        $this.Uri = $uri\n",
    "    }\n",
    "    # partB\n",
    "    AppTuple ( [object[]]$Params ) {\n",
    "        if($Params.Count -ne 2) { throw \"InvalidCtorArgs: $Params\" }\n",
    "        $This.Name = $Params[0]\n",
    "        $this.Uri = $Params[1]\n",
    "    }\n",
    "}\n",
    "# PartA allows:\n",
    "$app1 = [AppTuple]::new('Ubuntu A', 'https://releases-a.ubuntu.com')\n",
    "$app1\n",
    "\n",
    "# PartB allows:\n",
    "$app2 = [AppTuple]::new( @('Ubuntu B', 'https://releases-b.ubuntu.com') )\n",
    "$app2 \n",
    "\n",
    "# Part2 of PartB allows:\n",
    "[AppTuple]$app4 = 'Ubuntu C', 'https://releases-c.ubuntu.com'\n",
    "$app4"
   ]
  },
  {
   "cell_type": "code",
   "execution_count": 11,
   "metadata": {
    "dotnet_interactive": {
     "language": "pwsh"
    },
    "polyglot_notebook": {
     "kernelName": "pwsh"
    },
    "vscode": {
     "languageId": "polyglot-notebook"
    }
   },
   "outputs": [],
   "source": []
  }
 ],
 "metadata": {
  "kernelspec": {
   "display_name": ".NET (PowerShell)",
   "language": "PowerShell",
   "name": ".net-pwsh"
  },
  "polyglot_notebook": {
   "kernelInfo": {
    "defaultKernelName": "pwsh",
    "items": [
     {
      "aliases": [
       "powershell"
      ],
      "languageName": "PowerShell",
      "name": "pwsh"
     },
     {
      "aliases": [
       "frontend"
      ],
      "languageName": null,
      "name": "vscode"
     }
    ]
   }
  }
 },
 "nbformat": 4,
 "nbformat_minor": 2
}
