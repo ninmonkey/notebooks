{
 "cells": [
  {
   "cell_type": "code",
   "execution_count": null,
   "metadata": {
    "dotnet_interactive": {
     "language": "pwsh"
    },
    "vscode": {
     "languageId": "dotnet-interactive.pwsh"
    }
   },
   "outputs": [
    {
     "name": "stdout",
     "output_type": "stream",
     "text": [
      "\u001b[91mshortName: \r\n",
      "\u001b[96mLine |\r\n",
      "\u001b[96m  19 | \u001b[0m     \u001b[96mshortName\u001b[0m\r\n",
      "\u001b[96m     | \u001b[91m     ~~~~~~~~~\r\n",
      "\u001b[91m\u001b[96m     | \u001b[91mThe term 'shortName' is not recognized as a name of a cmdlet, function, script file, or executable program.\r\n",
      "Check the spelling of the name, or if a path was included, verify that the path is correct and try again.\u001b[0m\r\n"
     ]
    }
   ],
   "source": [
    "using namespace System.Collections.Generic\n",
    "\n",
    "function retMany { 'jen'; 'bill' }\n",
    "function retSingle { return 'bob' }\n",
    "function retVoid { return }\n",
    "function retNull { $null }\n",
    "function WhatIs { \n",
    "    param( [Parameter(Mandatory, ValueFromPipeline)]$InputObject  )\n",
    "    process {\n",
    "        $t = $InputObject\n",
    "        [pscustomobject]@{\n",
    "            Instance = $t\n",
    "            Type = $_.GetType() | ShortType\n",
    "            TypeNames = $_.pstypenames| %{ $_ -as 'type' } | ShortType | Join-string -sep ', '\n",
    "        }\n",
    "    }\n",
    "}\n",
    "\n",
    "throw \"just missing the shortname\""
   ]
  },
  {
   "cell_type": "code",
   "execution_count": null,
   "metadata": {
    "dotnet_interactive": {
     "language": "pwsh"
    },
    "vscode": {
     "languageId": "dotnet-interactive.pwsh"
    }
   },
   "outputs": [],
   "source": [
    "\n",
    "throw \"just missing the shortname\"\n",
    "$sometimesList1 = 'invoke'\n",
    "$sometimesList2 = @('invoke')\n",
    "\n",
    "# things can untype if not strict\n",
    "$sometimesList1 = 234\n",
    "\n",
    "$sometimesList3 = @('a', 'b')\n",
    "$sometimesList = ''\n",
    "$sometimesList = '543' # not an array\n",
    "\n",
    "[object[]]$Items = 'invoke'\n",
    "[object[]]$Items = @( 'invoke' )\n",
    "\n",
    "\n",
    "\n"
   ]
  },
  {
   "cell_type": "code",
   "execution_count": null,
   "metadata": {
    "dotnet_interactive": {
     "language": "pwsh"
    },
    "vscode": {
     "languageId": "dotnet-interactive.pwsh"
    }
   },
   "outputs": [
    {
     "name": "stdout",
     "output_type": "stream",
     "text": [
      "\u001b[91mException: \r\n",
      "\u001b[96mLine |\r\n",
      "\u001b[96m  18 | \u001b[0m         \u001b[96mthrow \"no, total rewrite.\"\u001b[0m\r\n",
      "\u001b[96m     | \u001b[91m         ~~~~~~~~~~~~~~~~~~~~~~~~~~\r\n",
      "\u001b[91m\u001b[96m     | \u001b[91mno, total rewrite.\u001b[0m\r\n"
     ]
    }
   ],
   "source": [
    "# function formatTypeName { \n",
    "#     $tinfo = ($_ -is 'type') ? $_ : $_.GetType()\n",
    "#     $tinfo.Name } -op '[' -os ']'\n",
    "# }\n",
    "function ShortName { \n",
    "    <#\n",
    "    .synopsis\n",
    "        abbreviate type info for cleaner notebooks\n",
    "    #>\n",
    "    [OutputType('System.String')]\n",
    "    [cmdletBinding()]\n",
    "    param(\n",
    "        # Object or type, to get the name of\n",
    "        [Parameter(Mandatory, ValueFromPipeline)]\n",
    "        [object[]]$InputObject\n",
    "    )\n",
    "    process {        \n",
    "        throw \"no, total rewrite.\"\n",
    "        $InputObject | %{\n",
    "            $Obj = $_        \n",
    "            $tinfo = ($Obj -is 'type') ? $Obj : $Obj.GetType()\n",
    "            $Obj | Join-String -sep ',' -op '[' -os ']' -p { $Obj.Name ?? \"`u{2400}\" }                          \n",
    "        } \n",
    "        # } | Join-String -sep ',' -op '[' -os ']' -p { $Obj.Name ?? \"`u{2400}\" }              \n",
    "    }\n",
    "}\n",
    "\n",
    "\n",
    "# gi . | % GetType\n",
    "# | Join-String -sep ', '  -p {\n",
    "#     $tinfo = ($_ -is 'type') ? $_ : $_.GetType()\n",
    "#     $tinfo.Name } -op '[' -os ']'\n",
    "# '-------------'\n",
    "\n",
    ",(34) | ShortName\n",
    "@('a', (get-date), (gi c:) ) | ShortName\n",
    "\n",
    "gi .  | ShortName "
   ]
  },
  {
   "cell_type": "code",
   "execution_count": null,
   "metadata": {
    "dotnet_interactive": {
     "language": "pwsh"
    },
    "vscode": {
     "languageId": "dotnet-interactive.pwsh"
    }
   },
   "outputs": [],
   "source": [
    "\""
   ]
  }
 ],
 "metadata": {
  "kernelspec": {
   "display_name": ".NET (PowerShell)",
   "language": "PowerShell",
   "name": ".net-pwsh"
  },
  "language_info": {
   "name": "PowerShell"
  }
 },
 "nbformat": 4,
 "nbformat_minor": 2
}
