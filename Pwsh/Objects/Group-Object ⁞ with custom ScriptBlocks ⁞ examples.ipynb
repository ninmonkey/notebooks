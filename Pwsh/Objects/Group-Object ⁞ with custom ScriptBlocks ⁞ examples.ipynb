{
 "cells": [
  {
   "cell_type": "markdown",
   "metadata": {},
   "source": [
    "There are 4 main types that return from `Group-Object`. \n",
    "\n",
    "- [1] regular objects\n",
    "- [2] `-AsHashTable` regular hashtable, you lose the `count` field . enumerates by `[DictionaryEntry]`\n",
    "- [3] `-NoElement` returns \n",
    "- [4] `-AsString`\n",
    "- \n"
   ]
  },
  {
   "cell_type": "code",
   "execution_count": null,
   "metadata": {
    "dotnet_interactive": {
     "language": "pwsh"
    },
    "vscode": {
     "languageId": "dotnet-interactive.pwsh"
    }
   },
   "outputs": [],
   "source": [
    "$psList ??= Get-process\n",
    "$files ??= ls $Env:UserProfile -depth 2 -ea 'ignore'"
   ]
  },
  {
   "cell_type": "code",
   "execution_count": null,
   "metadata": {
    "dotnet_interactive": {
     "language": "pwsh"
    },
    "vscode": {
     "languageId": "dotnet-interactive.pwsh"
    }
   },
   "outputs": [
    {
     "name": "stdout",
     "output_type": "stream",
     "text": [
      "[2] : hashTable\r\n",
      "   warning: hashtable doesn't auto enumerate,\r\n",
      "    so Select doesn't select the first 4 keys\r\n",
      "\r\n",
      "\u001b[32;1mName    Value\u001b[0m\r\n",
      "\u001b[32;1m----    -----\u001b[0m\r\n",
      "2019-09 {C:\\Users\\cppmo_000\\.beautifuldiscord, C:\\Users\\cppmo_000\\.mypyls, C:\\Users\\cppmo_000\\.nin…\r\n",
      "2013-11 {C:\\Users\\cppmo_000\\Dropbox\\CSCI - BST and AVL trees -lecture08.ppt, C:\\Users\\cppmo_000\\Dr…\r\n",
      "2018-02 {C:\\Users\\cppmo_000\\.gimp-2.8\\tool-options, C:\\Users\\cppmo_000\\.gimp-2.8\\tool-options\\gimp…\r\n",
      "2016-02 {C:\\Users\\cppmo_000\\Saved Games\\Pillars of Eternity\\62d98096-f46d-471b-a4b8-0c286634f1da a…\r\n",
      "\r\n",
      "[2] : hashTable\r\n",
      "\r\n",
      "\u001b[32;1mName  : \u001b[0m2019-09\r\n",
      "\u001b[32;1mKey   : \u001b[0m2019-09\r\n",
      "\u001b[32;1mValue : \u001b[0m{C:\\Users\\cppmo_000\\.beautifuldiscord, C:\\Users\\cppmo_000\\.mypyls, \r\n",
      "        \u001b[32;1m\u001b[0mC:\\Users\\cppmo_000\\.nin_session_bash, \r\n",
      "        \u001b[32;1m\u001b[0mC:\\Users\\cppmo_000\\.beautifuldiscord\\cssInjection.js…}\r\n",
      "\r\n",
      "\r\n",
      "[2] : hashTable\r\n",
      "\r\n",
      "\u001b[32;1mName  : \u001b[0m2019-09\r\n",
      "\u001b[32;1mKey   : \u001b[0m2019-09\r\n",
      "\u001b[32;1mValue : \u001b[0m{C:\\Users\\cppmo_000\\.beautifuldiscord, C:\\Users\\cppmo_000\\.mypyls, \r\n",
      "        \u001b[32;1m\u001b[0mC:\\Users\\cppmo_000\\.nin_session_bash, \r\n",
      "        \u001b[32;1m\u001b[0mC:\\Users\\cppmo_000\\.beautifuldiscord\\cssInjection.js…}\r\n",
      "\r\n",
      "\r\n"
     ]
    }
   ],
   "source": [
    "'[2] : hashTable'\n",
    "'   warning: hashtable doesn''t auto enumerate,\n",
    "    so Select doesn''t select the first 4 keys'\n",
    "\n",
    "$files | group { $_.LastWriteTime.ToString('yyyy-MM') } -AsHashTable\n",
    "| % GetEnumerator | Select -first 4 |  ft -auto \n",
    "\n",
    "'[2] : hashTable'\n",
    "\n",
    "$files | group { $_.LastWriteTime.ToString('yyyy-MM') } -AsHashTable\n",
    "| % GetEnumerator | Select -first 1 | fl * -force\n",
    "\n",
    "'[2] : hashTable'\n",
    "\n",
    "$files | group { $_.LastWriteTime.ToString('yyyy-MM') } -AsHashTable -AsString\n",
    "| % GetEnumerator | Select -first 1 | fl * -force"
   ]
  },
  {
   "cell_type": "markdown",
   "metadata": {},
   "source": [
    "- [1] regular objects\n",
    "- [2] `-AsHashTable` regular hashtable, you lose the `count` field . enumerates by `[DictionaryEntry]`\n",
    "- [3] `-NoElement` returns \n",
    "- [4] `-AsString`\n",
    "\n",
    "<!-- \n",
    "```ps1\n",
    "$files ??= ls c:\\ -depth 2 | Select -first 20\n",
    "\n",
    "$files | group { $_.LastWriteTime.ToString('yyyy-MM') } -AsHashTable\n",
    "| % GetEnumerator | Select -first 3 |  ft -auto \n",
    "# warning, hashtable doesn't auto enumerate -- leading to all keys being printed\n",
    "\n",
    "$files | group { $_.LastWriteTime.ToString('yyyy-MM') } -NoElement\n",
    "| sort Count -Descending\n",
    "| select -first 8 |  ft -auto\n",
    "\n",
    "$files | group { $_.LastWriteTime.ToString('yyyy-MM') }\n",
    "| sort Count -Descending\n",
    "| select -first 8 |  ft -auto\n",
    "```\n",
    "-->"
   ]
  },
  {
   "cell_type": "code",
   "execution_count": null,
   "metadata": {
    "dotnet_interactive": {
     "language": "pwsh"
    },
    "vscode": {
     "languageId": "dotnet-interactive.pwsh"
    }
   },
   "outputs": [
    {
     "name": "stdout",
     "output_type": "stream",
     "text": [
      "[3] : Regular Object\r\n",
      "\r\n",
      "\u001b[32;1mName    Count\u001b[0m\r\n",
      "\u001b[32;1m----    -----\u001b[0m\r\n",
      "2022-08   298\r\n",
      "2022-06   295\r\n",
      "2016-12   209\r\n",
      "\r\n",
      "[3] : Regular Object\r\n",
      "\r\n",
      "\u001b[32;1mValues    Count Group Name\u001b[0m\r\n",
      "\u001b[32;1m------    ----- ----- ----\u001b[0m\r\n",
      "{2022-08}   298 {}    2022-08\r\n",
      "{2022-06}   295 {}    2022-06\r\n",
      "{2016-12}   209 {}    2016-12\r\n",
      "\r\n",
      "[1] : Regular Object\r\n",
      "\r\n",
      "\u001b[32;1mCount Name    Group\u001b[0m\r\n",
      "\u001b[32;1m----- ----    -----\u001b[0m\r\n",
      "  298 2022-08 {C:\\Users\\cppmo_000\\.cookiecutter_replay, C:\\Users\\cppmo_000\\.docker, C:\\Users\\cppmo…\r\n",
      "  295 2022-06 {C:\\Users\\cppmo_000\\.cargo, C:\\Users\\cppmo_000\\.lemminx, C:\\Users\\cppmo_000\\.fdignor…\r\n",
      "  209 2016-12 {C:\\Users\\cppmo_000\\.gimp-2.8\\gimprc, C:\\Users\\cppmo_000\\.gimp-2.8\\tool-options\\gimp…\r\n",
      "\r\n",
      "[1] : Regular Object\r\n",
      "\r\n",
      "\u001b[32;1mValues : \u001b[0m{2022-08}\r\n",
      "\u001b[32;1mCount  : \u001b[0m298\r\n",
      "\u001b[32;1mGroup  : \u001b[0m{C:\\Users\\cppmo_000\\.cookiecutter_replay, C:\\Users\\cppmo_000\\.docker, \r\n",
      "         \u001b[32;1m\u001b[0mC:\\Users\\cppmo_000\\.ninmonkey, C:\\Users\\cppmo_000\\Documents…}\r\n",
      "\u001b[32;1mName   : \u001b[0m2022-08\r\n",
      "\r\n",
      "\r\n"
     ]
    }
   ],
   "source": [
    "## NoElement\n",
    "\n",
    "# $files ??= ls c:\\ -depth 2 | Select -first 20\n",
    "# h1 'Default'\n",
    "'[3] : Regular Object'\n",
    "\n",
    "$files | group { $_.LastWriteTime.ToString('yyyy-MM') } -NoElement\n",
    "| sort Count -Descending\n",
    "| select -first 3 |  ft -auto Name, Count\n",
    "\n",
    "# h1 'all'\n",
    "'[3] : Regular Object'\n",
    "\n",
    "$files | group { $_.LastWriteTime.ToString('yyyy-MM') } -NoElement\n",
    "| sort Count -Descending\n",
    "| select -first 3 |  ft -auto *\n",
    "\n",
    "'[1] : Regular Object'\n",
    "\n",
    "$files | group { $_.LastWriteTime.ToString('yyyy-MM') }\n",
    "| sort Count -Descending\n",
    "| select -first 3\n",
    "| ft -AutoSize\n",
    "\n",
    "'[1] : Regular Object'\n",
    "\n",
    "\n",
    "$files | group { $_.LastWriteTime.ToString('yyyy-MM') }\n",
    "| sort Count -Descending\n",
    "| select -first 1 | fl *"
   ]
  },
  {
   "cell_type": "code",
   "execution_count": null,
   "metadata": {
    "dotnet_interactive": {
     "language": "pwsh"
    },
    "vscode": {
     "languageId": "dotnet-interactive.pwsh"
    }
   },
   "outputs": [
    {
     "name": "stdout",
     "output_type": "stream",
     "text": [
      "Name: 2022-07\r\n",
      "'images', 'IterateObjectProperties-to-Hashtable.2022-07.ipynb'\r\n",
      "Name: 2022-08\r\n",
      "'Arrays and Lists ⁞ Strong typing and generics.ipynb', 'Data.DataTable ⁞ Inspecting Fields of ⁞ Model.MarshalByValueComponent.ipynb', 'Find Type Info - WhatIs.2022-08.ipynb'\r\n",
      "Name: 2022-09\r\n",
      "'Group-Object ⁞ with custom ScriptBlocks ⁞ examples.ipynb'\r\n"
     ]
    }
   ],
   "source": [
    "$vals ??= gci $Env:UserProfile -depth 3 | group { $_.LastWriteTime.ToString('yyyy-MM') }\n",
    "$vals | %{ \n",
    "    'Name: {0}' -f $_.Name\n",
    "    $_.Group | join-String -prop name -sep ', ' -single\n",
    "}\n",
    "\n",
    "#$vals.GetEnumerator()| at 1"
   ]
  },
  {
   "cell_type": "code",
   "execution_count": null,
   "metadata": {
    "dotnet_interactive": {
     "language": "pwsh"
    },
    "vscode": {
     "languageId": "dotnet-interactive.pwsh"
    }
   },
   "outputs": [
    {
     "name": "stdout",
     "output_type": "stream",
     "text": [
      "\r\n",
      "\u001b[32;1mCount Name Group\u001b[0m\r\n",
      "\u001b[32;1m----- ---- -----\u001b[0m\r\n",
      "    1 2014 {C:\\HaxLogs.txt}\r\n",
      "    1 2015 {C:\\Python27}\r\n",
      "    2 2016 {C:\\found.002, C:\\Logs}\r\n",
      "    3 2018 {C:\\vol0, C:\\audio.log, C:\\setup.log}\r\n",
      "    4 2019 {C:\\github, C:\\nin, C:\\PerfLogs, C:\\programs 2019}\r\n",
      "    3 2020 {C:\\apps, C:\\Microsoft, C:\\Users}\r\n",
      "    4 2021 {C:\\autocomplete, C:\\Games, C:\\Python310, C:\\Symbols}\r\n",
      "   20 2022 {C:\\bin_nin, C:\\DocsRoot, C:\\Intel, C:\\jake_uri…}\r\n",
      "\r\n",
      "\r\n",
      "\u001b[32;1mValues Count Group                                                 Name\u001b[0m\r\n",
      "\u001b[32;1m------ ----- -----                                                 ----\u001b[0m\r\n",
      "{2014}     1 {C:\\HaxLogs.txt}                                      2014\r\n",
      "{2015}     1 {C:\\Python27}                                         2015\r\n",
      "{2016}     2 {C:\\found.002, C:\\Logs}                               2016\r\n",
      "{2018}     3 {C:\\vol0, C:\\audio.log, C:\\setup.log}                 2018\r\n",
      "{2019}     4 {C:\\github, C:\\nin, C:\\PerfLogs, C:\\programs 2019}    2019\r\n",
      "{2020}     3 {C:\\apps, C:\\Microsoft, C:\\Users}                     2020\r\n",
      "{2021}     4 {C:\\autocomplete, C:\\Games, C:\\Python310, C:\\Symbols} 2021\r\n",
      "{2022}    20 {C:\\bin_nin, C:\\DocsRoot, C:\\Intel, C:\\jake_uri…}     2022\r\n",
      "\r\n"
     ]
    }
   ],
   "source": [
    "$files2 = ls c:\\ \n",
    "$Files2 | Group-Object { $_.LastWriteTime.toString('yyyy') } |ft -auto\n",
    "\n"
   ]
  },
  {
   "cell_type": "code",
   "execution_count": null,
   "metadata": {
    "dotnet_interactive": {
     "language": "pwsh"
    },
    "vscode": {
     "languageId": "dotnet-interactive.pwsh"
    }
   },
   "outputs": [
    {
     "name": "stdout",
     "output_type": "stream",
     "text": [
      "Silly\r\n",
      "Sum: 78\r\n",
      "Sum: 33\r\n",
      "Sum: 38\r\n",
      "Sum: 42\r\n",
      "Sum: 44\r\n"
     ]
    }
   ],
   "source": [
    "\"Silly\"\n",
    "\n",
    "$UniqCost = { # \"cost\" air-quotes, the number of distinct codepoints used\n",
    "    ($_.FullName.EnumerateRunes() | Sort -Unique Value).count }\n",
    "\n",
    "$grp = ls | Group-Object $UniqCost | sort count -Descending\n",
    "$grp | %{ $_.Group | Measure-Object -Property $UniqCost -Sum\n",
    "     | Join-String -op 'Sum: ' Sum  }\n",
    " \n"
   ]
  },
  {
   "cell_type": "code",
   "execution_count": null,
   "metadata": {
    "dotnet_interactive": {
     "language": "pwsh"
    },
    "vscode": {
     "languageId": "dotnet-interactive.pwsh"
    }
   },
   "outputs": [
    {
     "name": "stdout",
     "output_type": "stream",
     "text": [
      "\r\n",
      "\u001b[32;1mValues Count Group                                                    Name\u001b[0m\r\n",
      "\u001b[32;1m------ ----- -----                                                    ----\u001b[0m\r\n",
      "{3}        2 {C:\\nin, C:\\wsl}                                         3\r\n",
      "{4}        7 {C:\\apps, C:\\Logs, C:\\pwsh, C:\\Temp…}                    4\r\n",
      "{5}        6 {C:\\Games, C:\\Intel, C:\\tools, C:\\Users…}                5\r\n",
      "{6}        1 {C:\\github}                                              6\r\n",
      "{7}        5 {C:\\bin_nin, C:\\ninbugs, C:\\Symbols, C:\\Windows…}        7\r\n",
      "{8}        7 {C:\\DocsRoot, C:\\jake_uri, C:\\nin_fork, C:\\nin_temp…}    8\r\n",
      "{9}        4 {C:\\found.002, C:\\Microsoft, C:\\Python310, C:\\XboxGames} 9\r\n",
      "{12}       1 {C:\\autocomplete}                                        12\r\n",
      "{13}       2 {C:\\Program Files, C:\\programs 2019}                     13\r\n",
      "{14}       1 {C:\\Programs (x86)}                                      14\r\n",
      "{15}       1 {C:\\ProgramData_nin}                                     15\r\n",
      "{19}       1 {C:\\Program Files (x86)}                                 19\r\n",
      "\r\n"
     ]
    }
   ],
   "source": [
    "$Files2  | Group-Object { $_.BaseName.Length  }|ft -auto * "
   ]
  },
  {
   "cell_type": "code",
   "execution_count": null,
   "metadata": {
    "dotnet_interactive": {
     "language": "pwsh"
    },
    "vscode": {
     "languageId": "dotnet-interactive.pwsh"
    }
   },
   "outputs": [
    {
     "name": "stdout",
     "output_type": "stream",
     "text": [
      "\r\n",
      "\u001b[32;1mValues Count Group                                                          Name\u001b[0m\r\n",
      "\u001b[32;1m------ ----- -----                                                          ----\u001b[0m\r\n",
      "{5}        1 {C:\\nin}                                                       5\r\n",
      "{6}        3 {C:\\apps, C:\\venv, C:\\wsl}                                     6\r\n",
      "{7}        8 {C:\\bin_nin, C:\\Logs, C:\\pwsh, C:\\Temp…}                       7\r\n",
      "{8}        2 {C:\\Games, C:\\Intel}                                           8\r\n",
      "{9}        3 {C:\\DocsRoot, C:\\github, C:\\ninbugs}                           9\r\n",
      "{10}       5 {C:\\nin_fork, C:\\nin_temp, C:\\Programs, C:\\Symbols…}           10\r\n",
      "{11}       6 {C:\\found.002, C:\\jake_uri, C:\\Microsoft, C:\\PerfLogs…}        11\r\n",
      "{12}       5 {C:\\autocomplete, C:\\Python310, C:\\XboxGames, C:\\HaxLogs.txt…} 12\r\n",
      "{14}       1 {C:\\ProgramData_nin}                                           14\r\n",
      "{15}       2 {C:\\Program Files, C:\\programs 2019}                           15\r\n",
      "{16}       1 {C:\\Programs (x86)}                                            16\r\n",
      "{20}       1 {C:\\Program Files (x86)}                                       20\r\n",
      "\r\n"
     ]
    }
   ],
   "source": [
    "$UniqCost = { # cost airquotes, the number of distinct characters used\n",
    "    return ($_.FullName.EnumerateRunes() | Sort -Unique Value).count    \n",
    "}\n",
    "$files2  | Group-Object $UniqCost\n",
    "| select -first 20\n",
    "| ft -auto * "
   ]
  },
  {
   "cell_type": "code",
   "execution_count": null,
   "metadata": {
    "dotnet_interactive": {
     "language": "pwsh"
    },
    "vscode": {
     "languageId": "dotnet-interactive.pwsh"
    }
   },
   "outputs": [
    {
     "name": "stdout",
     "output_type": "stream",
     "text": [
      "\r\n",
      "\u001b[32;1mValues Count Group                                                          Name\u001b[0m\r\n",
      "\u001b[32;1m------ ----- -----                                                          ----\u001b[0m\r\n",
      "{5}        1 {C:\\nin}                                                       5\r\n",
      "{6}        3 {C:\\apps, C:\\venv, C:\\wsl}                                     6\r\n",
      "{7}        8 {C:\\bin_nin, C:\\Logs, C:\\pwsh, C:\\Temp…}                       7\r\n",
      "{8}        2 {C:\\Games, C:\\Intel}                                           8\r\n",
      "{9}        3 {C:\\DocsRoot, C:\\github, C:\\ninbugs}                           9\r\n",
      "{10}       5 {C:\\nin_fork, C:\\nin_temp, C:\\Programs, C:\\Symbols…}           10\r\n",
      "{11}       6 {C:\\found.002, C:\\jake_uri, C:\\Microsoft, C:\\PerfLogs…}        11\r\n",
      "{12}       5 {C:\\autocomplete, C:\\Python310, C:\\XboxGames, C:\\HaxLogs.txt…} 12\r\n",
      "{14}       1 {C:\\ProgramData_nin}                                           14\r\n",
      "{15}       2 {C:\\Program Files, C:\\programs 2019}                           15\r\n",
      "{16}       1 {C:\\Programs (x86)}                                            16\r\n",
      "{20}       1 {C:\\Program Files (x86)}                                       20\r\n",
      "\r\n"
     ]
    }
   ],
   "source": []
  }
 ],
 "metadata": {
  "kernelspec": {
   "display_name": ".NET (PowerShell)",
   "language": "PowerShell",
   "name": ".net-pwsh"
  },
  "language_info": {
   "name": "PowerShell"
  }
 },
 "nbformat": 4,
 "nbformat_minor": 2
}
