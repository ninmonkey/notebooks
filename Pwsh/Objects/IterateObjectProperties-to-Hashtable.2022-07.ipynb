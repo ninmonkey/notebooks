{
 "cells": [
  {
   "cell_type": "markdown",
   "metadata": {},
   "source": [
    "```ps1\n",
    "🐒Pwsh>\n",
    "    $now | ft\n",
    "    $now | transposeObject | ft\n",
    "    $now | transposeObject | transposeObject | ft\n",
    "\n",
    "\n",
    "DisplayHint Date                  Day DayOfWeek DayOfYear Hour  Kind Millisecond Minute Month\n",
    "----------- ----                  --- --------- --------- ----  ---- ----------- ------ -----\n",
    "   DateTime 7/21/2022 12:00:00 AM  21  Thursday       202   20 Local         523     50     7\n",
    "\n",
    "\n",
    "637940334435236741 7     7/21/2022 12:00:00 AM Local 2022 21  20   20:50:43.5236741 202       50\n",
    "------------------ -     --------------------- ----- ---- --  --   ---------------- ---       --\n",
    "Ticks              Month Date                  Kind  Year Day Hour TimeOfDay        DayOfYear Minute\n",
    "\n",
    "\n",
    "TimeOfDay        Millisecond Kind  Year DayOfWeek DateTime                           Day Second Month DayOfYear\n",
    "---------        ----------- ----  ---- --------- --------                           --- ------ ----- ---------\n",
    "20:50:43.5236741 523         Local 2022 Thursday  Thursday, July 21, 2022 8:50:43 PM 21  43     7     202\n",
    "```"
   ]
  },
  {
   "cell_type": "code",
   "execution_count": null,
   "metadata": {
    "dotnet_interactive": {
     "language": "pwsh"
    },
    "vscode": {
     "languageId": "dotnet-interactive.pwsh"
    }
   },
   "outputs": [],
   "source": [
    "function transposeObject { \n",
    "    <#\n",
    "    .synopsis\n",
    "        Takes a custom object, transposes (key, value) pairs\n",
    "    #>\n",
    "    [OutputType('System.Collections.Hashtable', 'System.Management.Automation.PSObject')]\n",
    "    param(\n",
    "        [Parameter(ValueFromPipeline, Mandatory)]\n",
    "        [object]$InputObject,\n",
    "        \n",
    "        # Return a hashtables instead of object\n",
    "        [switch]$AsHashtable\n",
    "    )\n",
    "    process {\n",
    "        $tProp = @{} ;\n",
    "        $Name = $_.Name; $Value = $_.Value\n",
    "\n",
    "        $_ | iterProp | ForEach-Object {\n",
    "            if($null -eq $_.Value) {\n",
    "                write-debug \"Value was null\"\n",
    "                return\n",
    "            }            \n",
    "            $tProp[ $_.Value ] = $_.Name\n",
    "        }\n",
    "        if ($AsHashtable) {\n",
    "            return $tProp ; \n",
    "        }\n",
    "        return [pscustomobject]$tProp\n",
    "    } \n",
    "}\n",
    "\n",
    "function Get-ObjectProperty {\n",
    "    <#\n",
    "    .synopsis\n",
    "        sugar for looping on '$x.psobject.properties' \n",
    "    .example\n",
    "        PS> get-date | prop | Ft Value, Name, TypeNameOfValue\n",
    "    .example\n",
    "        PS> Get-Item . | Prop | Ft Name, TypeNameOfValue, Value\n",
    "    .example\n",
    "        $query = Get-ComputerInfo\n",
    "        $selected = $query | Prop | Out-GridView -PassThru\n",
    "        $query | Select-Object -Prop $Selected.Name\n",
    "            WindowsVersion BiosSMBIOSBIOSVersion\n",
    "            -------------- ---------------------\n",
    "            2009           0613\n",
    "    #>\n",
    "    [Alias('iterProp')]\n",
    "    [OutputType([Management.Automation.PSMemberInfoCollection[Management.Automation.PSPropertyInfo]])]\n",
    "    [cmdletbinding()]\n",
    "    param(\n",
    "        # Object to inspect \n",
    "        [Parameter(Mandatory, ValueFromPipeline)]\n",
    "        [object]$InputObject\n",
    "    )\n",
    "    process {\n",
    "        $InputObject.psobject.properties\n",
    "    }\n",
    "}\n",
    "\n",
    "# $now = get-date\n",
    "# $now | iterProp | Ft -auto\n"
   ]
  },
  {
   "cell_type": "code",
   "execution_count": null,
   "metadata": {
    "dotnet_interactive": {
     "language": "pwsh"
    },
    "vscode": {
     "languageId": "dotnet-interactive.pwsh"
    }
   },
   "outputs": [
    {
     "name": "stdout",
     "output_type": "stream",
     "text": [
      "\r\n",
      "\u001b[32;1m                             Value     MemberType IsSettable IsGettable TypeNameOfValue                               Name        IsInstance\u001b[0m\r\n",
      "\u001b[32;1m                             -----     ---------- ---------- ---------- ---------------                               ----        ----------\u001b[0m\r\n",
      "                          DateTime   NoteProperty       True       True Microsoft.PowerShell.Commands.DisplayHintType DisplayHint       True\r\n",
      "Thursday, July 21, 2022 8:51:23 PM ScriptProperty      False       True System.Object                                 DateTime         False\r\n",
      "             7/21/2022 12:00:00 AM       Property      False       True System.DateTime                               Date              True\r\n",
      "                                21       Property      False       True System.Int32                                  Day               True\r\n",
      "                          Thursday       Property      False       True System.DayOfWeek                              DayOfWeek         True\r\n",
      "                               202       Property      False       True System.Int32                                  DayOfYear         True\r\n",
      "                                20       Property      False       True System.Int32                                  Hour              True\r\n",
      "                             Local       Property      False       True System.DateTimeKind                           Kind              True\r\n",
      "                               494       Property      False       True System.Int32                                  Millisecond       True\r\n",
      "                                51       Property      False       True System.Int32                                  Minute            True\r\n",
      "                                 7       Property      False       True System.Int32                                  Month             True\r\n",
      "                                23       Property      False       True System.Int32                                  Second            True\r\n",
      "                637940334834949440       Property      False       True System.Int64                                  Ticks             True\r\n",
      "                  20:51:23.4949440       Property      False       True System.TimeSpan                               TimeOfDay         True\r\n",
      "                              2022       Property      False       True System.Int32                                  Year              True\r\n",
      "\r\n",
      "\r\n"
     ]
    }
   ],
   "source": [
    "$now | iterProp | Ft -auto | out-string -w 200\n",
    "\n",
    "\n"
   ]
  },
  {
   "cell_type": "code",
   "execution_count": null,
   "metadata": {
    "dotnet_interactive": {
     "language": "pwsh"
    },
    "vscode": {
     "languageId": "dotnet-interactive.pwsh"
    }
   },
   "outputs": [
    {
     "name": "stdout",
     "output_type": "stream",
     "text": [
      "\r\n",
      "    Directory: C:\\Users\\cppmo_000\\SkyDrive\\Documents\\2022\\My_Github\\notebooks\\Pwsh\\Objects\r\n",
      "\r\n",
      "\u001b[32;1mMode                 LastWriteTime         Length Name\u001b[0m\r\n",
      "\u001b[32;1m----                 -------------         ------ ----\u001b[0m\r\n",
      "-a---           7/21/2022  8:52 PM           5643 IterateObjectProperties-to-Hashtable.2022-07.ipyn\r\n",
      "                                                  b\r\n",
      "\r\n"
     ]
    }
   ],
   "source": [
    "$q0 = Get-ChildItem | Get-Random -Count 2\n",
    "$q0;\n"
   ]
  },
  {
   "cell_type": "code",
   "execution_count": null,
   "metadata": {
    "dotnet_interactive": {
     "language": "pwsh"
    },
    "vscode": {
     "languageId": "dotnet-interactive.pwsh"
    }
   },
   "outputs": [
    {
     "name": "stdout",
     "output_type": "stream",
     "text": [
      "\r\n",
      "\u001b[32;1mName                           Value\u001b[0m\r\n",
      "\u001b[32;1m----                           -----\u001b[0m\r\n",
      "{Microsoft.PowerShell.Core\\Fi… Values\r\n",
      "{PSParentPath, IsReadOnly, Na… SyncRoot\r\n",
      "{PSParentPath, IsReadOnly, Na… Keys\r\n",
      "19                             Count\r\n",
      "False                          IsSynchronized\r\n",
      "\r\n",
      "\r\n",
      "\u001b[32;1m                             Value     MemberType IsSettable IsGettable TypeNameOfValue\u001b[0m\r\n",
      "\u001b[32;1m                             -----     ---------- ---------- ---------- ---------------            \u001b[0m\r\n",
      "                          DateTime   NoteProperty       True       True Microsoft.PowerShell.Comma…\r\n",
      "Thursday, July 21, 2022 8:52:50 PM ScriptProperty      False       True System.Object              \r\n",
      "             7/21/2022 12:00:00 AM       Property      False       True System.DateTime            \r\n",
      "                                21       Property      False       True System.Int32               \r\n",
      "                          Thursday       Property      False       True System.DayOfWeek           \r\n",
      "                               202       Property      False       True System.Int32               \r\n",
      "                                20       Property      False       True System.Int32               \r\n",
      "                             Local       Property      False       True System.DateTimeKind        \r\n",
      "                                98       Property      False       True System.Int32               \r\n",
      "                                52       Property      False       True System.Int32               \r\n",
      "                                 7       Property      False       True System.Int32               \r\n",
      "                                50       Property      False       True System.Int32               \r\n",
      "                637940335700982250       Property      False       True System.Int64               \r\n",
      "                  20:52:50.0982250       Property      False       True System.TimeSpan            \r\n",
      "                              2022       Property      False       True System.Int32               \r\n",
      "\r\n",
      "\r\n",
      "\u001b[32;1mValue         MemberType IsSettable IsGettable TypeNameOfValue Name                               I\u001b[0m\r\n",
      "\u001b[32;1m                                                                                                  s\u001b[0m\r\n",
      "\u001b[32;1m                                                                                                  I\u001b[0m\r\n",
      "\u001b[32;1m                                                                                                  n\u001b[0m\r\n",
      "\u001b[32;1m                                                                                                  s\u001b[0m\r\n",
      "\u001b[32;1m                                                                                                  t\u001b[0m\r\n",
      "\u001b[32;1m                                                                                                  a\u001b[0m\r\n",
      "\u001b[32;1m                                                                                                  n\u001b[0m\r\n",
      "\u001b[32;1m                                                                                                  c\u001b[0m\r\n",
      "\u001b[32;1m                                                                                                  e\u001b[0m\r\n",
      "\u001b[32;1m-----         ---------- ---------- ---------- --------------- ----                               -\u001b[0m\r\n",
      "Second      NoteProperty       True       True System.String   50                                 e\r\n",
      "Date        NoteProperty       True       True System.String   7/21/2022 12:00:00 AM              e\r\n",
      "Kind        NoteProperty       True       True System.String   Local                              e\r\n",
      "Millisecond NoteProperty       True       True System.String   98                                 e\r\n",
      "Day         NoteProperty       True       True System.String   21                                 e\r\n",
      "Hour        NoteProperty       True       True System.String   20                                 e\r\n",
      "Year        NoteProperty       True       True System.String   2022                               e\r\n",
      "DayOfYear   NoteProperty       True       True System.String   202                                e\r\n",
      "Minute      NoteProperty       True       True System.String   52                                 e\r\n",
      "DateTime    NoteProperty       True       True System.String   Thursday, July 21, 2022 8:52:50 PM e\r\n",
      "TimeOfDay   NoteProperty       True       True System.String   20:52:50.0982250                   e\r\n",
      "Month       NoteProperty       True       True System.String   7                                  e\r\n",
      "Ticks       NoteProperty       True       True System.String   637940335700982250                 e\r\n",
      "DayOfWeek   NoteProperty       True       True System.String   Thursday                           e\r\n",
      "DisplayHint NoteProperty       True       True System.String   DateTime                           e\r\n",
      "\r\n"
     ]
    }
   ],
   "source": [
    "$q1 = $q0 | transposeObject\n",
    "\n",
    "$q1 | transposeObject -AsHashtable | transposeObject -AsHashtable\n",
    " \n",
    "$now = get-date\n",
    "#$now | iterProp | Ft -auto\n",
    "$now | iterProp | ft\n",
    "$now | transposeObject | iterProp | ft\n"
   ]
  },
  {
   "cell_type": "code",
   "execution_count": null,
   "metadata": {
    "dotnet_interactive": {
     "language": "pwsh"
    },
    "vscode": {
     "languageId": "dotnet-interactive.pwsh"
    }
   },
   "outputs": [
    {
     "name": "stdout",
     "output_type": "stream",
     "text": [
      "\r\n",
      "\u001b[32;1mValue                                MemberType IsSettable IsGettable TypeNameOfValue Name        I\u001b[0m\r\n",
      "\u001b[32;1m                                                                                                  s\u001b[0m\r\n",
      "\u001b[32;1m                                                                                                  I\u001b[0m\r\n",
      "\u001b[32;1m                                                                                                  n\u001b[0m\r\n",
      "\u001b[32;1m                                                                                                  s\u001b[0m\r\n",
      "\u001b[32;1m                                                                                                  t\u001b[0m\r\n",
      "\u001b[32;1m                                                                                                  a\u001b[0m\r\n",
      "\u001b[32;1m                                                                                                  n\u001b[0m\r\n",
      "\u001b[32;1m                                                                                                  c\u001b[0m\r\n",
      "\u001b[32;1m                                                                                                  e\u001b[0m\r\n",
      "\u001b[32;1m-----                                ---------- ---------- ---------- --------------- ----        -\u001b[0m\r\n",
      "637940335700982250                 NoteProperty       True       True System.String   Ticks       e\r\n",
      "50                                 NoteProperty       True       True System.String   Second      e\r\n",
      "202                                NoteProperty       True       True System.String   DayOfYear   e\r\n",
      "7/21/2022 12:00:00 AM              NoteProperty       True       True System.String   Date        e\r\n",
      "98                                 NoteProperty       True       True System.String   Millisecond e\r\n",
      "20                                 NoteProperty       True       True System.String   Hour        e\r\n",
      "21                                 NoteProperty       True       True System.String   Day         e\r\n",
      "DateTime                           NoteProperty       True       True System.String   DisplayHint e\r\n",
      "Thursday, July 21, 2022 8:52:50 PM NoteProperty       True       True System.String   DateTime    e\r\n",
      "2022                               NoteProperty       True       True System.String   Year        e\r\n",
      "7                                  NoteProperty       True       True System.String   Month       e\r\n",
      "20:52:50.0982250                   NoteProperty       True       True System.String   TimeOfDay   e\r\n",
      "Thursday                           NoteProperty       True       True System.String   DayOfWeek   e\r\n",
      "52                                 NoteProperty       True       True System.String   Minute      e\r\n",
      "Local                              NoteProperty       True       True System.String   Kind        e\r\n",
      "\r\n",
      "\r\n",
      "\u001b[32;1m50     7/21/2022 12:00:00 AM Local 98          21  20   2022 202       52     Thursday, July 21,\u001b[0m\r\n",
      "\u001b[32;1m                                                                              2022 8:52:50 PM\u001b[0m\r\n",
      "\u001b[32;1m--     --------------------- ----- --          --  --   ---- ---       --     ---------------------\u001b[0m\r\n",
      "Second Date                  Kind  Millisecond Day Hour Year DayOfYear Minute DateTime\r\n",
      "\r\n",
      "\r\n",
      "\u001b[32;1mTicks              Second DayOfYear Date                  Millisecond Hour Day DisplayHint DateTime\u001b[0m\r\n",
      "\u001b[32;1m-----              ------ --------- ----                  ----------- ---- --- ----------- --------\u001b[0m\r\n",
      "637940335700982250 50     202       7/21/2022 12:00:00 AM 98          20   21  DateTime    Thursda…\r\n",
      "\r\n"
     ]
    }
   ],
   "source": [
    "$now | transposeObject | transposeObject | iterProp | ft\n",
    "$now | transposeObject | ft\n",
    "$now | transposeObject | transposeObject | ft"
   ]
  }
 ],
 "metadata": {
  "kernelspec": {
   "display_name": ".NET (PowerShell)",
   "language": "PowerShell",
   "name": ".net-pwsh"
  },
  "language_info": {
   "name": "PowerShell"
  }
 },
 "nbformat": 4,
 "nbformat_minor": 2
}
