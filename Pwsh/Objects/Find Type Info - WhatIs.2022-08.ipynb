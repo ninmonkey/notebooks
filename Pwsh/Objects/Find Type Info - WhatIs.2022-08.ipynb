{
 "cells": [
  {
   "cell_type": "markdown",
   "metadata": {},
   "source": [
    "Part2: \n",
    "First the helper functions"
   ]
  },
  {
   "cell_type": "code",
   "execution_count": null,
   "metadata": {
    "dotnet_interactive": {
     "language": "pwsh"
    },
    "vscode": {
     "languageId": "dotnet-interactive.pwsh"
    }
   },
   "outputs": [],
   "source": [
    "Using namespace System.Collections.Generic\n",
    "\n",
    "function Get-PSObjectProperties {\n",
    "    <#\n",
    "    .synopsis\n",
    "        iterate/enumerate an object's properties  [zero dependency]\n",
    "    .example\n",
    "        PS> gi . | IterProp\n",
    "    .example\n",
    "        PS> (get-date) | iterProp | Ft -AutoSize MemberType, Name, Value, TypeNameOfValue\n",
    "    #>\n",
    "    [Alias('IterProp')]\n",
    "    [cmdletbinding()]\n",
    "    param(\n",
    "        # any object to enumerate\n",
    "        [Parameter(Mandatory, ValueFromPipeline)]\n",
    "        [object]$InputObject\n",
    "    )\n",
    "    begin {}\n",
    "    process {\n",
    "        $InputObject.PSObject.Properties\n",
    "    }\n",
    "    end {}\n",
    "}\n",
    "\n",
    "function Get-ObjectTypeInfo {\n",
    "    <#\n",
    "    .synopsis\n",
    "        iterate/enumerate an object's properties  [zero dependency]\n",
    "    .example\n",
    "        PS> gi . | IterProp\n",
    "    .example\n",
    "        gi . | IterProp | ft Name, TypeNameOfValue, Value -AutoSize\n",
    "    .example\n",
    "        PS> (get-date) | iterProp | Ft -AutoSize MemberType, Name, Value, TypeNameOfValue\n",
    "    #>\n",
    "    [Alias('TypeInfo')]\n",
    "    [cmdletbinding()]\n",
    "    param(\n",
    "        # any object to enumerate\n",
    "        [AllowNull()]\n",
    "        [Parameter(Mandatory, ValueFromPipeline)]\n",
    "        [object]$InputObject\n",
    "    )\n",
    "    begin {}\n",
    "    process {\n",
    "        $meta = @{ }\n",
    "        if ($null -eq $InputObject) {\n",
    "            return 'True Null'\n",
    "        }\n",
    "        $firstElement = if ($InputObject.count -gt 0) {\n",
    "            $InputObject[0].GetType().Fullname\n",
    "        } else { $null }\n",
    "\n",
    "\n",
    "        $itemCount = $InputObject.Count\n",
    "        $tinfo = $InputObject.GetType()\n",
    "        $meta = [ordered]@{\n",
    "            PSTypeName     = 'nin.TypeInfo'\n",
    "            Type           = $Tinfo.Name\n",
    "            BaseType       = $tinfo.BaseType.FullName\n",
    "            HasElements    = $InputObject.Count -gt 0\n",
    "            FirstElement   = $firstElement\n",
    "            Count          = $InputObject.Count\n",
    "            Length         = $InputObject.Length # note: can be misleading\n",
    "            PSTypeNameList = $InputObject.PSTypeNames\n",
    "            Namespace      = $Tinfo.Namespace\n",
    "            FullName       = $tinfo.FullName\n",
    "        }\n",
    "\n",
    "        if ($InputObject -is 'String') {\n",
    "            $meta += @{\n",
    "                StringLength  = $InputObject.Length\n",
    "                IsWhiteSpace  = [string]::IsNullOrWhiteSpace( $InputObject )\n",
    "                IsNullOrEmpty = [string]::IsNullOrEmpty( $InputObject )\n",
    "                IsAString     = $InputObject -is 'String'\n",
    "                AsTypeName    = $InputObject -as 'type'\n",
    "            }\n",
    "        }\n",
    "\n",
    "        return [pscustomObject]$Meta\n",
    "    }\n",
    "    end {}\n",
    "}"
   ]
  },
  {
   "cell_type": "markdown",
   "metadata": {},
   "source": []
  },
  {
   "cell_type": "code",
   "execution_count": null,
   "metadata": {
    "dotnet_interactive": {
     "language": "pwsh"
    },
    "vscode": {
     "languageId": "dotnet-interactive.pwsh"
    }
   },
   "outputs": [],
   "source": [
    "# Samples to inspect\n",
    "$nums = 0..4\n",
    "$letters = 'a'..'e'\n",
    "$target = Get-Item .\n",
    "$envVars = ls env:\n",
    "$now = get-date\n",
    "$folder = gi 'c:\\'\n",
    "$items = ls 'c:\\' -depth 1\n"
   ]
  },
  {
   "cell_type": "code",
   "execution_count": null,
   "metadata": {
    "dotnet_interactive": {
     "language": "pwsh"
    },
    "vscode": {
     "languageId": "dotnet-interactive.pwsh"
    }
   },
   "outputs": [
    {
     "name": "stdout",
     "output_type": "stream",
     "text": [
      "\n",
      "- string PSPath=Microsoft.PowerShell.Core\\FileSystem::C:\\Users\\cppmo_000\\SkyDrive\\Documents\\2022\\My_Github\\notebooks\\Pwsh\\Objects\n",
      "- string PSParentPath=Microsoft.PowerShell.Core\\FileSystem::C:\\Users\\cppmo_000\\SkyDrive\\Documents\\2022\\My_Github\\notebooks\\Pwsh\n",
      "- string PSChildName=Objects\n",
      "- PSDriveInfo PSDrive=C\n",
      "- ProviderInfo PSProvider=Microsoft.PowerShell.Core\\FileSystem\n",
      "- bool PSIsContainer=True\n",
      "- System.String Mode{get=Mode;}\n",
      "- System.String ModeWithoutHardLink{get=ModeWithoutHardLink;}\n",
      "- System.Object BaseName {get=$this.Name;}\n",
      "- Target = LinkTarget\n",
      "- System.String LinkType{get=GetLinkType;}\n",
      "- System.IO.DirectoryInfo Parent {get;}\n",
      "- System.IO.DirectoryInfo Root {get;}\n",
      "- string FullName {get;}\n",
      "- string Extension {get;}\n",
      "- string Name {get;}\n",
      "- bool Exists {get;}\n",
      "- datetime CreationTime {get;set;}\n",
      "- datetime CreationTimeUtc {get;set;}\n",
      "- datetime LastAccessTime {get;set;}\n",
      "- datetime LastAccessTimeUtc {get;set;}\n",
      "- datetime LastWriteTime {get;set;}\n",
      "- datetime LastWriteTimeUtc {get;set;}\n",
      "- string LinkTarget {get;}\n",
      "- System.IO.FileAttributes Attributes {get;set;}\r\n"
     ]
    }
   ],
   "source": [
    "# now lets have fun\n",
    "$target\n",
    "| IterProp\n",
    "| Join-String -sep \"`n- \" -op \"`n- \"\n",
    "\n",
    "# $now\n",
    "# | IterProp\n",
    "# | Join-String -sep \"`n\" -op \"`n\" { $_.Name, \"`n`t\", $_.Type, \"`n`t\", $_.value -join ' = ' }\n"
   ]
  },
  {
   "cell_type": "code",
   "execution_count": null,
   "metadata": {
    "dotnet_interactive": {
     "language": "pwsh"
    },
    "vscode": {
     "languageId": "dotnet-interactive.pwsh"
    }
   },
   "outputs": [
    {
     "name": "stdout",
     "output_type": "stream",
     "text": [
      "\n",
      "\u001b[38;2;73;116;161mSystem.String        \u001b[38;2;164;220;255mPSPath               \u001b[38;2;219;220;154mMicrosoft.PowerShell.Core\\FileSystem::C: \n",
      "\u001b[38;2;73;116;161mSystem.String        \u001b[38;2;164;220;255mPSParentPath         \u001b[38;2;219;220;154mMicrosoft.PowerShell.Core\\FileSystem::C: \n",
      "\u001b[38;2;73;116;161mSystem.String        \u001b[38;2;164;220;255mPSChildName          \u001b[38;2;219;220;154mObjects                                  \n",
      "\u001b[38;2;73;116;161mSystem.Management.Au \u001b[38;2;164;220;255mPSDrive              \u001b[38;2;219;220;154mC                                        \n",
      "\u001b[38;2;73;116;161mSystem.Management.Au \u001b[38;2;164;220;255mPSProvider           \u001b[38;2;219;220;154mMicrosoft.PowerShell.Core\\FileSystem     \n",
      "\u001b[38;2;73;116;161mSystem.Boolean       \u001b[38;2;164;220;255mPSIsContainer        \u001b[38;2;219;220;154mTrue                                     \n",
      "\u001b[38;2;73;116;161mSystem.String        \u001b[38;2;164;220;255mMode                 \u001b[38;2;219;220;154mla---                                    \n",
      "\u001b[38;2;73;116;161mSystem.String        \u001b[38;2;164;220;255mModeWithoutHardLink  \u001b[38;2;219;220;154mla---                                    \n",
      "\u001b[38;2;73;116;161mSystem.Object        \u001b[38;2;164;220;255mBaseName             \u001b[38;2;219;220;154mObjects                                  \n",
      "\n",
      "\n",
      "\u001b[38;2;73;116;161mSystem.IO.DirectoryI \u001b[38;2;164;220;255mParent               \u001b[38;2;219;220;154mC:\\Users\\cppmo_000\\SkyDrive\\Documents\\20 \n",
      "\u001b[38;2;73;116;161mSystem.IO.DirectoryI \u001b[38;2;164;220;255mRoot                 \u001b[38;2;219;220;154mC:\\                                      \n",
      "\u001b[38;2;73;116;161mSystem.String        \u001b[38;2;164;220;255mFullName             \u001b[38;2;219;220;154mC:\\Users\\cppmo_000\\SkyDrive\\Documents\\20 \n",
      "\u001b[38;2;73;116;161mSystem.String        \u001b[38;2;164;220;255mExtension            \u001b[38;2;219;220;154m                                         \n",
      "\u001b[38;2;73;116;161mSystem.String        \u001b[38;2;164;220;255mName                 \u001b[38;2;219;220;154mObjects                                  \n",
      "\u001b[38;2;73;116;161mSystem.Boolean       \u001b[38;2;164;220;255mExists               \u001b[38;2;219;220;154mTrue                                     \n",
      "\u001b[38;2;73;116;161mSystem.DateTime      \u001b[38;2;164;220;255mCreationTime         \u001b[38;2;219;220;154m7/21/2022 8:22:09 PM                     \n",
      "\u001b[38;2;73;116;161mSystem.DateTime      \u001b[38;2;164;220;255mCreationTimeUtc      \u001b[38;2;219;220;154m7/22/2022 1:22:09 AM                     \n",
      "\u001b[38;2;73;116;161mSystem.DateTime      \u001b[38;2;164;220;255mLastAccessTime       \u001b[38;2;219;220;154m8/15/2022 12:13:41 PM                    \n",
      "\u001b[38;2;73;116;161mSystem.DateTime      \u001b[38;2;164;220;255mLastAccessTimeUtc    \u001b[38;2;219;220;154m8/15/2022 5:13:41 PM                     \n",
      "\u001b[38;2;73;116;161mSystem.DateTime      \u001b[38;2;164;220;255mLastWriteTime        \u001b[38;2;219;220;154m8/15/2022 12:11:17 PM                    \n",
      "\u001b[38;2;73;116;161mSystem.DateTime      \u001b[38;2;164;220;255mLastWriteTimeUtc     \u001b[38;2;219;220;154m8/15/2022 5:11:17 PM                     \n",
      "\n",
      "\u001b[38;2;73;116;161mSystem.IO.FileAttrib \u001b[38;2;164;220;255mAttributes           \u001b[38;2;219;220;154mDirectory, Archive, ReparsePoint         \r\n"
     ]
    }
   ],
   "source": [
    "# Using 'PadRight/Left' both [1] aligns our strings, and, [2], ensures substring is does not have an index error\n",
    "$Colors = @{\n",
    "    TypeName = $PSStyle.Foreground.FromRgb('#4974a1')\n",
    "    MemberName = $PSStyle.Foreground.FromRgb('#a4dcff')\n",
    "    MemberValue = $PSStyle.Foreground.FromRgb('#dbdc9a')    \n",
    "}\n",
    "$target | IterProp | Join-String -sep \"`n\" -op \"`n\" { @(        \n",
    "        $max = 20\n",
    "        $Colors.TypeName\n",
    "        $_.TypeNameOfValue.ToString().padright($max).substring(0, $max)\n",
    "        ' '\n",
    "        $Colors.MemberName\n",
    "        $_.name.ToString().Padright( $max).Substring(0, $max)\n",
    "        ' '        \n",
    "        $Colors.MemberValue\n",
    "        $_.Value.ToString().padright($max+20).substring(0, $max+20)\n",
    "        ' '\n",
    "    ) -join ''\n",
    "}"
   ]
  },
  {
   "cell_type": "code",
   "execution_count": null,
   "metadata": {
    "dotnet_interactive": {
     "language": "pwsh"
    },
    "vscode": {
     "languageId": "dotnet-interactive.pwsh"
    }
   },
   "outputs": [
    {
     "name": "stdout",
     "output_type": "stream",
     "text": [
      "\r\n",
      "\u001b[32;1mName                TypeNameOfValue                           Value\u001b[0m\r\n",
      "\u001b[32;1m----                ---------------                           -----\u001b[0m\r\n",
      "PSPath              System.String                             Microsoft.PowerShell.Core\\FileSystem…\r\n",
      "PSParentPath        System.String                             Microsoft.PowerShell.Core\\FileSystem…\r\n",
      "PSChildName         System.String                             Objects\r\n",
      "PSDrive             System.Management.Automation.PSDriveInfo  C\r\n",
      "PSProvider          System.Management.Automation.ProviderInfo Microsoft.PowerShell.Core\\FileSystem\r\n",
      "PSIsContainer       System.Boolean                            True\r\n",
      "Mode                System.String                             la---\r\n",
      "ModeWithoutHardLink System.String                             la---\r\n",
      "BaseName            System.Object                             Objects\r\n",
      "Target              System.String                             \r\n",
      "LinkType            System.String                             \r\n",
      "Parent              System.IO.DirectoryInfo                   C:\\Users\\cppmo_000\\SkyDrive\\Document…\r\n",
      "Root                System.IO.DirectoryInfo                   C:\\\r\n",
      "FullName            System.String                             C:\\Users\\cppmo_000\\SkyDrive\\Document…\r\n",
      "Extension           System.String                             \r\n",
      "Name                System.String                             Objects\r\n",
      "Exists              System.Boolean                            True\r\n",
      "CreationTime        System.DateTime                           7/21/2022 8:22:09 PM\r\n",
      "CreationTimeUtc     System.DateTime                           7/22/2022 1:22:09 AM\r\n",
      "LastAccessTime      System.DateTime                           8/15/2022 12:13:41 PM\r\n",
      "LastAccessTimeUtc   System.DateTime                           8/15/2022 5:13:41 PM\r\n",
      "LastWriteTime       System.DateTime                           8/15/2022 12:11:17 PM\r\n",
      "LastWriteTimeUtc    System.DateTime                           8/15/2022 5:11:17 PM\r\n",
      "LinkTarget          System.String                             \r\n",
      "Attributes          System.IO.FileAttributes                  Directory, Archive, ReparsePoint\r\n",
      "\r\n",
      "\r\n",
      "\u001b[32;1m    MemberType Name                                      Value TypeNameOfValue\u001b[0m\r\n",
      "\u001b[32;1m    ---------- ----                                      ----- ---------------\u001b[0m\r\n",
      "  NoteProperty DisplayHint                            DateTime Microsoft.PowerShell.Commands.Displ…\r\n",
      "ScriptProperty DateTime    Monday, August 15, 2022 12:14:35 PM System.Object\r\n",
      "      Property Date                      8/15/2022 12:00:00 AM System.DateTime\r\n",
      "      Property Day                                          15 System.Int32\r\n",
      "      Property DayOfWeek                                Monday System.DayOfWeek\r\n",
      "      Property DayOfYear                                   227 System.Int32\r\n",
      "      Property Hour                                         12 System.Int32\r\n",
      "      Property Kind                                      Local System.DateTimeKind\r\n",
      "      Property Millisecond                                 783 System.Int32\r\n",
      "      Property Minute                                       14 System.Int32\r\n",
      "      Property Month                                         8 System.Int32\r\n",
      "      Property Second                                       35 System.Int32\r\n",
      "      Property Ticks                        637961624757834665 System.Int64\r\n",
      "      Property TimeOfDay                      12:14:35.7834665 System.TimeSpan\r\n",
      "      Property Year                                       2022 System.Int32\r\n",
      "\r\n"
     ]
    }
   ],
   "source": [
    "# $target | IterProp | Join-String -sep \"`n- \" -op \"`n- \"\n",
    "\n",
    "$target | IterProp\n",
    "| Format-Table Name, TypeNameOfValue, Value -AutoSize\n",
    "\n",
    "$now | iterProp\n",
    "| Format-Table -AutoSize MemberType, Name, Value, TypeNameOfValue\n",
    "\n"
   ]
  },
  {
   "cell_type": "code",
   "execution_count": null,
   "metadata": {
    "dotnet_interactive": {
     "language": "pwsh"
    },
    "vscode": {
     "languageId": "dotnet-interactive.pwsh"
    }
   },
   "outputs": [
    {
     "name": "stdout",
     "output_type": "stream",
     "text": [
      "\n",
      "PSPath              Microsoft.PowerShell\n",
      "PSParentPath        Microsoft.PowerShell\n",
      "PSChildName         Objects             \n",
      "PSDrive             C                   \n",
      "PSProvider          Microsoft.PowerShell\n",
      "PSIsContainer       True                \n",
      "Mode                la---               \n",
      "ModeWithoutHardLink la---               \n",
      "BaseName            Objects             \n",
      "\n",
      "\n",
      "Parent              C:\\Users\\cppmo_000\\S\n",
      "Root                C:\\                 \n",
      "FullName            C:\\Users\\cppmo_000\\S\n",
      "Extension                               \n",
      "Name                Objects             \n",
      "Exists              True                \n",
      "CreationTime        7/21/2022 8:22:09 PM\n",
      "CreationTimeUtc     7/22/2022 1:22:09 AM\n",
      "LastAccessTime      8/15/2022 12:13:41 P\n",
      "LastAccessTimeUtc   8/15/2022 5:13:41 PM\n",
      "LastWriteTime       8/15/2022 12:11:17 P\n",
      "LastWriteTimeUtc    8/15/2022 5:11:17 PM\n",
      "\n",
      "Attributes          Directory, Archive, \r\n"
     ]
    }
   ],
   "source": []
  }
 ],
 "metadata": {
  "kernelspec": {
   "display_name": ".NET (C#)",
   "language": "C#",
   "name": ".net-csharp"
  },
  "language_info": {
   "file_extension": ".cs",
   "mimetype": "text/x-csharp",
   "name": "C#",
   "pygments_lexer": "csharp",
   "version": "9.0"
  },
  "orig_nbformat": 4,
  "vscode": {
   "interpreter": {
    "hash": "74c392d937995c80c000e965374d78af3f189f264a4219fb3bb9b9db8f0c4454"
   }
  }
 },
 "nbformat": 4,
 "nbformat_minor": 2
}
