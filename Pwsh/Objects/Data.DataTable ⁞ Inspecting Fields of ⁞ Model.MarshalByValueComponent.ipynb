{
 "cells": [
  {
   "cell_type": "markdown",
   "metadata": {},
   "source": [
    "Inspecting `ComponentModel.MarshalByValueComponent` and `Data.DataTable`\n"
   ]
  },
  {
   "cell_type": "code",
   "execution_count": null,
   "metadata": {
    "dotnet_interactive": {
     "language": "pwsh"
    },
    "vscode": {
     "languageId": "dotnet-interactive.pwsh"
    }
   },
   "outputs": [
    {
     "name": "stdout",
     "output_type": "stream",
     "text": [
      "Pwsh: 7.2.5\r\n",
      "ClassExplorer = 2.3.3\r\n"
     ]
    }
   ],
   "source": [
    "$PSVersionTable | Join-String -op 'Pwsh: ' PSVersion\n",
    "Import-Module ClassExplorer -ea stop -passThru\n",
    "| Join-String { $_.Name, $_.Version -join ' = ' }\n",
    "$PSVersionTable.version"
   ]
  },
  {
   "cell_type": "markdown",
   "metadata": {},
   "source": []
  },
  {
   "cell_type": "code",
   "execution_count": null,
   "metadata": {
    "dotnet_interactive": {
     "language": "pwsh"
    },
    "vscode": {
     "languageId": "dotnet-interactive.pwsh"
    }
   },
   "outputs": [
    {
     "name": "stdout",
     "output_type": "stream",
     "text": [
      "\r\n",
      "\u001b[32;1mName      BaseType\u001b[0m\r\n",
      "\u001b[32;1m----      --------\u001b[0m\r\n",
      "DataTable System.ComponentModel.MarshalByValueComponent\r\n",
      "\r\n",
      "\r\n",
      "\u001b[32;1mOverloadDefinitions\u001b[0m\r\n",
      "\u001b[32;1m-------------------\u001b[0m\r\n",
      "\u001b[92mpublic\u001b[0m \u001b[37mDataTable\u001b[0m\u001b[90m(\u001b[0m\u001b[90m)\u001b[0m\u001b[90m;\u001b[0m\r\n",
      "\u001b[92mpublic\u001b[0m \u001b[37mDataTable\u001b[0m\u001b[90m(\u001b[0m\u001b[92mstring\u001b[0m \u001b[92mtableName\u001b[0m\u001b[90m)\u001b[0m\u001b[90m;\u001b[0m\r\n",
      "\u001b[92mpublic\u001b[0m \u001b[37mDataTable\u001b[0m\u001b[90m(\u001b[0m\u001b[92mstring\u001b[0m \u001b[92mtableName\u001b[0m\u001b[90m,\u001b[0m\r\n",
      "\u001b[92mstring\u001b[0m \u001b[92mtableNamespace\u001b[0m\u001b[90m)\u001b[0m\u001b[90m;\u001b[0m\r\n",
      "\r\n"
     ]
    }
   ],
   "source": [
    "[Data.DataTable] | ft Name, BaseType\n",
    "[Data.DataTable]::new | ft -auto"
   ]
  },
  {
   "cell_type": "code",
   "execution_count": null,
   "metadata": {
    "dotnet_interactive": {
     "language": "pwsh"
    },
    "vscode": {
     "languageId": "dotnet-interactive.pwsh"
    }
   },
   "outputs": [
    {
     "name": "stdout",
     "output_type": "stream",
     "text": [
      "$dt isNull? False\r\n",
      "\r\n",
      "\u001b[32;1mName      BaseType                                      Namespace\u001b[0m\r\n",
      "\u001b[32;1m----      --------                                      ---------\u001b[0m\r\n",
      "DataTable System.ComponentModel.MarshalByValueComponent System.Data\r\n",
      "\r\n"
     ]
    }
   ],
   "source": [
    "$dt = [Data.DataTable]::new('MyTable')\n",
    "$dt | ft\n",
    "\n",
    "$null -eq $dt | Join-String -op '$dt isNull? ' \n",
    "$dt.GetType() | Ft Name, *base*, Namespace"
   ]
  },
  {
   "cell_type": "code",
   "execution_count": null,
   "metadata": {
    "dotnet_interactive": {
     "language": "pwsh"
    },
    "vscode": {
     "languageId": "dotnet-interactive.pwsh"
    }
   },
   "outputs": [
    {
     "name": "stdout",
     "output_type": "stream",
     "text": [
      "\u001b[91mGet-Member: \u001b[91mYou must specify an object for the Get-Member cmdlet.\u001b[0m\r\n"
     ]
    }
   ],
   "source": [
    "$dt | gm -force *"
   ]
  },
  {
   "cell_type": "code",
   "execution_count": null,
   "metadata": {
    "dotnet_interactive": {
     "language": "pwsh"
    },
    "vscode": {
     "languageId": "dotnet-interactive.pwsh"
    }
   },
   "outputs": [],
   "source": [
    "$dt | Find-Member -force *"
   ]
  },
  {
   "cell_type": "code",
   "execution_count": null,
   "metadata": {
    "dotnet_interactive": {
     "language": "pwsh"
    },
    "vscode": {
     "languageId": "dotnet-interactive.pwsh"
    }
   },
   "outputs": [
    {
     "name": "stdout",
     "output_type": "stream",
     "text": [
      "CaseSensitive = False\n",
      "IsInitialized = True\n",
      "RemotingFormat = Xml\n",
      "ChildRelations = System.Data.DataRelationCollection+DataTableRelationCollection\n",
      "Columns = System.Data.DataColumnCollection\n",
      "Constraints = System.Data.ConstraintCollection\n",
      "DataSet = \n",
      "DefaultView = System.Data.DataView\n",
      "DisplayExpression = \n",
      "ExtendedProperties = System.Data.PropertyCollection\n",
      "HasErrors = False\n",
      "Locale = en-US\n",
      "MinimumCapacity = 50\n",
      "ParentRelations = System.Data.DataRelationCollection+DataTableRelationCollection\n",
      "PrimaryKey = System.Data.DataColumn[]\n",
      "Rows = System.Data.DataRowCollection\n",
      "TableName = MyTable\n",
      "Namespace = \n",
      "Prefix = \n",
      "Site = \n",
      "Container = \n",
      "DesignMode = False\n",
      "ContainsListCollection = False\r\n"
     ]
    }
   ],
   "source": [
    "$dt.Psobject.Properties | Join-String { $_.Name, $_.Value -join ' = ' } -sep \"`n\""
   ]
  },
  {
   "cell_type": "code",
   "execution_count": null,
   "metadata": {
    "dotnet_interactive": {
     "language": "pwsh"
    },
    "vscode": {
     "languageId": "dotnet-interactive.pwsh"
    }
   },
   "outputs": [
    {
     "name": "stdout",
     "output_type": "stream",
     "text": [
      "\r\n",
      "\u001b[32;1mCount Name\u001b[0m\r\n",
      "\u001b[32;1m----- ----\u001b[0m\r\n",
      "    3 \r\n",
      "    5 Boolean\r\n",
      "    1 ConstraintCollection\r\n",
      "    1 CultureInfo\r\n",
      "    1 DataColumn[]\r\n",
      "    1 DataColumnCollection\r\n",
      "    1 DataRowCollection\r\n",
      "    2 DataTableRelationCollection\r\n",
      "    1 DataView\r\n",
      "    1 Int32\r\n",
      "    1 PropertyCollection\r\n",
      "    1 SerializationFormat\r\n",
      "    4 String\r\n",
      "\r\n"
     ]
    }
   ],
   "source": [
    "function _summarizeTypesOnly {\n",
    "    $plist = $dt.psobject.properties\n",
    "    $pGroups = $plist | Group-Object { ($_.Value)?.GetType().Name } -NoElement | Sort-Object Name\n",
    "    $pGroups\n",
    "}\n",
    "_summarizeTypesOnly |ft -auto"
   ]
  },
  {
   "cell_type": "code",
   "execution_count": null,
   "metadata": {
    "dotnet_interactive": {
     "language": "pwsh"
    },
    "vscode": {
     "languageId": "dotnet-interactive.pwsh"
    }
   },
   "outputs": [
    {
     "name": "stdout",
     "output_type": "stream",
     "text": [
      "\n",
      "[PSProperty]\n",
      "  CaseSensitive = False\n",
      "\n",
      "[PSProperty]\n",
      "  ChildRelations = \n",
      "\n",
      "[PSProperty]\n",
      "  Columns = \n",
      "\n",
      "[PSProperty]\n",
      "  Constraints = \n",
      "\n",
      "[␀]\n",
      "  Container = ␀\n",
      "\n",
      "[PSProperty]\n",
      "  ContainsListCollection = False\n",
      "\n",
      "[␀]\n",
      "  DataSet = ␀\n",
      "\n",
      "[PSProperty]\n",
      "  DefaultView = \n",
      "\n",
      "[PSProperty]\n",
      "  DesignMode = False\n",
      "\n",
      "[PSProperty]\n",
      "  DisplayExpression = \n",
      "\n",
      "[PSProperty]\n",
      "  ExtendedProperties = System.Data.PropertyCollection\n",
      "\n",
      "[PSProperty]\n",
      "  HasErrors = False\n",
      "\n",
      "[PSProperty]\n",
      "  IsInitialized = True\n",
      "\n",
      "[PSProperty]\n",
      "  Locale = en-US\n",
      "\n",
      "[PSProperty]\n",
      "  MinimumCapacity = 50\n",
      "\n",
      "[PSProperty]\n",
      "  Namespace = \n",
      "\n",
      "[PSProperty]\n",
      "  ParentRelations = \n",
      "\n",
      "[PSProperty]\n",
      "  Prefix = \n",
      "\n",
      "[PSProperty]\n",
      "  PrimaryKey = \n",
      "\n",
      "[PSProperty]\n",
      "  RemotingFormat = Xml\n",
      "\n",
      "[PSProperty]\n",
      "  Rows = \n",
      "\n",
      "[␀]\n",
      "  Site = ␀\n",
      "\n",
      "[PSProperty]\n",
      "  TableName = MyTable\r\n"
     ]
    }
   ],
   "source": [
    "function _summarize2Line {\n",
    "    $dt.Psobject.Properties\n",
    "    | Sort Name\n",
    "    | Join-String { \n",
    "        $IsNull =  $null -eq $_.Value\n",
    "        $TypeName = $IsNull ? '␀': $_.GetType().Name\n",
    "        $Name = $_.Name\n",
    "        $Value = $IsNull ? '␀' : $_.Value\n",
    "\n",
    "        \"`n[${TypeName}]`n  ${Name} = ${Value}\" \n",
    "        \n",
    "    } -sep \"`n\"\n",
    "}\n",
    "\n",
    "_summarize2Line\n",
    "\n",
    "function _summarizeTypesOnly {\n",
    "\n",
    "    $dt.Psobject.Properties\n",
    "    | Sort Name\n",
    "    | Join-String { \n",
    "        $IsNull =  $null -eq $_.Value\n",
    "        $TypeName = $IsNull ? '␀': $_.GetType().Name\n",
    "        $Name = $_.Name\n",
    "        $Value = $IsNull ? '␀' : $_.Value\n",
    "\n",
    "        \"`n[${TypeName}]`n  ${Name} = ${Value}\" \n",
    "        \n",
    "    } -sep \"`n\"\n",
    "}\n"
   ]
  }
 ],
 "metadata": {
  "kernelspec": {
   "display_name": ".NET (C#)",
   "language": "C#",
   "name": ".net-csharp"
  },
  "language_info": {
   "file_extension": ".cs",
   "mimetype": "text/x-csharp",
   "name": "C#",
   "pygments_lexer": "csharp",
   "version": "9.0"
  },
  "orig_nbformat": 4,
  "vscode": {
   "interpreter": {
    "hash": "74c392d937995c80c000e965374d78af3f189f264a4219fb3bb9b9db8f0c4454"
   }
  }
 },
 "nbformat": 4,
 "nbformat_minor": 2
}
