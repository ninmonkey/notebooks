{
 "cells": [
  {
   "cell_type": "markdown",
   "metadata": {},
   "source": [
    "Null-coalescing operators Find Type Info - WhatIs.2022-08.ipynb\n",
    "\n",
    "\n",
    "\n",
    "| Operator | Name | \n",
    "| - | - |\n",
    "| `??` | [Null-coalese Operator](https://learn.microsoft.com/en-us/powershell/module/microsoft.powershell.core/about/about_operators?view=powershell-7.3#null-coalescing-operator-)  |\n",
    "| `??=` | [Null-coalescing assignment](https://learn.microsoft.com/en-us/powershell/module/microsoft.powershell.core/about/about_operators?view=powershell-7.2#null-coalescing-assignment-operator-)  |\n",
    "| `?.` | [Null Conditional Member Access](https://learn.microsoft.com/en-us/powershell/module/microsoft.powershell.core/about/about_operators?view=powershell-7.2#null-conditional-operators--and-)\n",
    "| `?[]` | [Null Conditional Element Access](https://learn.microsoft.com/en-us/powershell/module/microsoft.powershell.core/about/about_operators?view=powershell-7.2#null-conditional-operators--and-)\n",
    "\n",
    "> from the docs: Since PowerShell allows ? to be part of the variable name, formal specification of the variable name is required for using these operators\n",
    "\n",
    "It should say **\"usually required\"**. For cases that are not ambiguous, you do not need `{}` or `()`.\n",
    "If you want to be certain, this syntax is a little cleaner. You surround the first part of the expression with parethesis. \n",
    "\n",
    "```powershell\n",
    "($nums)?[9]\n",
    "\n",
    "($nums.bar.foo)?.bar\n",
    "```\n",
    "\n",
    "### Shorthand for using the  `?.` and `?[]` syntax \n",
    "\n",
    "using `$nums = 0..3`\n",
    "\n",
    "| Original Case (that Errors) | Becomes safe (null) |\n",
    "| - | - | \n",
    "| `$nums.fake.ToString()` | `($nums.fake)?.ToString()` <br/> `$nums.'fake'?.toString()`| \n",
    "|  `$Nums.FakeFunction()`  | `($Nums)?.FakeFunction()` |\n",
    "| `$nums[8].ToString()` | `$nums[8]?.ToString()` <br/> `($nums[8])?.ToString()` |\n",
    "| `$nums[9]` | `($nums)?[9]` |\n",
    "` ($nums)?[9].ToString() ` | `($nums)?[9]?.ToString()` |\n",
    "| `$hash.'bar'.ToString()` | `$hash.'bar'?.ToString()` |\n",
    "\n",
    "Summarized as: is the character on the left a quote, or `[]` block, or `{}` or `()`, then you're okay  (usually)\n",
    "\n",
    "### Simple, Short syntax for caching `??=` \n",
    "\n",
    "```powershell\n",
    "$all_Files ??= Get-ChildItem -path 'c:\\' -recurse\n",
    "$all_files.count\n",
    "```\n",
    "You can keep running that line, it will only search for files once. Nice when you're on the terminal\n",
    "\n",
    "### Or as default config in a script\n",
    "\n",
    "```powershell\n",
    "$appConf ??= @{ \n",
    "    ExportPath = 'temp:/'\n",
    "    ColorFG = 'blue'\n",
    "}\n",
    "\n",
    "# this setting is not lost on future runs\n",
    "$appConf.ColorFG = 'red'\n",
    "```"
   ]
  },
  {
   "cell_type": "code",
   "execution_count": null,
   "metadata": {
    "dotnet_interactive": {
     "language": "pwsh"
    },
    "vscode": {
     "languageId": "dotnet-interactive.pwsh"
    }
   },
   "outputs": [
    {
     "name": "stdout",
     "output_type": "stream",
     "text": [
      "\u001b[91mInvalidOperation: \r\n",
      "\u001b[96mLine |\r\n",
      "\u001b[96m  14 | \u001b[0m     \u001b[96m$nums[94]?.toString.bar.toString()\u001b[0m\r\n",
      "\u001b[96m     | \u001b[91m     ~~~~~~~~~~~~~~~~~~~~~~~~~~~~~~~~~~\r\n",
      "\u001b[91m\u001b[96m     | \u001b[91mYou cannot call a method on a null-valued expression.\u001b[0m\r\n",
      "\u001b[91mInvalidOperation: \r\n",
      "\u001b[96mLine |\r\n",
      "\u001b[96m  15 | \u001b[0m     \u001b[96m$nums.foo.ToString()\u001b[0m\r\n",
      "\u001b[96m     | \u001b[91m     ~~~~~~~~~~~~~~~~~~~~\r\n",
      "\u001b[91m\u001b[96m     | \u001b[91mYou cannot call a method on a null-valued expression.\u001b[0m\r\n",
      "\u001b[91mInvalidOperation: \r\n",
      "\u001b[96mLine |\r\n",
      "\u001b[96m  16 | \u001b[0m     \u001b[96m($nums[8]?.fake).ToString()\u001b[0m\r\n",
      "\u001b[96m     | \u001b[91m     ~~~~~~~~~~~~~~~~~~~~~~~~~~~\r\n",
      "\u001b[91m\u001b[96m     | \u001b[91mYou cannot call a method on a null-valued expression.\u001b[0m\r\n"
     ]
    }
   ],
   "source": [
    "    $nums = 0..3\n",
    "    # valid \n",
    "    ($nums.bar)?.toString()\n",
    "    ($nums.foo)?.toString()\n",
    "    ($nums[94]?.toString.bar)?.toString()\n",
    "    ${nums.foo}?.ToString()          \n",
    "    $nums.'foo'?.toString()\n",
    "    $nums.foo?.toString()\n",
    "    $nums.foo?.ToString()\n",
    "    $nums[9]?.ToString()\n",
    "    ($nums[8]?.fake)?.ToString()\n",
    "\n",
    "    # not\n",
    "    $nums[94]?.toString.bar.toString()\n",
    "    $nums.foo.ToString()\n",
    "    ($nums[8]?.fake).ToString()\n",
    "    "
   ]
  }
 ],
 "metadata": {
  "kernelspec": {
   "display_name": ".NET (PowerShell)",
   "language": "PowerShell",
   "name": ".net-pwsh"
  },
  "language_info": {
   "name": "PowerShell"
  }
 },
 "nbformat": 4,
 "nbformat_minor": 2
}
