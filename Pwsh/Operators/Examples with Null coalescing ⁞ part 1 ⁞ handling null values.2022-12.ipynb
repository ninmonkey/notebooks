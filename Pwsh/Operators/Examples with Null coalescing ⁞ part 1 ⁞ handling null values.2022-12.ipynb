{
 "cells": [
  {
   "attachments": {},
   "cell_type": "markdown",
   "metadata": {
    "dotnet_interactive": {
     "language": "pwsh"
    },
    "polyglot_notebook": {
     "kernelName": "pwsh"
    }
   },
   "source": [
    "[Pwsh 7 adds a bunch of new operators](https://learn.microsoft.com/en-us/powershell/module/microsoft.powershell.core/about/about_operators?view=powershell-7.3#null-coalescing-operator-), including `Null-coalescing` \n",
    "\n",
    "You need at least Pwsh 7+ to run the examples"
   ]
  },
  {
   "cell_type": "code",
   "execution_count": 1,
   "metadata": {
    "dotnet_interactive": {
     "language": "pwsh"
    },
    "polyglot_notebook": {
     "kernelName": "pwsh"
    },
    "vscode": {
     "languageId": "polyglot-notebook"
    }
   },
   "outputs": [
    {
     "name": "stdout",
     "output_type": "stream",
     "text": [
      "# Example that breaks\n",
      "\n",
      "\u001b[32;1mIsPublic IsSerial Name                                     BaseType\u001b[0m\n",
      "\u001b[32;1m-------- -------- ----                                     --------\u001b[0m\n",
      "True     True     String                                   System.Object\n",
      "True     True     Int32                                    System.ValueType\n",
      "True     True     DateTime                                 System.ValueType\n",
      "\u001b[31;1mInvalidOperation: \u001b[0m\n",
      "\u001b[31;1m\u001b[36;1mLine |\u001b[0m\n",
      "\u001b[31;1m\u001b[36;1m\u001b[36;1m  13 | \u001b[0m     \u001b[36;1m$_.GetType()\u001b[0m\n",
      "\u001b[31;1m\u001b[36;1m\u001b[36;1m\u001b[0m\u001b[36;1m\u001b[0m\u001b[36;1m     | \u001b[31;1m     ~~~~~~~~~~~~\u001b[0m\n",
      "\u001b[31;1m\u001b[36;1m\u001b[36;1m\u001b[0m\u001b[36;1m\u001b[0m\u001b[36;1m\u001b[31;1m\u001b[31;1m\u001b[36;1m     | \u001b[31;1mYou cannot call a method on a null-valued expression.\u001b[0m\n",
      "True     True     String                                   System.Object\n",
      "# simple coerce to null\n",
      "True     True     String                                   System.Object\n",
      "True     True     Int32                                    System.ValueType\n",
      "True     True     DateTime                                 System.ValueType\n",
      "\u001b[31;1mInvalidOperation: \u001b[0m\n",
      "\u001b[31;1m\u001b[36;1mLine |\u001b[0m\n",
      "\u001b[31;1m\u001b[36;1m\u001b[36;1m  17 | \u001b[0m     \u001b[36;1m($_).GetType()\u001b[0m\n",
      "\u001b[31;1m\u001b[36;1m\u001b[36;1m\u001b[0m\u001b[36;1m\u001b[0m\u001b[36;1m     | \u001b[31;1m     ~~~~~~~~~~~~~~\u001b[0m\n",
      "\u001b[31;1m\u001b[36;1m\u001b[36;1m\u001b[0m\u001b[36;1m\u001b[0m\u001b[36;1m\u001b[31;1m\u001b[31;1m\u001b[36;1m     | \u001b[31;1mYou cannot call a method on a null-valued expression.\u001b[0m\n",
      "True     True     String                                   System.Object\n",
      "\n"
     ]
    }
   ],
   "source": [
    "# The docs start with this syntax:\n",
    "$list = $Null\n",
    "${list}?[0]\n",
    "\n",
    "# I find it cleaner to use:\n",
    "($list)?[0]\n",
    "\n",
    "#Example: \n",
    "$samples = 'foo', 234, (Get-Date), $null, ''\n",
    "\n",
    "'# Example that breaks'\n",
    "$samples | Foreach-Object { \n",
    "    $_.GetType()     \n",
    "} \n",
    "'# simple coerce to null'\n",
    "$samples | Foreach-Object { \n",
    "    ($_).GetType()     \n",
    "}"
   ]
  },
  {
   "cell_type": "code",
   "execution_count": 2,
   "metadata": {
    "dotnet_interactive": {
     "language": "pwsh"
    },
    "polyglot_notebook": {
     "kernelName": "pwsh"
    },
    "vscode": {
     "languageId": "polyglot-notebook"
    }
   },
   "outputs": [
    {
     "name": "stdout",
     "output_type": "stream",
     "text": [
      "[String]\n",
      "[Int32]\n",
      "[DateTime]\n",
      "[<trueNull>]\n",
      "[<nullable>]\n",
      "[String]\n"
     ]
    }
   ],
   "source": [
    "$samples = 'foo', 234, (get-date), $null, '' \n",
    "\n",
    "function shortenTypeNames {\n",
    "    process {\n",
    "        # expects types or nulls\n",
    "        if($null -eq $_) { '[<trueNull>]' }\n",
    "        \n",
    "        ($_)?.GetType().Name ?? '<nullable>'\n",
    "        | Join-String -op '[' -os ']'\n",
    "\n",
    "    }\n",
    "}\n",
    "\n",
    "\n",
    "$samples | ShortenTypeNames"
   ]
  },
  {
   "cell_type": "code",
   "execution_count": 3,
   "metadata": {
    "dotnet_interactive": {
     "language": "pwsh"
    },
    "polyglot_notebook": {
     "kernelName": "pwsh"
    },
    "vscode": {
     "languageId": "polyglot-notebook"
    }
   },
   "outputs": [
    {
     "name": "stdout",
     "output_type": "stream",
     "text": [
      "\u001b[93mWARNING: Notice the different results for Name2 and Name3\u001b[0m\n",
      "\n",
      "\u001b[32;1mId Name1        Name2        Name3        Render TrueNull TrueEmptyStr IsBlank IsEmpty\u001b[0m\n",
      "\u001b[32;1m-- -----        -----        -----        ------ -------- ------------ ------- -------\u001b[0m\n",
      " 0              <anonymousB>                        False         True    True    True\n",
      " 1 bob          <anonymousB> <anonymousC> bob       False        False   False   False\n",
      " 2 sdf…         <anonymousB> <anonymousC> sdf␠      False        False   False   False\n",
      " 3 <anonymousA> <anonymousB>                         True        False    True    True\n",
      " 4 …            <anonymousB> <anonymousC> ␠         False        False    True   False\n",
      "\n"
     ]
    }
   ],
   "source": [
    "\n",
    "$testId = 0 ; $samples3 = '', 'bob', \"sdf`n\", $null, \"`n\"\n",
    "\n",
    "function testNewUser {\n",
    "    # very nested / messy code, to make notebooks shorter\n",
    "    process { \n",
    "        $t = $_ # t is the [t]arget abbreviated\n",
    "        [pscustomobject]@{ \n",
    "            Id           = $testId++\n",
    "            Name1        = ($t)?.ToString()      ?? '<anonymousA>'\n",
    "            Name2        = ($t)?.ToString().Name ?? '<anonymousB>'\n",
    "            \n",
    "            Name3        = if ($t) { \n",
    "                ($t)?.ToString().Name ?? '<anonymousC>'\n",
    "            } \n",
    "\n",
    "            Render       = ($t)?.ToString() -replace '\\s+', '␠'\n",
    "\n",
    "            TrueNull     = $null -eq $t \n",
    "            TrueEmptyStr = $t -is 'string' -and $t.length -eq 0\n",
    "            IsBlank      = [string]::IsNullOrWhiteSpace( $t )\n",
    "            IsEmpty      = [string]::IsNullOrEmpty( $t )\n",
    "        }\n",
    "    } \n",
    "}\n",
    "\n",
    "write-warning 'Notice the different results for Name2 and Name3'\n",
    "$samples3\n",
    "| testNewUser | Tee-Object -var 'q1' | ft -auto"
   ]
  },
  {
   "cell_type": "code",
   "execution_count": 4,
   "metadata": {
    "dotnet_interactive": {
     "language": "pwsh"
    },
    "polyglot_notebook": {
     "kernelName": "pwsh"
    },
    "vscode": {
     "languageId": "polyglot-notebook"
    }
   },
   "outputs": [
    {
     "name": "stdout",
     "output_type": "stream",
     "text": [
      "DirectoryInfo\n",
      "\u001b[93mWARNING: warning: It doesn't automatically protect you from invoking another function on $null\u001b[0m\n",
      "\u001b[31;1mInvalidOperation: \u001b[0m\n",
      "\u001b[31;1m\u001b[36;1mLine |\u001b[0m\n",
      "\u001b[31;1m\u001b[36;1m\u001b[36;1m  11 | \u001b[0m \u001b[36;1m($fake)?.GetType().Name.ToString()\u001b[0m\n",
      "\u001b[31;1m\u001b[36;1m\u001b[36;1m\u001b[0m\u001b[36;1m\u001b[0m\u001b[36;1m     | \u001b[31;1m ~~~~~~~~~~~~~~~~~~~~~~~~~~~~~~~~~~\u001b[0m\n",
      "\u001b[31;1m\u001b[36;1m\u001b[36;1m\u001b[0m\u001b[36;1m\u001b[0m\u001b[36;1m\u001b[31;1m\u001b[31;1m\u001b[36;1m     | \u001b[31;1mYou cannot call a method on a null-valued expression.\u001b[0m\n",
      "\u001b[93mWARNING: You *could* write it like this, it's getting to a point it should be another step\u001b[0m\n"
     ]
    }
   ],
   "source": [
    "# using the statement:\n",
    "$a = gi .\n",
    "\n",
    "# error: Invoking Method on Null\n",
    "$a.GetType().Name\n",
    "\n",
    "# then: this coerces to null\n",
    "($fake)?.GetType().Name\n",
    "\n",
    "write-warning 'warning: It doesn''t automatically protect you from invoking another function on $null'\n",
    "($fake)?.GetType().Name.ToString()\n",
    "\n",
    "write-warning \"You *could* write it like this, it's getting to a point it should be another step\"\n",
    "(($fake)?.GetType().Name)?.ToString()"
   ]
  },
  {
   "attachments": {},
   "cell_type": "markdown",
   "metadata": {
    "dotnet_interactive": {
     "language": "pwsh"
    },
    "polyglot_notebook": {
     "kernelName": "pwsh"
    }
   },
   "source": [
    "<!-- buffer dump\n",
    "\n",
    "\n",
    "\n",
    "import-module pansies\n",
    "import-module Ninmonkey.Console\n",
    "# cannot get it to fallback in these expresssions\n",
    "# even though it reliably does it in func. Maybe its\n",
    "# that $foo didnt exist, but $_ was?\n",
    "# or, maybe the () evaluation changes somethiing\n",
    "hr\n",
    "$null -eq ($Foo.Bar)?.FakeFunc().Name    # true\n",
    "($Foo.Bar)?.FakeFunc().Name ?? 'fall'    # fall\n",
    "hr\n",
    "$null -eq ($Foo.Bar)?.FakeFunc().Name    #true\n",
    "($Foo.Bar)?.FakeFunc() ?? 'fall'         # fall\n",
    "\n",
    "\n",
    "($_)?.ToString().Name ?? '<anonymous>'\n",
    "\n",
    "($_)?.ToString() ?? '<anonymous>'\n",
    "\n",
    "hr\n",
    "$null -eq ($_)?.ToString()          # true\n",
    "($_)?.ToString() ?? 'fall'\n",
    "\n",
    "$null -eq ($_)?.ToString().Name     # true\n",
    "($_)?.ToString().Name ?? 'fall'\n",
    "\n",
    "\n",
    "\n",
    "\n",
    "\n",
    "\n",
    "\n",
    "\n",
    "\n",
    "\n",
    "\n",
    " -->"
   ]
  }
 ],
 "metadata": {
  "kernelspec": {
   "display_name": ".NET (C#)",
   "language": "C#",
   "name": ".net-csharp"
  },
  "polyglot_notebook": {
   "kernelInfo": {
    "defaultKernelName": "csharp",
    "items": [
     {
      "aliases": [],
      "name": "csharp"
     }
    ]
   }
  }
 },
 "nbformat": 4,
 "nbformat_minor": 2
}
