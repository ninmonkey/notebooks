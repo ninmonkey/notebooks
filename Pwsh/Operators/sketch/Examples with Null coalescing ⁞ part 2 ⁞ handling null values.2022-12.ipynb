{
 "cells": [
  {
   "cell_type": "code",
   "execution_count": 1,
   "metadata": {
    "dotnet_interactive": {
     "language": "pwsh"
    },
    "polyglot_notebook": {
     "kernelName": "pwsh"
    }
   },
   "outputs": [
    {
     "name": "stdout",
     "output_type": "stream",
     "text": [
      "\u001b[93mWARNING: Left off with\u001b[0m\n",
      "\n",
      "\u001b[32;1mId Name1        Name2        Name3        Render TrueNull TrueEmptyStr IsBlank IsEmpty\u001b[0m\n",
      "\u001b[32;1m-- -----        -----        -----        ------ -------- ------------ ------- -------\u001b[0m\n",
      " 0              <anonymousB>                        False         True    True    True\n",
      " 1 bob          <anonymousB> <anonymousB> bob       False        False   False   False\n",
      " 2 sdf…         <anonymousB> <anonymousB> sdf␠      False        False   False   False\n",
      " 3 <anonymousA> <anonymousB>                         True        False    True    True\n",
      " 4 …            <anonymousB> <anonymousB> ␠         False        False    True   False\n",
      "\n",
      "\n",
      "\u001b[32;1mId Name1        Name2        Name3        Render TrueNull TrueEmptyStr IsBlank IsEmpty\u001b[0m\n",
      "\u001b[32;1m-- -----        -----        -----        ------ -------- ------------ ------- -------\u001b[0m\n",
      " 0              <anonymousB>                        False         True    True    True\n",
      " 1 bob          <anonymousB> <anonymousB> bob       False        False   False   False\n",
      " 2 sdf…         <anonymousB> <anonymousB> sdf␠      False        False   False   False\n",
      " 3 <anonymousA> <anonymousB>                         True        False    True    True\n",
      " 4 …            <anonymousB> <anonymousB> ␠         False        False    True   False\n",
      "\n"
     ]
    }
   ],
   "source": [
    "write-warning \"Left off with\"\n",
    "\n",
    "\n",
    "$testId = 0 ; $samples3 = '', 'bob', \"sdf`n\", $null, \"`n\"\n",
    "\n",
    "function testNewUser {\n",
    "    # very nested / messy code, to make notebooks shorter\n",
    "    process { \n",
    "        $t = $_ # t is the [t]arget abbreviated\n",
    "        [pscustomobject]@{ \n",
    "            Id           = $testId++\n",
    "            Name1        = ($t)?.ToString() ?? '<anonymousA>'\n",
    "            Name2        = ($t)?.ToString().Name ?? '<anonymousB>'\n",
    "            \n",
    "            Name3        = if ($t) { \n",
    "                ($t)?.ToString().Name ?? '<anonymousB>'\n",
    "            } \n",
    "\n",
    "            Render       = ($t)?.ToString() -replace '\\s+', '␠'\n",
    "\n",
    "            TrueNull     = $null -eq $t \n",
    "            TrueEmptyStr = $t -is 'string' -and $t.length -eq 0\n",
    "            IsBlank      = [string]::IsNullOrWhiteSpace( $t )\n",
    "            IsEmpty      = [string]::IsNullOrEmpty( $t )\n",
    "        }\n",
    "    } \n",
    "}\n",
    "\n",
    "function testNewUser_alternateSyntax {\n",
    "    # very nested code. \n",
    "    process { \n",
    "        $t = $_ # t is the [t]arget abbreviated\n",
    "        [pscustomobject]@{ \n",
    "            Id           = $testId++\n",
    "            Name1        = ${t}?.ToString() ?? '<anonymousA>'\n",
    "            Name2        = ${t}?.ToString().Name ?? '<anonymousB>'\n",
    "            \n",
    "            Name3        = if($t) { \n",
    "                ${t}?.ToString().Name ?? '<anonymousB>'\n",
    "            } \n",
    "\n",
    "            Render       = ${t}?.ToString() -replace '\\s+', '␠'\n",
    "\n",
    "            TrueNull     = $null -eq $t \n",
    "            TrueEmptyStr = $t -is 'string' -and $t.length -eq 0\n",
    "            IsBlank      = [string]::IsNullOrWhiteSpace( $t )\n",
    "            IsEmpty      = [string]::IsNullOrEmpty( $t )\n",
    "        }\n",
    "        # blog post experiment : caveots on nulls\n",
    "    } \n",
    "}\n",
    "\n",
    "$samples3\n",
    "| testNewUser | Tee-Object -var 'q1' | ft -auto\n",
    "\n",
    "#$q1 | Format-Table -AutoSize #-ov 'lastSample'\n",
    "\n",
    "$samples3\n",
    "| testNewUser_alternateSyntax | Tee-Object -var 'q2' | ft -auto\n",
    "\n",
    "#$q2 | Format-Table -AutoSize #-ov 'lastSample'\n",
    "\n"
   ]
  },
  {
   "cell_type": "code",
   "execution_count": 2,
   "metadata": {
    "dotnet_interactive": {
     "language": "pwsh"
    },
    "polyglot_notebook": {
     "kernelName": "pwsh"
    }
   },
   "outputs": [
    {
     "name": "stdout",
     "output_type": "stream",
     "text": [
      "# Example that breaks\n",
      "\n",
      "\u001b[32;1mIsPublic IsSerial Name                                     BaseType\u001b[0m\n",
      "\u001b[32;1m-------- -------- ----                                     --------\u001b[0m\n",
      "True     True     String                                   System.Object\n",
      "True     True     Int32                                    System.ValueType\n",
      "True     True     DateTime                                 System.ValueType\n",
      "\u001b[31;1mInvalidOperation: \u001b[0m\n",
      "\u001b[31;1m\u001b[36;1mLine |\u001b[0m\n",
      "\u001b[31;1m\u001b[36;1m\u001b[36;1m  13 | \u001b[0m     \u001b[36;1m$_.GetType()\u001b[0m\n",
      "\u001b[31;1m\u001b[36;1m\u001b[36;1m\u001b[0m\u001b[36;1m\u001b[0m\u001b[36;1m     | \u001b[31;1m     ~~~~~~~~~~~~\u001b[0m\n",
      "\u001b[31;1m\u001b[36;1m\u001b[36;1m\u001b[0m\u001b[36;1m\u001b[0m\u001b[36;1m\u001b[31;1m\u001b[31;1m\u001b[36;1m     | \u001b[31;1mYou cannot call a method on a null-valued expression.\u001b[0m\n",
      "True     True     String                                   System.Object\n",
      "# simple coerce to null\n",
      "True     True     String                                   System.Object\n",
      "True     True     Int32                                    System.ValueType\n",
      "True     True     DateTime                                 System.ValueType\n",
      "\u001b[31;1mInvalidOperation: \u001b[0m\n",
      "\u001b[31;1m\u001b[36;1mLine |\u001b[0m\n",
      "\u001b[31;1m\u001b[36;1m\u001b[36;1m  17 | \u001b[0m     \u001b[36;1m($_).GetType()\u001b[0m\n",
      "\u001b[31;1m\u001b[36;1m\u001b[36;1m\u001b[0m\u001b[36;1m\u001b[0m\u001b[36;1m     | \u001b[31;1m     ~~~~~~~~~~~~~~\u001b[0m\n",
      "\u001b[31;1m\u001b[36;1m\u001b[36;1m\u001b[0m\u001b[36;1m\u001b[0m\u001b[36;1m\u001b[31;1m\u001b[31;1m\u001b[36;1m     | \u001b[31;1mYou cannot call a method on a null-valued expression.\u001b[0m\n",
      "True     True     String                                   System.Object\n",
      "\n"
     ]
    }
   ],
   "source": [
    "# The docs start with this syntax:\n",
    "\n",
    "$testId = 0 ; $samples3 = '', 'bob', \"sdf`n\", $null, \"`n\"\n",
    "\n",
    "function testNewUser {\n",
    "    # very nested / messy code, to make notebooks shorter\n",
    "    process { \n",
    "        $t = $_ # t is the [t]arget abbreviated\n",
    "        [pscustomobject]@{ \n",
    "            Id           = $testId++\n",
    "            Name1        = ($t)?.ToString() ?? '<anonymousA>'\n",
    "            Name2        = ($t)?.ToString().Name ?? '<anonymousB>'\n",
    "            \n",
    "            Name3        = if ($t) { \n",
    "                ($t)?.ToString().Name ?? '<anonymousB>'\n",
    "            } \n",
    "\n",
    "            Render       = ($t)?.ToString() -replace '\\s+', '␠'\n",
    "\n",
    "            TrueNull     = $null -eq $t \n",
    "            TrueEmptyStr = $t -is 'string' -and $t.length -eq 0\n",
    "            IsBlank      = [string]::IsNullOrWhiteSpace( $t )\n",
    "            IsEmpty      = [string]::IsNullOrEmpty( $t )\n",
    "        }\n",
    "    } \n",
    "}\n",
    "\n",
    "function testNewUser_alternateSyntax {\n",
    "    # very nested code. \n",
    "    process { \n",
    "        $t = $_ # t is the [t]arget abbreviated\n",
    "        [pscustomobject]@{ \n",
    "            Id           = $testId++\n",
    "            Name1        = ${t}?.ToString() ?? '<anonymousA>'\n",
    "            Name2        = ${t}?.ToString().Name ?? '<anonymousB>'\n",
    "            \n",
    "            Name3        = if($t) { \n",
    "                ${t}?.ToString().Name ?? '<anonymousB>'\n",
    "            } \n",
    "\n",
    "            Render       = ${t}?.ToString() -replace '\\s+', '␠'\n",
    "\n",
    "            TrueNull     = $null -eq $t \n",
    "            TrueEmptyStr = $t -is 'string' -and $t.length -eq 0\n",
    "            IsBlank      = [string]::IsNullOrWhiteSpace( $t )\n",
    "            IsEmpty      = [string]::IsNullOrEmpty( $t )\n",
    "        }\n",
    "        # blog post experiment : caveots on nulls\n",
    "    } \n",
    "}\n",
    "\n",
    "$samples3\n",
    "| testNewUser | Tee-Object -var 'q1' | ft -auto\n",
    "\n",
    "#$q1 | Format-Table -AutoSize #-ov 'lastSample'\n",
    "\n",
    "$samples3\n",
    "| testNewUser_alternateSyntax | Tee-Object -var 'q2' | ft -auto\n",
    "\n",
    "#$q2 | Format-Table -AutoSize #-ov 'lastSample'\n",
    "\n"
   ]
  },
  {
   "cell_type": "code",
   "execution_count": 103,
   "metadata": {
    "dotnet_interactive": {
     "language": "pwsh"
    },
    "polyglot_notebook": {
     "kernelName": "pwsh"
    }
   },
   "outputs": [
    {
     "name": "stdout",
     "output_type": "stream",
     "text": [
      "DirectoryInfo\n",
      "\u001b[93mWARNING: warning: It doesn't automatically protect you from invoking another function on $null\u001b[0m\n",
      "\u001b[31;1mInvalidOperation: \u001b[0m\n",
      "\u001b[31;1m\u001b[36;1mLine |\u001b[0m\n",
      "\u001b[31;1m\u001b[36;1m\u001b[36;1m  11 | \u001b[0m \u001b[36;1m($fake)?.GetType().Name.ToString()\u001b[0m\n",
      "\u001b[31;1m\u001b[36;1m\u001b[36;1m\u001b[0m\u001b[36;1m\u001b[0m\u001b[36;1m     | \u001b[31;1m ~~~~~~~~~~~~~~~~~~~~~~~~~~~~~~~~~~\u001b[0m\n",
      "\u001b[31;1m\u001b[36;1m\u001b[36;1m\u001b[0m\u001b[36;1m\u001b[0m\u001b[36;1m\u001b[31;1m\u001b[31;1m\u001b[36;1m     | \u001b[31;1mYou cannot call a method on a null-valued expression.\u001b[0m\n",
      "\u001b[93mWARNING: You *could* write it like this, it's getting to a point it should be another step\u001b[0m\n"
     ]
    }
   ],
   "source": [
    "# using the statement:\n",
    "$a = gi .\n",
    "\n",
    "# error: Invoking Method on Null\n",
    "$a.GetType().Name\n",
    "\n",
    "# then: this coerces to null\n",
    "($fake)?.GetType().Name\n",
    "\n",
    "write-warning 'warning: It doesn''t automatically protect you from invoking another function on $null'\n",
    "($fake)?.GetType().Name.ToString()\n",
    "\n",
    "write-warning \"You *could* write it like this, it's getting to a point it should be another step\"\n",
    "(($fake)?.GetType().Name)?.ToString()"
   ]
  },
  {
   "cell_type": "code",
   "execution_count": 3,
   "metadata": {
    "dotnet_interactive": {
     "language": "pwsh"
    },
    "polyglot_notebook": {
     "kernelName": "pwsh"
    }
   },
   "outputs": [
    {
     "name": "stdout",
     "output_type": "stream",
     "text": [
      "\n",
      "\u001b[91m\u001b[0m\n",
      "\u001b[91m\u001b[0m\n",
      "\u001b[91m\u001b[0m\n",
      "\u001b[91m\u001b[0m\n",
      "\u001b[32;1mName\u001b[0m\n",
      "\u001b[32;1m----\u001b[0m\n",
      "\n",
      "bob\n",
      "sdf\n",
      "System.Collections.Hashtable\n",
      "\n"
     ]
    }
   ],
   "source": [
    "\n",
    "\n",
    "function NewUser { \n",
    "   param( [string]$Name, [hashtable]$Config )\n",
    "   class User { [ValidateNotNull()][string]$Name }\n",
    "\n",
    "   [User]@{ \n",
    "        Name = $Name ?? 'anonymous'         \n",
    "    }\n",
    "    \n",
    "    $FgColor = $Config.Color ?? 'red'        \n",
    "    Write-Host -fore $FgColor\n",
    "}\n",
    "\n",
    "# showing \"wrong' samples to see the output\n",
    "\n",
    "NewUser\n",
    "NewUser -name 'bob'\n",
    "NewUser 'sdf' @{ Region = 'Green' }\n",
    "NewUser @{ Region = 'Green' }\n"
   ]
  },
  {
   "cell_type": "code",
   "execution_count": 7,
   "metadata": {
    "dotnet_interactive": {
     "language": "pwsh"
    },
    "polyglot_notebook": {
     "kernelName": "pwsh"
    }
   },
   "outputs": [
    {
     "name": "stdout",
     "output_type": "stream",
     "text": [
      "\u001b[31;1mFinal: \u001b[0m\n",
      "\u001b[31;1m\u001b[36;1mLine |\u001b[0m\n",
      "\u001b[31;1m\u001b[36;1m\u001b[36;1m  13 | \u001b[0m                 \u001b[36;1mFinal\u001b[0m = ($_.GetType())?.Name\u001b[0m\n",
      "\u001b[31;1m\u001b[36;1m\u001b[36;1m\u001b[0m\u001b[36;1m\u001b[0m\u001b[36;1m     | \u001b[31;1m                 ~~~~~\u001b[0m\n",
      "\u001b[31;1m\u001b[36;1m\u001b[36;1m\u001b[0m\u001b[36;1m\u001b[0m\u001b[36;1m\u001b[31;1m\u001b[31;1m\u001b[36;1m     | \u001b[31;1mThe term 'Final' is not recognized as a name of a cmdlet, function, script file, or executable program.\u001b[0m\n",
      "\u001b[31;1m\u001b[36;1m\u001b[36;1m\u001b[0m\u001b[36;1m\u001b[0m\u001b[36;1m\u001b[31;1m\u001b[31;1m\u001b[36;1m\u001b[31;1mCheck the spelling of the name, or if a path was included, verify that the path is correct and try again.\u001b[0m\n",
      "\n",
      "\u001b[32;1mOriginal      Shorter\u001b[0m\n",
      "\u001b[32;1m--------      -------\u001b[0m\n",
      "System.String \n",
      "\u001b[31;1mFinal: \u001b[0m\n",
      "\u001b[31;1m\u001b[36;1mLine |\u001b[0m\n",
      "\u001b[31;1m\u001b[36;1m\u001b[36;1m  13 | \u001b[0m                 \u001b[36;1mFinal\u001b[0m = ($_.GetType())?.Name\u001b[0m\n",
      "\u001b[31;1m\u001b[36;1m\u001b[36;1m\u001b[0m\u001b[36;1m\u001b[0m\u001b[36;1m     | \u001b[31;1m                 ~~~~~\u001b[0m\n",
      "\u001b[31;1m\u001b[36;1m\u001b[36;1m\u001b[0m\u001b[36;1m\u001b[0m\u001b[36;1m\u001b[31;1m\u001b[31;1m\u001b[36;1m     | \u001b[31;1mThe term 'Final' is not recognized as a name of a cmdlet, function, script file, or executable program.\u001b[0m\n",
      "\u001b[31;1m\u001b[36;1m\u001b[36;1m\u001b[0m\u001b[36;1m\u001b[0m\u001b[36;1m\u001b[31;1m\u001b[31;1m\u001b[36;1m\u001b[31;1mCheck the spelling of the name, or if a path was included, verify that the path is correct and try again.\u001b[0m\n",
      "System.Int32  \n",
      "\u001b[31;1mFinal: \u001b[0m\n",
      "\u001b[31;1m\u001b[36;1mLine |\u001b[0m\n",
      "\u001b[31;1m\u001b[36;1m\u001b[36;1m  13 | \u001b[0m                 \u001b[36;1mFinal\u001b[0m = ($_.GetType())?.Name\u001b[0m\n",
      "\u001b[31;1m\u001b[36;1m\u001b[36;1m\u001b[0m\u001b[36;1m\u001b[0m\u001b[36;1m     | \u001b[31;1m                 ~~~~~\u001b[0m\n",
      "\u001b[31;1m\u001b[36;1m\u001b[36;1m\u001b[0m\u001b[36;1m\u001b[0m\u001b[36;1m\u001b[31;1m\u001b[31;1m\u001b[36;1m     | \u001b[31;1mThe term 'Final' is not recognized as a name of a cmdlet, function, script file, or executable program.\u001b[0m\n",
      "\u001b[31;1m\u001b[36;1m\u001b[36;1m\u001b[0m\u001b[36;1m\u001b[0m\u001b[36;1m\u001b[31;1m\u001b[31;1m\u001b[36;1m\u001b[31;1mCheck the spelling of the name, or if a path was included, verify that the path is correct and try again.\u001b[0m\n",
      "System.DateT… \n",
      "\u001b[31;1mInvalidOperation: \u001b[0m\n",
      "\u001b[31;1m\u001b[36;1mLine |\u001b[0m\n",
      "\u001b[31;1m\u001b[36;1m\u001b[36;1m   6 | \u001b[0m         \u001b[36;1m[pscustomobject]@{\u001b[0m\n",
      "\u001b[31;1m\u001b[36;1m\u001b[36;1m\u001b[0m\u001b[36;1m\u001b[0m\u001b[36;1m     | \u001b[31;1m         ~~~~~~~~~~~~~~~~~~\u001b[0m\n",
      "\u001b[31;1m\u001b[36;1m\u001b[36;1m\u001b[0m\u001b[36;1m\u001b[0m\u001b[36;1m\u001b[31;1m\u001b[31;1m\u001b[36;1m     | \u001b[31;1mYou cannot call a method on a null-valued expression.\u001b[0m\n",
      "\u001b[31;1mFinal: \u001b[0m\n",
      "\u001b[31;1m\u001b[36;1mLine |\u001b[0m\n",
      "\u001b[31;1m\u001b[36;1m\u001b[36;1m  13 | \u001b[0m                 \u001b[36;1mFinal\u001b[0m = ($_.GetType())?.Name\u001b[0m\n",
      "\u001b[31;1m\u001b[36;1m\u001b[36;1m\u001b[0m\u001b[36;1m\u001b[0m\u001b[36;1m     | \u001b[31;1m                 ~~~~~\u001b[0m\n",
      "\u001b[31;1m\u001b[36;1m\u001b[36;1m\u001b[0m\u001b[36;1m\u001b[0m\u001b[36;1m\u001b[31;1m\u001b[31;1m\u001b[36;1m     | \u001b[31;1mThe term 'Final' is not recognized as a name of a cmdlet, function, script file, or executable program.\u001b[0m\n",
      "\u001b[31;1m\u001b[36;1m\u001b[36;1m\u001b[0m\u001b[36;1m\u001b[0m\u001b[36;1m\u001b[31;1m\u001b[31;1m\u001b[36;1m\u001b[31;1mCheck the spelling of the name, or if a path was included, verify that the path is correct and try again.\u001b[0m\n",
      "System.String \n",
      "\n"
     ]
    }
   ],
   "source": [
    "$samples = 'foo', 234, (get-date), $null, '' \n",
    "\n",
    "function shortenTypeNames1z {\n",
    "    process {\n",
    "        # expects types or nulls\n",
    "        [pscustomobject]@{ \n",
    "            Original = ($_).GetType() ?? 'a'\n",
    "            Shorter  = if ($null -eq $_) { \n",
    "                \"[`u{2400}]\" \n",
    "            }\n",
    "            else { \n",
    "\n",
    "                Final = ($_.GetType())?.Name\n",
    "                | Join-String -op '[' -os ']'\n",
    "            }\n",
    "         \n",
    "        }\n",
    "    }\n",
    "\n",
    "}\n",
    "\n",
    "\n",
    "\n",
    "$samples | ShortenTypeNames1z\n",
    "\n"
   ]
  },
  {
   "cell_type": "code",
   "execution_count": 8,
   "metadata": {
    "dotnet_interactive": {
     "language": "pwsh"
    },
    "polyglot_notebook": {
     "kernelName": "pwsh"
    }
   },
   "outputs": [
    {
     "name": "stdout",
     "output_type": "stream",
     "text": [
      "\u001b[31;1mFinal: \u001b[0m\n",
      "\u001b[31;1m\u001b[36;1mLine |\u001b[0m\n",
      "\u001b[31;1m\u001b[36;1m\u001b[36;1m  13 | \u001b[0m                 \u001b[36;1mFinal\u001b[0m = ($_.GetType())?.Name\u001b[0m\n",
      "\u001b[31;1m\u001b[36;1m\u001b[36;1m\u001b[0m\u001b[36;1m\u001b[0m\u001b[36;1m     | \u001b[31;1m                 ~~~~~\u001b[0m\n",
      "\u001b[31;1m\u001b[36;1m\u001b[36;1m\u001b[0m\u001b[36;1m\u001b[0m\u001b[36;1m\u001b[31;1m\u001b[31;1m\u001b[36;1m     | \u001b[31;1mThe term 'Final' is not recognized as a name of a cmdlet, function, script file, or executable program.\u001b[0m\n",
      "\u001b[31;1m\u001b[36;1m\u001b[36;1m\u001b[0m\u001b[36;1m\u001b[0m\u001b[36;1m\u001b[31;1m\u001b[31;1m\u001b[36;1m\u001b[31;1mCheck the spelling of the name, or if a path was included, verify that the path is correct and try again.\u001b[0m\n",
      "\n",
      "\u001b[32;1mOriginal      Shorter\u001b[0m\n",
      "\u001b[32;1m--------      -------\u001b[0m\n",
      "System.String \n",
      "\u001b[31;1mFinal: \u001b[0m\n",
      "\u001b[31;1m\u001b[36;1mLine |\u001b[0m\n",
      "\u001b[31;1m\u001b[36;1m\u001b[36;1m  13 | \u001b[0m                 \u001b[36;1mFinal\u001b[0m = ($_.GetType())?.Name\u001b[0m\n",
      "\u001b[31;1m\u001b[36;1m\u001b[36;1m\u001b[0m\u001b[36;1m\u001b[0m\u001b[36;1m     | \u001b[31;1m                 ~~~~~\u001b[0m\n",
      "\u001b[31;1m\u001b[36;1m\u001b[36;1m\u001b[0m\u001b[36;1m\u001b[0m\u001b[36;1m\u001b[31;1m\u001b[31;1m\u001b[36;1m     | \u001b[31;1mThe term 'Final' is not recognized as a name of a cmdlet, function, script file, or executable program.\u001b[0m\n",
      "\u001b[31;1m\u001b[36;1m\u001b[36;1m\u001b[0m\u001b[36;1m\u001b[0m\u001b[36;1m\u001b[31;1m\u001b[31;1m\u001b[36;1m\u001b[31;1mCheck the spelling of the name, or if a path was included, verify that the path is correct and try again.\u001b[0m\n",
      "System.Int32  \n",
      "\u001b[31;1mFinal: \u001b[0m\n",
      "\u001b[31;1m\u001b[36;1mLine |\u001b[0m\n",
      "\u001b[31;1m\u001b[36;1m\u001b[36;1m  13 | \u001b[0m                 \u001b[36;1mFinal\u001b[0m = ($_.GetType())?.Name\u001b[0m\n",
      "\u001b[31;1m\u001b[36;1m\u001b[36;1m\u001b[0m\u001b[36;1m\u001b[0m\u001b[36;1m     | \u001b[31;1m                 ~~~~~\u001b[0m\n",
      "\u001b[31;1m\u001b[36;1m\u001b[36;1m\u001b[0m\u001b[36;1m\u001b[0m\u001b[36;1m\u001b[31;1m\u001b[31;1m\u001b[36;1m     | \u001b[31;1mThe term 'Final' is not recognized as a name of a cmdlet, function, script file, or executable program.\u001b[0m\n",
      "\u001b[31;1m\u001b[36;1m\u001b[36;1m\u001b[0m\u001b[36;1m\u001b[0m\u001b[36;1m\u001b[31;1m\u001b[31;1m\u001b[36;1m\u001b[31;1mCheck the spelling of the name, or if a path was included, verify that the path is correct and try again.\u001b[0m\n",
      "System.DateT… \n",
      "\u001b[31;1mInvalidOperation: \u001b[0m\n",
      "\u001b[31;1m\u001b[36;1mLine |\u001b[0m\n",
      "\u001b[31;1m\u001b[36;1m\u001b[36;1m   6 | \u001b[0m         \u001b[36;1m[pscustomobject]@{\u001b[0m\n",
      "\u001b[31;1m\u001b[36;1m\u001b[36;1m\u001b[0m\u001b[36;1m\u001b[0m\u001b[36;1m     | \u001b[31;1m         ~~~~~~~~~~~~~~~~~~\u001b[0m\n",
      "\u001b[31;1m\u001b[36;1m\u001b[36;1m\u001b[0m\u001b[36;1m\u001b[0m\u001b[36;1m\u001b[31;1m\u001b[31;1m\u001b[36;1m     | \u001b[31;1mYou cannot call a method on a null-valued expression.\u001b[0m\n",
      "\u001b[31;1mFinal: \u001b[0m\n",
      "\u001b[31;1m\u001b[36;1mLine |\u001b[0m\n",
      "\u001b[31;1m\u001b[36;1m\u001b[36;1m  13 | \u001b[0m                 \u001b[36;1mFinal\u001b[0m = ($_.GetType())?.Name\u001b[0m\n",
      "\u001b[31;1m\u001b[36;1m\u001b[36;1m\u001b[0m\u001b[36;1m\u001b[0m\u001b[36;1m     | \u001b[31;1m                 ~~~~~\u001b[0m\n",
      "\u001b[31;1m\u001b[36;1m\u001b[36;1m\u001b[0m\u001b[36;1m\u001b[0m\u001b[36;1m\u001b[31;1m\u001b[31;1m\u001b[36;1m     | \u001b[31;1mThe term 'Final' is not recognized as a name of a cmdlet, function, script file, or executable program.\u001b[0m\n",
      "\u001b[31;1m\u001b[36;1m\u001b[36;1m\u001b[0m\u001b[36;1m\u001b[0m\u001b[36;1m\u001b[31;1m\u001b[31;1m\u001b[36;1m\u001b[31;1mCheck the spelling of the name, or if a path was included, verify that the path is correct and try again.\u001b[0m\n",
      "System.String \n",
      "\n"
     ]
    }
   ],
   "source": [
    "$samples = 'foo', 234, (get-date), $null, '' \n",
    "\n",
    "function shortenTypeNames1z {\n",
    "    process {\n",
    "        # expects types or nulls\n",
    "        [pscustomobject]@{ \n",
    "            Original = ($_).GetType() ?? 'a'\n",
    "            Shorter  = if ($null -eq $_) { \n",
    "                \"[`u{2400}]\" \n",
    "            }\n",
    "            else { \n",
    "\n",
    "                Final = ($_.GetType())?.Name\n",
    "                | Join-String -op '[' -os ']'\n",
    "            }\n",
    "         \n",
    "        }\n",
    "    }\n",
    "\n",
    "}\n",
    "\n",
    "\n",
    "\n",
    "$samples | ShortenTypeNames1z\n",
    "\n"
   ]
  },
  {
   "cell_type": "code",
   "execution_count": 110,
   "metadata": {
    "dotnet_interactive": {
     "language": "pwsh"
    },
    "polyglot_notebook": {
     "kernelName": "pwsh"
    }
   },
   "outputs": [
    {
     "name": "stdout",
     "output_type": "stream",
     "text": [
      "\n",
      "bob\n",
      "\n",
      "bob\n"
     ]
    }
   ],
   "source": [
    "\n",
    "$testId = 0 ;  $samples = '', 'bob' \n",
    "$samples \n",
    "\n",
    "function testNewUser {\n",
    "    process { \n",
    "    [pscustomobject]@{ \n",
    "        Id    = $testId++\n",
    "        Name  = ($_)?.ToString().Name ?? '<anonymous>'\n",
    "        Name2 = ($_)?.ToString()      ?? '<anonymous>'\n",
    "        TrueEmptyStr        = $_ -is 'string' -and $_.length -eq 0\n",
    "        IsBlank = [string]::IsNullOrWhiteSpace( $_ )\n",
    "        IsEmpty = [string]::IsNullOrEmpty( $_ )\n",
    "        TrueNull            = $null -eq $_ \n",
    "    }\n",
    "} }\n",
    "\n",
    "$samples\n",
    "| testNewUser\n",
    "| Format-Table -AutoSize\n",
    "        #TrueNull = if($null -eq $_) { '[true ␀]' }/\n",
    "\n",
    "        #if('' -eq $_ -and $_ -is 'string') { '[true EmptyStr]' }\n",
    "        #//TrueNull = if($null -eq $_) { '[true ␀]'"
   ]
  },
  {
   "cell_type": "code",
   "execution_count": 111,
   "metadata": {
    "dotnet_interactive": {
     "language": "pwsh"
    },
    "polyglot_notebook": {
     "kernelName": "pwsh"
    }
   },
   "outputs": [
    {
     "name": "stdout",
     "output_type": "stream",
     "text": [
      "\u001b[31;1mImport-Module: \u001b[31;1mThe specified module 'pansies' was not loaded because no valid module file was found in any module directory.\u001b[0m\n",
      "\u001b[31;1mImport-Module: \u001b[0m\n",
      "\u001b[31;1m\u001b[36;1mLine |\u001b[0m\n",
      "\u001b[31;1m\u001b[36;1m\u001b[36;1m   2 | \u001b[0m \u001b[36;1mimport-module Ninmonkey.Console\u001b[0m\n",
      "\u001b[31;1m\u001b[36;1m\u001b[36;1m\u001b[0m\u001b[36;1m\u001b[0m\u001b[36;1m     | \u001b[31;1m ~~~~~~~~~~~~~~~~~~~~~~~~~~~~~~~\u001b[0m\n",
      "\u001b[31;1m\u001b[36;1m\u001b[36;1m\u001b[0m\u001b[36;1m\u001b[0m\u001b[36;1m\u001b[31;1m\u001b[31;1m\u001b[36;1m     | \u001b[31;1mThe required module 'Pansies' is not loaded. Load the module or remove the module from 'RequiredModules' in the file 'C:\\Users\\cppmo_000\\SkyDrive\\Documents\\2021\\powershell\\My_Github\\Ninmonkey.Console\\Ninmonkey.Console.psd1'.\u001b[0m\n",
      "\u001b[31;1mhr: \u001b[0m\n",
      "\u001b[31;1m\u001b[36;1mLine |\u001b[0m\n",
      "\u001b[31;1m\u001b[36;1m\u001b[36;1m   7 | \u001b[0m \u001b[36;1mhr\u001b[0m\n",
      "\u001b[31;1m\u001b[36;1m\u001b[36;1m\u001b[0m\u001b[36;1m\u001b[0m\u001b[36;1m     | \u001b[31;1m ~~\u001b[0m\n",
      "\u001b[31;1m\u001b[36;1m\u001b[36;1m\u001b[0m\u001b[36;1m\u001b[0m\u001b[36;1m\u001b[31;1m\u001b[31;1m\u001b[36;1m     | \u001b[31;1mThe term 'hr' is not recognized as a name of a cmdlet, function, script file, or executable program.\u001b[0m\n",
      "\u001b[31;1m\u001b[36;1m\u001b[36;1m\u001b[0m\u001b[36;1m\u001b[0m\u001b[36;1m\u001b[31;1m\u001b[31;1m\u001b[36;1m\u001b[31;1mCheck the spelling of the name, or if a path was included, verify that the path is correct and try again.\u001b[0m\n",
      "True\n",
      "fall\n",
      "\u001b[31;1mhr: \u001b[0m\n",
      "\u001b[31;1m\u001b[36;1mLine |\u001b[0m\n",
      "\u001b[31;1m\u001b[36;1m\u001b[36;1m  10 | \u001b[0m \u001b[36;1mhr\u001b[0m\n",
      "\u001b[31;1m\u001b[36;1m\u001b[36;1m\u001b[0m\u001b[36;1m\u001b[0m\u001b[36;1m     | \u001b[31;1m ~~\u001b[0m\n",
      "\u001b[31;1m\u001b[36;1m\u001b[36;1m\u001b[0m\u001b[36;1m\u001b[0m\u001b[36;1m\u001b[31;1m\u001b[31;1m\u001b[36;1m     | \u001b[31;1mThe term 'hr' is not recognized as a name of a cmdlet, function, script file, or executable program.\u001b[0m\n",
      "\u001b[31;1m\u001b[36;1m\u001b[36;1m\u001b[0m\u001b[36;1m\u001b[0m\u001b[36;1m\u001b[31;1m\u001b[31;1m\u001b[36;1m\u001b[31;1mCheck the spelling of the name, or if a path was included, verify that the path is correct and try again.\u001b[0m\n",
      "True\n",
      "fall\n",
      "<anonymous>\n",
      "<anonymous>\n",
      "\u001b[31;1mhr: \u001b[0m\n",
      "\u001b[31;1m\u001b[36;1mLine |\u001b[0m\n",
      "\u001b[31;1m\u001b[36;1m\u001b[36;1m  19 | \u001b[0m \u001b[36;1mhr\u001b[0m\n",
      "\u001b[31;1m\u001b[36;1m\u001b[36;1m\u001b[0m\u001b[36;1m\u001b[0m\u001b[36;1m     | \u001b[31;1m ~~\u001b[0m\n",
      "\u001b[31;1m\u001b[36;1m\u001b[36;1m\u001b[0m\u001b[36;1m\u001b[0m\u001b[36;1m\u001b[31;1m\u001b[31;1m\u001b[36;1m     | \u001b[31;1mThe term 'hr' is not recognized as a name of a cmdlet, function, script file, or executable program.\u001b[0m\n",
      "\u001b[31;1m\u001b[36;1m\u001b[36;1m\u001b[0m\u001b[36;1m\u001b[0m\u001b[36;1m\u001b[31;1m\u001b[31;1m\u001b[36;1m\u001b[31;1mCheck the spelling of the name, or if a path was included, verify that the path is correct and try again.\u001b[0m\n",
      "True\n",
      "fall\n",
      "True\n",
      "fall\n"
     ]
    }
   ],
   "source": [
    "import-module pansies\n",
    "import-module Ninmonkey.Console\n",
    "# cannot get it to fallback in these expresssions\n",
    "# even though it reliably does it in func. Maybe its\n",
    "# that $foo didnt exist, but $_ was?\n",
    "# or, maybe the () evaluation changes somethiing\n",
    "hr\n",
    "$null -eq ($Foo.Bar)?.FakeFunc().Name    # true\n",
    "($Foo.Bar)?.FakeFunc().Name ?? 'fall'    # fall\n",
    "hr\n",
    "$null -eq ($Foo.Bar)?.FakeFunc().Name    #true\n",
    "($Foo.Bar)?.FakeFunc() ?? 'fall'         # fall\n",
    "\n",
    "\n",
    "($_)?.ToString().Name ?? '<anonymous>'\n",
    "\n",
    "($_)?.ToString() ?? '<anonymous>'\n",
    "\n",
    "hr\n",
    "$null -eq ($_)?.ToString()          # true\n",
    "($_)?.ToString() ?? 'fall'\n",
    "\n",
    "$null -eq ($_)?.ToString().Name     # true\n",
    "($_)?.ToString().Name ?? 'fall'"
   ]
  },
  {
   "attachments": {},
   "cell_type": "markdown",
   "metadata": {
    "dotnet_interactive": {
     "language": "pwsh"
    },
    "polyglot_notebook": {
     "kernelName": "pwsh"
    }
   },
   "source": [
    "<!-- buffer dump\n",
    "\n",
    "\n",
    "\n",
    "import-module pansies\n",
    "import-module Ninmonkey.Console\n",
    "# cannot get it to fallback in these expresssions\n",
    "# even though it reliably does it in func. Maybe its\n",
    "# that $foo didnt exist, but $_ was?\n",
    "# or, maybe the () evaluation changes somethiing\n",
    "hr\n",
    "$null -eq ($Foo.Bar)?.FakeFunc().Name    # true\n",
    "($Foo.Bar)?.FakeFunc().Name ?? 'fall'    # fall\n",
    "hr\n",
    "$null -eq ($Foo.Bar)?.FakeFunc().Name    #true\n",
    "($Foo.Bar)?.FakeFunc() ?? 'fall'         # fall\n",
    "\n",
    "\n",
    "($_)?.ToString().Name ?? '<anonymous>'\n",
    "\n",
    "($_)?.ToString() ?? '<anonymous>'\n",
    "\n",
    "hr\n",
    "$null -eq ($_)?.ToString()          # true\n",
    "($_)?.ToString() ?? 'fall'\n",
    "\n",
    "$null -eq ($_)?.ToString().Name     # true\n",
    "($_)?.ToString().Name ?? 'fall'\n",
    "\n",
    "\n",
    "\n",
    "\n",
    "\n",
    "\n",
    "\n",
    "\n",
    "\n",
    "\n",
    "\n",
    " -->"
   ]
  }
 ],
 "metadata": {
  "kernelspec": {
   "display_name": ".NET (PowerShell)",
   "language": "PowerShell",
   "name": ".net-pwsh"
  },
  "polyglot_notebook": {
   "kernelInfo": {
    "defaultKernelName": "pwsh",
    "items": [
     {
      "aliases": [
       "powershell"
      ],
      "languageName": "PowerShell",
      "name": "pwsh"
     },
     {
      "aliases": [],
      "languageName": "HTML",
      "name": "html"
     },
     {
      "aliases": [
       "frontend"
      ],
      "name": "vscode"
     },
     {
      "aliases": [
       "c#",
       "C#"
      ],
      "languageName": "C#",
      "name": "csharp"
     },
     {
      "aliases": [],
      "name": ".NET"
     },
     {
      "aliases": [
       "f#",
       "F#"
      ],
      "languageName": "F#",
      "name": "fsharp"
     },
     {
      "aliases": [
       "js"
      ],
      "languageName": "JavaScript",
      "name": "javascript"
     },
     {
      "aliases": [],
      "languageName": "KQL",
      "name": "kql"
     },
     {
      "aliases": [],
      "languageName": "Mermaid",
      "name": "mermaid"
     },
     {
      "aliases": [],
      "languageName": "SQL",
      "name": "sql"
     },
     {
      "aliases": [],
      "name": "value"
     },
     {
      "aliases": [],
      "name": "webview"
     }
    ]
   }
  }
 },
 "nbformat": 4,
 "nbformat_minor": 2
}
