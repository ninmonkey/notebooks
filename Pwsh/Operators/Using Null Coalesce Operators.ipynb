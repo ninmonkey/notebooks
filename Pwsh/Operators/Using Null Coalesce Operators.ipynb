{
 "cells": [
  {
   "cell_type": "code",
   "execution_count": null,
   "metadata": {
    "dotnet_interactive": {
     "language": "pwsh"
    },
    "polyglot_notebook": {
     "language": "pwsh"
    },
    "vscode": {
     "languageId": "dotnet-interactive.pwsh"
    }
   },
   "outputs": [],
   "source": [
    "\n",
    "function formatTypeName { \n",
    "    param(\n",
    "        [Parameter(Mandatory)]\n",
    "        [object]$InputObject\n",
    "    )\n",
    "    @{ \n",
    "        ($InputObject).GetType().Name\n",
    "    }\n",
    "}\n",
    "\n",
    "formatTypeName (gi .)\n",
    "\n",
    "(gi .).GetType().Name\n",
    "($dosNotexist)?.GetType().Name"
   ]
  },
  {
   "attachments": {},
   "cell_type": "markdown",
   "metadata": {},
   "source": [
    "![myGif](https://ninmonkeys.com/blog/wp-content/uploads/2022/11/wt-%E2%94%90-PrefixPipe-%E2%94%90-DoesNotBreakOnComments-2022-11ep0.gif)"
   ]
  }
 ],
 "metadata": {
  "kernelspec": {
   "display_name": ".NET (PowerShell)",
   "language": "PowerShell",
   "name": ".net-pwsh"
  },
  "language_info": {
   "name": "PowerShell"
  }
 },
 "nbformat": 4,
 "nbformat_minor": 2
}
