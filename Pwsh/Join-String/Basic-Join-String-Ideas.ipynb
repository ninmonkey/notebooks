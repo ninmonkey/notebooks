{
 "cells": [
  {
   "cell_type": "code",
   "execution_count": 10,
   "metadata": {
    "dotnet_interactive": {
     "language": "pwsh"
    },
    "polyglot_notebook": {
     "kernelName": "pwsh"
    }
   },
   "outputs": [
    {
     "name": "stdout",
     "output_type": "stream",
     "text": [
      "\n",
      "- \"C:\\Users\\cppmo_000\\prof-e748.main.cpuprofile.txt\"\n",
      "- \"C:\\Users\\cppmo_000\\greeting_implicit.txt\"\n",
      "- \"C:\\Users\\cppmo_000\\global.nin.json\"\n",
      "- \"C:\\Users\\cppmo_000\\debug.log\"\n",
      "- \"C:\\Users\\cppmo_000\\test.txt\"\n",
      "- \"C:\\Users\\cppmo_000\\sdfds\"\n",
      "- \"C:\\Users\\cppmo_000\\05-NYI-next-rand-BG-colors.ps1\"\n",
      "- \"C:\\Users\\cppmo_000\\.gitconfig.last.txt\"\n",
      "- \"C:\\Users\\cppmo_000\\.bash_profile.bak\"\n",
      "- \"C:\\Users\\cppmo_000\\mini-error.ps1\"\r\n"
     ]
    }
   ],
   "source": [
    "$files = gci ~ -File | sort FullName\n",
    "$newest10 = $files | sort LastWriteTime | select -first 10 \n",
    "\n",
    "$files | get-random -count 10 | Join-String -op \"`n- \" -sep \"`n- \" -DoubleQuote\n"
   ]
  },
  {
   "cell_type": "code",
   "execution_count": 14,
   "metadata": {
    "dotnet_interactive": {
     "language": "pwsh"
    },
    "polyglot_notebook": {
     "kernelName": "pwsh"
    }
   },
   "outputs": [
    {
     "name": "stdout",
     "output_type": "stream",
     "text": [
      "'C:\\Users\\cppmo_000\\foo.sql', 'C:\\Users\\cppmo_000\\Firefox Installer.exe', 'C:\\Users\\cppmo_000\\.git-credentials', 'C:\\Users\\cppmo_000\\.python_history', 'C:\\Users\\cppmo_000\\.bash_history.bak', 'C:\\Users\\cppmo_000\\.bash_profile_2019', 'C:\\Users\\cppmo_000\\.bashrc_2019', 'C:\\Users\\cppmo_000\\.swp', 'C:\\Users\\cppmo_000\\.nin_session_bash', 'C:\\Users\\cppmo_000\\.bash_logout'\n",
      "\n",
      "- C:\\Users\\cppmo_000\\foo.sql\n",
      "- C:\\Users\\cppmo_000\\Firefox Installer.exe\n",
      "- C:\\Users\\cppmo_000\\.git-credentials\n",
      "- C:\\Users\\cppmo_000\\.python_history\n",
      "- C:\\Users\\cppmo_000\\.bash_history.bak\n",
      "- C:\\Users\\cppmo_000\\.bash_profile_2019\n",
      "- C:\\Users\\cppmo_000\\.bashrc_2019\n",
      "- C:\\Users\\cppmo_000\\.swp\n",
      "- C:\\Users\\cppmo_000\\.nin_session_bash\n",
      "- C:\\Users\\cppmo_000\\.bash_logout\n"
     ]
    }
   ],
   "source": [
    "function Join.Csv {\n",
    "    $Input | Join-String -sep ', ' -SingleQuote\n",
    "}\n",
    "function Join.UL {\n",
    "    $Input | Join-String -op \"`n- \" -sep \"`n- \"\n",
    "}\n",
    "\n",
    "$newest10 | Join.Csv\n",
    "$newest10 | Join.UL"
   ]
  },
  {
   "cell_type": "code",
   "execution_count": 2,
   "metadata": {
    "dotnet_interactive": {
     "language": "pwsh"
    },
    "polyglot_notebook": {
     "kernelName": "pwsh"
    }
   },
   "outputs": [
    {
     "name": "stdout",
     "output_type": "stream",
     "text": [
      "\u001b[38;5;81mDropbox-cpp-monkey\\\u001b[0mKnot.vector.idraw\n",
      "\u001b[38;5;81mZomboid\\\u001b[0m\u001b[38;5;149mlayout.ini\u001b[0m\n",
      "\u001b[38;5;81mSearches\\\u001b[0mwinrt--{S-1-5-21-572729905-3085656190-587020618-1001}-.searchconnector-ms\n",
      "\u001b[38;5;81m3D Objects\\\u001b[0mBulldozer.3mf\n",
      "\u001b[38;5;81mDownloads\\\u001b[0m\u001b[38;5;185mparticipators-by-platform.csv\u001b[0m\n",
      "\u001b[38;5;81m3D Objects\\\u001b[0mLeft Curve Track.3mf\n",
      "\u001b[38;5;81mDownloads\\\u001b[0m\u001b[38;5;186mJumpCloud_Changes.2023-02-15_12-12-08Z.xlsx\u001b[0m\n",
      "\u001b[38;5;81mDropbox - Copy\\\u001b[0mKnot.vector.idraw\n",
      "\u001b[38;5;81mDropbox - Copy\\\u001b[0m\u001b[38;5;186mpyramid-1.0.epub\u001b[0m\n",
      "\u001b[38;5;81mDownloads\\\u001b[0m\u001b[38;5;186mJumpCloud_Changes.2023-02-15_12-12-08Z(3).xlsx\u001b[0m\n"
     ]
    }
   ],
   "source": [
    "# $fdOut = fd --base-directory (gi $Env:UserProfile) -d2 -tf --strip-cwd-prefix --color=always \n",
    "# | Get-Random -count 10\n",
    "\n",
    "fd --base-directory (gi $Env:UserProfile) -d2 -tf --strip-cwd-prefix --color=always \n",
    "| get-random -count 10\n",
    "# | Join-String -sep ', ' -prop { $_ | stripAnsi | Get-Item | % FullName }"
   ]
  },
  {
   "cell_type": "code",
   "execution_count": 22,
   "metadata": {
    "dotnet_interactive": {
     "language": "pwsh"
    },
    "polyglot_notebook": {
     "kernelName": "pwsh"
    }
   },
   "outputs": [
    {
     "name": "stdout",
     "output_type": "stream",
     "text": [
      "<file:///C:\\Users\\cppmo_000\\foo.sql>\n",
      "<file:///C:\\Users\\cppmo_000\\Firefox Installer.exe>\n",
      "<file:///C:\\Users\\cppmo_000\\.git-credentials>\n",
      "<file:///C:\\Users\\cppmo_000\\.python_history>\n",
      "<file:///C:\\Users\\cppmo_000\\.bash_history.bak>\n",
      "<file:///C:\\Users\\cppmo_000\\.bash_profile_2019>\n",
      "<file:///C:\\Users\\cppmo_000\\.bashrc_2019>\n",
      "<file:///C:\\Users\\cppmo_000\\.swp>\n",
      "<file:///C:\\Users\\cppmo_000\\.nin_session_bash>\n",
      "<file:///C:\\Users\\cppmo_000\\.bash_logout>\r\n"
     ]
    }
   ],
   "source": [
    "$newest10 | Join-string -format '<file:///{0}>' -sep \"`n\""
   ]
  },
  {
   "attachments": {},
   "cell_type": "markdown",
   "metadata": {
    "dotnet_interactive": {
     "language": "pwsh"
    },
    "polyglot_notebook": {
     "kernelName": "pwsh"
    }
   },
   "source": [
    "Note: this syntax works in vscode comments and console output when you hold `ctrl`. it does not require ansi-escape url sequences.\n",
    "```ps1\n",
    "<file:///c:\\foo\\bar.txt>\n",
    "```\n",
    "Note: Currently Jupytr notebooks are not"
   ]
  },
  {
   "cell_type": "markdown",
   "metadata": {
    "dotnet_interactive": {
     "language": "pwsh"
    },
    "polyglot_notebook": {
     "kernelName": "pwsh"
    }
   },
   "source": []
  }
 ],
 "metadata": {
  "kernelspec": {
   "display_name": ".NET (C#)",
   "language": "C#",
   "name": ".net-csharp"
  },
  "language_info": {
   "name": "polyglot-notebook"
  },
  "polyglot_notebook": {
   "kernelInfo": {
    "defaultKernelName": "csharp",
    "items": [
     {
      "aliases": [],
      "name": "csharp"
     },
     {
      "aliases": [],
      "languageName": "pwsh",
      "name": "pwsh"
     }
    ]
   }
  }
 },
 "nbformat": 4,
 "nbformat_minor": 2
}
