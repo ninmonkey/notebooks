{
 "cells": [
  {
   "cell_type": "code",
   "execution_count": null,
   "metadata": {
    "dotnet_interactive": {
     "language": "pwsh"
    }
   },
   "outputs": [],
   "source": [
    "using namespace System.Collections.Generic\n",
    "\n",
    "\n",
    "throw \"old version\"\n",
    "function Format-TypeNameInfo2  {\n",
    "    # sugar for notebooks, wrote to be short in definfition, ie; not best practices\n",
    "    [Alias('Ti2')]\n",
    "    param( [Parameter(ValueFromPipeline)]$Obj, [switch]$PassThru )\n",
    "    process {\n",
    "        $tInfo = if($Obj -is 'type') { $Obj }\n",
    "        elseif ($Obj -is 'string') { $Obj -as 'type' }\n",
    "        else { $Obj.GetType() }\n",
    "        if($PassThru) { return $tInfo }\n",
    "        # generics look bad if you remove this [string] coerce\n",
    "        '[{0}]' -f @( [string]$tInfo )\n",
    "    }\n",
    " }\n",
    "\n",
    "function Ti { process {\n",
    "    <#\n",
    "    .EXAMPLE\n",
    "        supports all these cases, not bad for length\n",
    "\n",
    "        [list[string]]$s = 'a', 'b'\n",
    "        $s | _fmttt\n",
    "        ,$s | _fmttt\n",
    "        $null | _fmttt\n",
    "        3, \"dsf\", @(), @(,2) | _fmttt\n",
    "    #>\n",
    "    if($null -eq $_) { return }\n",
    "    ($_ -is 'type') ? $_ : ($_.GetType())   \n",
    "} }\n",
    "#  234 | ti\n",
    "# gi . |  ti\n",
    "# get-date | ti\n",
    "\n",
    "# ,234 | ti\n",
    "\n",
    "\n",
    "function LabelTypeInfo {\n",
    "    # using $Input is almost always a bad idea, because it has a \n",
    "    # zillion edge cases, but this is a notebook\n",
    "    [Alias('Label')]\n",
    "    param( [string]$Name )\n",
    "    process {\n",
    "        $_ | Format-TypeNameInfo | Join-String -op \"${Name}: \"\n",
    "    }\n",
    "}\n",
    "\n",
    "\n",
    "\n",
    "\n",
    "$Numbers = [string]'123'    # [string]\n",
    "$Numbers | Ti \n",
    "$Numbers | label Ti \n",
    "$numbers\n",
    "\n",
    "return\n",
    "\n",
    "$Numbers | Ti\n",
    "'213'\n",
    "ti (get-date)\n",
    ",(get-date) | ti\n",
    "\n",
    "class User {\n",
    "   [string]$Name = 'anonymous'\n",
    "}\n",
    "\n",
    ",$me = [User]::new()\n",
    "$me | ti\n",
    "$numbers"
   ]
  },
  {
   "cell_type": "code",
   "execution_count": null,
   "metadata": {
    "dotnet_interactive": {
     "language": "pwsh"
    }
   },
   "outputs": [],
   "source": []
  },
  {
   "cell_type": "code",
   "execution_count": null,
   "metadata": {
    "dotnet_interactive": {
     "language": "pwsh"
    }
   },
   "outputs": [],
   "source": [
    "\n",
    "\n"
   ]
  }
 ],
 "metadata": {
  "kernelspec": {
   "display_name": ".NET (C#)",
   "language": "C#",
   "name": ".net-csharp"
  },
  "polyglot_notebook": {
   "kernelInfo": {
    "defaultKernelName": "csharp",
    "items": [
     {
      "aliases": [
       "c#",
       "C#"
      ],
      "languageName": "C#",
      "name": "csharp"
     },
     {
      "aliases": [],
      "name": ".NET"
     },
     {
      "aliases": [
       "f#",
       "F#"
      ],
      "languageName": "F#",
      "name": "fsharp"
     },
     {
      "aliases": [],
      "languageName": "HTML",
      "name": "html"
     },
     {
      "aliases": [
       "js"
      ],
      "languageName": "JavaScript",
      "name": "javascript"
     },
     {
      "aliases": [],
      "languageName": "KQL",
      "name": "kql"
     },
     {
      "aliases": [],
      "languageName": "Mermaid",
      "name": "mermaid"
     },
     {
      "aliases": [
       "powershell"
      ],
      "languageName": "PowerShell",
      "name": "pwsh"
     },
     {
      "aliases": [],
      "languageName": "SQL",
      "name": "sql"
     },
     {
      "aliases": [],
      "name": "value"
     },
     {
      "aliases": [
       "frontend"
      ],
      "name": "vscode"
     },
     {
      "aliases": [],
      "name": "webview"
     }
    ]
   }
  }
 },
 "nbformat": 4,
 "nbformat_minor": 2
}
