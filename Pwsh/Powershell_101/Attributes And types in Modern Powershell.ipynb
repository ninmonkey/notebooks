{
 "cells": [
  {
   "attachments": {},
   "cell_type": "markdown",
   "metadata": {},
   "source": [
    "# The short Version\n",
    "\n",
    "## C# uses it for `attributes`\n",
    "\n",
    "```cs\n",
    "[ObsoleteAttribute(\"Everyone is using User2, you need to catch up\", false)]\n",
    "class User { \n",
    "    public string Name;\n",
    "}\n",
    "```\n",
    "\n",
    "## PowerShell uses it for `attributes` and `types`\n",
    "\n",
    "Often Pwsh Attributes add data validation. There's a type named [ValidateNotNullAttribute](https://learn.microsoft.com/en-us/dotnet/api/System.Management.Automation.ValidateNotNullAttribute?view=powershellsdk-7.2.0) which implements the `attribute`\n",
    "```ps1\n",
    "class User {\n",
    "    [ValidateNotNull()]\n",
    "    [string]$Name\n",
    "}\n",
    "```\n",
    "or starting with a blank scriptblock\n",
    "```ps1\n",
    "function DoStuff1 { \n",
    "    param()\n",
    "}\n",
    "```\n",
    "Creating an \"advanced function\" by adding the `Cmdletbinding` attribute\n",
    "```ps1\n",
    "function DoStuff2 { \n",
    "    [CmdletBinding()]\n",
    "    param()\n",
    "}\n",
    "```\n",
    "CmdletBinding and Parameter add support many parameters automatically, for `-verbose`, `-debug`, `-infa`, `-WhatIf`, `-Confirm`, gives you `$CmdletBinding`\n",
    "\n",
    "----\n",
    "\n",
    "```ps1\n",
    "function DoStuff3 { \n",
    "    # docstring    \n",
    "    [Alias('doIt')]\n",
    "    [CmdletBinding()]\n",
    "    param(\n",
    "        # help info here\n",
    "        [Parameter(Mandatory)]\n",
    "        [ValidateNotNullOrEmpty()]\n",
    "        [string]$Name\n",
    "\n",
    "\n",
    "        # let user specify any range, or omit it\n",
    "        [Parameter()]\n",
    "        [int] = 0\n",
    "    )\n",
    "}\n",
    "```\n",
    "----\n",
    "\n",
    "There's a few things going on, here's some to notice\n",
    "\n",
    "- A bunch of attributes are used. none of these are type names: `Alias`, `CmdletBinding`, `Parameter`, `ValidateNotNullOrEmpty` . the actual type names have the word `Attibute` appended to  the names: `[Parameter()]` => `[ParameterAttribute]`\n",
    "- documentation for parameter Name iss set to \"help info here\"\n",
    "- there's automatic validation based on the attributes\n",
    "  - `-Name` is a required value, and cannot be empty or null\n",
    "  - `$null`, or an empty string meaning `''` doesn't work, although whitespace only will work.\n",
    "\n",
    "\n",
    "This works\n",
    "```ps1\n",
    "DoStuff3 'bob'\n",
    "```\n",
    "But all of these will error, because they are invalid \n",
    "```\n",
    "DoStuff3 $Null\n",
    "DoStuff3 ''\n",
    "DoStuff3\n",
    "```"
   ]
  },
  {
   "attachments": {},
   "cell_type": "markdown",
   "metadata": {},
   "source": [
    "With Class Explorer\n",
    "```ps1\n",
    "Pwsh> Install-Module ClassExplorer -Scope CurrentUser\n",
    "\n",
    "Pwsh> Find-Type -Base 'Attribute' | select -first 10\n",
    "```\n",
    "```ps1\n",
    "   Namespace: System\n",
    "\n",
    "Access        Modifiers           Name\n",
    "------        ---------           ----\n",
    "public        sealed class        AttributeUsageAttribute : Attribute\n",
    "public        sealed class        CLSCompliantAttribute : Attribute\n",
    "public        class               ContextStaticAttribute : Attribute\n",
    "public        class               FlagsAttribute : Attribute\n",
    "public        sealed class        LoaderOptimizationAttribute : Attribute\n",
    "public        sealed class        NonSerializedAttribute : Attribute\n",
    "public        sealed class        ObsoleteAttribute : Attribute\n",
    "public        sealed class        ParamArrayAttribute : Attribute\n",
    "public        sealed class        SerializableAttribute : Attribute\n",
    "```"
   ]
  },
  {
   "cell_type": "code",
   "execution_count": 6,
   "metadata": {
    "dotnet_interactive": {
     "language": "csharp"
    },
    "vscode": {
     "languageId": "dotnet-interactive.csharp"
    }
   },
   "outputs": [
    {
     "name": "stdout",
     "output_type": "stream",
     "text": [
      "h"
     ]
    }
   ],
   "source": [
    "\n",
    "// \n",
    "\n",
    "[ObsoleteAttribute(\"Everyone is using User2, you need to catch up\", false)]\n",
    "class User { \n",
    "    public string Name;\n",
    "}\n",
    "\n",
    "Console.Write('h')\n",
    "\n",
    "\n"
   ]
  }
 ],
 "metadata": {
  "kernelspec": {
   "display_name": ".NET (PowerShell)",
   "language": "PowerShell",
   "name": ".net-pwsh"
  },
  "language_info": {
   "name": "PowerShell"
  }
 },
 "nbformat": 4,
 "nbformat_minor": 2
}
