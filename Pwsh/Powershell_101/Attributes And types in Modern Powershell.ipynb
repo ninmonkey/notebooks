{
 "cells": [
  {
   "cell_type": "code",
   "execution_count": 21,
   "metadata": {
    "dotnet_interactive": {
     "language": "pwsh"
    },
    "vscode": {
     "languageId": "dotnet-interactive.pwsh"
    }
   },
   "outputs": [],
   "source": []
  },
  {
   "attachments": {},
   "cell_type": "markdown",
   "metadata": {},
   "source": [
    "# The short Version\n",
    "\n",
    "## C# uses it for `attributes`\n",
    "\n",
    "```cs\n",
    "[ObsoleteAttribute(\"Everyone is using User2, you need to catch up\", false)]\n",
    "class User { \n",
    "    public string Name;\n",
    "}\n",
    "```\n",
    "\n",
    "## PowerShell uses it for `attributes` and `types`\n",
    "\n",
    "Often Pwsh Attributes add data validation. There's a type named [ValidateNotNullAttribute](https://learn.microsoft.com/en-us/dotnet/api/System.Management.Automation.ValidateNotNullAttribute?view=powershellsdk-7.2.0) which implements the `attribute`\n",
    "```ps1\n",
    "class User {\n",
    "    [ValidateNotNull()]\n",
    "    [string]$Name\n",
    "}\n",
    "```\n",
    "or starting with a blank scriptblock\n",
    "```ps1\n",
    "function DoStuff1 { \n",
    "    param()\n",
    "}\n",
    "```\n",
    "Creating an \"advanced function\" by adding the `Cmdletbinding` attribute\n",
    "```ps1\n",
    "function DoStuff2 { \n",
    "    [CmdletBinding()]\n",
    "    param()\n",
    "}\n",
    "```\n",
    "CmdletBinding and Parameter add support many parameters automatically, for `-verbose`, `-debug`, `-infa`, `-WhatIf`, `-Confirm`, gives you `$CmdletBinding`\n",
    "```ps1\n",
    "function DoStuff3 { \n",
    "    # docstring    \n",
    "    [Alias('doIt')]\n",
    "    [CmdletBinding()]\n",
    "    param(\n",
    "        # help info here\n",
    "        [Parameter(Mandatory)]\n",
    "        [ValidateNotNullOrEmpty()]\n",
    "        [string]$Name\n",
    "\n",
    "\n",
    "        # let user specify any range, or omit it\n",
    "        [Parameter()]\n",
    "        [int] = 0\n",
    "    )\n",
    "}\n",
    "```\n",
    "\n",
    "There's a bunch of things in there, here's things to notice\n",
    "\n",
    "- there's automatic validation based on the attributes\n",
    "- `-Name` has to be set\n",
    "- `-Name` cannot be empty, null, or empty string meaning `''` ( whitespace only will work)\n",
    "\n",
    "for that I love\n",
    "\n",
    "\n",
    "\n",
    "This works\n",
    "```ps1\n",
    "DoStuff3 'bob'\n",
    "```\n",
    "But all of these will error, because they are invalid \n",
    "```\n",
    "DoStuff3 $Null\n",
    "DoStuff3 ''\n",
    "DoStuff3\n",
    "```"
   ]
  },
  {
   "cell_type": "code",
   "execution_count": null,
   "metadata": {
    "dotnet_interactive": {
     "language": "pwsh"
    },
    "vscode": {
     "languageId": "dotnet-interactive.pwsh"
    }
   },
   "outputs": [],
   "source": []
  },
  {
   "cell_type": "code",
   "execution_count": 8,
   "metadata": {
    "dotnet_interactive": {
     "language": "pwsh"
    },
    "vscode": {
     "languageId": "dotnet-interactive.pwsh"
    }
   },
   "outputs": [],
   "source": []
  },
  {
   "cell_type": "code",
   "execution_count": null,
   "metadata": {
    "dotnet_interactive": {
     "language": "pwsh"
    },
    "vscode": {
     "languageId": "dotnet-interactive.pwsh"
    }
   },
   "outputs": [],
   "source": []
  },
  {
   "cell_type": "code",
   "execution_count": 6,
   "metadata": {
    "dotnet_interactive": {
     "language": "csharp"
    },
    "vscode": {
     "languageId": "dotnet-interactive.csharp"
    }
   },
   "outputs": [
    {
     "name": "stdout",
     "output_type": "stream",
     "text": [
      "h"
     ]
    }
   ],
   "source": [
    "\n",
    "// \n",
    "\n",
    "[ObsoleteAttribute(\"Everyone is using User2, you need to catch up\", false)]\n",
    "class User { \n",
    "    public string Name;\n",
    "}\n",
    "\n",
    "Console.Write('h')\n",
    "\n",
    "\n"
   ]
  },
  {
   "cell_type": "code",
   "execution_count": 9,
   "metadata": {
    "dotnet_interactive": {
     "language": "pwsh"
    },
    "vscode": {
     "languageId": "dotnet-interactive.pwsh"
    }
   },
   "outputs": [],
   "source": [
    "\n",
    "\n"
   ]
  }
 ],
 "metadata": {
  "kernelspec": {
   "display_name": ".NET (PowerShell)",
   "language": "PowerShell",
   "name": ".net-pwsh"
  },
  "language_info": {
   "name": "PowerShell"
  }
 },
 "nbformat": 4,
 "nbformat_minor": 2
}
