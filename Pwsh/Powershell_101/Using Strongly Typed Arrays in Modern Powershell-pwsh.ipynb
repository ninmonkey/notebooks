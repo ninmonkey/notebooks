{
 "cells": [
  {
   "cell_type": "code",
   "execution_count": 23,
   "metadata": {
    "dotnet_interactive": {
     "language": "pwsh"
    },
    "vscode": {
     "languageId": "dotnet-interactive.pwsh"
    }
   },
   "outputs": [],
   "source": [
    "using namespace System.Collections.Generic\n",
    "function typeInfo { process {\n",
    "    # written to be short for notebooks, it's not an example of best practices\n",
    "    '[{0}]' -f @( ($_)?.GetType().Name ?? \"`u{2400}\" ) \n",
    "} }"
   ]
  },
  {
   "cell_type": "code",
   "execution_count": 24,
   "metadata": {
    "dotnet_interactive": {
     "language": "pwsh"
    },
    "vscode": {
     "languageId": "dotnet-interactive.pwsh"
    }
   },
   "outputs": [
    {
     "name": "stdout",
     "output_type": "stream",
     "text": [
      "[␀]\r\n",
      "[DateTime]\r\n",
      "[␀]\r\n"
     ]
    }
   ],
   "source": [
    "typeInfo (get-date)\n",
    "get-date | typeInfo\n",
    "\n",
    "[List[String]]$l_str = @()\n",
    "\n",
    "typeInf $l_str\n",
    "$l_str |  typeInf\n",
    "return\n",
    "# function Ti3 { process {\n",
    "#     <#\n",
    "#     .EXAMPLE\n",
    "#         supports all these cases, not bad for length\n",
    "\n",
    "#         [list[string]]$s = 'a', 'b'\n",
    "#         $s | _fmttt\n",
    "#         ,$s | _fmttt\n",
    "#         $null | _fmttt\n",
    "#         3, \"dsf\", @(), @(,2) | _fmttt\n",
    "#     #>\n",
    "#     if($null -eq $_) { return }\n",
    "#     ($_ -is 'type') ? $_ : ($_.GetType())   \n",
    "# } }\n",
    "# #  234 | ti\n",
    "# # gi . |  ti\n",
    "# # get-date | ti\n",
    "\n",
    "# # ,234 | ti\n"
   ]
  },
  {
   "cell_type": "code",
   "execution_count": 8,
   "metadata": {
    "dotnet_interactive": {
     "language": "pwsh"
    },
    "vscode": {
     "languageId": "dotnet-interactive.pwsh"
    }
   },
   "outputs": [],
   "source": []
  },
  {
   "cell_type": "code",
   "execution_count": 9,
   "metadata": {
    "dotnet_interactive": {
     "language": "pwsh"
    },
    "vscode": {
     "languageId": "dotnet-interactive.pwsh"
    }
   },
   "outputs": [],
   "source": [
    "\n",
    "\n"
   ]
  }
 ],
 "metadata": {
  "kernelspec": {
   "display_name": ".NET (PowerShell)",
   "language": "PowerShell",
   "name": ".net-pwsh"
  },
  "language_info": {
   "name": "PowerShell"
  }
 },
 "nbformat": 4,
 "nbformat_minor": 2
}
