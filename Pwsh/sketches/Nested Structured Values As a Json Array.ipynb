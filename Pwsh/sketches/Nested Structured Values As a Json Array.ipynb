{
 "cells": [
  {
   "cell_type": "code",
   "execution_count": 55,
   "metadata": {
    "dotnet_interactive": {
     "language": "pwsh"
    },
    "polyglot_notebook": {
     "kernelName": "pwsh"
    }
   },
   "outputs": [
    {
     "name": "stdout",
     "output_type": "stream",
     "text": [
      "\n",
      "\u001b[32;1mModuleType Version    PreRelease Name                                ExportedCommands\u001b[0m\n",
      "\u001b[32;1m---------- -------    ---------- ----                                ----------------\u001b[0m\n",
      "Script     2.3.2                 nameit                              {Invoke-Generate, New-NameItT…\n",
      "\n"
     ]
    }
   ],
   "source": [
    "\n",
    "Import-Module 'E:\\PSModulePath.2023.root\\Main\\nameit' -pass -ea 'stop'\n",
    "# nested structures, as json arrays\n",
    "Set-Alias 'Json' 'ConvertTo-Json'\n",
    "# [Collections.Generic.List[Object]]$Items = @()"
   ]
  },
  {
   "attachments": {},
   "cell_type": "markdown",
   "metadata": {},
   "source": [
    "The first target output is this\n",
    "\n",
    "```jsonc\n",
    "{\"Region\":\"West\",\"Employees\":[\"bob\",\"jen\",\"Ned\"]}\n",
    "```\n",
    "generated using:\n",
    "```ps1\n",
    "@( \n",
    "   @{ \n",
    "     Region = 'West'\n",
    "     Employees = @( 'bob', 'jen', 'Ned' )\n",
    "   }\n",
    "   \n",
    ") | json -Depth 1 -Compress\n",
    "```"
   ]
  },
  {
   "cell_type": "code",
   "execution_count": 56,
   "metadata": {
    "dotnet_interactive": {
     "language": "pwsh"
    },
    "polyglot_notebook": {
     "kernelName": "pwsh"
    }
   },
   "outputs": [],
   "source": [
    "\n",
    "class Employee {\n",
    "    [string]$Name #3 = (NameIt\\Ig '[person]')\n",
    "    [int]$Id #= (get-random -min 0 -max 10000 )\n",
    "    Employee () { \n",
    "        $this.Name = NameIt\\Ig '[person]'\n",
    "        $this.Id = (get-random -min 0 -max 10000 )\n",
    "    }\n",
    "    Employee ( [string]$Name, [int]$Id ) {\n",
    "        $this.Name = $Name ?? 'no'\n",
    "        $this.Id = $Id ?? 'no'\n",
    "\n",
    "    }\n",
    "    [string] ToString() {\n",
    "        return '<{0} [{1}]>' -f @(\n",
    "            $this.Name ?? 'anonymous'\n",
    "            $this.Id ?? 0\n",
    "         )\n",
    "    }\n",
    "}"
   ]
  },
  {
   "cell_type": "code",
   "execution_count": 82,
   "metadata": {
    "dotnet_interactive": {
     "language": "pwsh"
    },
    "polyglot_notebook": {
     "kernelName": "pwsh"
    }
   },
   "outputs": [
    {
     "name": "stdout",
     "output_type": "stream",
     "text": [
      "\n",
      "\u001b[32;1mName            Id\u001b[0m\n",
      "\u001b[32;1m----            --\u001b[0m\n",
      "Gerald Briggs 8812\n",
      "Yazmin Holmes  150\n",
      "\n"
     ]
    }
   ],
   "source": [
    "function New-Employee {\n",
    "    param(\n",
    "        [string]$Name,\n",
    "        [int]$Id\n",
    "    )\n",
    "    # [Employee]::new( $Name, $Id )\n",
    "    [Employee]::new()\n",
    "\n",
    "\n",
    "    # [Employee]::new($Name ?? $null, $Id ?? $null )\n",
    "    # [Employee]@{ Name = $Name ?? 'no' ; Id = $id }\n",
    "}\n",
    "\n",
    "New-Employee -name 'bob' -id 1234\n",
    "New-Employee -Name  $Null -Id 5\n",
    "\n",
    "# [Employee]::new()\n",
    "\n"
   ]
  },
  {
   "cell_type": "code",
   "execution_count": null,
   "metadata": {
    "dotnet_interactive": {
     "language": "pwsh"
    },
    "polyglot_notebook": {
     "kernelName": "pwsh"
    }
   },
   "outputs": [],
   "source": [
    "[Collections.Generic.List[Object]]$BinArgs = @()\n",
    "\n",
    "$BinArgs.AddRange(\n",
    "    @()\n",
    ")\n",
    "\n"
   ]
  },
  {
   "cell_type": "code",
   "execution_count": 85,
   "metadata": {
    "dotnet_interactive": {
     "language": "pwsh"
    },
    "polyglot_notebook": {
     "kernelName": "pwsh"
    }
   },
   "outputs": [
    {
     "name": "stdout",
     "output_type": "stream",
     "text": [
      "[\r\n",
      "  1,\r\n",
      "  2,\r\n",
      "  4,\r\n",
      "  [\r\n",
      "    8,\r\n",
      "    16,\r\n",
      "    32,\r\n",
      "    64\r\n",
      "  ]\r\n",
      "]\r\n"
     ]
    }
   ],
   "source": [
    "[Collections.Generic.List[Object]]$Items = @()\n",
    "$Items.add( 1 )\n",
    "$Items.add( 2 )\n",
    "$Items.add( 4 )\n",
    "\n",
    "$rest = 8, 16, 32, 64\n",
    "$Items.Add( $rest )\n",
    "$Items | json\n",
    "\n"
   ]
  },
  {
   "cell_type": "code",
   "execution_count": 87,
   "metadata": {
    "dotnet_interactive": {
     "language": "pwsh"
    },
    "polyglot_notebook": {
     "kernelName": "pwsh"
    }
   },
   "outputs": [
    {
     "name": "stdout",
     "output_type": "stream",
     "text": [
      "[\r\n",
      "  1,\r\n",
      "  2,\r\n",
      "  4,\r\n",
      "  8\r\n",
      "]\r\n"
     ]
    }
   ],
   "source": [
    "[Collections.Generic.List[Object]]$Items = @()\n",
    "1,2,4,8 | %{   $Items.Add( $_ ) } \n",
    "\n",
    "$Items | json"
   ]
  },
  {
   "attachments": {},
   "cell_type": "markdown",
   "metadata": {
    "dotnet_interactive": {
     "language": "pwsh"
    },
    "polyglot_notebook": {
     "kernelName": "pwsh"
    }
   },
   "source": [
    "[Employee]::new()"
   ]
  }
 ],
 "metadata": {
  "kernelspec": {
   "display_name": ".NET (PowerShell)",
   "language": "PowerShell",
   "name": ".net-pwsh"
  },
  "language_info": {
   "name": "polyglot-notebook"
  },
  "polyglot_notebook": {
   "kernelInfo": {
    "defaultKernelName": "pwsh",
    "items": [
     {
      "aliases": [],
      "languageName": "pwsh",
      "name": "pwsh"
     }
    ]
   }
  }
 },
 "nbformat": 4,
 "nbformat_minor": 2
}
