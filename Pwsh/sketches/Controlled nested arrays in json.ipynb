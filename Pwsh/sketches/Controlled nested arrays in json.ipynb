{
 "cells": [
  {
   "cell_type": "code",
   "execution_count": 14,
   "metadata": {
    "dotnet_interactive": {
     "language": "pwsh"
    },
    "polyglot_notebook": {
     "kernelName": "pwsh"
    }
   },
   "outputs": [
    {
     "name": "stdout",
     "output_type": "stream",
     "text": [
      "[\r\n",
      "  0,\r\n",
      "  1,\r\n",
      "  2,\r\n",
      "  3\r\n",
      "]\r\n"
     ]
    }
   ],
   "source": [
    "Set-Alias 'Json' 'ConvertTo-Json'\n",
    "[Collections.Generic.List[Object]]$Items = @()\n",
    "\n",
    "\n",
    "foreach($x in 0..3) { \n",
    "    $Items.Add($x)\n",
    "}\n",
    "\n",
    "$Items | Json"
   ]
  },
  {
   "cell_type": "code",
   "execution_count": 17,
   "metadata": {
    "dotnet_interactive": {
     "language": "pwsh"
    },
    "polyglot_notebook": {
     "kernelName": "pwsh"
    }
   },
   "outputs": [
    {
     "name": "stdout",
     "output_type": "stream",
     "text": [
      "null\n",
      "[\n",
      "  \"a\",\n",
      "  \"b\",\n",
      "  \"c\"\n",
      "]\n",
      "null\n"
     ]
    }
   ],
   "source": [
    "$Items.Clear()\n",
    "Json -Inp $Items.Add( @(0..3) )\n",
    "'a'..'c' | Json\n",
    "\n",
    "\n",
    "\n",
    "$Items.Clear()\n",
    "Json -Inp $Items.Add( 0..3 )\n",
    "\n",
    "\n",
    "# $Items | Json\n",
    "\n",
    "# hr\n",
    "\n",
    "# $Items.Clear()\n",
    "# $Items.AddRange( @(0..3) )\n",
    "# $Items | Json"
   ]
  }
 ],
 "metadata": {
  "kernelspec": {
   "display_name": ".NET (PowerShell)",
   "language": "PowerShell",
   "name": ".net-pwsh"
  },
  "language_info": {
   "name": "polyglot-notebook"
  },
  "polyglot_notebook": {
   "kernelInfo": {
    "defaultKernelName": "pwsh",
    "items": [
     {
      "aliases": [],
      "languageName": "pwsh",
      "name": "pwsh"
     }
    ]
   }
  }
 },
 "nbformat": 4,
 "nbformat_minor": 2
}
