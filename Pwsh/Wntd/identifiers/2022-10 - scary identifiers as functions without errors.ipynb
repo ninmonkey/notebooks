{
 "cells": [
  {
   "attachments": {},
   "cell_type": "markdown",
   "metadata": {},
   "source": [
    "**W**hat**N**ot**T**o**D**o <br/> git://[ninmonkey/notebooks](https://github.com/ninmonkey/notebooks) <br/>\n",
    "*I warned you* 2022-10-17"
   ]
  },
  {
   "cell_type": "code",
   "execution_count": null,
   "metadata": {
    "dotnet_interactive": {
     "language": "pwsh"
    },
    "vscode": {
     "languageId": "dotnet-interactive.pwsh"
    }
   },
   "outputs": [
    {
     "name": "stdout",
     "output_type": "stream",
     "text": [
      "\u001b[91mReverseIt: \r\n",
      "\u001b[96mLine |\r\n",
      "\u001b[96m   6 | \u001b[0m     end { $l | \u001b[96mReverseIt\u001b[0m } }\r\n",
      "\u001b[96m     | \u001b[91m                ~~~~~~~~~\r\n",
      "\u001b[91m\u001b[96m     | \u001b[91mThe term 'ReverseIt' is not recognized as a name of a cmdlet, function, script file, or executable program.\r\n",
      "Check the spelling of the name, or if a path was included, verify that the path is correct and try again.\u001b[0m\r\n"
     ]
    }
   ],
   "source": [
    "using namespace System.Collections.Generic\n",
    "function ⸳ {\n",
    "    [CmdletBinding()]param( [Parameter(ValueFromPipeline)]$_ ) begin {\n",
    "        [list[object]]$l = @() }\n",
    "    process { $l.Add($_) }\n",
    "    end { $l | ReverseIt } }\n",
    "\n",
    "'a'..'f' | ⸳\n"
   ]
  },
  {
   "cell_type": "code",
   "execution_count": null,
   "metadata": {
    "dotnet_interactive": {
     "language": "pwsh"
    },
    "vscode": {
     "languageId": "dotnet-interactive.pwsh"
    }
   },
   "outputs": [],
   "source": [
    "\n",
    "\n",
    "$a = 'cat'\n",
    "$a = '0.⸳.4'\n",
    "$b = '0.'\n",
    "Set-Item -path \"function:\\$b\" -value { '😈' }\n",
    "Set-Item -path \"function:\\$a\" -value { '😈' }\n",
    "\n",
    "0.⸳.4 | Join-String -sep ', '\n"
   ]
  },
  {
   "cell_type": "code",
   "execution_count": null,
   "metadata": {
    "dotnet_interactive": {
     "language": "pwsh"
    },
    "vscode": {
     "languageId": "dotnet-interactive.pwsh"
    }
   },
   "outputs": [
    {
     "name": "stdout",
     "output_type": "stream",
     "text": [
      "[ 334] \r\n",
      "[ a] \r\n",
      "[ b] \r\n",
      "[ c] \r\n",
      "[ d] \r\n",
      "[ e] \r\n",
      "[ f] \r\n",
      "[ g] \r\n",
      "[ h] \r\n",
      "[ i] \r\n",
      "[ j] \r\n",
      "[ k] \r\n",
      "[ l] \r\n",
      "[ m] \r\n",
      "[ n] \r\n",
      "[ o] \r\n",
      "[ p] \r\n",
      "[ q] \r\n",
      "[ r] \r\n",
      "[ s] \r\n",
      "[ t] \r\n",
      "[ u] \r\n",
      "[ v] \r\n",
      "[ w] \r\n",
      "[ x] \r\n",
      "[ y] \r\n",
      "[ z] \r\n",
      "[ a] \r\n",
      "[ b] \r\n",
      "[ c] \r\n",
      "[ d] \r\n",
      "[ e] \r\n",
      "[ f] \r\n",
      "[ g] \r\n",
      "[ h] \r\n",
      "[ i] \r\n",
      "[ j] \r\n",
      "[ k] \r\n",
      "[ l] \r\n",
      "[ m] \r\n",
      "[ n] \r\n",
      "[ o] \r\n",
      "[ p] \r\n",
      "[ q] \r\n",
      "[ r] \r\n",
      "[ s] \r\n",
      "[ t] \r\n",
      "[ u] \r\n",
      "[ v] \r\n",
      "[ w] \r\n",
      "[ x] \r\n",
      "[ y] \r\n",
      "[ z] \r\n",
      "[ 3] \r\n",
      "[ 4] \r\n",
      "[ 5334] \r\n",
      "[ ] \r\n",
      "[ 334] \r\n",
      "[ 3] \r\n",
      "[ 4] \r\n",
      "[ 5334] \r\n",
      "[ 33_+_4] \r\n"
     ]
    }
   ],
   "source": [
    "function ⸳ { \n",
    "    'bad'\n",
    "}\n",
    "\n",
    "function ⸳ {\n",
    "    process {\n",
    "        'Invoke: u+0x2e33' | write-debug\n",
    "        $_ | Join-String -sep '_' -op '[ ' -os '] '\n",
    "    }\n",
    "}\n",
    "\n",
    "334 | ⸳\n",
    "'a'..'z' | ⸳\n",
    "'a'..'z' | ⸳ 'z'..'z'\n",
    "3,4,5334 | ⸳\n",
    "⸳ 33 + 4\n",
    "\n",
    "function ⸳ {\n",
    "    process {\n",
    "        'Invoke: u+0x2e33' | write-debug\n",
    "        ( $_ ?? $args ) | Join-String -sep '_' -op '[ ' -os '] '\n",
    "    }\n",
    "}\n",
    "\n",
    "334 | ⸳\n",
    "3,4,5334 | ⸳\n",
    "⸳ 33 + 4\n",
    "\n",
    "return\n",
    "$x = { 'Hi world' }\n",
    "\n",
    "'a'..'e'\n",
    "# &$x ⸳ ..'e'\n",
    "\n"
   ]
  }
 ],
 "metadata": {
  "kernelspec": {
   "display_name": ".NET (PowerShell)",
   "language": "PowerShell",
   "name": ".net-pwsh"
  },
  "language_info": {
   "name": "PowerShell"
  }
 },
 "nbformat": 4,
 "nbformat_minor": 2
}
