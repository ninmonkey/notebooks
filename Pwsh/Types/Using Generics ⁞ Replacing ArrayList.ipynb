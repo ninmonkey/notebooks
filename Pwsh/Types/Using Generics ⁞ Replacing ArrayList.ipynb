{
 "cells": [
  {
   "attachments": {},
   "cell_type": "markdown",
   "metadata": {},
   "source": [
    "## Summary\n",
    "\n",
    "- You should default to `[List[Object]]` which is close to `[object[]]` \n",
    "- unless you want a specific type, then use `[List[TypeName]]` which was `[TypeName[]]`\n",
    "\n",
    "```ps1\n",
    "[list[object]]$items = @()\n",
    "[list[int]]$items = @()\n",
    "```\n",
    "\n",
    "You can ensure that even assigning the list to null: `$items = $null`\n",
    "will not remove the list type by adding the `[ValidateNotNull()]` attribute. \n",
    "```ps1\n",
    "# You can use attributes on variables? Oh yeah :)\n",
    "[ValidateNotNull()]\n",
    "[List[Int]]$alwaysNum = @()\n",
    "```"
   ]
  },
  {
   "attachments": {},
   "cell_type": "markdown",
   "metadata": {},
   "source": [
    "Its best practice to use `List` generic types, verses the old, untyped `ArrayList`s.\n",
    "\n",
    "[Some of the reasons why are described in the blue box here](https://learn.microsoft.com/en-us/dotnet/api/System.Collections.ArrayList?view=net-6.0) and [in the docs for `List`](https://learn.microsoft.com/en-us/dotnet/api/system.collections.generic.list-1?view=net-6.0#remarks)\n",
    "\n",
    "- `[List[type]]` is typesafe (its strongly typed)\n",
    "- You can implement  `IComparable` and `IEquateable` ( verses `ArrayList` which is always type `object` -- so you have to add additional code)\n",
    "- `ArrayList` is untyped, it's a list of objects. It's from before generics existed.\n",
    "- you can tie into automatic data validation from attributes or `class-records` . Great for validating JSON for web apis (see other notebook)\n",
    "\n",
    "It's super easy to update:"
   ]
  },
  {
   "cell_type": "code",
   "execution_count": 1,
   "metadata": {
    "dotnet_interactive": {
     "language": "pwsh"
    },
    "vscode": {
     "languageId": "dotnet-interactive.pwsh"
    }
   },
   "outputs": [
    {
     "name": "stdout",
     "output_type": "stream",
     "text": [
      "\u001b[91mInvalidOperation: \r\n",
      "\u001b[96mLine |\r\n",
      "\u001b[96m   3 | \u001b[0m $arrayList = \u001b[96m[ArrayList]\u001b[0m::new()\r\n",
      "\u001b[96m     | \u001b[91m              ~~~~~~~~~~~\r\n",
      "\u001b[91m\u001b[96m     | \u001b[91mUnable to find type [ArrayList].\u001b[0m\r\n",
      "\u001b[91mInvalidOperation: \r\n",
      "\u001b[96mLine |\r\n",
      "\u001b[96m   7 | \u001b[0m $items = \u001b[96m[list[object]]\u001b[0m::new()\r\n",
      "\u001b[96m     | \u001b[91m          ~~~~~~~~~~~~~~\r\n",
      "\u001b[91m\u001b[96m     | \u001b[91mUnable to find type [list].\u001b[0m\r\n",
      "\u001b[91mInvalidOperation: \r\n",
      "\u001b[96mLine |\r\n",
      "\u001b[96m   8 | \u001b[0m $items = \u001b[96m[list[int]]\u001b[0m::new()\r\n",
      "\u001b[96m     | \u001b[91m          ~~~~~~~~~~~\r\n",
      "\u001b[91m\u001b[96m     | \u001b[91mUnable to find type [list].\u001b[0m\r\n",
      "\u001b[91mInvalidOperation: \r\n",
      "\u001b[96mLine |\r\n",
      "\u001b[96m  11 | \u001b[0m \u001b[96m[list[object]]\u001b[0m$items = @()\r\n",
      "\u001b[96m     | \u001b[91m ~~~~~~~~~~~~~~\r\n",
      "\u001b[91m\u001b[96m     | \u001b[91mUnable to find type [list].\u001b[0m\r\n",
      "\u001b[91mInvalidOperation: \r\n",
      "\u001b[96mLine |\r\n",
      "\u001b[96m  12 | \u001b[0m \u001b[96m[list[int]]\u001b[0m$items = @()\r\n",
      "\u001b[96m     | \u001b[91m ~~~~~~~~~~~\r\n",
      "\u001b[91m\u001b[96m     | \u001b[91mUnable to find type [list].\u001b[0m\r\n",
      "0\r\n",
      "\u001b[91mInvalidOperation: \r\n",
      "\u001b[96mLine |\r\n",
      "\u001b[96m  18 | \u001b[0m \u001b[96m$items.add( $stuff )\u001b[0m\r\n",
      "\u001b[96m     | \u001b[91m ~~~~~~~~~~~~~~~~~~~~\r\n",
      "\u001b[91m\u001b[96m     | \u001b[91mYou cannot call a method on a null-valued expression.\u001b[0m\r\n"
     ]
    }
   ],
   "source": [
    "using namespace System.Collections.Generic\n",
    "# replace these \n",
    "$arrayList = new-object system.collections.arraylist \n",
    "$arrayList = [ArrayList]::new()\n",
    "\n",
    "# with generics\n",
    "# or if you want to be strict, you can use a single type\n",
    "$items = [list[object]]::new()\n",
    "$items = [list[int]]::new()\n",
    "\n",
    "# The constructors above are essentially the same as these\n",
    "[list[object]]$items = @()\n",
    "[list[int]]$items = @()\n",
    "\n",
    "# adding elements, this\n",
    "$arrayList.Add( $stuff )\n",
    "\n",
    "# doesn't change\n",
    "$items.add( $stuff )\n"
   ]
  },
  {
   "cell_type": "code",
   "execution_count": 2,
   "metadata": {
    "dotnet_interactive": {
     "language": "pwsh"
    },
    "vscode": {
     "languageId": "dotnet-interactive.pwsh"
    }
   },
   "outputs": [
    {
     "name": "stdout",
     "output_type": "stream",
     "text": [
      "You can also use implicit arrays created by the pipeline\n",
      ".Add() isn't required\r\n",
      "\u001b[91mInvalidOperation: \r\n",
      "\u001b[96mLine |\r\n",
      "\u001b[96m   5 | \u001b[0m \u001b[96m[List[Int]]\u001b[0m$numbers = 0..100 | %{ $_ * 3 }\r\n",
      "\u001b[96m     | \u001b[91m ~~~~~~~~~~~\r\n",
      "\u001b[91m\u001b[96m     | \u001b[91mUnable to find type [List].\u001b[0m\r\n"
     ]
    }
   ],
   "source": [
    "\"You can also use implicit arrays created by the pipeline\n",
    ".Add() isn't required\"\n",
    "\n",
    "$numbers            = 0..100 | %{ $_ * 3 }\n",
    "[List[Int]]$numbers = 0..100 | %{ $_ * 3 }\n"
   ]
  },
  {
   "cell_type": "markdown",
   "metadata": {},
   "source": [
    "### Strongly Typing your List\n",
    "\n",
    "You may ask: Isn't this example already strongly typed?\n",
    "The answer is yes, but, technically no\n",
    "\n",
    "```ps1\n",
    "$letters = [List[String]]::new()\n",
    "\n",
    "# the strongly typed version:\n",
    "[list[string]]$letters = @()\n",
    "```\n",
    "\n",
    "`$letters` is assigned to the strongly typed list, but, `$letters` itself is untyped. Normally you won't see much of a difference.\n",
    "\n",
    "### the Short Version\n",
    "\n",
    "```ps1\n",
    "\n",
    "$numbers = [List[Int]]::new() # is: [List[Int]]\n",
    "$numbers.Add( 42.6 )   # is: [List[Int]], 42.6 is  coerced to int\n",
    "$numbers.GetType()     # is: [List[Int]]\n",
    "$numbers.Add( 'abcd' ) # is: [List[Int]]\n",
    "\n",
    "'Exception: Cannot convert argument \"item\", with value: \"abcd\", for \"Add\" to type \"System.Int32\"'\n",
    "\n",
    "$numbers = 'abcd'      # is: [String]\n",
    "$numbers.Add( 42.6 )   # is: [String]\n",
    "\"Exception: Method invocation failed because [System.String] does not contain a method named 'Add'\"\n",
    "```\n",
    "Now with strong typing\n",
    "```ps1\n",
    "[List[Int]]$alwaysNum = @() # is: [List[Int]]\n",
    "$alwaysNum.Add( 42.6 )      # is: [List[Int]]\n",
    "$alwaysNum.Add( 'abcd' )    # is: [List[Int]]\n",
    "'Exception: Cannot convert argument \"item\", with value: \"abcd\", for \"Add\" to type \"System.Int32\"'\n",
    "\n",
    "$alwaysNum = 'abcd'         # is: [List[Int]]\n",
    "'Exception: Cannot convert value \"abcd\" to type \"System.Int32\"'\n",
    "```"
   ]
  },
  {
   "cell_type": "markdown",
   "metadata": {},
   "source": [
    "### The longer version"
   ]
  },
  {
   "cell_type": "code",
   "execution_count": 3,
   "metadata": {
    "dotnet_interactive": {
     "language": "pwsh"
    },
    "vscode": {
     "languageId": "dotnet-interactive.pwsh"
    }
   },
   "outputs": [
    {
     "name": "stdout",
     "output_type": "stream",
     "text": [
      "\u001b[91mInvalidOperation: \r\n",
      "\u001b[96mLine |\r\n",
      "\u001b[96m   2 | \u001b[0m $numbers = \u001b[96m[list[int]]\u001b[0m::new()\r\n",
      "\u001b[96m     | \u001b[91m            ~~~~~~~~~~~\r\n",
      "\u001b[91m\u001b[96m     | \u001b[91mUnable to find type [list].\u001b[0m\r\n",
      "\u001b[91mMethodInvocationException: \r\n",
      "\u001b[96mLine |\r\n",
      "\u001b[96m   3 | \u001b[0m \u001b[96m$numbers.Add('234')\u001b[0m\r\n",
      "\u001b[96m     | \u001b[91m ~~~~~~~~~~~~~~~~~~~\r\n",
      "\u001b[91m\u001b[96m     | \u001b[91mException calling \"Add\" with \"1\" argument(s): \"Collection was of a fixed size.\"\u001b[0m\r\n",
      "System.Object[]\r\n",
      "\u001b[91mMethodInvocationException: \r\n",
      "\u001b[96mLine |\r\n",
      "\u001b[96m   6 | \u001b[0m \u001b[96m$numbers.Add( 'asdf' )\u001b[0m\r\n",
      "\u001b[96m     | \u001b[91m ~~~~~~~~~~~~~~~~~~~~~~\r\n",
      "\u001b[91m\u001b[96m     | \u001b[91mException calling \"Add\" with \"1\" argument(s): \"Collection was of a fixed size.\"\u001b[0m\r\n",
      "It threw an exception, so it's looking good?\r\n"
     ]
    }
   ],
   "source": [
    "\n",
    "$numbers = [list[int]]::new()\n",
    "$numbers.Add('234')\n",
    "$numbers.GetType().tostring() # Is: [List<int>]\n",
    "\n",
    "$numbers.Add( 'asdf' )\n",
    "\n",
    "# MethodException: Cannot convert argument \"item\", with value: \"abcd\", for \"Add\" to type \"System.Int32\": \"Cannot convert value \"abcd\" to type \"System.Int32\". Error: \"Input string was not in a correct format.\"\"\n",
    "\n",
    "\"It threw an exception, so it's looking good?\""
   ]
  },
  {
   "cell_type": "code",
   "execution_count": 4,
   "metadata": {
    "dotnet_interactive": {
     "language": "pwsh"
    },
    "vscode": {
     "languageId": "dotnet-interactive.pwsh"
    }
   },
   "outputs": [
    {
     "name": "stdout",
     "output_type": "stream",
     "text": [
      "\u001b[91mInvalidOperation: \r\n",
      "\u001b[96mLine |\r\n",
      "\u001b[96m   2 | \u001b[0m \u001b[96m$numbers.add(434)\u001b[0m # is: [string]\r\n",
      "\u001b[96m     | \u001b[91m ~~~~~~~~~~~~~~~~~\r\n",
      "\u001b[91m\u001b[96m     | \u001b[91mMethod invocation failed because [System.String] does not contain a method named 'Add'.\u001b[0m\r\n",
      "The datatype of numbers is now a string, it changed\r\n"
     ]
    }
   ],
   "source": [
    "$numbers = 'abcd' \n",
    "$numbers.add(434) # is: [string]  \n",
    "\n",
    "# MethodException: Cannot convert argument \"item\", with value: \"abcd\", for \"Add\" to type \"System.Int32\": \"Cannot convert value \"abcd\" to type \"System.Int32\". Error: \"Input string was not in a correct format.\"\"\n",
    "\n",
    "'The datatype of numbers is now a string, it changed'\n"
   ]
  },
  {
   "cell_type": "code",
   "execution_count": 5,
   "metadata": {
    "dotnet_interactive": {
     "language": "pwsh"
    },
    "vscode": {
     "languageId": "dotnet-interactive.pwsh"
    }
   },
   "outputs": [
    {
     "name": "stdout",
     "output_type": "stream",
     "text": [
      "\u001b[91mInvalidOperation: \r\n",
      "\u001b[96mLine |\r\n",
      "\u001b[96m   2 | \u001b[0m \u001b[96m[list[int]]\u001b[0m$alwaysInt = @()\r\n",
      "\u001b[96m     | \u001b[91m ~~~~~~~~~~~\r\n",
      "\u001b[91m\u001b[96m     | \u001b[91mUnable to find type [list].\u001b[0m\r\n",
      "\u001b[91mInvalidOperation: \r\n",
      "\u001b[96mLine |\r\n",
      "\u001b[96m   3 | \u001b[0m \u001b[96m$alwaysInt.Add(42.3)\u001b[0m        # type: [list[Int]]\r\n",
      "\u001b[96m     | \u001b[91m ~~~~~~~~~~~~~~~~~~~~\r\n",
      "\u001b[91m\u001b[96m     | \u001b[91mYou cannot call a method on a null-valued expression.\u001b[0m\r\n",
      "\u001b[91mInvalidOperation: \r\n",
      "\u001b[96mLine |\r\n",
      "\u001b[96m   4 | \u001b[0m \u001b[96m$alwaysInt.Add('abcd')\u001b[0m      # type: [list[Int]]\r\n",
      "\u001b[96m     | \u001b[91m ~~~~~~~~~~~~~~~~~~~~~~\r\n",
      "\u001b[91m\u001b[96m     | \u001b[91mYou cannot call a method on a null-valued expression.\u001b[0m\r\n",
      "It coerced 42.3 to an int, but could not convert text to an int,\n",
      " on adding good Good so far\r\n"
     ]
    }
   ],
   "source": [
    "\n",
    "[list[int]]$alwaysInt = @()\n",
    "$alwaysInt.Add(42.3)        # type: [list[Int]]\n",
    "$alwaysInt.Add('abcd')      # type: [list[Int]]\n",
    "'It coerced 42.3 to an int, but could not convert text to an int,\n",
    " on adding good Good so far'"
   ]
  },
  {
   "cell_type": "code",
   "execution_count": 6,
   "metadata": {
    "dotnet_interactive": {
     "language": "pwsh"
    },
    "vscode": {
     "languageId": "dotnet-interactive.pwsh"
    }
   },
   "outputs": [
    {
     "name": "stdout",
     "output_type": "stream",
     "text": [
      "\u001b[91mInvalidOperation: \u001b[91mYou cannot call a method on a null-valued expression.\u001b[0m\r\n",
      "System.String\r\n",
      "Not only did it not assign the value to a string,\n",
      "it also preserved its original type\r\n"
     ]
    }
   ],
   "source": [
    "$alwaysInt.GetType().ToString()\n",
    "$alwaysInt = 'abcd'               # type: [List[Int]]\n",
    "$alwaysInt.GetType().ToString()\n",
    "'Not only did it not assign the value to a string,\n",
    "it also preserved its original type'"
   ]
  },
  {
   "cell_type": "code",
   "execution_count": 7,
   "metadata": {
    "dotnet_interactive": {
     "language": "pwsh"
    },
    "vscode": {
     "languageId": "dotnet-interactive.pwsh"
    }
   },
   "outputs": [
    {
     "name": "stdout",
     "output_type": "stream",
     "text": [
      "\u001b[91mInvalidOperation: \r\n",
      "\u001b[96mLine |\r\n",
      "\u001b[96m   2 | \u001b[0m $numbers = \u001b[96m[List[Int]]\u001b[0m::new()\r\n",
      "\u001b[96m     | \u001b[91m            ~~~~~~~~~~~\r\n",
      "\u001b[91m\u001b[96m     | \u001b[91mUnable to find type [List].\u001b[0m\r\n",
      "\u001b[91mInvalidOperation: \r\n",
      "\u001b[96mLine |\r\n",
      "\u001b[96m   3 | \u001b[0m \u001b[96m[List[Int]]\u001b[0m$strongNumbers = @()\r\n",
      "\u001b[96m     | \u001b[91m ~~~~~~~~~~~\r\n",
      "\u001b[91m\u001b[96m     | \u001b[91mUnable to find type [List].\u001b[0m\r\n",
      "\r\n",
      "\u001b[32;1mIsPublic IsSerial Name                                     BaseType\u001b[0m\r\n",
      "\u001b[32;1m-------- -------- ----                                     --------\u001b[0m\r\n",
      "True     True     String                                   System.Object\r\n",
      "True     True     String                                   System.Object\r\n",
      "\u001b[91mInvalidOperation: \r\n",
      "\u001b[96mLine |\r\n",
      "\u001b[96m  10 | \u001b[0m \u001b[96m$strongNumbers.GetType()\u001b[0m # is: [list[object]]\r\n",
      "\u001b[96m     | \u001b[91m ~~~~~~~~~~~~~~~~~~~~~~~~\r\n",
      "\u001b[91m\u001b[96m     | \u001b[91mYou cannot call a method on a null-valued expression.\u001b[0m\r\n",
      "True     True     String                                   System.Object\r\n",
      "True     True     String                                   System.Object\r\n",
      "True     True     String                                   System.Object\r\n",
      "\r\n"
     ]
    }
   ],
   "source": [
    "\n",
    "$numbers = [List[Int]]::new()\n",
    "[List[Int]]$strongNumbers = @()\n",
    "\n",
    "\n",
    "$numbers.GetType() # is: [list[object]]\n",
    "$numbers = '123'\n",
    "$numbers.GetType() # is: [string]\n",
    "\n",
    "$strongNumbers.GetType() # is: [list[object]]\n",
    "$strongNumbers = '123'\n",
    "$strongNumbers.GetType() # is: [list[object]]\n",
    "\n",
    "$strongNumbers.GetType() # is: [list[object]]\n",
    "$strongNumbers = '123'\n",
    "$strongNumbers.GetType() # is: [list[object]]\n",
    "\n",
    "\n",
    "\n",
    "\n",
    "#$compliantList = [Collections.Generic.List[object]]::new()"
   ]
  }
 ],
 "metadata": {
  "kernelspec": {
   "display_name": ".NET (C#)",
   "language": "C#",
   "name": ".net-csharp"
  },
  "language_info": {
   "file_extension": ".cs",
   "mimetype": "text/x-csharp",
   "name": "C#",
   "pygments_lexer": "csharp",
   "version": "9.0"
  },
  "orig_nbformat": 4
 },
 "nbformat": 4,
 "nbformat_minor": 2
}
