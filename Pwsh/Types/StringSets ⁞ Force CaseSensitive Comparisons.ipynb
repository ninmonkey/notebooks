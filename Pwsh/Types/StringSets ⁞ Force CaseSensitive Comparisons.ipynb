{
 "cells": [
  {
   "cell_type": "code",
   "execution_count": 9,
   "metadata": {
    "dotnet_interactive": {
     "language": "pwsh"
    },
    "polyglot_notebook": {
     "language": "pwsh"
    },
    "vscode": {
     "languageId": "dotnet-interactive.pwsh"
    }
   },
   "outputs": [
    {
     "name": "stdout",
     "output_type": "stream",
     "text": [
      "# err -Clear\r\n",
      "   [Collections.Generic.HashSet[String]]::new( [string[]]$List )   [Collections.Generic.HashSet[String]]::new( [string[]]$List )   [Collections.Generic.HashSet[String]]::new( [string[]]$List )\r\n",
      "# Compare-StringSet ('a'..'g') ('A'..'E') -ea break\r\n",
      "# Compare-StringSet.experiment ('a'..'g') ('A'..'E') -ea break\r\n"
     ]
    }
   ],
   "source": [
    "using namespace System.Collections\n",
    "# Import-Module ninmonkey.console -Force *>$null\n",
    "\n",
    "@'\n",
    "# err -Clear\n",
    "   [Collections.Generic.HashSet[String]]::new( [string[]]$List )   [Collections.Generic.HashSet[String]]::new( [string[]]$List )   [Collections.Generic.HashSet[String]]::new( [string[]]$List )\n",
    "# Compare-StringSet ('a'..'g') ('A'..'E') -ea break\n",
    "# Compare-StringSet.experiment ('a'..'g') ('A'..'E') -ea break\n",
    "'@"
   ]
  },
  {
   "cell_type": "code",
   "execution_count": 10,
   "metadata": {
    "dotnet_interactive": {
     "language": "pwsh"
    },
    "vscode": {
     "languageId": "dotnet-interactive.pwsh"
    }
   },
   "outputs": [
    {
     "name": "stdout",
     "output_type": "stream",
     "text": [
      "a, b, c, d, e, f, C, z\r\n",
      "e, b, 9, c, q\r\n"
     ]
    }
   ],
   "source": [
    "\n",
    "$str1 = 'a'..'f' + ('C', 'b', 'b', 'b', 'z')\n",
    "$str2 = 'e', 'b', '9', 'c', 'q'\n",
    "\n",
    "[Collections.Generic.HashSet[String]]$hash1 = $str1\n",
    "[Collections.Generic.HashSet[String]]$hash2 = $str2\n",
    "\n",
    "$hash1 -join ', ' \n",
    "$hash2 -join ', ' \n",
    "# [HashSet[String]]$hash1 = 'a'..'f' + ('C', 'b', 'b', 'b')\n"
   ]
  },
  {
   "cell_type": "code",
   "execution_count": 11,
   "metadata": {
    "dotnet_interactive": {
     "language": "pwsh"
    },
    "vscode": {
     "languageId": "dotnet-interactive.pwsh"
    }
   },
   "outputs": [],
   "source": [
    "$cp = $hash1.clone()\n",
    "\n",
    "$hash1.IntersectWith( $hash2 )"
   ]
  },
  {
   "cell_type": "code",
   "execution_count": 12,
   "metadata": {
    "dotnet_interactive": {
     "language": "pwsh"
    },
    "vscode": {
     "languageId": "dotnet-interactive.pwsh"
    }
   },
   "outputs": [
    {
     "name": "stdout",
     "output_type": "stream",
     "text": [
      "b, c, e\r\n",
      "e, b, 9, c, q\r\n",
      "b, c, e\r\n",
      "e, b, 9, c, q\r\n"
     ]
    }
   ],
   "source": [
    "$str1 = 'a'..'f' + ('C', 'b', 'b', 'b', 'z')\n",
    "$str2 = 'e', 'b', '9', 'c', 'q'\n",
    "\n",
    "[Collections.Generic.HashSet[String]]$hash1 = $str1\n",
    "[Collections.Generic.HashSet[String]]$hash2 = $str2\n",
    "\n",
    "$hash1.IntersectWith( $hash2 )\n",
    "\n",
    "$hash1 -join ', '\n",
    "$hash2 -join ', '\n",
    "# [HashSet[String]]$hash1 = 'a'..'f' + ('C', 'b', 'b', 'b')\n",
    "$hash1 -join ', '\n",
    "$hash2 -join ', '\n",
    "$hash2.IntersectWith( $hash2 )"
   ]
  },
  {
   "cell_type": "code",
   "execution_count": 13,
   "metadata": {
    "dotnet_interactive": {
     "language": "pwsh"
    },
    "vscode": {
     "languageId": "dotnet-interactive.pwsh"
    }
   },
   "outputs": [
    {
     "name": "stdout",
     "output_type": "stream",
     "text": [
      "\r\n",
      "\u001b[32;1mAInterB   BInterA\u001b[0m\r\n",
      "\u001b[32;1m-------   -------\u001b[0m\r\n",
      "{b, c, e} {e, b, c}\r\n",
      "\r\n"
     ]
    }
   ],
   "source": [
    "function _cmpList { \n",
    "    param( \n",
    "        [ValidateNotNullOrEmpty()]\n",
    "        [Parameter(Mandatory)]\n",
    "        [string[]]$Str1,\n",
    "\n",
    "        [ValidateNotNullOrEmpty()]\n",
    "        [Parameter(Mandatory)]\n",
    "        [string[]]$Str2\n",
    "    )\n",
    "    $res = @{\n",
    "        \n",
    "    }\n",
    "    [Collections.Generic.HashSet[String]]$hash1 = $str1\n",
    "    [Collections.Generic.HashSet[String]]$hash2 = $str2\n",
    "    $hash1.IntersectWith( $hash2 )\n",
    "    $res.AInterB = $hash1\n",
    "\n",
    "\n",
    "    # ([StringComparer]::OrdinalIgnoreCase)\n",
    "    # ([StringComparer]::Ordinal)\n",
    "    \n",
    "\n",
    "    \n",
    "    \n",
    "    \n",
    "    $hash1_cmp = [Collections.Generic.HashSet[String]]::new( $str1, ([StringComparer]::OrdinalIgnoreCase) )\n",
    "    $hash2_cmp = [Collections.Generic.HashSet[String]]::new( $str2, ([StringComparer]::OrdinalIgnoreCase) )\n",
    "    $hash2_cmp.IntersectWith( $hash1_cmp )\n",
    "    $res.BInterA = $hash2_cmp\n",
    "    \n",
    "    return [pscustomobject]$res\n",
    "\n",
    "}\n",
    "\n",
    "$summary = _cmpList $str1 $str2\n",
    "$summary | ft -auto"
   ]
  },
  {
   "cell_type": "code",
   "execution_count": 14,
   "metadata": {
    "dotnet_interactive": {
     "language": "pwsh"
    },
    "vscode": {
     "languageId": "dotnet-interactive.pwsh"
    }
   },
   "outputs": [
    {
     "name": "stdout",
     "output_type": "stream",
     "text": [
      "\r\n",
      "\u001b[32;1mAInterB   BInterA\u001b[0m\r\n",
      "\u001b[32;1m-------   -------\u001b[0m\r\n",
      "{b, c, e} {e, b, c}\r\n",
      "\r\n"
     ]
    }
   ],
   "source": [
    "function _cmpList2 { \n",
    "    param( \n",
    "        [ValidateNotNullOrEmpty()]\n",
    "        [Parameter(Mandatory)]\n",
    "        [string[]]$Str1,\n",
    "\n",
    "        [ValidateNotNullOrEmpty()]\n",
    "        [Parameter(Mandatory)]\n",
    "        [string[]]$Str2\n",
    "    )\n",
    "    $res = @{\n",
    "        \n",
    "    }\n",
    "    [Collections.Generic.HashSet[String]]$hash1 = $str1\n",
    "    [Collections.Generic.HashSet[String]]$hash2 = $str2\n",
    "    $hash1.IntersectWith( $hash2 )\n",
    "    $res.AInterB = $hash1\n",
    "\n",
    "\n",
    "    # ([StringComparer]::OrdinalIgnoreCase)\n",
    "    # ([StringComparer]::Ordinal)\n",
    "    \n",
    "\n",
    "    \n",
    "    \n",
    "    \n",
    "    $hash1_cmp = [Collections.Generic.HashSet[String]]::new( $str1, ([StringComparer]::OrdinalIgnoreCase) )\n",
    "    $hash2_cmp = [Collections.Generic.HashSet[String]]::new( $str2, ([StringComparer]::OrdinalIgnoreCase) )\n",
    "    $hash2_cmp.IntersectWith( $hash1_cmp )\n",
    "    $res.BInterA = $hash2_cmp\n",
    "    \n",
    "    return [pscustomobject]$res\n",
    "\n",
    "}\n",
    "\n",
    "$summary = _cmpList2 $str1 $str2\n",
    "$summary | ft -auto"
   ]
  },
  {
   "cell_type": "code",
   "execution_count": 15,
   "metadata": {
    "dotnet_interactive": {
     "language": "pwsh"
    },
    "vscode": {
     "languageId": "dotnet-interactive.pwsh"
    }
   },
   "outputs": [
    {
     "name": "stdout",
     "output_type": "stream",
     "text": [
      "\u001b[91mMethodException: \r\n",
      "\u001b[96mLine |\r\n",
      "\u001b[96m  30 | \u001b[0m         \u001b[96m$hash1_cmp = [Collections.Generic.HashSet[String]]::new( @($s\u001b[0m …\r\n",
      "\u001b[96m     | \u001b[91m         ~~~~~~~~~~~~~~~~~~~~~~~~~~~~~~~~~~~~~~~~~~~~~~~~~~~~~~~~~~~~~\r\n",
      "\u001b[91m\u001b[96m     | \u001b[91mCannot find an overload for \"new\" and the argument count: \"1\".\u001b[0m\r\n",
      "\u001b[91mMethodException: \r\n",
      "\u001b[96mLine |\r\n",
      "\u001b[96m  31 | \u001b[0m         \u001b[96m$hash2_cmp = [Collections.Generic.HashSet[String]]::new( @($s\u001b[0m …\r\n",
      "\u001b[96m     | \u001b[91m         ~~~~~~~~~~~~~~~~~~~~~~~~~~~~~~~~~~~~~~~~~~~~~~~~~~~~~~~~~~~~~\r\n",
      "\u001b[91m\u001b[96m     | \u001b[91mCannot find an overload for \"new\" and the argument count: \"1\".\u001b[0m\r\n",
      "\u001b[91mInvalidOperation: \r\n",
      "\u001b[96mLine |\r\n",
      "\u001b[96m  36 | \u001b[0m     \u001b[96m$hash1_cmp.IntersectWith( $hash2_cmp )\u001b[0m\r\n",
      "\u001b[96m     | \u001b[91m     ~~~~~~~~~~~~~~~~~~~~~~~~~~~~~~~~~~~~~~\r\n",
      "\u001b[91m\u001b[96m     | \u001b[91mYou cannot call a method on a null-valued expression.\u001b[0m\r\n",
      "\u001b[91mMethodException: \r\n",
      "\u001b[96mLine |\r\n",
      "\u001b[96m  40 | \u001b[0m         \u001b[96m$hash1_cmp = [Collections.Generic.HashSet[String]]::new( @($s\u001b[0m …\r\n",
      "\u001b[96m     | \u001b[91m         ~~~~~~~~~~~~~~~~~~~~~~~~~~~~~~~~~~~~~~~~~~~~~~~~~~~~~~~~~~~~~\r\n",
      "\u001b[91m\u001b[96m     | \u001b[91mCannot find an overload for \"new\" and the argument count: \"1\".\u001b[0m\r\n",
      "\u001b[91mMethodException: \r\n",
      "\u001b[96mLine |\r\n",
      "\u001b[96m  41 | \u001b[0m         \u001b[96m$hash2_cmp = [Collections.Generic.HashSet[String]]::new( @($s\u001b[0m …\r\n",
      "\u001b[96m     | \u001b[91m         ~~~~~~~~~~~~~~~~~~~~~~~~~~~~~~~~~~~~~~~~~~~~~~~~~~~~~~~~~~~~~\r\n",
      "\u001b[91m\u001b[96m     | \u001b[91mCannot find an overload for \"new\" and the argument count: \"1\".\u001b[0m\r\n",
      "\u001b[91mInvalidOperation: \r\n",
      "\u001b[96mLine |\r\n",
      "\u001b[96m  46 | \u001b[0m     \u001b[96m$hash2_cmp.IntersectWith( $hash1_cmp )\u001b[0m\r\n",
      "\u001b[96m     | \u001b[91m     ~~~~~~~~~~~~~~~~~~~~~~~~~~~~~~~~~~~~~~\r\n",
      "\u001b[91m\u001b[96m     | \u001b[91mYou cannot call a method on a null-valued expression.\u001b[0m\r\n",
      "\r\n",
      "\u001b[32;1mBInterA OriginalA     Comparer AInterB OriginalB\u001b[0m\r\n",
      "\u001b[32;1m------- ---------     -------- ------- ---------\u001b[0m\r\n",
      "        {a, b, c, d…} [␀]              {e, b, 9, c…}\r\n",
      "\r\n",
      "\u001b[91mMethodException: \r\n",
      "\u001b[96mLine |\r\n",
      "\u001b[96m  33 | \u001b[0m         \u001b[96m$hash1_cmp = [Collections.Generic.HashSet[String]]::new( @($s\u001b[0m …\r\n",
      "\u001b[96m     | \u001b[91m         ~~~~~~~~~~~~~~~~~~~~~~~~~~~~~~~~~~~~~~~~~~~~~~~~~~~~~~~~~~~~~\r\n",
      "\u001b[91m\u001b[96m     | \u001b[91mCannot find an overload for \"new\" and the argument count: \"2\".\u001b[0m\r\n",
      "\u001b[91mMethodException: \r\n",
      "\u001b[96mLine |\r\n",
      "\u001b[96m  34 | \u001b[0m         \u001b[96m$hash2_cmp = [Collections.Generic.HashSet[String]]::new( @($s\u001b[0m …\r\n",
      "\u001b[96m     | \u001b[91m         ~~~~~~~~~~~~~~~~~~~~~~~~~~~~~~~~~~~~~~~~~~~~~~~~~~~~~~~~~~~~~\r\n",
      "\u001b[91m\u001b[96m     | \u001b[91mCannot find an overload for \"new\" and the argument count: \"2\".\u001b[0m\r\n",
      "\u001b[91mInvalidOperation: \r\n",
      "\u001b[96mLine |\r\n",
      "\u001b[96m  36 | \u001b[0m     \u001b[96m$hash1_cmp.IntersectWith( $hash2_cmp )\u001b[0m\r\n",
      "\u001b[96m     | \u001b[91m     ~~~~~~~~~~~~~~~~~~~~~~~~~~~~~~~~~~~~~~\r\n",
      "\u001b[91m\u001b[96m     | \u001b[91mYou cannot call a method on a null-valued expression.\u001b[0m\r\n",
      "\u001b[91mMethodException: \r\n",
      "\u001b[96mLine |\r\n",
      "\u001b[96m  43 | \u001b[0m         \u001b[96m$hash1_cmp = [Collections.Generic.HashSet[String]]::new( @($s\u001b[0m …\r\n",
      "\u001b[96m     | \u001b[91m         ~~~~~~~~~~~~~~~~~~~~~~~~~~~~~~~~~~~~~~~~~~~~~~~~~~~~~~~~~~~~~\r\n",
      "\u001b[91m\u001b[96m     | \u001b[91mCannot find an overload for \"new\" and the argument count: \"2\".\u001b[0m\r\n",
      "\u001b[91mMethodException: \r\n",
      "\u001b[96mLine |\r\n",
      "\u001b[96m  44 | \u001b[0m         \u001b[96m$hash2_cmp = [Collections.Generic.HashSet[String]]::new( @($s\u001b[0m …\r\n",
      "\u001b[96m     | \u001b[91m         ~~~~~~~~~~~~~~~~~~~~~~~~~~~~~~~~~~~~~~~~~~~~~~~~~~~~~~~~~~~~~\r\n",
      "\u001b[91m\u001b[96m     | \u001b[91mCannot find an overload for \"new\" and the argument count: \"2\".\u001b[0m\r\n",
      "\u001b[91mInvalidOperation: \r\n",
      "\u001b[96mLine |\r\n",
      "\u001b[96m  46 | \u001b[0m     \u001b[96m$hash2_cmp.IntersectWith( $hash1_cmp )\u001b[0m\r\n",
      "\u001b[96m     | \u001b[91m     ~~~~~~~~~~~~~~~~~~~~~~~~~~~~~~~~~~~~~~\r\n",
      "\u001b[91m\u001b[96m     | \u001b[91mYou cannot call a method on a null-valued expression.\u001b[0m\r\n",
      "\r\n",
      "\u001b[32;1mBInterA OriginalA     Comparer                            AInterB OriginalB\u001b[0m\r\n",
      "\u001b[32;1m------- ---------     --------                            ------- ---------\u001b[0m\r\n",
      "        {a, b, c, d…} System.OrdinalCaseSensitiveComparer         {e, b, 9, c…}\r\n",
      "\r\n",
      "\u001b[91mMethodException: \r\n",
      "\u001b[96mLine |\r\n",
      "\u001b[96m  33 | \u001b[0m         \u001b[96m$hash1_cmp = [Collections.Generic.HashSet[String]]::new( @($s\u001b[0m …\r\n",
      "\u001b[96m     | \u001b[91m         ~~~~~~~~~~~~~~~~~~~~~~~~~~~~~~~~~~~~~~~~~~~~~~~~~~~~~~~~~~~~~\r\n",
      "\u001b[91m\u001b[96m     | \u001b[91mCannot find an overload for \"new\" and the argument count: \"2\".\u001b[0m\r\n",
      "\u001b[91mMethodException: \r\n",
      "\u001b[96mLine |\r\n",
      "\u001b[96m  34 | \u001b[0m         \u001b[96m$hash2_cmp = [Collections.Generic.HashSet[String]]::new( @($s\u001b[0m …\r\n",
      "\u001b[96m     | \u001b[91m         ~~~~~~~~~~~~~~~~~~~~~~~~~~~~~~~~~~~~~~~~~~~~~~~~~~~~~~~~~~~~~\r\n",
      "\u001b[91m\u001b[96m     | \u001b[91mCannot find an overload for \"new\" and the argument count: \"2\".\u001b[0m\r\n",
      "\u001b[91mInvalidOperation: \r\n",
      "\u001b[96mLine |\r\n",
      "\u001b[96m  36 | \u001b[0m     \u001b[96m$hash1_cmp.IntersectWith( $hash2_cmp )\u001b[0m\r\n",
      "\u001b[96m     | \u001b[91m     ~~~~~~~~~~~~~~~~~~~~~~~~~~~~~~~~~~~~~~\r\n",
      "\u001b[91m\u001b[96m     | \u001b[91mYou cannot call a method on a null-valued expression.\u001b[0m\r\n",
      "\u001b[91mMethodException: \r\n",
      "\u001b[96mLine |\r\n",
      "\u001b[96m  43 | \u001b[0m         \u001b[96m$hash1_cmp = [Collections.Generic.HashSet[String]]::new( @($s\u001b[0m …\r\n",
      "\u001b[96m     | \u001b[91m         ~~~~~~~~~~~~~~~~~~~~~~~~~~~~~~~~~~~~~~~~~~~~~~~~~~~~~~~~~~~~~\r\n",
      "\u001b[91m\u001b[96m     | \u001b[91mCannot find an overload for \"new\" and the argument count: \"2\".\u001b[0m\r\n",
      "\u001b[91mMethodException: \r\n",
      "\u001b[96mLine |\r\n",
      "\u001b[96m  44 | \u001b[0m         \u001b[96m$hash2_cmp = [Collections.Generic.HashSet[String]]::new( @($s\u001b[0m …\r\n",
      "\u001b[96m     | \u001b[91m         ~~~~~~~~~~~~~~~~~~~~~~~~~~~~~~~~~~~~~~~~~~~~~~~~~~~~~~~~~~~~~\r\n",
      "\u001b[91m\u001b[96m     | \u001b[91mCannot find an overload for \"new\" and the argument count: \"2\".\u001b[0m\r\n",
      "\u001b[91mInvalidOperation: \r\n",
      "\u001b[96mLine |\r\n",
      "\u001b[96m  46 | \u001b[0m     \u001b[96m$hash2_cmp.IntersectWith( $hash1_cmp )\u001b[0m\r\n",
      "\u001b[96m     | \u001b[91m     ~~~~~~~~~~~~~~~~~~~~~~~~~~~~~~~~~~~~~~\r\n",
      "\u001b[91m\u001b[96m     | \u001b[91mYou cannot call a method on a null-valued expression.\u001b[0m\r\n",
      "\r\n",
      "\u001b[32;1mBInterA OriginalA     Comparer                         AInterB OriginalB\u001b[0m\r\n",
      "\u001b[32;1m------- ---------     --------                         ------- ---------\u001b[0m\r\n",
      "        {a, b, c, d…} System.OrdinalIgnoreCaseComparer         {e, b, 9, c…}\r\n",
      "\r\n"
     ]
    }
   ],
   "source": [
    "function _cmpList3 { \n",
    "    param( \n",
    "        [ValidateNotNullOrEmpty()]\n",
    "        [Parameter(Mandatory)]\n",
    "        [string[]]$Str1,\n",
    "\n",
    "        [ValidateNotNullOrEmpty()]\n",
    "        [Parameter(Mandatory)]\n",
    "        [string[]]$Str2,\n",
    "\n",
    "        [ArgumentCompletions(\n",
    "            '([StringComparer]::OrdinalIgnoreCase)',\n",
    "            '([StringComparer]::Ordinal)'\n",
    "        )]\n",
    "        $Comparer = $null\n",
    "    )\n",
    "    $res = @{\n",
    "        PSTypeName = 'string.comparison.summary'\n",
    "        OriginalA = $Str1\n",
    "        OriginalB = $Str2\n",
    "        Comparer = $Comparer ?? \"[`u{2400}]\"\n",
    "    }\n",
    "\n",
    "    # [Collections.Generic.HashSet[String]]$hash1 = $str1\n",
    "    # [Collections.Generic.HashSet[String]]$hash2 = $str2\n",
    "    # $hash1.IntersectWith( $hash2 )\n",
    "    # $res.AInterB = $hash1   \n",
    "    \n",
    "    if( -not $Comparer) { \n",
    "        $hash1_cmp = [Collections.Generic.HashSet[String]]::new( @($str1) )\n",
    "        $hash2_cmp = [Collections.Generic.HashSet[String]]::new( @($str2) )\n",
    "    } else { \n",
    "        $hash1_cmp = [Collections.Generic.HashSet[String]]::new( @($str1), $Comparer )\n",
    "        $hash2_cmp = [Collections.Generic.HashSet[String]]::new( @($str2), $Comparer )\n",
    "    }    \n",
    "    $hash1_cmp.IntersectWith( $hash2_cmp )\n",
    "    $res.AInterB = $hash1_cmp\n",
    "\n",
    "    if( -not $Comparer) { \n",
    "        $hash1_cmp = [Collections.Generic.HashSet[String]]::new( @($str1) )\n",
    "        $hash2_cmp = [Collections.Generic.HashSet[String]]::new( @($str2) )\n",
    "    } else { \n",
    "        $hash1_cmp = [Collections.Generic.HashSet[String]]::new( @($str1), $Comparer )\n",
    "        $hash2_cmp = [Collections.Generic.HashSet[String]]::new( @($str2), $Comparer )\n",
    "    }    \n",
    "    $hash2_cmp.IntersectWith( $hash1_cmp )\n",
    "    $res.BInterA = $hash2_cmp\n",
    "    \n",
    "    return [pscustomobject]$res\n",
    "\n",
    "}\n",
    "\n",
    "$summary1 = _cmpList3 $str1 $str2\n",
    "$summary1 | ft -auto\n",
    "\n",
    "$summary2 = _cmpList3 $str1 $str2 -Comparer ([StringComparer]::Ordinal)\n",
    "$summary2 | ft -auto\n",
    "\n",
    "$summary3 = _cmpList3 $str1 $str2 -Comparer ([StringComparer]::OrdinalIgnoreCase)\n",
    "$summary3 | ft -auto"
   ]
  },
  {
   "cell_type": "code",
   "execution_count": 16,
   "metadata": {
    "dotnet_interactive": {
     "language": "pwsh"
    },
    "vscode": {
     "languageId": "dotnet-interactive.pwsh"
    }
   },
   "outputs": [
    {
     "name": "stdout",
     "output_type": "stream",
     "text": [
      "{\"BInterA\":null,\"OriginalA\":[\"a\",\"b\",\"c\",\"d\",\"e\",\"f\",\"C\",\"b\",\"b\",\"b\",\"z\"],\"Comparer\":{},\"AInterB\":null,\"OriginalB\":[\"e\",\"b\",\"9\",\"c\",\"q\"]}\r\n",
      "{\"BInterA\":null,\"OriginalA\":[\"a\",\"b\",\"c\",\"d\",\"e\",\"f\",\"C\",\"b\",\"b\",\"b\",\"z\"],\"Comparer\":{},\"AInterB\":null,\"OriginalB\":[\"e\",\"b\",\"9\",\"c\",\"q\"]}\r\n",
      "{\"BInterA\":null,\"OriginalA\":[\"a\",\"b\",\"c\",\"d\",\"e\",\"f\",\"C\",\"b\",\"b\",\"b\",\"z\"],\"Comparer\":\"[␀]\",\"AInterB\":null,\"OriginalB\":[\"e\",\"b\",\"9\",\"c\",\"q\"]}\r\n"
     ]
    }
   ],
   "source": [
    "$summary3 | ConvertTo-Json -Compress\n",
    "$summary2 | ConvertTo-Json -Compress\n",
    "$summary1 | ConvertTo-Json -Compress"
   ]
  }
 ],
 "metadata": {
  "kernelspec": {
   "display_name": ".NET (PowerShell)",
   "language": "PowerShell",
   "name": ".net-pwsh"
  },
  "language_info": {
   "name": "PowerShell"
  }
 },
 "nbformat": 4,
 "nbformat_minor": 2
}
