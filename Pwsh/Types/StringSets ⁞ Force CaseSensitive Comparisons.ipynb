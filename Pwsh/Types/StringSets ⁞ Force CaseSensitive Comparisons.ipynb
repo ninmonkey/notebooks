{
 "cells": [
  {
   "cell_type": "code",
   "execution_count": null,
   "metadata": {
    "dotnet_interactive": {
     "language": "pwsh"
    },
    "polyglot_notebook": {
     "language": "pwsh"
    },
    "vscode": {
     "languageId": "polyglot-notebook"
    }
   },
   "outputs": [],
   "source": [
    "using namespace System.Collections"
   ]
  },
  {
   "cell_type": "code",
   "execution_count": null,
   "metadata": {
    "dotnet_interactive": {
     "language": "pwsh"
    },
    "vscode": {
     "languageId": "polyglot-notebook"
    }
   },
   "outputs": [],
   "source": [
    "if (gcm -m 'ninmonkey.console' 'Compare-StringSet' -wa ignore -ea ignore) {\n",
    "    Compare-StringSet -ListA 'a', 'A', 'e' -ListB 'e', 'F', 'F' -ComparerKind ([StringComparer]::Ordinal) -ea ignore\n",
    "    Compare-StringSet -ListA 'a', 'A', 'e' -ListB 'e', 'F', 'F' -ComparerKind ([StringComparer]::CurrentCultureIgnoreCase) -ea ignore\n",
    "    Compare-StringSet -ListA 'a', 'A', 'e' -ListB 'e', 'F', 'F'  -ea ignore\n",
    "}"
   ]
  },
  {
   "cell_type": "code",
   "execution_count": null,
   "metadata": {
    "dotnet_interactive": {
     "language": "pwsh"
    },
    "vscode": {
     "languageId": "polyglot-notebook"
    }
   },
   "outputs": [],
   "source": [
    "Compare-StringSet -ListA 'a', 'A', 'e' -ListB 'e', 'F', 'F' -ComparerKind ([StringComparer]::Ordinal) -ea ignore | select * | Fl -force *"
   ]
  },
  {
   "cell_type": "code",
   "execution_count": null,
   "metadata": {
    "dotnet_interactive": {
     "language": "pwsh"
    },
    "vscode": {
     "languageId": "polyglot-notebook"
    }
   },
   "outputs": [],
   "source": [
    "$compareSetSplat = @{\n",
    "    ListA = 'a', 'A', 'e', 'cat', '3', 'CaT'\n",
    "    ListB = 'e', 'F', 'F', 'z', 3, 'CAT'\n",
    "    # ErrorAction = 'ignore' \n",
    "}\n",
    "\n",
    "$FormatEnumerationLimit = 30\n",
    "Compare-StringSet @compareSetSplat -ea ignore\n",
    "Compare-StringSet @compareSetSplat -ea ignore -ComparerKind ([StringComparer]::CurrentCultureIgnoreCase)\n",
    "Compare-StringSet @compareSetSplat -ea ignore -ComparerKind ([StringComparer]::Ordinal)\n",
    "$FormatEnumerationLimit = 4"
   ]
  },
  {
   "cell_type": "code",
   "execution_count": null,
   "metadata": {
    "dotnet_interactive": {
     "language": "pwsh"
    },
    "vscode": {
     "languageId": "polyglot-notebook"
    }
   },
   "outputs": [],
   "source": [
    "\n",
    "$str1 = 'a'..'f' + ('C', 'b', 'b', 'b', 'z')\n",
    "$str2 = 'e', 'b', '9', 'c', 'q'\n",
    "\n",
    "[Collections.Generic.HashSet[String]]$hash1 = $str1\n",
    "[Collections.Generic.HashSet[String]]$hash2 = $str2\n",
    "\n",
    "$hash1 -join ', ' \n",
    "$hash2 -join ', ' \n",
    "# [HashSet[String]]$hash1 = 'a'..'f' + ('C', 'b', 'b', 'b')\n"
   ]
  },
  {
   "cell_type": "code",
   "execution_count": null,
   "metadata": {
    "dotnet_interactive": {
     "language": "pwsh"
    },
    "vscode": {
     "languageId": "polyglot-notebook"
    }
   },
   "outputs": [],
   "source": []
  },
  {
   "cell_type": "code",
   "execution_count": null,
   "metadata": {
    "dotnet_interactive": {
     "language": "pwsh"
    },
    "vscode": {
     "languageId": "polyglot-notebook"
    }
   },
   "outputs": [],
   "source": [
    "$cp = $hash1.clone()\n",
    "\n",
    "$hash1.IntersectWith( $hash2 )"
   ]
  },
  {
   "cell_type": "code",
   "execution_count": null,
   "metadata": {
    "dotnet_interactive": {
     "language": "pwsh"
    },
    "vscode": {
     "languageId": "polyglot-notebook"
    }
   },
   "outputs": [],
   "source": [
    "$str1 = 'a'..'f' + ('C', 'b', 'b', 'b', 'z')\n",
    "$str2 = 'e', 'b', '9', 'c', 'q'\n",
    "\n",
    "[Collections.Generic.HashSet[String]]$hash1 = $str1\n",
    "[Collections.Generic.HashSet[String]]$hash2 = $str2\n",
    "\n",
    "$hash1.IntersectWith( $hash2 )\n",
    "\n",
    "$hash1 -join ', '\n",
    "$hash2 -join ', '\n",
    "# [HashSet[String]]$hash1 = 'a'..'f' + ('C', 'b', 'b', 'b')\n",
    "$hash1 -join ', '\n",
    "$hash2 -join ', '\n",
    "$hash2.IntersectWith( $hash2 )"
   ]
  },
  {
   "cell_type": "code",
   "execution_count": null,
   "metadata": {
    "dotnet_interactive": {
     "language": "pwsh"
    },
    "vscode": {
     "languageId": "polyglot-notebook"
    }
   },
   "outputs": [],
   "source": [
    "function _cmpList { \n",
    "    param( \n",
    "        [ValidateNotNullOrEmpty()]\n",
    "        [Parameter(Mandatory)]\n",
    "        [string[]]$Str1,\n",
    "\n",
    "        [ValidateNotNullOrEmpty()]\n",
    "        [Parameter(Mandatory)]\n",
    "        [string[]]$Str2\n",
    "    )\n",
    "    $res = @{\n",
    "        \n",
    "    }\n",
    "    [Collections.Generic.HashSet[String]]$hash1 = $str1\n",
    "    [Collections.Generic.HashSet[String]]$hash2 = $str2\n",
    "    $hash1.IntersectWith( $hash2 )\n",
    "    $res.AInterB = $hash1\n",
    "\n",
    "\n",
    "    # ([StringComparer]::OrdinalIgnoreCase)\n",
    "    # ([StringComparer]::Ordinal)\n",
    "    \n",
    "\n",
    "    \n",
    "    \n",
    "    \n",
    "    $hash1_cmp = [Collections.Generic.HashSet[String]]::new( $str1, ([StringComparer]::OrdinalIgnoreCase) )\n",
    "    $hash2_cmp = [Collections.Generic.HashSet[String]]::new( $str2, ([StringComparer]::OrdinalIgnoreCase) )\n",
    "    $hash2_cmp.IntersectWith( $hash1_cmp )\n",
    "    $res.BInterA = $hash2_cmp\n",
    "    \n",
    "    return [pscustomobject]$res\n",
    "\n",
    "}\n",
    "\n",
    "$summary = _cmpList $str1 $str2\n",
    "$summary | ft -auto"
   ]
  },
  {
   "cell_type": "code",
   "execution_count": null,
   "metadata": {
    "dotnet_interactive": {
     "language": "pwsh"
    },
    "vscode": {
     "languageId": "polyglot-notebook"
    }
   },
   "outputs": [],
   "source": [
    "function _cmpList2 { \n",
    "    param( \n",
    "        [ValidateNotNullOrEmpty()]\n",
    "        [Parameter(Mandatory)]\n",
    "        [string[]]$Str1,\n",
    "\n",
    "        [ValidateNotNullOrEmpty()]\n",
    "        [Parameter(Mandatory)]\n",
    "        [string[]]$Str2\n",
    "    )\n",
    "    $res = @{\n",
    "        \n",
    "    }\n",
    "    [Collections.Generic.HashSet[String]]$hash1 = $str1\n",
    "    [Collections.Generic.HashSet[String]]$hash2 = $str2\n",
    "    $hash1.IntersectWith( $hash2 )\n",
    "    $res.AInterB = $hash1\n",
    "\n",
    "\n",
    "    # ([StringComparer]::OrdinalIgnoreCase)\n",
    "    # ([StringComparer]::Ordinal)\n",
    "    \n",
    "\n",
    "    \n",
    "    \n",
    "    \n",
    "    $hash1_cmp = [Collections.Generic.HashSet[String]]::new( $str1, ([StringComparer]::OrdinalIgnoreCase) )\n",
    "    $hash2_cmp = [Collections.Generic.HashSet[String]]::new( $str2, ([StringComparer]::OrdinalIgnoreCase) )\n",
    "    $hash2_cmp.IntersectWith( $hash1_cmp )\n",
    "    $res.BInterA = $hash2_cmp\n",
    "    \n",
    "    return [pscustomobject]$res\n",
    "\n",
    "}\n",
    "\n",
    "$summary = _cmpList2 $str1 $str2\n",
    "$summary | ft -auto"
   ]
  },
  {
   "cell_type": "code",
   "execution_count": null,
   "metadata": {
    "dotnet_interactive": {
     "language": "pwsh"
    },
    "vscode": {
     "languageId": "polyglot-notebook"
    }
   },
   "outputs": [],
   "source": [
    "function _cmpList3 { \n",
    "    param( \n",
    "        [ValidateNotNullOrEmpty()]\n",
    "        [Parameter(Mandatory)]\n",
    "        [string[]]$Str1,\n",
    "\n",
    "        [ValidateNotNullOrEmpty()]\n",
    "        [Parameter(Mandatory)]\n",
    "        [string[]]$Str2,\n",
    "\n",
    "        [ArgumentCompletions(\n",
    "            '([StringComparer]::OrdinalIgnoreCase)',\n",
    "            '([StringComparer]::Ordinal)'\n",
    "        )]\n",
    "        $Comparer = $null\n",
    "    )\n",
    "    $res = @{\n",
    "        PSTypeName = 'string.comparison.summary'\n",
    "        OriginalA = $Str1\n",
    "        OriginalB = $Str2\n",
    "        Comparer = $Comparer ?? \"[`u{2400}]\"\n",
    "    }\n",
    "\n",
    "    # [Collections.Generic.HashSet[String]]$hash1 = $str1\n",
    "    # [Collections.Generic.HashSet[String]]$hash2 = $str2\n",
    "    # $hash1.IntersectWith( $hash2 )\n",
    "    # $res.AInterB = $hash1   \n",
    "    \n",
    "    if( -not $Comparer) { \n",
    "        $hash1_cmp = [Collections.Generic.HashSet[String]]::new( @($str1) )\n",
    "        $hash2_cmp = [Collections.Generic.HashSet[String]]::new( @($str2) )\n",
    "    } else { \n",
    "        $hash1_cmp = [Collections.Generic.HashSet[String]]::new( @($str1), $Comparer )\n",
    "        $hash2_cmp = [Collections.Generic.HashSet[String]]::new( @($str2), $Comparer )\n",
    "    }    \n",
    "    $hash1_cmp.IntersectWith( $hash2_cmp )\n",
    "    $res.AInterB = $hash1_cmp\n",
    "\n",
    "    if( -not $Comparer) { \n",
    "        $hash1_cmp = [Collections.Generic.HashSet[String]]::new( @($str1) )\n",
    "        $hash2_cmp = [Collections.Generic.HashSet[String]]::new( @($str2) )\n",
    "    } else { \n",
    "        $hash1_cmp = [Collections.Generic.HashSet[String]]::new( @($str1), $Comparer )\n",
    "        $hash2_cmp = [Collections.Generic.HashSet[String]]::new( @($str2), $Comparer )\n",
    "    }    \n",
    "    $hash2_cmp.IntersectWith( $hash1_cmp )\n",
    "    $res.BInterA = $hash2_cmp\n",
    "    \n",
    "    return [pscustomobject]$res\n",
    "\n",
    "}\n",
    "\n",
    "$summary1 = _cmpList3 $str1 $str2\n",
    "$summary1 | ft -auto\n",
    "\n",
    "$summary2 = _cmpList3 $str1 $str2 -Comparer ([StringComparer]::Ordinal)\n",
    "$summary2 | ft -auto\n",
    "\n",
    "$summary3 = _cmpList3 $str1 $str2 -Comparer ([StringComparer]::OrdinalIgnoreCase)\n",
    "$summary3 | ft -auto"
   ]
  },
  {
   "cell_type": "code",
   "execution_count": null,
   "metadata": {
    "dotnet_interactive": {
     "language": "pwsh"
    },
    "vscode": {
     "languageId": "polyglot-notebook"
    }
   },
   "outputs": [],
   "source": [
    "$summary3 | ConvertTo-Json -Compress\n",
    "$summary2 | ConvertTo-Json -Compress\n",
    "$summary1 | ConvertTo-Json -Compress"
   ]
  }
 ],
 "metadata": {
  "kernelspec": {
   "display_name": ".NET (PowerShell)",
   "language": "PowerShell",
   "name": ".net-pwsh"
  },
  "language_info": {
   "name": "PowerShell"
  }
 },
 "nbformat": 4,
 "nbformat_minor": 2
}
