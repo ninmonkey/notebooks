{
 "cells": [
  {
   "attachments": {},
   "cell_type": "markdown",
   "metadata": {},
   "source": [
    "This started as a tangent on which **Powershell** concept is the most like [`Extension methods` in `c#`](https://learn.microsoft.com/en-us/dotnet/csharp/programming-guide/classes-and-structs/extension-methods)\n",
    "\n",
    "The main requirements are\n",
    "\n",
    "- It must add methods to existing types, *without* creating a new derived type\n",
    "- And must not modify the original type either.\n",
    "- Finally calling methods should act like they were instance methods on the extended type\n",
    "\n",
    "`Update-TypeData` changes the original type, we want to modify the type for one instance. [Add-Member](https://learn.microsoft.com/en-us/powershell/module/microsoft.powershell.utility/add-member?view=powershell-7) will do that.\n",
    "\n",
    "What does this show? \n",
    " \n",
    "- `$folder`'s definition has a script method (ie: instance method) named `Crumbs`\n",
    "- It acts like an instance method, and \n",
    "- The existing type of `[IO.DirectoryInfo]` was not changed (that was the goal)"
   ]
  },
  {
   "cell_type": "code",
   "execution_count": 52,
   "metadata": {
    "dotnet_interactive": {
     "language": "pwsh"
    },
    "vscode": {
     "languageId": "dotnet-interactive.pwsh"
    }
   },
   "outputs": [
    {
     "name": "stdout",
     "output_type": "stream",
     "text": [
      "base path: C:\\Users\\cppmo_000\\SkyDrive\\Documents\\2022\\My_Github\\notebooks\\Pwsh\\Types\n",
      "\r\n",
      "C:\\Users\\cppmo_000\\SkyDrive\\Documents\\2022\\My_Github\\notebooks\\Pwsh\\Types\r\n",
      "\r\n",
      "C://…/Pwsh/Types\r\n",
      "\r\n",
      "C://…/notebooks/Pwsh/Types\r\n",
      "\r\n",
      "C://…/2022/My_Github/notebooks/Pwsh/Types\r\n"
     ]
    }
   ],
   "source": [
    "gi . | % FullName | Join-String -op 'base path: ' -os \"`n\"\n",
    "\n",
    "$Folder = Get-Item . \n",
    "  $Folder | Add-Member -MemberType ScriptMethod -Name 'Crumbs' -value { \n",
    "   param([int]$Limit)\n",
    "\n",
    "   $crumbs = $this.FullName -split '\\\\'\n",
    "   $select = if( $Limit ) { $crumbs | select -last $Limit } else { $Crumbsbr } \n",
    "   $prefix = if( $select.count -lt $crumbs.count ) { \"$($this.PSDrive)://…/\" } else {''}\n",
    "   $select | Join-String -Separator '/' -op $prefix\n",
    "}\n",
    "\n",
    "# Html Style Newline `</br>`. this works, but the notebook is truncating extra lines\n",
    "function Br { param( [int]$Count = 1) '' * $count }\n",
    "\n",
    "$folder.FullName\n",
    "br\n",
    "\n",
    "$folder.Crumbs(2)\n",
    "br\n",
    "\n",
    "$folder.Crumbs(3)\n",
    "br\n",
    "\n",
    "$folder.Crumbs(5)"
   ]
  },
  {
   "cell_type": "code",
   "execution_count": 50,
   "metadata": {
    "dotnet_interactive": {
     "language": "pwsh"
    },
    "vscode": {
     "languageId": "dotnet-interactive.pwsh"
    }
   },
   "outputs": [
    {
     "name": "stdout",
     "output_type": "stream",
     "text": [
      "\u001b[91mInvalidOperation: \r\n",
      "\u001b[96mLine |\r\n",
      "\u001b[96m   2 | \u001b[0m \u001b[96m$AnotherFolder.Crumbs()\u001b[0m\r\n",
      "\u001b[96m     | \u001b[91m ~~~~~~~~~~~~~~~~~~~~~~~\r\n",
      "\u001b[91m\u001b[96m     | \u001b[91mMethod invocation failed because [System.IO.DirectoryInfo] does not contain a method named 'Crumbs'.\u001b[0m\r\n"
     ]
    }
   ],
   "source": [
    "$AnotherFolder = gi .\n",
    "$AnotherFolder.Crumbs()"
   ]
  },
  {
   "attachments": {},
   "cell_type": "markdown",
   "metadata": {},
   "source": [
    "| Input | Value | \n",
    "| - | - | \n",
    "| $file.FullName | C:\\Users\\nin\\Documents\\2022\\My_Github\\notebooks\\Pwsh\\Types |\n",
    "| $file.Crumbs() | C:/Users/nin/Documents/2022/My_Github/notebooks/Pwsh/Types |\n",
    "| $file.Crumbs(2) |  C://…/Pwsh/Types | \n",
    "| $file.Crumbs(3) |  C://…/notebooks/Pwsh/Types | \n",
    "| $file.Crumbs(5) |  C://…/2022/My_Github/notebooks/Pwsh/Types | \n",
    "```\n",
    "\n"
   ]
  }
 ],
 "metadata": {
  "kernelspec": {
   "display_name": ".NET (C#)",
   "language": "C#",
   "name": ".net-csharp"
  },
  "language_info": {
   "file_extension": ".cs",
   "mimetype": "text/x-csharp",
   "name": "C#",
   "pygments_lexer": "csharp",
   "version": "9.0"
  },
  "orig_nbformat": 4
 },
 "nbformat": 4,
 "nbformat_minor": 2
}
