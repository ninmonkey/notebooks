{
 "cells": [
  {
   "cell_type": "code",
   "execution_count": 10,
   "metadata": {
    "dotnet_interactive": {
     "language": "pwsh"
    },
    "vscode": {
     "languageId": "dotnet-interactive.pwsh"
    }
   },
   "outputs": [
    {
     "name": "stdout",
     "output_type": "stream",
     "text": [
      "\r\n",
      "bin        gh\r\n",
      "subCommand repo\r\n",
      "rest       {view, microsoft/powerquery-parser}\r\n",
      "\r\n"
     ]
    }
   ],
   "source": [
    "$cmdLine = 'gh repo view microsoft/powerquery-parser'\n",
    "\n",
    "function _showVars {\n",
    "    # quick, minimal summary of state, wildcards work\n",
    "    param(\n",
    "        [Parameter()]\n",
    "        # [string[]]$Names = ('bin', 'subcommand', 'cmdLine')\n",
    "        [string[]]$Names = @('bin', 'subcommand', 'rest') \n",
    "    )\n",
    "    Get-Variable -Name $Names | ft -auto -HideTableHeaders\n",
    "}\n",
    "\n",
    "$bin, $subCommand, $rest = $cmdLine -split ' '\n",
    "_showVars\n"
   ]
  },
  {
   "cell_type": "code",
   "execution_count": null,
   "metadata": {
    "dotnet_interactive": {
     "language": "pwsh"
    },
    "vscode": {
     "languageId": "dotnet-interactive.pwsh"
    }
   },
   "outputs": [],
   "source": [
    "import-module pipescript *>$null\n",
    "function MiniType { \n",
    "    $Input | .> { .Type = ($_.GetType() | ShortType) .Value = $_ .FullType = ($_.GetType()) `\n",
    "       .ValueAbbr = (shortStr -InputText $_ -Options @{ AlwaysQuoteInner = $true}  )\n",
    "    }\n",
    "}\n",
    "\n",
    "@(gi . ; get-date ) | MiniType"
   ]
  },
  {
   "cell_type": "code",
   "execution_count": 6,
   "metadata": {
    "dotnet_interactive": {
     "language": "pwsh"
    },
    "vscode": {
     "languageId": "dotnet-interactive.pwsh"
    }
   },
   "outputs": [
    {
     "ename": "Error",
     "evalue": "System.Management.Automation.InvalidPowerShellStateException: The state of the current PowerShell instance is not valid for this operation.\r\n   at System.Management.Automation.PowerShell.AssertChangesAreAccepted()\r\n   at System.Management.Automation.PSCommand.AddCommand(Command command)\r\n   at System.Management.Automation.PowerShell.AddCommand(CommandInfo commandInfo)\r\n   at Microsoft.DotNet.Interactive.PowerShell.PowerShellKernel.ReportError(ErrorRecord error) in D:\\a\\_work\\1\\s\\src\\Microsoft.DotNet.Interactive.PowerShell\\PowerShellKernel.cs:line 376\r\n   at Microsoft.DotNet.Interactive.PowerShell.PowerShellKernel.ReportException(Exception e) in D:\\a\\_work\\1\\s\\src\\Microsoft.DotNet.Interactive.PowerShell\\PowerShellKernel.cs:line 387\r\n   at Microsoft.DotNet.Interactive.PowerShell.PowerShellKernel.RunSubmitCodeLocally(String code) in D:\\a\\_work\\1\\s\\src\\Microsoft.DotNet.Interactive.PowerShell\\PowerShellKernel.cs:line 354\r\n   at Microsoft.DotNet.Interactive.PowerShell.PowerShellKernel.HandleAsync(SubmitCode submitCode, KernelInvocationContext context) in D:\\a\\_work\\1\\s\\src\\Microsoft.DotNet.Interactive.PowerShell\\PowerShellKernel.cs:line 257\r\n   at Microsoft.DotNet.Interactive.Kernel.HandleAsync(KernelCommand command, KernelInvocationContext context) in D:\\a\\_work\\1\\s\\src\\Microsoft.DotNet.Interactive\\Kernel.cs:line 297\r\n   at Microsoft.DotNet.Interactive.KernelCommandPipeline.<BuildPipeline>b__6_0(KernelCommand command, KernelInvocationContext context, KernelPipelineContinuation _) in D:\\a\\_work\\1\\s\\src\\Microsoft.DotNet.Interactive\\KernelCommandPipeline.cs:line 59\r\n   at Microsoft.DotNet.Interactive.KernelCommandPipeline.<>c__DisplayClass6_1.<<BuildPipeline>b__3>d.MoveNext() in D:\\a\\_work\\1\\s\\src\\Microsoft.DotNet.Interactive\\KernelCommandPipeline.cs:line 75\r\n--- End of stack trace from previous location ---\r\n   at Microsoft.DotNet.Interactive.CompositeKernel.LoadExtensions(KernelCommand command, KernelInvocationContext context, KernelPipelineContinuation next) in D:\\a\\_work\\1\\s\\src\\Microsoft.DotNet.Interactive\\CompositeKernel.cs:line 133\r\n   at Microsoft.DotNet.Interactive.KernelCommandPipeline.<>c__DisplayClass6_0.<<BuildPipeline>g__Combine|2>d.MoveNext() in D:\\a\\_work\\1\\s\\src\\Microsoft.DotNet.Interactive\\KernelCommandPipeline.cs:line 76\r\n--- End of stack trace from previous location ---\r\n   at Microsoft.DotNet.Interactive.KernelCommandPipeline.SendAsync(KernelCommand command, KernelInvocationContext context) in D:\\a\\_work\\1\\s\\src\\Microsoft.DotNet.Interactive\\KernelCommandPipeline.cs:line 50",
     "output_type": "error",
     "traceback": [
      "System.Management.Automation.InvalidPowerShellStateException: The state of the current PowerShell instance is not valid for this operation.\r\n",
      "   at System.Management.Automation.PowerShell.AssertChangesAreAccepted()\r\n",
      "   at System.Management.Automation.PSCommand.AddCommand(Command command)\r\n",
      "   at System.Management.Automation.PowerShell.AddCommand(CommandInfo commandInfo)\r\n",
      "   at Microsoft.DotNet.Interactive.PowerShell.PowerShellKernel.ReportError(ErrorRecord error) in D:\\a\\_work\\1\\s\\src\\Microsoft.DotNet.Interactive.PowerShell\\PowerShellKernel.cs:line 376\r\n",
      "   at Microsoft.DotNet.Interactive.PowerShell.PowerShellKernel.ReportException(Exception e) in D:\\a\\_work\\1\\s\\src\\Microsoft.DotNet.Interactive.PowerShell\\PowerShellKernel.cs:line 387\r\n",
      "   at Microsoft.DotNet.Interactive.PowerShell.PowerShellKernel.RunSubmitCodeLocally(String code) in D:\\a\\_work\\1\\s\\src\\Microsoft.DotNet.Interactive.PowerShell\\PowerShellKernel.cs:line 354\r\n",
      "   at Microsoft.DotNet.Interactive.PowerShell.PowerShellKernel.HandleAsync(SubmitCode submitCode, KernelInvocationContext context) in D:\\a\\_work\\1\\s\\src\\Microsoft.DotNet.Interactive.PowerShell\\PowerShellKernel.cs:line 257\r\n",
      "   at Microsoft.DotNet.Interactive.Kernel.HandleAsync(KernelCommand command, KernelInvocationContext context) in D:\\a\\_work\\1\\s\\src\\Microsoft.DotNet.Interactive\\Kernel.cs:line 297\r\n",
      "   at Microsoft.DotNet.Interactive.KernelCommandPipeline.<BuildPipeline>b__6_0(KernelCommand command, KernelInvocationContext context, KernelPipelineContinuation _) in D:\\a\\_work\\1\\s\\src\\Microsoft.DotNet.Interactive\\KernelCommandPipeline.cs:line 59\r\n",
      "   at Microsoft.DotNet.Interactive.KernelCommandPipeline.<>c__DisplayClass6_1.<<BuildPipeline>b__3>d.MoveNext() in D:\\a\\_work\\1\\s\\src\\Microsoft.DotNet.Interactive\\KernelCommandPipeline.cs:line 75\r\n",
      "--- End of stack trace from previous location ---\r\n",
      "   at Microsoft.DotNet.Interactive.CompositeKernel.LoadExtensions(KernelCommand command, KernelInvocationContext context, KernelPipelineContinuation next) in D:\\a\\_work\\1\\s\\src\\Microsoft.DotNet.Interactive\\CompositeKernel.cs:line 133\r\n",
      "   at Microsoft.DotNet.Interactive.KernelCommandPipeline.<>c__DisplayClass6_0.<<BuildPipeline>g__Combine|2>d.MoveNext() in D:\\a\\_work\\1\\s\\src\\Microsoft.DotNet.Interactive\\KernelCommandPipeline.cs:line 76\r\n",
      "--- End of stack trace from previous location ---\r\n",
      "   at Microsoft.DotNet.Interactive.KernelCommandPipeline.SendAsync(KernelCommand command, KernelInvocationContext context) in D:\\a\\_work\\1\\s\\src\\Microsoft.DotNet.Interactive\\KernelCommandPipeline.cs:line 50"
     ]
    }
   ],
   "source": [
    "import-module PipeScript -MinimumVersion 0.1.6\n",
    "import-module Ninmonkey.Console *>$Null\n",
    "$cmdLine = 'gh repo view microsoft/powerquery-parser'\n",
    "$bin, $subCommand, $rest = $cmdLine -split ' '\n",
    "function MiniType { \n",
    "    $Input | .> { .Type = ($_.GetType() | ShortType) .Value = $_ .FullType = ($_.GetType()) }\n",
    "}\n",
    "# original\n",
    "$subCommand | %{ \n",
    "     $_ | .> { .Type = ($_.GetType() | ShortType) .Value = $_ .FullType = ($_.GetType()) }\n",
    "}\n",
    "hr\n",
    "Get-Variable | % Value | select -first 3\n",
    "# | MiniType\n",
    "# | Select -first 5 | Ft -auto\n",
    "hr\n",
    "Get-Variable | % Value | select -first 3 | minitype\n"
   ]
  },
  {
   "cell_type": "code",
   "execution_count": 7,
   "metadata": {
    "dotnet_interactive": {
     "language": "pwsh"
    },
    "vscode": {
     "languageId": "dotnet-interactive.pwsh"
    }
   },
   "outputs": [
    {
     "name": "stdout",
     "output_type": "stream",
     "text": [
      "\r\n",
      "\u001b[32;1mType                     Value\u001b[0m\r\n",
      "\u001b[32;1m----                     -----                                                                    \u001b[0m\r\n",
      "[\u001b[37mDirectoryInfo\u001b[0m]\u001b[0m C:\\Users\\cppmo_000\\SkyDrive\\Documents\\2022\\My_Github\\notebooks\\Pwsh\\Types\r\n",
      "[\u001b[37mDateTime\u001b[0m]     \u001b[0m 11/4/2022 4:02:49 PM                                                     \r\n",
      "\r\n"
     ]
    }
   ],
   "source": []
  },
  {
   "cell_type": "code",
   "execution_count": 24,
   "metadata": {
    "dotnet_interactive": {
     "language": "pwsh"
    },
    "vscode": {
     "languageId": "dotnet-interactive.pwsh"
    }
   },
   "outputs": [
    {
     "name": "stdout",
     "output_type": "stream",
     "text": [
      "\r\n",
      "\u001b[92mException             : \u001b[0m\r\n",
      "    \u001b[92mType        : \u001b[0mSystem.Management.Automation.RuntimeException\r\n",
      "    \u001b[92mErrorRecord : \u001b[0m\r\n",
      "        \u001b[92mException             : \u001b[0m\r\n",
      "            \u001b[92mType    : \u001b[0mSystem.Management.Automation.ParentContainsErrorRecordException\r\n",
      "            \u001b[92mMessage : \u001b[0m\u001b[31;1mYou cannot call a method on a null-valued expression.\r\n",
      "            \u001b[92mHResult : \u001b[0m-2146233087\r\n",
      "        \u001b[92mCategoryInfo          : \u001b[0mInvalidOperation: (:) [], \r\n",
      "ParentContainsErrorRecordException\r\n",
      "        \u001b[92mFullyQualifiedErrorId : \u001b[0mInvokeMethodOnNull\r\n",
      "        \u001b[92mInvocationInfo        : \u001b[0m\r\n",
      "            \u001b[92mScriptLineNumber : \u001b[0m1\r\n",
      "            \u001b[92mOffsetInLine     : \u001b[0m4\r\n",
      "            \u001b[92mHistoryId        : \u001b[0m-1\r\n",
      "            \u001b[92mLine             : \u001b[0m$([PSCustomObject][Ordered]@{\r\n",
      "                               \r\n",
      "            \u001b[92mPositionMessage  : \u001b[0mAt line:1 char:4\r\n",
      "                               +  $([PSCustomObject][Ordered]@{\r\n",
      "                               +    \u001b[31;1m~~~~~~~~~~~~~~~~~~~~~~~~~~~\r\n",
      "            \u001b[92mCommandOrigin    : \u001b[0mInternal\r\n",
      "        \u001b[92mScriptStackTrace      : \u001b[0mat <ScriptBlock>, <No file>: line 1\r\n",
      "                                at Invoke-PipeScript<Process>, \r\n",
      "C:\\Users\\cppmo_000\\SkyDrive\\Documents\\PowerShell\\Modules\\PipeScript\\0.1.8\\Invoke-PipeScript.ps1: \r\n",
      "line 181\r\n",
      "                                at MiniType, <No file>: line 6\r\n",
      "                                at <ScriptBlock>, <No file>: line 1\r\n",
      "    \u001b[92mTargetSite  : \u001b[0mSystem.Object CallSite.Target(System.Runtime.CompilerServices.Closure, \r\n",
      "System.Runtime.CompilerServices.CallSite, System.Object)\r\n",
      "    \u001b[92mMessage     : \u001b[0m\u001b[31;1mYou cannot call a method on a null-valued expression.\r\n",
      "    \u001b[92mData        : \u001b[0mSystem.Collections.ListDictionaryInternal\r\n",
      "    \u001b[92mSource      : \u001b[0mAnonymously Hosted DynamicMethods Assembly\r\n",
      "    \u001b[92mHResult     : \u001b[0m-2146233087\r\n",
      "    \u001b[92mStackTrace  : \u001b[0m\r\n",
      "   at CallSite.Target(Closure , CallSite , Object )\r\n",
      "   at System.Dynamic.UpdateDelegates.UpdateAndExecute1[T0,TRet](CallSite site, T0 arg0)\r\n",
      "   at System.Management.Automation.Interpreter.DynamicInstruction`2.Run(InterpretedFrame frame)\r\n",
      "   at \r\n",
      "System.Management.Automation.Interpreter.EnterTryCatchFinallyInstruction.Run(InterpretedFrame \r\n",
      "frame)\r\n",
      "   at \r\n",
      "System.Management.Automation.Interpreter.EnterTryCatchFinallyInstruction.Run(InterpretedFrame \r\n",
      "frame)\r\n",
      "\u001b[92mCategoryInfo          : \u001b[0mInvalidOperation: (:) [], RuntimeException\r\n",
      "\u001b[92mFullyQualifiedErrorId : \u001b[0mInvokeMethodOnNull\r\n",
      "\u001b[92mInvocationInfo        : \u001b[0m\r\n",
      "    \u001b[92mScriptLineNumber : \u001b[0m1\r\n",
      "    \u001b[92mOffsetInLine     : \u001b[0m4\r\n",
      "    \u001b[92mHistoryId        : \u001b[0m-1\r\n",
      "    \u001b[92mLine             : \u001b[0m$([PSCustomObject][Ordered]@{\r\n",
      "                       \r\n",
      "    \u001b[92mPositionMessage  : \u001b[0mAt line:1 char:4\r\n",
      "                       +  $([PSCustomObject][Ordered]@{\r\n",
      "                       +    \u001b[31;1m~~~~~~~~~~~~~~~~~~~~~~~~~~~\r\n",
      "    \u001b[92mCommandOrigin    : \u001b[0mInternal\r\n",
      "\u001b[92mScriptStackTrace      : \u001b[0mat <ScriptBlock>, <No file>: line 1\r\n",
      "                        at Invoke-PipeScript<Process>, \r\n",
      "C:\\Users\\cppmo_000\\SkyDrive\\Documents\\PowerShell\\Modules\\PipeScript\\0.1.8\\Invoke-PipeScript.ps1: \r\n",
      "line 181\r\n",
      "                        at MiniType, <No file>: line 6\r\n",
      "                        at <ScriptBlock>, <No file>: line 1\r\n",
      "\r\n"
     ]
    }
   ],
   "source": [
    "get-error"
   ]
  }
 ],
 "metadata": {
  "kernelspec": {
   "display_name": ".NET (C#)",
   "language": "C#",
   "name": ".net-csharp"
  },
  "language_info": {
   "file_extension": ".cs",
   "mimetype": "text/x-csharp",
   "name": "C#",
   "pygments_lexer": "csharp",
   "version": "9.0"
  },
  "orig_nbformat": 4
 },
 "nbformat": 4,
 "nbformat_minor": 2
}
