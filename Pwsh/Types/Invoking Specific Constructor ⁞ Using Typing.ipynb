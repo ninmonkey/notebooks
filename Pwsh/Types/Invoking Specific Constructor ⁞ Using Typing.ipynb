{
 "cells": [
  {
   "cell_type": "markdown",
   "metadata": {},
   "source": [
    "The first two targets the signed constructor. This works.\n",
    "\n",
    "- Guid::New [Int32, Int16, Int16, Byte, Byte, Byte, Byte, Byte, Byte, Byte, Byte](https://docs.microsoft.com/en-us/dotnet/api/system.guid.-ctor?view=net-6.0#system-guid-ctor(system-int32-system-int16-system-int16-system-byte-system-byte-system-byte-system-byte-system-byte-system-byte-system-byte-system-byte))\n",
    "\n",
    "The one that breaks\n",
    "\n",
    "- Guid::New [UInt32, UInt16, UInt16, Byte, Byte, Byte, Byte, Byte, Byte, Byte, Byte](https://docs.microsoft.com/en-us/dotnet/api/system.guid.-ctor?view=net-6.0#system-guid-ctor(system-uint32-system-uint16-system-uint16-system-byte-system-byte-system-byte-system-byte-system-byte-system-byte-system-byte-system-byte))\n",
    "\n",
    "\n",
    "I'm not sure, but it kind of looks like it's converting a `Uint32` to an `int32` *before* the constructor override is chosen?\n",
    "```cs\n",
    "Convert.ThrowInt32OverflowException()\n",
    "UInt32.System.IConvertible.ToInt32(IFormatProvider provider)\n",
    "Convert.ChangeType(Object value, Type conversionType, IFormatProvider provider)\n",
    "```"
   ]
  },
  {
   "cell_type": "code",
   "execution_count": null,
   "metadata": {
    "dotnet_interactive": {
     "language": "pwsh"
    },
    "vscode": {
     "languageId": "dotnet-interactive.pwsh"
    }
   },
   "outputs": [
    {
     "name": "stdout",
     "output_type": "stream",
     "text": [
      "\r\n",
      "\u001b[38;2;235;203;139m# signed, all low\u001b[39m\r\n",
      "\r\n",
      "\r\n",
      "\u001b[32;1mGuid\u001b[0m\r\n",
      "\u001b[32;1m----\u001b[0m\r\n",
      "000001f4-01f4-01f4-ffff-ffffffffffff\r\n",
      "\r\n",
      "\u001b[38;2;235;203;139m# unsigned, all low\u001b[39m\r\n",
      "\r\n",
      "000001f4-01f4-01f4-ffff-ffffffffffff\r\n",
      "\r\n",
      "\u001b[38;2;235;203;139m# unsigned, max\u001b[39m\r\n",
      "\r\n",
      "\u001b[91mMethodException: \r\n",
      "\u001b[96mLine |\r\n",
      "\u001b[96m  22 | \u001b[0m \u001b[96m[Guid]::new( $ua, $ub, $uc, $bytes)\u001b[0m\r\n",
      "\u001b[96m     | \u001b[91m ~~~~~~~~~~~~~~~~~~~~~~~~~~~~~~~~~~~\r\n",
      "\u001b[91m\u001b[96m     | \u001b[91mCannot convert argument \"a\", with value: \"4294967295\", for \".ctor\" to type \"System.Int32\": \"Cannot convert value \"4294967295\" to type \"System.Int32\". Error: \"Value was either too large or too small for an Int32.\"\"\u001b[0m\r\n",
      "\r\n",
      "\u001b[38;2;235;203;139m# extra explicit\u001b[39m\r\n",
      "\r\n",
      "\u001b[91mMethodException: \r\n",
      "\u001b[96mLine |\r\n",
      "\u001b[96m  24 | \u001b[0m \u001b[96m[Guid]::new( [uint32]$ua, [uint16]$ub, [uint16]$uc, $bytes)\u001b[0m\r\n",
      "\u001b[96m     | \u001b[91m ~~~~~~~~~~~~~~~~~~~~~~~~~~~~~~~~~~~~~~~~~~~~~~~~~~~~~~~~~~~\r\n",
      "\u001b[91m\u001b[96m     | \u001b[91mCannot convert argument \"a\", with value: \"4294967295\", for \".ctor\" to type \"System.Int32\": \"Cannot convert value \"4294967295\" to type \"System.Int32\". Error: \"Value was either too large or too small for an Int32.\"\"\u001b[0m\r\n",
      "\r\n"
     ]
    }
   ],
   "source": [
    "# Import-Module 'classExplorer', 'ninmonkey.console' *>$null -pass\n",
    "# Import-Module 'classExplorer', 'ninmonkey.console' *>$null -pass\n",
    "[byte[]]$bytes = [Convert]::FromHexString('ff' * 8 -join '') # euivalent: ('ffffffff' + 'ffffffff') #\n",
    "\n",
    "h1 'signed, all low'\n",
    "[int32]$a = 500\n",
    "[int16]$b = 500\n",
    "[int16]$c = 500\n",
    "[Guid]::new($a, $b, $c, $bytes)\n",
    "\n",
    "h1 'unsigned, all low'\n",
    "[uint32]$ua = 500\n",
    "[uint16]$ub = 500\n",
    "[uint16]$uc = 500\n",
    "[Guid]::new($ua, $ub, $uc, $bytes)\n",
    "\n",
    "\n",
    "h1 'unsigned, max'  # Throws\n",
    "[uint32]$ua = [uint32]::maxValue\n",
    "[uint16]$ub = [uint16]::maxValue\n",
    "[uint16]$uc = [uint16]::maxValue\n",
    "[Guid]::new( $ua, $ub, $uc, $bytes)\n",
    "h1 'extra explicit'\n",
    "[Guid]::new( [uint32]$ua, [uint16]$ub, [uint16]$uc, $bytes)"
   ]
  },
  {
   "cell_type": "markdown",
   "metadata": {},
   "source": [
    "## Showing errors with ansi colors on github\n",
    "\n",
    "It seems like "
   ]
  },
  {
   "cell_type": "code",
   "execution_count": null,
   "metadata": {
    "dotnet_interactive": {
     "language": "pwsh"
    },
    "vscode": {
     "languageId": "dotnet-interactive.pwsh"
    }
   },
   "outputs": [
    {
     "name": "stdout",
     "output_type": "stream",
     "text": [
      "\r\n",
      "\u001b[92mException             : \u001b[0m\r\n",
      "    \u001b[92mType           : \u001b[0mSystem.Management.Automation.MethodException\r\n",
      "    \u001b[92mErrorRecord    : \u001b[0m\r\n",
      "        \u001b[92mException             : \u001b[0m\r\n",
      "            \u001b[92mType    : \u001b[0mSystem.Management.Automation.ParentContainsErrorRecordException\r\n",
      "            \u001b[92mMessage : \u001b[0m\u001b[31;1mCannot convert argument \"a\", with value: \"4294967295\", for \r\n",
      "\".ctor\" to type \"System.Int32\": \"Cannot convert value \"4294967295\" to type \"System.Int32\". Error: \r\n",
      "\"Value was either too large or too small for an Int32.\"\"\r\n",
      "            \u001b[92mHResult : \u001b[0m-2146233087\r\n",
      "        \u001b[92mCategoryInfo          : \u001b[0mNotSpecified: (:) [], ParentContainsErrorRecordException\r\n",
      "        \u001b[92mFullyQualifiedErrorId : \u001b[0mMethodArgumentConversionInvalidCastArgument\r\n",
      "        \u001b[92mInvocationInfo        : \u001b[0m\r\n",
      "            \u001b[92mScriptLineNumber : \u001b[0m1\r\n",
      "            \u001b[92mOffsetInLine     : \u001b[0m1\r\n",
      "            \u001b[92mHistoryId        : \u001b[0m-1\r\n",
      "            \u001b[92mLine             : \u001b[0m[Guid]::new( [uint32]$ua, [uint16]$ub, [uint16]$uc, $bytes)\r\n",
      "            \u001b[92mPositionMessage  : \u001b[0mAt line:1 char:1\r\n",
      "                               + [Guid]::new( [uint32]$ua, [uint16]$ub, [uint16]$uc, $bytes)\r\n",
      "                               + \u001b[31;1m~~~~~~~~~~~~~~~~~~~~~~~~~~~~~~~~~~~~~~~~~~~~~~~~~~~~~~~~~~~\r\n",
      "            \u001b[92mCommandOrigin    : \u001b[0mInternal\r\n",
      "        \u001b[92mScriptStackTrace      : \u001b[0mat <ScriptBlock>, <No file>: line 1\r\n",
      "    \u001b[92mTargetSite     : \u001b[0m\r\n",
      "        \u001b[92mName          : \u001b[0mConvertToArgumentConversionException\r\n",
      "        \u001b[92mDeclaringType : \u001b[0mSystem.Management.Automation.ExceptionHandlingOps, \r\n",
      "System.Management.Automation, Version=7.2.5.500, Culture=neutral, PublicKeyToken=31bf3856ad364e35\r\n",
      "        \u001b[92mMemberType    : \u001b[0mMethod\r\n",
      "        \u001b[92mModule        : \u001b[0mSystem.Management.Automation.dll\r\n",
      "    \u001b[92mMessage        : \u001b[0m\u001b[31;1mCannot convert argument \"a\", with value: \"4294967295\", for \r\n",
      "\".ctor\" to type \"System.Int32\": \"Cannot convert value \"4294967295\" to type \"System.Int32\". Error: \r\n",
      "\"Value was either too large or too small for an Int32.\"\"\r\n",
      "    \u001b[92mData           : \u001b[0mSystem.Collections.ListDictionaryInternal\r\n",
      "    \u001b[92mInnerException : \u001b[0m\r\n",
      "        \u001b[92mType           : \u001b[0mSystem.Management.Automation.PSInvalidCastException\r\n",
      "        \u001b[92mErrorRecord    : \u001b[0m\r\n",
      "            \u001b[92mException             : \u001b[0m\r\n",
      "                \u001b[92mType    : \u001b[0mSystem.Management.Automation.ParentContainsErrorRecordException\r\n",
      "                \u001b[92mMessage : \u001b[0m\u001b[31;1mCannot convert value \"4294967295\" to type \r\n",
      "\"System.Int32\". Error: \"Value was either too large or too small for an Int32.\"\r\n",
      "                \u001b[92mHResult : \u001b[0m-2146233087\r\n",
      "            \u001b[92mCategoryInfo          : \u001b[0mInvalidArgument: (:) [], \r\n",
      "ParentContainsErrorRecordException\r\n",
      "            \u001b[92mFullyQualifiedErrorId : \u001b[0mInvalidCastIConvertible\r\n",
      "        \u001b[92mTargetSite     : \u001b[0m\r\n",
      "            \u001b[92mName          : \u001b[0mConvertNumeric\r\n",
      "            \u001b[92mDeclaringType : \u001b[0mSystem.Management.Automation.LanguagePrimitives\r\n",
      "            \u001b[92mMemberType    : \u001b[0mMethod\r\n",
      "            \u001b[92mModule        : \u001b[0mSystem.Management.Automation.dll\r\n",
      "        \u001b[92mMessage        : \u001b[0m\u001b[31;1mCannot convert value \"4294967295\" to type \"System.Int32\". \r\n",
      "Error: \"Value was either too large or too small for an Int32.\"\r\n",
      "        \u001b[92mInnerException : \u001b[0m\r\n",
      "            \u001b[92mType       : \u001b[0mSystem.OverflowException\r\n",
      "            \u001b[92mTargetSite : \u001b[0m\r\n",
      "                \u001b[92mName          : \u001b[0mThrowInt32OverflowException\r\n",
      "                \u001b[92mDeclaringType : \u001b[0mSystem.Convert\r\n",
      "                \u001b[92mMemberType    : \u001b[0mMethod\r\n",
      "                \u001b[92mModule        : \u001b[0mSystem.Private.CoreLib.dll\r\n",
      "            \u001b[92mMessage    : \u001b[0m\u001b[31;1mValue was either too large or too small for an Int32.\r\n",
      "            \u001b[92mSource     : \u001b[0mSystem.Private.CoreLib\r\n",
      "            \u001b[92mHResult    : \u001b[0m-2146233066\r\n",
      "            \u001b[92mStackTrace : \u001b[0m\r\n",
      "   at System.Convert.ThrowInt32OverflowException()\r\n",
      "   at System.UInt32.System.IConvertible.ToInt32(IFormatProvider provider)\r\n",
      "   at System.Convert.ChangeType(Object value, Type conversionType, IFormatProvider provider)\r\n",
      "   at System.Management.Automation.LanguagePrimitives.ConvertNumeric(Object valueToConvert, Type \r\n",
      "resultType, Boolean recursion, PSObject originalValueToConvert, IFormatProvider formatProvider, \r\n",
      "TypeTable backupTable)\r\n",
      "        \u001b[92mSource         : \u001b[0mSystem.Management.Automation\r\n",
      "        \u001b[92mHResult        : \u001b[0m-2147467262\r\n",
      "        \u001b[92mStackTrace     : \u001b[0m\r\n",
      "   at System.Management.Automation.LanguagePrimitives.ConvertNumeric(Object valueToConvert, Type \r\n",
      "resultType, Boolean recursion, PSObject originalValueToConvert, IFormatProvider formatProvider, \r\n",
      "TypeTable backupTable)\r\n",
      "   at CallSite.Target(Closure , CallSite , Type , UInt32 , UInt16 , UInt16 , Object )\r\n",
      "    \u001b[92mSource         : \u001b[0mSystem.Management.Automation\r\n",
      "    \u001b[92mHResult        : \u001b[0m-2146233087\r\n",
      "    \u001b[92mStackTrace     : \u001b[0m\r\n",
      "   at \r\n",
      "System.Management.Automation.ExceptionHandlingOps.ConvertToArgumentConversionException(Exception \r\n",
      "exception, String parameterName, Object argument, String method, Type toType)\r\n",
      "   at CallSite.Target(Closure , CallSite , Type , UInt32 , UInt16 , UInt16 , Object )\r\n",
      "   at System.Dynamic.UpdateDelegates.UpdateAndExecute5[T0,T1,T2,T3,T4,TRet](CallSite site, T0 \r\n",
      "arg0, T1 arg1, T2 arg2, T3 arg3, T4 arg4)\r\n",
      "   at System.Management.Automation.Interpreter.DynamicInstruction`6.Run(InterpretedFrame frame)\r\n",
      "   at \r\n",
      "System.Management.Automation.Interpreter.EnterTryCatchFinallyInstruction.Run(InterpretedFrame \r\n",
      "frame)\r\n",
      "\u001b[92mCategoryInfo          : \u001b[0mNotSpecified: (:) [], MethodException\r\n",
      "\u001b[92mFullyQualifiedErrorId : \u001b[0mMethodArgumentConversionInvalidCastArgument\r\n",
      "\u001b[92mInvocationInfo        : \u001b[0m\r\n",
      "    \u001b[92mScriptLineNumber : \u001b[0m1\r\n",
      "    \u001b[92mOffsetInLine     : \u001b[0m1\r\n",
      "    \u001b[92mHistoryId        : \u001b[0m-1\r\n",
      "    \u001b[92mLine             : \u001b[0m[Guid]::new( [uint32]$ua, [uint16]$ub, [uint16]$uc, $bytes)\r\n",
      "    \u001b[92mPositionMessage  : \u001b[0mAt line:1 char:1\r\n",
      "                       + [Guid]::new( [uint32]$ua, [uint16]$ub, [uint16]$uc, $bytes)\r\n",
      "                       + \u001b[31;1m~~~~~~~~~~~~~~~~~~~~~~~~~~~~~~~~~~~~~~~~~~~~~~~~~~~~~~~~~~~\r\n",
      "    \u001b[92mCommandOrigin    : \u001b[0mInternal\r\n",
      "\u001b[92mScriptStackTrace      : \u001b[0mat <ScriptBlock>, <No file>: line 1\r\n",
      "\r\n"
     ]
    }
   ],
   "source": [
    "#[Guid]::new( [uint32]$ua, [uint16]$ub, [uint16]$uc, $bytes)\n",
    "$error[0] | get-error"
   ]
  }
 ],
 "metadata": {
  "kernelspec": {
   "display_name": ".NET (PowerShell)",
   "language": "PowerShell",
   "name": ".net-pwsh"
  },
  "language_info": {
   "name": "PowerShell"
  }
 },
 "nbformat": 4,
 "nbformat_minor": 2
}
