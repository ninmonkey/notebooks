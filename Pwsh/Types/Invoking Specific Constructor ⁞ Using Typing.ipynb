{
 "cells": [
  {
   "cell_type": "code",
   "execution_count": null,
   "metadata": {
    "dotnet_interactive": {
     "language": "pwsh"
    },
    "vscode": {
     "languageId": "dotnet-interactive.pwsh"
    }
   },
   "outputs": [
    {
     "name": "stdout",
     "output_type": "stream",
     "text": [
      "\r\n",
      "\u001b[38;2;235;203;139m# signed, all low\u001b[39m\r\n",
      "\r\n",
      "\r\n",
      "\u001b[32;1mGuid\u001b[0m\r\n",
      "\u001b[32;1m----\u001b[0m\r\n",
      "000001f4-01f4-01f4-ffff-ffffffffffff\r\n",
      "\r\n",
      "\u001b[38;2;235;203;139m# unsigned, all low\u001b[39m\r\n",
      "\r\n",
      "000001f4-01f4-01f4-ffff-ffffffffffff\r\n",
      "\r\n",
      "\u001b[38;2;235;203;139m# unsigned, max\u001b[39m\r\n",
      "\r\n",
      "\u001b[91mMethodException: \r\n",
      "\u001b[96mLine |\r\n",
      "\u001b[96m  22 | \u001b[0m \u001b[96m[Guid]::new( $ua, $ub, $uc, $bytes)\u001b[0m\r\n",
      "\u001b[96m     | \u001b[91m ~~~~~~~~~~~~~~~~~~~~~~~~~~~~~~~~~~~\r\n",
      "\u001b[91m\u001b[96m     | \u001b[91mCannot convert argument \"a\", with value: \"4294967295\", for \".ctor\" to type \"System.Int32\": \"Cannot convert value \"4294967295\" to type \"System.Int32\". Error: \"Value was either too large or too small for an Int32.\"\"\u001b[0m\r\n",
      "\r\n",
      "\u001b[38;2;235;203;139m# extra explicit\u001b[39m\r\n",
      "\r\n",
      "\u001b[91mMethodException: \r\n",
      "\u001b[96mLine |\r\n",
      "\u001b[96m  24 | \u001b[0m \u001b[96m[Guid]::new( [uint32]$ua, [uint16]$ub, [uint16]$uc, $bytes)\u001b[0m\r\n",
      "\u001b[96m     | \u001b[91m ~~~~~~~~~~~~~~~~~~~~~~~~~~~~~~~~~~~~~~~~~~~~~~~~~~~~~~~~~~~\r\n",
      "\u001b[91m\u001b[96m     | \u001b[91mCannot convert argument \"a\", with value: \"4294967295\", for \".ctor\" to type \"System.Int32\": \"Cannot convert value \"4294967295\" to type \"System.Int32\". Error: \"Value was either too large or too small for an Int32.\"\"\u001b[0m\r\n",
      "\r\n"
     ]
    }
   ],
   "source": [
    "# Import-Module 'classExplorer', 'ninmonkey.console' *>$null -pass\n",
    "# Import-Module 'classExplorer', 'ninmonkey.console' *>$null -pass\n",
    "[byte[]]$bytes = [Convert]::FromHexString('ff' * 8 -join '') # euivalent: ('ffffffff' + 'ffffffff') #\n",
    "\n",
    "h1 'signed, all low'\n",
    "[int32]$a = 500\n",
    "[int16]$b = 500\n",
    "[int16]$c = 500\n",
    "[Guid]::new($a, $b, $c, $bytes)\n",
    "\n",
    "h1 'unsigned, all low'\n",
    "[uint32]$ua = 500\n",
    "[uint16]$ub = 500\n",
    "[uint16]$uc = 500\n",
    "[Guid]::new($ua, $ub, $uc, $bytes)\n",
    "\n",
    "\n",
    "h1 'unsigned, max'  # Throws\n",
    "[uint32]$ua = [uint32]::maxValue\n",
    "[uint16]$ub = [uint16]::maxValue\n",
    "[uint16]$uc = [uint16]::maxValue\n",
    "[Guid]::new( $ua, $ub, $uc, $bytes)\n",
    "h1 'extra explicit'\n",
    "[Guid]::new( [uint32]$ua, [uint16]$ub, [uint16]$uc, $bytes)"
   ]
  }
 ],
 "metadata": {
  "kernelspec": {
   "display_name": ".NET (PowerShell)",
   "language": "PowerShell",
   "name": ".net-pwsh"
  },
  "language_info": {
   "name": "PowerShell"
  }
 },
 "nbformat": 4,
 "nbformat_minor": 2
}
