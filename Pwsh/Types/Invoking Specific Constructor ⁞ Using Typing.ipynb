{
 "cells": [
  {
   "cell_type": "code",
   "execution_count": null,
   "metadata": {
    "dotnet_interactive": {
     "language": "pwsh"
    },
    "vscode": {
     "languageId": "dotnet-interactive.pwsh"
    }
   },
   "outputs": [
    {
     "name": "stdout",
     "output_type": "stream",
     "text": [
      "\r\n",
      "\u001b[38;2;235;203;139m# signed\u001b[39m\r\n",
      "\r\n",
      "\r\n",
      "\u001b[32;1mGuid\u001b[0m\r\n",
      "\u001b[32;1m----\u001b[0m\r\n",
      "0000007b-007b-007b-ffff-ffffffffffff\r\n",
      "\r\n",
      "\u001b[38;2;235;203;139m# unsigned, max\u001b[39m\r\n",
      "\r\n",
      "\u001b[91mMethodException: \r\n",
      "\u001b[96mLine |\r\n",
      "\u001b[96m  20 | \u001b[0m \u001b[96m[Guid]::new($ua, $ub, $uc, $bytes)\u001b[0m\r\n",
      "\u001b[96m     | \u001b[91m ~~~~~~~~~~~~~~~~~~~~~~~~~~~~~~~~~~\r\n",
      "\u001b[91m\u001b[96m     | \u001b[91mCannot convert argument \"b\", with value: \"65535\", for \".ctor\" to type \"System.Int16\": \"Cannot convert value \"65535\" to type \"System.Int16\". Error: \"Value was either too large or too small for an Int16.\"\"\u001b[0m\r\n",
      "\r\n",
      "\u001b[38;2;235;203;139m# unsigned, all low\u001b[39m\r\n",
      "\r\n",
      "000001f4-01f4-01f4-ffff-ffffffffffff\r\n",
      "\r\n"
     ]
    }
   ],
   "source": [
    "### last ? \n",
    "\n",
    "h1 'signed'\n",
    "[int16]$b = 123\n",
    "[int32]$a = 123\n",
    "[int16]$c = 123\n",
    "[byte[]]$bytes = [Convert]::FromHexString('ffffffff' + 'ffffffff')\n",
    "[Guid]::new($a, $b, $c, $bytes)\n",
    "\n",
    "\n",
    "h1 'unsigned, max'\n",
    "[uint32]$ua = [uint32]::maxValue\n",
    "[uint32]$ua = [int32]::MaxValue\n",
    "\n",
    "[uint16]$ub = [uint16]::maxValue\n",
    "[uint16]$ub = [uint16]::maxValue\n",
    "[uint16]$uc = [uint16]::maxValue\n",
    "[byte[]]$bytes = [Convert]::FromHexString('ffffffff' + 'ffffffff')\n",
    "#   [Convert]::FromHexString('ff' * 8 -join '')\n",
    "[Guid]::new($ua, $ub, $uc, $bytes)\n",
    "\n",
    "h1 'unsigned, all low'\n",
    "[uint32]$ua = 500\n",
    "[uint32]$ua = 500\n",
    "\n",
    "[uint16]$ub = 500\n",
    "[uint16]$ub = 500\n",
    "[uint16]$uc = 500\n",
    "[byte[]]$bytes = [Convert]::FromHexString('ffffffff' + 'ffffffff')\n",
    "#   [Convert]::FromHexString('ff' * 8 -join '')\n",
    "[Guid]::new($ua, $ub, $uc, $bytes)\n"
   ]
  },
  {
   "cell_type": "code",
   "execution_count": null,
   "metadata": {
    "dotnet_interactive": {
     "language": "pwsh"
    },
    "vscode": {
     "languageId": "dotnet-interactive.pwsh"
    }
   },
   "outputs": [
    {
     "name": "stdout",
     "output_type": "stream",
     "text": [
      "\r\n",
      "\u001b[32;1mGuid\u001b[0m\r\n",
      "\u001b[32;1m----\u001b[0m\r\n",
      "0000007b-007b-007b-ffff-ffffffffffff\r\n",
      "0000007b-007b-007b-ffff-ffffffffffff\r\n",
      "\r\n"
     ]
    }
   ],
   "source": [
    "Import-Module 'classExplorer', 'ninmonkey.console' *>$null -pass\n",
    "\n",
    "\n",
    "\n",
    "[int32]$a = 123\n",
    "[int16]$b = 123\n",
    "[int16]$c = 123\n",
    "[byte[]]$bytes = [Convert]::FromHexString('ffffffff' + 'ffffffff')\n",
    "#$bytes2 = [byte[]]@(0xff)\n",
    "[Guid]::new($a, $b, $c, $bytes)\n",
    "\n",
    "\n",
    "[uint32]$ua = 123\n",
    "[uint16]$ub = 123\n",
    "[uint16]$uc = 123\n",
    "[byte[]]$bytes = [Convert]::FromHexString('ff' * 8 -join '')\n",
    "#$bytes2 = [byte[]]@(0xff)\n",
    "[Guid]::new($ua, $ub, $uc, $bytes)"
   ]
  }
 ],
 "metadata": {
  "kernelspec": {
   "display_name": ".NET (PowerShell)",
   "language": "PowerShell",
   "name": ".net-pwsh"
  },
  "language_info": {
   "name": "PowerShell"
  }
 },
 "nbformat": 4,
 "nbformat_minor": 2
}
