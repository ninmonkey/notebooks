{
 "cells": [
  {
   "cell_type": "code",
   "execution_count": 53,
   "metadata": {
    "dotnet_interactive": {
     "language": "pwsh"
    },
    "polyglot_notebook": {
     "kernelName": "pwsh"
    }
   },
   "outputs": [
    {
     "name": "stdout",
     "output_type": "stream",
     "text": [
      "Last Ran: 2022-12-22 16:50:09Z\n",
      "Using Pwsh: 7.3.0\n"
     ]
    }
   ],
   "source": [
    "# This is similar to JavaScript's and Python's <https://developer.mozilla.org/en-US/docs/Web/JavaScript/Reference/Operators/Spread_syntax>\n",
    "\n",
    "Get-Date | % tostring 'u' | Join-String -op 'Last Ran: '\n",
    "$PSVersionTable.PSVersion.ToString() | Join-String -op 'Using Pwsh: '"
   ]
  },
  {
   "cell_type": "code",
   "execution_count": 54,
   "metadata": {
    "dotnet_interactive": {
     "language": "pwsh"
    },
    "polyglot_notebook": {
     "kernelName": "pwsh"
    }
   },
   "outputs": [],
   "source": [
    "<#\n",
    " original scratch dump\n",
    "$head, $segments = 'a/c' -split '/'\n",
    "$null -eq $segments\n",
    "\n",
    "$head, $segments = 'ac' -split '/'\n",
    "$null -eq $segments\n",
    "$segments\n",
    "\n",
    "$head, [object[]]$segments = 'a' -split '/'\n",
    "$null -eq $segments\n",
    "$segments.count\n",
    "($segments)?.gettype() ?? '<null val expression>'\n",
    "\n",
    "$head2, [object[]]$segments2 = 'a/c' -split '/'\n",
    "$null -eq $segments2\n",
    "$segments2.count\n",
    "$segments2.gettype()\n",
    "\n",
    "#>"
   ]
  },
  {
   "cell_type": "code",
   "execution_count": 55,
   "metadata": {
    "dotnet_interactive": {
     "language": "pwsh"
    },
    "polyglot_notebook": {
     "kernelName": "pwsh"
    }
   },
   "outputs": [],
   "source": [
    "$Sample = @{\n",
    "    None = 'c'\n",
    "    Single = 'c/docs'\n",
    "    Array = 'c/docs/pwsh'\n",
    "}\n",
    "$RegexSplit = '/'"
   ]
  },
  {
   "cell_type": "code",
   "execution_count": 56,
   "metadata": {
    "dotnet_interactive": {
     "language": "pwsh"
    },
    "polyglot_notebook": {
     "kernelName": "pwsh"
    }
   },
   "outputs": [
    {
     "name": "stdout",
     "output_type": "stream",
     "text": [
      " !! case [1] : rest is array \n",
      "Inputs: = c, docs, pwsh\n",
      "\n",
      "\n",
      "Head: \"c\"\n",
      "\n",
      "\n",
      "firstCrumb: \"docs\"\n",
      "\n",
      "\n",
      "rest: \"pwsh\"\n"
     ]
    }
   ],
   "source": [
    "# Normally I wouldn't remove-variable but it's a notebook.\n",
    "# I need to ensure they start the same.\n",
    "Remove-Variable 'head', 'rest', 'firstCrumb' -ea 'ignore'\n",
    "function Br { param([int]$Count = 1) \"`n\" * $Count -join '' }\n",
    "\n",
    "' !! case [1] : rest is array '\n",
    "# case [2] : rest is empty\n",
    "# case [3] : rest is scalar\n",
    "\n",
    "$head, $firstCrumb, $rest  = $Sample.Array -split $RegexSplit\n",
    "# $head, $firstCrumb, $rest\n",
    "\n",
    "$Sample.Array -split $RegexSplit\n",
    "| Join-String -sep ', ' -op \"Inputs: = \"\n",
    "\n",
    "Br\n",
    "$Head | ConvertTo-Json\n",
    "| Join-String -op \"Head: \"\n",
    "\n",
    "Br\n",
    "$firstCrumb | ConvertTo-Json | Join-String -op 'firstCrumb: '\n",
    "\n",
    "Br\n",
    "$rest | ConvertTo-Json | Join-String -op 'rest: '\n"
   ]
  },
  {
   "cell_type": "code",
   "execution_count": 57,
   "metadata": {
    "dotnet_interactive": {
     "language": "pwsh"
    },
    "polyglot_notebook": {
     "kernelName": "pwsh"
    }
   },
   "outputs": [],
   "source": []
  }
 ],
 "metadata": {
  "kernelspec": {
   "display_name": ".NET (PowerShell)",
   "language": "PowerShell",
   "name": ".net-pwsh"
  },
  "polyglot_notebook": {
   "kernelInfo": {
    "defaultKernelName": "pwsh",
    "items": [
     {
      "aliases": [
       "powershell"
      ],
      "languageName": "PowerShell",
      "name": "pwsh"
     },
     {
      "aliases": [
       "frontend"
      ],
      "languageName": null,
      "name": "vscode"
     }
    ]
   }
  }
 },
 "nbformat": 4,
 "nbformat_minor": 2
}
