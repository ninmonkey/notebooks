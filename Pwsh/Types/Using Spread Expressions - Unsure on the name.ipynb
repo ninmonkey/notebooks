{
 "cells": [
  {
   "cell_type": "code",
   "execution_count": 59,
   "metadata": {
    "dotnet_interactive": {
     "language": "pwsh"
    },
    "polyglot_notebook": {
     "kernelName": "pwsh"
    }
   },
   "outputs": [
    {
     "name": "stdout",
     "output_type": "stream",
     "text": [
      "Last Ran: 2022-12-22 16:52:25Z\n",
      "Using Pwsh: 7.3.0\n"
     ]
    }
   ],
   "source": [
    "# This is similar to JavaScript's and Python's <https://developer.mozilla.org/en-US/docs/Web/JavaScript/Reference/Operators/Spread_syntax>\n",
    "\n",
    "Get-Date | % tostring 'u' | Join-String -op 'Last Ran: '\n",
    "$PSVersionTable.PSVersion.ToString() | Join-String -op 'Using Pwsh: '"
   ]
  },
  {
   "cell_type": "code",
   "execution_count": 60,
   "metadata": {
    "dotnet_interactive": {
     "language": "pwsh"
    },
    "polyglot_notebook": {
     "kernelName": "pwsh"
    }
   },
   "outputs": [],
   "source": [
    "<#\n",
    " original scratch dump\n",
    "$head, $segments = 'a/c' -split '/'\n",
    "$null -eq $segments\n",
    "\n",
    "$head, $segments = 'ac' -split '/'\n",
    "$null -eq $segments\n",
    "$segments\n",
    "\n",
    "$head, [object[]]$segments = 'a' -split '/'\n",
    "$null -eq $segments\n",
    "$segments.count\n",
    "($segments)?.gettype() ?? '<null val expression>'\n",
    "\n",
    "$head2, [object[]]$segments2 = 'a/c' -split '/'\n",
    "$null -eq $segments2\n",
    "$segments2.count\n",
    "$segments2.gettype()\n",
    "\n",
    "#>"
   ]
  },
  {
   "cell_type": "code",
   "execution_count": 67,
   "metadata": {
    "dotnet_interactive": {
     "language": "pwsh"
    },
    "polyglot_notebook": {
     "kernelName": "pwsh"
    }
   },
   "outputs": [
    {
     "name": "stdout",
     "output_type": "stream",
     "text": [
      "label: cellStuff\n",
      "\n",
      "    true $null?= False\n",
      "    Count?     = 1\n",
      "    Type ?     = System.String[]\n",
      "    Values?    =  [ a ] \n"
     ]
    }
   ],
   "source": [
    "$Sample = @{\n",
    "    NoCrumb = 'c'\n",
    "    OneCrumb = 'c/docs'\n",
    "    ManyCrumb = 'c/docs/pwsh'\n",
    "}\n",
    "$Str = @{ NullSymbol = '␀' }\n",
    "$RegexSplit = '/'\n",
    "\n",
    "function formatResult {\n",
    "    param( \n",
    "        [string]$Label = '?',\n",
    "        [Parameter(Mandatory)]$InputObject )\n",
    "    'label: {0}' -f @( $Label )\n",
    "    @(\n",
    "        ''\n",
    "        'true $null?= {0}'  -f @( $Null -eq $InputObject )\n",
    "        'Count?     = {0}'  -f @( $InputObject.Count )\n",
    "        'Type ?     = {0}'  -f @( ($InputObject)?.GetType() ?? $Str.NullSymbol )\n",
    "        'Values?    = {0}' -f @(\n",
    "            $InputObject | Join-string -sep ', ' -op \" [ \" -os \" ] \"\n",
    "        )\n",
    "    ) | Join-String -sep \"`n    \" \n",
    "}\n",
    "$stuff = 'a' -split '\\.'\n",
    "FormatResult 'cellStuff' $Stuff\n",
    "\n",
    "#$null -eq $stuff\n",
    "#$stuff.Count\n",
    "#$stuff.GetType().FullName"
   ]
  },
  {
   "attachments": {},
   "cell_type": "markdown",
   "metadata": {
    "dotnet_interactive": {
     "language": "pwsh"
    },
    "polyglot_notebook": {
     "kernelName": "pwsh"
    }
   },
   "source": [
    "## Quick summary, so I don't forget. to add to blocks\n",
    "\n",
    "```yaml\n",
    "tests1:\n",
    "- command: |\n",
    "    $stuff = 'a.b.c' -split '\\.'\n",
    "- ResultType: [String[]]\n",
    "- command: |\n",
    "    $stuff = 'a' -split '\\.'\n",
    "- ResultType: [String[]]\n",
    "\n",
    "```\n",
    "\n",
    "### NumVars = 1 : x \n",
    "\n",
    "\n",
    "input: \n",
    "| TestInput | . |\n",
    "| - | - |\n",
    "| Input | `a` |\n",
    "| Desc | result is a scalar |\n",
    "| Expects | Len 0 |\n",
    "\n",
    "| . | Results |\n",
    "| - | - |\n",
    "| x | `a`  |\n",
    "| y | `$null`  |\n",
    "| z | `$null`  |\n",
    "\n",
    "output:\n",
    "\n",
    "| . | TypeInfo |\n",
    "| - | - |\n",
    "| x | is array. countlast is |\n",
    "\n",
    "### NumVars = 2 : x, y\n",
    "### NumVars = 3 : x, y, z\n",
    "\n",
    "' !! case [1.Pair]   : ManyCrumb: x, y, z[]'\n",
    "' !! case [1.Single] : ManyCrumb: x, z[]'\n",
    "\n",
    "' !! case [2.A] : OneCrumb = x, y'"
   ]
  },
  {
   "attachments": {},
   "cell_type": "markdown",
   "metadata": {
    "dotnet_interactive": {
     "language": "pwsh"
    },
    "polyglot_notebook": {
     "kernelName": "pwsh"
    }
   },
   "source": [
    "## Checklist and markdown test\n",
    "\n",
    "### NumVars = 1 : x \n",
    "\n",
    "input: \n",
    "| TestInput | . |\n",
    "| - | - |\n",
    "| Input | `a` |\n",
    "| Desc | result is a scalar |\n",
    "| Expects | Len 0 |\n",
    "\n",
    "| . | Results |\n",
    "| - | - |\n",
    "| x | `a`  |\n",
    "| y | `$null`  |\n",
    "| z | `$null`  |\n",
    "\n",
    "output:\n",
    "\n",
    "| . | TypeInfo |\n",
    "| - | - |\n",
    "| x | is array. countlast is |\n",
    "\n",
    "### NumVars = 2 : x, y\n",
    "### NumVars = 3 : x, y, z\n",
    "\n",
    "' !! case [1.Pair]   : ManyCrumb: x, y, z[]'\n",
    "' !! case [1.Single] : ManyCrumb: x, z[]'\n",
    "\n",
    "' !! case [2.A] : OneCrumb = x, y'"
   ]
  },
  {
   "attachments": {},
   "cell_type": "markdown",
   "metadata": {
    "dotnet_interactive": {
     "language": "pwsh"
    },
    "polyglot_notebook": {
     "kernelName": "pwsh"
    }
   },
   "source": [
    "Checklist and markdown test\n",
    "\n",
    "## NumVars = 1 : x \n",
    "\n",
    "input: \n",
    "| TestInput | . |\n",
    "| - | - |\n",
    "| Input | `a` |\n",
    "| Desc | result is a scalar |\n",
    "| Expects | Len 0 |\n",
    "\n",
    "| . | Results |\n",
    "| - | - |\n",
    "| x | `a`  |\n",
    "| y | `$null`  |\n",
    "| z | `$null`  |\n",
    "\n",
    "output:\n",
    "\n",
    "| . | TypeInfo |\n",
    "| - | - |\n",
    "| x | is array. countlast is |\n",
    "\n",
    "## NumVars = 2 : x, y\n",
    "## NumVars = 3 : x, y, z\n",
    "\n",
    "' !! case [1.Pair]   : ManyCrumb: x, y, z[]'\n",
    "' !! case [1.Single] : ManyCrumb: x, z[]'\n",
    "\n",
    "' !! case [2.A] : OneCrumb = x, y'"
   ]
  },
  {
   "cell_type": "markdown",
   "metadata": {
    "dotnet_interactive": {
     "language": "pwsh"
    },
    "polyglot_notebook": {
     "kernelName": "pwsh"
    }
   },
   "source": [
    "|\n",
    "\n",
    "## NumVars = 2 : x, y\n",
    "## NumVars = 3 : x, y, z\n",
    "\n",
    "' !! case [1.Pair]   : ManyCrumb: x, y, z[]'\n",
    "' !! case [1.Single] : ManyCrumb: x, z[]'\n",
    "\n",
    "' !! case [2.A] : OneCrumb = x, y'"
   ]
  },
  {
   "cell_type": "markdown",
   "metadata": {
    "dotnet_interactive": {
     "language": "pwsh"
    },
    "polyglot_notebook": {
     "kernelName": "pwsh"
    }
   },
   "source": []
  },
  {
   "cell_type": "code",
   "execution_count": 65,
   "metadata": {
    "dotnet_interactive": {
     "language": "pwsh"
    },
    "polyglot_notebook": {
     "kernelName": "pwsh"
    }
   },
   "outputs": [
    {
     "name": "stdout",
     "output_type": "stream",
     "text": [
      " !! case [1] : rest is array \n",
      "Inputs: = \n",
      "\n",
      "\n",
      "Head: \"c\"\n",
      "\n",
      "\n",
      "firstCrumb: \"docs\"\n",
      "\n",
      "\n",
      "rest: \"pwsh\"\n"
     ]
    }
   ],
   "source": [
    "# Normally I wouldn't remove-variable but it's a notebook.\n",
    "# I need to ensure they start the same.\n",
    "Remove-Variable 'head', 'rest', 'firstCrumb' -ea 'ignore'\n",
    "function Br { param([int]$Count = 1) \"`n\" * $Count -join '' }\n",
    "\n",
    "' !! case [1.Pair]   : ManyCrumb: x, y, z[]'\n",
    "' !! case [1.Single] : ManyCrumb: x, z[]'\n",
    "\n",
    "' !! case [2.A] : OneCrumb = x, y'\n",
    "# case [2] : rest is empty\n",
    "# case [3] : rest is scalar\n",
    "\n",
    "$head, $firstCrumb, $rest  = $Sample.ManyCrumb -split $RegexSplit\n",
    "# $head, $firstCrumb, $rest\n",
    "\n",
    "$Sample.Array -split $RegexSplit\n",
    "| Join-String -sep ', ' -op \"Inputs: = \"\n",
    "\n",
    "Br\n",
    "$Head | ConvertTo-Json\n",
    "| Join-String -op \"Head: \"\n",
    "\n",
    "Br\n",
    "$firstCrumb | ConvertTo-Json | Join-String -op 'firstCrumb: '\n",
    "\n",
    "Br\n",
    "$rest | ConvertTo-Json | Join-String -op 'rest: '\n"
   ]
  },
  {
   "cell_type": "code",
   "execution_count": 63,
   "metadata": {
    "dotnet_interactive": {
     "language": "pwsh"
    },
    "polyglot_notebook": {
     "kernelName": "pwsh"
    }
   },
   "outputs": [
    {
     "name": "stdout",
     "output_type": "stream",
     "text": [
      " !! case [1] : rest is array \n",
      "Inputs: = \n",
      "\n",
      "\n",
      "Head: \"\"\n",
      "\n",
      "\n",
      "firstCrumb: null\n",
      "\n",
      "\n",
      "rest: null\n"
     ]
    }
   ],
   "source": [
    "Remove-Variable 'head', 'rest', 'firstCrumb' -ea 'ignore'\n",
    "function Br { param([int]$Count = 1) \"`n\" * $Count -join '' }\n",
    "' !! case [1] : rest is array '\n",
    "# Normally I wouldn't remove-variable but it's a notebook.\n",
    "# I need to ensure they start the same.\n",
    "\n",
    "# case [2] : rest is empty\n",
    "# case [3] : rest is scalar\n",
    "\n",
    "$head, $firstCrumb, $rest  = $Sample.Empty -split $RegexSplit\n",
    "# $head, $firstCrumb, $rest\n",
    "\n",
    "$Sample.Array -split $RegexSplit\n",
    "| Join-String -sep ', ' -op \"Inputs: = \"\n",
    "\n",
    "Br\n",
    "$Head | ConvertTo-Json\n",
    "| Join-String -op \"Head: \"\n",
    "\n",
    "Br\n",
    "$firstCrumb | ConvertTo-Json | Join-String -op 'firstCrumb: '\n",
    "\n",
    "Br\n",
    "$rest | ConvertTo-Json | Join-String -op 'rest: '\n"
   ]
  },
  {
   "cell_type": "code",
   "execution_count": 64,
   "metadata": {
    "dotnet_interactive": {
     "language": "pwsh"
    },
    "polyglot_notebook": {
     "kernelName": "pwsh"
    }
   },
   "outputs": [],
   "source": []
  }
 ],
 "metadata": {
  "kernelspec": {
   "display_name": ".NET (PowerShell)",
   "language": "PowerShell",
   "name": ".net-pwsh"
  },
  "polyglot_notebook": {
   "kernelInfo": {
    "defaultKernelName": "pwsh",
    "items": [
     {
      "aliases": [
       "powershell"
      ],
      "languageName": "PowerShell",
      "name": "pwsh"
     },
     {
      "aliases": [
       "frontend"
      ],
      "languageName": null,
      "name": "vscode"
     }
    ]
   }
  }
 },
 "nbformat": 4,
 "nbformat_minor": 2
}
