{
 "cells": [
  {
   "cell_type": "code",
   "execution_count": 88,
   "metadata": {
    "dotnet_interactive": {
     "language": "pwsh"
    },
    "polyglot_notebook": {
     "language": "pwsh"
    },
    "vscode": {
     "languageId": "dotnet-interactive.pwsh"
    }
   },
   "outputs": [
    {
     "name": "stdout",
     "output_type": "stream",
     "text": [
      "MaybeString = String\r\n",
      "MaybeString = Int32\r\n",
      "alwaysNumber = Int32\r\n",
      "alwaysNumber = Int32\r\n"
     ]
    }
   ],
   "source": [
    "$maybeString = '1234'\n",
    "$maybeString.GetType().Name | Join-string -op 'MaybeString = '\n",
    "$maybeString = 1234\n",
    "$maybeString.GetType().Name | Join-string -op 'MaybeString = '\n",
    "\n",
    "[int]$alwaysNumber = 1234\n",
    "$alwaysNumber = '1234'\n",
    "$alwaysNumber.GetType().Name | Join-string -op 'alwaysNumber = '\n",
    "$alwaysNumber = 1234\n",
    "$alwaysNumber.GetType().Name | Join-string -op 'alwaysNumber = '\n"
   ]
  },
  {
   "cell_type": "code",
   "execution_count": 89,
   "metadata": {
    "dotnet_interactive": {
     "language": "csharp"
    },
    "vscode": {
     "languageId": "dotnet-interactive.csharp"
    }
   },
   "outputs": [
    {
     "name": "stdout",
     "output_type": "stream",
     "text": [
      "message = System.String\r\n",
      "maybeStr = System.String\r\n",
      "maybeStr = System.DateTime\r\n"
     ]
    }
   ],
   "source": [
    "// In c# it's more clear, that  maybeString's type can change, because it's [object]\n",
    "string message = \"Hi World!\";\n",
    "Console.WriteLine( \"message = {0}\", message.GetType() );\n",
    "\n",
    "object maybeString = \"other\";\n",
    "Console.WriteLine( \"maybeStr = {0}\", maybeString.GetType() );\n",
    "\n",
    "maybeString = DateTime.Now;\n",
    "Console.WriteLine( \"maybeStr = {0}\", maybeString.GetType() );"
   ]
  },
  {
   "cell_type": "code",
   "execution_count": 90,
   "metadata": {
    "dotnet_interactive": {
     "language": "pwsh"
    },
    "vscode": {
     "languageId": "dotnet-interactive.pwsh"
    }
   },
   "outputs": [
    {
     "name": "stdout",
     "output_type": "stream",
     "text": [
      "a, b, c, d, e, f, g\r\n",
      "\r\n",
      "\u001b[32;1mIsPublic IsSerial Name                                     BaseType\u001b[0m\r\n",
      "\u001b[32;1m-------- -------- ----                                     --------\u001b[0m\r\n",
      "True     True     List`1                                   System.Object\r\n",
      "True     True     String                                   System.Object\r\n",
      "7\r\n",
      "\n",
      "-----\n",
      "\r\n",
      "1, 2, 3, 4, 5\r\n",
      "True     True     List`1                                   System.Object\r\n",
      "True     True     String                                   System.Object\r\n",
      "5\r\n",
      "\r\n"
     ]
    }
   ],
   "source": [
    "[Collections.Generic.List[string]]$Letters = 'a'..'g'\n",
    "$Letters -join ', ' \n",
    "\n",
    "$Letters.GetType()          # is [List[String]]\n",
    "@($Letters)[0].GetType()    # is [String]\n",
    "$letters.count              # 7 elements\n",
    "\n",
    "\"`n-----`n\"\n",
    "\n",
    "# try changing the type to numbers\n",
    "$Letters = @(1..5)\n",
    "$Letters -join ', ' \n",
    "\n",
    "$Letters.GetType()          # is [List[String]]\n",
    "@($Letters)[0].GetType()    # is [String]\n",
    "$letters.count              # 5 elements"
   ]
  },
  {
   "cell_type": "code",
   "execution_count": 91,
   "metadata": {
    "dotnet_interactive": {
     "language": "pwsh"
    },
    "vscode": {
     "languageId": "dotnet-interactive.pwsh"
    }
   },
   "outputs": [],
   "source": [
    "[Collections.Generic.List[object]]$Letters = 'a'..'g'\n",
    "\n",
    "# is essentially implicitly calling the constructor for you\n",
    "$LettersArray = 'a'..'g'\n",
    "[Collections.Generic.List[object]]$Letters = [Collections.Generic.List[object]]::new( $LettersArray )"
   ]
  },
  {
   "cell_type": "markdown",
   "metadata": {},
   "source": []
  },
  {
   "cell_type": "code",
   "execution_count": 92,
   "metadata": {
    "dotnet_interactive": {
     "language": "pwsh"
    },
    "vscode": {
     "languageId": "dotnet-interactive.pwsh"
    }
   },
   "outputs": [
    {
     "name": "stdout",
     "output_type": "stream",
     "text": [
      "\r\n",
      "\u001b[32;1mIsPublic IsSerial Name                                     BaseType\u001b[0m\r\n",
      "\u001b[32;1m-------- -------- ----                                     --------\u001b[0m\r\n",
      "True     True     Object[]                                 System.Array\r\n",
      "True     True     Object[]                                 System.Array\r\n",
      "True     True     Object[]                                 System.Array\r\n",
      "True     True     DateTime                                 System.ValueType\r\n",
      "\r\n"
     ]
    }
   ],
   "source": [
    "[object[]]$AlwaysArray = 1, 2, 3   # is: [object[]] strongly typed\n",
    "$SometimesArray = @(1, 2, 3)       # is: [object[]] without a strong type\n",
    "\n",
    "$AlwaysArray.GetType()          # is: [object[]] strongly typed\n",
    "$SometimesArray.GetType()       # is: [object[]] not strong type\n",
    "\n",
    "$AlwaysArray = get-date            # is: \n",
    "$SometimesArray = get-date\n",
    "\n",
    "$AlwaysArray.GetType()\n",
    "$SometimesArray.GetType()"
   ]
  },
  {
   "cell_type": "code",
   "execution_count": 1,
   "metadata": {
    "dotnet_interactive": {
     "language": "pwsh"
    },
    "vscode": {
     "languageId": "dotnet-interactive.pwsh"
    }
   },
   "outputs": [
    {
     "name": "stdout",
     "output_type": "stream",
     "text": [
      "\r\n",
      "\u001b[32;1mIsPublic IsSerial Name                                     BaseType\u001b[0m\r\n",
      "\u001b[32;1m-------- -------- ----                                     --------\u001b[0m\r\n",
      "True     True     Object[]                                 System.Array\r\n",
      "True     True     DateTime                                 System.ValueType\r\n",
      "True     True     Object[]                                 System.Array\r\n",
      "True     True     DateTime                                 System.ValueType\r\n",
      "\r\n"
     ]
    }
   ],
   "source": [
    "[object[]]$AlwaysArray = @()\n",
    "$SometimesArray = @()\n",
    "\n",
    "$AlwaysArray = get-date\n",
    "$SometimesArray = get-date\n",
    "\n",
    "$AlwaysArray.GetType()     # \n",
    "$SometimesArray.GetType()\n",
    "\n",
    "$AlwaysArray.GetType()\n",
    "$SometimesArray.GetType()"
   ]
  },
  {
   "cell_type": "code",
   "execution_count": 95,
   "metadata": {
    "dotnet_interactive": {
     "language": "pwsh"
    },
    "vscode": {
     "languageId": "dotnet-interactive.pwsh"
    }
   },
   "outputs": [],
   "source": [
    "# A common example\n",
    "\n",
    "\n",
    "    # $files is [object[]] but it's weakly typed\n",
    "    $Files = @(gci $Path)\n",
    "    \n",
    "    # Now it's strongly typed\n",
    "    # I have it typed to always be a list of objects\n",
    "    [object[]]$Files = @(gci $Path)\n",
    "    \n",
    "# a quick mention about modern arrays\n",
    "\n",
    "    [Collections.Generic.List[object]]$files = @(gci $Path)\n",
    "    # there is no output that you need to pipe to null\n",
    "    # and it doesn't have to re-allocate the entire array\n",
    "    # if you were to use the += operator in powershell\n",
    "    $Files.Add( ( Get-Item '.') )"
   ]
  },
  {
   "attachments": {},
   "cell_type": "markdown",
   "metadata": {},
   "source": [
    "<!--\n",
    "old \n",
    "function str.Type { \n",
    "    <#\n",
    "    .synopsis\n",
    "        render an objects type as a short name\n",
    "    #>\n",
    "    param(\n",
    "        [switch]$WithNamespace\n",
    "    )\n",
    "    process {\n",
    "        if(-not $WithNamespace) {             \n",
    "            return $_.GetType().Name\n",
    "        }\n",
    "        # ((,$_.GetType()).ToString()) -replace '\\bSystem\\.', ''\n",
    "        ((,$_.GetType()).ToString()) -replace '\\bSystem\\.', ''\n",
    "    }\n",
    "}\n",
    "\n",
    "\n",
    "-->"
   ]
  },
  {
   "cell_type": "code",
   "execution_count": 108,
   "metadata": {
    "dotnet_interactive": {
     "language": "pwsh"
    },
    "vscode": {
     "languageId": "dotnet-interactive.pwsh"
    }
   },
   "outputs": [
    {
     "name": "stdout",
     "output_type": "stream",
     "text": [
      "\r\n",
      "\u001b[32;1mElementTypes   SelfType\u001b[0m\r\n",
      "\u001b[32;1m------------   --------\u001b[0m\r\n",
      "String, String List`1\r\n",
      "\r\n",
      "\r\n",
      "\u001b[32;1mElementTypes SelfType\u001b[0m\r\n",
      "\u001b[32;1m------------ --------\u001b[0m\r\n",
      "Int32, Int32 List`1\r\n",
      "\r\n",
      "Int32\r\n",
      "Int32\r\n",
      "List`1\r\n"
     ]
    }
   ],
   "source": [
    "# You can control coercing with strong types\n",
    "[string[]]$NameList = 12, '34' # coerces to [string[]]\n",
    "[object[]]$AnyList =  12, '34' # keeps objects as is, [object[]]\n",
    "\n",
    "[Collections.Generic.List[string]]$list = 12, '34' # is [List[string]]\n",
    "[pscustomobject]@{\n",
    "   ElementTypes = $List | % GetType | Join-String Name -sep ', '\n",
    "   SelfType = ,$List | % GetType | Join-String Name -sep ', '\n",
    "}\n",
    "\n",
    "[Collections.Generic.List[int]]$list = '3.14', 0x2345\n",
    "[pscustomobject]@{\n",
    "   ElementTypes = $List | % GetType | Join-String Name -sep ', '\n",
    "   SelfType = ,$List | % GetType | Join-String Name -sep ', '\n",
    "} | ft\n",
    "# hr\n",
    "$list | % GetType | % Name\n",
    ",$list | % GetType | % Name"
   ]
  }
 ],
 "metadata": {
  "kernelspec": {
   "display_name": ".NET (PowerShell)",
   "language": "PowerShell",
   "name": ".net-pwsh"
  },
  "language_info": {
   "name": "PowerShell"
  }
 },
 "nbformat": 4,
 "nbformat_minor": 2
}
