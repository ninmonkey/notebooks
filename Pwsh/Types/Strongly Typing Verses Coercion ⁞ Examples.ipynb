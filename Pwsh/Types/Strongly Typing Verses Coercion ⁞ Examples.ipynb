{
 "cells": [
  {
   "cell_type": "code",
   "execution_count": 5,
   "metadata": {
    "dotnet_interactive": {
     "language": "pwsh"
    },
    "polyglot_notebook": {
     "language": "pwsh"
    },
    "vscode": {
     "languageId": "dotnet-interactive.pwsh"
    }
   },
   "outputs": [
    {
     "name": "stdout",
     "output_type": "stream",
     "text": [
      "MaybeString = String\r\n",
      "MaybeString = Int32\r\n",
      "alwaysNumber = Int32\r\n",
      "alwaysNumber = Int32\r\n"
     ]
    }
   ],
   "source": [
    "$maybeString = '1234'\n",
    "$maybeString.GetType().Name | Join-string -op 'MaybeString = '\n",
    "$maybeString = 1234\n",
    "$maybeString.GetType().Name | Join-string -op 'MaybeString = '\n",
    "\n",
    "[int]$alwaysNumber = 1234\n",
    "$alwaysNumber = '1234'\n",
    "$alwaysNumber.GetType().Name | Join-string -op 'alwaysNumber = '\n",
    "$alwaysNumber = 1234\n",
    "$alwaysNumber.GetType().Name | Join-string -op 'alwaysNumber = '\n"
   ]
  },
  {
   "cell_type": "code",
   "execution_count": 23,
   "metadata": {
    "dotnet_interactive": {
     "language": "pwsh"
    },
    "vscode": {
     "languageId": "dotnet-interactive.pwsh"
    }
   },
   "outputs": [
    {
     "name": "stdout",
     "output_type": "stream",
     "text": [
      "a, b, c, d, e, f, g\r\n",
      "\r\n",
      "\u001b[32;1mIsPublic IsSerial Name                                     BaseType\u001b[0m\r\n",
      "\u001b[32;1m-------- -------- ----                                     --------\u001b[0m\r\n",
      "True     True     List`1                                   System.Object\r\n",
      "True     True     String                                   System.Object\r\n",
      "7\r\n",
      "\n",
      "-----\n",
      "\r\n",
      "1, 2, 3, 4, 5\r\n",
      "True     True     List`1                                   System.Object\r\n",
      "True     True     String                                   System.Object\r\n",
      "5\r\n",
      "\r\n"
     ]
    }
   ],
   "source": [
    "[Collections.Generic.List[string]]$Letters = 'a'..'g'\n",
    "$Letters -join ', ' \n",
    "\n",
    "$Letters.GetType()          # is [List[String]]\n",
    "@($Letters)[0].GetType()    # is [String]\n",
    "$letters.count              # 7 elements\n",
    "\n",
    "\"`n-----`n\"\n",
    "\n",
    "# try changing the type to numbers\n",
    "$Letters = @(1..5)\n",
    "$Letters -join ', ' \n",
    "\n",
    "$Letters.GetType()          # is [List[String]]\n",
    "@($Letters)[0].GetType()    # is [String]\n",
    "$letters.count              # 5 elements"
   ]
  },
  {
   "cell_type": "code",
   "execution_count": 19,
   "metadata": {
    "dotnet_interactive": {
     "language": "pwsh"
    },
    "vscode": {
     "languageId": "dotnet-interactive.pwsh"
    }
   },
   "outputs": [],
   "source": [
    "[Collections.Generic.List[object]]$Letters = 'a'..'g'\n",
    "\n",
    "# is essentially implicitly calling the constructor for you\n",
    "$LettersArray = 'a'..'g'\n",
    "[Collections.Generic.List[object]]$Letters = [Collections.Generic.List[object]]::new( $LettersArray )"
   ]
  }
 ],
 "metadata": {
  "kernelspec": {
   "display_name": ".NET (PowerShell)",
   "language": "PowerShell",
   "name": ".net-pwsh"
  },
  "language_info": {
   "name": "PowerShell"
  }
 },
 "nbformat": 4,
 "nbformat_minor": 2
}
