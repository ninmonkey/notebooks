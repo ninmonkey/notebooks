{
 "cells": [
  {
   "cell_type": "markdown",
   "metadata": {
    "dotnet_interactive": {
     "language": "pwsh"
    },
    "polyglot_notebook": {
     "language": "pwsh"
    }
   },
   "source": [
    "Passing arrays (instead of piping) makes it easier to pass arrays, without having to  manually wrap\n",
    "You can make it a little easier to prevent enumerating the array by passing it in a collection of some kind. Hashtable, Class, etc."
   ]
  },
  {
   "cell_type": "code",
   "execution_count": 2,
   "metadata": {
    "dotnet_interactive": {
     "language": "pwsh"
    },
    "vscode": {
     "languageId": "dotnet-interactive.pwsh"
    }
   },
   "outputs": [
    {
     "name": "stdout",
     "output_type": "stream",
     "text": [
      "\u001b[91m10\u001b[39m\r\n",
      "\u001b[93m{\"Items\":[0,1,2,3,4,5,6,7,8,9],\"Id\":4}\u001b[39m\r\n",
      "\u001b[91m10\u001b[39m\r\n",
      "\u001b[94m{\"Items\":[0,1,2,3,4,5,6,7,8,9],\"Id\":4}\u001b[39m\r\n"
     ]
    }
   ],
   "source": [
    "class Package {\n",
    "    [object[]]$Items = @()\n",
    "    [int]$Id = 0\n",
    "}\n",
    "\n",
    "$stuff = [Package]@{\n",
    "   Items = 0..9\n",
    "   Id = 4\n",
    "}\n",
    "\n",
    "function moreStuff {\n",
    "   # nested calls\n",
    "   param( $x )\n",
    "   $x.Items.Count | write-host -fore red\n",
    "   $x | ConvertTo-Json -Compress | write-host -fore Blue\n",
    "   # $x | ConvertTo-Json | write-host -fg 'c2aa7b'   \n",
    "}\n",
    "\n",
    "function foo { \n",
    "   param( $x )\n",
    "   $x.Items.Count | write-host -fore red\n",
    "   $x | ConvertTo-Json -Compress | write-host -fore yellow   \n",
    "   # $x | ConvertTo-Json | write-host -fg '8266c1'\n",
    "\n",
    "   moreStuff $x\n",
    "}\n",
    "\n",
    "foo $stuff\n"
   ]
  },
  {
   "cell_type": "code",
   "execution_count": 3,
   "metadata": {
    "dotnet_interactive": {
     "language": "pwsh"
    },
    "vscode": {
     "languageId": "dotnet-interactive.pwsh"
    }
   },
   "outputs": [
    {
     "name": "stdout",
     "output_type": "stream",
     "text": [
      "\u001b[91m10\u001b[39m\r\n",
      "\u001b[93m{\"Items\":[0,1,2,3,4,5,6,7,8,9],\"Id\":4}\u001b[39m\r\n"
     ]
    }
   ],
   "source": [
    "\n",
    "function FromPipe { \n",
    "   param(\n",
    "      [Parameter(Mandatory, ValueFromPipeline)]\n",
    "      [object]$InputObject\n",
    "   )\n",
    "   process {\n",
    "      $InputObject.Items.Count | write-host -fore red\n",
    "      $InputObject | ConvertTo-Json -Compress | write-host -fore yellow\n",
    "      # $InputObject | ConvertTo-Json -Compress | write-host -fg '859b78'\n",
    "\n",
    "   }\n",
    "}\n",
    "\n",
    "$stuff | FromPipe"
   ]
  },
  {
   "cell_type": "code",
   "execution_count": 15,
   "metadata": {
    "dotnet_interactive": {
     "language": "pwsh"
    },
    "vscode": {
     "languageId": "dotnet-interactive.pwsh"
    }
   },
   "outputs": [
    {
     "name": "stdout",
     "output_type": "stream",
     "text": [
      "{\"Items\":[0,1,2,3,4,5,6,7,8,9],\"Id\":4}\r\n",
      "{\"Items\":[0,1,2,3,4,5,6,7,8,9],\"Id\":4}\r\n",
      "{\"Items\":[0,1,2,3,4,5,6,7,8,9],\"Id\":4}\r\n",
      "{\"Items\":[0,1,2,3,4,5,6,7,8,9],\"Id\":4}\r\n",
      "\r\n",
      "\u001b[32;1mItems         Id\u001b[0m\r\n",
      "\u001b[32;1m-----         --\u001b[0m\r\n",
      "{0, 1, 2, 3…}  4\r\n",
      "\r\n"
     ]
    }
   ],
   "source": [
    "$PSDefaultParameterValues['FromPipe2:infa'] = 'continue'\n",
    "function FromPipe2 { \n",
    "   # Never ending\n",
    "   [CmdletBinding()]\n",
    "   param(\n",
    "      [Parameter(Mandatory, ValueFromPipeline)]\n",
    "      [object]$InputObject\n",
    "   )\n",
    "   process {      \n",
    "      $InputObject | ConvertTo-Json -Compress | write-information\n",
    "      $InputObject\n",
    "      # $InputObject | ConvertTo-Json -Compress | write-host -fg '859b78'\n",
    "\n",
    "   }\n",
    "}\n",
    "\n",
    "$stuff | FromPipe2 | FromPipe2 | FromPipe2 | FromPipe2"
   ]
  }
 ],
 "metadata": {
  "kernelspec": {
   "display_name": ".NET (PowerShell)",
   "language": "PowerShell",
   "name": ".net-pwsh"
  },
  "language_info": {
   "name": "PowerShell"
  }
 },
 "nbformat": 4,
 "nbformat_minor": 2
}
