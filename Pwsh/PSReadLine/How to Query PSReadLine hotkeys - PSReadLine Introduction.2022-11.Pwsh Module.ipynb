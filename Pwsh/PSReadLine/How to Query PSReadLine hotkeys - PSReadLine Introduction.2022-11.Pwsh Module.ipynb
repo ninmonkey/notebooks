{
 "cells": [
  {
   "cell_type": "code",
   "execution_count": 38,
   "metadata": {
    "dotnet_interactive": {
     "language": "pwsh"
    },
    "vscode": {
     "languageId": "dotnet-interactive.pwsh"
    }
   },
   "outputs": [],
   "source": [
    "$query_all = Get-PSReadLineKeyHandler -Bound -Unbound \n",
    "\n",
    "function nb.Pager {\n",
    "    <#\n",
    "    .synopsis\n",
    "        minimal, tiny wrapper to capture output that's too long, yet easy to disable\n",
    "    .NOTES\n",
    "        vscode setting defaults to { \"notebook.output.textLineLimit\": 30 }\n",
    "    #>\n",
    "    param( [int]$Limit = 25, [Alias('NoLimit')][switch]$PassThru  )\n",
    "    if($PassThru) {  $Input ; return }\n",
    "    $Input | Select -first $Limit\n",
    "}"
   ]
  },
  {
   "cell_type": "code",
   "execution_count": 39,
   "metadata": {
    "dotnet_interactive": {
     "language": "pwsh"
    },
    "vscode": {
     "languageId": "dotnet-interactive.pwsh"
    }
   },
   "outputs": [
    {
     "name": "stdout",
     "output_type": "stream",
     "text": [
      "Basic, Completion, CursorMovement, Custom, History, Miscellaneous, Prediction, Search, Selection\r\n"
     ]
    }
   ],
   "source": [
    "# Groups to query\n",
    "\n",
    "[enum]::GetNames( [Microsoft.PowerShell.KeyHandlerGroup] ) | sort | join-string -sep ', '"
   ]
  },
  {
   "cell_type": "code",
   "execution_count": 40,
   "metadata": {
    "dotnet_interactive": {
     "language": "pwsh"
    },
    "vscode": {
     "languageId": "dotnet-interactive.pwsh"
    }
   },
   "outputs": [
    {
     "name": "stdout",
     "output_type": "stream",
     "text": [
      "\r\n",
      "\u001b[38;2;235;203;139m# Distribution\u001b[39m\r\n",
      "\r\n",
      "\r\n",
      "\u001b[32;1mCount Name\u001b[0m\r\n",
      "\u001b[32;1m----- ----\u001b[0m\r\n",
      "   90 Basic\r\n",
      "   30 Miscellaneous\r\n",
      "   25 CursorMovement\r\n",
      "   14 Selection\r\n",
      "   11 Search\r\n",
      "   10 History\r\n",
      "    8 Completion\r\n",
      "    5 Prediction\r\n",
      "\r\n"
     ]
    }
   ],
   "source": [
    "h1 'Distribution'\n",
    "\n",
    "$query_all | group Group -NoElement | sort Count -Descending"
   ]
  },
  {
   "attachments": {},
   "cell_type": "markdown",
   "metadata": {},
   "source": []
  },
  {
   "cell_type": "code",
   "execution_count": 55,
   "metadata": {
    "dotnet_interactive": {
     "language": "pwsh"
    },
    "vscode": {
     "languageId": "dotnet-interactive.pwsh"
    }
   },
   "outputs": [
    {
     "name": "stdout",
     "output_type": "stream",
     "text": [
      "\r\n",
      "\u001b[38;2;235;203;139m# searching current bindings\u001b[39m\r\n",
      "\r\n",
      "\r\n",
      "History functions\r\n",
      "=================\r\n",
      "\r\n",
      "\u001b[32;1mKey       Function              Description\u001b[0m\r\n",
      "\u001b[32;1m---       --------              -----------\u001b[0m\r\n",
      "Alt+F7    ClearHistory          Remove all items from the command line history (not PowerShell his…\r\n",
      "Ctrl+s    ForwardSearchHistory  Search history forward interactively\r\n",
      "F8        HistorySearchBackward Search for the previous item in the history that starts with the c…\r\n",
      "Shift+F8  HistorySearchForward  Search for the next item in the history that starts with the curre…\r\n",
      "DownArrow NextHistory           Replace the input with the next item in the history\r\n",
      "UpArrow   PreviousHistory       Replace the input with the previous item in the history\r\n",
      "Ctrl+r    ReverseSearchHistory  Search history backwards interactively\r\n",
      "\r\n"
     ]
    }
   ],
   "source": [
    "h1 'searching current bindings'\n",
    "$bound = Get-PSReadLineKeyHandler -Bound\n",
    "\n",
    "$bound | ? Function -match 'history' | Sort Function | ft -wrap:$false"
   ]
  },
  {
   "cell_type": "code",
   "execution_count": 49,
   "metadata": {
    "dotnet_interactive": {
     "language": "pwsh"
    },
    "vscode": {
     "languageId": "dotnet-interactive.pwsh"
    }
   },
   "outputs": [
    {
     "name": "stdout",
     "output_type": "stream",
     "text": [
      "\r\n",
      "Basic editing functions\r\n",
      "=======================\r\n",
      "\r\n",
      "\u001b[32;1mKey              Function        Description\u001b[0m\r\n",
      "\u001b[32;1m---              --------        -----------\u001b[0m\r\n",
      "Shift+Enter      AddLine         Move the cursor to the next line without attempting to execute th…\r\n",
      "Ctrl+Enter       InsertLineAbove Inserts a new empty line above the current line without attemptin…\r\n",
      "Shift+Ctrl+Enter InsertLineBelow Inserts a new empty line below the current line without attemptin…\r\n",
      "\r\n",
      "\r\n",
      "Basic editing functions\r\n",
      "=======================\r\n",
      "\r\n",
      "\u001b[32;1mKey              Function        Description\u001b[0m\r\n",
      "\u001b[32;1m---              --------        -----------\u001b[0m\r\n",
      "Ctrl+Enter       InsertLineAbove Inserts a new empty line above the current line without attemptin…\r\n",
      "Shift+Ctrl+Enter InsertLineBelow Inserts a new empty line below the current line without attemptin…\r\n",
      "\r\n"
     ]
    }
   ],
   "source": [
    "$bound | ? Description -match 'without.*execute' | ft -wrap:$false\n",
    "\n",
    "$bound | ? Key -match '.*ctrl\\+enter' | ft -wrap:$false"
   ]
  },
  {
   "attachments": {},
   "cell_type": "markdown",
   "metadata": {},
   "source": [
    "## Enum `[KeyHandlerGroup]`\n",
    "\n",
    "```ps1\n",
    "ClassExplorer\\Find-Type KeyHandlerGroup | Utility\\Get-EnumInfo\n",
    "```\n",
    "```ps1\n",
    "Pwsh> ClassExplorer\\Find-Type KeyHandlerGroup\n",
    "      | Utility\\Get-EnumInfo\n",
    "\n",
    "    Enum: KeyHandlerGroup (int)\n",
    "\n",
    "   Value Name                      Hex        Bits\n",
    "   ----- ----                      ---        ----\n",
    "       0 Basic                     0x0        0000.0000\n",
    "       1 CursorMovement            0x1        0000.0001\n",
    "       2 History                   0x2        0000.0010\n",
    "       3 Completion                0x3        0000.0011\n",
    "       4 Prediction                0x4        0000.0100\n",
    "       5 Miscellaneous             0x5        0000.0101\n",
    "       6 Selection                 0x6        0000.0110\n",
    "       7 Search                    0x7        0000.0111\n",
    "       8 Custom                    0x8        0000.1000\n",
    "```"
   ]
  },
  {
   "attachments": {},
   "cell_type": "markdown",
   "metadata": {
    "dotnet_interactive": {
     "language": "pwsh"
    }
   },
   "source": [
    "You can search by `Key`/`chord`, `Function`, `Description`, and `Group`\n",
    "\n",
    "```\n",
    "User defined functions\n",
    "======================\n",
    "\n",
    "Key       Function                    Description\n",
    "---       --------                    -----------\n",
    "Ctrl+L    CustomAction                User defined action\n",
    "Alt+%     Expands aliases             Replace all aliases with the full command\n",
    "Alt+]     Indent/Dedent Selected text Indent/Dedent Selected text like VS Code ctrl+[ / ] ctrl+[\n",
    "Alt+[     Indent/Dedent Selected text Indent/Dedent Selected text like VS Code ctrl+[/]\n",
    "(         InsertPairedBraces          Insert matching braces\n",
    "{         InsertPairedBraces          Insert matching braces\n",
    "[         InsertPairedBraces          Insert matching braces\n",
    "Alt+(     ParenthesizeSelection       Put parenthesis around the selection or entire line and move\n",
    "                                      the cursor to after the closing parenthesis\n",
    "Backspace SmartBackspace              Delete previous character or matching quotes/parens/braces\n",
    ")         SmartCloseBraces            Insert closing brace or skip\n",
    "]         SmartCloseBraces            Insert closing brace or skip\n",
    "}         SmartCloseBraces            Insert closing brace or skip\n",
    "\"         SmartInsertQuote            Warning: Can act strange if combined with \"Toggle Qoute\n",
    "                                      Argument\". Insert paired quotes if not already on a quote\n",
    "'         SmartInsertQuote            Warning: Can act strange if combined with \"Toggle Qoute\n",
    "                                      Argument\". Insert paired quotes if not already on a quote\n",
    "```"
   ]
  },
  {
   "cell_type": "code",
   "execution_count": 62,
   "metadata": {
    "dotnet_interactive": {
     "language": "pwsh"
    },
    "vscode": {
     "languageId": "dotnet-interactive.pwsh"
    }
   },
   "outputs": [
    {
     "name": "stdout",
     "output_type": "stream",
     "text": [
      "\r\n",
      "Basic editing functions\r\n",
      "=======================\r\n",
      "\r\n",
      "\u001b[32;1mKey            Function            Description\u001b[0m\r\n",
      "\u001b[32;1m---            --------            -----------\u001b[0m\r\n",
      "Enter          AcceptLine          Accept the input or move to the next line if input is missing a\r\n",
      "                                   closing token.\r\n",
      "Shift+Enter    AddLine             Move the cursor to the next line without attempting to execute\r\n",
      "                                   the input\r\n",
      "Backspace      BackwardDeleteChar  Delete the character before the cursor\r\n",
      "Ctrl+h         BackwardDeleteChar  Delete the character before the cursor\r\n",
      "Ctrl+Home      BackwardDeleteInput Delete text from the cursor to the start of the input\r\n",
      "Ctrl+Backspace BackwardKillWord    Move the text from the start of the current or previous word to\r\n",
      "                                   the cursor to the kill ring\r\n",
      "Ctrl+w         BackwardKillWord    Move the text from the start of the current or previous word to\r\n",
      "                                   the cursor to the kill ring\r\n",
      "Ctrl+C         Copy                Copy selected region to the system clipboard.  If no region is\r\n",
      "                                   selected, copy the whole line\r\n",
      "Ctrl+c         CopyOrCancelLine    Either copy selected text to the clipboard, or if no text is\r\n",
      "                                   selected, cancel editing the line with CancelLine.\r\n",
      "Ctrl+x         Cut                 Delete selected region placing deleted text in the system\r\n",
      "                                   clipboard\r\n",
      "\r\n"
     ]
    }
   ],
   "source": [
    "Get-PSReadLineKeyHandler\n",
    "| sort Group, Function\n",
    "| nb.Pager 10"
   ]
  }
 ],
 "metadata": {
  "kernelspec": {
   "display_name": ".NET (PowerShell)",
   "language": "PowerShell",
   "name": ".net-pwsh"
  },
  "language_info": {
   "name": "PowerShell"
  }
 },
 "nbformat": 4,
 "nbformat_minor": 2
}
