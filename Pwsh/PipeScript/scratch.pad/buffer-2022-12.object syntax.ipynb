{
 "cells": [
  {
   "cell_type": "code",
   "execution_count": null,
   "metadata": {
    "vscode": {
     "languageId": "powershell"
    }
   },
   "outputs": [],
   "source": [
    "#require -Modules PipeScript\n",
    "\n",
    "# .> { .ID { Get-Random } .Count { 0 } .Total { 10 }}\n",
    "\n",
    "@( @(ls . -file)[0] ; @(ls . -dir)[0]; )\n",
    "| Select -First 4\n",
    "| .> { \n",
    "    .Name { $_.BaseName } .Size { $_.Length / 1kb } .IsDir { $_.PsIsContainer }\n",
    "}\n"
   ]
  }
 ],
 "metadata": {
  "language_info": {
   "name": "csharp"
  },
  "orig_nbformat": 4
 },
 "nbformat": 4,
 "nbformat_minor": 2
}
