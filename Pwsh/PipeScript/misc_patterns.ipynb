{
 "cells": [
  {
   "cell_type": "code",
   "execution_count": 1,
   "metadata": {
    "dotnet_interactive": {
     "language": "pwsh"
    },
    "vscode": {
     "languageId": "polyglot-notebook"
    }
   },
   "outputs": [
    {
     "name": "stdout",
     "output_type": "stream",
     "text": [
      "[String]\n",
      "[DirectoryInfo]\n",
      "\n",
      "\u001b[32;1mType            Value                                       FullType\u001b[0m\n",
      "\u001b[32;1m----            -----                                       --------\u001b[0m\n",
      "[DirectoryInfo] H:\\data\\2023\\pwsh\\notebooks\\Pwsh\\PipeScript System.IO.DirectoryInfo\n",
      "[DateTime]      3/17/2023 9:33:10 PM                        System.DateTime\n",
      "\n"
     ]
    }
   ],
   "source": [
    "import-module pipescript -MinimumVersion 0.1.7 -PassThru *>$null\n",
    "\n",
    "function shortType_needlessly_1liner { process { if(-not($_ -as 'type')){ return $_.GetType().Name } return $_ } }\n",
    "function n.shortType {\n",
    "    <#\n",
    "    .EXAMPLE\n",
    "        'a', (gi .) | n.shortType\n",
    "    #>\n",
    "    [Alias('shortType')]\n",
    "    param()\n",
    "    process {    \n",
    "    $tinfo = if(($_ -is 'type')){ $_ } else { $_.GetType()  }\n",
    "    $Tinfo | Join-String -op '[' -os ']' { $_.Name }\n",
    "} }\n",
    "# set-alias 'shortType' 'n.shortType'\n",
    "\n",
    "'a', (gi .) | shortType\n",
    "\n",
    "function MiniType { \n",
    "    # multi-line object syntax, outputs metadata\n",
    "    $Input | .> {\n",
    "        .Type     = ($_.GetType() | ShortType) `\n",
    "        .Value    = $_ `\n",
    "        .FullType = ($_.GetType()) }\n",
    "}\n",
    "\n",
    "@(gi . ; get-date ) | MiniType"
   ]
  },
  {
   "cell_type": "markdown",
   "metadata": {
    "dotnet_interactive": {
     "language": "csharp"
    },
    "polyglot_notebook": {
     "kernelName": "csharp"
    }
   },
   "source": [
    "This version, `0.1.8`, requires backticks for `line continuation`"
   ]
  },
  {
   "cell_type": "code",
   "execution_count": null,
   "metadata": {
    "dotnet_interactive": {
     "language": "pwsh"
    },
    "vscode": {
     "languageId": "polyglot-notebook"
    }
   },
   "outputs": [],
   "source": [
    "import-module pipescript -MinimumVersion 0.1.7 -PassThru *>$null\n",
    "$cur = get-date\n",
    "get-date|   .> {  $cur = $_\n",
    "  #       .Name = $cur.Name #.Value = $_.Value .Type = ($_.GetType().Name)\n",
    ".typeOf = ($cur.GetType() | shortType) .value = $cur .Iso = $cur.toSTring('o')\n",
    "            }\n"
   ]
  },
  {
   "cell_type": "code",
   "execution_count": null,
   "metadata": {
    "dotnet_interactive": {
     "language": "pwsh"
    },
    "vscode": {
     "languageId": "polyglot-notebook"
    }
   },
   "outputs": [],
   "source": []
  },
  {
   "cell_type": "markdown",
   "metadata": {
    "dotnet_interactive": {
     "language": "csharp"
    },
    "polyglot_notebook": {
     "kernelName": "csharp"
    }
   },
   "source": [
    "# nb.utils: n.shortType"
   ]
  },
  {
   "cell_type": "code",
   "execution_count": null,
   "metadata": {
    "dotnet_interactive": {
     "language": "pwsh"
    },
    "vscode": {
     "languageId": "polyglot-notebook"
    }
   },
   "outputs": [],
   "source": [
    "function n.shortType { process {\n",
    "    $tinfo = if(-not($_ -as 'type')){ return $_.GetType() } else { $_ }\n",
    "    $Tinfo | Join-String -op '[' -os ']' { $_.Name }\n",
    "} }\n",
    "'a', (gi .) | n.shortType"
   ]
  }
 ],
 "metadata": {
  "kernelspec": {
   "display_name": ".NET (C#)",
   "language": "C#",
   "name": ".net-csharp"
  },
  "language_info": {
   "file_extension": ".cs",
   "mimetype": "text/x-csharp",
   "name": "C#",
   "pygments_lexer": "csharp",
   "version": "9.0"
  },
  "orig_nbformat": 4
 },
 "nbformat": 4,
 "nbformat_minor": 2
}
