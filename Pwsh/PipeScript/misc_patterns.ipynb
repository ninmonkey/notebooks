{
 "cells": [
  {
   "cell_type": "code",
   "execution_count": 5,
   "metadata": {
    "dotnet_interactive": {
     "language": "pwsh"
    },
    "vscode": {
     "languageId": "dotnet-interactive.pwsh"
    }
   },
   "outputs": [
    {
     "name": "stdout",
     "output_type": "stream",
     "text": [
      "[String]\r\n",
      "[DirectoryInfo]\r\n",
      "\r\n",
      "\u001b[32;1mType            Value                                                                          Full\u001b[0m\r\n",
      "\u001b[32;1m                                                                                               Type\u001b[0m\r\n",
      "\u001b[32;1m----            -----                                                                          ----\u001b[0m\r\n",
      "[DirectoryInfo] C:\\Users\\cppmo_000\\SkyDrive\\Documents\\2022\\My_Github\\notebooks\\Pwsh\\PipeScript Sys…\r\n",
      "[DateTime]      11/4/2022 7:33:48 PM                                                           Sys…\r\n",
      "\r\n"
     ]
    }
   ],
   "source": [
    "import-module pipescript -MinimumVersion 0.1.7 -PassThru *>$null\n",
    "\n",
    "function shortType_needlessly_1liner { process { if(-not($_ -as 'type')){ return $_.GetType().Name } return $_ } }\n",
    "function n.shortType {\n",
    "    <#\n",
    "    .EXAMPLE\n",
    "        'a', (gi .) | n.shortType\n",
    "    #>\n",
    "    [Alias('shortType')]\n",
    "    param()\n",
    "    process {    \n",
    "    $tinfo = if(($_ -is 'type')){ $_ } else { $_.GetType()  }\n",
    "    $Tinfo | Join-String -op '[' -os ']' { $_.Name }\n",
    "} }\n",
    "# set-alias 'shortType' 'n.shortType'\n",
    "\n",
    "'a', (gi .) | shortType\n",
    "\n",
    "function MiniType { \n",
    "    # multi-line object syntax, outputs metadata\n",
    "    $Input | .> {\n",
    "        .Type     = ($_.GetType() | ShortType) `\n",
    "        .Value    = $_ `\n",
    "        .FullType = ($_.GetType()) }\n",
    "}\n",
    "\n",
    "@(gi . ; get-date ) | MiniType"
   ]
  },
  {
   "cell_type": "markdown",
   "metadata": {},
   "source": [
    "This version, `0.1.8`, requires backticks for `line continuation`"
   ]
  },
  {
   "cell_type": "code",
   "execution_count": 6,
   "metadata": {
    "dotnet_interactive": {
     "language": "pwsh"
    },
    "vscode": {
     "languageId": "dotnet-interactive.pwsh"
    }
   },
   "outputs": [
    {
     "name": "stdout",
     "output_type": "stream",
     "text": [
      "\r\n",
      "\u001b[32;1mtypeOf     value                Iso\u001b[0m\r\n",
      "\u001b[32;1m------     -----                ---\u001b[0m\r\n",
      "[DateTime] 11/4/2022 7:33:49 PM 2022-11-04T19:33:49.9475378-05:00\r\n",
      "\r\n"
     ]
    }
   ],
   "source": [
    "import-module pipescript -MinimumVersion 0.1.7 -PassThru *>$null\n",
    "$cur = get-date\n",
    "get-date|   .> {  $cur = $_\n",
    "  #       .Name = $cur.Name #.Value = $_.Value .Type = ($_.GetType().Name)\n",
    ".typeOf = ($cur.GetType() | shortType) .value = $cur .Iso = $cur.toSTring('o')\n",
    "            }\n"
   ]
  },
  {
   "cell_type": "code",
   "execution_count": 7,
   "metadata": {
    "dotnet_interactive": {
     "language": "pwsh"
    },
    "vscode": {
     "languageId": "dotnet-interactive.pwsh"
    }
   },
   "outputs": [],
   "source": []
  },
  {
   "cell_type": "markdown",
   "metadata": {},
   "source": [
    "# nb.utils: n.shortType"
   ]
  },
  {
   "cell_type": "code",
   "execution_count": 8,
   "metadata": {
    "dotnet_interactive": {
     "language": "pwsh"
    },
    "vscode": {
     "languageId": "dotnet-interactive.pwsh"
    }
   },
   "outputs": [
    {
     "name": "stdout",
     "output_type": "stream",
     "text": [
      "\r\n",
      "\u001b[32;1mIsPublic IsSerial Name                                     BaseType\u001b[0m\r\n",
      "\u001b[32;1m-------- -------- ----                                     --------\u001b[0m\r\n",
      "True     True     String                                   System.Object\r\n",
      "True     False    DirectoryInfo                            System.IO.FileSystemInfo\r\n",
      "\r\n"
     ]
    }
   ],
   "source": [
    "function n.shortType { process {\n",
    "    $tinfo = if(-not($_ -as 'type')){ return $_.GetType() } else { $_ }\n",
    "    $Tinfo | Join-String -op '[' -os ']' { $_.Name }\n",
    "} }\n",
    "'a', (gi .) | n.shortType"
   ]
  }
 ],
 "metadata": {
  "kernelspec": {
   "display_name": ".NET (C#)",
   "language": "C#",
   "name": ".net-csharp"
  },
  "language_info": {
   "file_extension": ".cs",
   "mimetype": "text/x-csharp",
   "name": "C#",
   "pygments_lexer": "csharp",
   "version": "9.0"
  },
  "orig_nbformat": 4
 },
 "nbformat": 4,
 "nbformat_minor": 2
}
