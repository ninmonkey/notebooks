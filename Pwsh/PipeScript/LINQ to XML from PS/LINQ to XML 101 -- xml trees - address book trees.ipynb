{
 "cells": [
  {
   "cell_type": "code",
   "execution_count": 1,
   "metadata": {
    "dotnet_interactive": {
     "language": "pwsh"
    },
    "vscode": {
     "languageId": "dotnet-interactive.pwsh"
    }
   },
   "outputs": [
    {
     "name": "stdout",
     "output_type": "stream",
     "text": [
      "Last Generated using \n",
      "Pwsh 7.2.6\n",
      "Modules: classExplorer = 2.3.3, pipescript = 0.1.8\r\n"
     ]
    }
   ],
   "source": [
    "@( import-module classExplorer -PassThru ; import-module pipescript -MinimumVersion 0.1.7 -PassThru )\n",
    "| Join-String { $_.Name, $_.Version -join ' = ' } -sep ', ' -op \"Last Generated using `nPwsh $($PSVersionTable.PSVersion)`nModules: \""
   ]
  },
  {
   "cell_type": "code",
   "execution_count": 2,
   "metadata": {
    "dotnet_interactive": {
     "language": "pwsh"
    },
    "vscode": {
     "languageId": "dotnet-interactive.pwsh"
    }
   },
   "outputs": [
    {
     "name": "stdout",
     "output_type": "stream",
     "text": [
      "<Contacts>\r\n",
      "  <Contact>\r\n",
      "    <Name>Patrick Hines</Name>\r\n",
      "    <Phone Type=\"Home\">425-555-0145</Phone>\r\n",
      "    <Address>\r\n",
      "      <Street1>123 Main St</Street1>\r\n",
      "      <City>Mercer Island</City>\r\n",
      "      <State>WA</State>\r\n",
      "      <Postal>68042</Postal>\r\n",
      "    </Address>\r\n",
      "  </Contact>\r\n",
      "</Contacts>\r\n"
     ]
    }
   ],
   "source": [
    "using namespace System.Xml.Linq\n",
    "$contacts = .>  {    \n",
    "new XElement 'Contacts', @(\n",
    "    new XElement 'Contact', @(\n",
    "        new XElement 'Name', 'Patrick Hines'\n",
    "        new XElement 'Phone', '425-555-0145', @(\n",
    "            new XAttribute 'Type', 'Home'\n",
    "        )\n",
    "        new XElement 'Address' @(\n",
    "            new XElement \"Street1\", \"123 Main St\"\n",
    "            new XElement \"City\", \"Mercer Island\"\n",
    "            new XElement \"State\", \"WA\"\n",
    "            new XElement \"Postal\", \"68042\"\n",
    "        )))\n",
    "}\n",
    "\n",
    "$contacts.ToString()\n",
    "# $dest = Join-Path 'temp:\\' 'xml.xml'\n",
    "# $contacts.Save( $dest )\n",
    "# gc $dest"
   ]
  },
  {
   "cell_type": "markdown",
   "metadata": {},
   "source": [
    "[Getting Started -> LINQ to XML: XML Trees](https://learn.microsoft.com/en-us/dotnet/standard/linq/linq-xml-overview#create-xml-trees)\n",
    "\n",
    "```yml\n",
    "Last Generated using\n",
    "Pwsh: 7.2.6\n",
    "Modules: ClassExplorer = 2.3.3, pipescript = 0.1.8\n",
    "```\n",
    "\n",
    "\n",
    "<table>\n",
    "<tr>\n",
    "    <th>Powershell 7+ <a href=\"https://github.com/StartAutomating/PipeScript\">PipeScript</a></th>\n",
    "    <th>C#</th>\n",
    "</tr>\n",
    "<tr>\n",
    "    <td><pre>\n",
    "    .>  {    \n",
    "    new XElement 'Contacts', @(\n",
    "        new XElement 'Contact', @(\n",
    "            new XElement 'Name', 'Patrick Hines'\n",
    "            new XElement 'Phone', '425-555-0145', @(\n",
    "                new XAttribute 'Type', 'Home'\n",
    "            )\n",
    "            new XElement 'Address' @(\n",
    "                new XElement \"Street1\", \"123 Main St\"\n",
    "                new XElement \"City\", \"Mercer Island\"\n",
    "                new XElement \"State\", \"WA\"\n",
    "                new XElement \"Postal\", \"68042\"\n",
    "            ))) }\n",
    "    </pre></td>\n",
    "    <td><pre>\n",
    "XElement contacts =\n",
    "new XElement(\"Contacts\",\n",
    "    new XElement(\"Contact\",\n",
    "        new XElement(\"Name\", \"Patrick Hines\"),\n",
    "        new XElement(\"Phone\", \"206-555-0144\",\n",
    "            new XAttribute(\"Type\", \"Home\")),\n",
    "        new XElement(\"phone\", \"425-555-0145\",\n",
    "            new XAttribute(\"Type\", \"Work\")),\n",
    "        new XElement(\"Address\",\n",
    "            new XElement(\"Street1\", \"123 Main St\"),\n",
    "            new XElement(\"City\", \"Mercer Island\"),\n",
    "            new XElement(\"State\", \"WA\"),\n",
    "            new XElement(\"Postal\", \"68042\")\n",
    "        )\n",
    "    )\n",
    ");\n",
    "    </pre></td>\n",
    "</tr>\n",
    "</table>\n",
    "\n",
    "The Pwsh above, transpiles, then exected the following no-dependency Pwsh\n",
    "\n",
    "```ps1\n",
    "[XElement]::new('Contacts', @(\n",
    "    [XElement]::new('Contact', @(\n",
    "            [XElement]::new('Name', 'Patrick Hines')\n",
    "            [XElement]::new('Phone', '425-555-0145', @(\n",
    "                            [XAttribute]::new('Type', 'Home')\n",
    "                        ))\n",
    "            [XElement]::new('Address',@(\n",
    "                            [XElement]::new(\"Street1\", \"123 Main St\")\n",
    "                            [XElement]::new(\"City\", \"Mercer Island\")\n",
    "                            [XElement]::new(\"State\", \"WA\")\n",
    "                            [XElement]::new(\"Postal\", \"68042\")\n",
    "                        ))))))\n",
    "```\n",
    "which outputs\n",
    "```xml\n",
    "<Contacts>\n",
    "  <Contact>\n",
    "    <Name>Patrick Hines</Name>\n",
    "    <Phone Type=\"Home\">425-555-0145</Phone>\n",
    "    <Address>\n",
    "      <Street1>123 Main St</Street1>\n",
    "      <City>Mercer Island</City>\n",
    "      <State>WA</State>\n",
    "      <Postal>68042</Postal>\n",
    "    </Address>\n",
    "  </Contact>\n",
    "</Contacts>\n",
    "```\n"
   ]
  },
  {
   "cell_type": "code",
   "execution_count": 3,
   "metadata": {
    "dotnet_interactive": {
     "language": "pwsh"
    },
    "vscode": {
     "languageId": "dotnet-interactive.pwsh"
    }
   },
   "outputs": [],
   "source": []
  },
  {
   "cell_type": "code",
   "execution_count": 4,
   "metadata": {
    "dotnet_interactive": {
     "language": "csharp"
    },
    "vscode": {
     "languageId": "dotnet-interactive.csharp"
    }
   },
   "outputs": [
    {
     "name": "stdout",
     "output_type": "stream",
     "text": [
      "<Contacts>\r\n",
      "  <Contact>\r\n",
      "    <Name>Patrick Hines</Name>\r\n",
      "    <Phone Type=\"Home\">206-555-0144</Phone>\r\n",
      "    <phone Type=\"Work\">425-555-0145</phone>\r\n",
      "    <Address>\r\n",
      "      <Street1>123 Main St</Street1>\r\n",
      "      <City>Mercer Island</City>\r\n",
      "      <State>WA</State>\r\n",
      "      <Postal>68042</Postal>\r\n",
      "    </Address>\r\n",
      "  </Contact>\r\n",
      "</Contacts>"
     ]
    }
   ],
   "source": [
    "using System.Xml.Linq;\n",
    "\n",
    "XElement contacts =\n",
    "new XElement(\"Contacts\",\n",
    "    new XElement(\"Contact\",\n",
    "        new XElement(\"Name\", \"Patrick Hines\"),\n",
    "        new XElement(\"Phone\", \"206-555-0144\",\n",
    "            new XAttribute(\"Type\", \"Home\")),\n",
    "        new XElement(\"phone\", \"425-555-0145\",\n",
    "            new XAttribute(\"Type\", \"Work\")),\n",
    "        new XElement(\"Address\",\n",
    "            new XElement(\"Street1\", \"123 Main St\"),\n",
    "            new XElement(\"City\", \"Mercer Island\"),\n",
    "            new XElement(\"State\", \"WA\"),\n",
    "            new XElement(\"Postal\", \"68042\")\n",
    "        )\n",
    "    )\n",
    ");\n",
    "Console.Write( contacts );"
   ]
  }
 ],
 "metadata": {
  "kernelspec": {
   "display_name": ".NET (C#)",
   "language": "C#",
   "name": ".net-csharp"
  },
  "language_info": {
   "file_extension": ".cs",
   "mimetype": "text/x-csharp",
   "name": "C#",
   "pygments_lexer": "csharp",
   "version": "9.0"
  },
  "orig_nbformat": 4
 },
 "nbformat": 4,
 "nbformat_minor": 2
}
