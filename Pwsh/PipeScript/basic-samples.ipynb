{
 "cells": [
  {
   "attachments": {},
   "cell_type": "markdown",
   "metadata": {},
   "source": [
    "a cheatsheet in-progress"
   ]
  },
  {
   "cell_type": "code",
   "execution_count": 11,
   "metadata": {
    "dotnet_interactive": {
     "language": "pwsh"
    },
    "vscode": {
     "languageId": "dotnet-interactive.pwsh"
    }
   },
   "outputs": [
    {
     "name": "stdout",
     "output_type": "stream",
     "text": [
      "Pwsh: 7.2.6\r\n",
      "Last Run: 2022-10-24 20:21:05Z\r\n",
      "ImportedModules: PipeScript = 0.1.8, ClassExplorer = 2.3.3\r\n"
     ]
    }
   ],
   "source": [
    "$PSVersionTable.PSVersion.ToString() | Join-String -op 'Pwsh: '\n",
    "  (get-date).ToString('u') | Join-String -op 'Last Run: '\n",
    "Import-Module PipeScript, ClassExplorer -ea stop -passthru\n",
    "| Join-String -sep ', '  { $_.Name, $_.Version -join ' = '} -op 'ImportedModules: '"
   ]
  },
  {
   "attachments": {},
   "cell_type": "markdown",
   "metadata": {},
   "source": [
    "- [docs/Transpilers/Syntax/Dot.psx.ps1](https://github.com/StartAutomating/PipeScript/blob/main/Transpilers/Syntax/Dot.psx.ps1)"
   ]
  },
  {
   "cell_type": "code",
   "execution_count": 16,
   "metadata": {
    "dotnet_interactive": {
     "language": "pwsh"
    },
    "vscode": {
     "languageId": "dotnet-interactive.pwsh"
    }
   },
   "outputs": [
    {
     "name": "stdout",
     "output_type": "stream",
     "text": [
      "3\r\n",
      "3\r\n",
      "6\r\n",
      "3\r\n",
      "3\r\n",
      "6\r\n",
      "\r\n",
      "\u001b[32;1mMonth Day Year\u001b[0m\r\n",
      "\u001b[32;1m----- --- ----\u001b[0m\r\n",
      "   10  24 2022\r\n",
      "\r\n"
     ]
    }
   ],
   "source": [
    "# direct docs, verbose format\n",
    ".> {\n",
    "    \"abc\", \"123\", \"abc123\" | .Length\n",
    "}\n",
    "\n",
    "# same\n",
    ".> { \"abc\", \"123\", \"abc123\" | .Length } \n",
    "\n",
    ".> { [DateTime]::now | .Month .Day .Year }"
   ]
  },
  {
   "cell_type": "code",
   "execution_count": 14,
   "metadata": {
    "dotnet_interactive": {
     "language": "pwsh"
    },
    "vscode": {
     "languageId": "dotnet-interactive.pwsh"
    }
   },
   "outputs": [
    {
     "name": "stdout",
     "output_type": "stream",
     "text": [
      "$1.99\r\n",
      "£1.99\r\n"
     ]
    }
   ],
   "source": [
    " .> { 1.99 | .ToString('C') }\n",
    " .> { 1.99 | .ToString 'C' [CultureInfo]'gb-gb' }"
   ]
  },
  {
   "cell_type": "code",
   "execution_count": 19,
   "metadata": {
    "dotnet_interactive": {
     "language": "pwsh"
    },
    "vscode": {
     "languageId": "dotnet-interactive.pwsh"
    }
   },
   "outputs": [
    {
     "name": "stdout",
     "output_type": "stream",
     "text": [
      "C:\\Users\\cppmo_000\\SkyDrive\\Documents\\PowerShell\\Microsoft.dotnet-interactive_profile.ps1\r\n"
     ]
    }
   ],
   "source": []
  }
 ],
 "metadata": {
  "kernelspec": {
   "display_name": ".NET (PowerShell)",
   "language": "PowerShell",
   "name": ".net-pwsh"
  },
  "language_info": {
   "name": "PowerShell"
  }
 },
 "nbformat": 4,
 "nbformat_minor": 2
}
