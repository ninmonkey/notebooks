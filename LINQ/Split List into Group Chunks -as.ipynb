{
 "cells": [
  {
   "cell_type": "code",
   "execution_count": null,
   "metadata": {
    "dotnet_interactive": {
     "language": "csharp"
    },
    "vscode": {
     "languageId": "dotnet-interactive.csharp"
    }
   },
   "outputs": [
    {
     "name": "stdout",
     "output_type": "stream",
     "text": [
      "2\r\n"
     ]
    }
   ],
   "source": [
    "using System;\n",
    "using System.Linq;\n",
    "using System.Collections.Generic;\n",
    "\n",
    "// int scores = \n",
    "List<int> scores = new List<int>() {13, 2, 9, 4, 5};\n",
    "\n",
    "IEnumerable<int> highScoresQuery3 =\n",
    "    from score in scores\n",
    "    where score > 5\n",
    "    select score;\n",
    "\n",
    "int scoreCount = highScoresQuery3.Count();\n",
    "Console.WriteLine( scoreCount );\n",
    "\n",
    "var squares = values.Select((x, i) => new { Index = i-4, Original = x, Squared = x*x} );\n",
    "var latest = values.Select((x, i) => new { Index = i, Value = x} );\n",
    "\n"
   ]
  },
  {
   "cell_type": "code",
   "execution_count": null,
   "metadata": {
    "dotnet_interactive": {
     "language": "csharp"
    },
    "vscode": {
     "languageId": "dotnet-interactive.csharp"
    }
   },
   "outputs": [
    {
     "name": "stdout",
     "output_type": "stream",
     "text": [
      "1, 2\r\n",
      "3, 4\r\n",
      "5\r\n"
     ]
    }
   ],
   "source": [
    "List<int> values = new List<int>() { 9, 342, -323, 244, 112, 5};\n",
    "\n",
    "// format style test1: overly verbose, break on function\n",
    "public static List<List<T>> partition<T>(\n",
    "    this List<T> values,\n",
    "    int chunkSize\n",
    ") {\n",
    "    return\n",
    "    values.\n",
    "        Select(\n",
    "            (x, i) =>  new { Index = i, Value = x } )\n",
    "        .GroupBy(\n",
    "            x => x.Index / chunkSize )\n",
    "        .Select(\n",
    "            x => x.Select(v => v.Value).ToList())\n",
    "        .ToList();\n",
    "}\n",
    "\n",
    "// format style test1: overly verbose, break on lambda bodies\n",
    "\n",
    "public static List<List<T>> partitionB<T>(\n",
    "    this List<T> values,\n",
    "    int chunkSize\n",
    ") {\n",
    "    return\n",
    "    values.\n",
    "        Select( (x, i) =>\n",
    "             new { Index = i, Value = x } )\n",
    "        .GroupBy( x =>\n",
    "            x.Index / chunkSize )\n",
    "        .Select( x =>\n",
    "            x.Select(v =>\n",
    "                v.Value).ToList() )\n",
    "        .ToList();\n",
    "}\n",
    "\n",
    "List<int> values2 = new List<int>() { 1, 2, 3, 4, 5 };\n",
    " \n",
    "List<List<int>> partitions = values2.partitionB(2);\n",
    "\n",
    "foreach (List<int> item in partitions) {\n",
    "    Console.WriteLine(String.Join(\", \", item));\n",
    "}\n",
    "\n",
    "\n",
    "// List<List<int>> partitions = values.partition(2);\n",
    "// foreach (List<int> partition in partitions) {\n",
    "    // Console.WriteLine(String.Join(\", \", partition));\n",
    "// }\n",
    "\n",
    "// string? s = Console.ReadLine();"
   ]
  },
  {
   "cell_type": "code",
   "execution_count": null,
   "metadata": {
    "dotnet_interactive": {
     "language": "csharp"
    },
    "vscode": {
     "languageId": "dotnet-interactive.csharp"
    }
   },
   "outputs": [
    {
     "name": "stdout",
     "output_type": "stream",
     "text": [
      "Hello\r\n",
      "World!\r\n",
      "\r\n"
     ]
    }
   ],
   "source": [
    "using System.Text;\n",
    "\n",
    "StringBuilder builder = new();\n",
    "builder.AppendLine(\"Hello\");\n",
    "builder.AppendLine(\"World!\");\n",
    "\n",
    "Console.WriteLine(builder.ToString());"
   ]
  },
  {
   "cell_type": "code",
   "execution_count": null,
   "metadata": {
    "dotnet_interactive": {
     "language": "csharp"
    },
    "vscode": {
     "languageId": "dotnet-interactive.csharp"
    }
   },
   "outputs": [],
   "source": [
    "\n",
    "\n",
    "var squares = values.Select((x, i) => new { Index = i-4, Original = x, Squared = x*x} );\n",
    "var latest = values.Select((x, i) => new { Index = i, Value = x} );\n",
    "\n",
    "List<List<int>> partitions = values.partition(2);\n",
    "foreach (List<int> partition in partitions) {\n",
    "    Console.WriteLine(String.Join(\", \", partition));\n",
    "}"
   ]
  },
  {
   "cell_type": "code",
   "execution_count": null,
   "metadata": {
    "dotnet_interactive": {
     "language": "csharp"
    },
    "vscode": {
     "languageId": "dotnet-interactive.csharp"
    }
   },
   "outputs": [
    {
     "name": "stdout",
     "output_type": "stream",
     "text": [
      "9"
     ]
    }
   ],
   "source": [
    "\n",
    "#!share --from csharp values\n",
    "\n",
    "Console.Write( values[0] )\n"
   ]
  },
  {
   "cell_type": "markdown",
   "metadata": {},
   "source": [
    "## LINQ\n",
    "\n",
    "- `IEnumerable<T>` or `IQueryable<T>`\n",
    "\n",
    "- [C# LINQ concepts](https://docs.microsoft.com/en-us/dotnet/csharp/linq/)\n",
    "  - [Query Expression](https://docs.microsoft.com/en-us/dotnet/csharp/linq/query-expression-basics)\n",
    "  \n",
    "\n",
    "\n",
    "## Async\n",
    "\n",
    "- [asynchronous-programming-patterns/calling-synchronous-methods-asynchronously](https://docs.microsoft.com/en-us/dotnet/standard/asynchronous-programming-patterns/calling-synchronous-methods-asynchronously)\n",
    "- [Async Delegates](https://docs.microsoft.com/en-us/dotnet/standard/asynchronous-programming-patterns/asynchronous-programming-using-delegates)\n",
    "- [\\[MulticastDelegate\\]](https://docs.microsoft.com/en-us/dotnet/api/system.multicastdelegate?view=net-6.0#remarks) class\n",
    "- [TOC Generics](https://docs.microsoft.com/en-us/dotnet/csharp/fundamentals/types/generics)\n",
    "  \n",
    "- TOC: [https://docs.microsoft.com/en-us/dotnet/standard/asynchronous-programming-patterns/](https://docs.microsoft.com/en-us/dotnet/standard/asynchronous-programming-patterns/)\n",
    "  - [TAP - Task-based Async Pattern](https://docs.microsoft.com/en-us/dotnet/standard/asynchronous-programming-patterns/task-based-asynchronous-pattern-tap)\n",
    "  - [EAP - Event-Based Async Pattern](https://docs.microsoft.com/en-us/dotnet/standard/asynchronous-programming-patterns/implementing-the-event-based-asynchronous-pattern)\n",
    "  - [APM Async Programming model](https://docs.microsoft.com/en-us/dotnet/standard/asynchronous-programming-patterns/asynchronous-programming-model-apm)"
   ]
  },
  {
   "cell_type": "code",
   "execution_count": null,
   "metadata": {
    "dotnet_interactive": {
     "language": "mermaid"
    },
    "vscode": {
     "languageId": "dotnet-interactive.mermaid"
    }
   },
   "outputs": [
    {
     "ename": "Error",
     "evalue": "Required command was not provided.\r\nUnrecognized command or argument '#!share'.\r\nUnrecognized command or argument '--from'.\r\nUnrecognized command or argument 'csharp'.\r\nUnrecognized command or argument 'values'.",
     "output_type": "error",
     "traceback": [
      "Required command was not provided.\r\n",
      "Unrecognized command or argument '#!share'.\r\n",
      "Unrecognized command or argument '--from'.\r\n",
      "Unrecognized command or argument 'csharp'.\r\n",
      "Unrecognized command or argument 'values'."
     ]
    }
   ],
   "source": [
    "#!share --from csharp values\n",
    "\n"
   ]
  },
  {
   "cell_type": "code",
   "execution_count": null,
   "metadata": {
    "dotnet_interactive": {
     "language": "javascript"
    },
    "vscode": {
     "languageId": "dotnet-interactive.javascript"
    }
   },
   "outputs": [],
   "source": [
    "#!share --from javascript webview\n",
    "\n",
    "let w =  window\n",
    "\n",
    "let z = w.__proto__\n",
    "// window.log('hi world')\n",
    "webview.__proto__"
   ]
  }
 ],
 "metadata": {
  "kernelspec": {
   "display_name": ".NET (C#)",
   "language": "C#",
   "name": ".net-csharp"
  },
  "language_info": {
   "name": "C#"
  }
 },
 "nbformat": 4,
 "nbformat_minor": 2
}
