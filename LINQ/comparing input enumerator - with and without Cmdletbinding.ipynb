{
 "cells": [
  {
   "cell_type": "code",
   "execution_count": null,
   "metadata": {
    "dotnet_interactive": {
     "language": "pwsh"
    },
    "vscode": {
     "languageId": "dotnet-interactive.pwsh"
    }
   },
   "outputs": [
    {
     "name": "stdout",
     "output_type": "stream",
     "text": [
      "\r\n",
      "\u001b[32;1mIsPublic IsSerial Name                                     BaseType\u001b[0m\r\n",
      "\u001b[32;1m-------- -------- ----                                     --------\u001b[0m\r\n",
      "True     True     Predicate`1                              System.MulticastDelegate\r\n",
      "True     True     Predicate`1                              System.MulticastDelegate\r\n",
      "\r\n"
     ]
    }
   ],
   "source": [
    "using namespace System.Collections.Generic\n",
    "using namespace System.Drawing\n",
    "\n",
    "[Predicate`1]\n",
    "[Predicate[Point]]"
   ]
  },
  {
   "cell_type": "markdown",
   "metadata": {},
   "source": [
    "refs / docs\n",
    "- [docs/tutorial predicate interactive](https://docs.microsoft.com/en-us/dotnet/api/system.predicate-1?view=net-6.0#code-try-2)\n",
    "\n",
    "> The following code example uses a `Predicate<T>` **delegate** with the Array.Find method to search an array of Point structures. The example explicitly defines a `Predicate<T>` **delegate** named predicate and assigns it a method named FindPoints that returns true if the product of the Point.X and Point.Y fields is greater than 100,000. Note that it is customary to use a `lambda expression` rather than to explicitly define a **delegate** of type `Predicate<T>`, as the second example illustrates."
   ]
  },
  {
   "cell_type": "code",
   "execution_count": null,
   "metadata": {
    "dotnet_interactive": {
     "language": "pwsh"
    },
    "vscode": {
     "languageId": "dotnet-interactive.pwsh"
    }
   },
   "outputs": [],
   "source": [
    "[Point[]]$points = @( \n",
    "    [Point]::new(100, 200)\n",
    "    [Point]::new(150, 250)\n",
    "    [Point]::new(250, 375)\n",
    "    [Point]::new(275, 395)\n",
    "    [Point]::new(295, 450)\n",
    "    \n",
    ")\n",
    "[List[Point]]$pointsList = $Points\n",
    "# test any differences between explicit list or not\n",
    "\n",
    "function rollup { \n",
    "    [OutputType('[object[]]')]\n",
    "    [CmdletBinding()]\n",
    "    param(\n",
    "        [Parameter(ValueFromPipeline)][object[]]$InputObject )\n",
    "    begin { [list[object]]$items = @() }\n",
    "    process {\n",
    "        $Items.AddRange( $InputObject )\n",
    "    }\n",
    "    end {\n",
    "        , $Items\n",
    "    }\n",
    "}\n",
    "\n",
    "function _Csv { process{ $Input | Join-String -sep ', ' }}\n",
    "function _Csv2 { end{ $Input | Rollup | Join-String -sep ', ' }} "
   ]
  },
  {
   "cell_type": "code",
   "execution_count": null,
   "metadata": {
    "dotnet_interactive": {
     "language": "pwsh"
    },
    "vscode": {
     "languageId": "dotnet-interactive.pwsh"
    }
   },
   "outputs": [
    {
     "name": "stdout",
     "output_type": "stream",
     "text": [
      "{X=100,Y=200}\r\n",
      "{X=150,Y=250}\r\n",
      "{X=250,Y=375}\r\n",
      "{X=275,Y=395}\r\n",
      "{X=295,Y=450}\r\n",
      "\r\n",
      "{X=100,Y=200}, {X=150,Y=250}, {X=250,Y=375}, {X=275,Y=395}, {X=295,Y=450}\r\n",
      "\r\n",
      "{X=100,Y=200}, {X=150,Y=250}, {X=250,Y=375}, {X=275,Y=395}, {X=295,Y=450}\r\n"
     ]
    }
   ],
   "source": [
    "\n",
    "# $pointsList | Join-String -sep \", \" \n",
    "# $pointsList | Join-String -sep \", \" \n",
    "# $pointsList | rollup | _csv\n",
    "\n",
    "function Csv_1a { process { $Input | Join-String -sep ', ' }}\n",
    "function Csv_1b { end {     $Input | Join-String -sep ', ' }}\n",
    "function Csv_2  { end {     $Input | Rollup | Join-String -sep ', ' }} \n",
    "$pointsList | Csv_1a\n",
    "''\n",
    "$pointsList | Csv_1b\n",
    "''\n",
    "$pointsList | Csv_2\n",
    "\n"
   ]
  },
  {
   "cell_type": "code",
   "execution_count": null,
   "metadata": {
    "dotnet_interactive": {
     "language": "pwsh"
    },
    "vscode": {
     "languageId": "dotnet-interactive.pwsh"
    }
   },
   "outputs": [
    {
     "name": "stdout",
     "output_type": "stream",
     "text": [
      "{X=100,Y=200}\r\n",
      "{X=150,Y=250}\r\n",
      "{X=250,Y=375}\r\n",
      "{X=275,Y=395}\r\n",
      "{X=295,Y=450}\r\n",
      "\r\n",
      "{X=100,Y=200}, {X=150,Y=250}, {X=250,Y=375}, {X=275,Y=395}, {X=295,Y=450}\r\n",
      "\r\n",
      "{X=100,Y=200}, {X=150,Y=250}, {X=250,Y=375}, {X=275,Y=395}, {X=295,Y=450}\r\n"
     ]
    }
   ],
   "source": [
    "function P_1a {    \n",
    "    param()\n",
    "    process { $Input | Join-String -sep ', ' } }\n",
    "function P_1b {    \n",
    "    param()\n",
    "    end {     $Input | Join-String -sep ', ' } }\n",
    "function P_2  {    \n",
    "    param()\n",
    "    end {     $Input | Rollup | Join-String -sep ', ' }} \n",
    "\n",
    "$pointsList | P_1a\n",
    "''\n",
    "$pointsList | P_1b\n",
    "''\n",
    "$pointsList | P_2\n"
   ]
  },
  {
   "cell_type": "code",
   "execution_count": null,
   "metadata": {
    "dotnet_interactive": {
     "language": "pwsh"
    },
    "vscode": {
     "languageId": "dotnet-interactive.pwsh"
    }
   },
   "outputs": [
    {
     "name": "stdout",
     "output_type": "stream",
     "text": [
      "\u001b[91mCmd_1a: \r\n",
      "\u001b[96mLine |\r\n",
      "\u001b[96m  14 | \u001b[0m $pointsList | \u001b[96mCmd_1a\u001b[0m\r\n",
      "\u001b[96m     | \u001b[91m               ~~~~~~\r\n",
      "\u001b[91m\u001b[96m     | \u001b[91mThe input object cannot be bound to any parameters for the command either because the command does not take pipeline input or the input and its properties do not match any of the parameters that take pipeline input.\u001b[0m\r\n",
      "\u001b[91mCmd_1a: \r\n",
      "\u001b[96mLine |\r\n",
      "\u001b[96m  14 | \u001b[0m $pointsList | \u001b[96mCmd_1a\u001b[0m\r\n",
      "\u001b[96m     | \u001b[91m               ~~~~~~\r\n",
      "\u001b[91m\u001b[96m     | \u001b[91mThe input object cannot be bound to any parameters for the command either because the command does not take pipeline input or the input and its properties do not match any of the parameters that take pipeline input.\u001b[0m\r\n",
      "\u001b[91mCmd_1a: \r\n",
      "\u001b[96mLine |\r\n",
      "\u001b[96m  14 | \u001b[0m $pointsList | \u001b[96mCmd_1a\u001b[0m\r\n",
      "\u001b[96m     | \u001b[91m               ~~~~~~\r\n",
      "\u001b[91m\u001b[96m     | \u001b[91mThe input object cannot be bound to any parameters for the command either because the command does not take pipeline input or the input and its properties do not match any of the parameters that take pipeline input.\u001b[0m\r\n",
      "\u001b[91mCmd_1a: \r\n",
      "\u001b[96mLine |\r\n",
      "\u001b[96m  14 | \u001b[0m $pointsList | \u001b[96mCmd_1a\u001b[0m\r\n",
      "\u001b[96m     | \u001b[91m               ~~~~~~\r\n",
      "\u001b[91m\u001b[96m     | \u001b[91mThe input object cannot be bound to any parameters for the command either because the command does not take pipeline input or the input and its properties do not match any of the parameters that take pipeline input.\u001b[0m\r\n",
      "\u001b[91mCmd_1a: \r\n",
      "\u001b[96mLine |\r\n",
      "\u001b[96m  14 | \u001b[0m $pointsList | \u001b[96mCmd_1a\u001b[0m\r\n",
      "\u001b[96m     | \u001b[91m               ~~~~~~\r\n",
      "\u001b[91m\u001b[96m     | \u001b[91mThe input object cannot be bound to any parameters for the command either because the command does not take pipeline input or the input and its properties do not match any of the parameters that take pipeline input.\u001b[0m\r\n",
      "\r\n",
      "\u001b[91mCmd_1b: \r\n",
      "\u001b[96mLine |\r\n",
      "\u001b[96m  16 | \u001b[0m $pointsList | \u001b[96mCmd_1b\u001b[0m\r\n",
      "\u001b[96m     | \u001b[91m               ~~~~~~\r\n",
      "\u001b[91m\u001b[96m     | \u001b[91mThe input object cannot be bound to any parameters for the command either because the command does not take pipeline input or the input and its properties do not match any of the parameters that take pipeline input.\u001b[0m\r\n",
      "\u001b[91mCmd_1b: \r\n",
      "\u001b[96mLine |\r\n",
      "\u001b[96m  16 | \u001b[0m $pointsList | \u001b[96mCmd_1b\u001b[0m\r\n",
      "\u001b[96m     | \u001b[91m               ~~~~~~\r\n",
      "\u001b[91m\u001b[96m     | \u001b[91mThe input object cannot be bound to any parameters for the command either because the command does not take pipeline input or the input and its properties do not match any of the parameters that take pipeline input.\u001b[0m\r\n",
      "\u001b[91mCmd_1b: \r\n",
      "\u001b[96mLine |\r\n",
      "\u001b[96m  16 | \u001b[0m $pointsList | \u001b[96mCmd_1b\u001b[0m\r\n",
      "\u001b[96m     | \u001b[91m               ~~~~~~\r\n",
      "\u001b[91m\u001b[96m     | \u001b[91mThe input object cannot be bound to any parameters for the command either because the command does not take pipeline input or the input and its properties do not match any of the parameters that take pipeline input.\u001b[0m\r\n",
      "\u001b[91mCmd_1b: \r\n",
      "\u001b[96mLine |\r\n",
      "\u001b[96m  16 | \u001b[0m $pointsList | \u001b[96mCmd_1b\u001b[0m\r\n",
      "\u001b[96m     | \u001b[91m               ~~~~~~\r\n",
      "\u001b[91m\u001b[96m     | \u001b[91mThe input object cannot be bound to any parameters for the command either because the command does not take pipeline input or the input and its properties do not match any of the parameters that take pipeline input.\u001b[0m\r\n",
      "\u001b[91mCmd_1b: \r\n",
      "\u001b[96mLine |\r\n",
      "\u001b[96m  16 | \u001b[0m $pointsList | \u001b[96mCmd_1b\u001b[0m\r\n",
      "\u001b[96m     | \u001b[91m               ~~~~~~\r\n",
      "\u001b[91m\u001b[96m     | \u001b[91mThe input object cannot be bound to any parameters for the command either because the command does not take pipeline input or the input and its properties do not match any of the parameters that take pipeline input.\u001b[0m\r\n",
      "\r\n",
      "\r\n",
      "\u001b[91mCmd_2: \r\n",
      "\u001b[96mLine |\r\n",
      "\u001b[96m  18 | \u001b[0m $pointsList | \u001b[96mCmd_2\u001b[0m\r\n",
      "\u001b[96m     | \u001b[91m               ~~~~~\r\n",
      "\u001b[91m\u001b[96m     | \u001b[91mThe input object cannot be bound to any parameters for the command either because the command does not take pipeline input or the input and its properties do not match any of the parameters that take pipeline input.\u001b[0m\r\n",
      "\u001b[91mCmd_2: \r\n",
      "\u001b[96mLine |\r\n",
      "\u001b[96m  18 | \u001b[0m $pointsList | \u001b[96mCmd_2\u001b[0m\r\n",
      "\u001b[96m     | \u001b[91m               ~~~~~\r\n",
      "\u001b[91m\u001b[96m     | \u001b[91mThe input object cannot be bound to any parameters for the command either because the command does not take pipeline input or the input and its properties do not match any of the parameters that take pipeline input.\u001b[0m\r\n",
      "\u001b[91mCmd_2: \r\n",
      "\u001b[96mLine |\r\n",
      "\u001b[96m  18 | \u001b[0m $pointsList | \u001b[96mCmd_2\u001b[0m\r\n",
      "\u001b[96m     | \u001b[91m               ~~~~~\r\n",
      "\u001b[91m\u001b[96m     | \u001b[91mThe input object cannot be bound to any parameters for the command either because the command does not take pipeline input or the input and its properties do not match any of the parameters that take pipeline input.\u001b[0m\r\n",
      "\u001b[91mCmd_2: \r\n",
      "\u001b[96mLine |\r\n",
      "\u001b[96m  18 | \u001b[0m $pointsList | \u001b[96mCmd_2\u001b[0m\r\n",
      "\u001b[96m     | \u001b[91m               ~~~~~\r\n",
      "\u001b[91m\u001b[96m     | \u001b[91mThe input object cannot be bound to any parameters for the command either because the command does not take pipeline input or the input and its properties do not match any of the parameters that take pipeline input.\u001b[0m\r\n",
      "\u001b[91mCmd_2: \r\n",
      "\u001b[96mLine |\r\n",
      "\u001b[96m  18 | \u001b[0m $pointsList | \u001b[96mCmd_2\u001b[0m\r\n",
      "\u001b[96m     | \u001b[91m               ~~~~~\r\n",
      "\u001b[91m\u001b[96m     | \u001b[91mThe input object cannot be bound to any parameters for the command either because the command does not take pipeline input or the input and its properties do not match any of the parameters that take pipeline input.\u001b[0m\r\n",
      "\r\n"
     ]
    }
   ],
   "source": [
    "function Cmd_1a {\n",
    "    [CmdletBinding()]\n",
    "    param()\n",
    "    process { $Input | Join-String -sep ', ' } }\n",
    "function Cmd_1b {\n",
    "    [CmdletBinding()]\n",
    "    param()\n",
    "    end {     $Input | Join-String -sep ', ' } }\n",
    "function Cmd_2  {\n",
    "    [CmdletBinding()]\n",
    "    param()\n",
    "    end {     $Input | Rollup | Join-String -sep ', ' }} \n",
    "\n",
    "$pointsList | Cmd_1a\n",
    "''\n",
    "$pointsList | Cmd_1b\n",
    "''\n",
    "$pointsList | Cmd_2"
   ]
  }
 ],
 "metadata": {
  "kernelspec": {
   "display_name": ".NET (PowerShell)",
   "language": "PowerShell",
   "name": ".net-pwsh"
  },
  "language_info": {
   "name": "PowerShell"
  }
 },
 "nbformat": 4,
 "nbformat_minor": 2
}
