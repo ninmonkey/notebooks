{
 "cells": [
  {
   "cell_type": "code",
   "execution_count": null,
   "metadata": {
    "dotnet_interactive": {
     "language": "pwsh"
    },
    "vscode": {
     "languageId": "dotnet-interactive.pwsh"
    }
   },
   "outputs": [
    {
     "name": "stdout",
     "output_type": "stream",
     "text": [
      "\r\n",
      "\u001b[32;1mIsPublic IsSerial Name                                     BaseType\u001b[0m\r\n",
      "\u001b[32;1m-------- -------- ----                                     --------\u001b[0m\r\n",
      "True     True     Predicate`1                              System.MulticastDelegate\r\n",
      "True     True     Predicate`1                              System.MulticastDelegate\r\n",
      "\r\n"
     ]
    }
   ],
   "source": [
    "using namespace System.Collections.Generic\n",
    "using namespace System.Drawing\n",
    "\n",
    "[Predicate`1]\n",
    "[Predicate[Point]]"
   ]
  },
  {
   "cell_type": "markdown",
   "metadata": {},
   "source": [
    "refs / docs\n",
    "- [docs/tutorial predicate interactive](https://docs.microsoft.com/en-us/dotnet/api/system.predicate-1?view=net-6.0#code-try-2)\n",
    "\n",
    "> The following code example uses a `Predicate<T>` **delegate** with the Array.Find method to search an array of Point structures. The example explicitly defines a `Predicate<T>` **delegate** named predicate and assigns it a method named FindPoints that returns true if the product of the Point.X and Point.Y fields is greater than 100,000. Note that it is customary to use a `lambda expression` rather than to explicitly define a **delegate** of type `Predicate<T>`, as the second example illustrates."
   ]
  },
  {
   "cell_type": "code",
   "execution_count": null,
   "metadata": {
    "dotnet_interactive": {
     "language": "pwsh"
    },
    "vscode": {
     "languageId": "dotnet-interactive.pwsh"
    }
   },
   "outputs": [],
   "source": [
    "[Point[]]$points = @( \n",
    "    [Point]::new(100, 200)\n",
    "    [Point]::new(150, 250)\n",
    "    [Point]::new(250, 375)\n",
    "    [Point]::new(275, 395)\n",
    "    [Point]::new(295, 450)\n",
    "    \n",
    ")\n",
    "[List[Point]]$pointsList = $Points\n",
    "function Csv { end{ $Input | Join-String -sep ', ' }} \n"
   ]
  },
  {
   "cell_type": "code",
   "execution_count": null,
   "metadata": {
    "dotnet_interactive": {
     "language": "pwsh"
    },
    "vscode": {
     "languageId": "dotnet-interactive.pwsh"
    }
   },
   "outputs": [
    {
     "name": "stdout",
     "output_type": "stream",
     "text": [
      "{X=100,Y=200}, {X=150,Y=250}, {X=250,Y=375}, {X=275,Y=395}, {X=295,Y=450}\r\n",
      "{X=100,Y=200}, {X=150,Y=250}, {X=250,Y=375}, {X=275,Y=395}, {X=295,Y=450}\r\n"
     ]
    }
   ],
   "source": [
    "$points | Csv\n",
    "$PointsList | Csv"
   ]
  },
  {
   "cell_type": "markdown",
   "metadata": {},
   "source": [
    "```csharp\n",
    "using System;\n",
    "using System.Drawing;\n",
    "\n",
    "public class Example\n",
    "{\n",
    "   public static void Main()\n",
    "   {\n",
    "      // Create an array of Point structures.\n",
    "      Point[] points = { new Point(100, 200),\n",
    "                         new Point(150, 250), new Point(250, 375),\n",
    "                         new Point(275, 395), new Point(295, 450) };\n",
    "\n",
    "      // Find the first Point structure for which X times Y\n",
    "      // is greater than 100000.\n",
    "      Point first = Array.Find(points, x => x.X * x.Y > 100000 );\n",
    "\n",
    "      // Display the first structure found.\n",
    "      Console.WriteLine(\"Found: X = {0}, Y = {1}\", first.X, first.Y);\n",
    "   }\n",
    "}\n",
    "// The example displays the following output:\n",
    "//        Found: X = 275, Y = 395\n",
    "```\n"
   ]
  },
  {
   "cell_type": "markdown",
   "metadata": {},
   "source": [
    "```csharp\n",
    "using System;\n",
    "using System.Drawing;\n",
    "\n",
    "public class Example\n",
    "{\n",
    "   public static void Main()\n",
    "   {\n",
    "      // Create an array of Point structures.\n",
    "      Point[] points = { new Point(100, 200),\n",
    "                         new Point(150, 250), new Point(250, 375),\n",
    "                         new Point(275, 395), new Point(295, 450) };\n",
    "\n",
    "      // Find the first Point structure for which X times Y\n",
    "      // is greater than 100000.\n",
    "      Point first = Array.Find(points, x => x.X * x.Y > 100000 );\n",
    "\n",
    "      // Display the first structure found.\n",
    "      Console.WriteLine(\"Found: X = {0}, Y = {1}\", first.X, first.Y);\n",
    "   }\n",
    "}\n",
    "// The example displays the following output:\n",
    "//        Found: X = 275, Y = 395\n",
    "\n",
    "```"
   ]
  }
 ],
 "metadata": {
  "kernelspec": {
   "display_name": ".NET (PowerShell)",
   "language": "PowerShell",
   "name": ".net-pwsh"
  },
  "language_info": {
   "name": "PowerShell"
  }
 },
 "nbformat": 4,
 "nbformat_minor": 2
}
