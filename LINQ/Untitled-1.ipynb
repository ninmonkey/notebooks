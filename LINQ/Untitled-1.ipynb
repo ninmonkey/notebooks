{
 "cells": [
  {
   "cell_type": "code",
   "execution_count": null,
   "metadata": {
    "dotnet_interactive": {
     "language": "csharp"
    },
    "vscode": {
     "languageId": "dotnet-interactive.csharp"
    }
   },
   "outputs": [],
   "source": [
    "using System;\n",
    "using System.Linq;\n",
    "using System.Collections.Generic;\n",
    "\n",
    "List<int> nums = new List<int>() {1, 9, 3, 99};"
   ]
  },
  {
   "cell_type": "code",
   "execution_count": null,
   "metadata": {
    "dotnet_interactive": {
     "language": "pwsh"
    },
    "vscode": {
     "languageId": "dotnet-interactive.pwsh"
    }
   },
   "outputs": [
    {
     "name": "stdout",
     "output_type": "stream",
     "text": [
      "\r\n",
      "    Directory: C:\\\r\n",
      "\r\n",
      "\u001b[32;1mMode                 LastWriteTime         Length Name\u001b[0m\r\n",
      "\u001b[32;1m----                 -------------         ------ ----\u001b[0m\r\n",
      "d----            7/2/2016  6:22 PM                Logs\r\n",
      "-a---           7/10/2018  2:01 PM             32 setup.log\r\n",
      "d----           12/1/2021 11:40 AM                Python310\r\n",
      "d----           5/17/2022 11:24 AM                ProgramData_nin\r\n",
      "\r\n"
     ]
    }
   ],
   "source": [
    "$Files = ls c:\\ | Get-Random -count 4\n",
    "$files"
   ]
  },
  {
   "cell_type": "markdown",
   "metadata": {},
   "source": []
  },
  {
   "cell_type": "code",
   "execution_count": null,
   "metadata": {
    "dotnet_interactive": {
     "language": "csharp"
    },
    "vscode": {
     "languageId": "dotnet-interactive.csharp"
    }
   },
   "outputs": [],
   "source": [
    "#!share --from pwsh Files\n",
    "Console.W\n",
    "// var E"
   ]
  },
  {
   "cell_type": "code",
   "execution_count": null,
   "metadata": {
    "dotnet_interactive": {
     "language": "pwsh"
    },
    "vscode": {
     "languageId": "dotnet-interactive.pwsh"
    }
   },
   "outputs": [
    {
     "name": "stdout",
     "output_type": "stream",
     "text": [
      "\r\n",
      "    Directory: C:\\\r\n",
      "\r\n",
      "\u001b[32;1mMode                 LastWriteTime         Length Name\u001b[0m\r\n",
      "\u001b[32;1m----                 -------------         ------ ----\u001b[0m\r\n",
      "d----           8/23/2022  3:44 PM                nin_temp\r\n",
      "-a---          12/27/2014  5:57 PM            145 HaxLogs.txt\r\n",
      "d----           8/26/2022 10:12 AM                Intel\r\n",
      "d----           5/17/2022 11:24 AM                ProgramData_nin\r\n",
      "\r\n"
     ]
    }
   ],
   "source": [
    "$files"
   ]
  },
  {
   "cell_type": "code",
   "execution_count": null,
   "metadata": {
    "dotnet_interactive": {
     "language": "csharp"
    },
    "vscode": {
     "languageId": "dotnet-interactive.csharp"
    }
   },
   "outputs": [
    {
     "ename": "Error",
     "evalue": "(7,22): error CS0103: The name 'Files' does not exist in the current context",
     "output_type": "error",
     "traceback": [
      "(7,22): error CS0103: The name 'Files' does not exist in the current context"
     ]
    }
   ],
   "source": [
    "#!share --from pwsh Files\n",
    "\n",
    "\n",
    "    var tinfo = nums.GetType();\n",
    "foreach (var item in nums) {\n",
    "    Console.WriteLine(String.Join(\", \", item));\n",
    "}\n",
    "Console.WriteLine( tinfo );\n",
    "\n",
    "foreach (var item in Files) {\n",
    "    Console.WriteLine(String.Join(\", \", item));\n",
    "}\n"
   ]
  }
 ],
 "metadata": {
  "kernelspec": {
   "display_name": ".NET (C#)",
   "language": "C#",
   "name": ".net-csharp"
  },
  "language_info": {
   "name": "C#"
  }
 },
 "nbformat": 4,
 "nbformat_minor": 2
}
