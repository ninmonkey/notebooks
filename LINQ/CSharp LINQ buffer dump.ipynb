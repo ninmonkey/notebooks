{
 "cells": [
  {
   "cell_type": "code",
   "execution_count": null,
   "metadata": {
    "dotnet_interactive": {
     "language": "csharp"
    },
    "vscode": {
     "languageId": "dotnet-interactive.csharp"
    }
   },
   "outputs": [
    {
     "name": "stdout",
     "output_type": "stream",
     "text": [
      "Hello\r\n",
      "World!\r\n",
      "\r\n"
     ]
    }
   ],
   "source": [
    "using System;\n",
    "using System.Text;\n",
    "using System.Linq;\n",
    "using System.Collections.Generic;\n",
    "\n",
    "StringBuilder strBuilder = new();\n",
    "strBuilder.AppendLine(\"Hello\");\n",
    "strBuilder.AppendLine(\"World!\");\n",
    "\n",
    "Console.WriteLine(strBuilder.ToString());\n",
    "\n",
    "\n",
    "\n",
    "List<int> nums = new List<int>() {1, 9, 3, 99};"
   ]
  },
  {
   "cell_type": "code",
   "execution_count": null,
   "metadata": {
    "dotnet_interactive": {
     "language": "pwsh"
    },
    "vscode": {
     "languageId": "dotnet-interactive.pwsh"
    }
   },
   "outputs": [
    {
     "name": "stdout",
     "output_type": "stream",
     "text": [
      "\r\n",
      "    Directory: C:\\\r\n",
      "\r\n",
      "\u001b[32;1mMode                 LastWriteTime         Length Name\u001b[0m\r\n",
      "\u001b[32;1m----                 -------------         ------ ----\u001b[0m\r\n",
      "d----           5/13/2022  2:22 PM                bin_nin\r\n",
      "d----            3/2/2022  9:37 AM                jake_uri\r\n",
      "d----           7/24/2022 11:32 AM                Temp\r\n",
      "d----           12/1/2021 11:40 AM                Python310\r\n",
      "\r\n"
     ]
    }
   ],
   "source": [
    "$rootItems = ls c:\\ | Get-Random -count 4\n",
    "$rootItems\n",
    "$rootItems = 0..4"
   ]
  },
  {
   "cell_type": "code",
   "execution_count": null,
   "metadata": {
    "dotnet_interactive": {
     "language": "csharp"
    },
    "vscode": {
     "languageId": "dotnet-interactive.csharp"
    }
   },
   "outputs": [
    {
     "name": "stdout",
     "output_type": "stream",
     "text": [
      "System.Object[]\r\n"
     ]
    }
   ],
   "source": [
    "#!share --from pwsh rootItems\n",
    "Console.WriteLine( rootItems );\n",
    "// var E\n",
    "// it is not sharing?"
   ]
  },
  {
   "cell_type": "code",
   "execution_count": null,
   "metadata": {
    "dotnet_interactive": {
     "language": "csharp"
    },
    "vscode": {
     "languageId": "dotnet-interactive.csharp"
    }
   },
   "outputs": [
    {
     "name": "stdout",
     "output_type": "stream",
     "text": [
      "Processed file count '12'.\r\n",
      "First: 'c:/.GamingRoot'.\r\n",
      "- 'c:/.GamingRoot'\r\n",
      "- 'c:/audio.log'\r\n",
      "- 'c:/bootmgr'\r\n",
      "- 'c:/BOOTNXT'\r\n",
      "- 'c:/bootTel.dat'\r\n",
      "- 'c:/DumpStack.log'\r\n",
      "- 'c:/DumpStack.log.tmp'\r\n",
      "- 'c:/HaxLogs.txt'\r\n",
      "- 'c:/hiberfil.sys'\r\n",
      "- 'c:/pagefile.sys'\r\n",
      "- 'c:/setup.log'\r\n",
      "- 'c:/swapfile.sys'\r\n",
      "c:/.GamingRoot, c:/audio.log, c:/bootmgr, c:/BOOTNXT, c:/bootTel.dat, c:/DumpStack.log, c:/DumpStack.log.tmp, c:/HaxLogs.txt, c:/hiberfil.sys, c:/pagefile.sys, c:/setup.log, c:/swapfile.sys\r\n"
     ]
    }
   ],
   "source": [
    "using System;\n",
    "using System.IO;\n",
    "using System.Collections;\n",
    "\n",
    "string targetDirectory = \"c:/\";\n",
    "string [] fileEntries = Directory.GetFiles(targetDirectory);\n",
    "\n",
    " Console.WriteLine(\"Processed file count '{0}'.\", fileEntries.Count());\t\n",
    " Console.WriteLine(\"First: '{0}'.\", fileEntries[0]);\t\n",
    " foreach(var item in fileEntries) {        \n",
    "    Console.WriteLine(\"- '{0}'\", item);\t\n",
    " }\n",
    "\n",
    "StringBuilder strBuilder = new();\n",
    "strBuilder.AppendJoin(\", \", fileEntries);\n",
    "Console.WriteLine(strBuilder.ToString());\n",
    "\n",
    "\n",
    " // sort by \n",
    "//  sorted = fileEntries.sele\n"
   ]
  },
  {
   "cell_type": "code",
   "execution_count": null,
   "metadata": {
    "dotnet_interactive": {
     "language": "csharp"
    },
    "vscode": {
     "languageId": "dotnet-interactive.csharp"
    }
   },
   "outputs": [
    {
     "ename": "Error",
     "evalue": "(3,40): error CS0246: The type or namespace name 'T' could not be found (are you missing a using directive or an assembly reference?)\r\n(3,15): error CS1105: Extension method must be static\r\n(4,12): error CS0029: Cannot implicitly convert type 'string' to 'String'",
     "output_type": "error",
     "traceback": [
      "(3,40): error CS0246: The type or namespace name 'T' could not be found (are you missing a using directive or an assembly reference?)\r\n",
      "(3,15): error CS1105: Extension method must be static\r\n",
      "(4,12): error CS0029: Cannot implicitly convert type 'string' to 'String'"
     ]
    }
   ],
   "source": [
    "// public static List<List<T>> partitionB<T>(\n",
    "// public Sstring partitionB<T>( this List<T> values, int chunkSize ) {\n",
    "public String toCsv<String>( this List<T> values) {\n",
    "    return \"stuff\";\n",
    "\n",
    "    StringBuilder strBuilder = new();\n",
    "    strBuilder.AppendJoin(\", \", fileEntries);\n",
    "    Console.WriteLine(strBuilder.ToString());\n",
    "\n",
    "\n",
    "    values.\n",
    "        Select( (x, i) =>\n",
    "             new { Index = i, Value = x } )\n",
    "        .GroupBy( x =>\n",
    "            x.Index / chunkSize )\n",
    "        .Select( x =>\n",
    "            x.Select(v =>\n",
    "                v.Value).ToList() )\n",
    "        .ToList();\n",
    "}\n",
    "// var items  = System.IO.GetFiles(\"c:/\");"
   ]
  },
  {
   "cell_type": "code",
   "execution_count": null,
   "metadata": {
    "dotnet_interactive": {
     "language": "pwsh"
    },
    "vscode": {
     "languageId": "dotnet-interactive.pwsh"
    }
   },
   "outputs": [
    {
     "name": "stdout",
     "output_type": "stream",
     "text": [
      "\r\n",
      "    Directory: C:\\\r\n",
      "\r\n",
      "\u001b[32;1mMode                 LastWriteTime         Length Name\u001b[0m\r\n",
      "\u001b[32;1m----                 -------------         ------ ----\u001b[0m\r\n",
      "d----           8/23/2022  3:44 PM                nin_temp\r\n",
      "-a---          12/27/2014  5:57 PM            145 HaxLogs.txt\r\n",
      "d----           8/26/2022 10:12 AM                Intel\r\n",
      "d----           5/17/2022 11:24 AM                ProgramData_nin\r\n",
      "\r\n"
     ]
    }
   ],
   "source": [
    "$files"
   ]
  },
  {
   "cell_type": "code",
   "execution_count": null,
   "metadata": {
    "dotnet_interactive": {
     "language": "csharp"
    },
    "vscode": {
     "languageId": "dotnet-interactive.csharp"
    }
   },
   "outputs": [
    {
     "ename": "Error",
     "evalue": "(7,22): error CS0103: The name 'Files' does not exist in the current context",
     "output_type": "error",
     "traceback": [
      "(7,22): error CS0103: The name 'Files' does not exist in the current context"
     ]
    }
   ],
   "source": [
    "#!share --from pwsh Files\n",
    "\n",
    "\n",
    "    var tinfo = nums.GetType();\n",
    "foreach (var item in nums) {\n",
    "    Console.WriteLine(String.Join(\", \", item));\n",
    "}\n",
    "Console.WriteLine( tinfo );\n",
    "\n",
    "foreach (var item in Files) {\n",
    "    Console.WriteLine(String.Join(\", \", item));\n",
    "}\n"
   ]
  },
  {
   "cell_type": "code",
   "execution_count": null,
   "metadata": {
    "dotnet_interactive": {
     "language": "csharp"
    },
    "vscode": {
     "languageId": "dotnet-interactive.csharp"
    }
   },
   "outputs": [],
   "source": [
    "#!share --from pwsh Files\n"
   ]
  }
 ],
 "metadata": {
  "kernelspec": {
   "display_name": ".NET (C#)",
   "language": "C#",
   "name": ".net-csharp"
  },
  "language_info": {
   "name": "C#"
  }
 },
 "nbformat": 4,
 "nbformat_minor": 2
}
