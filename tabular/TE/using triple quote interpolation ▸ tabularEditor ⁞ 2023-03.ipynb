{
 "cells": [
  {
   "attachments": {},
   "cell_type": "markdown",
   "metadata": {},
   "source": [
    "Refs:\n",
    "- interactive [string interpolation tutorial](https://learn.microsoft.com/en-us/dotnet/csharp/tutorials/exploration/interpolated-strings)\n",
    "- [MicrosoftLearn: docs/dotnet/tokens/interpolated](https://learn.microsoft.com/en-us/dotnet/csharp/language-reference/tokens/interpolated)\n",
    "- [`\"\"\"` string literal](https://learn.microsoft.com/en-us/dotnet/csharp/language-reference/tokens/raw-string) new feature added in  `C# 11`\n",
    "- https://docs.tabulareditor.com/api/index.html\n",
    "- [dotnet guide: raw-string-literals](https://learn.microsoft.com/en-us/dotnet/csharp/programming-guide/strings/#raw-string-literals)"
   ]
  },
  {
   "cell_type": "code",
   "execution_count": 1,
   "metadata": {
    "dotnet_interactive": {
     "language": "csharp"
    },
    "polyglot_notebook": {
     "kernelName": "csharp"
    }
   },
   "outputs": [
    {
     "name": "stdout",
     "output_type": "stream",
     "text": [
      "EVALUATE\n",
      "ADDCOLUMNS(\n",
      "    CALENDAR( dt\"2000-03-30\", dt\"2023-01-01\" ),\n",
      "    \"Month\", FORMAT( [Date], \"Mmm\" ),\n",
      "    \"Month No\", MONTH( [Date] ),\n",
      "    \"Year\", YEAR( [Date] ),\n",
      "    \"Month Year No\", ( YEAR( [Date] ) * 100 ) + MONTH( [Date] ),\n",
      "    \"Month Year\", FORMAT( [Date], \"Mmm yyyy\" ),\n",
      "    \"Quarter\", QUARTER( [Date] ),\n",
      "    \"Year Qtr\", FORMAT( [Date], \"YYYY QQ\" ),\n",
      "    \"Week Day\", WEEKDAY( [Date], 2 ),\n",
      "    \"Week\", FORMAT( [Date], \"Dddd\" )"
     ]
    }
   ],
   "source": [
    "var minDate = \"dt\\\"2000-03-30\\\"\";\n",
    "var maxDate = \"dt\\\"2023-01-01\\\"\";\n",
    "var render = $\"\"\"\n",
    "EVALUATE\n",
    "ADDCOLUMNS(\n",
    "    CALENDAR( {minDate}, {maxDate} ),\n",
    "    \"Month\", FORMAT( [Date], \"Mmm\" ),\n",
    "    \"Month No\", MONTH( [Date] ),\n",
    "    \"Year\", YEAR( [Date] ),\n",
    "    \"Month Year No\", ( YEAR( [Date] ) * 100 ) + MONTH( [Date] ),\n",
    "    \"Month Year\", FORMAT( [Date], \"Mmm yyyy\" ),\n",
    "    \"Quarter\", QUARTER( [Date] ),\n",
    "    \"Year Qtr\", FORMAT( [Date], \"YYYY QQ\" ),\n",
    "    \"Week Day\", WEEKDAY( [Date], 2 ),\n",
    "    \"Week\", FORMAT( [Date], \"Dddd\" )\n",
    "\"\"\";\n",
    "\n",
    "Console.Write(render);"
   ]
  }
 ],
 "metadata": {
  "kernelspec": {
   "display_name": ".NET (C#)",
   "language": "C#",
   "name": ".net-csharp"
  },
  "language_info": {
   "name": "polyglot-notebook"
  },
  "polyglot_notebook": {
   "kernelInfo": {
    "defaultKernelName": "csharp",
    "items": [
     {
      "aliases": [],
      "languageName": "csharp",
      "name": "csharp"
     }
    ]
   }
  }
 },
 "nbformat": 4,
 "nbformat_minor": 2
}
