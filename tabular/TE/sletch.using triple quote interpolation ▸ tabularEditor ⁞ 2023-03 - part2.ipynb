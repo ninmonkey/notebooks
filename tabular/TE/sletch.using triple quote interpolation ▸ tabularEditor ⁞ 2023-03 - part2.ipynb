{
 "cells": [
  {
   "attachments": {},
   "cell_type": "markdown",
   "metadata": {},
   "source": [
    "Refs:\n",
    "- [MicrosoftLearn: docs/dotnet/tokens/interpolated](https://learn.microsoft.com/en-us/dotnet/csharp/language-reference/tokens/interpolated)\n",
    "- [`\"\"\"` string literal](https://learn.microsoft.com/en-us/dotnet/csharp/language-reference/tokens/raw-string) new feature added in  `C# 11`\n",
    "- https://docs.tabulareditor.com/api/index.html"
   ]
  },
  {
   "cell_type": "code",
   "execution_count": 1,
   "metadata": {
    "dotnet_interactive": {
     "language": "csharp"
    },
    "polyglot_notebook": {
     "kernelName": "csharp"
    }
   },
   "outputs": [
    {
     "name": "stdout",
     "output_type": "stream",
     "text": [
      "EVALUATE\r\n",
      "ADDCOLUMNS(\r\n",
      "    CALENDAR( dt\"2000-03-30\", dt\"2023-01-01\" ),\r\n",
      "    \"Month\", FORMAT( [Date], \"Mmm\" ),\r\n",
      "    \"Month No\", MONTH( [Date] ),\r\n",
      "    \"Year\", YEAR( [Date] ),\r\n",
      "    \"Month Year No\", ( YEAR( [Date] ) * 100 ) + MONTH( [Date] ),\r\n",
      "    \"Month Year\", FORMAT( [Date], \"Mmm yyyy\" ),\r\n",
      "    \"Quarter\", QUARTER( [Date] ),\r\n",
      "    \"Year Qtr\", FORMAT( [Date], \"YYYY QQ\" ),\r\n",
      "    \"Week Day\", WEEKDAY( [Date], 2 ),\r\n",
      "    \"Week\", FORMAT( [Date], \"Dddd\" )"
     ]
    }
   ],
   "source": [
    "var minDate = \"dt\\\"2000-03-30\\\"\";\n",
    "var maxDate = \"dt\\\"2023-01-01\\\"\";\n",
    "var render = $\"\"\"\n",
    "EVALUATE\n",
    "ADDCOLUMNS(\n",
    "    CALENDAR( {minDate}, {maxDate} ),\n",
    "    \"Month\", FORMAT( [Date], \"Mmm\" ),\n",
    "    \"Month No\", MONTH( [Date] ),\n",
    "    \"Year\", YEAR( [Date] ),\n",
    "    \"Month Year No\", ( YEAR( [Date] ) * 100 ) + MONTH( [Date] ),\n",
    "    \"Month Year\", FORMAT( [Date], \"Mmm yyyy\" ),\n",
    "    \"Quarter\", QUARTER( [Date] ),\n",
    "    \"Year Qtr\", FORMAT( [Date], \"YYYY QQ\" ),\n",
    "    \"Week Day\", WEEKDAY( [Date], 2 ),\n",
    "    \"Week\", FORMAT( [Date], \"Dddd\" )\n",
    "\"\"\";\n",
    "\n",
    "Console.Write(render);"
   ]
  },
  {
   "cell_type": "code",
   "execution_count": 17,
   "metadata": {
    "dotnet_interactive": {
     "language": "csharp"
    },
    "polyglot_notebook": {
     "kernelName": "csharp"
    }
   },
   "outputs": [
    {
     "name": "stdout",
     "output_type": "stream",
     "text": [
      "\n",
      "EVALUATE DATATABLE\n",
      " \"Name\", STRING\n",
      " \"Ordinal\", INTEGER\n",
      "Medium\n",
      "Large\n",
      "\n",
      "EVALUATE \n",
      "Datatable(\n",
      "    Name, STRING,\n",
      "    Ordinal, INTEGER,\n",
      "    {\n",
      "        {'Small', 1},\n",
      "    }\n",
      ")\n",
      "(DATATABLE(\"{0}\",STRING,{{{{\"{1}\"}},{{\"{2}\"}}}}), GrossNet, Gross, Net)"
     ]
    }
   ],
   "source": [
    "var tableName = \"GrossNet\";\n",
    "var columnName = \"GrossNet\";\n",
    "var optionOne = \"Gross\";\n",
    "var optionTwo = \"Net\";\n",
    "var strB = new StringBuilder();\n",
    "\n",
    "// create an array of strings\n",
    "var arr = new string[] { \n",
    "    \"\",\n",
    "    \"EVALUATE DATATABLE\",\n",
    "    \" \\\"Name\\\", STRING\", \n",
    "    \" \\\"Ordinal\\\", INTEGER\", \n",
    "    \n",
    "\n",
    "    \"Medium\",\n",
    "    \"Large\"\n",
    "};\n",
    "\n",
    "var z = @\"\n",
    "\n",
    "\";\n",
    "\n",
    "var arr_rend = String.Join(\"\\n\", arr);\n",
    "Console.WriteLine( arr_rend ) ;\n",
    "var q = @\"\n",
    "EVALUATE \n",
    "Datatable(\n",
    "    Name, STRING,\n",
    "    Ordinal, INTEGER,\n",
    "    {\n",
    "        {'Small', 1},\n",
    "    }\n",
    ")\n",
    "\";\n",
    "//\n",
    "var render = (\"DATATABLE(\\\"{0}\\\",STRING,{{{{\\\"{1}\\\"}},{{\\\"{2}\\\"}}}})\", columnName, optionOne, optionTwo);\n",
    "\n",
    "Console.Write(q);\n",
    "Console.Write(render);"
   ]
  },
  {
   "cell_type": "code",
   "execution_count": 7,
   "metadata": {
    "dotnet_interactive": {
     "language": "pwsh"
    },
    "polyglot_notebook": {
     "kernelName": "pwsh"
    }
   },
   "outputs": [
    {
     "name": "stdout",
     "output_type": "stream",
     "text": [
      "\n",
      "    Directory: H:\\data\\2023\\pwsh\\notebooks\\tabular\\TE\n",
      "\n",
      "\u001b[32;1mMode                 LastWriteTime         Length Name\u001b[0m\n",
      "\u001b[32;1m----                 -------------         ------ ----\u001b[0m\n",
      "-a---           3/23/2023  8:18 PM           4439 using triple quote interpolation ▸ tabularEditor\n",
      "                                                  ⁞ 2023-03.ipynb\n",
      "\n"
     ]
    }
   ],
   "source": [
    "gci "
   ]
  },
  {
   "cell_type": "code",
   "execution_count": null,
   "metadata": {
    "dotnet_interactive": {
     "language": "pwsh"
    },
    "polyglot_notebook": {
     "kernelName": "pwsh"
    }
   },
   "outputs": [],
   "source": []
  }
 ],
 "metadata": {
  "kernelspec": {
   "display_name": ".NET (C#)",
   "language": "C#",
   "name": ".net-csharp"
  },
  "language_info": {
   "name": "polyglot-notebook"
  },
  "polyglot_notebook": {
   "kernelInfo": {
    "defaultKernelName": "csharp",
    "items": [
     {
      "aliases": [],
      "languageName": "csharp",
      "name": "csharp"
     }
    ]
   }
  }
 },
 "nbformat": 4,
 "nbformat_minor": 2
}
