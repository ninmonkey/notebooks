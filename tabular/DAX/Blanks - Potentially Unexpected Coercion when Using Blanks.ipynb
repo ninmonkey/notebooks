{
 "cells": [
  {
   "cell_type": "code",
   "execution_count": 19,
   "metadata": {
    "dotnet_interactive": {
     "language": "pwsh"
    },
    "polyglot_notebook": {
     "kernelName": "pwsh"
    }
   },
   "outputs": [
    {
     "name": "stdout",
     "output_type": "stream",
     "text": [
      "1\n",
      "2\n",
      "3\n",
      "4\n",
      "| `BLANK() = BLANK(),` | result | \n",
      "| `BLANK() = 0,` | result | \n",
      "| `BLANK() = \"\",` | result | \n"
     ]
    }
   ],
   "source": [
    "@(\n",
    "1..4\n",
    "\n",
    ")\n",
    "\n",
    "$Cols = @'\n",
    "BLANK() = BLANK(),\n",
    "BLANK() = 0,\n",
    "BLANK() = \"\",\n",
    "'@ -split '\\r?\\n'\n",
    "$markObj = $Cols\n",
    "| %{ \n",
    "    '| {0} | {1} | ' -f @(\n",
    "        $_ | Join-String -op '`' -os '`'\n",
    "        'result'\n",
    "    )\n",
    "}\n",
    "\n",
    "$markObj | set-clipboard -PassThru"
   ]
  },
  {
   "cell_type": "code",
   "execution_count": 20,
   "metadata": {
    "dotnet_interactive": {
     "language": "pwsh"
    },
    "polyglot_notebook": {
     "kernelName": "pwsh"
    }
   },
   "outputs": [],
   "source": [
    "function autoStr {\n",
    "    <#\n",
    "    .synopsis\n",
    "        Combines Auto-quote with optionally quoted text, without full here-string mode\n",
    "    #>\n",
    "    param(\n",
    "        # Which kind of string quoting?\n",
    "        [Parameter(Position = 0)] # maybe is the right choice?\n",
    "        [ValidateSet('Single', 'Double', 'Tick', 'None')]\n",
    "        [string]$Kind = 'Single',\n",
    "\n",
    "        [Parameter(Mandatory, ValueFromRemainingArguments)]\n",
    "        [string]$AutoStr        \n",
    "    )\n",
    "    $joinSplat = @{}\n",
    "    switch($Kind) { \n",
    "        'Single' { $joinSplat.SingleQuote = $true }\n",
    "        'Double' { $joinSplat.DoubleQuote = $True }\n",
    "        'None' { }\n",
    "        'Tick' { $joinSplat.OutputPrefix = '`' ; $joinSplat.OutputSuffix = '`'}\n",
    "        default { throw \"UnhandledAutoStrKind: $Kind !\" }\n",
    "\n",
    "    }\n",
    "    $AutoStr | Join-String @joinSplat\n",
    "}"
   ]
  },
  {
   "cell_type": "code",
   "execution_count": 21,
   "metadata": {
    "dotnet_interactive": {
     "language": "pwsh"
    },
    "polyglot_notebook": {
     "kernelName": "pwsh"
    }
   },
   "outputs": [
    {
     "name": "stdout",
     "output_type": "stream",
     "text": [
      "| ``BLANK() = BLANK(),`` | result | \n",
      "| ``BLANK() = 0,`` | result | \n",
      "| ``BLANK() = \"\",`` | result | \n"
     ]
    }
   ],
   "source": [
    "$Cols = @'\n",
    "BLANK() = BLANK(),\n",
    "BLANK() = 0,\n",
    "BLANK() = \"\",\n",
    "'@ -split '\\r?\\n'\n",
    "$markObj = $Cols\n",
    "| %{ \n",
    "    '| {0} | {1} | ' -f @(\n",
    "        $_ | Join-String -op '``' -os '``'\n",
    "        'result'\n",
    "    )\n",
    "}\n",
    "\n",
    "$markObj | set-clipboard -PassThru"
   ]
  },
  {
   "cell_type": "code",
   "execution_count": 22,
   "metadata": {
    "dotnet_interactive": {
     "language": "pwsh"
    },
    "polyglot_notebook": {
     "kernelName": "pwsh"
    }
   },
   "outputs": [
    {
     "name": "stdout",
     "output_type": "stream",
     "text": [
      "\n",
      "\u001b[32;1mName                           Value\u001b[0m\n",
      "\u001b[32;1m----                           -----\u001b[0m\n",
      "Ex                             '-Tick BLANK() = BLANK(),'\n",
      "Result                         sad\n",
      "\n"
     ]
    }
   ],
   "source": [
    "$Results = @(\n",
    "    @{\n",
    "        Ex = autoStr -Tick 'BLANK() = BLANK(),'\n",
    "        Result = 'sad'\n",
    "    }\n",
    "\n",
    ")\n",
    "\n",
    "$Results | ft"
   ]
  },
  {
   "cell_type": "code",
   "execution_count": 23,
   "metadata": {
    "dotnet_interactive": {
     "language": "pwsh"
    },
    "polyglot_notebook": {
     "kernelName": "pwsh"
    }
   },
   "outputs": [],
   "source": []
  }
 ],
 "metadata": {
  "kernelspec": {
   "display_name": ".NET (PowerShell)",
   "language": "PowerShell",
   "name": ".net-pwsh"
  },
  "polyglot_notebook": {
   "kernelInfo": {
    "defaultKernelName": "pwsh",
    "items": [
     {
      "aliases": [],
      "languageName": "pwsh",
      "name": "pwsh"
     },
     {
      "aliases": [
       "frontend"
      ],
      "languageName": null,
      "name": "vscode"
     },
     {
      "aliases": [],
      "languageName": null,
      "name": ".NET"
     }
    ]
   }
  }
 },
 "nbformat": 4,
 "nbformat_minor": 2
}
