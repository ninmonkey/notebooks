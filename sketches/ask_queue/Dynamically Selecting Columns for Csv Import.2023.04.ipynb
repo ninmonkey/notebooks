{
 "cells": [
  {
   "attachments": {},
   "cell_type": "markdown",
   "metadata": {},
   "source": [
    "****"
   ]
  },
  {
   "cell_type": "code",
   "execution_count": 131,
   "metadata": {
    "dotnet_interactive": {
     "language": "pwsh"
    },
    "polyglot_notebook": {
     "kernelName": "pwsh"
    }
   },
   "outputs": [
    {
     "name": "stdout",
     "output_type": "stream",
     "text": [
      "Last ran: 2023-04-16 16:14:21Z\n",
      "Pwsh: 7.3.0\n"
     ]
    }
   ],
   "source": [
    "# Pwsh 7 is not required, I used it to shorten examples\n",
    "Get-Date | Join-String -f 'Last ran: {0:u}'\n",
    "$PSVersionTable.PSVersion | Join-String -op 'Pwsh: '"
   ]
  },
  {
   "cell_type": "code",
   "execution_count": 132,
   "metadata": {
    "dotnet_interactive": {
     "language": "pwsh"
    },
    "polyglot_notebook": {
     "kernelName": "pwsh"
    }
   },
   "outputs": [
    {
     "name": "stdout",
     "output_type": "stream",
     "text": [
      "Loading Cached Version: g:\\temp\\xl\\process_list.csv .\r\n"
     ]
    }
   ],
   "source": [
    "# generate cached sample data\n",
    "$LogPath = 'g:\\temp\\xl\\process_list.csv'\n",
    "# remove-item $LogPath -ea 'ignore' # always recreate?\n",
    "\n",
    "if(-not (Test-Path $LogPath)) { \n",
    "    'Saving Process as csv, this is relatively slow....{0}' -f @( $LogPath )\n",
    "    Get-Process | Select -first 20 | ConvertTo-Csv | Set-Content -path $LogPath -Encoding utf8\n",
    "} else {\n",
    "    $LogPath | Join-String -f 'Loading Cached Version: {0} .'\n",
    "}"
   ]
  },
  {
   "cell_type": "code",
   "execution_count": 133,
   "metadata": {
    "dotnet_interactive": {
     "language": "pwsh"
    },
    "polyglot_notebook": {
     "kernelName": "pwsh"
    }
   },
   "outputs": [
    {
     "name": "stdout",
     "output_type": "stream",
     "text": [
      "69 items => __NounName, BasePriority, CommandLine, Company, Container, CPU, Description, EnableRaisingEvents, ExitCode, ExitTime, FileVersion, Handle, HandleCount, Handles, HasExited, Id, MachineName, MainModule, MainWindowHandle, MainWindowTitle, MaxWorkingSet, MinWorkingSet, Modules, Name, NonpagedSystemMemorySize, NonpagedSystemMemorySize64, NPM, PagedMemorySize, PagedMemorySize64, PagedSystemMemorySize, PagedSystemMemorySize64, Parent, Path, PeakPagedMemorySize, PeakPagedMemorySize64, PeakVirtualMemorySize, PeakVirtualMemorySize64, PeakWorkingSet, PeakWorkingSet64, PM, PriorityBoostEnabled, PriorityClass, PrivateMemorySize, PrivateMemorySize64, PrivilegedProcessorTime, ProcessName, ProcessorAffinity, Product, ProductVersion, Responding, SafeHandle, SessionId, SI, Site, StandardError, StandardInput, StandardOutput, StartInfo, StartTime, SynchronizingObject, Threads, TotalProcessorTime, UserProcessorTime, VirtualMemorySize, VirtualMemorySize64, VM, WorkingSet, WorkingSet64, WS\n",
      "9 items => NonpagedSystemMemorySize64, PagedMemorySize64, PagedSystemMemorySize64, PeakPagedMemorySize64, PeakVirtualMemorySize64, PeakWorkingSet64, PrivateMemorySize64, VirtualMemorySize64, WorkingSet64\n"
     ]
    }
   ],
   "source": [
    "function writeColumnSummary {\n",
    "    # summarize the number of columns, and the names\n",
    "    param(\n",
    "        [Parameter(Mandatory)]\n",
    "        $InputObject\n",
    "    )\n",
    "\n",
    "    $Uniques = $InputObject | Sort-Object -unique\n",
    "    '{0} items => {1}' -f @(\n",
    "        $Uniques.Count\n",
    "        $Uniques -join ', ' \n",
    "        \n",
    "    )\n",
    "}\n",
    "\n",
    "$contents = Get-Content $Logpath  | ConvertFrom-Csv\n",
    "\n",
    "# Column names become the PSObject's Property name, so loop on that\n",
    "$names_all = @($contents)[0].PsObject.Properties.Name\n",
    "\n",
    "# conditionally select specific columns\n",
    "$names_64 = $names_all -match '64$' # ends in 64bit\n",
    "\n",
    "writeColumnSummary $names_all\n",
    "writeColumnSummary $names_64\n",
    "\n"
   ]
  },
  {
   "cell_type": "code",
   "execution_count": 134,
   "metadata": {
    "dotnet_interactive": {
     "language": "pwsh"
    },
    "polyglot_notebook": {
     "kernelName": "pwsh"
    }
   },
   "outputs": [
    {
     "name": "stdout",
     "output_type": "stream",
     "text": [
      "\u001b[31;1mGet-Item: \u001b[0m\n",
      "\u001b[31;1m\u001b[36;1mLine |\u001b[0m\n",
      "\u001b[31;1m\u001b[36;1m\u001b[36;1m  22 | \u001b[0m     Path        = \u001b[36;1mGet-Item -ea 'stop' $path_csv\u001b[0m\n",
      "\u001b[31;1m\u001b[36;1m\u001b[36;1m\u001b[0m\u001b[36;1m\u001b[0m\u001b[36;1m     | \u001b[31;1m                   ~~~~~~~~~~~~~~~~~~~~~~~~~~~~~\u001b[0m\n",
      "\u001b[31;1m\u001b[36;1m\u001b[36;1m\u001b[0m\u001b[36;1m\u001b[0m\u001b[36;1m\u001b[31;1m\u001b[31;1m\u001b[36;1m     | \u001b[31;1mCannot find path 'H:\\data\\2023\\pwsh\\notebooks\\sketches\\ask_queue\\Data\\edispensary.csv' because it does not exist.\u001b[0m\n"
     ]
    }
   ],
   "source": [
    "# ## maybe final\n",
    "# $col = ''\n",
    "# foreach ($column in $cols_edispensary) { \n",
    "#     if ($column.Substring(0, $column.Length - 2) -ne 'Blank') {\n",
    "#         $col = $col + ', ' + $column.ToString()\n",
    "#     }\n",
    "# } # drop all column names that begin with 'Blank'\n",
    "\n",
    "# $col = $col.Substring(2, $col.Length - 2) # Take away the initial comma and space at the start.\n",
    "\n",
    "$column_schema = @{\n",
    "    Text   = 'FirstName'\n",
    "    Number = 'PhoneNumber'\n",
    "    # '...'\n",
    "}\n",
    "$path_csv = (Join-Path '.' 'Data/edispensary.csv')\n",
    "\n",
    "$wanted_columns = @($cols_edispensary)[0].PsObject.Properties.Name\n",
    "| ?{ $_.Name -notmatch '^blank' } # ignore anything that is prefixed with 'blank'\n",
    "\n",
    "$importDbaCsvSplat = @{\n",
    "    Path        = Get-Item -ea 'stop' $path_csv\n",
    "    Delimiter   = ','\n",
    "    SqlInstance = $SQLserver\n",
    "    Database    = $SQLdatabase\n",
    "    Schema      = $SQLSchema\n",
    "    Table       = 'edispensary'\n",
    "    # Column      = $col\n",
    "    ColumnMap = $column_schema\n",
    "    Truncate    = $true\n",
    "}\n",
    "\n",
    "$PathCsv = Get-Item -ea 'stop' $path_csv\n",
    "$records = Get-Content -path $PathCsv | ConvertFrom-Csv \n",
    "\n",
    "# Import-DbaCsv @importDbaCsvSplat\n",
    "\n",
    "\n",
    "# $importDbaCsvSplat = @{\n",
    "#     Path        = 'c:/temp/supersmall.csv'\n",
    "#     Database    = 'tempdb'\n",
    "#     SqlInstance = 'sql2016'\n",
    "#     ColumnMap   = $columns\n",
    "# }\n",
    "\n",
    "# Import-DbaCsv @importDbaCsvSplat"
   ]
  },
  {
   "attachments": {},
   "cell_type": "markdown",
   "metadata": {},
   "source": [
    "## Original code from a Discord thread\n",
    "\n",
    "- [discord](https://discord.com/channels/180528040881815552/800214699463409704/1096803145096630345)\n",
    "\n",
    "```ps1\n",
    "$col = ''\n",
    "foreach ($column in $cols_edispensary) { \n",
    "    if ($column.Substring(0, $column.Length - 2) -ne 'Blank') {\n",
    "        $col = $col + ', ' + $column.ToString()\n",
    "    }\n",
    "} # drop all column names that begin with 'Blank'\n",
    "\n",
    "$col = $col.Substring(2, $col.Length - 2) # Take away the initial comma and space at the start.\n",
    "$importDbaCsvSplat = @{\n",
    "    Path        = Join-Path $folder_cleaned 'Data/edispensary.csv'\n",
    "    Delimiter   = ','\n",
    "    SqlInstance = $SQLserver\n",
    "    Database    = $SQLdatabase\n",
    "    Schema      = $SQLSchema\n",
    "    Table       = 'edispensary'\n",
    "    Column      = $col\n",
    "    Truncate    = $true\n",
    "}\n",
    "\n",
    "Import-DbaCsv @importDbaCsvSplat\n",
    "\n",
    "$columns = @{\n",
    "    Text   = 'FirstName'\n",
    "    Number = 'PhoneNumber'\n",
    "}\n",
    "$importDbaCsvSplat = @{\n",
    "    Path        = 'c:/temp/supersmall.csv'\n",
    "    SqlInstance = 'sql2016'\n",
    "    Database    = 'tempdb'\n",
    "    ColumnMap   = $columns\n",
    "}\n",
    "\n",
    "Import-DbaCsv @importDbaCsvSplat\n",
    "```"
   ]
  },
  {
   "attachments": {},
   "cell_type": "markdown",
   "metadata": {},
   "source": [
    "# About: EditorServicesCommandSuite\n",
    "\n",
    "To enable the amazing hotkey `ConvertTo-SplatExpression` and other hotkeys, you can view this thread. It's the sticky in the `#vscode` channel. <https://discord.com/channels/180528040881815552/446531919644065804/1005277211659604059>\n",
    "\n",
    "\n",
    "## Step1: Install the module:\n",
    "\n",
    "```ps1\n",
    "Install-Module -Scope CurrentUser -AllowPrerelease EditorServicesCommandSuite\n",
    "```\n",
    "\n",
    "## Step2: Update your profile\n",
    "\n",
    "In your profile, enable automatic loading using this command. To mport only in VsCode, save it in your profile at the filepath `$PROFILE.AllUsersCurrentHost` . \n",
    "If you want your profile to always load -- inside and outside of vs code, then edit the filepath `$PROFILE.CurrentUserAllHosts`\n",
    "\n",
    "```ps1\n",
    "Import-CommandSuite\n",
    "```\n",
    "\n",
    "## Step3: New Keybindings\n",
    "\n",
    "```jsonc\n",
    "    {\n",
    "        \"key\": \"ctrl+.\",\n",
    "        \"command\": \"PowerShell.InvokeRegisteredEditorCommand\",\n",
    "        \"args\": { \"commandName\": \"Invoke-DocumentRefactor\" },\n",
    "        \"when\": \"editorLangId == 'powershell'\"\n",
    "    },\n",
    "    {\n",
    "        \"key\": \"ctrl+shift+s\",\n",
    "        \"command\": \"PowerShell.InvokeRegisteredEditorCommand\",\n",
    "        \"args\": { \"commandName\": \"ConvertTo-SplatExpression\" },\n",
    "        \"when\": \"editorLangId == 'powershell'\"\n",
    "    },\n",
    "```"
   ]
  }
 ],
 "metadata": {
  "kernelspec": {
   "display_name": ".NET (PowerShell)",
   "language": "PowerShell",
   "name": ".net-pwsh"
  },
  "language_info": {
   "name": "polyglot-notebook"
  },
  "polyglot_notebook": {
   "kernelInfo": {
    "defaultKernelName": "pwsh",
    "items": [
     {
      "aliases": [],
      "languageName": "pwsh",
      "name": "pwsh"
     }
    ]
   }
  }
 },
 "nbformat": 4,
 "nbformat_minor": 2
}
