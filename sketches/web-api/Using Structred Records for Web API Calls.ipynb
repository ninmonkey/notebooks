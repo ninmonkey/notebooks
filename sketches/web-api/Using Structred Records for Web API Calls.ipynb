{
 "cells": [
  {
   "cell_type": "code",
   "execution_count": null,
   "metadata": {
    "dotnet_interactive": {
     "language": "pwsh"
    },
    "vscode": {
     "languageId": "dotnet-interactive.pwsh"
    }
   },
   "outputs": [],
   "source": []
  },
  {
   "cell_type": "code",
   "execution_count": null,
   "metadata": {
    "dotnet_interactive": {
     "language": "pwsh"
    },
    "vscode": {
     "languageId": "dotnet-interactive.pwsh"
    }
   },
   "outputs": [
    {
     "name": "stdout",
     "output_type": "stream",
     "text": [
      "\u001b[93mWARNING: unfortunately this didnt persist, easily\u001b[0m\r\n",
      "dsf\r\n",
      "123\r\n",
      "dsf\r\n",
      "123\r\n",
      "4\r\n"
     ]
    }
   ],
   "source": [
    "# notebooks might require this in every cell\n",
    "using namespace System.Collections.Generic;\n",
    "\n",
    "write-warning 'unfortunately this didnt persist, easily'\n",
    "# Fake list for an API response \n",
    "$rawJson = @'\n",
    "[\n",
    "  {\n",
    "    \"Name\": \"Bob\",\n",
    "    \"Id\": 4\n",
    "  },\n",
    "  {\n",
    "    \"Name\": \"Jen\",\n",
    "    \"Id\": 37\n",
    "  }\n",
    "]\n",
    "'@\n",
    "[object[]]$_apiList = @()\n",
    "\n",
    "function api_AddEmployee {\n",
    "    [object[]]$global:_apiList += 'newemp'\n",
    "}\n",
    "\n",
    "$_apiList += 'dsf'\n",
    "$_apiList += '123'\n",
    "$_apiList\n",
    "\n",
    "API-AddEmployee \n",
    "API-AddEmployee \n",
    "API-AddEmployee \n",
    "API-AddEmployee \n",
    "\n",
    "$_apiList+= 4\n",
    "\n",
    "$_apiList\n"
   ]
  },
  {
   "cell_type": "code",
   "execution_count": null,
   "metadata": {
    "dotnet_interactive": {
     "language": "pwsh"
    },
    "vscode": {
     "languageId": "dotnet-interactive.pwsh"
    }
   },
   "outputs": [
    {
     "name": "stdout",
     "output_type": "stream",
     "text": [
      "dsf\r\n",
      "123\r\n",
      "4\r\n",
      "------------------------------\r\n",
      "dsf\r\n",
      "123\r\n",
      "4\r\n",
      "\r\n",
      "Tuesday, July 19, 2022 1:39:17 PM\r\n",
      "------------------------------\r\n",
      "dsf\r\n",
      "123\r\n",
      "4\r\n",
      "Tuesday, July 19, 2022 1:39:17 PM\r\n",
      "------------------------------\r\n",
      "dsf\r\n",
      "123\r\n",
      "4\r\n",
      "\r\n"
     ]
    }
   ],
   "source": [
    "if($_apiList.count -gt 5) { $_apiList.Clear()}\n",
    "# $_apiList.GetType()\n",
    "function api_AddEmployee {\n",
    "    $global:_apiList += 345\n",
    "    # $_apiList += get-date\n",
    "    # [object[]]$global:_apiList += 'newemp'\n",
    "    # $_apiList += get-date\n",
    "}\n",
    "\n",
    "function _addTime {\n",
    "    @( \n",
    "        $_apiList\n",
    "        get-date\n",
    "    )\n",
    "}\n",
    "\n",
    "# . api_AddEmployee\n",
    "\n",
    "# api_AddEmployee\n",
    "$_apiList \n",
    "\n",
    "'-'*30\n",
    "_addTime\n",
    "'-'*30\n",
    ". _addTime\n",
    "'-'*30\n",
    "\n",
    "$_apiList "
   ]
  },
  {
   "cell_type": "code",
   "execution_count": null,
   "metadata": {
    "dotnet_interactive": {
     "language": "pwsh"
    },
    "vscode": {
     "languageId": "dotnet-interactive.pwsh"
    }
   },
   "outputs": [],
   "source": [
    "\n",
    "\n",
    "\n",
    "# [object[]]$global:_apiEmployees = @()\n",
    "# function API-Reset {\n",
    "#     $global:_apiEmployees = @()\n",
    "# }\n",
    "# function API-GetEmployees {\n",
    "#     # mock json as an api response \n",
    "#     $default = $EmployeeList = @(\n",
    "#         @{ Name = 'Bob'; Id = 4 }\n",
    "#         @{ Name = 'Jen'; Id = 37 }    \n",
    "#     ) | ConvertTo-Json\n",
    "#     $global:_apiEmployees\n",
    "\n",
    "#     # return inital sample data else current state\n",
    "#     if(-not $global:_apiEmployees.count -gt 1) {\n",
    "#         $global:_apiEmployees = $Default\n",
    "#         $global:_apiEmployees\n",
    "#         'write spawn new'\n",
    "#     } else { \n",
    "#         $global:_apiEmployees\n",
    "#         'got it'\n",
    "#     }        \n",
    "#     return $global:_apiEmployees\n",
    "# }\n",
    "\n",
    "# API-Reset\n",
    "# $RawJsonText = API-GetEmployees\n",
    "# $rawJsonText\n",
    "# API-GetEmployees"
   ]
  },
  {
   "cell_type": "code",
   "execution_count": null,
   "metadata": {
    "dotnet_interactive": {
     "language": "pwsh"
    },
    "vscode": {
     "languageId": "dotnet-interactive.pwsh"
    }
   },
   "outputs": [
    {
     "name": "stdout",
     "output_type": "stream",
     "text": [
      "\u001b[93mWARNING: emp count: 4\u001b[0m\r\n",
      "[\r\n",
      "  {\r\n",
      "    \"Name\": \"Bob\",\r\n",
      "    \"Id\": 4\r\n",
      "  },\r\n",
      "  {\r\n",
      "    \"Name\": \"Jen\",\r\n",
      "    \"Id\": 37\r\n",
      "  }\r\n",
      "]\r\n",
      "[\r\n",
      "  {\r\n",
      "    \"Name\": \"Bob\",\r\n",
      "    \"Id\": 4\r\n",
      "  },\r\n",
      "  {\r\n",
      "    \"Name\": \"Jen\",\r\n",
      "    \"Id\": 37\r\n",
      "  }\r\n",
      "]\r\n",
      "[\r\n",
      "  {\r\n",
      "    \"Name\": \"Bob\",\r\n",
      "    \"Id\": 4\r\n",
      "  },\r\n",
      "  {\r\n",
      "    \"Name\": \"Jen\",\r\n",
      "    \"Id\": 37\r\n",
      "  }\r\n",
      "]\r\n",
      "[\r\n",
      "  {\r\n",
      "    \"Name\": \"Bob\",\r\n",
      "    \"Id\": 4\r\n",
      "  },\r\n",
      "  {\r\n",
      "    \"Name\": \"Jen\",\r\n",
      "    \"Id\": 37\r\n",
      "  }\r\n",
      "]\r\n",
      "[\r\n",
      "  {\r\n",
      "    \"Name\": \"Bob\",\r\n",
      "    \"Id\": 4\r\n",
      "  },\r\n",
      "  {\r\n",
      "    \"Name\": \"Jen\",\r\n",
      "    \"Id\": 37\r\n",
      "  }\r\n",
      "]\r\n",
      "[\r\n",
      "  {\r\n",
      "    \"Name\": \"Bob\",\r\n",
      "    \"Id\": 4\r\n",
      "  },\r\n",
      "  {\r\n",
      "    \"Name\": \"Jen\",\r\n",
      "    \"Id\": 37\r\n",
      "  }\r\n",
      "]\r\n",
      "[\r\n",
      "  {\r\n",
      "    \"Name\": \"Bob\",\r\n",
      "    \"Id\": 4\r\n",
      "  },\r\n",
      "  {\r\n",
      "    \"Name\": \"Jen\",\r\n",
      "    \"Id\": 37\r\n",
      "  }\r\n",
      "]\r\n",
      "[\r\n",
      "  {\r\n",
      "    \"Name\": \"Bob\",\r\n",
      "    \"Id\": 4\r\n",
      "  },\r\n",
      "  {\r\n",
      "    \"Name\": \"Jen\",\r\n",
      "    \"Id\": 37\r\n",
      "  }\r\n",
      "]\r\n",
      "\u001b[93mWARNING: emp count: 8\u001b[0m\r\n",
      "[\r\n",
      "  {\r\n",
      "    \"Name\": \"Bob\",\r\n",
      "    \"Id\": 4\r\n",
      "  },\r\n",
      "  {\r\n",
      "    \"Name\": \"Jen\",\r\n",
      "    \"Id\": 37\r\n",
      "  }\r\n",
      "]\r\n",
      "[\r\n",
      "  {\r\n",
      "    \"Name\": \"Bob\",\r\n",
      "    \"Id\": 4\r\n",
      "  },\r\n",
      "  {\r\n",
      "    \"Name\": \"Jen\",\r\n",
      "    \"Id\": 37\r\n",
      "  }\r\n",
      "]\r\n",
      "[\r\n",
      "  {\r\n",
      "    \"Name\": \"Bob\",\r\n",
      "    \"Id\": 4\r\n",
      "  },\r\n",
      "  {\r\n",
      "    \"Name\": \"Jen\",\r\n",
      "    \"Id\": 37\r\n",
      "  }\r\n",
      "]\r\n",
      "[\r\n",
      "  {\r\n",
      "    \"Name\": \"Bob\",\r\n",
      "    \"Id\": 4\r\n",
      "  },\r\n",
      "  {\r\n",
      "    \"Name\": \"Jen\",\r\n",
      "    \"Id\": 37\r\n",
      "  }\r\n",
      "]\r\n",
      "[\r\n",
      "  {\r\n",
      "    \"Name\": \"Bob\",\r\n",
      "    \"Id\": 4\r\n",
      "  },\r\n",
      "  {\r\n",
      "    \"Name\": \"Jen\",\r\n",
      "    \"Id\": 37\r\n",
      "  }\r\n",
      "]\r\n",
      "[\r\n",
      "  {\r\n",
      "    \"Name\": \"Bob\",\r\n",
      "    \"Id\": 4\r\n",
      "  },\r\n",
      "  {\r\n",
      "    \"Name\": \"Jen\",\r\n",
      "    \"Id\": 37\r\n",
      "  }\r\n",
      "]\r\n",
      "[\r\n",
      "  {\r\n",
      "    \"Name\": \"Bob\",\r\n",
      "    \"Id\": 4\r\n",
      "  },\r\n",
      "  {\r\n",
      "    \"Name\": \"Jen\",\r\n",
      "    \"Id\": 37\r\n",
      "  }\r\n",
      "]\r\n",
      "[\r\n",
      "  {\r\n",
      "    \"Name\": \"Bob\",\r\n",
      "    \"Id\": 4\r\n",
      "  },\r\n",
      "  {\r\n",
      "    \"Name\": \"Jen\",\r\n",
      "    \"Id\": 37\r\n",
      "  }\r\n",
      "]\r\n",
      "got it\r\n",
      "[\r\n",
      "  {\r\n",
      "    \"Name\": \"Bob\",\r\n",
      "    \"Id\": 4\r\n",
      "  },\r\n",
      "  {\r\n",
      "    \"Name\": \"Jen\",\r\n",
      "    \"Id\": 37\r\n",
      "  }\r\n",
      "]\r\n",
      "[\r\n",
      "  {\r\n",
      "    \"Name\": \"Bob\",\r\n",
      "    \"Id\": 4\r\n",
      "  },\r\n",
      "  {\r\n",
      "    \"Name\": \"Jen\",\r\n",
      "    \"Id\": 37\r\n",
      "  }\r\n",
      "]\r\n",
      "[\r\n",
      "  {\r\n",
      "    \"Name\": \"Bob\",\r\n",
      "    \"Id\": 4\r\n",
      "  },\r\n",
      "  {\r\n",
      "    \"Name\": \"Jen\",\r\n",
      "    \"Id\": 37\r\n",
      "  }\r\n",
      "]\r\n",
      "[\r\n",
      "  {\r\n",
      "    \"Name\": \"Bob\",\r\n",
      "    \"Id\": 4\r\n",
      "  },\r\n",
      "  {\r\n",
      "    \"Name\": \"Jen\",\r\n",
      "    \"Id\": 37\r\n",
      "  }\r\n",
      "]\r\n",
      "[\r\n",
      "  {\r\n",
      "    \"Name\": \"Bob\",\r\n",
      "    \"Id\": 4\r\n",
      "  },\r\n",
      "  {\r\n",
      "    \"Name\": \"Jen\",\r\n",
      "    \"Id\": 37\r\n",
      "  }\r\n",
      "]\r\n",
      "[\r\n",
      "  {\r\n",
      "    \"Name\": \"Bob\",\r\n",
      "    \"Id\": 4\r\n",
      "  },\r\n",
      "  {\r\n",
      "    \"Name\": \"Jen\",\r\n",
      "    \"Id\": 37\r\n",
      "  }\r\n",
      "]\r\n",
      "[\r\n",
      "  {\r\n",
      "    \"Name\": \"Bob\",\r\n",
      "    \"Id\": 4\r\n",
      "  },\r\n",
      "  {\r\n",
      "    \"Name\": \"Jen\",\r\n",
      "    \"Id\": 37\r\n",
      "  }\r\n",
      "]\r\n",
      "[\r\n",
      "  {\r\n",
      "    \"Name\": \"Bob\",\r\n",
      "    \"Id\": 4\r\n",
      "  },\r\n",
      "  {\r\n",
      "    \"Name\": \"Jen\",\r\n",
      "    \"Id\": 37\r\n",
      "  }\r\n",
      "]\r\n"
     ]
    }
   ],
   "source": [
    "# notebooks might require this in every cell\n",
    "using namespace System.Collections.Generic;\n",
    "\n",
    "# [object[]]$global:_apiEmployees = @()\n",
    "function API-Reset {\n",
    "    write-warning 'manual reset'\n",
    "    $global:_apiEmployees = @()\n",
    "}\n",
    "function API-GetEmployees {\n",
    "    # mock json as an api response \n",
    "    $default = $EmployeeList = @(\n",
    "        @{ Name = 'Bob'; Id = 4 }\n",
    "        @{ Name = 'Jen'; Id = 37 }    \n",
    "    ) | ConvertTo-Json\n",
    "    $global:_apiEmployees\n",
    "\n",
    "    $global:_apiEmployees.count\n",
    "    | Join-string -op 'emp count: '\n",
    "    | write-warning\n",
    "\n",
    "    # return inital sample data else current state\n",
    "    if($global:_apiEmployees.count -le 0 ) {\n",
    "        $global:_apiEmployees = $Default\n",
    "        $global:_apiEmployees\n",
    "        'write spawn new'\n",
    "    } else { \n",
    "        $global:_apiEmployees\n",
    "        'got it'\n",
    "    }        \n",
    "    return $global:_apiEmployees\n",
    "}\n",
    "\n",
    "# API-Reset\n",
    "$RawJsonText = API-GetEmployees\n",
    "# $rawJsonText\n",
    "$global:_apiEmployees = @(\n",
    "    $global:_apiEmployees\n",
    "    $global:_apiEmployees\n",
    ")\n",
    "API-GetEmployees"
   ]
  },
  {
   "cell_type": "markdown",
   "metadata": {},
   "source": [
    "Generate Json for the sample"
   ]
  },
  {
   "cell_type": "code",
   "execution_count": null,
   "metadata": {
    "dotnet_interactive": {
     "language": "pwsh"
    },
    "vscode": {
     "languageId": "dotnet-interactive.pwsh"
    }
   },
   "outputs": [
    {
     "name": "stdout",
     "output_type": "stream",
     "text": [
      "\u001b[91mConvertFrom-Json: \r\n",
      "\u001b[96mLine |\r\n",
      "\u001b[96m   7 | \u001b[0m [list[Employee]]$Employees = $RawJsonText | \u001b[96mConvertFrom-Json\u001b[0m\r\n",
      "\u001b[96m     | \u001b[91m                                             ~~~~~~~~~~~~~~~~\r\n",
      "\u001b[91m\u001b[96m     | \u001b[91mConversion from JSON failed with error: Unexpected character encountered while parsing value: g. Path '', line 0, position 0.\u001b[0m\r\n",
      "\r\n",
      "\u001b[32;1mName Id\u001b[0m\r\n",
      "\u001b[32;1m---- --\u001b[0m\r\n",
      "Bob   4\r\n",
      "Jen  37\r\n",
      "\r\n"
     ]
    }
   ],
   "source": [
    "class Employee {\n",
    "    [ValidateNotNullOrEmpty()]\n",
    "    [string]$Name\n",
    "    [int]$Id\n",
    "}\n",
    "\n",
    "[list[Employee]]$Employees = $RawJsonText | ConvertFrom-Json\n",
    "$Employees"
   ]
  },
  {
   "cell_type": "code",
   "execution_count": null,
   "metadata": {
    "dotnet_interactive": {
     "language": "pwsh"
    },
    "vscode": {
     "languageId": "dotnet-interactive.pwsh"
    }
   },
   "outputs": [],
   "source": [
    "function API-AddEmployee {\n",
    "    \n",
    "}"
   ]
  },
  {
   "cell_type": "code",
   "execution_count": null,
   "metadata": {
    "dotnet_interactive": {
     "language": "pwsh"
    },
    "vscode": {
     "languageId": "dotnet-interactive.pwsh"
    }
   },
   "outputs": [
    {
     "name": "stdout",
     "output_type": "stream",
     "text": [
      "[\r\n",
      "  {\r\n",
      "    \"Name\": \"Bob\",\r\n",
      "    \"Id\": 4\r\n",
      "  },\r\n",
      "  {\r\n",
      "    \"Name\": \"Jen\",\r\n",
      "    \"Id\": 37\r\n",
      "  }\r\n",
      "]\r\n"
     ]
    }
   ],
   "source": [
    "$Employees | ConvertTo-Json"
   ]
  },
  {
   "cell_type": "code",
   "execution_count": null,
   "metadata": {
    "dotnet_interactive": {
     "language": "pwsh"
    },
    "vscode": {
     "languageId": "dotnet-interactive.pwsh"
    }
   },
   "outputs": [
    {
     "name": "stdout",
     "output_type": "stream",
     "text": [
      "[\r\n",
      "  {\r\n",
      "    \"Name\": \"jen\",\r\n",
      "    \"Id\": 234\r\n",
      "  },\r\n",
      "  {\r\n",
      "    \"Name\": \"ben\",\r\n",
      "    \"Id\": 423\r\n",
      "  }\r\n",
      "]\r\n"
     ]
    }
   ],
   "source": [
    "using namespace System.Collections.Generic;\n",
    "\n",
    "[list[Employee]]$NewEmployees = @(\n",
    "    [Employee]@{ Name = 'jen'; Id = '234' }\n",
    "    [Employee]@{ Name = 'ben'; Id = '423' }\n",
    "    \n",
    ")\n",
    "\n",
    "$NewEmployees | ConvertTo-Json\n"
   ]
  }
 ],
 "metadata": {
  "kernelspec": {
   "display_name": ".NET (PowerShell)",
   "language": "PowerShell",
   "name": ".net-pwsh"
  },
  "language_info": {
   "name": "PowerShell"
  }
 },
 "nbformat": 4,
 "nbformat_minor": 2
}
