{
 "cells": [
  {
   "cell_type": "code",
   "execution_count": null,
   "metadata": {
    "dotnet_interactive": {
     "language": "pwsh"
    },
    "vscode": {
     "languageId": "dotnet-interactive.pwsh"
    }
   },
   "outputs": [
    {
     "name": "stdout",
     "output_type": "stream",
     "text": [
      "[\r\n",
      "  {\r\n",
      "    \"Name\": \"Bob\",\r\n",
      "    \"Id\": 4\r\n",
      "  },\r\n",
      "  {\r\n",
      "    \"Name\": \"Jen\",\r\n",
      "    \"Id\": 37\r\n",
      "  }\r\n",
      "]\r\n"
     ]
    }
   ],
   "source": [
    "using namespace System.Collections.Generic\n",
    "\n",
    "$RawJsonText = $EmployeeList = @(\n",
    "    @{\n",
    "        Name = 'Bob'\n",
    "        Id = 4\n",
    "    }\n",
    "    @{\n",
    "        Name = 'Jen'\n",
    "        Id = 37\n",
    "    }\n",
    ") | ConvertTo-Json\n",
    "$RawJsonText"
   ]
  },
  {
   "cell_type": "code",
   "execution_count": null,
   "metadata": {
    "dotnet_interactive": {
     "language": "pwsh"
    },
    "vscode": {
     "languageId": "dotnet-interactive.pwsh"
    }
   },
   "outputs": [],
   "source": [
    "class Employee {\n",
    "    [ValidateNotNullOrEmpty()]\n",
    "    [string]$Name\n",
    "    [int]$Id\n",
    "}\n",
    "\n",
    "[System.Collections.Generic.list[Employee]]$Employees = $RawJsonText | ConvertFrom-Json"
   ]
  },
  {
   "cell_type": "code",
   "execution_count": null,
   "metadata": {
    "dotnet_interactive": {
     "language": "pwsh"
    },
    "vscode": {
     "languageId": "dotnet-interactive.pwsh"
    }
   },
   "outputs": [
    {
     "name": "stdout",
     "output_type": "stream",
     "text": [
      "\r\n",
      "\u001b[32;1mName Id\u001b[0m\r\n",
      "\u001b[32;1m---- --\u001b[0m\r\n",
      "Bob   4\r\n",
      "Jen  37\r\n",
      "\r\n"
     ]
    }
   ],
   "source": [
    "$Employees"
   ]
  }
 ],
 "metadata": {
  "kernelspec": {
   "display_name": ".NET (PowerShell)",
   "language": "PowerShell",
   "name": ".net-pwsh"
  },
  "language_info": {
   "name": "PowerShell"
  }
 },
 "nbformat": 4,
 "nbformat_minor": 2
}
