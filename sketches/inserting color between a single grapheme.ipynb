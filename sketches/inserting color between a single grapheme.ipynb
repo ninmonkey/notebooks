{
 "cells": [
  {
   "cell_type": "code",
   "execution_count": 1,
   "metadata": {
    "dotnet_interactive": {
     "language": "pwsh"
    },
    "polyglot_notebook": {
     "kernelName": "pwsh"
    }
   },
   "outputs": [
    {
     "name": "stdout",
     "output_type": "stream",
     "text": [
      "\u001b[38;2;100;114;140m----------------------------------------------------------------------------------------------------\u001b[39m\n",
      "␛[38;2;243;130;130m⛭▕\n",
      "\u001b[38;2;100;114;140m----------------------------------------------------------------------------------------------------\u001b[39m\n",
      "⛭␛[38;2;243;130;130m▕\n",
      "\u001b[38;2;100;114;140m----------------------------------------------------------------------------------------------------\u001b[39m\n",
      "⛭▕␛[38;2;243;130;130m\n",
      "\u001b[38;2;100;114;140m----------------------------------------------------------------------------------------------------\u001b[39m\n",
      "\u001b[0m'\u001b[38;2;243;130;130m⛭▕'\u001b[0m\n",
      "\u001b[38;2;100;114;140m----------------------------------------------------------------------------------------------------\u001b[39m\n",
      "\u001b[0m'⛭\u001b[38;2;243;130;130m▕'\u001b[0m\n",
      "\u001b[38;2;100;114;140m----------------------------------------------------------------------------------------------------\u001b[39m\n",
      "\u001b[0m'⛭▕\u001b[38;2;243;130;130m'\u001b[0m\n"
     ]
    }
   ],
   "source": [
    "function Sin { param( [switch]$PassThru ) \n",
    "      hr -fg '#64728c'\n",
    "      if($PassThru) { $Input | fcc  ; return } \n",
    "      $Input | Join-String -Sin -op $PSStyle.Reset -os $PSStyle.Reset\n",
    "}\n",
    "$c = \"${fg:#f38282}\"\n",
    "\"${c}`u{26ed}`u{2595}\" | Sin -P\n",
    "\"`u{26ed}${c}`u{2595}\" | Sin -P\n",
    "\"`u{26ed}`u{2595}${c}\" | Sin -P\n",
    "\"${c}`u{26ed}`u{2595}\" | Sin\n",
    "\"`u{26ed}${c}`u{2595}\" | Sin\n",
    "\"`u{26ed}`u{2595}${c}\" | Sin"
   ]
  }
 ],
 "metadata": {
  "kernelspec": {
   "display_name": ".NET (PowerShell)",
   "language": "PowerShell",
   "name": ".net-pwsh"
  },
  "language_info": {
   "name": "polyglot-notebook"
  },
  "polyglot_notebook": {
   "kernelInfo": {
    "defaultKernelName": "pwsh",
    "items": [
     {
      "aliases": [],
      "languageName": "pwsh",
      "name": "pwsh"
     }
    ]
   }
  }
 },
 "nbformat": 4,
 "nbformat_minor": 2
}
