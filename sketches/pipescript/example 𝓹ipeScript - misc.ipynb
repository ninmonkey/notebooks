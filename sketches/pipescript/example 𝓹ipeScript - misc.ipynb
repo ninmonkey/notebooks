{
 "cells": [
  {
   "cell_type": "code",
   "execution_count": 1,
   "metadata": {
    "dotnet_interactive": {
     "language": "pwsh"
    },
    "vscode": {
     "languageId": "dotnet-interactive.pwsh"
    }
   },
   "outputs": [
    {
     "name": "stdout",
     "output_type": "stream",
     "text": [
      "\r\n",
      "\u001b[32;1mModuleType Version    PreRelease Name                                ExportedCommands\u001b[0m\r\n",
      "\u001b[32;1m---------- -------    ---------- ----                                ----------------\u001b[0m\r\n",
      "Script     0.1.8                 Pipescript                          {Build-Pipescript, Get-PipeSc…\r\n",
      "\r\n"
     ]
    }
   ],
   "source": [
    "Import-Module Pipescript -ea stop -pass"
   ]
  },
  {
   "cell_type": "markdown",
   "metadata": {},
   "source": [
    "adventures in pipescript\n",
    "```ps1\n",
    "\n",
    ".> { \n",
    "    1 | # one object\n",
    "    .Number { $_ } .Even { -not ($_ % 2) } .Odd { ($_ % 2) -as [bool] } }\n",
    "\n",
    ".> { \n",
    "    1 | # 1 objects object\n",
    "    .Number { $_ } `\n",
    "    .Even { -not ($_ % 2) } .Odd { ($_ % 2) -as [bool] } }\n",
    "\n",
    ".> { \n",
    "    1 | # 2 objects object\n",
    "    .Number { $_ }\n",
    "    .Even { -not ($_ % 2) } .Odd { ($_ % 2) -as [bool] } }\n",
    "```"
   ]
  },
  {
   "cell_type": "code",
   "execution_count": 38,
   "metadata": {
    "dotnet_interactive": {
     "language": "pwsh"
    },
    "vscode": {
     "languageId": "dotnet-interactive.pwsh"
    }
   },
   "outputs": [
    {
     "name": "stdout",
     "output_type": "stream",
     "text": [
      "\r\n",
      "\u001b[32;1mIsPublic IsSerial Name                                     BaseType\u001b[0m\r\n",
      "\u001b[32;1m-------- -------- ----                                     --------\u001b[0m\r\n",
      "True     False    PSCustomObject                           System.Object\r\n",
      "{}\r\n",
      "\r\n",
      "\r\n"
     ]
    }
   ],
   "source": [
    "$s0 = . { new PoshCode.Pansies.RgbColor 200 3 4 }\n",
    "$s1 =   { new PoshCode.Pansies.RgbColor 200 3 4 }\n",
    "$s2 =     New PoshCode.Pansies.RgbColor 200 3 4 \n",
    "\n",
    "(& $s1).GetType()\n",
    "# hr\n",
    "(& $s1) | convertto-json\n",
    "# hr\n",
    "$s2"
   ]
  },
  {
   "cell_type": "code",
   "execution_count": 3,
   "metadata": {
    "dotnet_interactive": {
     "language": "pwsh"
    },
    "vscode": {
     "languageId": "dotnet-interactive.pwsh"
    }
   },
   "outputs": [
    {
     "name": "stdout",
     "output_type": "stream",
     "text": [
      "04.11.2022 21:38:57\r\n",
      "11/4/2022 9:38:59 PM\r\n",
      "\r\n",
      "\u001b[32;1mNumber  Even   Odd\u001b[0m\r\n",
      "\u001b[32;1m------  ----   ---\u001b[0m\r\n",
      "     1 False  True\r\n",
      "     2  True False\r\n",
      "     3 False  True\r\n",
      "     4  True False\r\n",
      "     5 False  True\r\n",
      "\r\n"
     ]
    }
   ],
   "source": [
    "\n",
    ".> { [datetime]::Now | .tostring [cultureinfo]'de-de' }\n",
    ".> { [datetime]::Now | .tostring [cultureinfo]'en-us' }\n",
    "\n",
    ".> { 1..5 | .Number { $_ } .Even { -not ($_ % 2) } .Odd { ($_ % 2) -as [bool]} }"
   ]
  },
  {
   "cell_type": "code",
   "execution_count": 2,
   "metadata": {
    "dotnet_interactive": {
     "language": "pwsh"
    },
    "vscode": {
     "languageId": "dotnet-interactive.pwsh"
    }
   },
   "outputs": [
    {
     "name": "stdout",
     "output_type": "stream",
     "text": [
      "\r\n",
      "\u001b[32;1mMonth Day Year\u001b[0m\r\n",
      "\u001b[32;1m----- --- ----\u001b[0m\r\n",
      "   11   4 2022\r\n",
      "3\r\n",
      "3\r\n",
      "6\r\n",
      "£1.99\r\n",
      "$1.99\r\n",
      "              \r\n",
      "              \r\n",
      "              \r\n",
      "              \r\n",
      "              \r\n",
      "              \r\n",
      "              \r\n",
      "\r\n"
     ]
    }
   ],
   "source": [
    "# from the docstring\n",
    "# EXAMPLE\n",
    "    .> {\n",
    "        [DateTime]::now | .Month .Day .Year\n",
    "    }\n",
    "# EXAMPLE\n",
    "    .> {\n",
    "        \"abc\", \"123\", \"abc123\" | .Length\n",
    "    }\n",
    "# EXAMPLE\n",
    "    .> { 1.99 | .ToString 'C' [CultureInfo]'gb-gb' }\n",
    "# EXAMPLE\n",
    "    .> { 1.99 | .ToString('C') }\n",
    "# EXAMPLE\n",
    "    .> { 1..5 | .Number { $_ } .Even { -not ($_ % 2) } .Odd { ($_ % 2) -as [bool]} }\n",
    "# EXAMPLE\n",
    "    .> { .ID { Get-Random } .Count { 0 } .Total { 10 }}\n",
    "# EXAMPLE\n",
    "    .> {\n",
    "        # Declare a new object\n",
    "        .Property = \"ConstantValue\" .Numbers = 1..100 .Double = {\n",
    "            param($n)\n",
    "            $n * 2\n",
    "        } .EvenNumbers = {\n",
    "            $this.Numbers | Where-Object { -not ($_ % 2)}\n",
    "        } .OddNumbers = {\n",
    "            $this.Numbers | Where-Object { $_ % 2}\n",
    "        }\n",
    "    }\n"
   ]
  },
  {
   "cell_type": "code",
   "execution_count": 45,
   "metadata": {
    "dotnet_interactive": {
     "language": "pwsh"
    },
    "vscode": {
     "languageId": "dotnet-interactive.pwsh"
    }
   },
   "outputs": [
    {
     "name": "stdout",
     "output_type": "stream",
     "text": [
      "\r\n",
      "\u001b[32;1mMode           RGB (hex) X11ColorName         Ordinals                  XTerm Index ConsoleColor\u001b[0m\r\n",
      "\u001b[32;1m----           --------- ------------         --------                  ----------- ------------\u001b[0m\r\n",
      "\u001b[48;2;218;0;…\u001b[0m #D900FF   DarkOrchid1          R=218; G=0.000; B=255     165         Magenta\r\n",
      "\u001b[48;2;216;0;…\u001b[0m #D800FF   DarkOrchid1          R=216; G=0.000; B=255     165         Magenta\r\n",
      "\u001b[48;2;214;0;…\u001b[0m #D600FF   DarkOrchid1          R=214; G=0.000; B=255     165         Magenta\r\n",
      "\u001b[48;2;213;0;…\u001b[0m #D400FF   DarkOrchid1          R=213; G=0.000; B=255     165         Magenta\r\n",
      "3, 4\r\n",
      "1\r\n",
      "2\r\n",
      "3\r\n",
      "4\r\n",
      "idea\r\n",
      "    getRandom 4 from (all $grads where { $_.X11ColorName -match 'dark.*' } )\r\n",
      "\r\n"
     ]
    }
   ],
   "source": [
    "$grads = Get-Gradient -StartColor (. { new RgbColor 255 0 255 } ) blue\n",
    "all $grads where { $_.X11ColorName -match 'dark.*' } | select -first 4\n",
    "\n",
    "all (0..4) where { [math]::Pow(2, $_ ) -gt 7 } | Join-String -sep ', ' \n",
    "\n",
    "all (0..4) where { [math]::Pow($_, 2 )  } # transform \n",
    "\n",
    "$purp_ish = Get-Gradient -StartColor 'purple' -EndColor 'gray30'\n",
    "\n",
    "@'\n",
    "idea\n",
    "    getRandom 4 from (all $grads where { $_.X11ColorName -match 'dark.*' } )\n",
    "'@"
   ]
  },
  {
   "cell_type": "code",
   "execution_count": null,
   "metadata": {
    "dotnet_interactive": {
     "language": "pwsh"
    },
    "vscode": {
     "languageId": "dotnet-interactive.pwsh"
    }
   },
   "outputs": [],
   "source": [
    "$purp_ish = Get-Gradient -StartColor 'purple' -EndColor 'gray30'  ; $purp_ish\n",
    "hr\n",
    "$c2 =   all $purp_ish Where { $_.X11ColorName -match 'gray' } are gray"
   ]
  },
  {
   "cell_type": "code",
   "execution_count": 43,
   "metadata": {
    "dotnet_interactive": {
     "language": "pwsh"
    },
    "vscode": {
     "languageId": "dotnet-interactive.pwsh"
    }
   },
   "outputs": [
    {
     "name": "stdout",
     "output_type": "stream",
     "text": [
      "\r\n",
      "\u001b[32;1mCommandType     Name                                               Version    Source\u001b[0m\r\n",
      "\u001b[32;1m-----------     ----                                               -------    ------\u001b[0m\r\n",
      "Alias           Add-ADNgcKey                                       4.4.1      DSInternals\r\n",
      "Alias           Add-AppPackage                                     2.0.1.0    Appx\r\n",
      "Alias           Add-AppPackageVolume                               2.0.1.0    Appx\r\n",
      "Alias           Add-AppProvisionedPackage                          3.0        Dism\r\n",
      "\r\n",
      "\r\n",
      "\u001b[32;1mMode           RGB (hex) X11ColorName         Ordinals                  XTerm Index ConsoleColor\u001b[0m\r\n",
      "\u001b[32;1m----           --------- ------------         --------                  ----------- ------------\u001b[0m\r\n",
      "\u001b[48;2;255;0;…\u001b[0m #FF00FF   Magenta              R=255; G=0.045; B=255     13          Magenta\r\n",
      "\u001b[48;2;254;0;…\u001b[0m #FD00FF   Magenta              R=254; G=0.000; B=255     13          Magenta\r\n",
      "\u001b[48;2;252;0;…\u001b[0m #FC00FF   Magenta              R=252; G=0.000; B=255     13          Magenta\r\n",
      "\u001b[48;2;251;0;…\u001b[0m #FA00FF   Magenta              R=251; G=0.000; B=255     13          Magenta\r\n",
      "\r\n"
     ]
    }
   ],
   "source": [
    " & { (new PowerShell).AddScript(\"Get-Command\").Invoke() } | select -First 4\n",
    " Get-Gradient -StartColor (. { new RgbColor 255 0 255 } ) blue | select -first 4 | ft \n",
    "$favColor = { $_ -match '.*orchid\\d+' -or $_.X11ColorName -match 'dark.*' }\n",
    "\n",
    " DarkOrchid2"
   ]
  },
  {
   "cell_type": "code",
   "execution_count": null,
   "metadata": {
    "dotnet_interactive": {
     "language": "pwsh"
    },
    "vscode": {
     "languageId": "dotnet-interactive.pwsh"
    }
   },
   "outputs": [],
   "source": [
    "$Grads = Get-Gradient -StartColor (.{ new RgbColor 255 0 255 })"
   ]
  },
  {
   "cell_type": "code",
   "execution_count": 3,
   "metadata": {
    "dotnet_interactive": {
     "language": "pwsh"
    },
    "vscode": {
     "languageId": "dotnet-interactive.pwsh"
    }
   },
   "outputs": [
    {
     "name": "stdout",
     "output_type": "stream",
     "text": [
      "\u001b[91mException: \r\n",
      "\u001b[96mLine |\r\n",
      "\u001b[96m   9 | \u001b[0m     \u001b[96mthrow 'old version'\u001b[0m\r\n",
      "\u001b[96m     | \u001b[91m     ~~~~~~~~~~~~~~~~~~~\r\n",
      "\u001b[91m\u001b[96m     | \u001b[91mold version\u001b[0m\r\n"
     ]
    }
   ],
   "source": [
    "\n",
    "\n",
    "$depth = 0\n",
    "function digIt {\n",
    "    param()\n",
    "        $InputObject\n",
    "    \n",
    "    $current = $InputObject\n",
    "    throw 'old version'\n",
    "    while( ($name = $current.parent) ) {\n",
    "        '{3}{0,-3}: {1} is {2}' -f @(\n",
    "            $depth++    \n",
    "            $name\n",
    "            $name.GetType().Name\n",
    "            ' ' * $depth++ -join ' '\n",
    "        )\n",
    "    }\n",
    "}\n",
    "digit 'x'"
   ]
  },
  {
   "cell_type": "code",
   "execution_count": 6,
   "metadata": {
    "dotnet_interactive": {
     "language": "pwsh"
    },
    "vscode": {
     "languageId": "dotnet-interactive.pwsh"
    }
   },
   "outputs": [
    {
     "name": "stdout",
     "output_type": "stream",
     "text": [
      "\r\n",
      "\u001b[32;1mCommandType     Name                                               Version    Source\u001b[0m\r\n",
      "\u001b[32;1m-----------     ----                                               -------    ------\u001b[0m\r\n",
      "Alias           Add-ADNgcKey                                       4.4.1      DSInternals\r\n",
      "Alias           Add-AppPackage                                     2.0.1.0    Appx\r\n",
      "Alias           Add-AppPackageVolume                               2.0.1.0    Appx\r\n",
      "Alias           Add-AppProvisionedPackage                          3.0        Dism\r\n",
      "Alias           Add-AssertionOperator                              5.3.3      Pester\r\n",
      "\r\n"
     ]
    }
   ],
   "source": [
    "& { (new PowerShell).AddScript(\"Get-Command\").Invoke() } | select -First 5"
   ]
  },
  {
   "cell_type": "code",
   "execution_count": null,
   "metadata": {
    "dotnet_interactive": {
     "language": "mermaid"
    },
    "vscode": {
     "languageId": "dotnet-interactive.mermaid"
    }
   },
   "outputs": [],
   "source": [
    "#!share --from pwsh s1\n"
   ]
  }
 ],
 "metadata": {
  "kernelspec": {
   "display_name": ".NET (PowerShell)",
   "language": "PowerShell",
   "name": ".net-pwsh"
  },
  "language_info": {
   "name": "PowerShell"
  }
 },
 "nbformat": 4,
 "nbformat_minor": 2
}
