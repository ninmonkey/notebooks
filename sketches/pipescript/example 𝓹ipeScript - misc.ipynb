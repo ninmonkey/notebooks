{
 "cells": [
  {
   "cell_type": "code",
   "execution_count": null,
   "metadata": {
    "dotnet_interactive": {
     "language": "pwsh"
    }
   },
   "outputs": [],
   "source": [
    "Import-Module Pipescript -ea stop -pass"
   ]
  },
  {
   "cell_type": "markdown",
   "metadata": {
    "dotnet_interactive": {
     "language": "csharp"
    },
    "polyglot_notebook": {
     "kernelName": "csharp"
    }
   },
   "source": [
    "adventures in pipescript\n",
    "```ps1\n",
    "\n",
    ".> { \n",
    "    1 | # one object\n",
    "    .Number { $_ } .Even { -not ($_ % 2) } .Odd { ($_ % 2) -as [bool] } }\n",
    "\n",
    ".> { \n",
    "    1 | # 1 objects object\n",
    "    .Number { $_ } `\n",
    "    .Even { -not ($_ % 2) } .Odd { ($_ % 2) -as [bool] } }\n",
    "\n",
    ".> { \n",
    "    1 | # 2 objects object\n",
    "    .Number { $_ }\n",
    "    .Even { -not ($_ % 2) } .Odd { ($_ % 2) -as [bool] } }\n",
    "```"
   ]
  },
  {
   "cell_type": "code",
   "execution_count": null,
   "metadata": {
    "dotnet_interactive": {
     "language": "pwsh"
    }
   },
   "outputs": [],
   "source": [
    "$s0 = . { new PoshCode.Pansies.RgbColor 200 3 4 }\n",
    "$s1 =   { new PoshCode.Pansies.RgbColor 200 3 4 }\n",
    "$s2 =     New PoshCode.Pansies.RgbColor 200 3 4 \n",
    "\n",
    "(& $s1).GetType()\n",
    "# hr\n",
    "(& $s1) | convertto-json\n",
    "# hr\n",
    "$s2"
   ]
  },
  {
   "cell_type": "code",
   "execution_count": null,
   "metadata": {
    "dotnet_interactive": {
     "language": "pwsh"
    }
   },
   "outputs": [],
   "source": [
    "\n",
    ".> { [datetime]::Now | .tostring [cultureinfo]'de-de' }\n",
    ".> { [datetime]::Now | .tostring [cultureinfo]'en-us' }\n",
    "\n",
    ".> { 1..5 | .Number { $_ } .Even { -not ($_ % 2) } .Odd { ($_ % 2) -as [bool]} }"
   ]
  },
  {
   "cell_type": "code",
   "execution_count": null,
   "metadata": {
    "dotnet_interactive": {
     "language": "pwsh"
    }
   },
   "outputs": [],
   "source": [
    "# from the docstring\n",
    "# EXAMPLE\n",
    "    .> {\n",
    "        [DateTime]::now | .Month .Day .Year\n",
    "    }\n",
    "# EXAMPLE\n",
    "    .> {\n",
    "        \"abc\", \"123\", \"abc123\" | .Length\n",
    "    }\n",
    "# EXAMPLE\n",
    "    .> { 1.99 | .ToString 'C' [CultureInfo]'gb-gb' }\n",
    "# EXAMPLE\n",
    "    .> { 1.99 | .ToString('C') }\n",
    "# EXAMPLE\n",
    "    .> { 1..5 | .Number { $_ } .Even { -not ($_ % 2) } .Odd { ($_ % 2) -as [bool]} }\n",
    "# EXAMPLE\n",
    "    .> { .ID { Get-Random } .Count { 0 } .Total { 10 }}\n",
    "# EXAMPLE\n",
    "    .> {\n",
    "        # Declare a new object\n",
    "        .Property = \"ConstantValue\" .Numbers = 1..100 .Double = {\n",
    "            param($n)\n",
    "            $n * 2\n",
    "        } .EvenNumbers = {\n",
    "            $this.Numbers | Where-Object { -not ($_ % 2)}\n",
    "        } .OddNumbers = {\n",
    "            $this.Numbers | Where-Object { $_ % 2}\n",
    "        }\n",
    "    }\n"
   ]
  },
  {
   "cell_type": "code",
   "execution_count": null,
   "metadata": {
    "dotnet_interactive": {
     "language": "pwsh"
    }
   },
   "outputs": [],
   "source": [
    "$grads = Get-Gradient -StartColor (. { new RgbColor 255 0 255 } ) blue\n",
    "all $grads where { $_.X11ColorName -match 'dark.*' } | select -first 4\n",
    "\n",
    "all (0..4) where { [math]::Pow(2, $_ ) -gt 7 } | Join-String -sep ', ' \n",
    "\n",
    "all (0..4) where { [math]::Pow($_, 2 )  } # transform \n",
    "\n",
    "$purp_ish = Get-Gradient -StartColor 'purple' -EndColor 'gray30'\n",
    "\n",
    "@'\n",
    "idea\n",
    "    getRandom 4 from (all $grads where { $_.X11ColorName -match 'dark.*' } )\n",
    "'@"
   ]
  },
  {
   "cell_type": "code",
   "execution_count": null,
   "metadata": {
    "dotnet_interactive": {
     "language": "pwsh"
    }
   },
   "outputs": [],
   "source": [
    "$purp_ish = Get-Gradient -StartColor 'purple' -EndColor 'gray30'  ; $purp_ish\n",
    "hr\n",
    "$c2 =   all $purp_ish Where { $_.X11ColorName -match 'gray' } are gray"
   ]
  },
  {
   "cell_type": "code",
   "execution_count": null,
   "metadata": {
    "dotnet_interactive": {
     "language": "pwsh"
    }
   },
   "outputs": [],
   "source": [
    " & { (new PowerShell).AddScript(\"Get-Command\").Invoke() } | select -First 4\n",
    " Get-Gradient -StartColor (. { new RgbColor 255 0 255 } ) blue | select -first 4 | ft \n",
    "$favColor = { $_ -match '.*orchid\\d+' -or $_.X11ColorName -match 'dark.*' }\n",
    "\n",
    " DarkOrchid2"
   ]
  },
  {
   "cell_type": "code",
   "execution_count": null,
   "metadata": {
    "dotnet_interactive": {
     "language": "pwsh"
    }
   },
   "outputs": [],
   "source": [
    "$Grads = Get-Gradient -StartColor (.{ new RgbColor 255 0 255 })"
   ]
  },
  {
   "cell_type": "code",
   "execution_count": null,
   "metadata": {
    "dotnet_interactive": {
     "language": "pwsh"
    }
   },
   "outputs": [],
   "source": [
    "\n",
    "\n",
    "$depth = 0\n",
    "function digIt {\n",
    "    param()\n",
    "        $InputObject\n",
    "    \n",
    "    $current = $InputObject\n",
    "    throw 'old version'\n",
    "    while( ($name = $current.parent) ) {\n",
    "        '{3}{0,-3}: {1} is {2}' -f @(\n",
    "            $depth++    \n",
    "            $name\n",
    "            $name.GetType().Name\n",
    "            ' ' * $depth++ -join ' '\n",
    "        )\n",
    "    }\n",
    "}\n",
    "digit 'x'"
   ]
  },
  {
   "cell_type": "code",
   "execution_count": null,
   "metadata": {
    "dotnet_interactive": {
     "language": "pwsh"
    }
   },
   "outputs": [],
   "source": [
    "& { (new PowerShell).AddScript(\"Get-Command\").Invoke() } | select -First 5"
   ]
  },
  {
   "cell_type": "code",
   "execution_count": null,
   "metadata": {
    "dotnet_interactive": {
     "language": "mermaid"
    }
   },
   "outputs": [],
   "source": [
    "#!share --from pwsh s1\n"
   ]
  }
 ],
 "metadata": {
  "kernelspec": {
   "display_name": ".NET (C#)",
   "language": "C#",
   "name": ".net-csharp"
  },
  "language_info": {
   "name": "polyglot-notebook"
  },
  "polyglot_notebook": {
   "kernelInfo": {
    "defaultKernelName": "csharp",
    "items": [
     {
      "aliases": [],
      "name": "csharp"
     },
     {
      "aliases": [
       "frontend"
      ],
      "name": "vscode"
     }
    ]
   }
  }
 },
 "nbformat": 4,
 "nbformat_minor": 2
}
