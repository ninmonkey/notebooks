{
 "cells": [
  {
   "cell_type": "code",
   "execution_count": null,
   "metadata": {
    "dotnet_interactive": {
     "language": "pwsh"
    },
    "vscode": {
     "languageId": "dotnet-interactive.pwsh"
    }
   },
   "outputs": [
    {
     "name": "stdout",
     "output_type": "stream",
     "text": [
      "\r\n",
      "\u001b[32;1mName              Version ExportedFunctions\u001b[0m\r\n",
      "\u001b[32;1m----              ------- -----------------                                                        \u001b[0m\r\n",
      "ninmonkey.console 0.2.18  {[Add-ConsoleEnvVarPath, Add-ConsoleEnvVarPath], [Add-IndexProperty, Add…\r\n",
      "\r\n",
      "\u001b[92mErrors\u001b[39m: 1\r\n",
      "1\r\n"
     ]
    }
   ],
   "source": [
    "# warning, when running Pwsh debugger does not always have\n",
    "# the script scope $error , if \n",
    "# if $error.count is 0, then try $global:error.count\n",
    "\n",
    "import-module ninmonkey.console -passthru -wa silentlyContinue # todo: switch to notebook util module\n",
    "| Ft Name, Version, Export* -auto\n",
    "function errCount { \n",
    "    # how many errors?\n",
    "    Label 'Errors' $global:error.count | write-host\n",
    "    return $global:error.count\n",
    "}\n",
    "function errReset { \n",
    "    # reset errors for a fresh test\n",
    "    $global:error.clear()\n",
    "}\n",
    "\n",
    "function _formatExceptionOrErrorRecord { \n",
    "    \n",
    "}\n",
    "\n",
    "errCount"
   ]
  },
  {
   "cell_type": "code",
   "execution_count": null,
   "metadata": {
    "dotnet_interactive": {
     "language": "pwsh"
    },
    "vscode": {
     "languageId": "dotnet-interactive.pwsh"
    }
   },
   "outputs": [],
   "source": [
    "function fmtErr { $global:error\n",
    "| %{ $_ -replace '\\r?\\n+', { \"${bg:gray20}$_${bg:clear}\" }\n",
    "| Join-String -sep (hr 1) {\n",
    "  @(\n",
    "  $_ -split '' | select -first 120 | Join-String\n",
    "   \n",
    "  ' ... '\n",
    "  $_ -split '' | select -Last 40   | Join-String\n",
    "  ) | Join-String    }\n",
    "}  }\n",
    "fmtErr \n",
    "\n",
    "\n",
    "throw 'wip sketch'"
   ]
  },
  {
   "cell_type": "markdown",
   "metadata": {},
   "source": [
    "# about\n",
    "\n",
    "Function Interrogates Exceptions and Error Records, simplifying by ideally reducing to a single line or 2\n",
    "\n",
    "```ps1\n",
    "function _formatExceptionOrErrorRecord { ... }\n",
    "```"
   ]
  },
  {
   "cell_type": "code",
   "execution_count": null,
   "metadata": {
    "dotnet_interactive": {
     "language": "pwsh"
    },
    "vscode": {
     "languageId": "dotnet-interactive.pwsh"
    }
   },
   "outputs": [
    {
     "name": "stdout",
     "output_type": "stream",
     "text": [
      "\r\n",
      "\u001b[91mMethodInvocationException: \r\n",
      "\u001b[96mLine |\r\n",
      "\u001b[96m  38 | \u001b[0m …      return \u001b[96m[System.Management.Automation.CommandCompletion]::Complet\u001b[0m …\r\n",
      "\u001b[96m     | \u001b[91m               ~~~~~~~~~~~~~~~~~~~~~~~~~~~~~~~~~~~~~~~~~~~~~~~~~~~~~~~~~\r\n",
      "\u001b[91m\u001b[96m     | \u001b[91mException calling \"CompleteInput\" with \"3\" argument(s): \"Cannot process argument because the value of argument \"typeDefinitionAst\" is null. Change the value of argument \"typeDefinitionAst\" to a non-null value.\"\u001b[0m\r\n"
     ]
    }
   ],
   "source": [
    "$target ??= $global:error[0] ?? $null\n",
    "$target"
   ]
  },
  {
   "cell_type": "code",
   "execution_count": null,
   "metadata": {
    "dotnet_interactive": {
     "language": "pwsh"
    },
    "vscode": {
     "languageId": "dotnet-interactive.pwsh"
    }
   },
   "outputs": [
    {
     "name": "stdout",
     "output_type": "stream",
     "text": [
      "\r\n",
      "\u001b[92mException             : \u001b[0m\r\n",
      "    \u001b[92mType           : \u001b[0mSystem.Management.Automation.MethodInvocationException\r\n",
      "    \u001b[92mErrorRecord    : \u001b[0m\r\n",
      "        \u001b[92mException             : \u001b[0m\r\n",
      "            \u001b[92mType    : \u001b[0mSystem.Management.Automation.ParentContainsErrorRecordException\r\n",
      "            \u001b[92mMessage : \u001b[0m\u001b[31;1mException calling \"CompleteInput\" with \"3\" argument(s): \"Cannot process argument because the value of argument \"typeDefinitionAst\" is null. Change the value of argument \"typeDefinitionAst\" to a non-null value.\"\r\n",
      "            \u001b[92mHResult : \u001b[0m-2146233087\r\n",
      "        \u001b[92mCategoryInfo          : \u001b[0mNotSpecified: (:) [], ParentContainsErrorRecordException\r\n",
      "        \u001b[92mFullyQualifiedErrorId : \u001b[0mPSArgumentNullException\r\n",
      "        \u001b[92mInvocationInfo        : \u001b[0m\r\n",
      "            \u001b[92mScriptLineNumber : \u001b[0m38\r\n",
      "            \u001b[92mOffsetInLine     : \u001b[0m16\r\n",
      "            \u001b[92mHistoryId        : \u001b[0m-1\r\n",
      "            \u001b[92mLine             : \u001b[0mreturn [System.Management.Automation.CommandCompletion]::CompleteInput(\r\n",
      "                               \r\n",
      "            \u001b[92mPositionMessage  : \u001b[0mAt line:38 char:16\r\n",
      "                               + …      return [System.Management.Automation.CommandCompletion]::Complet …\r\n",
      "                               +               \u001b[31;1m~~~~~~~~~~~~~~~~~~~~~~~~~~~~~~~~~~~~~~~~~~~~~~~~~~~~~~~~~\r\n",
      "            \u001b[92mCommandOrigin    : \u001b[0mInternal\r\n",
      "        \u001b[92mScriptStackTrace      : \u001b[0mat <ScriptBlock><End>, <No file>: line 38\r\n",
      "    \u001b[92mTargetSite     : \u001b[0m\r\n",
      "        \u001b[92mName          : \u001b[0mConvertToMethodInvocationException\r\n",
      "        \u001b[92mDeclaringType : \u001b[0mSystem.Management.Automation.ExceptionHandlingOps, System.Management.Automation, Version=7.2.5.500, Culture=neutral, PublicKeyToken=31bf3856ad364e35\r\n",
      "        \u001b[92mMemberType    : \u001b[0mMethod\r\n",
      "        \u001b[92mModule        : \u001b[0mSystem.Management.Automation.dll\r\n",
      "    \u001b[92mMessage        : \u001b[0m\u001b[31;1mException calling \"CompleteInput\" with \"3\" argument(s): \"Cannot process argument because the value of argument \"typeDefinitionAst\" is null. Change the value of argument \"typeDefinitionAst\" to a non-null value.\"\r\n",
      "    \u001b[92mData           : \u001b[0mSystem.Collections.ListDictionaryInternal\r\n",
      "    \u001b[92mInnerException : \u001b[0m\r\n",
      "        \u001b[92mType        : \u001b[0mSystem.Management.Automation.PSArgumentNullException\r\n",
      "        \u001b[92mErrorRecord : \u001b[0m\r\n",
      "            \u001b[92mException             : \u001b[0m\r\n",
      "                \u001b[92mType    : \u001b[0mSystem.Management.Automation.ParentContainsErrorRecordException\r\n",
      "                \u001b[92mMessage : \u001b[0m\u001b[31;1mCannot process argument because the value of argument \"typeDefinitionAst\" is null. Change the value of argument \"typeDefinitionAst\" to a non-null value.\r\n",
      "                \u001b[92mHResult : \u001b[0m-2146233087\r\n",
      "            \u001b[92mCategoryInfo          : \u001b[0mInvalidArgument: (:) [], ParentContainsErrorRecordException\r\n",
      "            \u001b[92mFullyQualifiedErrorId : \u001b[0mArgumentNull\r\n",
      "        \u001b[92mMessage     : \u001b[0m\u001b[31;1mCannot process argument because the value of argument \"typeDefinitionAst\" is null. Change the value of argument \"typeDefinitionAst\" to a non-null value.\r\n",
      "        \u001b[92mParamName   : \u001b[0mtypeDefinitionAst\r\n",
      "        \u001b[92mTargetSite  : \u001b[0mVoid .ctor(System.Management.Automation.Language.TypeDefinitionAst)\r\n",
      "        \u001b[92mSource      : \u001b[0mSystem.Management.Automation\r\n",
      "        \u001b[92mHResult     : \u001b[0m-2147467261\r\n",
      "        \u001b[92mStackTrace  : \u001b[0m\r\n",
      "   at System.Management.Automation.PSTypeName..ctor(TypeDefinitionAst typeDefinitionAst)\r\n",
      "   at System.Management.Automation.TypeInferenceVisitor.InferTypeFrom(VariableExpressionAst variableExpressionAst, List`1 inferredTypes)\r\n",
      "   at System.Management.Automation.TypeInferenceVisitor.System.Management.Automation.Language.ICustomAstVisitor.VisitVariableExpression(VariableExpressionAst ast)\r\n",
      "   at System.Management.Automation.Language.VariableExpressionAst.Accept(ICustomAstVisitor visitor)\r\n",
      "   at System.Management.Automation.TypeInferenceContext.InferType(Ast ast, TypeInferenceVisitor visitor)\r\n",
      "   at System.Management.Automation.AstTypeInference.InferTypeOf(Ast ast, TypeInferenceContext context, TypeInferenceRuntimePermissions evalPersmissions)\r\n",
      "   at System.Management.Automation.CompletionCompleters.CompleteMember(CompletionContext context, Boolean static)\r\n",
      "   at System.Management.Automation.CompletionAnalysis.GetResultHelper(CompletionContext completionContext, Int32& replacementIndex, Int32& replacementLength, Boolean isQuotedString)\r\n",
      "   at System.Management.Automation.CompletionAnalysis.GetResults(PowerShell powerShell, Int32& replacementIndex, Int32& replacementLength)\r\n",
      "   at System.Management.Automation.CommandCompletion.CompleteInputImpl(Ast ast, Token[] tokens, IScriptPosition positionOfCursor, Hashtable options)\r\n",
      "   at System.Management.Automation.CommandCompletion.CompleteInput(String input, Int32 cursorIndex, Hashtable options)\r\n",
      "   at CallSite.Target(Closure , CallSite , Type , String , Int32 , Hashtable )\r\n",
      "    \u001b[92mSource         : \u001b[0mSystem.Management.Automation\r\n",
      "    \u001b[92mHResult        : \u001b[0m-2146233087\r\n",
      "    \u001b[92mStackTrace     : \u001b[0m\r\n",
      "   at System.Management.Automation.ExceptionHandlingOps.ConvertToMethodInvocationException(Exception exception, Type typeToThrow, String methodName, Int32 numArgs, MemberInfo memberInfo)\r\n",
      "   at CallSite.Target(Closure , CallSite , Type , String , Int32 , Hashtable )\r\n",
      "   at System.Management.Automation.Interpreter.DynamicInstruction`5.Run(InterpretedFrame frame)\r\n",
      "   at System.Management.Automation.Interpreter.EnterTryCatchFinallyInstruction.Run(InterpretedFrame frame)\r\n",
      "\u001b[92mCategoryInfo          : \u001b[0mNotSpecified: (:) [], MethodInvocationException\r\n",
      "\u001b[92mFullyQualifiedErrorId : \u001b[0mPSArgumentNullException\r\n",
      "\u001b[92mInvocationInfo        : \u001b[0m\r\n",
      "    \u001b[92mScriptLineNumber : \u001b[0m38\r\n",
      "    \u001b[92mOffsetInLine     : \u001b[0m16\r\n",
      "    \u001b[92mHistoryId        : \u001b[0m-1\r\n",
      "    \u001b[92mLine             : \u001b[0mreturn [System.Management.Automation.CommandCompletion]::CompleteInput(\r\n",
      "                       \r\n",
      "    \u001b[92mPositionMessage  : \u001b[0mAt line:38 char:16\r\n",
      "                       + …      return [System.Management.Automation.CommandCompletion]::Complet …\r\n",
      "                       +               \u001b[31;1m~~~~~~~~~~~~~~~~~~~~~~~~~~~~~~~~~~~~~~~~~~~~~~~~~~~~~~~~~\r\n",
      "    \u001b[92mCommandOrigin    : \u001b[0mInternal\r\n",
      "\u001b[92mScriptStackTrace      : \u001b[0mat <ScriptBlock><End>, <No file>: line 38\r\n",
      "\r\n",
      "\r\n"
     ]
    }
   ],
   "source": [
    "# $target | get-error | out-string\n",
    "$global:error[-1] | get-error | out-string"
   ]
  },
  {
   "cell_type": "code",
   "execution_count": null,
   "metadata": {
    "dotnet_interactive": {
     "language": "pwsh"
    },
    "vscode": {
     "languageId": "dotnet-interactive.pwsh"
    }
   },
   "outputs": [
    {
     "name": "stdout",
     "output_type": "stream",
     "text": [
      "default\r\n",
      "out\r\n",
      "\u001b[92mErrors\u001b[39m: 6\r\n",
      "6\r\n"
     ]
    }
   ],
   "source": [
    "function CreateSampleException {\n",
    "    # re-create exceptions to generate specific, but real exceptions\n",
    "    param(\n",
    "        [Alias('Template')]\n",
    "        [ValidateSet('UnexpectedToken1')]\n",
    "        [string]\n",
    "        $ExceptionTemplateName\n",
    "    )\n",
    "    $RequiredFile = gi -ea stop 'C:\\Users\\cppmo_000\\SkyDrive\\Documents\\2022\\My_Github\\notebooks\\sketches\\Exceptions ⁞ Cleaner Fomatting ⁞ console UX.2022-08.data.ps1'\n",
    "    switch($ExceptionTemplateType) {\n",
    "        'UnexpectedToken1' {\n",
    "            . $requiredFile\n",
    "            'yes'\n",
    "            dotSourcedException  $ExceptionTemplateType\n",
    "            'no'\n",
    "        }\n",
    "        default { 'default' }\n",
    "    }\n",
    "            'out'\n",
    "}\n",
    "\n",
    "CreateSampleException -Template 'UnexpectedToken1'\n",
    "errCount"
   ]
  },
  {
   "cell_type": "code",
   "execution_count": null,
   "metadata": {
    "dotnet_interactive": {
     "language": "pwsh"
    },
    "vscode": {
     "languageId": "dotnet-interactive.pwsh"
    }
   },
   "outputs": [
    {
     "name": "stdout",
     "output_type": "stream",
     "text": [
      "default\r\n",
      "out\r\n",
      "\r\n",
      "\u001b[32;1mLabel          : \u001b[0m\r\n",
      "\u001b[32;1mTargetSite     : \u001b[0mInt32 Run(System.Management.Automation.Interpreter.InterpretedFrame)\r\n",
      "\u001b[32;1mMessage        : \u001b[0mSystem error.\r\n",
      "\u001b[32;1mData           : \u001b[0m{System.Management.Automation.Interpreter.InterpretedFrameInfo}\r\n",
      "\u001b[32;1mInnerException : \u001b[0m\r\n",
      "\u001b[32;1mHelpLink       : \u001b[0m\r\n",
      "\u001b[32;1mSource         : \u001b[0mSystem.Management.Automation\r\n",
      "\u001b[32;1mHResult        : \u001b[0m-2146233087\r\n",
      "\u001b[32;1mStackTrace     : \u001b[0m   at \r\n",
      "                 \u001b[32;1m\u001b[0mSystem.Management.Automation.Interpreter.ThrowInstruction.Run(InterpretedFrame \r\n",
      "                 \u001b[32;1m\u001b[0mframe)\r\n",
      "\u001b[32;1m                 \u001b[0m   at System.Management.Automation.Interpreter.EnterTryCatchFinallyInstruction.Run\r\n",
      "                 \u001b[32;1m\u001b[0m(InterpretedFrame frame)\r\n",
      "\u001b[32;1m                 \u001b[0m   at System.Management.Automation.Interpreter.EnterTryCatchFinallyInstruction.Run\r\n",
      "                 \u001b[32;1m\u001b[0m(InterpretedFrame frame)\r\n",
      "\u001b[32;1m                 \u001b[0m   at System.Management.Automation.Interpreter.EnterTryCatchFinallyInstruction.Run\r\n",
      "                 \u001b[32;1m\u001b[0m(InterpretedFrame frame)\r\n",
      "\u001b[32;1m                 \u001b[0m   at System.Management.Automation.Interpreter.EnterTryCatchFinallyInstruction.Run\r\n",
      "                 \u001b[32;1m\u001b[0m(InterpretedFrame frame)\r\n",
      "\u001b[32;1m                 \u001b[0m   at System.Management.Automation.Interpreter.EnterTryCatchFinallyInstruction.Run\r\n",
      "                 \u001b[32;1m\u001b[0m(InterpretedFrame frame)\r\n",
      "\u001b[32;1m                 \u001b[0m   at System.Management.Automation.Interpreter.Interpreter.Run(InterpretedFrame \r\n",
      "                 \u001b[32;1m\u001b[0mframe)\r\n",
      "\u001b[32;1m                 \u001b[0m   at System.Management.Automation.Interpreter.LightLambda.RunVoid1[T0](T0 arg0)\r\n",
      "\u001b[32;1m                 \u001b[0m   at System.Management.Automation.PSScriptCmdlet.RunClause(Action`1 clause, \r\n",
      "                 \u001b[32;1m\u001b[0mObject dollarUnderbar, Object inputToProcess)\r\n",
      "\u001b[32;1m                 \u001b[0m   at System.Management.Automation.CommandProcessorBase.Complete()\r\n",
      "\u001b[32;1m                 \u001b[0m--- End of stack trace from previous location ---\r\n",
      "\u001b[32;1m                 \u001b[0m   at System.Management.Automation.Internal.PipelineProcessor.SynchronousExecuteEn\r\n",
      "                 \u001b[32;1m\u001b[0mumerate(Object input)\r\n",
      "\u001b[32;1m                 \u001b[0m   at System.Management.Automation.Runspaces.LocalPipeline.InvokeHelper()\r\n",
      "\r\n",
      "\r\n"
     ]
    }
   ],
   "source": [
    "CreateSampleException -Template 'UnexpectedToken1'\n",
    "$global:error[0]"
   ]
  },
  {
   "cell_type": "code",
   "execution_count": null,
   "metadata": {
    "dotnet_interactive": {
     "language": "pwsh"
    },
    "vscode": {
     "languageId": "dotnet-interactive.pwsh"
    }
   },
   "outputs": [],
   "source": [
    "throw \"WIP NYI\"\n",
    "\n",
    "try\n",
    "\n",
    "    $_.ToString()\n",
    "    $_.Message.ToString()\n",
    "    $_.Exception.ToString()\n",
    "    $_ | Get-Error\n",
    "    $Error[0].ErrorRecord.Exception\n",
    "\n",
    "throw \"more wip\"\n",
    "\n",
    "$global:error.ToString() | Join-String -sep \"`n\" { $_ -split '' | select -first 100 | Join-String -sep ''}\n",
    "\n",
    "$global:error\n",
    "    | Join-String -sep \"`n\" { $_ -split '' | select -first 100 } #}| Join-String -sep ''} \n",
    "\n",
    "\n",
    "$global:error\n",
    "    | s -First 3 -Last 3\n",
    "    | Join-String -sep \"`n\" { $_ -split '' | select -first 100 | Join-String -sep ''}\n",
    "\n",
    "# System.Management.Automation.ParseException: At line:1 char:14"
   ]
  },
  {
   "cell_type": "markdown",
   "metadata": {},
   "source": [
    "### example 3\n",
    "\n",
    "```ps1\n",
    "> ($Error[0].ErrorRecord).FullyQualifiedErrorId\n",
    "\n",
    "UnexpectedToken\n",
    "\n",
    "\n",
    "> $Error[0].ErrorRecord | iot2\n",
    "\n",
    "Name                  Reported            Type                                 Value\n",
    "----                  --------            ----                                 -----\n",
    "CategoryInfo          [ErrorCategoryInfo] [ErrorCategoryInfo]                  ParserError: (:) [], ParentContainsErrorRecordException\n",
    "InvocationInfo        [InvocationInfo]    [InvocationInfo]                     System.Management.Automation.InvocationInfo\n",
    "Exception             [Exception]         [ParentContainsErrorRecordException] System.Management.Automation.ParentContainsErrorRecordExc\n",
    "FullyQualifiedErrorId [string]            [string]                             UnexpectedToken\n",
    "\n",
    "\n",
    "\n",
    "Pwsh\n",
    "C:\\Users\\cppmo_000\\SkyDrive\\Documents\\2022\\client_BDG\\self\\tests-invoke\n",
    "> $Error[0].ErrorRecord | fm\n",
    "\n",
    "   ReflectedType: ErrorRecord\n",
    "\n",
    "Name                  MemberType   Definition\n",
    "----                  ----------   ----------\n",
    "GetObjectData         Method       public virtual void GetObjectData(SerializationInfo info, StreamingContext context);\n",
    "ToString              Method       public override string ToString();\n",
    ".ctor                 Constructor  public ErrorRecord(Exception exception, string errorId, ErrorCategory errorCategory, object targetObj\n",
    ".ctor                 Constructor  public ErrorRecord(ErrorRecord errorRecord, Exception replaceParentContainsErrorRecordException);\n",
    "Exception             Property     public Exception Exception { get; }\n",
    "TargetObject          Property     public object TargetObject { get; }\n",
    "CategoryInfo          Property     public ErrorCategoryInfo CategoryInfo { get; }\n",
    "FullyQualifiedErrorId Property     public string FullyQualifiedErrorId { get; }\n",
    "ErrorDetails          Property     public ErrorDetails ErrorDetails { get; set; }\n",
    "InvocationInfo        Property     public InvocationInfo InvocationInfo { get; }\n",
    "ScriptStackTrace      Property     public string ScriptStackTrace { get; }\n",
    "PipelineIterationInfo Property     public ReadOnlyCollection<int> PipelineIterationInfo { get; }\n",
    "```\n",
    "\n",
    "\n",
    "\n",
    "### example 2\n",
    "\n",
    "```ps1\n",
    "> $Error[0].ErrorRecord.Exception        \n",
    "\n",
    "Message        : At line:1 char:14\n",
    "                 + $global:error()\n",
    "                 +              ~\n",
    "                 Unexpected token '(' in expression or statement.\n",
    "\n",
    "                 At line:1 char:15\n",
    "                 + $global:error()\n",
    "                 +               ~\n",
    "                 An expression was expected after '('.\n",
    "TargetSite     : \n",
    "Data           : {}\n",
    "InnerException : \n",
    "HelpLink       : \n",
    "Source         : \n",
    "HResult        : -2146233087\n",
    "StackTrace     : \n",
    "\n",
    "\n",
    "\n",
    "\n",
    "Pwsh\n",
    "C:\\Users\\cppmo_000\\SkyDrive\\Documents\\2022\\client_BDG\\self\\tests-invoke\n",
    "> $Error[0].ErrorRecord.Exception | iot2\n",
    "\n",
    "Name    Reported      Type                     Value\n",
    "----    --------      ----                     -----\n",
    "Data    [IDictionary] [ListDictionaryInternal] {}\n",
    "Message [string]      [string]                 At line:1 char:14…\n",
    "\n",
    "\n",
    "\n",
    "Pwsh\n",
    "C:\\Users\\cppmo_000\\SkyDrive\\Documents\\2022\\client_BDG\\self\\tests-invoke\n",
    "> $Error[0].ErrorRecord | iot2\n",
    "\n",
    "Name                  Reported            Type                                 Value\n",
    "----                  --------            ----                                 -----\n",
    "CategoryInfo          [ErrorCategoryInfo] [ErrorCategoryInfo]                  ParserError: (:) [], ParentContainsErrorRecordException\n",
    "InvocationInfo        [InvocationInfo]    [InvocationInfo]                     System.Management.Automation.InvocationInfo\n",
    "Exception             [Exception]         [ParentContainsErrorRecordException] System.Management.Automation.ParentContainsErrorRecordException\n",
    "FullyQualifiedErrorId [string]            [string]                             UnexpectedToken\n",
    "```\n",
    "\n",
    "\n",
    "### Example 1\n",
    "\n",
    "```ps1\n",
    "> $Error[0] | fl      \n",
    "\n",
    "Errors                      : {At line:1 char:14\n",
    "                              + $global:error()\n",
    "                              +              ~\n",
    "                              Unexpected token '(' in expression or statement., At line:1 char:15\n",
    "                              + $global:error()\n",
    "                              +               ~\n",
    "                              An expression was expected after '('.}\n",
    "Message                     : At line:1 char:14\n",
    "                              + $global:error()\n",
    "                              +              ~\n",
    "                              Unexpected token '(' in expression or statement.\n",
    "\n",
    "                              At line:1 char:15\n",
    "                              + $global:error()\n",
    "                              +               ~\n",
    "                              An expression was expected after '('.\n",
    "ErrorRecord                 : At line:1 char:14\n",
    "                              + $global:error()\n",
    "                              +              ~\n",
    "                              Unexpected token '(' in expression or statement.\n",
    "\n",
    "                              At line:1 char:15\n",
    "                              + $global:error()\n",
    "                              +               ~\n",
    "                              An expression was expected after '('.\n",
    "WasThrownFromThrowStatement : False\n",
    "TargetSite                  : System.Collections.ObjectModel.Collection`1[System.Management.Automation.PSObject] Invoke(System.Collections.IEnumerable)\n",
    "Data                        : {}\n",
    "InnerException              : \n",
    "HelpLink                    : \n",
    "Source                      : System.Management.Automation\n",
    "HResult                     : -2146233087\n",
    "StackTrace                  :    at System.Management.Automation.Runspaces.PipelineBase.Invoke(IEnumerable input)\n",
    "                                 at System.Management.Automation.PowerShell.Worker.ConstructPipelineAndDoWork(Runspace rs, Boolean performSyncInvoke)\n",
    "                                 at System.Management.Automation.PowerShell.Worker.CreateRunspaceIfNeededAndDoWork(Runspace rsToUse, Boolean isSync)\n",
    "                                 at System.Management.Automation.PowerShell.CoreInvokeHelper[TInput,TOutput](PSDataCollection`1 input, PSDataCollection`1 output, PSInvocationSettings settings)\n",
    "                                 at System.Management.Automation.PowerShell.CoreInvoke[TInput,TOutput](PSDataCollection`1 input, PSDataCollection`1 output, PSInvocationSettings settings)\n",
    "                                 at System.Management.Automation.PowerShell.Invoke[T](IEnumerable input, PSInvocationSettings settings)\n",
    "                                 at Microsoft.PowerShell.EditorServices.Services.PowerShell.Utility.PowerShellExtensions.InvokeAndClear[TResult](PowerShell pwsh, PSInvocationSettings invocationSettings) in\n",
    "                              D:\\a\\_work\\1\\s\\src\\PowerShellEditorServices\\Services\\PowerShell\\Utility\\PowerShellExtensions.cs:line 82\n",
    "                                 at Microsoft.PowerShell.EditorServices.Services.PowerShell.Execution.SynchronousPowerShellTask`1.ExecuteNormally(CancellationToken cancellationToken) in\n",
    "                              D:\\a\\_work\\1\\s\\src\\PowerShellEditorServices\\Services\\PowerShell\\Execution\\SynchronousPowerShellTask.cs:line 180\n",
    "```"
   ]
  }
 ],
 "metadata": {
  "kernelspec": {
   "display_name": ".NET (PowerShell)",
   "language": "PowerShell",
   "name": ".net-pwsh"
  },
  "language_info": {
   "name": "PowerShell"
  }
 },
 "nbformat": 4,
 "nbformat_minor": 2
}
