{
 "cells": [
  {
   "cell_type": "code",
   "execution_count": null,
   "metadata": {
    "dotnet_interactive": {
     "language": "csharp"
    }
   },
   "outputs": [],
   "source": [
    "HashSet<int> evenNumbers = new HashSet<int>();\n",
    "HashSet<int> oddNumbers = new HashSet<int>();\n",
    "\n",
    "for (int i = 0; i < 5; i++)\n",
    "{\n",
    "    // Populate numbers with just even numbers.\n",
    "    evenNumbers.Add(i * 2);\n",
    "\n",
    "    // Populate oddNumbers with just odd numbers.\n",
    "    oddNumbers.Add((i * 2) + 1);\n",
    "}\n",
    "\n",
    "Console.Write(\"evenNumbers contains {0} elements: \", evenNumbers.Count);\n",
    "DisplaySet(evenNumbers);\n",
    "\n",
    "Console.Write(\"oddNumbers contains {0} elements: \", oddNumbers.Count);\n",
    "DisplaySet(oddNumbers);\n",
    "\n",
    "// Create a new HashSet populated with even numbers.\n",
    "HashSet<int> numbers = new HashSet<int>(evenNumbers);\n",
    "Console.WriteLine(\"numbers UnionWith oddNumbers...\");\n",
    "numbers.UnionWith(oddNumbers);\n",
    "\n",
    "Console.Write(\"numbers contains {0} elements: \", numbers.Count);\n",
    "DisplaySet(numbers);\n",
    "\n",
    "void DisplaySet(HashSet<int> collection)\n",
    "{\n",
    "    Console.Write(\"{\");\n",
    "    foreach (int i in collection)\n",
    "    {\n",
    "        Console.Write(\" {0}\", i);\n",
    "    }\n",
    "    Console.WriteLine(\" }\");\n",
    "}"
   ]
  },
  {
   "cell_type": "code",
   "execution_count": null,
   "metadata": {
    "dotnet_interactive": {
     "language": "csharp"
    }
   },
   "outputs": [],
   "source": [
    "HashSet<String> hostX = new HashSet<String>();\n",
    "HashSet<String> hostY = new HashSet<String>();\n",
    "HashSet<String> hostZ = new HashSet<String>();\n",
    "\n",
    "\n",
    "hostX.Add(\"A\");\n",
    "hostX.Add(\"B\");\n",
    "\n",
    "hostY.Add(\"B\");\n",
    "hostY.Add(\"C\");\n",
    "hostY.Add(\"D\");\n",
    "\n",
    "hostZ.Add(\"A\");\n",
    "hostZ.Add(\"B\");\n",
    "hostZ.Add(\"D\");"
   ]
  },
  {
   "cell_type": "code",
   "execution_count": null,
   "metadata": {
    "dotnet_interactive": {
     "language": "csharp"
    }
   },
   "outputs": [],
   "source": [
    "// hostX.IntersectBy<>()"
   ]
  }
 ],
 "metadata": {
  "kernelspec": {
   "display_name": ".NET (C#)",
   "language": "C#",
   "name": ".net-csharp"
  },
  "language_info": {
   "name": "polyglot-notebook"
  },
  "polyglot_notebook": {
   "kernelInfo": {
    "defaultKernelName": "csharp",
    "items": [
     {
      "aliases": [
       "C#",
       "c#"
      ],
      "languageName": "C#",
      "name": "csharp"
     },
     {
      "aliases": [
       "frontend"
      ],
      "name": "vscode"
     }
    ]
   }
  }
 },
 "nbformat": 4,
 "nbformat_minor": 2
}
