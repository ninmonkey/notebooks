{
 "cells": [
  {
   "cell_type": "code",
   "execution_count": null,
   "metadata": {
    "dotnet_interactive": {
     "language": "pwsh"
    },
    "vscode": {
     "languageId": "dotnet-interactive.pwsh"
    }
   },
   "outputs": [],
   "source": [
    "$Sample = @{}\n",
    "$Sample.RawXml = @'\n",
    "<?xml version=\"1.0\"?>\n",
    "<PurchaseOrder PurchaseOrderNumber=\"99503\" OrderDate=\"1999-10-20\">\n",
    "  <Address Type=\"Shipping\">\n",
    "    <Name>Ellen Adams</Name>\n",
    "    <Street>123 Maple Street</Street>\n",
    "    <City>Mill Valley</City>\n",
    "    <State>CA</State>\n",
    "    <Zip>10999</Zip>\n",
    "    <Country>USA</Country>\n",
    "  </Address>\n",
    "  <Address Type=\"Billing\">\n",
    "    <Name>Tai Yee</Name>\n",
    "    <Street>8 Oak Avenue</Street>\n",
    "    <City>Old Town</City>\n",
    "    <State>PA</State>\n",
    "    <Zip>95819</Zip>\n",
    "    <Country>USA</Country>\n",
    "  </Address>\n",
    "  <DeliveryNotes>Please leave packages in shed by driveway.</DeliveryNotes>\n",
    "  <Items>\n",
    "    <Item PartNumber=\"872-AA\">\n",
    "      <ProductName>Lawnmower</ProductName>\n",
    "      <Quantity>1</Quantity>\n",
    "      <USPrice>148.95</USPrice>\n",
    "      <Comment>Confirm this is electric</Comment>\n",
    "    </Item>\n",
    "    <Item PartNumber=\"926-AA\">\n",
    "      <ProductName>Baby Monitor</ProductName>\n",
    "      <Quantity>2</Quantity>\n",
    "      <USPrice>39.98</USPrice>\n",
    "      <ShipDate>1999-05-21</ShipDate>\n",
    "    </Item>\n",
    "  </Items>\n",
    "</PurchaseOrder>\n",
    "'@"
   ]
  },
  {
   "cell_type": "markdown",
   "metadata": {},
   "source": [
    "## important docs/ref\n",
    "\n",
    "- main docs-dial\n",
    "  - [top level docs for `XPATH` expressions](https://docs.microsoft.com/en-us/dotnet/api/system.xml.xpath.extensions?view=net-6.0)\n",
    "  - [Xml.Linq](https://docs.microsoft.com/en-us/dotnet/api/system.xml.linq?view=net-6.0)\n",
    "\n",
    "## Main\n",
    "\n",
    "- [docs/csharp/linq](https://docs.microsoft.com/en-us/dotnet/csharp/linq/)\n",
    "- [Linq to XPATH for -- link? ](...)\n",
    "- [Contains the classes for LINQ to XML. LINQ to XML is an in-memory XML programming interface that enables you to modify XML documents efficiently and easily.](https://docs.microsoft.com/en-us/dotnet/api/system.xml.linq?view=net-6.0)\n",
    "- [top level docs for `XPATH` expressions](https://docs.microsoft.com/en-us/dotnet/api/system.xml.xpath.extensions?view=net-6.0)\n",
    "\n",
    "\n",
    "\n",
    "## `Linq` to `xml`\n",
    "\n",
    "- <https://docs.microsoft.com/en-us/dotnet/standard/linq/linq-xml-overview#linq-to-xml-is-an-xml-programming-interface>\n",
    "- [Comparison of XPath and LINQ to XML](https://docs.microsoft.com/en-us/dotnet/standard/linq/comparison-xpath-linq-xml)\n",
    "\n",
    "## Examples\n",
    "- [Example: Create two XML trees, change the namespaces, and combine the trees](https://docs.microsoft.com/en-us/dotnet/standard/linq/change-namespace-entire-xml-tree)\n",
    "- [Sample XML files for use in the docs](https://docs.microsoft.com/en-us/dotnet/standard/linq/sample-xml-file-typical-purchase-order)\n",
    "\n",
    "## See more:\n",
    "\n",
    "- <https://docs.microsoft.com/en-us/dotnet/standard/linq/write-queries-xml-namespaces>\n",
    "- <https://docs.microsoft.com/en-us/dotnet/standard/linq/linq-xml-overview>\n",
    "- <https://docs.microsoft.com/en-us/dotnet/standard/linq/concepts-terminology-functional-transformation>"
   ]
  },
  {
   "cell_type": "code",
   "execution_count": null,
   "metadata": {
    "dotnet_interactive": {
     "language": "pwsh"
    },
    "vscode": {
     "languageId": "dotnet-interactive.pwsh"
    }
   },
   "outputs": [],
   "source": []
  },
  {
   "cell_type": "code",
   "execution_count": null,
   "metadata": {
    "dotnet_interactive": {
     "language": "csharp"
    },
    "vscode": {
     "languageId": "dotnet-interactive.csharp"
    }
   },
   "outputs": [
    {
     "ename": "Error",
     "evalue": "(1,31): error CS0103: The name 'purchaseOrder' does not exist in the current context",
     "output_type": "error",
     "traceback": [
      "(1,31): error CS0103: The name 'purchaseOrder' does not exist in the current context"
     ]
    }
   ],
   "source": [
    "using System.Xml.Linq;\n",
    "var purchaseOrder = @\"\n",
    "IEnumerable<string> partNos = purchaseOrder.Descendants(\"Item\").Select(x => (string) x.Attribute(\"PartNumber\"));"
   ]
  },
  {
   "cell_type": "code",
   "execution_count": null,
   "metadata": {
    "dotnet_interactive": {
     "language": "csharp"
    },
    "vscode": {
     "languageId": "dotnet-interactive.csharp"
    }
   },
   "outputs": [],
   "source": []
  },
  {
   "cell_type": "markdown",
   "metadata": {},
   "source": [
    "- <https://docs.microsoft.com/en-us/dotnet/standard/linq/add-elements-attributes-nodes-xml-tree>"
   ]
  },
  {
   "cell_type": "code",
   "execution_count": null,
   "metadata": {
    "dotnet_interactive": {
     "language": "csharp"
    },
    "vscode": {
     "languageId": "dotnet-interactive.csharp"
    }
   },
   "outputs": [
    {
     "name": "stdout",
     "output_type": "stream",
     "text": [
      "<Root>\r\n",
      "  <Child1>1</Child1>\r\n",
      "  <Child2>2</Child2>\r\n",
      "  <Child3>3</Child3>\r\n",
      "  <Child4>4</Child4>\r\n",
      "  <Child5>5</Child5>\r\n",
      "  <NewChild>new content</NewChild>\r\n",
      "  <Element4>4</Element4>\r\n",
      "  <Element5>5</Element5>\r\n",
      "</Root>\r\n"
     ]
    }
   ],
   "source": [
    "using System.Xml.Linq;\n",
    "\n",
    "var srcTree = new XElement(\"Root\",\n",
    "    new XElement(\"Element1\", 1),\n",
    "    new XElement(\"Element2\", 2),\n",
    "    new XElement(\"Element3\", 3),\n",
    "    new XElement(\"Element4\", 4),\n",
    "    new XElement(\"Element5\", 5)\n",
    ");\n",
    "var xmlTree = new XElement(\"Root\",\n",
    "    new XElement(\"Child1\", 1),\n",
    "    new XElement(\"Child2\", 2),\n",
    "    new XElement(\"Child3\", 3),\n",
    "    new XElement(\"Child4\", 4),\n",
    "    new XElement(\"Child5\", 5)\n",
    ");\n",
    "xmlTree.Add(new XElement(\"NewChild\", \"new content\"));\n",
    "xmlTree.Add(\n",
    "    from el in srcTree.Elements()\n",
    "    where (int)el > 3\n",
    "    select el\n",
    ");\n",
    "// Even though Child9 doesn't exist in srcTree, the following statement won't\n",
    "// throw an exception, and nothing will be added to xmlTree.\n",
    "xmlTree.Add(srcTree.Element(\"Child9\"));\n",
    "Console.WriteLine(xmlTree)"
   ]
  },
  {
   "cell_type": "code",
   "execution_count": null,
   "metadata": {
    "dotnet_interactive": {
     "language": "pwsh"
    },
    "vscode": {
     "languageId": "dotnet-interactive.pwsh"
    }
   },
   "outputs": [
    {
     "name": "stdout",
     "output_type": "stream",
     "text": [
      "\r\n",
      "\u001b[32;1mName                           Value\u001b[0m\r\n",
      "\u001b[32;1m----                           -----\u001b[0m\r\n",
      "xml                            3\r\n",
      "\r\n"
     ]
    }
   ],
   "source": []
  }
 ],
 "metadata": {
  "kernelspec": {
   "display_name": ".NET (PowerShell)",
   "language": "PowerShell",
   "name": ".net-pwsh"
  },
  "language_info": {
   "name": "PowerShell"
  }
 },
 "nbformat": 4,
 "nbformat_minor": 2
}
