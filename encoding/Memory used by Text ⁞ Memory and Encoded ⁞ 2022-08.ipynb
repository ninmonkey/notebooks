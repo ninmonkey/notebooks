{
 "cells": [
  {
   "cell_type": "markdown",
   "metadata": {},
   "source": [
    "Get code from, or simplify it for the notebook from \n",
    "- [proto.nin\\ExtraByteEncoding - Metadata -- first.ps1](C:\\Users\\cppmo_000\\SkyDrive\\Documents\\2022\\Pwsh\\my_Github\\proto.nin\\ExtraByteEncoding - Metadata -- first.ps1)"
   ]
  },
  {
   "cell_type": "code",
   "execution_count": null,
   "metadata": {
    "dotnet_interactive": {
     "language": "pwsh"
    },
    "vscode": {
     "languageId": "dotnet-interactive.pwsh"
    }
   },
   "outputs": [],
   "source": [
    "import-module ninmonkey.console, classExplorer -ea ignore *>$null\n",
    "Enable-ImpliedReflection -Force\n"
   ]
  },
  {
   "cell_type": "code",
   "execution_count": null,
   "metadata": {
    "dotnet_interactive": {
     "language": "pwsh"
    },
    "vscode": {
     "languageId": "dotnet-interactive.pwsh"
    }
   },
   "outputs": [
    {
     "name": "stdout",
     "output_type": "stream",
     "text": [
      "\r\n",
      "\u001b[32;1mMyCommand                              : \u001b[0m\r\n",
      "\u001b[32;1m                                         \u001b[0m\r\n",
      "\u001b[32;1m                                         \u001b[0m# $MyInvocation | io  | fl\r\n",
      "\u001b[32;1m                                         \u001b[0m        $MyInvocation | fl\r\n",
      "\u001b[32;1m                                         \u001b[0m\r\n",
      "\u001b[32;1mBoundParameters                        : \u001b[0m{}\r\n",
      "\u001b[32;1mUnboundArguments                       : \u001b[0m{}\r\n",
      "\u001b[32;1mScriptLineNumber                       : \u001b[0m0\r\n",
      "\u001b[32;1mOffsetInLine                           : \u001b[0m0\r\n",
      "\u001b[32;1mHistoryId                              : \u001b[0m19\r\n",
      "\u001b[32;1mScriptName                             : \u001b[0m\r\n",
      "\u001b[32;1mLine                                   : \u001b[0m\r\n",
      "\u001b[32;1mPositionMessage                        : \u001b[0m\r\n",
      "\u001b[32;1mPSScriptRoot                           : \u001b[0m\r\n",
      "\u001b[32;1mPSCommandPath                          : \u001b[0m\r\n",
      "\u001b[32;1mInvocationName                         : \u001b[0m\r\n",
      "\u001b[32;1mPipelineLength                         : \u001b[0m2\r\n",
      "\u001b[32;1mPipelinePosition                       : \u001b[0m1\r\n",
      "\u001b[32;1mExpectingInput                         : \u001b[0mFalse\r\n",
      "\u001b[32;1mCommandOrigin                          : \u001b[0mRunspace\r\n",
      "\u001b[32;1mDisplayScriptPosition                  : \u001b[0m\r\n",
      "\u001b[32;1mScriptPosition                         : \u001b[0mSystem.Management.Automation.Language.EmptyScriptExtent\r\n",
      "\u001b[32;1mPipelineIterationInfo                  : \u001b[0m{0, 0, 2}\r\n",
      "\u001b[32;1m_scriptPosition                        : \u001b[0mSystem.Management.Automation.Language.EmptyScriptExtent\r\n",
      "\u001b[32;1m_invocationName                        : \u001b[0m\r\n",
      "\u001b[32;1m_boundParameters                       : \u001b[0m{}\r\n",
      "\u001b[32;1m_unboundArguments                      : \u001b[0m{}\r\n",
      "\u001b[32;1m<MyCommand>k__BackingField             : \u001b[0m\r\n",
      "\u001b[32;1m                                         \u001b[0m\r\n",
      "\u001b[32;1m                                         \u001b[0m# $MyInvocation | io  | fl\r\n",
      "\u001b[32;1m                                         \u001b[0m        $MyInvocation | fl\r\n",
      "\u001b[32;1m                                         \u001b[0m\r\n",
      "\u001b[32;1m<HistoryId>k__BackingField             : \u001b[0m19\r\n",
      "\u001b[32;1m<PipelineLength>k__BackingField        : \u001b[0m2\r\n",
      "\u001b[32;1m<PipelinePosition>k__BackingField      : \u001b[0m1\r\n",
      "\u001b[32;1m<ExpectingInput>k__BackingField        : \u001b[0mFalse\r\n",
      "\u001b[32;1m<CommandOrigin>k__BackingField         : \u001b[0mRunspace\r\n",
      "\u001b[32;1m<DisplayScriptPosition>k__BackingField : \u001b[0m\r\n",
      "\u001b[32;1m<PipelineIterationInfo>k__BackingField : \u001b[0m{0, 0, 2}\r\n",
      "\r\n",
      "\r\n"
     ]
    }
   ],
   "source": [
    "\n",
    "\n",
    "# $MyInvocation | io  | fl\n",
    "        $MyInvocation | fl\n"
   ]
  },
  {
   "cell_type": "code",
   "execution_count": null,
   "metadata": {
    "dotnet_interactive": {
     "language": "pwsh"
    },
    "vscode": {
     "languageId": "dotnet-interactive.pwsh"
    }
   },
   "outputs": [
    {
     "name": "stdout",
     "output_type": "stream",
     "text": [
      "\r\n",
      "\u001b[32;1mName                                   ShortValue                              Value\u001b[0m\r\n",
      "\u001b[32;1m----                                   ----------                              -----\u001b[0m\r\n",
      "UnboundArguments                       System.Collections.Generic.List`1[Syste \u001b[38;2;119;119;119m<\r\n",
      "                                                                               Blank>\u001b[0m\r\n",
      "_unboundArguments                      System.Collections.Generic.List`1[Syste \u001b[38;2;119;119;119m<\r\n",
      "                                                                               Blank>\u001b[0m\r\n",
      "_invocationName                                                                \u001b[38;2;119;119;119m<\r\n",
      "                                                                               ␀>\u001b[0m\r\n",
      "PSCommandPath                                                                  \u001b[38;2;119;119;119m<\r\n",
      "                                                                               ␀>\u001b[0m\r\n",
      "DisplayScriptPosition                                                          \u001b[38;2;119;119;119m<\r\n",
      "                                                                               ␀>\u001b[0m\r\n",
      "<DisplayScriptPosition>k__BackingField                                         \u001b[38;2;119;119;119m<\r\n",
      "                                                                               ␀>\u001b[0m\r\n",
      "CommandOrigin                          Runspace                                Runspace\r\n",
      "<CommandOrigin>k__BackingField         Runspace                                Runspace\r\n",
      "_scriptPosition                        System.Management.Automation.Language.E System.Management.Au\r\n",
      "                                                                               tomation.Language.Em\r\n",
      "                                                                               ptyScriptExtent\r\n",
      "ScriptPosition                         System.Management.Automation.Language.E System.Management.Au\r\n",
      "                                                                               tomation.Language.Em\r\n",
      "                                                                               ptyScriptExtent\r\n",
      "BoundParameters                        System.Management.Automation.PSBoundPar {}\r\n",
      "_boundParameters                       System.Management.Automation.PSBoundPar {}\r\n",
      "<MyCommand>k__BackingField                                                    \r\n",
      "                                                                              \r\n",
      "                                       $MyInvocation                           $MyInvocation\r\n",
      "                                       | io                                    | io\r\n",
      "                                       | ? -not { $nu                          | ? -not { $null\r\n",
      "                                                                               -eq $_.IsNull }\r\n",
      "                                                                               # | ft -AutoSize\r\n",
      "                                                                               MergedTypes, Name,\r\n",
      "                                                                               ShortValue, Value\r\n",
      "                                                                               -wrap\r\n",
      "                                                                               | ft -AutoSize\r\n",
      "                                                                               Name, ShortValue,\r\n",
      "                                                                               Value -wrap\r\n",
      "                                                                              \r\n",
      "                                                                              \r\n",
      "                                                                               $MyInvocation.Script\r\n",
      "                                                                               LineNumber\r\n",
      "                                                                               hr\r\n",
      "                                                                               # $myInvocation.Comm\r\n",
      "                                                                               andOrigin.fi\r\n",
      "MyCommand                                                                     \r\n",
      "                                                                              \r\n",
      "                                       $MyInvocation                           $MyInvocation\r\n",
      "                                       | io                                    | io\r\n",
      "                                       | ? -not { $nu                          | ? -not { $null\r\n",
      "                                                                               -eq $_.IsNull }\r\n",
      "                                                                               # | ft -AutoSize\r\n",
      "                                                                               MergedTypes, Name,\r\n",
      "                                                                               ShortValue, Value\r\n",
      "                                                                               -wrap\r\n",
      "                                                                               | ft -AutoSize\r\n",
      "                                                                               Name, ShortValue,\r\n",
      "                                                                               Value -wrap\r\n",
      "                                                                              \r\n",
      "                                                                              \r\n",
      "                                                                               $MyInvocation.Script\r\n",
      "                                                                               LineNumber\r\n",
      "                                                                               hr\r\n",
      "                                                                               # $myInvocation.Comm\r\n",
      "                                                                               andOrigin.fi\r\n",
      "ExpectingInput                         False                                   False\r\n",
      "<ExpectingInput>k__BackingField        False                                   False\r\n",
      "PipelineLength                         2                                       2\r\n",
      "ScriptLineNumber                       0                                       0\r\n",
      "<PipelinePosition>k__BackingField      1                                       1\r\n",
      "<PipelineLength>k__BackingField        2                                       2\r\n",
      "OffsetInLine                           0                                       0\r\n",
      "PipelinePosition                       1                                       1\r\n",
      "<PipelineIterationInfo>k__BackingField System.Int32[]                          {0, 0, 24}\r\n",
      "PipelineIterationInfo                  System.Int32[]                          {0, 0, 25}\r\n",
      "<HistoryId>k__BackingField             27                                      27\r\n",
      "HistoryId                              27                                      27\r\n",
      "Line                                                                           \u001b[38;2;119;119;119m<\r\n",
      "                                                                               Blank>\u001b[0m\r\n",
      "PositionMessage                                                                \u001b[38;2;119;119;119m<\r\n",
      "                                                                               Blank>\u001b[0m\r\n",
      "PSScriptRoot                                                                   \u001b[38;2;119;119;119m<\r\n",
      "                                                                               Blank>\u001b[0m\r\n",
      "InvocationName                                                                 \u001b[38;2;119;119;119m<\r\n",
      "                                                                               Blank>\u001b[0m\r\n",
      "ScriptName                                                                     \u001b[38;2;119;119;119m<\r\n",
      "                                                                               Blank>\u001b[0m\r\n",
      "\r\n",
      "0\r\n",
      "\u001b[38;2;153;153;153m----------------------------------------------------------------------------------------------------\u001b[39m\r\n"
     ]
    }
   ],
   "source": [
    "\n",
    "\n",
    "$MyInvocation\n",
    "| io\n",
    "| ? -not { $null -eq $_.IsNull }\n",
    "# | ft -AutoSize MergedTypes, Name, ShortValue, Value -wrap\n",
    "| ft -AutoSize Name, ShortValue, Value -wrap\n",
    "\n",
    "\n",
    "$MyInvocation.ScriptLineNumber\n"
   ]
  },
  {
   "cell_type": "code",
   "execution_count": null,
   "metadata": {
    "dotnet_interactive": {
     "language": "pwsh"
    },
    "vscode": {
     "languageId": "dotnet-interactive.pwsh"
    }
   },
   "outputs": [
    {
     "name": "stdout",
     "output_type": "stream",
     "text": [
      "\u001b[38;2;153;153;153m----------------------------------------------------------------------------------------------------\u001b[39m\r\n",
      "\r\n",
      "   ReflectedType: \u001b[37mSystem\u001b[0m\u001b[90m.\u001b[0m\u001b[37mManagement\u001b[0m\u001b[90m.\u001b[0m\u001b[37mAutomation\u001b[0m\u001b[90m.\u001b[\r\n",
      "0m\u001b[37mCommandOrigin\u001b[0m\r\n",
      "\r\n",
      "\u001b[32;1mName                  MemberType   Definition\u001b[0m\r\n",
      "\u001b[32;1m----                  ----------   ----------\u001b[0m\r\n",
      "value__               Field        \r\n",
      "Runspace              Field        \r\n",
      "Internal              Field        \r\n",
      "\r\n",
      "\r\n",
      "\u001b[32;1mReported                                                                           Type\u001b[0m\r\n",
      "\u001b[32;1m--------                                                                           ----            \u001b[0m\r\n",
      "[\u001b[37mList\u001b[0m\u001b[90m<\u001b[0m\u001b[92mobject\u001b[0m\u001b[90m>\u001b[0m]                                \u001b[0m                 \r\n",
      "[\u001b[37mList\u001b[0m\u001b[90m<\u001b[0m\u001b[92mobject\u001b[0m\u001b[90m>\u001b[0m]                                \u001b[0m                 \r\n",
      "[\u001b[92mstring\u001b[0m]                                                                 \u001b[0m                 \r\n",
      "[\u001b[92mstring\u001b[0m]                                                                 \u001b[0m                 \r\n",
      "[\u001b[37mIScriptExtent\u001b[0m]                                                          \u001b[0m                 \r\n",
      "[\u001b[37mIScriptExtent\u001b[0m]                                                          \u001b[0m                 \r\n",
      "[\u001b[37mCommandOrigin\u001b[0m]                                                          \u001b[0m [\u001b[37mCommandOr…\u001b[0m\r\n",
      "[\u001b[37mCommandOrigin\u001b[0m]                                                          \u001b[0m [\u001b[37mCommandOr…\u001b[0m\r\n",
      "[\u001b[37mIScriptExtent\u001b[0m]                                                          \u001b[0m [\u001b[37mEmptyScri…\u001b[0m\r\n",
      "[\u001b[37mIScriptExtent\u001b[0m]                                                          \u001b[0m [\u001b[37mEmptyScri…\u001b[0m\r\n",
      "[\u001b[37mDictionary\u001b[0m\u001b[90m<\u001b[0m\u001b[92mstring\u001b[0m\u001b[90m,\u001b[0m \u001b[92mobject\u001b[0m\u001b[90m>\u001b[0m]\u001b[0m [\u001b[37mPSBoundPa…\u001b[0m\r\n",
      "[\u001b[37mDictionary\u001b[0m\u001b[90m<\u001b[0m\u001b[92mstring\u001b[0m\u001b[90m,\u001b[0m \u001b[92mobject\u001b[0m\u001b[90m>\u001b[0m]\u001b[0m [\u001b[37mPSBoundPa…\u001b[0m\r\n",
      "[\u001b[37mCommandInfo\u001b[0m]                                                            \u001b[0m [\u001b[37mScriptInf…\u001b[0m\r\n",
      "[\u001b[37mCommandInfo\u001b[0m]                                                            \u001b[0m [\u001b[37mScriptInf…\u001b[0m\r\n",
      "[\u001b[92mbool\u001b[0m]                                                                   \u001b[0m [\u001b[92mbool\u001b[0m] \u001b[0m\r\n",
      "[\u001b[92mbool\u001b[0m]                                                                   \u001b[0m [\u001b[92mbool\u001b[0m] \u001b[0m\r\n",
      "[\u001b[92mint\u001b[0m]                                                                    \u001b[0m [\u001b[92mint\u001b[0m]  \u001b[0m\r\n",
      "[\u001b[92mint\u001b[0m]                                                                    \u001b[0m [\u001b[92mint\u001b[0m]  \u001b[0m\r\n",
      "[\u001b[92mint\u001b[0m]                                                                    \u001b[0m [\u001b[92mint\u001b[0m]  \u001b[0m\r\n",
      "[\u001b[92mint\u001b[0m]                                                                    \u001b[0m [\u001b[92mint\u001b[0m]  \u001b[0m\r\n",
      "[\u001b[92mint\u001b[0m]                                                                    \u001b[0m [\u001b[92mint\u001b[0m]  \u001b[0m\r\n",
      "[\u001b[92mint\u001b[0m]                                                                    \u001b[0m [\u001b[92mint\u001b[0m]  \u001b[0m\r\n",
      "[\u001b[92mint\u001b[0m\u001b[90m[\u001b[0m\u001b[90m]\u001b[0m]                                                \u001b[0m {[\u001b[92mint\u001b[0m]…\u001b[0m\r\n",
      "[\u001b[92mint\u001b[0m\u001b[90m[\u001b[0m\u001b[90m]\u001b[0m]                                                \u001b[0m {[\u001b[92mint\u001b[0m]…\u001b[0m\r\n",
      "[\u001b[92mlong\u001b[0m]                                                                   \u001b[0m [\u001b[92mlong\u001b[0m] \u001b[0m\r\n",
      "[\u001b[92mlong\u001b[0m]                                                                   \u001b[0m [\u001b[92mlong\u001b[0m] \u001b[0m\r\n",
      "[\u001b[92mstring\u001b[0m]                                                                 \u001b[0m [\u001b[92mstring\u001b[0…\u001b[0m\r\n",
      "[\u001b[92mstring\u001b[0m]                                                                 \u001b[0m [\u001b[92mstring\u001b[0…\u001b[0m\r\n",
      "[\u001b[92mstring\u001b[0m]                                                                 \u001b[0m [\u001b[92mstring\u001b[0…\u001b[0m\r\n",
      "[\u001b[92mstring\u001b[0m]                                                                 \u001b[0m [\u001b[92mstring\u001b[0…\u001b[0m\r\n",
      "[\u001b[92mstring\u001b[0m]                                                                 \u001b[0m [\u001b[92mstring\u001b[0…\u001b[0m\r\n",
      "\r\n"
     ]
    }
   ],
   "source": [
    "hr\n",
    "$myInvocation.CommandOrigin | fm\n",
    "\n",
    "$myInvocation | iot |fl\n",
    "# | Fm\n"
   ]
  },
  {
   "cell_type": "code",
   "execution_count": null,
   "metadata": {
    "vscode": {
     "languageId": "dotnet-interactive.pwsh"
    }
   },
   "outputs": [
    {
     "name": "stdout",
     "output_type": "stream",
     "text": [
      "\u001b[91mGet-Member: \r\n",
      "\u001b[96mLine |\r\n",
      "\u001b[96m   8 | \u001b[0m $MyInvocation.CommandOrigin.Runspace |  \u001b[96mgm -force *\u001b[0m\r\n",
      "\u001b[96m     | \u001b[91m                                         ~~~~~~~~~~~\r\n",
      "\u001b[91m\u001b[96m     | \u001b[91mYou must specify an object for the Get-Member cmdlet.\u001b[0m\r\n"
     ]
    }
   ],
   "source": [
    "\n",
    "# $MyInvocation\n",
    "# | io\n",
    "# | ? -not { $null -eq $_.IsNull }\n",
    "# # | ft -AutoSize MergedTypes, Name, ShortValue, Value -wrap\n",
    "# | ft -AutoSize Name, ShortValue, MergedTypes #  -wrap\n",
    "\n",
    "# $MyInvocation.CommandOrigin.Runspace |  gm -force *\n",
    "\n",
    "return \n",
    "hr\n",
    "$MyInvocation\n",
    "| io\n",
    "| ? -not { $null -eq $_.IsNull }\n",
    "# | ft -AutoSize MergedTypes, Name, ShortValue, Value -wrap\n",
    "| ft -AutoSize Name, ShortValue, MergedTypes #  -wrap"
   ]
  },
  {
   "cell_type": "code",
   "execution_count": null,
   "metadata": {
    "dotnet_interactive": {
     "language": "pwsh"
    },
    "vscode": {
     "languageId": "dotnet-interactive.pwsh"
    }
   },
   "outputs": [
    {
     "name": "stdout",
     "output_type": "stream",
     "text": [
      "\u001b[91mParserError: \r\n",
      "\u001b[96mLine |\r\n",
      "\u001b[96m   3 | \u001b[0m    [system.text.encoding]::ASCII.getbytes($sampleStr).count\u001b[96m\u001b[0m\r\n",
      "\u001b[96m     | \u001b[91m                                                            ~\r\n",
      "\u001b[91m\u001b[96m     | \u001b[91mMissing '=' operator after key in hash literal.\r\n",
      "\u001b[0m\r\n"
     ]
    }
   ],
   "source": [
    "Using namespace System.Collections.Generic\n",
    "using namespace System.Text\n",
    "\n",
    "function newEncoding {\n",
    "    # let the user attempt to pass anything, codepate int or string\n",
    "    [OutputType('System.Text.Encoding')]\n",
    "    param(\n",
    "        [ArgumentCompletions('utf-8', 'unicode', 'ascii')]\n",
    "        [Parameter(ValueFromPipeline, Mandatory)]\n",
    "        [Alias('Name')]\n",
    "        [object[]]$EncodingName\n",
    "    )\n",
    "\n",
    "    process {\n",
    "        foreach ($item in $EncodingName) { \n",
    "            [Text.Encoding]::GetEncoding( $Item )\n",
    "        }\n",
    "    }\n",
    "}\n",
    "\n",
    "function encodeAs {\n",
    "    # Encode text as...\n",
    "    [OutputType('[System.Byte[]]')]\n",
    "    param(\n",
    "        # Strings to excodee \n",
    "        [Parameter(ValueFromPipeline)]\n",
    "        [string]$InputText,\n",
    "        \n",
    "        # Encoding type to use\n",
    "        [ArgumentCompletions('utf-8', 'unicode', 'ascii')]\n",
    "        [Parameter(Mandatory, Position = 0)]\n",
    "        \n",
    "        [string]$EncodingName\n",
    "    )\n",
    "    begin {\n",
    "        $curEncoder = newEncoding -EncodingName $EncodingName\n",
    "    }\n",
    "    process {\n",
    "        if ($null -eq $InputText -or $InputText.count -eq 0) {\n",
    "            return\n",
    "        }\n",
    "        $InputText ??= ''\n",
    "        $curEncoder.GetBytes( $InputText )\n",
    "        \n",
    "    }\n",
    "}\n",
    "function decodeAs {\n",
    "    # dEncode text from this encoding.\n",
    "    [OutputType('System.Text')]\n",
    "    param(\n",
    "        # Strings to excodee \n",
    "        \n",
    "        [Parameter(ValueFromPipeline)]\n",
    "        [bytes[]]$InputBytes,\n",
    "        \n",
    "        # Encoding type to use\n",
    "        [Parameter(Mandatory, Position = 0)]\n",
    "        [validateSet('utf8', 'Unicode', 'Ascii')]\n",
    "        [string]$EncodingName\n",
    "    )\n",
    "}\n",
    "\n",
    "$Samples = @{ \n",
    "    $Family3 = '👨‍👧‍👶'\n",
    "    $Monkey  = '🐒'\n",
    "    $Ascii   = 'Hi world', @(0..127 | ForEach-Object { [char]$_ } | Join-String -sep '.') | Join-String -sep ';'\n",
    "}\n",
    "$enc.GetByteCount( $str )\n",
    "\n",
    "#   @{\n",
    "\n",
    "#    [system.text.encoding]::ASCII.getbytes($sampleStr).count\n",
    "#    [system.text.encoding]::UTF8.getbytes($sampleStr).count\n",
    "#    [system.text.encoding]::unicode.getbytes($sampleStr).count\n",
    "\n",
    "# }\n",
    "#   @{\n",
    "\n",
    "#    [system.text.encoding]::ASCII.getbytes($sampleStr).count\n",
    "#    [system.text.encoding]::UTF8.getbytes($sampleStr).count\n",
    "#    [system.text.encoding]::unicode.getbytes($sampleStr).count\n",
    "\n",
    "# }"
   ]
  },
  {
   "cell_type": "code",
   "execution_count": null,
   "metadata": {
    "dotnet_interactive": {
     "language": "pwsh"
    },
    "vscode": {
     "languageId": "dotnet-interactive.pwsh"
    }
   },
   "outputs": [
    {
     "name": "stdout",
     "output_type": "stream",
     "text": [
      "\r\n",
      "\u001b[32;1mName                           Value\u001b[0m\r\n",
      "\u001b[32;1m----                           -----\u001b[0m\r\n",
      "ALLUSERSPROFILE                C:\\ProgramData\r\n",
      "APPDATA                        C:\\Users\\cppmo_000\\AppData\\Roaming\r\n",
      "APPLICATION_INSIGHTS_NO_DIAGN… 1\r\n",
      "asl.log                        Destination=file\r\n",
      "ChocolateyInstall              C:\\ProgramData\\chocolatey\r\n",
      "ChocolateyLastPathUpdate       132710930768116071\r\n",
      "ChocolateyToolsLocation        C:\\tools\r\n",
      "CHROME_CRASHPAD_PIPE_NAME      \\\\.\\pipe\\crashpad_14896_TXKWDZTEVONXMJZV\r\n",
      "CommonProgramFiles             C:\\Program Files\\Common Files\r\n",
      "CommonProgramFiles(x86)        C:\\Program Files (x86)\\Common Files\r\n",
      "CommonProgramW6432             C:\\Program Files\\Common Files\r\n",
      "COMPUTERNAME                   NIN8\r\n",
      "ComSpec                        C:\\WINDOWS\\system32\\cmd.exe\r\n",
      "DriverData                     C:\\Windows\\System32\\Drivers\\DriverData\r\n",
      "ELECTRON_RUN_AS_NODE           1\r\n",
      "FP_NO_HOST_CHECK               NO\r\n",
      "FPS_BROWSER_APP_PROFILE_STRING Internet Explorer\r\n",
      "FPS_BROWSER_USER_PROFILE_STRI… Default\r\n",
      "HOMEDRIVE                      C:\r\n",
      "HOMEPATH                       \\Users\\cppmo_000\r\n",
      "LOCALAPPDATA                   C:\\Users\\cppmo_000\\AppData\\Local\r\n",
      "LOGONSERVER                    \\\\NIN8\r\n",
      "MSMPI_BENCHMARKS               C:\\Program Files\\Microsoft MPI\\Benchmarks\\\r\n",
      "MSMPI_BIN                      C:\\Program Files\\Microsoft MPI\\Bin\\\r\n",
      "Nin_Dotfiles                   C:\\Users\\cppmo_000\\SkyDrive\\Documents\\2021\\dotfiles_git\r\n",
      "Nin_Home                       C:\\Users\\cppmo_000\\SkyDrive\\Documents\\2021\r\n",
      "Nin_PSModulePath               C:\\Users\\cppmo_000\\SkyDrive\\Documents\\2021\\Powershell\\My_Github\r\n",
      "NinNow                         C:\\Users\\cppmo_000\\SkyDrive\\Documents\\2021\r\n",
      "NUMBER_OF_PROCESSORS           12\r\n",
      "OneDrive                       C:\\Users\\cppmo_000\\SkyDrive\r\n",
      "OneDriveConsumer               C:\\Users\\cppmo_000\\SkyDrive\r\n",
      "ORIGINAL_XDG_CURRENT_DESKTOP   undefined\r\n",
      "OS                             Windows_NT\r\n",
      "Path                           C:\\tools\\ruby31\\bin;C:\\Python310\\Scripts\\;C:\\Python310\\;C:\\Program …\r\n",
      "PATHEXT                        .COM;.EXE;.BAT;.CMD;.VBS;.VBE;.JS;.JSE;.WSF;.WSH;.MSC;.PY;.PYW;.RB;…\r\n",
      "POWERSHELL_DISTRIBUTION_CHANN… dotnet-interactive-powershell\r\n",
      "PROCESSOR_ARCHITECTURE         AMD64\r\n",
      "PROCESSOR_IDENTIFIER           Intel64 Family 6 Model 158 Stepping 10, GenuineIntel\r\n",
      "PROCESSOR_LEVEL                6\r\n",
      "PROCESSOR_REVISION             9e0a\r\n",
      "ProgramData                    C:\\ProgramData\r\n",
      "ProgramFiles                   C:\\Program Files\r\n",
      "ProgramFiles(x86)              C:\\Program Files (x86)\r\n",
      "ProgramW6432                   C:\\Program Files\r\n",
      "PSExecutionPolicyPreference    RemoteSigned\r\n",
      "PSModulePath                   C:\\Users\\cppmo_000\\.nuget\\packages\\microsoft.dotnet-interactive\\1.0…\r\n",
      "PUBLIC                         C:\\Users\\Public\r\n",
      "SESSIONNAME                    Console\r\n",
      "SystemDrive                    C:\r\n",
      "SystemRoot                     C:\\WINDOWS\r\n",
      "TEMP                           C:\\Users\\CPPMO_~1\\AppData\\Local\\Temp\r\n",
      "TempNin                        C:\\Users\\cppmo_000\\SkyDrive\\Documents\\2021\\profile_dump\r\n",
      "TMP                            C:\\Users\\CPPMO_~1\\AppData\\Local\\Temp\r\n",
      "USERDOMAIN                     NIN8\r\n",
      "USERDOMAIN_ROAMINGPROFILE      NIN8\r\n",
      "USERNAME                       cppmo_000\r\n",
      "USERPROFILE                    C:\\Users\\cppmo_000\r\n",
      "VS120COMNTOOLS                 C:\\Program Files (x86)\\Microsoft Visual Studio 12.0\\Common7\\Tools\\\r\n",
      "VS140COMNTOOLS                 C:\\Program Files (x86)\\Microsoft Visual Studio 14.0\\Common7\\Tools\\\r\n",
      "VSCODE_AMD_ENTRYPOINT          vs/workbench/api/node/extensionHostProcess\r\n",
      "VSCODE_CODE_CACHE_PATH         C:\\Users\\cppmo_000\\AppData\\Roaming\\Code\\CachedData\\3b889b090b5ad579…\r\n",
      "VSCODE_CWD                     C:\\Program Files\\Microsoft VS Code\r\n",
      "VSCODE_HANDLES_UNCAUGHT_ERRORS true\r\n",
      "VSCODE_IPC_HOOK                \\\\.\\pipe\\df66110475e3c6651d19a74b09120421-1.69.2-main-sock\r\n",
      "VSCODE_NLS_CONFIG              {\"locale\":\"en-us\",\"availableLanguages\":{},\"_languagePackSupport\":tr…\r\n",
      "VSCODE_PID                     14896\r\n",
      "WALLABY_PRODUCTION             true\r\n",
      "windir                         C:\\WINDOWS\r\n",
      "\r\n"
     ]
    }
   ],
   "source": []
  }
 ],
 "metadata": {
  "kernelspec": {
   "display_name": ".NET (PowerShell)",
   "language": "PowerShell",
   "name": ".net-pwsh"
  },
  "language_info": {
   "name": "PowerShell"
  }
 },
 "nbformat": 4,
 "nbformat_minor": 2
}
