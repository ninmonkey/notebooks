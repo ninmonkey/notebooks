{
 "cells": [
  {
   "cell_type": "code",
   "execution_count": null,
   "metadata": {
    "dotnet_interactive": {
     "language": "pwsh"
    },
    "vscode": {
     "languageId": "dotnet-interactive.pwsh"
    }
   },
   "outputs": [
    {
     "name": "stdout",
     "output_type": "stream",
     "text": [
      "\u001b[91mParserError: \r\n",
      "\u001b[96mLine |\r\n",
      "\u001b[96m   3 | \u001b[0m    [system.text.encoding]::ASCII.getbytes($sampleStr).count\u001b[96m\u001b[0m\r\n",
      "\u001b[96m     | \u001b[91m                                                            ~\r\n",
      "\u001b[91m\u001b[96m     | \u001b[91mMissing '=' operator after key in hash literal.\r\n",
      "\u001b[0m\r\n"
     ]
    }
   ],
   "source": [
    "Using namespace System.Collections.Generic\n",
    "using namespace System.Text\n",
    "\n",
    "function newEncoding {\n",
    "    # let the user attempt to pass anything, codepate int or string\n",
    "    [OutputType('System.Text.Encoding')]\n",
    "    param(\n",
    "        [ArgumentCompletions('utf-8', 'unicode', 'ascii')]\n",
    "        [Parameter(ValueFromPipeline, Mandatory)]\n",
    "        [Alias('Name')]\n",
    "        [object[]]$EncodingName\n",
    "    )\n",
    "\n",
    "    process {\n",
    "        foreach ($item in $EncodingName) { \n",
    "            [Text.Encoding]::GetEncoding( $Item )\n",
    "        }\n",
    "    }\n",
    "}\n",
    "\n",
    "function encodeAs {\n",
    "    # Encode text as...\n",
    "    [OutputType('[System.Byte[]]')]\n",
    "    param(\n",
    "        # Strings to excodee \n",
    "        [Parameter(ValueFromPipeline)]\n",
    "        [string]$InputText,\n",
    "        \n",
    "        # Encoding type to use\n",
    "        [ArgumentCompletions('utf-8', 'unicode', 'ascii')]\n",
    "        [Parameter(Mandatory, Position = 0)]\n",
    "        \n",
    "        [string]$EncodingName\n",
    "    )\n",
    "    begin {\n",
    "        $curEncoder = newEncoding -EncodingName $EncodingName\n",
    "    }\n",
    "    process {\n",
    "        if ($null -eq $InputText -or $InputText.count -eq 0) {\n",
    "            return\n",
    "        }\n",
    "        $InputText ??= ''\n",
    "        $curEncoder.GetBytes( $InputText )\n",
    "        \n",
    "    }\n",
    "}\n",
    "function decodeAs {\n",
    "    # dEncode text from this encoding.\n",
    "    [OutputType('System.Text')]\n",
    "    param(\n",
    "        # Strings to excodee \n",
    "        \n",
    "        [Parameter(ValueFromPipeline)]\n",
    "        [bytes[]]$InputBytes,\n",
    "        \n",
    "        # Encoding type to use\n",
    "        [Parameter(Mandatory, Position = 0)]\n",
    "        [validateSet('utf8', 'Unicode', 'Ascii')]\n",
    "        [string]$EncodingName\n",
    "    )\n",
    "}\n",
    "\n",
    "$Samples = @{ \n",
    "    $Family3 = '👨‍👧‍👶'\n",
    "    $Monkey  = '🐒'\n",
    "    $Ascii   = 'Hi world', @(0..127 | ForEach-Object { [char]$_ } | Join-String -sep '.') | Join-String -sep ';'\n",
    "}\n",
    "$enc.GetByteCount( $str )\n",
    "\n",
    "#   @{\n",
    "\n",
    "#    [system.text.encoding]::ASCII.getbytes($sampleStr).count\n",
    "#    [system.text.encoding]::UTF8.getbytes($sampleStr).count\n",
    "#    [system.text.encoding]::unicode.getbytes($sampleStr).count\n",
    "\n",
    "# }\n",
    "#   @{\n",
    "\n",
    "#    [system.text.encoding]::ASCII.getbytes($sampleStr).count\n",
    "#    [system.text.encoding]::UTF8.getbytes($sampleStr).count\n",
    "#    [system.text.encoding]::unicode.getbytes($sampleStr).count\n",
    "\n",
    "# }"
   ]
  }
 ],
 "metadata": {
  "kernelspec": {
   "display_name": ".NET (PowerShell)",
   "language": "PowerShell",
   "name": ".net-pwsh"
  },
  "language_info": {
   "name": "PowerShell"
  }
 },
 "nbformat": 4,
 "nbformat_minor": 2
}
